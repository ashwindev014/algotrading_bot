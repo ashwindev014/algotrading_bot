{
 "cells": [
  {
   "cell_type": "markdown",
   "metadata": {},
   "source": [
    "# Coding Exercises"
   ]
  },
  {
   "cell_type": "markdown",
   "metadata": {},
   "source": [
    "## Financial Data Analysis"
   ]
  },
  {
   "cell_type": "markdown",
   "metadata": {},
   "source": [
    "### Exercise 2: Financial Time Series"
   ]
  },
  {
   "cell_type": "markdown",
   "metadata": {},
   "source": [
    "Now, you will have the opportunity to analyze your own dataset. <br>\n",
    "__Follow the instructions__ and insert your code! You are either requested to \n",
    "- Complete the Code and __Fill in the gaps__. Gaps are marked with \"__---__\" and are __placeholders__ for your code fragment \n",
    "- Write Code completely __on your own__ "
   ]
  },
  {
   "cell_type": "markdown",
   "metadata": {},
   "source": [
    "In some exercises, you will find questions that can only be answered, if your code is correct and returns the right output! The correct answer is provided below your coding cell. There you can check whether your code is correct."
   ]
  },
  {
   "cell_type": "markdown",
   "metadata": {},
   "source": [
    "### Have Fun!"
   ]
  },
  {
   "cell_type": "markdown",
   "metadata": {},
   "source": [
    "--------------------------------------------------------------------------------------------------------------"
   ]
  },
  {
   "cell_type": "markdown",
   "metadata": {},
   "source": [
    "## Option 1: Self_guided"
   ]
  },
  {
   "cell_type": "markdown",
   "metadata": {},
   "source": [
    "Import the us stocks dataset (__us_stocks.csv__) and select the Adjusted Close (__Adj Close__) for all six stocks from __31-12-2015__ (incl.) until __31-12-2018__ (incl.). Save the DataFrame in the variable __stocks__ and work through the next questions with this DataFrame!"
   ]
  },
  {
   "cell_type": "markdown",
   "metadata": {},
   "source": [
    "- __Visualize__ the Adjusted Close of the six stocks __over time__!"
   ]
  },
  {
   "cell_type": "markdown",
   "metadata": {},
   "source": [
    "- __Visualize__ the __normalized__ Adjusted Close of the six stocks __over time__, each starting at a __Base Value of 100__!"
   ]
  },
  {
   "cell_type": "markdown",
   "metadata": {},
   "source": [
    "- Calculate __monthly returns__ for all six stocks and create a new __returns__ DataFrame!"
   ]
  },
  {
   "cell_type": "markdown",
   "metadata": {},
   "source": [
    "- Calculate the __annualized mean return__ and the __annualized standard deviation__ of returns for all six stocks!"
   ]
  },
  {
   "cell_type": "markdown",
   "metadata": {},
   "source": [
    "- __Visualize risk/return__ of all six stocks in a (total) risk / return framework. (annualized std on the x-axis, annualized mean returns on the y-axis). <br>\n",
    "Identify the __best performing__ stock and the __worst performing__ stock (in terms of __risk / return__)"
   ]
  },
  {
   "cell_type": "markdown",
   "metadata": {},
   "source": [
    "- __Visualize__ the __correlation matrix__ of monthly returns with a __Seaborn Heatmap__. Which stocks-pair shows the __highest (positive) correlation__ of monthly returns?"
   ]
  },
  {
   "cell_type": "markdown",
   "metadata": {},
   "source": [
    "__Ticker Symbols__:\n",
    "- AXP : American Express\n",
    "- FB : Facebook\n",
    "- INTC : Intel\n",
    "- MCD : McDonalds \n",
    "- PG : Procter & Gamble\n",
    "- WMT: Walmart"
   ]
  },
  {
   "cell_type": "markdown",
   "metadata": {},
   "source": [
    "------------------------"
   ]
  },
  {
   "cell_type": "markdown",
   "metadata": {},
   "source": [
    "## Option 2: Guided and Instructed"
   ]
  },
  {
   "cell_type": "markdown",
   "metadata": {},
   "source": [
    "# STOP HERE, IF YOU WANT TO DO THE EXERCISE ON YOUR OWN!"
   ]
  },
  {
   "cell_type": "markdown",
   "metadata": {},
   "source": [
    "+++++++++++++++++++++++++++++++++++++++++++++++++++++++++++++++++++++++++++++++++++++++++++++++++++++++++++++++++++++++++"
   ]
  },
  {
   "cell_type": "code",
   "execution_count": 1,
   "metadata": {},
   "outputs": [],
   "source": [
    "#run the cell!\n",
    "import pandas as pd\n",
    "import numpy as np\n",
    "import matplotlib.pyplot as plt\n",
    "plt.style.use(\"seaborn\")"
   ]
  },
  {
   "cell_type": "markdown",
   "metadata": {},
   "source": [
    "1. __Import__ daily stock price data (__us_stocks.csv__) and __inspect__! Handle the __MultiIndex__! __Fill in the gaps__!"
   ]
  },
  {
   "cell_type": "code",
   "execution_count": 13,
   "metadata": {},
   "outputs": [],
   "source": [
    "stocks = pd.read_csv((\"us_stocks.csv\"), header = [0,1], index_col= [0], parse_dates= [0])"
   ]
  },
  {
   "cell_type": "code",
   "execution_count": 14,
   "metadata": {},
   "outputs": [
    {
     "data": {
      "text/html": [
       "<div>\n",
       "<style scoped>\n",
       "    .dataframe tbody tr th:only-of-type {\n",
       "        vertical-align: middle;\n",
       "    }\n",
       "\n",
       "    .dataframe tbody tr th {\n",
       "        vertical-align: top;\n",
       "    }\n",
       "\n",
       "    .dataframe thead tr th {\n",
       "        text-align: left;\n",
       "    }\n",
       "\n",
       "    .dataframe thead tr:last-of-type th {\n",
       "        text-align: right;\n",
       "    }\n",
       "</style>\n",
       "<table border=\"1\" class=\"dataframe\">\n",
       "  <thead>\n",
       "    <tr>\n",
       "      <th></th>\n",
       "      <th colspan=\"6\" halign=\"left\">Open</th>\n",
       "      <th colspan=\"4\" halign=\"left\">High</th>\n",
       "      <th>...</th>\n",
       "      <th colspan=\"4\" halign=\"left\">Adj Close</th>\n",
       "      <th colspan=\"6\" halign=\"left\">Volume</th>\n",
       "    </tr>\n",
       "    <tr>\n",
       "      <th></th>\n",
       "      <th>AXP</th>\n",
       "      <th>FB</th>\n",
       "      <th>INTC</th>\n",
       "      <th>MCD</th>\n",
       "      <th>PG</th>\n",
       "      <th>WMT</th>\n",
       "      <th>AXP</th>\n",
       "      <th>FB</th>\n",
       "      <th>INTC</th>\n",
       "      <th>MCD</th>\n",
       "      <th>...</th>\n",
       "      <th>INTC</th>\n",
       "      <th>MCD</th>\n",
       "      <th>PG</th>\n",
       "      <th>WMT</th>\n",
       "      <th>AXP</th>\n",
       "      <th>FB</th>\n",
       "      <th>INTC</th>\n",
       "      <th>MCD</th>\n",
       "      <th>PG</th>\n",
       "      <th>WMT</th>\n",
       "    </tr>\n",
       "    <tr>\n",
       "      <th>Date</th>\n",
       "      <th></th>\n",
       "      <th></th>\n",
       "      <th></th>\n",
       "      <th></th>\n",
       "      <th></th>\n",
       "      <th></th>\n",
       "      <th></th>\n",
       "      <th></th>\n",
       "      <th></th>\n",
       "      <th></th>\n",
       "      <th></th>\n",
       "      <th></th>\n",
       "      <th></th>\n",
       "      <th></th>\n",
       "      <th></th>\n",
       "      <th></th>\n",
       "      <th></th>\n",
       "      <th></th>\n",
       "      <th></th>\n",
       "      <th></th>\n",
       "      <th></th>\n",
       "    </tr>\n",
       "  </thead>\n",
       "  <tbody>\n",
       "    <tr>\n",
       "      <th>2009-12-31</th>\n",
       "      <td>40.900002</td>\n",
       "      <td>NaN</td>\n",
       "      <td>20.600000</td>\n",
       "      <td>62.970001</td>\n",
       "      <td>61.520000</td>\n",
       "      <td>54.250000</td>\n",
       "      <td>41.080002</td>\n",
       "      <td>NaN</td>\n",
       "      <td>20.719999</td>\n",
       "      <td>63.07</td>\n",
       "      <td>...</td>\n",
       "      <td>15.252899</td>\n",
       "      <td>47.055138</td>\n",
       "      <td>45.146072</td>\n",
       "      <td>42.548668</td>\n",
       "      <td>4030500</td>\n",
       "      <td>NaN</td>\n",
       "      <td>26429200</td>\n",
       "      <td>4495300</td>\n",
       "      <td>5942200</td>\n",
       "      <td>9764800</td>\n",
       "    </tr>\n",
       "    <tr>\n",
       "      <th>2010-01-04</th>\n",
       "      <td>40.810001</td>\n",
       "      <td>NaN</td>\n",
       "      <td>20.790001</td>\n",
       "      <td>62.630001</td>\n",
       "      <td>61.110001</td>\n",
       "      <td>53.740002</td>\n",
       "      <td>41.099998</td>\n",
       "      <td>NaN</td>\n",
       "      <td>21.030001</td>\n",
       "      <td>63.07</td>\n",
       "      <td>...</td>\n",
       "      <td>15.611791</td>\n",
       "      <td>47.311375</td>\n",
       "      <td>45.510941</td>\n",
       "      <td>43.169579</td>\n",
       "      <td>6894300</td>\n",
       "      <td>NaN</td>\n",
       "      <td>47800900</td>\n",
       "      <td>5839300</td>\n",
       "      <td>9190800</td>\n",
       "      <td>20753100</td>\n",
       "    </tr>\n",
       "    <tr>\n",
       "      <th>2010-01-05</th>\n",
       "      <td>40.830002</td>\n",
       "      <td>NaN</td>\n",
       "      <td>20.940001</td>\n",
       "      <td>62.660000</td>\n",
       "      <td>61.130001</td>\n",
       "      <td>54.090000</td>\n",
       "      <td>41.230000</td>\n",
       "      <td>NaN</td>\n",
       "      <td>20.990000</td>\n",
       "      <td>62.75</td>\n",
       "      <td>...</td>\n",
       "      <td>15.604316</td>\n",
       "      <td>46.949627</td>\n",
       "      <td>45.525822</td>\n",
       "      <td>42.739723</td>\n",
       "      <td>10641200</td>\n",
       "      <td>NaN</td>\n",
       "      <td>52357700</td>\n",
       "      <td>7099000</td>\n",
       "      <td>8649400</td>\n",
       "      <td>15648400</td>\n",
       "    </tr>\n",
       "    <tr>\n",
       "      <th>2010-01-06</th>\n",
       "      <td>41.230000</td>\n",
       "      <td>NaN</td>\n",
       "      <td>20.809999</td>\n",
       "      <td>62.200001</td>\n",
       "      <td>60.939999</td>\n",
       "      <td>53.500000</td>\n",
       "      <td>41.669998</td>\n",
       "      <td>NaN</td>\n",
       "      <td>20.930000</td>\n",
       "      <td>62.41</td>\n",
       "      <td>...</td>\n",
       "      <td>15.551979</td>\n",
       "      <td>46.309067</td>\n",
       "      <td>45.309883</td>\n",
       "      <td>42.644184</td>\n",
       "      <td>8399400</td>\n",
       "      <td>NaN</td>\n",
       "      <td>40037400</td>\n",
       "      <td>10551300</td>\n",
       "      <td>9908400</td>\n",
       "      <td>12517200</td>\n",
       "    </tr>\n",
       "    <tr>\n",
       "      <th>2010-01-07</th>\n",
       "      <td>41.259998</td>\n",
       "      <td>NaN</td>\n",
       "      <td>20.730000</td>\n",
       "      <td>61.250000</td>\n",
       "      <td>60.580002</td>\n",
       "      <td>53.720001</td>\n",
       "      <td>42.240002</td>\n",
       "      <td>NaN</td>\n",
       "      <td>20.760000</td>\n",
       "      <td>62.34</td>\n",
       "      <td>...</td>\n",
       "      <td>15.402434</td>\n",
       "      <td>46.648193</td>\n",
       "      <td>45.064171</td>\n",
       "      <td>42.668079</td>\n",
       "      <td>8981700</td>\n",
       "      <td>NaN</td>\n",
       "      <td>54041500</td>\n",
       "      <td>7517700</td>\n",
       "      <td>8972800</td>\n",
       "      <td>10662700</td>\n",
       "    </tr>\n",
       "  </tbody>\n",
       "</table>\n",
       "<p>5 rows × 36 columns</p>\n",
       "</div>"
      ],
      "text/plain": [
       "                 Open                                                  \\\n",
       "                  AXP  FB       INTC        MCD         PG        WMT   \n",
       "Date                                                                    \n",
       "2009-12-31  40.900002 NaN  20.600000  62.970001  61.520000  54.250000   \n",
       "2010-01-04  40.810001 NaN  20.790001  62.630001  61.110001  53.740002   \n",
       "2010-01-05  40.830002 NaN  20.940001  62.660000  61.130001  54.090000   \n",
       "2010-01-06  41.230000 NaN  20.809999  62.200001  60.939999  53.500000   \n",
       "2010-01-07  41.259998 NaN  20.730000  61.250000  60.580002  53.720001   \n",
       "\n",
       "                 High                        ...  Adj Close             \\\n",
       "                  AXP  FB       INTC    MCD  ...       INTC        MCD   \n",
       "Date                                         ...                         \n",
       "2009-12-31  41.080002 NaN  20.719999  63.07  ...  15.252899  47.055138   \n",
       "2010-01-04  41.099998 NaN  21.030001  63.07  ...  15.611791  47.311375   \n",
       "2010-01-05  41.230000 NaN  20.990000  62.75  ...  15.604316  46.949627   \n",
       "2010-01-06  41.669998 NaN  20.930000  62.41  ...  15.551979  46.309067   \n",
       "2010-01-07  42.240002 NaN  20.760000  62.34  ...  15.402434  46.648193   \n",
       "\n",
       "                                    Volume                                   \\\n",
       "                   PG        WMT       AXP  FB      INTC       MCD       PG   \n",
       "Date                                                                          \n",
       "2009-12-31  45.146072  42.548668   4030500 NaN  26429200   4495300  5942200   \n",
       "2010-01-04  45.510941  43.169579   6894300 NaN  47800900   5839300  9190800   \n",
       "2010-01-05  45.525822  42.739723  10641200 NaN  52357700   7099000  8649400   \n",
       "2010-01-06  45.309883  42.644184   8399400 NaN  40037400  10551300  9908400   \n",
       "2010-01-07  45.064171  42.668079   8981700 NaN  54041500   7517700  8972800   \n",
       "\n",
       "                      \n",
       "                 WMT  \n",
       "Date                  \n",
       "2009-12-31   9764800  \n",
       "2010-01-04  20753100  \n",
       "2010-01-05  15648400  \n",
       "2010-01-06  12517200  \n",
       "2010-01-07  10662700  \n",
       "\n",
       "[5 rows x 36 columns]"
      ]
     },
     "execution_count": 14,
     "metadata": {},
     "output_type": "execute_result"
    }
   ],
   "source": [
    "# run the cell!\n",
    "stocks.head()"
   ]
  },
  {
   "cell_type": "markdown",
   "metadata": {},
   "source": [
    "Ticker Symbols:\n",
    "- AXP : American Express\n",
    "- FB : Facebook\n",
    "- INTC : Intel\n",
    "- MCD : McDonalds \n",
    "- PG : Procter & Gamble\n",
    "- WMT: Walmart"
   ]
  },
  {
   "cell_type": "markdown",
   "metadata": {},
   "source": [
    "2. __Select__ the Adjusted Close (__Adj Close__) for all six stocks from __31-12-2015__ (incl.) until __31-12-2018__ (incl.)! __Overwrite__ stocks! <br>\n",
    "__How many Timestamps__ / Days are in the DataFrame now?"
   ]
  },
  {
   "cell_type": "code",
   "execution_count": 17,
   "metadata": {
    "scrolled": true
   },
   "outputs": [],
   "source": [
    "stocks = stocks.loc[\"2015-12-31\":\"2018-12-31\", \"Adj Close\"]"
   ]
  },
  {
   "cell_type": "code",
   "execution_count": 18,
   "metadata": {},
   "outputs": [
    {
     "data": {
      "text/html": [
       "<div>\n",
       "<style scoped>\n",
       "    .dataframe tbody tr th:only-of-type {\n",
       "        vertical-align: middle;\n",
       "    }\n",
       "\n",
       "    .dataframe tbody tr th {\n",
       "        vertical-align: top;\n",
       "    }\n",
       "\n",
       "    .dataframe thead th {\n",
       "        text-align: right;\n",
       "    }\n",
       "</style>\n",
       "<table border=\"1\" class=\"dataframe\">\n",
       "  <thead>\n",
       "    <tr style=\"text-align: right;\">\n",
       "      <th></th>\n",
       "      <th>AXP</th>\n",
       "      <th>FB</th>\n",
       "      <th>INTC</th>\n",
       "      <th>MCD</th>\n",
       "      <th>PG</th>\n",
       "      <th>WMT</th>\n",
       "    </tr>\n",
       "    <tr>\n",
       "      <th>Date</th>\n",
       "      <th></th>\n",
       "      <th></th>\n",
       "      <th></th>\n",
       "      <th></th>\n",
       "      <th></th>\n",
       "      <th></th>\n",
       "    </tr>\n",
       "  </thead>\n",
       "  <tbody>\n",
       "    <tr>\n",
       "      <th>2015-12-31</th>\n",
       "      <td>65.910294</td>\n",
       "      <td>104.660004</td>\n",
       "      <td>31.437597</td>\n",
       "      <td>108.968636</td>\n",
       "      <td>71.450706</td>\n",
       "      <td>56.722713</td>\n",
       "    </tr>\n",
       "    <tr>\n",
       "      <th>2016-01-04</th>\n",
       "      <td>64.052849</td>\n",
       "      <td>102.220001</td>\n",
       "      <td>31.017828</td>\n",
       "      <td>108.452126</td>\n",
       "      <td>70.514938</td>\n",
       "      <td>56.870766</td>\n",
       "    </tr>\n",
       "    <tr>\n",
       "      <th>2016-01-05</th>\n",
       "      <td>63.067310</td>\n",
       "      <td>102.730003</td>\n",
       "      <td>30.871820</td>\n",
       "      <td>109.946350</td>\n",
       "      <td>70.739891</td>\n",
       "      <td>58.221748</td>\n",
       "    </tr>\n",
       "    <tr>\n",
       "      <th>2016-01-06</th>\n",
       "      <td>61.315948</td>\n",
       "      <td>102.970001</td>\n",
       "      <td>30.187403</td>\n",
       "      <td>109.208458</td>\n",
       "      <td>70.056053</td>\n",
       "      <td>58.804699</td>\n",
       "    </tr>\n",
       "    <tr>\n",
       "      <th>2016-01-07</th>\n",
       "      <td>60.763893</td>\n",
       "      <td>97.919998</td>\n",
       "      <td>29.055828</td>\n",
       "      <td>106.681190</td>\n",
       "      <td>69.444221</td>\n",
       "      <td>60.174198</td>\n",
       "    </tr>\n",
       "  </tbody>\n",
       "</table>\n",
       "</div>"
      ],
      "text/plain": [
       "                  AXP          FB       INTC         MCD         PG        WMT\n",
       "Date                                                                          \n",
       "2015-12-31  65.910294  104.660004  31.437597  108.968636  71.450706  56.722713\n",
       "2016-01-04  64.052849  102.220001  31.017828  108.452126  70.514938  56.870766\n",
       "2016-01-05  63.067310  102.730003  30.871820  109.946350  70.739891  58.221748\n",
       "2016-01-06  61.315948  102.970001  30.187403  109.208458  70.056053  58.804699\n",
       "2016-01-07  60.763893   97.919998  29.055828  106.681190  69.444221  60.174198"
      ]
     },
     "execution_count": 18,
     "metadata": {},
     "output_type": "execute_result"
    }
   ],
   "source": [
    "# run the cell!\n",
    "stocks.head()"
   ]
  },
  {
   "cell_type": "code",
   "execution_count": 19,
   "metadata": {},
   "outputs": [
    {
     "name": "stdout",
     "output_type": "stream",
     "text": [
      "<class 'pandas.core.frame.DataFrame'>\n",
      "DatetimeIndex: 754 entries, 2015-12-31 to 2018-12-28\n",
      "Data columns (total 6 columns):\n",
      " #   Column  Non-Null Count  Dtype  \n",
      "---  ------  --------------  -----  \n",
      " 0   AXP     754 non-null    float64\n",
      " 1   FB      754 non-null    float64\n",
      " 2   INTC    754 non-null    float64\n",
      " 3   MCD     754 non-null    float64\n",
      " 4   PG      754 non-null    float64\n",
      " 5   WMT     754 non-null    float64\n",
      "dtypes: float64(6)\n",
      "memory usage: 41.2 KB\n"
     ]
    }
   ],
   "source": [
    "# run the cell!\n",
    "stocks.info()"
   ]
  },
  {
   "cell_type": "markdown",
   "metadata": {},
   "source": [
    "We have ... 754 Days."
   ]
  },
  {
   "cell_type": "markdown",
   "metadata": {},
   "source": [
    "3. __Plot__ stocks (figsize (12, 8)!"
   ]
  },
  {
   "cell_type": "code",
   "execution_count": 25,
   "metadata": {},
   "outputs": [
    {
     "data": {
      "image/png": "[encoded data removed]",
      "text/plain": [
       "<Figure size 864x576 with 1 Axes>"
      ]
     },
     "metadata": {},
     "output_type": "display_data"
    }
   ],
   "source": [
    "stocks.plot(figsize = (12,8))\n",
    "plt.show()"
   ]
  },
  {
   "cell_type": "markdown",
   "metadata": {},
   "source": [
    "4. __Bring__ the six stocks to the __same Base Value__ (100) and __plot__ again! __Fill in the gaps!__"
   ]
  },
  {
   "cell_type": "code",
   "execution_count": 24,
   "metadata": {},
   "outputs": [
    {
     "data": {
      "image/png": "[encoded data removed]",
      "text/plain": [
       "<Figure size 864x576 with 1 Axes>"
      ]
     },
     "metadata": {},
     "output_type": "display_data"
    }
   ],
   "source": [
    "stocks.div(stocks.iloc[0]).plot(figsize = (12,8))\n",
    "plt.show()"
   ]
  },
  {
   "cell_type": "markdown",
   "metadata": {},
   "source": [
    "Still hard to compare performance, right?"
   ]
  },
  {
   "cell_type": "markdown",
   "metadata": {},
   "source": [
    "5. __Resample__ stocks to __monthly__ frequency (__last__ trading price of each month, index should show last calender day)!<br> __Save__ the resampled Dataframe in the variable __stocks_m__!"
   ]
  },
  {
   "cell_type": "code",
   "execution_count": 34,
   "metadata": {},
   "outputs": [],
   "source": [
    "stocks_m = stocks.resample(\"M\").last()"
   ]
  },
  {
   "cell_type": "code",
   "execution_count": 35,
   "metadata": {
    "scrolled": true
   },
   "outputs": [
    {
     "data": {
      "text/html": [
       "<div>\n",
       "<style scoped>\n",
       "    .dataframe tbody tr th:only-of-type {\n",
       "        vertical-align: middle;\n",
       "    }\n",
       "\n",
       "    .dataframe tbody tr th {\n",
       "        vertical-align: top;\n",
       "    }\n",
       "\n",
       "    .dataframe thead th {\n",
       "        text-align: right;\n",
       "    }\n",
       "</style>\n",
       "<table border=\"1\" class=\"dataframe\">\n",
       "  <thead>\n",
       "    <tr style=\"text-align: right;\">\n",
       "      <th></th>\n",
       "      <th>AXP</th>\n",
       "      <th>FB</th>\n",
       "      <th>INTC</th>\n",
       "      <th>MCD</th>\n",
       "      <th>PG</th>\n",
       "      <th>WMT</th>\n",
       "    </tr>\n",
       "    <tr>\n",
       "      <th>Date</th>\n",
       "      <th></th>\n",
       "      <th></th>\n",
       "      <th></th>\n",
       "      <th></th>\n",
       "      <th></th>\n",
       "      <th></th>\n",
       "    </tr>\n",
       "  </thead>\n",
       "  <tbody>\n",
       "    <tr>\n",
       "      <th>2015-12-31</th>\n",
       "      <td>65.910294</td>\n",
       "      <td>104.660004</td>\n",
       "      <td>31.437597</td>\n",
       "      <td>108.968636</td>\n",
       "      <td>71.450706</td>\n",
       "      <td>56.722713</td>\n",
       "    </tr>\n",
       "    <tr>\n",
       "      <th>2016-01-31</th>\n",
       "      <td>50.922123</td>\n",
       "      <td>112.209999</td>\n",
       "      <td>28.307537</td>\n",
       "      <td>114.170799</td>\n",
       "      <td>74.142738</td>\n",
       "      <td>61.404896</td>\n",
       "    </tr>\n",
       "    <tr>\n",
       "      <th>2016-02-29</th>\n",
       "      <td>52.901901</td>\n",
       "      <td>106.919998</td>\n",
       "      <td>27.240244</td>\n",
       "      <td>108.911270</td>\n",
       "      <td>72.872086</td>\n",
       "      <td>61.386375</td>\n",
       "    </tr>\n",
       "    <tr>\n",
       "      <th>2016-03-31</th>\n",
       "      <td>58.441471</td>\n",
       "      <td>114.099998</td>\n",
       "      <td>29.781067</td>\n",
       "      <td>116.801506</td>\n",
       "      <td>74.705444</td>\n",
       "      <td>63.844990</td>\n",
       "    </tr>\n",
       "    <tr>\n",
       "      <th>2016-04-30</th>\n",
       "      <td>62.578789</td>\n",
       "      <td>117.580002</td>\n",
       "      <td>27.875446</td>\n",
       "      <td>117.554268</td>\n",
       "      <td>73.313026</td>\n",
       "      <td>62.334877</td>\n",
       "    </tr>\n",
       "  </tbody>\n",
       "</table>\n",
       "</div>"
      ],
      "text/plain": [
       "                  AXP          FB       INTC         MCD         PG        WMT\n",
       "Date                                                                          \n",
       "2015-12-31  65.910294  104.660004  31.437597  108.968636  71.450706  56.722713\n",
       "2016-01-31  50.922123  112.209999  28.307537  114.170799  74.142738  61.404896\n",
       "2016-02-29  52.901901  106.919998  27.240244  108.911270  72.872086  61.386375\n",
       "2016-03-31  58.441471  114.099998  29.781067  116.801506  74.705444  63.844990\n",
       "2016-04-30  62.578789  117.580002  27.875446  117.554268  73.313026  62.334877"
      ]
     },
     "execution_count": 35,
     "metadata": {},
     "output_type": "execute_result"
    }
   ],
   "source": [
    "# run the cell!\n",
    "stocks_m.head()"
   ]
  },
  {
   "cell_type": "markdown",
   "metadata": {},
   "source": [
    "6. Calculate __monthly returns__ and __save__ the result in the variable __ret__! (drop NaN Values!)"
   ]
  },
  {
   "cell_type": "code",
   "execution_count": 38,
   "metadata": {},
   "outputs": [],
   "source": [
    "ret = stocks_m.pct_change().dropna()"
   ]
  },
  {
   "cell_type": "code",
   "execution_count": 39,
   "metadata": {
    "scrolled": true
   },
   "outputs": [
    {
     "data": {
      "text/html": [
       "<div>\n",
       "<style scoped>\n",
       "    .dataframe tbody tr th:only-of-type {\n",
       "        vertical-align: middle;\n",
       "    }\n",
       "\n",
       "    .dataframe tbody tr th {\n",
       "        vertical-align: top;\n",
       "    }\n",
       "\n",
       "    .dataframe thead th {\n",
       "        text-align: right;\n",
       "    }\n",
       "</style>\n",
       "<table border=\"1\" class=\"dataframe\">\n",
       "  <thead>\n",
       "    <tr style=\"text-align: right;\">\n",
       "      <th></th>\n",
       "      <th>AXP</th>\n",
       "      <th>FB</th>\n",
       "      <th>INTC</th>\n",
       "      <th>MCD</th>\n",
       "      <th>PG</th>\n",
       "      <th>WMT</th>\n",
       "    </tr>\n",
       "    <tr>\n",
       "      <th>Date</th>\n",
       "      <th></th>\n",
       "      <th></th>\n",
       "      <th></th>\n",
       "      <th></th>\n",
       "      <th></th>\n",
       "      <th></th>\n",
       "    </tr>\n",
       "  </thead>\n",
       "  <tbody>\n",
       "    <tr>\n",
       "      <th>2016-01-31</th>\n",
       "      <td>-0.227403</td>\n",
       "      <td>0.072138</td>\n",
       "      <td>-0.099564</td>\n",
       "      <td>0.047740</td>\n",
       "      <td>0.037677</td>\n",
       "      <td>0.082545</td>\n",
       "    </tr>\n",
       "    <tr>\n",
       "      <th>2016-02-29</th>\n",
       "      <td>0.038879</td>\n",
       "      <td>-0.047144</td>\n",
       "      <td>-0.037703</td>\n",
       "      <td>-0.046067</td>\n",
       "      <td>-0.017138</td>\n",
       "      <td>-0.000302</td>\n",
       "    </tr>\n",
       "    <tr>\n",
       "      <th>2016-03-31</th>\n",
       "      <td>0.104714</td>\n",
       "      <td>0.067153</td>\n",
       "      <td>0.093275</td>\n",
       "      <td>0.072446</td>\n",
       "      <td>0.025159</td>\n",
       "      <td>0.040051</td>\n",
       "    </tr>\n",
       "    <tr>\n",
       "      <th>2016-04-30</th>\n",
       "      <td>0.070794</td>\n",
       "      <td>0.030500</td>\n",
       "      <td>-0.063988</td>\n",
       "      <td>0.006445</td>\n",
       "      <td>-0.018639</td>\n",
       "      <td>-0.023653</td>\n",
       "    </tr>\n",
       "    <tr>\n",
       "      <th>2016-05-31</th>\n",
       "      <td>0.005044</td>\n",
       "      <td>0.010461</td>\n",
       "      <td>0.052274</td>\n",
       "      <td>-0.035022</td>\n",
       "      <td>0.011483</td>\n",
       "      <td>0.066221</td>\n",
       "    </tr>\n",
       "    <tr>\n",
       "      <th>2016-06-30</th>\n",
       "      <td>-0.071383</td>\n",
       "      <td>-0.038128</td>\n",
       "      <td>0.038303</td>\n",
       "      <td>-0.006845</td>\n",
       "      <td>0.044793</td>\n",
       "      <td>0.031647</td>\n",
       "    </tr>\n",
       "    <tr>\n",
       "      <th>2016-07-31</th>\n",
       "      <td>0.060895</td>\n",
       "      <td>0.084529</td>\n",
       "      <td>0.062805</td>\n",
       "      <td>-0.022353</td>\n",
       "      <td>0.018781</td>\n",
       "      <td>-0.000685</td>\n",
       "    </tr>\n",
       "    <tr>\n",
       "      <th>2016-08-31</th>\n",
       "      <td>0.017375</td>\n",
       "      <td>0.017589</td>\n",
       "      <td>0.037351</td>\n",
       "      <td>-0.009274</td>\n",
       "      <td>0.020096</td>\n",
       "      <td>-0.014265</td>\n",
       "    </tr>\n",
       "    <tr>\n",
       "      <th>2016-09-30</th>\n",
       "      <td>-0.023483</td>\n",
       "      <td>0.017047</td>\n",
       "      <td>0.051825</td>\n",
       "      <td>-0.002594</td>\n",
       "      <td>0.027947</td>\n",
       "      <td>0.009518</td>\n",
       "    </tr>\n",
       "    <tr>\n",
       "      <th>2016-10-31</th>\n",
       "      <td>0.042384</td>\n",
       "      <td>0.021205</td>\n",
       "      <td>-0.076291</td>\n",
       "      <td>-0.024185</td>\n",
       "      <td>-0.025408</td>\n",
       "      <td>-0.029118</td>\n",
       "    </tr>\n",
       "    <tr>\n",
       "      <th>2016-11-30</th>\n",
       "      <td>0.084613</td>\n",
       "      <td>-0.095962</td>\n",
       "      <td>0.002659</td>\n",
       "      <td>0.067758</td>\n",
       "      <td>-0.050000</td>\n",
       "      <td>0.005855</td>\n",
       "    </tr>\n",
       "    <tr>\n",
       "      <th>2016-12-31</th>\n",
       "      <td>0.028318</td>\n",
       "      <td>-0.028458</td>\n",
       "      <td>0.045245</td>\n",
       "      <td>0.020542</td>\n",
       "      <td>0.019646</td>\n",
       "      <td>-0.011576</td>\n",
       "    </tr>\n",
       "    <tr>\n",
       "      <th>2017-01-31</th>\n",
       "      <td>0.035445</td>\n",
       "      <td>0.132725</td>\n",
       "      <td>0.015164</td>\n",
       "      <td>0.006983</td>\n",
       "      <td>0.050116</td>\n",
       "      <td>-0.034433</td>\n",
       "    </tr>\n",
       "    <tr>\n",
       "      <th>2017-02-28</th>\n",
       "      <td>0.048180</td>\n",
       "      <td>0.040055</td>\n",
       "      <td>-0.009820</td>\n",
       "      <td>0.049111</td>\n",
       "      <td>0.039612</td>\n",
       "      <td>0.062781</td>\n",
       "    </tr>\n",
       "    <tr>\n",
       "      <th>2017-03-31</th>\n",
       "      <td>-0.011866</td>\n",
       "      <td>0.048030</td>\n",
       "      <td>-0.003591</td>\n",
       "      <td>0.015354</td>\n",
       "      <td>-0.013396</td>\n",
       "      <td>0.023685</td>\n",
       "    </tr>\n",
       "    <tr>\n",
       "      <th>2017-04-30</th>\n",
       "      <td>0.005883</td>\n",
       "      <td>0.057726</td>\n",
       "      <td>0.002218</td>\n",
       "      <td>0.079624</td>\n",
       "      <td>-0.020608</td>\n",
       "      <td>0.043008</td>\n",
       "    </tr>\n",
       "    <tr>\n",
       "      <th>2017-05-31</th>\n",
       "      <td>-0.029148</td>\n",
       "      <td>0.008053</td>\n",
       "      <td>0.006311</td>\n",
       "      <td>0.078325</td>\n",
       "      <td>0.008702</td>\n",
       "      <td>0.052487</td>\n",
       "    </tr>\n",
       "    <tr>\n",
       "      <th>2017-06-30</th>\n",
       "      <td>0.094879</td>\n",
       "      <td>-0.003169</td>\n",
       "      <td>-0.065633</td>\n",
       "      <td>0.021407</td>\n",
       "      <td>-0.010671</td>\n",
       "      <td>-0.037150</td>\n",
       "    </tr>\n",
       "    <tr>\n",
       "      <th>2017-07-31</th>\n",
       "      <td>0.015571</td>\n",
       "      <td>0.121009</td>\n",
       "      <td>0.051274</td>\n",
       "      <td>0.012928</td>\n",
       "      <td>0.050282</td>\n",
       "      <td>0.056950</td>\n",
       "    </tr>\n",
       "    <tr>\n",
       "      <th>2017-08-31</th>\n",
       "      <td>0.010207</td>\n",
       "      <td>0.016071</td>\n",
       "      <td>-0.003869</td>\n",
       "      <td>0.037251</td>\n",
       "      <td>0.015966</td>\n",
       "      <td>-0.017864</td>\n",
       "    </tr>\n",
       "    <tr>\n",
       "      <th>2017-09-30</th>\n",
       "      <td>0.050639</td>\n",
       "      <td>-0.006396</td>\n",
       "      <td>0.085828</td>\n",
       "      <td>-0.020566</td>\n",
       "      <td>-0.013981</td>\n",
       "      <td>0.000897</td>\n",
       "    </tr>\n",
       "    <tr>\n",
       "      <th>2017-10-31</th>\n",
       "      <td>0.060013</td>\n",
       "      <td>0.053784</td>\n",
       "      <td>0.194590</td>\n",
       "      <td>0.065292</td>\n",
       "      <td>-0.043893</td>\n",
       "      <td>0.117353</td>\n",
       "    </tr>\n",
       "    <tr>\n",
       "      <th>2017-11-30</th>\n",
       "      <td>0.022927</td>\n",
       "      <td>-0.015995</td>\n",
       "      <td>-0.008458</td>\n",
       "      <td>0.036458</td>\n",
       "      <td>0.042275</td>\n",
       "      <td>0.113618</td>\n",
       "    </tr>\n",
       "    <tr>\n",
       "      <th>2017-12-31</th>\n",
       "      <td>0.016375</td>\n",
       "      <td>-0.004064</td>\n",
       "      <td>0.029438</td>\n",
       "      <td>0.000872</td>\n",
       "      <td>0.021002</td>\n",
       "      <td>0.020986</td>\n",
       "    </tr>\n",
       "    <tr>\n",
       "      <th>2018-01-31</th>\n",
       "      <td>0.004438</td>\n",
       "      <td>0.059107</td>\n",
       "      <td>0.042894</td>\n",
       "      <td>-0.005694</td>\n",
       "      <td>-0.053136</td>\n",
       "      <td>0.079494</td>\n",
       "    </tr>\n",
       "    <tr>\n",
       "      <th>2018-02-28</th>\n",
       "      <td>-0.019014</td>\n",
       "      <td>-0.045856</td>\n",
       "      <td>0.030835</td>\n",
       "      <td>-0.072468</td>\n",
       "      <td>-0.090572</td>\n",
       "      <td>-0.155629</td>\n",
       "    </tr>\n",
       "    <tr>\n",
       "      <th>2018-03-31</th>\n",
       "      <td>-0.043380</td>\n",
       "      <td>-0.103914</td>\n",
       "      <td>0.056604</td>\n",
       "      <td>-0.008622</td>\n",
       "      <td>0.009679</td>\n",
       "      <td>-0.005661</td>\n",
       "    </tr>\n",
       "    <tr>\n",
       "      <th>2018-04-30</th>\n",
       "      <td>0.062615</td>\n",
       "      <td>0.076413</td>\n",
       "      <td>-0.008833</td>\n",
       "      <td>0.070725</td>\n",
       "      <td>-0.079092</td>\n",
       "      <td>-0.005732</td>\n",
       "    </tr>\n",
       "    <tr>\n",
       "      <th>2018-05-31</th>\n",
       "      <td>-0.004557</td>\n",
       "      <td>0.115000</td>\n",
       "      <td>0.075525</td>\n",
       "      <td>-0.044374</td>\n",
       "      <td>0.011474</td>\n",
       "      <td>-0.061045</td>\n",
       "    </tr>\n",
       "    <tr>\n",
       "      <th>2018-06-30</th>\n",
       "      <td>-0.003052</td>\n",
       "      <td>0.013244</td>\n",
       "      <td>-0.099456</td>\n",
       "      <td>-0.014528</td>\n",
       "      <td>0.066831</td>\n",
       "      <td>0.037679</td>\n",
       "    </tr>\n",
       "    <tr>\n",
       "      <th>2018-07-31</th>\n",
       "      <td>0.019156</td>\n",
       "      <td>-0.111877</td>\n",
       "      <td>-0.032388</td>\n",
       "      <td>0.005425</td>\n",
       "      <td>0.045532</td>\n",
       "      <td>0.041798</td>\n",
       "    </tr>\n",
       "    <tr>\n",
       "      <th>2018-08-31</th>\n",
       "      <td>0.064912</td>\n",
       "      <td>0.018252</td>\n",
       "      <td>0.012984</td>\n",
       "      <td>0.036199</td>\n",
       "      <td>0.025594</td>\n",
       "      <td>0.080542</td>\n",
       "    </tr>\n",
       "    <tr>\n",
       "      <th>2018-09-30</th>\n",
       "      <td>0.004812</td>\n",
       "      <td>-0.064132</td>\n",
       "      <td>-0.023539</td>\n",
       "      <td>0.031190</td>\n",
       "      <td>0.003376</td>\n",
       "      <td>-0.020342</td>\n",
       "    </tr>\n",
       "    <tr>\n",
       "      <th>2018-10-31</th>\n",
       "      <td>-0.031827</td>\n",
       "      <td>-0.077040</td>\n",
       "      <td>-0.008670</td>\n",
       "      <td>0.057445</td>\n",
       "      <td>0.074899</td>\n",
       "      <td>0.067831</td>\n",
       "    </tr>\n",
       "    <tr>\n",
       "      <th>2018-11-30</th>\n",
       "      <td>0.092865</td>\n",
       "      <td>-0.073654</td>\n",
       "      <td>0.058454</td>\n",
       "      <td>0.072202</td>\n",
       "      <td>0.065742</td>\n",
       "      <td>-0.026227</td>\n",
       "    </tr>\n",
       "    <tr>\n",
       "      <th>2018-12-31</th>\n",
       "      <td>-0.158992</td>\n",
       "      <td>-0.052699</td>\n",
       "      <td>-0.051916</td>\n",
       "      <td>-0.068697</td>\n",
       "      <td>-0.035234</td>\n",
       "      <td>-0.051380</td>\n",
       "    </tr>\n",
       "  </tbody>\n",
       "</table>\n",
       "</div>"
      ],
      "text/plain": [
       "                 AXP        FB      INTC       MCD        PG       WMT\n",
       "Date                                                                  \n",
       "2016-01-31 -0.227403  0.072138 -0.099564  0.047740  0.037677  0.082545\n",
       "2016-02-29  0.038879 -0.047144 -0.037703 -0.046067 -0.017138 -0.000302\n",
       "2016-03-31  0.104714  0.067153  0.093275  0.072446  0.025159  0.040051\n",
       "2016-04-30  0.070794  0.030500 -0.063988  0.006445 -0.018639 -0.023653\n",
       "2016-05-31  0.005044  0.010461  0.052274 -0.035022  0.011483  0.066221\n",
       "2016-06-30 -0.071383 -0.038128  0.038303 -0.006845  0.044793  0.031647\n",
       "2016-07-31  0.060895  0.084529  0.062805 -0.022353  0.018781 -0.000685\n",
       "2016-08-31  0.017375  0.017589  0.037351 -0.009274  0.020096 -0.014265\n",
       "2016-09-30 -0.023483  0.017047  0.051825 -0.002594  0.027947  0.009518\n",
       "2016-10-31  0.042384  0.021205 -0.076291 -0.024185 -0.025408 -0.029118\n",
       "2016-11-30  0.084613 -0.095962  0.002659  0.067758 -0.050000  0.005855\n",
       "2016-12-31  0.028318 -0.028458  0.045245  0.020542  0.019646 -0.011576\n",
       "2017-01-31  0.035445  0.132725  0.015164  0.006983  0.050116 -0.034433\n",
       "2017-02-28  0.048180  0.040055 -0.009820  0.049111  0.039612  0.062781\n",
       "2017-03-31 -0.011866  0.048030 -0.003591  0.015354 -0.013396  0.023685\n",
       "2017-04-30  0.005883  0.057726  0.002218  0.079624 -0.020608  0.043008\n",
       "2017-05-31 -0.029148  0.008053  0.006311  0.078325  0.008702  0.052487\n",
       "2017-06-30  0.094879 -0.003169 -0.065633  0.021407 -0.010671 -0.037150\n",
       "2017-07-31  0.015571  0.121009  0.051274  0.012928  0.050282  0.056950\n",
       "2017-08-31  0.010207  0.016071 -0.003869  0.037251  0.015966 -0.017864\n",
       "2017-09-30  0.050639 -0.006396  0.085828 -0.020566 -0.013981  0.000897\n",
       "2017-10-31  0.060013  0.053784  0.194590  0.065292 -0.043893  0.117353\n",
       "2017-11-30  0.022927 -0.015995 -0.008458  0.036458  0.042275  0.113618\n",
       "2017-12-31  0.016375 -0.004064  0.029438  0.000872  0.021002  0.020986\n",
       "2018-01-31  0.004438  0.059107  0.042894 -0.005694 -0.053136  0.079494\n",
       "2018-02-28 -0.019014 -0.045856  0.030835 -0.072468 -0.090572 -0.155629\n",
       "2018-03-31 -0.043380 -0.103914  0.056604 -0.008622  0.009679 -0.005661\n",
       "2018-04-30  0.062615  0.076413 -0.008833  0.070725 -0.079092 -0.005732\n",
       "2018-05-31 -0.004557  0.115000  0.075525 -0.044374  0.011474 -0.061045\n",
       "2018-06-30 -0.003052  0.013244 -0.099456 -0.014528  0.066831  0.037679\n",
       "2018-07-31  0.019156 -0.111877 -0.032388  0.005425  0.045532  0.041798\n",
       "2018-08-31  0.064912  0.018252  0.012984  0.036199  0.025594  0.080542\n",
       "2018-09-30  0.004812 -0.064132 -0.023539  0.031190  0.003376 -0.020342\n",
       "2018-10-31 -0.031827 -0.077040 -0.008670  0.057445  0.074899  0.067831\n",
       "2018-11-30  0.092865 -0.073654  0.058454  0.072202  0.065742 -0.026227\n",
       "2018-12-31 -0.158992 -0.052699 -0.051916 -0.068697 -0.035234 -0.051380"
      ]
     },
     "execution_count": 39,
     "metadata": {},
     "output_type": "execute_result"
    }
   ],
   "source": [
    "#run the cell!\n",
    "ret"
   ]
  },
  {
   "cell_type": "markdown",
   "metadata": {},
   "source": [
    "7. Calculate __mean__ and  __standard deviation__ of monthly returns! __Save__ the result in the variable __summary__!<br>\n",
    "__Fill in the gaps!__"
   ]
  },
  {
   "cell_type": "code",
   "execution_count": 49,
   "metadata": {},
   "outputs": [],
   "source": [
    "summary = ret.describe().T.loc[:, [\"mean\", \"std\"]]"
   ]
  },
  {
   "cell_type": "code",
   "execution_count": 50,
   "metadata": {},
   "outputs": [
    {
     "data": {
      "text/html": [
       "<div>\n",
       "<style scoped>\n",
       "    .dataframe tbody tr th:only-of-type {\n",
       "        vertical-align: middle;\n",
       "    }\n",
       "\n",
       "    .dataframe tbody tr th {\n",
       "        vertical-align: top;\n",
       "    }\n",
       "\n",
       "    .dataframe thead th {\n",
       "        text-align: right;\n",
       "    }\n",
       "</style>\n",
       "<table border=\"1\" class=\"dataframe\">\n",
       "  <thead>\n",
       "    <tr style=\"text-align: right;\">\n",
       "      <th></th>\n",
       "      <th>mean</th>\n",
       "      <th>std</th>\n",
       "    </tr>\n",
       "  </thead>\n",
       "  <tbody>\n",
       "    <tr>\n",
       "      <th>AXP</th>\n",
       "      <td>0.012162</td>\n",
       "      <td>0.065456</td>\n",
       "    </tr>\n",
       "    <tr>\n",
       "      <th>FB</th>\n",
       "      <td>0.008656</td>\n",
       "      <td>0.063183</td>\n",
       "    </tr>\n",
       "    <tr>\n",
       "      <th>INTC</th>\n",
       "      <td>0.012559</td>\n",
       "      <td>0.058963</td>\n",
       "    </tr>\n",
       "    <tr>\n",
       "      <th>MCD</th>\n",
       "      <td>0.014179</td>\n",
       "      <td>0.041817</td>\n",
       "    </tr>\n",
       "    <tr>\n",
       "      <th>PG</th>\n",
       "      <td>0.007358</td>\n",
       "      <td>0.039945</td>\n",
       "    </tr>\n",
       "    <tr>\n",
       "      <th>WMT</th>\n",
       "      <td>0.014997</td>\n",
       "      <td>0.054054</td>\n",
       "    </tr>\n",
       "  </tbody>\n",
       "</table>\n",
       "</div>"
      ],
      "text/plain": [
       "          mean       std\n",
       "AXP   0.012162  0.065456\n",
       "FB    0.008656  0.063183\n",
       "INTC  0.012559  0.058963\n",
       "MCD   0.014179  0.041817\n",
       "PG    0.007358  0.039945\n",
       "WMT   0.014997  0.054054"
      ]
     },
     "execution_count": 50,
     "metadata": {},
     "output_type": "execute_result"
    }
   ],
   "source": [
    "#run the cell!\n",
    "summary"
   ]
  },
  {
   "cell_type": "markdown",
   "metadata": {},
   "source": [
    "8. __Annualize__ mean and standard deviation of returns! __Fill in the gaps!__"
   ]
  },
  {
   "cell_type": "code",
   "execution_count": 51,
   "metadata": {},
   "outputs": [],
   "source": [
    "summary[\"mean\"] = summary[\"mean\"]*12\n",
    "summary[\"std\"] = summary[\"std\"]*np.sqrt(12)"
   ]
  },
  {
   "cell_type": "code",
   "execution_count": 52,
   "metadata": {},
   "outputs": [
    {
     "data": {
      "text/html": [
       "<div>\n",
       "<style scoped>\n",
       "    .dataframe tbody tr th:only-of-type {\n",
       "        vertical-align: middle;\n",
       "    }\n",
       "\n",
       "    .dataframe tbody tr th {\n",
       "        vertical-align: top;\n",
       "    }\n",
       "\n",
       "    .dataframe thead th {\n",
       "        text-align: right;\n",
       "    }\n",
       "</style>\n",
       "<table border=\"1\" class=\"dataframe\">\n",
       "  <thead>\n",
       "    <tr style=\"text-align: right;\">\n",
       "      <th></th>\n",
       "      <th>mean</th>\n",
       "      <th>std</th>\n",
       "    </tr>\n",
       "  </thead>\n",
       "  <tbody>\n",
       "    <tr>\n",
       "      <th>AXP</th>\n",
       "      <td>0.145942</td>\n",
       "      <td>0.226748</td>\n",
       "    </tr>\n",
       "    <tr>\n",
       "      <th>FB</th>\n",
       "      <td>0.103868</td>\n",
       "      <td>0.218871</td>\n",
       "    </tr>\n",
       "    <tr>\n",
       "      <th>INTC</th>\n",
       "      <td>0.150712</td>\n",
       "      <td>0.204255</td>\n",
       "    </tr>\n",
       "    <tr>\n",
       "      <th>MCD</th>\n",
       "      <td>0.170144</td>\n",
       "      <td>0.144859</td>\n",
       "    </tr>\n",
       "    <tr>\n",
       "      <th>PG</th>\n",
       "      <td>0.088297</td>\n",
       "      <td>0.138374</td>\n",
       "    </tr>\n",
       "    <tr>\n",
       "      <th>WMT</th>\n",
       "      <td>0.179962</td>\n",
       "      <td>0.187247</td>\n",
       "    </tr>\n",
       "  </tbody>\n",
       "</table>\n",
       "</div>"
      ],
      "text/plain": [
       "          mean       std\n",
       "AXP   0.145942  0.226748\n",
       "FB    0.103868  0.218871\n",
       "INTC  0.150712  0.204255\n",
       "MCD   0.170144  0.144859\n",
       "PG    0.088297  0.138374\n",
       "WMT   0.179962  0.187247"
      ]
     },
     "execution_count": 52,
     "metadata": {},
     "output_type": "execute_result"
    }
   ],
   "source": [
    "#run the cell!\n",
    "summary"
   ]
  },
  {
   "cell_type": "markdown",
   "metadata": {},
   "source": [
    "9. __Plot__ and __compare__ the performance of the six stocks in a __(total) risk / return__ framework! __Fill in the gaps__! <br>\n",
    "Can you identify the __best performing__ stock and the __worst performing__ stock (in terms of __risk / return__)?"
   ]
  },
  {
   "cell_type": "code",
   "execution_count": 53,
   "metadata": {},
   "outputs": [
    {
     "data": {
      "image/png": "[encoded data removed]",
      "text/plain": [
       "<Figure size 864x576 with 1 Axes>"
      ]
     },
     "metadata": {},
     "output_type": "display_data"
    }
   ],
   "source": [
    "summary.plot(kind = \"scatter\", x = \"std\", y = \"mean\", figsize = (12, 8), s = 50, fontsize = 15, xlim = (0.1, 0.3), ylim = (0, 0.25))\n",
    "for i in summary.index:\n",
    "    plt.annotate(i, xy=(summary.loc[i, \"std\"]+0.002, summary.loc[i, \"mean\"]+0.002), size = 15)\n",
    "plt.xlabel(\"ann. Risk(std)\", fontsize = 15)\n",
    "plt.ylabel(\"ann. Return\", fontsize = 15)\n",
    "plt.title(\"Risk/Return\", fontsize = 20)\n",
    "plt.show()"
   ]
  },
  {
   "cell_type": "markdown",
   "metadata": {},
   "source": [
    "In a (total) risk / return framework, McDonalds (most likely) showed the best performance (upper left) and facebook the worst performance (lower right)!"
   ]
  },
  {
   "cell_type": "markdown",
   "metadata": {},
   "source": [
    "10. Prepare the __correlation matrix__ of monthly returns. Which stocks-pair shows the __highest (positive) correlation__ of monthly returns? "
   ]
  },
  {
   "cell_type": "code",
   "execution_count": 55,
   "metadata": {},
   "outputs": [
    {
     "data": {
      "text/html": [
       "<div>\n",
       "<style scoped>\n",
       "    .dataframe tbody tr th:only-of-type {\n",
       "        vertical-align: middle;\n",
       "    }\n",
       "\n",
       "    .dataframe tbody tr th {\n",
       "        vertical-align: top;\n",
       "    }\n",
       "\n",
       "    .dataframe thead th {\n",
       "        text-align: right;\n",
       "    }\n",
       "</style>\n",
       "<table border=\"1\" class=\"dataframe\">\n",
       "  <thead>\n",
       "    <tr style=\"text-align: right;\">\n",
       "      <th></th>\n",
       "      <th>mean</th>\n",
       "      <th>std</th>\n",
       "    </tr>\n",
       "  </thead>\n",
       "  <tbody>\n",
       "    <tr>\n",
       "      <th>mean</th>\n",
       "      <td>1.00000</td>\n",
       "      <td>0.07654</td>\n",
       "    </tr>\n",
       "    <tr>\n",
       "      <th>std</th>\n",
       "      <td>0.07654</td>\n",
       "      <td>1.00000</td>\n",
       "    </tr>\n",
       "  </tbody>\n",
       "</table>\n",
       "</div>"
      ],
      "text/plain": [
       "         mean      std\n",
       "mean  1.00000  0.07654\n",
       "std   0.07654  1.00000"
      ]
     },
     "execution_count": 55,
     "metadata": {},
     "output_type": "execute_result"
    }
   ],
   "source": [
    "summary.corr()"
   ]
  },
  {
   "cell_type": "markdown",
   "metadata": {},
   "source": [
    "The highest positive correlation of returns is between ... Walmart and McDonalds."
   ]
  },
  {
   "cell_type": "markdown",
   "metadata": {},
   "source": [
    "11. __Visualize__ the correlation matrix with a __Seaborn Heatmap__! __Fill in the gaps!__"
   ]
  },
  {
   "cell_type": "code",
   "execution_count": null,
   "metadata": {},
   "outputs": [],
   "source": [
    "# run the cell!\n",
    "import seaborn as sns"
   ]
  },
  {
   "cell_type": "code",
   "execution_count": null,
   "metadata": {
    "scrolled": true
   },
   "outputs": [],
   "source": [
    "plt.figure(figsize=(12,8))\n",
    "sns.set(font_scale=1.0)\n",
    "sns.---(---, cmap = \"RdYlGn\", annot = True, vmin = -0.5, vmax = 0.6, center = 0)\n",
    "plt.show()"
   ]
  },
  {
   "cell_type": "code",
   "execution_count": null,
   "metadata": {},
   "outputs": [],
   "source": []
  },
  {
   "cell_type": "markdown",
   "metadata": {},
   "source": [
    "# Solutions (Stop here if you want to code on your own!)"
   ]
  },
  {
   "cell_type": "markdown",
   "metadata": {},
   "source": [
    "# ++++++++++++++++++++++++++++++++++++++++++++++++++++++++++"
   ]
  },
  {
   "cell_type": "code",
   "execution_count": null,
   "metadata": {},
   "outputs": [],
   "source": []
  },
  {
   "cell_type": "code",
   "execution_count": null,
   "metadata": {},
   "outputs": [],
   "source": [
    "#run the cell!\n",
    "import pandas as pd\n",
    "import numpy as np\n",
    "import matplotlib.pyplot as plt\n",
    "plt.style.use(\"seaborn\")"
   ]
  },
  {
   "cell_type": "markdown",
   "metadata": {},
   "source": [
    "1. __Import__ daily stock price data (__us_stocks.csv__) and __inspect__! Handle the __MultiIndex__! __Fill in the gaps__!"
   ]
  },
  {
   "cell_type": "code",
   "execution_count": null,
   "metadata": {},
   "outputs": [],
   "source": [
    "stocks = pd.read_csv(\"us_stocks.csv\", header = [0,1], index_col= [0], parse_dates= [0])"
   ]
  },
  {
   "cell_type": "code",
   "execution_count": null,
   "metadata": {},
   "outputs": [],
   "source": [
    "# run the cell!\n",
    "stocks.head()"
   ]
  },
  {
   "cell_type": "markdown",
   "metadata": {},
   "source": [
    "Ticker Symbols:\n",
    "- AXP : American Express\n",
    "- FB : Facebook\n",
    "- INTC : Intel\n",
    "- MCD : McDonalds \n",
    "- PG : Procter & Gamble\n",
    "- WMT: Walmart"
   ]
  },
  {
   "cell_type": "markdown",
   "metadata": {},
   "source": [
    "2. __Select__ the Adjusted Close (__Adj Close__) for all six stocks from __31-12-2015__ (incl.) until __31-12-2018__ (incl.)! __Overwrite__ stocks! <br>\n",
    "__How many Timestamps__ / Days are in the DataFrame now?"
   ]
  },
  {
   "cell_type": "code",
   "execution_count": null,
   "metadata": {
    "scrolled": true
   },
   "outputs": [],
   "source": [
    "stocks = stocks.loc[\"31-12-2015\":\"31-12-2018\", \"Adj Close\"]"
   ]
  },
  {
   "cell_type": "code",
   "execution_count": null,
   "metadata": {},
   "outputs": [],
   "source": [
    "# run the cell!\n",
    "stocks.head()"
   ]
  },
  {
   "cell_type": "code",
   "execution_count": null,
   "metadata": {},
   "outputs": [],
   "source": [
    "# run the cell!\n",
    "stocks.info()"
   ]
  },
  {
   "cell_type": "markdown",
   "metadata": {},
   "source": [
    "We have ... 754 Days."
   ]
  },
  {
   "cell_type": "markdown",
   "metadata": {},
   "source": [
    "3. __Plot__ stocks (figsize (12, 8)!"
   ]
  },
  {
   "cell_type": "code",
   "execution_count": null,
   "metadata": {},
   "outputs": [],
   "source": [
    "stocks.plot(figsize = (12,8))\n",
    "plt.show()"
   ]
  },
  {
   "cell_type": "markdown",
   "metadata": {},
   "source": [
    "4. __Bring__ the six stocks to the __same Base Value__ (100) and __plot__ again! __Fill in the gaps!__"
   ]
  },
  {
   "cell_type": "code",
   "execution_count": null,
   "metadata": {},
   "outputs": [],
   "source": [
    "stocks.div(stocks.iloc[0]).mul(100).plot(figsize = (12,8))\n",
    "plt.show()"
   ]
  },
  {
   "cell_type": "markdown",
   "metadata": {},
   "source": [
    "Still hard to compare performance, right?"
   ]
  },
  {
   "cell_type": "markdown",
   "metadata": {},
   "source": [
    "5. __Resample__ stocks to __monthly__ frequency (__last__ trading price of each month, index should show last calender day)!<br> __Save__ the resampled Dataframe in the variable __stocks_m__!"
   ]
  },
  {
   "cell_type": "code",
   "execution_count": null,
   "metadata": {},
   "outputs": [],
   "source": [
    "stocks_m = stocks.resample(\"M\").last()"
   ]
  },
  {
   "cell_type": "code",
   "execution_count": null,
   "metadata": {
    "scrolled": true
   },
   "outputs": [],
   "source": [
    "# run the cell!\n",
    "stocks_m.head()"
   ]
  },
  {
   "cell_type": "markdown",
   "metadata": {},
   "source": [
    "6. Calculate __monthly returns__ and __save__ the result in the variable __ret__! (drop NaN Values!)"
   ]
  },
  {
   "cell_type": "code",
   "execution_count": null,
   "metadata": {},
   "outputs": [],
   "source": [
    "ret = stocks_m.pct_change().dropna()"
   ]
  },
  {
   "cell_type": "code",
   "execution_count": null,
   "metadata": {
    "scrolled": true
   },
   "outputs": [],
   "source": [
    "#run the cell!\n",
    "ret"
   ]
  },
  {
   "cell_type": "markdown",
   "metadata": {},
   "source": [
    "7. Calculate __mean__ and  __standard deviation__ of monthly returns! __Save__ the result in the variable __summary__!<br>\n",
    "__Fill in the gaps!__"
   ]
  },
  {
   "cell_type": "code",
   "execution_count": null,
   "metadata": {},
   "outputs": [],
   "source": [
    "summary = ret.describe().T.loc[:, [\"mean\", \"std\"]]"
   ]
  },
  {
   "cell_type": "code",
   "execution_count": null,
   "metadata": {},
   "outputs": [],
   "source": [
    "#run the cell!\n",
    "summary"
   ]
  },
  {
   "cell_type": "markdown",
   "metadata": {},
   "source": [
    "8. __Annualize__ mean and standard deviation of returns! __Fill in the gaps!__"
   ]
  },
  {
   "cell_type": "code",
   "execution_count": null,
   "metadata": {},
   "outputs": [],
   "source": [
    "summary[\"mean\"] = summary[\"mean\"]*12\n",
    "summary[\"std\"] = summary[\"std\"]*np.sqrt(12)"
   ]
  },
  {
   "cell_type": "code",
   "execution_count": null,
   "metadata": {},
   "outputs": [],
   "source": [
    "#run the cell!\n",
    "summary"
   ]
  },
  {
   "cell_type": "markdown",
   "metadata": {},
   "source": [
    "9. __Plot__ and __compare__ the performance of the six stocks in a __(total) risk / return__ framework! __Fill in the gaps__! <br>\n",
    "Can you identify the __best performing__ stock and the __worst performing__ stock (in terms of __risk / return__)?"
   ]
  },
  {
   "cell_type": "code",
   "execution_count": null,
   "metadata": {},
   "outputs": [],
   "source": [
    "summary.plot(kind = \"scatter\", x = \"std\", y = \"mean\", figsize = (12, 8), s = 50, fontsize = 15, xlim = (0.1, 0.3), ylim = (0, 0.25))\n",
    "for i in summary.index:\n",
    "    plt.annotate(i, xy=(summary.loc[i, \"std\"]+0.002, summary.loc[i, \"mean\"]+0.002), size = 15)\n",
    "plt.xlabel(\"ann. Risk(std)\", fontsize = 15)\n",
    "plt.ylabel(\"ann. Return\", fontsize = 15)\n",
    "plt.title(\"Risk/Return\", fontsize = 20)\n",
    "plt.show()"
   ]
  },
  {
   "cell_type": "markdown",
   "metadata": {},
   "source": [
    "In a (total) risk / return framework, McDonalds (most likely) showed the best performance (upper left) and facebook the worst performance (lower right)!"
   ]
  },
  {
   "cell_type": "markdown",
   "metadata": {},
   "source": [
    "10. Prepare the __correlation matrix__ of monthly returns. Which stocks-pair shows the __highest (positive) correlation__ of monthly returns? "
   ]
  },
  {
   "cell_type": "code",
   "execution_count": null,
   "metadata": {},
   "outputs": [],
   "source": [
    "ret.corr()"
   ]
  },
  {
   "cell_type": "markdown",
   "metadata": {},
   "source": [
    "The highest positive correlation of returns is between ... Walmart and McDonalds."
   ]
  },
  {
   "cell_type": "markdown",
   "metadata": {},
   "source": [
    "11. __Visualize__ the correlation matrix with a __Seaborn Heatmap__! __Fill in the gaps!__"
   ]
  },
  {
   "cell_type": "code",
   "execution_count": null,
   "metadata": {},
   "outputs": [],
   "source": [
    "# run the cell!\n",
    "import seaborn as sns"
   ]
  },
  {
   "cell_type": "code",
   "execution_count": null,
   "metadata": {
    "scrolled": false
   },
   "outputs": [],
   "source": [
    "plt.figure(figsize=(12,8))\n",
    "sns.set(font_scale=1.0)\n",
    "sns.heatmap(ret.corr(), cmap = \"RdYlGn\", annot = True, vmin = -0.5, vmax = 0.6, center = 0)\n",
    "plt.show()"
   ]
  },
  {
   "cell_type": "markdown",
   "metadata": {},
   "source": [
    "# Well Done!"
   ]
  },
  {
   "cell_type": "markdown",
   "metadata": {},
   "source": [
    "-------------------"
   ]
  },
  {
   "cell_type": "code",
   "execution_count": null,
   "metadata": {},
   "outputs": [],
   "source": []
  }
 ],
 "metadata": {
  "kernelspec": {
   "display_name": "Python 3",
   "language": "python",
   "name": "python3"
  },
  "language_info": {
   "codemirror_mode": {
    "name": "ipython",
    "version": 3
   },
   "file_extension": ".py",
   "mimetype": "text/x-python",
   "name": "python",
   "nbconvert_exporter": "python",
   "pygments_lexer": "ipython3",
   "version": "3.7.7"
  }
 },
 "nbformat": 4,
 "nbformat_minor": 2
}
