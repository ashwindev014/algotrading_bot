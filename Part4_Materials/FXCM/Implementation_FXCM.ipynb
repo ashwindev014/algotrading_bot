{
 "cells": [
  {
   "cell_type": "markdown",
   "metadata": {},
   "source": [
    "# Real-time Implementation and Automation with FXCM "
   ]
  },
  {
   "cell_type": "markdown",
   "metadata": {},
   "source": [
    "---------------------------------------------"
   ]
  },
  {
   "cell_type": "markdown",
   "metadata": {},
   "source": [
    "_Disclaimer: <br>\n",
    "The following illustrative examples are for general information and educational purposes only. <br>\n",
    "It is neither investment advice nor a recommendation to trade, invest or take whatsoever actions.<br>\n",
    "The below code should only be used in combination with an FXCM Practice/Demo Account and NOT with a Live Trading Account._"
   ]
  },
  {
   "cell_type": "markdown",
   "metadata": {},
   "source": [
    "----------------------------------------------------"
   ]
  },
  {
   "cell_type": "markdown",
   "metadata": {},
   "source": [
    "## Recap: Historical Data, real-time Data and Orders"
   ]
  },
  {
   "cell_type": "code",
   "execution_count": 1,
   "metadata": {},
   "outputs": [],
   "source": [
    "import pandas as pd\n",
    "import fxcmpy"
   ]
  },
  {
   "cell_type": "code",
   "execution_count": 2,
   "metadata": {},
   "outputs": [],
   "source": [
    "api = fxcmpy.fxcmpy(config_file= \"fxcm.cfg\")"
   ]
  },
  {
   "cell_type": "code",
   "execution_count": 3,
   "metadata": {},
   "outputs": [
    {
     "data": {
      "text/html": [
       "<div>\n",
       "<style scoped>\n",
       "    .dataframe tbody tr th:only-of-type {\n",
       "        vertical-align: middle;\n",
       "    }\n",
       "\n",
       "    .dataframe tbody tr th {\n",
       "        vertical-align: top;\n",
       "    }\n",
       "\n",
       "    .dataframe thead th {\n",
       "        text-align: right;\n",
       "    }\n",
       "</style>\n",
       "<table border=\"1\" class=\"dataframe\">\n",
       "  <thead>\n",
       "    <tr style=\"text-align: right;\">\n",
       "      <th></th>\n",
       "      <th>bidopen</th>\n",
       "      <th>bidclose</th>\n",
       "      <th>bidhigh</th>\n",
       "      <th>bidlow</th>\n",
       "      <th>askopen</th>\n",
       "      <th>askclose</th>\n",
       "      <th>askhigh</th>\n",
       "      <th>asklow</th>\n",
       "      <th>tickqty</th>\n",
       "    </tr>\n",
       "    <tr>\n",
       "      <th>date</th>\n",
       "      <th></th>\n",
       "      <th></th>\n",
       "      <th></th>\n",
       "      <th></th>\n",
       "      <th></th>\n",
       "      <th></th>\n",
       "      <th></th>\n",
       "      <th></th>\n",
       "      <th></th>\n",
       "    </tr>\n",
       "  </thead>\n",
       "  <tbody>\n",
       "    <tr>\n",
       "      <th>2020-07-02 21:00:00</th>\n",
       "      <td>1.12500</td>\n",
       "      <td>1.12385</td>\n",
       "      <td>1.13021</td>\n",
       "      <td>1.12227</td>\n",
       "      <td>1.12522</td>\n",
       "      <td>1.12404</td>\n",
       "      <td>1.13032</td>\n",
       "      <td>1.12239</td>\n",
       "      <td>315698</td>\n",
       "    </tr>\n",
       "    <tr>\n",
       "      <th>2020-07-03 21:00:00</th>\n",
       "      <td>1.12385</td>\n",
       "      <td>1.12428</td>\n",
       "      <td>1.12506</td>\n",
       "      <td>1.12186</td>\n",
       "      <td>1.12404</td>\n",
       "      <td>1.12498</td>\n",
       "      <td>1.12544</td>\n",
       "      <td>1.12197</td>\n",
       "      <td>245002</td>\n",
       "    </tr>\n",
       "    <tr>\n",
       "      <th>2020-07-05 21:00:00</th>\n",
       "      <td>1.12428</td>\n",
       "      <td>1.12401</td>\n",
       "      <td>1.12434</td>\n",
       "      <td>1.12400</td>\n",
       "      <td>1.12498</td>\n",
       "      <td>1.12478</td>\n",
       "      <td>1.12514</td>\n",
       "      <td>1.12462</td>\n",
       "      <td>75</td>\n",
       "    </tr>\n",
       "    <tr>\n",
       "      <th>2020-07-06 21:00:00</th>\n",
       "      <td>1.12401</td>\n",
       "      <td>1.13085</td>\n",
       "      <td>1.13448</td>\n",
       "      <td>1.12401</td>\n",
       "      <td>1.12478</td>\n",
       "      <td>1.13100</td>\n",
       "      <td>1.13461</td>\n",
       "      <td>1.12478</td>\n",
       "      <td>268594</td>\n",
       "    </tr>\n",
       "    <tr>\n",
       "      <th>2020-07-07 21:00:00</th>\n",
       "      <td>1.13085</td>\n",
       "      <td>1.12725</td>\n",
       "      <td>1.13320</td>\n",
       "      <td>1.12581</td>\n",
       "      <td>1.13100</td>\n",
       "      <td>1.12748</td>\n",
       "      <td>1.13331</td>\n",
       "      <td>1.12594</td>\n",
       "      <td>296689</td>\n",
       "    </tr>\n",
       "    <tr>\n",
       "      <th>2020-07-08 21:00:00</th>\n",
       "      <td>1.12725</td>\n",
       "      <td>1.13289</td>\n",
       "      <td>1.13513</td>\n",
       "      <td>1.12617</td>\n",
       "      <td>1.12748</td>\n",
       "      <td>1.13309</td>\n",
       "      <td>1.13522</td>\n",
       "      <td>1.12629</td>\n",
       "      <td>289464</td>\n",
       "    </tr>\n",
       "    <tr>\n",
       "      <th>2020-07-09 21:00:00</th>\n",
       "      <td>1.13289</td>\n",
       "      <td>1.12839</td>\n",
       "      <td>1.13700</td>\n",
       "      <td>1.12796</td>\n",
       "      <td>1.13309</td>\n",
       "      <td>1.12856</td>\n",
       "      <td>1.13713</td>\n",
       "      <td>1.12808</td>\n",
       "      <td>338430</td>\n",
       "    </tr>\n",
       "    <tr>\n",
       "      <th>2020-07-10 21:00:00</th>\n",
       "      <td>1.12839</td>\n",
       "      <td>1.12966</td>\n",
       "      <td>1.13241</td>\n",
       "      <td>1.12543</td>\n",
       "      <td>1.12856</td>\n",
       "      <td>1.13020</td>\n",
       "      <td>1.13254</td>\n",
       "      <td>1.12553</td>\n",
       "      <td>258916</td>\n",
       "    </tr>\n",
       "    <tr>\n",
       "      <th>2020-07-12 21:00:00</th>\n",
       "      <td>1.12966</td>\n",
       "      <td>1.13020</td>\n",
       "      <td>1.13059</td>\n",
       "      <td>1.12950</td>\n",
       "      <td>1.13020</td>\n",
       "      <td>1.13079</td>\n",
       "      <td>1.13120</td>\n",
       "      <td>1.13025</td>\n",
       "      <td>148</td>\n",
       "    </tr>\n",
       "    <tr>\n",
       "      <th>2020-07-13 21:00:00</th>\n",
       "      <td>1.13020</td>\n",
       "      <td>1.13432</td>\n",
       "      <td>1.13743</td>\n",
       "      <td>1.13003</td>\n",
       "      <td>1.13079</td>\n",
       "      <td>1.13451</td>\n",
       "      <td>1.13755</td>\n",
       "      <td>1.13015</td>\n",
       "      <td>278642</td>\n",
       "    </tr>\n",
       "    <tr>\n",
       "      <th>2020-07-14 21:00:00</th>\n",
       "      <td>1.13432</td>\n",
       "      <td>1.13989</td>\n",
       "      <td>1.14082</td>\n",
       "      <td>1.13245</td>\n",
       "      <td>1.13451</td>\n",
       "      <td>1.14003</td>\n",
       "      <td>1.14093</td>\n",
       "      <td>1.13258</td>\n",
       "      <td>350672</td>\n",
       "    </tr>\n",
       "    <tr>\n",
       "      <th>2020-07-15 21:00:00</th>\n",
       "      <td>1.13989</td>\n",
       "      <td>1.14109</td>\n",
       "      <td>1.14514</td>\n",
       "      <td>1.13903</td>\n",
       "      <td>1.14003</td>\n",
       "      <td>1.14124</td>\n",
       "      <td>1.14527</td>\n",
       "      <td>1.13916</td>\n",
       "      <td>314252</td>\n",
       "    </tr>\n",
       "    <tr>\n",
       "      <th>2020-07-16 21:00:00</th>\n",
       "      <td>1.14109</td>\n",
       "      <td>1.13829</td>\n",
       "      <td>1.14412</td>\n",
       "      <td>1.13699</td>\n",
       "      <td>1.14124</td>\n",
       "      <td>1.13843</td>\n",
       "      <td>1.14423</td>\n",
       "      <td>1.13711</td>\n",
       "      <td>319339</td>\n",
       "    </tr>\n",
       "    <tr>\n",
       "      <th>2020-07-17 21:00:00</th>\n",
       "      <td>1.13829</td>\n",
       "      <td>1.14245</td>\n",
       "      <td>1.14431</td>\n",
       "      <td>1.13726</td>\n",
       "      <td>1.13843</td>\n",
       "      <td>1.14299</td>\n",
       "      <td>1.14442</td>\n",
       "      <td>1.13782</td>\n",
       "      <td>231880</td>\n",
       "    </tr>\n",
       "    <tr>\n",
       "      <th>2020-07-19 21:00:00</th>\n",
       "      <td>1.14245</td>\n",
       "      <td>1.14149</td>\n",
       "      <td>1.14257</td>\n",
       "      <td>1.13945</td>\n",
       "      <td>1.14299</td>\n",
       "      <td>1.14200</td>\n",
       "      <td>1.14327</td>\n",
       "      <td>1.14037</td>\n",
       "      <td>735</td>\n",
       "    </tr>\n",
       "    <tr>\n",
       "      <th>2020-07-20 21:00:00</th>\n",
       "      <td>1.14149</td>\n",
       "      <td>1.14466</td>\n",
       "      <td>1.14671</td>\n",
       "      <td>1.14018</td>\n",
       "      <td>1.14200</td>\n",
       "      <td>1.14483</td>\n",
       "      <td>1.14683</td>\n",
       "      <td>1.14029</td>\n",
       "      <td>323084</td>\n",
       "    </tr>\n",
       "    <tr>\n",
       "      <th>2020-07-21 21:00:00</th>\n",
       "      <td>1.14466</td>\n",
       "      <td>1.15260</td>\n",
       "      <td>1.15392</td>\n",
       "      <td>1.14224</td>\n",
       "      <td>1.14483</td>\n",
       "      <td>1.15276</td>\n",
       "      <td>1.15403</td>\n",
       "      <td>1.14236</td>\n",
       "      <td>342333</td>\n",
       "    </tr>\n",
       "    <tr>\n",
       "      <th>2020-07-22 21:00:00</th>\n",
       "      <td>1.15260</td>\n",
       "      <td>1.15690</td>\n",
       "      <td>1.16010</td>\n",
       "      <td>1.15065</td>\n",
       "      <td>1.15276</td>\n",
       "      <td>1.15704</td>\n",
       "      <td>1.16021</td>\n",
       "      <td>1.15074</td>\n",
       "      <td>419181</td>\n",
       "    </tr>\n",
       "    <tr>\n",
       "      <th>2020-07-23 21:00:00</th>\n",
       "      <td>1.15690</td>\n",
       "      <td>1.15953</td>\n",
       "      <td>1.16262</td>\n",
       "      <td>1.15397</td>\n",
       "      <td>1.15704</td>\n",
       "      <td>1.15968</td>\n",
       "      <td>1.16275</td>\n",
       "      <td>1.15409</td>\n",
       "      <td>370834</td>\n",
       "    </tr>\n",
       "    <tr>\n",
       "      <th>2020-07-24 21:00:00</th>\n",
       "      <td>1.15953</td>\n",
       "      <td>1.16535</td>\n",
       "      <td>1.16575</td>\n",
       "      <td>1.15806</td>\n",
       "      <td>1.15968</td>\n",
       "      <td>1.16589</td>\n",
       "      <td>1.16591</td>\n",
       "      <td>1.15818</td>\n",
       "      <td>374691</td>\n",
       "    </tr>\n",
       "    <tr>\n",
       "      <th>2020-07-26 21:00:00</th>\n",
       "      <td>1.16535</td>\n",
       "      <td>1.16419</td>\n",
       "      <td>1.16558</td>\n",
       "      <td>1.16358</td>\n",
       "      <td>1.16589</td>\n",
       "      <td>1.16456</td>\n",
       "      <td>1.16587</td>\n",
       "      <td>1.16405</td>\n",
       "      <td>768</td>\n",
       "    </tr>\n",
       "    <tr>\n",
       "      <th>2020-07-27 21:00:00</th>\n",
       "      <td>1.16419</td>\n",
       "      <td>1.17506</td>\n",
       "      <td>1.17808</td>\n",
       "      <td>1.16409</td>\n",
       "      <td>1.16456</td>\n",
       "      <td>1.17523</td>\n",
       "      <td>1.17819</td>\n",
       "      <td>1.16429</td>\n",
       "      <td>398263</td>\n",
       "    </tr>\n",
       "    <tr>\n",
       "      <th>2020-07-28 21:00:00</th>\n",
       "      <td>1.17506</td>\n",
       "      <td>1.17146</td>\n",
       "      <td>1.17731</td>\n",
       "      <td>1.16981</td>\n",
       "      <td>1.17523</td>\n",
       "      <td>1.17168</td>\n",
       "      <td>1.17744</td>\n",
       "      <td>1.16993</td>\n",
       "      <td>394594</td>\n",
       "    </tr>\n",
       "    <tr>\n",
       "      <th>2020-07-29 21:00:00</th>\n",
       "      <td>1.17146</td>\n",
       "      <td>1.17908</td>\n",
       "      <td>1.18061</td>\n",
       "      <td>1.17103</td>\n",
       "      <td>1.17168</td>\n",
       "      <td>1.17923</td>\n",
       "      <td>1.18069</td>\n",
       "      <td>1.17147</td>\n",
       "      <td>397407</td>\n",
       "    </tr>\n",
       "    <tr>\n",
       "      <th>2020-07-30 21:00:00</th>\n",
       "      <td>1.17908</td>\n",
       "      <td>1.18463</td>\n",
       "      <td>1.18477</td>\n",
       "      <td>1.17305</td>\n",
       "      <td>1.17923</td>\n",
       "      <td>1.18479</td>\n",
       "      <td>1.18489</td>\n",
       "      <td>1.17314</td>\n",
       "      <td>418315</td>\n",
       "    </tr>\n",
       "    <tr>\n",
       "      <th>2020-07-31 21:00:00</th>\n",
       "      <td>1.18463</td>\n",
       "      <td>1.17748</td>\n",
       "      <td>1.19084</td>\n",
       "      <td>1.17614</td>\n",
       "      <td>1.18479</td>\n",
       "      <td>1.17829</td>\n",
       "      <td>1.19093</td>\n",
       "      <td>1.17618</td>\n",
       "      <td>513253</td>\n",
       "    </tr>\n",
       "  </tbody>\n",
       "</table>\n",
       "</div>"
      ],
      "text/plain": [
       "                     bidopen  bidclose  bidhigh   bidlow  askopen  askclose  \\\n",
       "date                                                                          \n",
       "2020-07-02 21:00:00  1.12500   1.12385  1.13021  1.12227  1.12522   1.12404   \n",
       "2020-07-03 21:00:00  1.12385   1.12428  1.12506  1.12186  1.12404   1.12498   \n",
       "2020-07-05 21:00:00  1.12428   1.12401  1.12434  1.12400  1.12498   1.12478   \n",
       "2020-07-06 21:00:00  1.12401   1.13085  1.13448  1.12401  1.12478   1.13100   \n",
       "2020-07-07 21:00:00  1.13085   1.12725  1.13320  1.12581  1.13100   1.12748   \n",
       "2020-07-08 21:00:00  1.12725   1.13289  1.13513  1.12617  1.12748   1.13309   \n",
       "2020-07-09 21:00:00  1.13289   1.12839  1.13700  1.12796  1.13309   1.12856   \n",
       "2020-07-10 21:00:00  1.12839   1.12966  1.13241  1.12543  1.12856   1.13020   \n",
       "2020-07-12 21:00:00  1.12966   1.13020  1.13059  1.12950  1.13020   1.13079   \n",
       "2020-07-13 21:00:00  1.13020   1.13432  1.13743  1.13003  1.13079   1.13451   \n",
       "2020-07-14 21:00:00  1.13432   1.13989  1.14082  1.13245  1.13451   1.14003   \n",
       "2020-07-15 21:00:00  1.13989   1.14109  1.14514  1.13903  1.14003   1.14124   \n",
       "2020-07-16 21:00:00  1.14109   1.13829  1.14412  1.13699  1.14124   1.13843   \n",
       "2020-07-17 21:00:00  1.13829   1.14245  1.14431  1.13726  1.13843   1.14299   \n",
       "2020-07-19 21:00:00  1.14245   1.14149  1.14257  1.13945  1.14299   1.14200   \n",
       "2020-07-20 21:00:00  1.14149   1.14466  1.14671  1.14018  1.14200   1.14483   \n",
       "2020-07-21 21:00:00  1.14466   1.15260  1.15392  1.14224  1.14483   1.15276   \n",
       "2020-07-22 21:00:00  1.15260   1.15690  1.16010  1.15065  1.15276   1.15704   \n",
       "2020-07-23 21:00:00  1.15690   1.15953  1.16262  1.15397  1.15704   1.15968   \n",
       "2020-07-24 21:00:00  1.15953   1.16535  1.16575  1.15806  1.15968   1.16589   \n",
       "2020-07-26 21:00:00  1.16535   1.16419  1.16558  1.16358  1.16589   1.16456   \n",
       "2020-07-27 21:00:00  1.16419   1.17506  1.17808  1.16409  1.16456   1.17523   \n",
       "2020-07-28 21:00:00  1.17506   1.17146  1.17731  1.16981  1.17523   1.17168   \n",
       "2020-07-29 21:00:00  1.17146   1.17908  1.18061  1.17103  1.17168   1.17923   \n",
       "2020-07-30 21:00:00  1.17908   1.18463  1.18477  1.17305  1.17923   1.18479   \n",
       "2020-07-31 21:00:00  1.18463   1.17748  1.19084  1.17614  1.18479   1.17829   \n",
       "\n",
       "                     askhigh   asklow  tickqty  \n",
       "date                                            \n",
       "2020-07-02 21:00:00  1.13032  1.12239   315698  \n",
       "2020-07-03 21:00:00  1.12544  1.12197   245002  \n",
       "2020-07-05 21:00:00  1.12514  1.12462       75  \n",
       "2020-07-06 21:00:00  1.13461  1.12478   268594  \n",
       "2020-07-07 21:00:00  1.13331  1.12594   296689  \n",
       "2020-07-08 21:00:00  1.13522  1.12629   289464  \n",
       "2020-07-09 21:00:00  1.13713  1.12808   338430  \n",
       "2020-07-10 21:00:00  1.13254  1.12553   258916  \n",
       "2020-07-12 21:00:00  1.13120  1.13025      148  \n",
       "2020-07-13 21:00:00  1.13755  1.13015   278642  \n",
       "2020-07-14 21:00:00  1.14093  1.13258   350672  \n",
       "2020-07-15 21:00:00  1.14527  1.13916   314252  \n",
       "2020-07-16 21:00:00  1.14423  1.13711   319339  \n",
       "2020-07-17 21:00:00  1.14442  1.13782   231880  \n",
       "2020-07-19 21:00:00  1.14327  1.14037      735  \n",
       "2020-07-20 21:00:00  1.14683  1.14029   323084  \n",
       "2020-07-21 21:00:00  1.15403  1.14236   342333  \n",
       "2020-07-22 21:00:00  1.16021  1.15074   419181  \n",
       "2020-07-23 21:00:00  1.16275  1.15409   370834  \n",
       "2020-07-24 21:00:00  1.16591  1.15818   374691  \n",
       "2020-07-26 21:00:00  1.16587  1.16405      768  \n",
       "2020-07-27 21:00:00  1.17819  1.16429   398263  \n",
       "2020-07-28 21:00:00  1.17744  1.16993   394594  \n",
       "2020-07-29 21:00:00  1.18069  1.17147   397407  \n",
       "2020-07-30 21:00:00  1.18489  1.17314   418315  \n",
       "2020-07-31 21:00:00  1.19093  1.17618   513253  "
      ]
     },
     "execution_count": 3,
     "metadata": {},
     "output_type": "execute_result"
    }
   ],
   "source": [
    "api.get_candles(\"EUR/USD\", start = \"2020-07-01\", end = \"2020-07-31\",  period = \"D1\")"
   ]
  },
  {
   "cell_type": "code",
   "execution_count": 4,
   "metadata": {},
   "outputs": [
    {
     "data": {
      "text/html": [
       "<div>\n",
       "<style scoped>\n",
       "    .dataframe tbody tr th:only-of-type {\n",
       "        vertical-align: middle;\n",
       "    }\n",
       "\n",
       "    .dataframe tbody tr th {\n",
       "        vertical-align: top;\n",
       "    }\n",
       "\n",
       "    .dataframe thead th {\n",
       "        text-align: right;\n",
       "    }\n",
       "</style>\n",
       "<table border=\"1\" class=\"dataframe\">\n",
       "  <thead>\n",
       "    <tr style=\"text-align: right;\">\n",
       "      <th></th>\n",
       "      <th>bidopen</th>\n",
       "      <th>bidclose</th>\n",
       "      <th>bidhigh</th>\n",
       "      <th>bidlow</th>\n",
       "      <th>askopen</th>\n",
       "      <th>askclose</th>\n",
       "      <th>askhigh</th>\n",
       "      <th>asklow</th>\n",
       "      <th>tickqty</th>\n",
       "    </tr>\n",
       "    <tr>\n",
       "      <th>date</th>\n",
       "      <th></th>\n",
       "      <th></th>\n",
       "      <th></th>\n",
       "      <th></th>\n",
       "      <th></th>\n",
       "      <th></th>\n",
       "      <th></th>\n",
       "      <th></th>\n",
       "      <th></th>\n",
       "    </tr>\n",
       "  </thead>\n",
       "  <tbody>\n",
       "    <tr>\n",
       "      <th>2022-08-10 05:14:00</th>\n",
       "      <td>1.02138</td>\n",
       "      <td>1.02134</td>\n",
       "      <td>1.02138</td>\n",
       "      <td>1.02134</td>\n",
       "      <td>1.02150</td>\n",
       "      <td>1.02146</td>\n",
       "      <td>1.02150</td>\n",
       "      <td>1.02146</td>\n",
       "      <td>26</td>\n",
       "    </tr>\n",
       "    <tr>\n",
       "      <th>2022-08-10 05:15:00</th>\n",
       "      <td>1.02131</td>\n",
       "      <td>1.02137</td>\n",
       "      <td>1.02141</td>\n",
       "      <td>1.02131</td>\n",
       "      <td>1.02144</td>\n",
       "      <td>1.02149</td>\n",
       "      <td>1.02154</td>\n",
       "      <td>1.02144</td>\n",
       "      <td>45</td>\n",
       "    </tr>\n",
       "    <tr>\n",
       "      <th>2022-08-10 05:16:00</th>\n",
       "      <td>1.02136</td>\n",
       "      <td>1.02136</td>\n",
       "      <td>1.02138</td>\n",
       "      <td>1.02134</td>\n",
       "      <td>1.02149</td>\n",
       "      <td>1.02148</td>\n",
       "      <td>1.02150</td>\n",
       "      <td>1.02146</td>\n",
       "      <td>26</td>\n",
       "    </tr>\n",
       "    <tr>\n",
       "      <th>2022-08-10 05:17:00</th>\n",
       "      <td>1.02133</td>\n",
       "      <td>1.02133</td>\n",
       "      <td>1.02135</td>\n",
       "      <td>1.02128</td>\n",
       "      <td>1.02147</td>\n",
       "      <td>1.02146</td>\n",
       "      <td>1.02147</td>\n",
       "      <td>1.02141</td>\n",
       "      <td>32</td>\n",
       "    </tr>\n",
       "    <tr>\n",
       "      <th>2022-08-10 05:18:00</th>\n",
       "      <td>1.02133</td>\n",
       "      <td>1.02133</td>\n",
       "      <td>1.02134</td>\n",
       "      <td>1.02127</td>\n",
       "      <td>1.02145</td>\n",
       "      <td>1.02146</td>\n",
       "      <td>1.02147</td>\n",
       "      <td>1.02139</td>\n",
       "      <td>51</td>\n",
       "    </tr>\n",
       "    <tr>\n",
       "      <th>2022-08-10 05:19:00</th>\n",
       "      <td>1.02132</td>\n",
       "      <td>1.02133</td>\n",
       "      <td>1.02134</td>\n",
       "      <td>1.02132</td>\n",
       "      <td>1.02145</td>\n",
       "      <td>1.02146</td>\n",
       "      <td>1.02147</td>\n",
       "      <td>1.02145</td>\n",
       "      <td>36</td>\n",
       "    </tr>\n",
       "    <tr>\n",
       "      <th>2022-08-10 05:20:00</th>\n",
       "      <td>1.02133</td>\n",
       "      <td>1.02137</td>\n",
       "      <td>1.02139</td>\n",
       "      <td>1.02133</td>\n",
       "      <td>1.02145</td>\n",
       "      <td>1.02149</td>\n",
       "      <td>1.02151</td>\n",
       "      <td>1.02145</td>\n",
       "      <td>95</td>\n",
       "    </tr>\n",
       "    <tr>\n",
       "      <th>2022-08-10 05:21:00</th>\n",
       "      <td>1.02136</td>\n",
       "      <td>1.02139</td>\n",
       "      <td>1.02139</td>\n",
       "      <td>1.02133</td>\n",
       "      <td>1.02149</td>\n",
       "      <td>1.02151</td>\n",
       "      <td>1.02152</td>\n",
       "      <td>1.02146</td>\n",
       "      <td>39</td>\n",
       "    </tr>\n",
       "    <tr>\n",
       "      <th>2022-08-10 05:22:00</th>\n",
       "      <td>1.02138</td>\n",
       "      <td>1.02139</td>\n",
       "      <td>1.02139</td>\n",
       "      <td>1.02137</td>\n",
       "      <td>1.02151</td>\n",
       "      <td>1.02151</td>\n",
       "      <td>1.02151</td>\n",
       "      <td>1.02149</td>\n",
       "      <td>11</td>\n",
       "    </tr>\n",
       "    <tr>\n",
       "      <th>2022-08-10 05:23:00</th>\n",
       "      <td>1.02138</td>\n",
       "      <td>1.02138</td>\n",
       "      <td>1.02139</td>\n",
       "      <td>1.02138</td>\n",
       "      <td>1.02151</td>\n",
       "      <td>1.02151</td>\n",
       "      <td>1.02152</td>\n",
       "      <td>1.02150</td>\n",
       "      <td>16</td>\n",
       "    </tr>\n",
       "  </tbody>\n",
       "</table>\n",
       "</div>"
      ],
      "text/plain": [
       "                     bidopen  bidclose  bidhigh   bidlow  askopen  askclose  \\\n",
       "date                                                                          \n",
       "2022-08-10 05:14:00  1.02138   1.02134  1.02138  1.02134  1.02150   1.02146   \n",
       "2022-08-10 05:15:00  1.02131   1.02137  1.02141  1.02131  1.02144   1.02149   \n",
       "2022-08-10 05:16:00  1.02136   1.02136  1.02138  1.02134  1.02149   1.02148   \n",
       "2022-08-10 05:17:00  1.02133   1.02133  1.02135  1.02128  1.02147   1.02146   \n",
       "2022-08-10 05:18:00  1.02133   1.02133  1.02134  1.02127  1.02145   1.02146   \n",
       "2022-08-10 05:19:00  1.02132   1.02133  1.02134  1.02132  1.02145   1.02146   \n",
       "2022-08-10 05:20:00  1.02133   1.02137  1.02139  1.02133  1.02145   1.02149   \n",
       "2022-08-10 05:21:00  1.02136   1.02139  1.02139  1.02133  1.02149   1.02151   \n",
       "2022-08-10 05:22:00  1.02138   1.02139  1.02139  1.02137  1.02151   1.02151   \n",
       "2022-08-10 05:23:00  1.02138   1.02138  1.02139  1.02138  1.02151   1.02151   \n",
       "\n",
       "                     askhigh   asklow  tickqty  \n",
       "date                                            \n",
       "2022-08-10 05:14:00  1.02150  1.02146       26  \n",
       "2022-08-10 05:15:00  1.02154  1.02144       45  \n",
       "2022-08-10 05:16:00  1.02150  1.02146       26  \n",
       "2022-08-10 05:17:00  1.02147  1.02141       32  \n",
       "2022-08-10 05:18:00  1.02147  1.02139       51  \n",
       "2022-08-10 05:19:00  1.02147  1.02145       36  \n",
       "2022-08-10 05:20:00  1.02151  1.02145       95  \n",
       "2022-08-10 05:21:00  1.02152  1.02146       39  \n",
       "2022-08-10 05:22:00  1.02151  1.02149       11  \n",
       "2022-08-10 05:23:00  1.02152  1.02150       16  "
      ]
     },
     "execution_count": 4,
     "metadata": {},
     "output_type": "execute_result"
    }
   ],
   "source": [
    "api.get_candles(\"EUR/USD\", number = 10, period = \"m1\")"
   ]
  },
  {
   "cell_type": "code",
   "execution_count": 5,
   "metadata": {},
   "outputs": [],
   "source": [
    "api.subscribe_market_data(\"EUR/USD\")"
   ]
  },
  {
   "cell_type": "code",
   "execution_count": 6,
   "metadata": {},
   "outputs": [
    {
     "data": {
      "text/plain": [
       "['EUR/USD']"
      ]
     },
     "execution_count": 6,
     "metadata": {},
     "output_type": "execute_result"
    }
   ],
   "source": [
    "api.get_subscribed_symbols()"
   ]
  },
  {
   "cell_type": "code",
   "execution_count": 18,
   "metadata": {},
   "outputs": [],
   "source": [
    "api.unsubscribe_market_data(\"EUR/USD\")"
   ]
  },
  {
   "cell_type": "code",
   "execution_count": 7,
   "metadata": {},
   "outputs": [],
   "source": [
    "def print_data(data, dataframe):\n",
    "    print('%3d | %s | %s, %s, %s'\n",
    "          % (len(dataframe), data['Symbol'],\n",
    "             pd.to_datetime(int(data['Updated']), unit='ms'),\n",
    "             data['Rates'][0], data['Rates'][1]))"
   ]
  },
  {
   "cell_type": "code",
   "execution_count": 8,
   "metadata": {},
   "outputs": [],
   "source": [
    "api.subscribe_market_data(\"EUR/USD\", (print_data, ))"
   ]
  },
  {
   "cell_type": "code",
   "execution_count": 9,
   "metadata": {},
   "outputs": [],
   "source": [
    "api.unsubscribe_market_data(\"EUR/USD\")"
   ]
  },
  {
   "cell_type": "code",
   "execution_count": 10,
   "metadata": {},
   "outputs": [
    {
     "data": {
      "text/html": [
       "<div>\n",
       "<style scoped>\n",
       "    .dataframe tbody tr th:only-of-type {\n",
       "        vertical-align: middle;\n",
       "    }\n",
       "\n",
       "    .dataframe tbody tr th {\n",
       "        vertical-align: top;\n",
       "    }\n",
       "\n",
       "    .dataframe thead th {\n",
       "        text-align: right;\n",
       "    }\n",
       "</style>\n",
       "<table border=\"1\" class=\"dataframe\">\n",
       "  <thead>\n",
       "    <tr style=\"text-align: right;\">\n",
       "      <th></th>\n",
       "    </tr>\n",
       "  </thead>\n",
       "  <tbody>\n",
       "  </tbody>\n",
       "</table>\n",
       "</div>"
      ],
      "text/plain": [
       "Empty DataFrame\n",
       "Columns: []\n",
       "Index: []"
      ]
     },
     "execution_count": 10,
     "metadata": {},
     "output_type": "execute_result"
    }
   ],
   "source": [
    "api.get_open_positions()"
   ]
  },
  {
   "cell_type": "code",
   "execution_count": 11,
   "metadata": {},
   "outputs": [
    {
     "data": {
      "text/plain": [
       "<fxcmpy.fxcmpy_order.fxcmpy_order at 0x1fcbc9958e0>"
      ]
     },
     "execution_count": 11,
     "metadata": {},
     "output_type": "execute_result"
    }
   ],
   "source": [
    "api.create_market_buy_order(\"EUR/USD\", 100)"
   ]
  },
  {
   "cell_type": "code",
   "execution_count": 12,
   "metadata": {},
   "outputs": [],
   "source": [
    "order = api.create_market_buy_order(\"EUR/USD\", 100)"
   ]
  },
  {
   "cell_type": "code",
   "execution_count": 13,
   "metadata": {},
   "outputs": [
    {
     "data": {
      "text/plain": [
       "datetime.datetime(2022, 8, 10, 5, 24, 0, 421000)"
      ]
     },
     "execution_count": 13,
     "metadata": {},
     "output_type": "execute_result"
    }
   ],
   "source": [
    "order.get_time()"
   ]
  },
  {
   "cell_type": "code",
   "execution_count": 14,
   "metadata": {},
   "outputs": [
    {
     "data": {
      "text/plain": [
       "True"
      ]
     },
     "execution_count": 14,
     "metadata": {},
     "output_type": "execute_result"
    }
   ],
   "source": [
    "order.get_isBuy()"
   ]
  },
  {
   "cell_type": "code",
   "execution_count": 15,
   "metadata": {},
   "outputs": [
    {
     "data": {
      "text/plain": [
       "'EUR/USD'"
      ]
     },
     "execution_count": 15,
     "metadata": {},
     "output_type": "execute_result"
    }
   ],
   "source": [
    "order.get_currency()"
   ]
  },
  {
   "cell_type": "code",
   "execution_count": 16,
   "metadata": {},
   "outputs": [],
   "source": [
    "col = [\"tradeId\", \"amountK\", \"currency\", \"grossPL\", \"isBuy\"]"
   ]
  },
  {
   "cell_type": "code",
   "execution_count": 17,
   "metadata": {},
   "outputs": [
    {
     "data": {
      "text/html": [
       "<div>\n",
       "<style scoped>\n",
       "    .dataframe tbody tr th:only-of-type {\n",
       "        vertical-align: middle;\n",
       "    }\n",
       "\n",
       "    .dataframe tbody tr th {\n",
       "        vertical-align: top;\n",
       "    }\n",
       "\n",
       "    .dataframe thead th {\n",
       "        text-align: right;\n",
       "    }\n",
       "</style>\n",
       "<table border=\"1\" class=\"dataframe\">\n",
       "  <thead>\n",
       "    <tr style=\"text-align: right;\">\n",
       "      <th></th>\n",
       "      <th>tradeId</th>\n",
       "      <th>amountK</th>\n",
       "      <th>currency</th>\n",
       "      <th>grossPL</th>\n",
       "      <th>isBuy</th>\n",
       "    </tr>\n",
       "  </thead>\n",
       "  <tbody>\n",
       "    <tr>\n",
       "      <th>0</th>\n",
       "      <td>73277368</td>\n",
       "      <td>100</td>\n",
       "      <td>EUR/USD</td>\n",
       "      <td>-14</td>\n",
       "      <td>True</td>\n",
       "    </tr>\n",
       "    <tr>\n",
       "      <th>1</th>\n",
       "      <td>73277369</td>\n",
       "      <td>100</td>\n",
       "      <td>EUR/USD</td>\n",
       "      <td>-14</td>\n",
       "      <td>True</td>\n",
       "    </tr>\n",
       "  </tbody>\n",
       "</table>\n",
       "</div>"
      ],
      "text/plain": [
       "    tradeId  amountK currency  grossPL  isBuy\n",
       "0  73277368      100  EUR/USD      -14   True\n",
       "1  73277369      100  EUR/USD      -14   True"
      ]
     },
     "execution_count": 17,
     "metadata": {},
     "output_type": "execute_result"
    }
   ],
   "source": [
    "api.get_open_positions()[col]"
   ]
  },
  {
   "cell_type": "code",
   "execution_count": 18,
   "metadata": {},
   "outputs": [
    {
     "data": {
      "text/plain": [
       "<fxcmpy.fxcmpy_order.fxcmpy_order at 0x1fcbc306640>"
      ]
     },
     "execution_count": 18,
     "metadata": {},
     "output_type": "execute_result"
    }
   ],
   "source": [
    "api.create_market_sell_order(\"EUR/USD\", 200)"
   ]
  },
  {
   "cell_type": "code",
   "execution_count": 19,
   "metadata": {},
   "outputs": [
    {
     "data": {
      "text/html": [
       "<div>\n",
       "<style scoped>\n",
       "    .dataframe tbody tr th:only-of-type {\n",
       "        vertical-align: middle;\n",
       "    }\n",
       "\n",
       "    .dataframe tbody tr th {\n",
       "        vertical-align: top;\n",
       "    }\n",
       "\n",
       "    .dataframe thead th {\n",
       "        text-align: right;\n",
       "    }\n",
       "</style>\n",
       "<table border=\"1\" class=\"dataframe\">\n",
       "  <thead>\n",
       "    <tr style=\"text-align: right;\">\n",
       "      <th></th>\n",
       "      <th>tradeId</th>\n",
       "      <th>amountK</th>\n",
       "      <th>currency</th>\n",
       "      <th>grossPL</th>\n",
       "      <th>isBuy</th>\n",
       "    </tr>\n",
       "  </thead>\n",
       "  <tbody>\n",
       "    <tr>\n",
       "      <th>0</th>\n",
       "      <td>73277368</td>\n",
       "      <td>100</td>\n",
       "      <td>EUR/USD</td>\n",
       "      <td>-14</td>\n",
       "      <td>True</td>\n",
       "    </tr>\n",
       "    <tr>\n",
       "      <th>1</th>\n",
       "      <td>73277369</td>\n",
       "      <td>100</td>\n",
       "      <td>EUR/USD</td>\n",
       "      <td>-14</td>\n",
       "      <td>True</td>\n",
       "    </tr>\n",
       "    <tr>\n",
       "      <th>2</th>\n",
       "      <td>73277371</td>\n",
       "      <td>200</td>\n",
       "      <td>EUR/USD</td>\n",
       "      <td>-20</td>\n",
       "      <td>False</td>\n",
       "    </tr>\n",
       "  </tbody>\n",
       "</table>\n",
       "</div>"
      ],
      "text/plain": [
       "    tradeId  amountK currency  grossPL  isBuy\n",
       "0  73277368      100  EUR/USD      -14   True\n",
       "1  73277369      100  EUR/USD      -14   True\n",
       "2  73277371      200  EUR/USD      -20  False"
      ]
     },
     "execution_count": 19,
     "metadata": {},
     "output_type": "execute_result"
    }
   ],
   "source": [
    "api.get_open_positions()[col]"
   ]
  },
  {
   "cell_type": "code",
   "execution_count": 20,
   "metadata": {},
   "outputs": [],
   "source": [
    "api.close_all_for_symbol(\"EUR/USD\")"
   ]
  },
  {
   "cell_type": "code",
   "execution_count": 21,
   "metadata": {},
   "outputs": [
    {
     "data": {
      "text/html": [
       "<div>\n",
       "<style scoped>\n",
       "    .dataframe tbody tr th:only-of-type {\n",
       "        vertical-align: middle;\n",
       "    }\n",
       "\n",
       "    .dataframe tbody tr th {\n",
       "        vertical-align: top;\n",
       "    }\n",
       "\n",
       "    .dataframe thead th {\n",
       "        text-align: right;\n",
       "    }\n",
       "</style>\n",
       "<table border=\"1\" class=\"dataframe\">\n",
       "  <thead>\n",
       "    <tr style=\"text-align: right;\">\n",
       "      <th></th>\n",
       "    </tr>\n",
       "  </thead>\n",
       "  <tbody>\n",
       "  </tbody>\n",
       "</table>\n",
       "</div>"
      ],
      "text/plain": [
       "Empty DataFrame\n",
       "Columns: []\n",
       "Index: []"
      ]
     },
     "execution_count": 21,
     "metadata": {},
     "output_type": "execute_result"
    }
   ],
   "source": [
    "api.get_open_positions()"
   ]
  },
  {
   "cell_type": "code",
   "execution_count": 22,
   "metadata": {},
   "outputs": [
    {
     "data": {
      "text/html": [
       "<div>\n",
       "<style scoped>\n",
       "    .dataframe tbody tr th:only-of-type {\n",
       "        vertical-align: middle;\n",
       "    }\n",
       "\n",
       "    .dataframe tbody tr th {\n",
       "        vertical-align: top;\n",
       "    }\n",
       "\n",
       "    .dataframe thead th {\n",
       "        text-align: right;\n",
       "    }\n",
       "</style>\n",
       "<table border=\"1\" class=\"dataframe\">\n",
       "  <thead>\n",
       "    <tr style=\"text-align: right;\">\n",
       "      <th></th>\n",
       "      <th>tradeId</th>\n",
       "      <th>amountK</th>\n",
       "      <th>currency</th>\n",
       "      <th>grossPL</th>\n",
       "      <th>isBuy</th>\n",
       "    </tr>\n",
       "  </thead>\n",
       "  <tbody>\n",
       "    <tr>\n",
       "      <th>0</th>\n",
       "      <td>73277368</td>\n",
       "      <td>100</td>\n",
       "      <td>EUR/USD</td>\n",
       "      <td>-11</td>\n",
       "      <td>True</td>\n",
       "    </tr>\n",
       "    <tr>\n",
       "      <th>1</th>\n",
       "      <td>73277369</td>\n",
       "      <td>100</td>\n",
       "      <td>EUR/USD</td>\n",
       "      <td>-11</td>\n",
       "      <td>True</td>\n",
       "    </tr>\n",
       "    <tr>\n",
       "      <th>2</th>\n",
       "      <td>73277371</td>\n",
       "      <td>200</td>\n",
       "      <td>EUR/USD</td>\n",
       "      <td>-24</td>\n",
       "      <td>False</td>\n",
       "    </tr>\n",
       "  </tbody>\n",
       "</table>\n",
       "</div>"
      ],
      "text/plain": [
       "    tradeId  amountK currency  grossPL  isBuy\n",
       "0  73277368      100  EUR/USD      -11   True\n",
       "1  73277369      100  EUR/USD      -11   True\n",
       "2  73277371      200  EUR/USD      -24  False"
      ]
     },
     "execution_count": 22,
     "metadata": {},
     "output_type": "execute_result"
    }
   ],
   "source": [
    "api.get_closed_positions()[col]"
   ]
  },
  {
   "cell_type": "code",
   "execution_count": 23,
   "metadata": {},
   "outputs": [
    {
     "data": {
      "text/html": [
       "<div>\n",
       "<style scoped>\n",
       "    .dataframe tbody tr th:only-of-type {\n",
       "        vertical-align: middle;\n",
       "    }\n",
       "\n",
       "    .dataframe tbody tr th {\n",
       "        vertical-align: top;\n",
       "    }\n",
       "\n",
       "    .dataframe thead th {\n",
       "        text-align: right;\n",
       "    }\n",
       "</style>\n",
       "<table border=\"1\" class=\"dataframe\">\n",
       "  <thead>\n",
       "    <tr style=\"text-align: right;\">\n",
       "      <th></th>\n",
       "      <th>tradeId</th>\n",
       "      <th>amountK</th>\n",
       "      <th>currency</th>\n",
       "      <th>grossPL</th>\n",
       "      <th>isBuy</th>\n",
       "    </tr>\n",
       "  </thead>\n",
       "  <tbody>\n",
       "    <tr>\n",
       "      <th>0</th>\n",
       "      <td></td>\n",
       "      <td>400</td>\n",
       "      <td>EUR/USD</td>\n",
       "      <td>-46</td>\n",
       "      <td>False</td>\n",
       "    </tr>\n",
       "  </tbody>\n",
       "</table>\n",
       "</div>"
      ],
      "text/plain": [
       "  tradeId  amountK currency  grossPL  isBuy\n",
       "0              400  EUR/USD      -46  False"
      ]
     },
     "execution_count": 23,
     "metadata": {},
     "output_type": "execute_result"
    }
   ],
   "source": [
    "api.get_closed_positions_summary()[col]"
   ]
  },
  {
   "cell_type": "code",
   "execution_count": 24,
   "metadata": {},
   "outputs": [
    {
     "data": {
      "text/html": [
       "<div>\n",
       "<style scoped>\n",
       "    .dataframe tbody tr th:only-of-type {\n",
       "        vertical-align: middle;\n",
       "    }\n",
       "\n",
       "    .dataframe tbody tr th {\n",
       "        vertical-align: top;\n",
       "    }\n",
       "\n",
       "    .dataframe thead th {\n",
       "        text-align: right;\n",
       "    }\n",
       "</style>\n",
       "<table border=\"1\" class=\"dataframe\">\n",
       "  <thead>\n",
       "    <tr style=\"text-align: right;\">\n",
       "      <th></th>\n",
       "      <th>0</th>\n",
       "    </tr>\n",
       "  </thead>\n",
       "  <tbody>\n",
       "    <tr>\n",
       "      <th>t</th>\n",
       "      <td>6</td>\n",
       "    </tr>\n",
       "    <tr>\n",
       "      <th>ratePrecision</th>\n",
       "      <td>0</td>\n",
       "    </tr>\n",
       "    <tr>\n",
       "      <th>accountId</th>\n",
       "      <td>1774532</td>\n",
       "    </tr>\n",
       "    <tr>\n",
       "      <th>balance</th>\n",
       "      <td>19954</td>\n",
       "    </tr>\n",
       "    <tr>\n",
       "      <th>usdMr</th>\n",
       "      <td>0</td>\n",
       "    </tr>\n",
       "    <tr>\n",
       "      <th>mc</th>\n",
       "      <td>N</td>\n",
       "    </tr>\n",
       "    <tr>\n",
       "      <th>mcDate</th>\n",
       "      <td></td>\n",
       "    </tr>\n",
       "    <tr>\n",
       "      <th>accountName</th>\n",
       "      <td>1001774532</td>\n",
       "    </tr>\n",
       "    <tr>\n",
       "      <th>usdMr3</th>\n",
       "      <td>0</td>\n",
       "    </tr>\n",
       "    <tr>\n",
       "      <th>hedging</th>\n",
       "      <td>Y</td>\n",
       "    </tr>\n",
       "    <tr>\n",
       "      <th>usableMargin3</th>\n",
       "      <td>19954</td>\n",
       "    </tr>\n",
       "    <tr>\n",
       "      <th>usableMarginPerc</th>\n",
       "      <td>100</td>\n",
       "    </tr>\n",
       "    <tr>\n",
       "      <th>usableMargin3Perc</th>\n",
       "      <td>100</td>\n",
       "    </tr>\n",
       "    <tr>\n",
       "      <th>equity</th>\n",
       "      <td>19954</td>\n",
       "    </tr>\n",
       "    <tr>\n",
       "      <th>usableMargin</th>\n",
       "      <td>19954</td>\n",
       "    </tr>\n",
       "    <tr>\n",
       "      <th>bus</th>\n",
       "      <td>1000</td>\n",
       "    </tr>\n",
       "    <tr>\n",
       "      <th>dayPL</th>\n",
       "      <td>-46</td>\n",
       "    </tr>\n",
       "    <tr>\n",
       "      <th>grossPL</th>\n",
       "      <td>0</td>\n",
       "    </tr>\n",
       "  </tbody>\n",
       "</table>\n",
       "</div>"
      ],
      "text/plain": [
       "                            0\n",
       "t                           6\n",
       "ratePrecision               0\n",
       "accountId             1774532\n",
       "balance                 19954\n",
       "usdMr                       0\n",
       "mc                          N\n",
       "mcDate                       \n",
       "accountName        1001774532\n",
       "usdMr3                      0\n",
       "hedging                     Y\n",
       "usableMargin3           19954\n",
       "usableMarginPerc          100\n",
       "usableMargin3Perc         100\n",
       "equity                  19954\n",
       "usableMargin            19954\n",
       "bus                      1000\n",
       "dayPL                     -46\n",
       "grossPL                     0"
      ]
     },
     "execution_count": 24,
     "metadata": {},
     "output_type": "execute_result"
    }
   ],
   "source": [
    "api.get_accounts().T"
   ]
  },
  {
   "cell_type": "code",
   "execution_count": 25,
   "metadata": {},
   "outputs": [],
   "source": [
    "api.close()"
   ]
  },
  {
   "cell_type": "code",
   "execution_count": null,
   "metadata": {},
   "outputs": [],
   "source": []
  },
  {
   "cell_type": "markdown",
   "metadata": {},
   "source": [
    "## Preview: A Trader Class live in action"
   ]
  },
  {
   "cell_type": "code",
   "execution_count": 26,
   "metadata": {},
   "outputs": [],
   "source": [
    "import pandas as pd\n",
    "import numpy as np\n",
    "import fxcmpy\n",
    "import time\n",
    "from datetime import datetime"
   ]
  },
  {
   "cell_type": "code",
   "execution_count": 27,
   "metadata": {},
   "outputs": [],
   "source": [
    "api = fxcmpy.fxcmpy(config_file= \"fxcm.cfg\")"
   ]
  },
  {
   "cell_type": "code",
   "execution_count": 28,
   "metadata": {},
   "outputs": [],
   "source": [
    "col = [\"tradeId\", \"amountK\", \"currency\", \"grossPL\", \"isBuy\"]"
   ]
  },
  {
   "cell_type": "code",
   "execution_count": 29,
   "metadata": {},
   "outputs": [],
   "source": [
    "class ConTrader():\n",
    "    \n",
    "    def __init__(self, instrument, bar_length, window, units):\n",
    "        self.instrument = instrument\n",
    "        self.bar_length = pd.to_timedelta(bar_length) \n",
    "        self.tick_data = None\n",
    "        self.raw_data = None\n",
    "        self.data = None \n",
    "        self.ticks = 0\n",
    "        self.last_bar = None  \n",
    "        self.units = units\n",
    "        self.position = 0\n",
    "        \n",
    "        #*****************add strategy-specific attributes here******************\n",
    "        self.window = window\n",
    "        #************************************************************************        \n",
    "    \n",
    "    def get_most_recent(self, period = \"m1\", number = 10000):\n",
    "        while True:  \n",
    "            time.sleep(5)\n",
    "            df = api.get_candles(self.instrument, number = number, period = period, columns = [\"bidclose\", \"askclose\"])\n",
    "            df[self.instrument] = (df.bidclose + df.askclose) / 2\n",
    "            df = df[self.instrument].to_frame()\n",
    "            df = df.resample(self.bar_length, label = \"right\").last().dropna().iloc[:-1]\n",
    "            self.raw_data = df.copy()\n",
    "            self.last_bar = self.raw_data.index[-1]\n",
    "            if pd.to_datetime(datetime.utcnow()) - self.last_bar < self.bar_length:\n",
    "                break\n",
    "    \n",
    "    def get_tick_data(self, data, dataframe):\n",
    "        \n",
    "        self.ticks += 1\n",
    "        print(self.ticks, end = \" \")\n",
    "        \n",
    "        recent_tick = pd.to_datetime(data[\"Updated\"], unit = \"ms\")\n",
    "        \n",
    "        if recent_tick - self.last_bar > self.bar_length:\n",
    "            self.tick_data = dataframe.loc[self.last_bar:, [\"Bid\", \"Ask\"]]\n",
    "            self.tick_data[self.instrument] = (self.tick_data.Ask + self.tick_data.Bid)/2\n",
    "            self.tick_data = self.tick_data[self.instrument].to_frame()\n",
    "            self.resample_and_join()\n",
    "            self.define_strategy() \n",
    "            self.execute_trades()\n",
    "            \n",
    "    def resample_and_join(self):\n",
    "        self.raw_data = self.raw_data.append(self.tick_data.resample(self.bar_length, \n",
    "                                                             label=\"right\").last().ffill().iloc[:-1])\n",
    "        self.last_bar = self.raw_data.index[-1]  \n",
    "        \n",
    "    def define_strategy(self): # \"strategy-specific\"\n",
    "        df = self.raw_data.copy()\n",
    "        \n",
    "        #******************** define your strategy here ************************\n",
    "        df[\"returns\"] = np.log(df[self.instrument] / df[self.instrument].shift())\n",
    "        df[\"position\"] = -np.sign(df.returns.rolling(self.window).mean())\n",
    "        #***********************************************************************\n",
    "        \n",
    "        self.data = df.copy()\n",
    "    \n",
    "    def execute_trades(self):\n",
    "        if self.data[\"position\"].iloc[-1] == 1:\n",
    "            if self.position == 0:\n",
    "                order = api.create_market_buy_order(self.instrument, self.units)\n",
    "                self.report_trade(order, \"GOING LONG\")  \n",
    "            elif self.position == -1:\n",
    "                order = api.create_market_buy_order(self.instrument, self.units * 2)\n",
    "                self.report_trade(order, \"GOING LONG\")  \n",
    "            self.position = 1\n",
    "        elif self.data[\"position\"].iloc[-1] == -1: \n",
    "            if self.position == 0:\n",
    "                order = api.create_market_sell_order(self.instrument, self.units)\n",
    "                self.report_trade(order, \"GOING SHORT\")  \n",
    "            elif self.position == 1:\n",
    "                order = api.create_market_sell_order(self.instrument, self.units * 2)\n",
    "                self.report_trade(order, \"GOING SHORT\")  \n",
    "            self.position = -1\n",
    "        elif self.data[\"position\"].iloc[-1] == 0: \n",
    "            if self.position == -1:\n",
    "                order = api.create_market_buy_order(self.instrument, self.units)\n",
    "                self.report_trade(order, \"GOING NEUTRAL\")  \n",
    "            elif self.position == 1:\n",
    "                order = api.create_market_sell_order(self.instrument, self.units)\n",
    "                self.report_trade(order, \"GOING NEUTRAL\")  \n",
    "            self.position = 0\n",
    "\n",
    "    def report_trade(self, order, going):  \n",
    "        time = order.get_time()\n",
    "        units = api.get_open_positions().amountK.iloc[-1]\n",
    "        price = api.get_open_positions().open.iloc[-1]\n",
    "        unreal_pl = api.get_open_positions().grossPL.sum()\n",
    "        print(\"\\n\" + 100* \"-\")\n",
    "        print(\"{} | {}\".format(time, going))\n",
    "        print(\"{} | units = {} | price = {} | Unreal. P&L = {}\".format(time, units, price, unreal_pl))\n",
    "        print(100 * \"-\" + \"\\n\")\n",
    "        "
   ]
  },
  {
   "cell_type": "markdown",
   "metadata": {},
   "source": [
    "__Simple Contrarian: Bar_lenght = 1min | Window = 1 (1 minute)__"
   ]
  },
  {
   "cell_type": "code",
   "execution_count": 30,
   "metadata": {},
   "outputs": [],
   "source": [
    "trader = ConTrader(\"EUR/USD\", bar_length = \"1min\", window = 1, units = 100)"
   ]
  },
  {
   "cell_type": "code",
   "execution_count": 31,
   "metadata": {},
   "outputs": [
    {
     "name": "stdout",
     "output_type": "stream",
     "text": [
      "1 2 3 4 5 6 7 8 9 10 "
     ]
    },
    {
     "name": "stderr",
     "output_type": "stream",
     "text": [
      "C:\\Users\\Ashwin Dev\\AppData\\Local\\Temp\\ipykernel_10096\\336370571.py:46: FutureWarning: The frame.append method is deprecated and will be removed from pandas in a future version. Use pandas.concat instead.\n",
      "  self.raw_data = self.raw_data.append(self.tick_data.resample(self.bar_length,\n"
     ]
    },
    {
     "name": "stdout",
     "output_type": "stream",
     "text": [
      "11 12 13 14 15 \n",
      "----------------------------------------------------------------------------------------------------\n",
      "2022-08-10 05:28:05.634000 | GOING LONG\n",
      "2022-08-10 05:28:05.634000 | units = 100 | price = 1.0214 | Unreal. P&L = -10\n",
      "----------------------------------------------------------------------------------------------------\n",
      "\n",
      "16 17 18 19 20 21 22 23 24 25 26 27 28 29 30 "
     ]
    },
    {
     "name": "stderr",
     "output_type": "stream",
     "text": [
      "C:\\Users\\Ashwin Dev\\AppData\\Local\\Temp\\ipykernel_10096\\336370571.py:46: FutureWarning: The frame.append method is deprecated and will be removed from pandas in a future version. Use pandas.concat instead.\n",
      "  self.raw_data = self.raw_data.append(self.tick_data.resample(self.bar_length,\n"
     ]
    },
    {
     "name": "stdout",
     "output_type": "stream",
     "text": [
      "31 "
     ]
    },
    {
     "name": "stderr",
     "output_type": "stream",
     "text": [
      "Exception in thread Thread-2712:\n",
      "Traceback (most recent call last):\n",
      "  File \"C:\\Users\\Ashwin Dev\\anaconda3\\lib\\site-packages\\urllib3\\connectionpool.py\", line 703, in urlopen\n",
      "    httplib_response = self._make_request(\n",
      "  File \"C:\\Users\\Ashwin Dev\\anaconda3\\lib\\site-packages\\urllib3\\connectionpool.py\", line 449, in _make_request\n",
      "    six.raise_from(e, None)\n",
      "  File \"<string>\", line 3, in raise_from\n",
      "  File \"C:\\Users\\Ashwin Dev\\anaconda3\\lib\\site-packages\\urllib3\\connectionpool.py\", line 444, in _make_request\n",
      "    httplib_response = conn.getresponse()\n",
      "  File \"C:\\Users\\Ashwin Dev\\anaconda3\\lib\\http\\client.py\", line 1377, in getresponse\n",
      "    response.begin()\n",
      "  File \"C:\\Users\\Ashwin Dev\\anaconda3\\lib\\http\\client.py\", line 320, in begin\n",
      "    version, status, reason = self._read_status()\n",
      "  File \"C:\\Users\\Ashwin Dev\\anaconda3\\lib\\http\\client.py\", line 281, in _read_status\n",
      "    line = str(self.fp.readline(_MAXLINE + 1), \"iso-8859-1\")\n",
      "  File \"C:\\Users\\Ashwin Dev\\anaconda3\\lib\\socket.py\", line 704, in readinto\n",
      "    return self._sock.recv_into(b)\n",
      "  File \"C:\\Users\\Ashwin Dev\\anaconda3\\lib\\ssl.py\", line 1241, in recv_into\n",
      "    return self.read(nbytes, buffer)\n",
      "  File \"C:\\Users\\Ashwin Dev\\anaconda3\\lib\\ssl.py\", line 1099, in read\n",
      "    return self._sslobj.read(len, buffer)\n",
      "ConnectionResetError: [WinError 10054] An existing connection was forcibly closed by the remote host\n",
      "\n",
      "During handling of the above exception, another exception occurred:\n",
      "\n",
      "Traceback (most recent call last):\n",
      "  File \"C:\\Users\\Ashwin Dev\\anaconda3\\lib\\site-packages\\requests\\adapters.py\", line 440, in send\n",
      "    resp = conn.urlopen(\n",
      "  File \"C:\\Users\\Ashwin Dev\\anaconda3\\lib\\site-packages\\urllib3\\connectionpool.py\", line 785, in urlopen\n",
      "    retries = retries.increment(\n",
      "  File \"C:\\Users\\Ashwin Dev\\anaconda3\\lib\\site-packages\\urllib3\\util\\retry.py\", line 550, in increment\n",
      "    raise six.reraise(type(error), error, _stacktrace)\n",
      "  File \"C:\\Users\\Ashwin Dev\\anaconda3\\lib\\site-packages\\urllib3\\packages\\six.py\", line 769, in reraise\n",
      "    raise value.with_traceback(tb)\n",
      "  File \"C:\\Users\\Ashwin Dev\\anaconda3\\lib\\site-packages\\urllib3\\connectionpool.py\", line 703, in urlopen\n",
      "    httplib_response = self._make_request(\n",
      "  File \"C:\\Users\\Ashwin Dev\\anaconda3\\lib\\site-packages\\urllib3\\connectionpool.py\", line 449, in _make_request\n",
      "    six.raise_from(e, None)\n",
      "  File \"<string>\", line 3, in raise_from\n",
      "  File \"C:\\Users\\Ashwin Dev\\anaconda3\\lib\\site-packages\\urllib3\\connectionpool.py\", line 444, in _make_request\n",
      "    httplib_response = conn.getresponse()\n",
      "  File \"C:\\Users\\Ashwin Dev\\anaconda3\\lib\\http\\client.py\", line 1377, in getresponse\n",
      "    response.begin()\n",
      "  File \"C:\\Users\\Ashwin Dev\\anaconda3\\lib\\http\\client.py\", line 320, in begin\n",
      "    version, status, reason = self._read_status()\n",
      "  File \"C:\\Users\\Ashwin Dev\\anaconda3\\lib\\http\\client.py\", line 281, in _read_status\n",
      "    line = str(self.fp.readline(_MAXLINE + 1), \"iso-8859-1\")\n",
      "  File \"C:\\Users\\Ashwin Dev\\anaconda3\\lib\\socket.py\", line 704, in readinto\n",
      "    return self._sock.recv_into(b)\n",
      "  File \"C:\\Users\\Ashwin Dev\\anaconda3\\lib\\ssl.py\", line 1241, in recv_into\n",
      "    return self.read(nbytes, buffer)\n",
      "  File \"C:\\Users\\Ashwin Dev\\anaconda3\\lib\\ssl.py\", line 1099, in read\n",
      "    return self._sslobj.read(len, buffer)\n",
      "urllib3.exceptions.ProtocolError: ('Connection aborted.', ConnectionResetError(10054, 'An existing connection was forcibly closed by the remote host', None, 10054, None))\n",
      "\n",
      "During handling of the above exception, another exception occurred:\n",
      "\n",
      "Traceback (most recent call last):\n",
      "  File \"C:\\Users\\Ashwin Dev\\anaconda3\\lib\\threading.py\", line 973, in _bootstrap_inner\n",
      "    self.run()\n",
      "  File \"C:\\Users\\Ashwin Dev\\anaconda3\\lib\\threading.py\", line 910, in run\n",
      "    self._target(*self._args, **self._kwargs)\n",
      "  File \"C:\\Users\\Ashwin Dev\\anaconda3\\lib\\site-packages\\socketio\\client.py\", line 615, in _handle_eio_message\n",
      "    self._handle_event(pkt.namespace, pkt.id, pkt.data)\n",
      "  File \"C:\\Users\\Ashwin Dev\\anaconda3\\lib\\site-packages\\socketio\\client.py\", line 501, in _handle_event\n",
      "    r = self._trigger_event(data[0], namespace, *data[1:])\n",
      "  File \"C:\\Users\\Ashwin Dev\\anaconda3\\lib\\site-packages\\socketio\\client.py\", line 547, in _trigger_event\n",
      "    return self.handlers[namespace][event](*args)\n",
      "  File \"C:\\Users\\Ashwin Dev\\anaconda3\\lib\\site-packages\\fxcmpy\\fxcmpy.py\", line 2575, in __on_price_update__\n",
      "    callbacks[func](data, self.prices[symbol])\n",
      "  File \"C:\\Users\\Ashwin Dev\\AppData\\Local\\Temp\\ipykernel_10096\\336370571.py\", line 43, in get_tick_data\n",
      "  File \"C:\\Users\\Ashwin Dev\\AppData\\Local\\Temp\\ipykernel_10096\\336370571.py\", line 75, in execute_trades\n",
      "  File \"C:\\Users\\Ashwin Dev\\AppData\\Local\\Temp\\ipykernel_10096\\336370571.py\", line 88, in report_trade\n",
      "  File \"C:\\Users\\Ashwin Dev\\anaconda3\\lib\\site-packages\\fxcmpy\\fxcmpy.py\", line 374, in get_open_positions\n",
      "    data = self.get_model(('OpenPosition',))\n",
      "  File \"C:\\Users\\Ashwin Dev\\anaconda3\\lib\\site-packages\\fxcmpy\\fxcmpy.py\", line 346, in get_model\n",
      "    data = self.__handle_request__(method='trading/get_model',\n",
      "  File \"C:\\Users\\Ashwin Dev\\anaconda3\\lib\\site-packages\\fxcmpy\\fxcmpy.py\", line 2498, in __handle_request__\n",
      "    req = requests.get('%s:443/%s' % (self.trading_url, method),\n",
      "  File \"C:\\Users\\Ashwin Dev\\anaconda3\\lib\\site-packages\\requests\\api.py\", line 75, in get\n",
      "    return request('get', url, params=params, **kwargs)\n",
      "  File \"C:\\Users\\Ashwin Dev\\anaconda3\\lib\\site-packages\\requests\\api.py\", line 61, in request\n",
      "    return session.request(method=method, url=url, **kwargs)\n",
      "  File \"C:\\Users\\Ashwin Dev\\anaconda3\\lib\\site-packages\\requests\\sessions.py\", line 529, in request\n",
      "    resp = self.send(prep, **send_kwargs)\n",
      "  File \"C:\\Users\\Ashwin Dev\\anaconda3\\lib\\site-packages\\requests\\sessions.py\", line 645, in send\n",
      "    r = adapter.send(request, **kwargs)\n",
      "  File \"C:\\Users\\Ashwin Dev\\anaconda3\\lib\\site-packages\\requests\\adapters.py\", line 501, in send\n",
      "    raise ConnectionError(err, request=request)\n",
      "requests.exceptions.ConnectionError: ('Connection aborted.', ConnectionResetError(10054, 'An existing connection was forcibly closed by the remote host', None, 10054, None))\n"
     ]
    },
    {
     "name": "stdout",
     "output_type": "stream",
     "text": [
      "32 33 34 35 36 37 38 39 40 41 42 43 44 45 46 "
     ]
    }
   ],
   "source": [
    "trader.get_most_recent()\n",
    "api.subscribe_market_data(trader.instrument, (trader.get_tick_data, ))"
   ]
  },
  {
   "cell_type": "code",
   "execution_count": 32,
   "metadata": {},
   "outputs": [
    {
     "name": "stdout",
     "output_type": "stream",
     "text": [
      "47 \n",
      "\n",
      "2022-08-10 05:30:03.058891 | GOING NEUTRAL\n",
      "\n",
      "  tradeId  amountK currency  grossPL  isBuy\n",
      "0              700  EUR/USD      -77  False\n"
     ]
    }
   ],
   "source": [
    "api.unsubscribe_market_data(trader.instrument)\n",
    "if len(api.get_open_positions()) != 0:\n",
    "    api.close_all_for_symbol(trader.instrument)\n",
    "    print(2*\"\\n\" + \"{} | GOING NEUTRAL\".format(str(datetime.utcnow())) + \"\\n\")\n",
    "    time.sleep(20)\n",
    "    print(api.get_closed_positions_summary()[col])\n",
    "    trader.position = 0"
   ]
  },
  {
   "cell_type": "code",
   "execution_count": null,
   "metadata": {},
   "outputs": [],
   "source": []
  },
  {
   "cell_type": "markdown",
   "metadata": {},
   "source": [
    "__Simple Contrarian: Bar_lenght = 1min | Window = 60 (1 hour)__"
   ]
  },
  {
   "cell_type": "code",
   "execution_count": null,
   "metadata": {},
   "outputs": [],
   "source": [
    "trader = ConTrader(\"EUR/USD\", bar_length = \"1min\", window = 60, units = 100)"
   ]
  },
  {
   "cell_type": "code",
   "execution_count": null,
   "metadata": {},
   "outputs": [],
   "source": [
    "trader.get_most_recent()\n",
    "api.subscribe_market_data(trader.instrument, (trader.get_tick_data, ))"
   ]
  },
  {
   "cell_type": "code",
   "execution_count": null,
   "metadata": {},
   "outputs": [],
   "source": [
    "api.unsubscribe_market_data(trader.instrument)\n",
    "if len(api.get_open_positions()) != 0:\n",
    "    api.close_all_for_symbol(trader.instrument)\n",
    "    print(2*\"\\n\" + \"{} | GOING NEUTRAL\".format(str(datetime.utcnow())) + \"\\n\")\n",
    "    time.sleep(20)\n",
    "    print(api.get_closed_positions_summary()[col])\n",
    "    trader.position = 0"
   ]
  },
  {
   "cell_type": "code",
   "execution_count": null,
   "metadata": {},
   "outputs": [],
   "source": [
    "api.close()"
   ]
  },
  {
   "cell_type": "code",
   "execution_count": null,
   "metadata": {},
   "outputs": [],
   "source": []
  },
  {
   "cell_type": "markdown",
   "metadata": {},
   "source": [
    "## Collecting and storing real-time tick data"
   ]
  },
  {
   "cell_type": "code",
   "execution_count": 1,
   "metadata": {},
   "outputs": [],
   "source": [
    "import pandas as pd\n",
    "import fxcmpy"
   ]
  },
  {
   "cell_type": "code",
   "execution_count": 2,
   "metadata": {},
   "outputs": [],
   "source": [
    "api = fxcmpy.fxcmpy(config_file= \"fxcm.cfg\")"
   ]
  },
  {
   "cell_type": "code",
   "execution_count": 3,
   "metadata": {},
   "outputs": [],
   "source": [
    "def print_data(data, dataframe):\n",
    "    print(dataframe)"
   ]
  },
  {
   "cell_type": "code",
   "execution_count": 4,
   "metadata": {},
   "outputs": [
    {
     "name": "stdout",
     "output_type": "stream",
     "text": [
      "                             Bid      Ask     High      Low\n",
      "2022-08-12 12:58:23.753  1.02716  1.02719  1.02688  1.03437\n",
      "2022-08-12 12:58:24.230  1.02710  1.02722  1.02686  1.03292\n",
      "                             Bid      Ask     High      Low\n",
      "2022-08-12 12:58:23.753  1.02716  1.02719  1.02688  1.03437\n",
      "2022-08-12 12:58:24.230  1.02710  1.02722  1.02686  1.03292\n",
      "2022-08-12 12:58:24.462  1.02710  1.02722  1.02686  1.03292\n",
      "                             Bid      Ask     High      Low\n",
      "2022-08-12 12:58:23.753  1.02716  1.02719  1.02688  1.03437\n",
      "2022-08-12 12:58:24.230  1.02710  1.02722  1.02686  1.03292\n",
      "2022-08-12 12:58:24.462  1.02710  1.02722  1.02686  1.03292\n",
      "2022-08-12 12:58:26.083  1.02711  1.02723  1.02686  1.03292\n",
      "                             Bid      Ask     High      Low\n",
      "2022-08-12 12:58:23.753  1.02716  1.02719  1.02688  1.03437\n",
      "2022-08-12 12:58:24.230  1.02710  1.02722  1.02686  1.03292\n",
      "2022-08-12 12:58:24.462  1.02710  1.02722  1.02686  1.03292\n",
      "2022-08-12 12:58:26.083  1.02711  1.02723  1.02686  1.03292\n",
      "2022-08-12 12:58:26.620  1.02711  1.02724  1.02686  1.03292\n",
      "                             Bid      Ask     High      Low\n",
      "2022-08-12 12:58:23.753  1.02716  1.02719  1.02688  1.03437\n",
      "2022-08-12 12:58:24.230  1.02710  1.02722  1.02686  1.03292\n",
      "2022-08-12 12:58:24.462  1.02710  1.02722  1.02686  1.03292\n",
      "2022-08-12 12:58:26.083  1.02711  1.02723  1.02686  1.03292\n",
      "2022-08-12 12:58:26.620  1.02711  1.02724  1.02686  1.03292\n",
      "2022-08-12 12:58:28.172  1.02711  1.02724  1.02686  1.03292\n"
     ]
    }
   ],
   "source": [
    "api.subscribe_market_data(\"EUR/USD\", (print_data, ))"
   ]
  },
  {
   "cell_type": "code",
   "execution_count": 5,
   "metadata": {},
   "outputs": [
    {
     "name": "stdout",
     "output_type": "stream",
     "text": [
      "                             Bid      Ask     High      Low\n",
      "2022-08-12 12:58:23.753  1.02716  1.02719  1.02688  1.03437\n",
      "2022-08-12 12:58:24.230  1.02710  1.02722  1.02686  1.03292\n",
      "2022-08-12 12:58:24.462  1.02710  1.02722  1.02686  1.03292\n",
      "2022-08-12 12:58:26.083  1.02711  1.02723  1.02686  1.03292\n",
      "2022-08-12 12:58:26.620  1.02711  1.02724  1.02686  1.03292\n",
      "2022-08-12 12:58:28.172  1.02711  1.02724  1.02686  1.03292\n",
      "2022-08-12 12:58:28.765  1.02711  1.02724  1.02686  1.03292\n"
     ]
    }
   ],
   "source": [
    "api.unsubscribe_market_data(\"EUR/USD\")"
   ]
  },
  {
   "cell_type": "code",
   "execution_count": 6,
   "metadata": {},
   "outputs": [],
   "source": [
    "tick_data = None"
   ]
  },
  {
   "cell_type": "code",
   "execution_count": 7,
   "metadata": {},
   "outputs": [],
   "source": [
    "def get_tick_data(data, dataframe):\n",
    "    \n",
    "    global tick_data # global variable tick_data\n",
    "    \n",
    "    print('%3d | %s | %s, %s, %s'\n",
    "          % (len(dataframe), data['Symbol'],\n",
    "             pd.to_datetime(int(data['Updated']), unit='ms'),\n",
    "             data['Rates'][0], data['Rates'][1]))\n",
    "    \n",
    "    tick_data = dataframe.iloc[:, :2]"
   ]
  },
  {
   "cell_type": "code",
   "execution_count": 8,
   "metadata": {},
   "outputs": [
    {
     "name": "stdout",
     "output_type": "stream",
     "text": [
      "  2 | EUR/USD | 2022-08-12 12:58:57.828000, 1.02685, 1.02697\n",
      "  3 | EUR/USD | 2022-08-12 12:58:59.349000, 1.02684, 1.02697\n",
      "  4 | EUR/USD | 2022-08-12 12:58:59.614000, 1.02684, 1.02697\n",
      "  5 | EUR/USD | 2022-08-12 12:59:00.313000, 1.02684, 1.02697\n",
      "  6 | EUR/USD | 2022-08-12 12:59:01.428000, 1.02685, 1.02697\n",
      "  7 | EUR/USD | 2022-08-12 12:59:02.898000, 1.02686, 1.02698\n",
      "  8 | EUR/USD | 2022-08-12 12:59:03.292000, 1.02685, 1.02698\n",
      "  9 | EUR/USD | 2022-08-12 12:59:04.774000, 1.02687, 1.0269899999999998\n"
     ]
    }
   ],
   "source": [
    "api.subscribe_market_data(\"EUR/USD\", (get_tick_data, ))"
   ]
  },
  {
   "cell_type": "code",
   "execution_count": 9,
   "metadata": {},
   "outputs": [
    {
     "name": "stdout",
     "output_type": "stream",
     "text": [
      " 10 | EUR/USD | 2022-08-12 12:59:05.373000, 1.02687, 1.027\n",
      " 11 | EUR/USD | 2022-08-12 12:59:06.153000, 1.02688, 1.02701\n",
      " 12 | EUR/USD | 2022-08-12 12:59:06.846000, 1.02689, 1.0270199999999998\n",
      " 13 | EUR/USD | 2022-08-12 12:59:07.624000, 1.02687, 1.0269899999999998\n",
      " 14 | EUR/USD | 2022-08-12 12:59:08.384000, 1.02686, 1.0269899999999998\n",
      " 15 | EUR/USD | 2022-08-12 12:59:10.441000, 1.02687, 1.0269899999999998\n",
      " 16 | EUR/USD | 2022-08-12 12:59:11.012000, 1.02687, 1.027\n",
      " 17 | EUR/USD | 2022-08-12 12:59:12.112000, 1.02688, 1.02701\n",
      " 18 | EUR/USD | 2022-08-12 12:59:12.715000, 1.02688, 1.027\n"
     ]
    },
    {
     "ename": "ConnectionError",
     "evalue": "('Connection aborted.', ConnectionResetError(10054, 'An existing connection was forcibly closed by the remote host', None, 10054, None))",
     "output_type": "error",
     "traceback": [
      "\u001b[1;31m---------------------------------------------------------------------------\u001b[0m",
      "\u001b[1;31mConnectionResetError\u001b[0m                      Traceback (most recent call last)",
      "File \u001b[1;32m~\\anaconda3\\lib\\site-packages\\urllib3\\connectionpool.py:703\u001b[0m, in \u001b[0;36mHTTPConnectionPool.urlopen\u001b[1;34m(self, method, url, body, headers, retries, redirect, assert_same_host, timeout, pool_timeout, release_conn, chunked, body_pos, **response_kw)\u001b[0m\n\u001b[0;32m    702\u001b[0m \u001b[38;5;66;03m# Make the request on the httplib connection object.\u001b[39;00m\n\u001b[1;32m--> 703\u001b[0m httplib_response \u001b[38;5;241m=\u001b[39m \u001b[38;5;28;43mself\u001b[39;49m\u001b[38;5;241;43m.\u001b[39;49m\u001b[43m_make_request\u001b[49m\u001b[43m(\u001b[49m\n\u001b[0;32m    704\u001b[0m \u001b[43m    \u001b[49m\u001b[43mconn\u001b[49m\u001b[43m,\u001b[49m\n\u001b[0;32m    705\u001b[0m \u001b[43m    \u001b[49m\u001b[43mmethod\u001b[49m\u001b[43m,\u001b[49m\n\u001b[0;32m    706\u001b[0m \u001b[43m    \u001b[49m\u001b[43murl\u001b[49m\u001b[43m,\u001b[49m\n\u001b[0;32m    707\u001b[0m \u001b[43m    \u001b[49m\u001b[43mtimeout\u001b[49m\u001b[38;5;241;43m=\u001b[39;49m\u001b[43mtimeout_obj\u001b[49m\u001b[43m,\u001b[49m\n\u001b[0;32m    708\u001b[0m \u001b[43m    \u001b[49m\u001b[43mbody\u001b[49m\u001b[38;5;241;43m=\u001b[39;49m\u001b[43mbody\u001b[49m\u001b[43m,\u001b[49m\n\u001b[0;32m    709\u001b[0m \u001b[43m    \u001b[49m\u001b[43mheaders\u001b[49m\u001b[38;5;241;43m=\u001b[39;49m\u001b[43mheaders\u001b[49m\u001b[43m,\u001b[49m\n\u001b[0;32m    710\u001b[0m \u001b[43m    \u001b[49m\u001b[43mchunked\u001b[49m\u001b[38;5;241;43m=\u001b[39;49m\u001b[43mchunked\u001b[49m\u001b[43m,\u001b[49m\n\u001b[0;32m    711\u001b[0m \u001b[43m\u001b[49m\u001b[43m)\u001b[49m\n\u001b[0;32m    713\u001b[0m \u001b[38;5;66;03m# If we're going to release the connection in ``finally:``, then\u001b[39;00m\n\u001b[0;32m    714\u001b[0m \u001b[38;5;66;03m# the response doesn't need to know about the connection. Otherwise\u001b[39;00m\n\u001b[0;32m    715\u001b[0m \u001b[38;5;66;03m# it will also try to release it and we'll have a double-release\u001b[39;00m\n\u001b[0;32m    716\u001b[0m \u001b[38;5;66;03m# mess.\u001b[39;00m\n",
      "File \u001b[1;32m~\\anaconda3\\lib\\site-packages\\urllib3\\connectionpool.py:449\u001b[0m, in \u001b[0;36mHTTPConnectionPool._make_request\u001b[1;34m(self, conn, method, url, timeout, chunked, **httplib_request_kw)\u001b[0m\n\u001b[0;32m    445\u001b[0m         \u001b[38;5;28;01mexcept\u001b[39;00m \u001b[38;5;167;01mBaseException\u001b[39;00m \u001b[38;5;28;01mas\u001b[39;00m e:\n\u001b[0;32m    446\u001b[0m             \u001b[38;5;66;03m# Remove the TypeError from the exception chain in\u001b[39;00m\n\u001b[0;32m    447\u001b[0m             \u001b[38;5;66;03m# Python 3 (including for exceptions like SystemExit).\u001b[39;00m\n\u001b[0;32m    448\u001b[0m             \u001b[38;5;66;03m# Otherwise it looks like a bug in the code.\u001b[39;00m\n\u001b[1;32m--> 449\u001b[0m             \u001b[43msix\u001b[49m\u001b[38;5;241;43m.\u001b[39;49m\u001b[43mraise_from\u001b[49m\u001b[43m(\u001b[49m\u001b[43me\u001b[49m\u001b[43m,\u001b[49m\u001b[43m \u001b[49m\u001b[38;5;28;43;01mNone\u001b[39;49;00m\u001b[43m)\u001b[49m\n\u001b[0;32m    450\u001b[0m \u001b[38;5;28;01mexcept\u001b[39;00m (SocketTimeout, BaseSSLError, SocketError) \u001b[38;5;28;01mas\u001b[39;00m e:\n",
      "File \u001b[1;32m<string>:3\u001b[0m, in \u001b[0;36mraise_from\u001b[1;34m(value, from_value)\u001b[0m\n",
      "File \u001b[1;32m~\\anaconda3\\lib\\site-packages\\urllib3\\connectionpool.py:444\u001b[0m, in \u001b[0;36mHTTPConnectionPool._make_request\u001b[1;34m(self, conn, method, url, timeout, chunked, **httplib_request_kw)\u001b[0m\n\u001b[0;32m    443\u001b[0m \u001b[38;5;28;01mtry\u001b[39;00m:\n\u001b[1;32m--> 444\u001b[0m     httplib_response \u001b[38;5;241m=\u001b[39m \u001b[43mconn\u001b[49m\u001b[38;5;241;43m.\u001b[39;49m\u001b[43mgetresponse\u001b[49m\u001b[43m(\u001b[49m\u001b[43m)\u001b[49m\n\u001b[0;32m    445\u001b[0m \u001b[38;5;28;01mexcept\u001b[39;00m \u001b[38;5;167;01mBaseException\u001b[39;00m \u001b[38;5;28;01mas\u001b[39;00m e:\n\u001b[0;32m    446\u001b[0m     \u001b[38;5;66;03m# Remove the TypeError from the exception chain in\u001b[39;00m\n\u001b[0;32m    447\u001b[0m     \u001b[38;5;66;03m# Python 3 (including for exceptions like SystemExit).\u001b[39;00m\n\u001b[0;32m    448\u001b[0m     \u001b[38;5;66;03m# Otherwise it looks like a bug in the code.\u001b[39;00m\n",
      "File \u001b[1;32m~\\anaconda3\\lib\\http\\client.py:1377\u001b[0m, in \u001b[0;36mHTTPConnection.getresponse\u001b[1;34m(self)\u001b[0m\n\u001b[0;32m   1376\u001b[0m \u001b[38;5;28;01mtry\u001b[39;00m:\n\u001b[1;32m-> 1377\u001b[0m     \u001b[43mresponse\u001b[49m\u001b[38;5;241;43m.\u001b[39;49m\u001b[43mbegin\u001b[49m\u001b[43m(\u001b[49m\u001b[43m)\u001b[49m\n\u001b[0;32m   1378\u001b[0m \u001b[38;5;28;01mexcept\u001b[39;00m \u001b[38;5;167;01mConnectionError\u001b[39;00m:\n",
      "File \u001b[1;32m~\\anaconda3\\lib\\http\\client.py:320\u001b[0m, in \u001b[0;36mHTTPResponse.begin\u001b[1;34m(self)\u001b[0m\n\u001b[0;32m    319\u001b[0m \u001b[38;5;28;01mwhile\u001b[39;00m \u001b[38;5;28;01mTrue\u001b[39;00m:\n\u001b[1;32m--> 320\u001b[0m     version, status, reason \u001b[38;5;241m=\u001b[39m \u001b[38;5;28;43mself\u001b[39;49m\u001b[38;5;241;43m.\u001b[39;49m\u001b[43m_read_status\u001b[49m\u001b[43m(\u001b[49m\u001b[43m)\u001b[49m\n\u001b[0;32m    321\u001b[0m     \u001b[38;5;28;01mif\u001b[39;00m status \u001b[38;5;241m!=\u001b[39m CONTINUE:\n",
      "File \u001b[1;32m~\\anaconda3\\lib\\http\\client.py:281\u001b[0m, in \u001b[0;36mHTTPResponse._read_status\u001b[1;34m(self)\u001b[0m\n\u001b[0;32m    280\u001b[0m \u001b[38;5;28;01mdef\u001b[39;00m \u001b[38;5;21m_read_status\u001b[39m(\u001b[38;5;28mself\u001b[39m):\n\u001b[1;32m--> 281\u001b[0m     line \u001b[38;5;241m=\u001b[39m \u001b[38;5;28mstr\u001b[39m(\u001b[38;5;28;43mself\u001b[39;49m\u001b[38;5;241;43m.\u001b[39;49m\u001b[43mfp\u001b[49m\u001b[38;5;241;43m.\u001b[39;49m\u001b[43mreadline\u001b[49m\u001b[43m(\u001b[49m\u001b[43m_MAXLINE\u001b[49m\u001b[43m \u001b[49m\u001b[38;5;241;43m+\u001b[39;49m\u001b[43m \u001b[49m\u001b[38;5;241;43m1\u001b[39;49m\u001b[43m)\u001b[49m, \u001b[38;5;124m\"\u001b[39m\u001b[38;5;124miso-8859-1\u001b[39m\u001b[38;5;124m\"\u001b[39m)\n\u001b[0;32m    282\u001b[0m     \u001b[38;5;28;01mif\u001b[39;00m \u001b[38;5;28mlen\u001b[39m(line) \u001b[38;5;241m>\u001b[39m _MAXLINE:\n",
      "File \u001b[1;32m~\\anaconda3\\lib\\socket.py:704\u001b[0m, in \u001b[0;36mSocketIO.readinto\u001b[1;34m(self, b)\u001b[0m\n\u001b[0;32m    703\u001b[0m \u001b[38;5;28;01mtry\u001b[39;00m:\n\u001b[1;32m--> 704\u001b[0m     \u001b[38;5;28;01mreturn\u001b[39;00m \u001b[38;5;28;43mself\u001b[39;49m\u001b[38;5;241;43m.\u001b[39;49m\u001b[43m_sock\u001b[49m\u001b[38;5;241;43m.\u001b[39;49m\u001b[43mrecv_into\u001b[49m\u001b[43m(\u001b[49m\u001b[43mb\u001b[49m\u001b[43m)\u001b[49m\n\u001b[0;32m    705\u001b[0m \u001b[38;5;28;01mexcept\u001b[39;00m timeout:\n",
      "File \u001b[1;32m~\\anaconda3\\lib\\ssl.py:1241\u001b[0m, in \u001b[0;36mSSLSocket.recv_into\u001b[1;34m(self, buffer, nbytes, flags)\u001b[0m\n\u001b[0;32m   1238\u001b[0m         \u001b[38;5;28;01mraise\u001b[39;00m \u001b[38;5;167;01mValueError\u001b[39;00m(\n\u001b[0;32m   1239\u001b[0m           \u001b[38;5;124m\"\u001b[39m\u001b[38;5;124mnon-zero flags not allowed in calls to recv_into() on \u001b[39m\u001b[38;5;132;01m%s\u001b[39;00m\u001b[38;5;124m\"\u001b[39m \u001b[38;5;241m%\u001b[39m\n\u001b[0;32m   1240\u001b[0m           \u001b[38;5;28mself\u001b[39m\u001b[38;5;241m.\u001b[39m\u001b[38;5;18m__class__\u001b[39m)\n\u001b[1;32m-> 1241\u001b[0m     \u001b[38;5;28;01mreturn\u001b[39;00m \u001b[38;5;28;43mself\u001b[39;49m\u001b[38;5;241;43m.\u001b[39;49m\u001b[43mread\u001b[49m\u001b[43m(\u001b[49m\u001b[43mnbytes\u001b[49m\u001b[43m,\u001b[49m\u001b[43m \u001b[49m\u001b[43mbuffer\u001b[49m\u001b[43m)\u001b[49m\n\u001b[0;32m   1242\u001b[0m \u001b[38;5;28;01melse\u001b[39;00m:\n",
      "File \u001b[1;32m~\\anaconda3\\lib\\ssl.py:1099\u001b[0m, in \u001b[0;36mSSLSocket.read\u001b[1;34m(self, len, buffer)\u001b[0m\n\u001b[0;32m   1098\u001b[0m \u001b[38;5;28;01mif\u001b[39;00m buffer \u001b[38;5;129;01mis\u001b[39;00m \u001b[38;5;129;01mnot\u001b[39;00m \u001b[38;5;28;01mNone\u001b[39;00m:\n\u001b[1;32m-> 1099\u001b[0m     \u001b[38;5;28;01mreturn\u001b[39;00m \u001b[38;5;28;43mself\u001b[39;49m\u001b[38;5;241;43m.\u001b[39;49m\u001b[43m_sslobj\u001b[49m\u001b[38;5;241;43m.\u001b[39;49m\u001b[43mread\u001b[49m\u001b[43m(\u001b[49m\u001b[38;5;28;43mlen\u001b[39;49m\u001b[43m,\u001b[49m\u001b[43m \u001b[49m\u001b[43mbuffer\u001b[49m\u001b[43m)\u001b[49m\n\u001b[0;32m   1100\u001b[0m \u001b[38;5;28;01melse\u001b[39;00m:\n",
      "\u001b[1;31mConnectionResetError\u001b[0m: [WinError 10054] An existing connection was forcibly closed by the remote host",
      "\nDuring handling of the above exception, another exception occurred:\n",
      "\u001b[1;31mProtocolError\u001b[0m                             Traceback (most recent call last)",
      "File \u001b[1;32m~\\anaconda3\\lib\\site-packages\\requests\\adapters.py:440\u001b[0m, in \u001b[0;36mHTTPAdapter.send\u001b[1;34m(self, request, stream, timeout, verify, cert, proxies)\u001b[0m\n\u001b[0;32m    439\u001b[0m \u001b[38;5;28;01mif\u001b[39;00m \u001b[38;5;129;01mnot\u001b[39;00m chunked:\n\u001b[1;32m--> 440\u001b[0m     resp \u001b[38;5;241m=\u001b[39m \u001b[43mconn\u001b[49m\u001b[38;5;241;43m.\u001b[39;49m\u001b[43murlopen\u001b[49m\u001b[43m(\u001b[49m\n\u001b[0;32m    441\u001b[0m \u001b[43m        \u001b[49m\u001b[43mmethod\u001b[49m\u001b[38;5;241;43m=\u001b[39;49m\u001b[43mrequest\u001b[49m\u001b[38;5;241;43m.\u001b[39;49m\u001b[43mmethod\u001b[49m\u001b[43m,\u001b[49m\n\u001b[0;32m    442\u001b[0m \u001b[43m        \u001b[49m\u001b[43murl\u001b[49m\u001b[38;5;241;43m=\u001b[39;49m\u001b[43murl\u001b[49m\u001b[43m,\u001b[49m\n\u001b[0;32m    443\u001b[0m \u001b[43m        \u001b[49m\u001b[43mbody\u001b[49m\u001b[38;5;241;43m=\u001b[39;49m\u001b[43mrequest\u001b[49m\u001b[38;5;241;43m.\u001b[39;49m\u001b[43mbody\u001b[49m\u001b[43m,\u001b[49m\n\u001b[0;32m    444\u001b[0m \u001b[43m        \u001b[49m\u001b[43mheaders\u001b[49m\u001b[38;5;241;43m=\u001b[39;49m\u001b[43mrequest\u001b[49m\u001b[38;5;241;43m.\u001b[39;49m\u001b[43mheaders\u001b[49m\u001b[43m,\u001b[49m\n\u001b[0;32m    445\u001b[0m \u001b[43m        \u001b[49m\u001b[43mredirect\u001b[49m\u001b[38;5;241;43m=\u001b[39;49m\u001b[38;5;28;43;01mFalse\u001b[39;49;00m\u001b[43m,\u001b[49m\n\u001b[0;32m    446\u001b[0m \u001b[43m        \u001b[49m\u001b[43massert_same_host\u001b[49m\u001b[38;5;241;43m=\u001b[39;49m\u001b[38;5;28;43;01mFalse\u001b[39;49;00m\u001b[43m,\u001b[49m\n\u001b[0;32m    447\u001b[0m \u001b[43m        \u001b[49m\u001b[43mpreload_content\u001b[49m\u001b[38;5;241;43m=\u001b[39;49m\u001b[38;5;28;43;01mFalse\u001b[39;49;00m\u001b[43m,\u001b[49m\n\u001b[0;32m    448\u001b[0m \u001b[43m        \u001b[49m\u001b[43mdecode_content\u001b[49m\u001b[38;5;241;43m=\u001b[39;49m\u001b[38;5;28;43;01mFalse\u001b[39;49;00m\u001b[43m,\u001b[49m\n\u001b[0;32m    449\u001b[0m \u001b[43m        \u001b[49m\u001b[43mretries\u001b[49m\u001b[38;5;241;43m=\u001b[39;49m\u001b[38;5;28;43mself\u001b[39;49m\u001b[38;5;241;43m.\u001b[39;49m\u001b[43mmax_retries\u001b[49m\u001b[43m,\u001b[49m\n\u001b[0;32m    450\u001b[0m \u001b[43m        \u001b[49m\u001b[43mtimeout\u001b[49m\u001b[38;5;241;43m=\u001b[39;49m\u001b[43mtimeout\u001b[49m\n\u001b[0;32m    451\u001b[0m \u001b[43m    \u001b[49m\u001b[43m)\u001b[49m\n\u001b[0;32m    453\u001b[0m \u001b[38;5;66;03m# Send the request.\u001b[39;00m\n\u001b[0;32m    454\u001b[0m \u001b[38;5;28;01melse\u001b[39;00m:\n",
      "File \u001b[1;32m~\\anaconda3\\lib\\site-packages\\urllib3\\connectionpool.py:785\u001b[0m, in \u001b[0;36mHTTPConnectionPool.urlopen\u001b[1;34m(self, method, url, body, headers, retries, redirect, assert_same_host, timeout, pool_timeout, release_conn, chunked, body_pos, **response_kw)\u001b[0m\n\u001b[0;32m    783\u001b[0m     e \u001b[38;5;241m=\u001b[39m ProtocolError(\u001b[38;5;124m\"\u001b[39m\u001b[38;5;124mConnection aborted.\u001b[39m\u001b[38;5;124m\"\u001b[39m, e)\n\u001b[1;32m--> 785\u001b[0m retries \u001b[38;5;241m=\u001b[39m \u001b[43mretries\u001b[49m\u001b[38;5;241;43m.\u001b[39;49m\u001b[43mincrement\u001b[49m\u001b[43m(\u001b[49m\n\u001b[0;32m    786\u001b[0m \u001b[43m    \u001b[49m\u001b[43mmethod\u001b[49m\u001b[43m,\u001b[49m\u001b[43m \u001b[49m\u001b[43murl\u001b[49m\u001b[43m,\u001b[49m\u001b[43m \u001b[49m\u001b[43merror\u001b[49m\u001b[38;5;241;43m=\u001b[39;49m\u001b[43me\u001b[49m\u001b[43m,\u001b[49m\u001b[43m \u001b[49m\u001b[43m_pool\u001b[49m\u001b[38;5;241;43m=\u001b[39;49m\u001b[38;5;28;43mself\u001b[39;49m\u001b[43m,\u001b[49m\u001b[43m \u001b[49m\u001b[43m_stacktrace\u001b[49m\u001b[38;5;241;43m=\u001b[39;49m\u001b[43msys\u001b[49m\u001b[38;5;241;43m.\u001b[39;49m\u001b[43mexc_info\u001b[49m\u001b[43m(\u001b[49m\u001b[43m)\u001b[49m\u001b[43m[\u001b[49m\u001b[38;5;241;43m2\u001b[39;49m\u001b[43m]\u001b[49m\n\u001b[0;32m    787\u001b[0m \u001b[43m\u001b[49m\u001b[43m)\u001b[49m\n\u001b[0;32m    788\u001b[0m retries\u001b[38;5;241m.\u001b[39msleep()\n",
      "File \u001b[1;32m~\\anaconda3\\lib\\site-packages\\urllib3\\util\\retry.py:550\u001b[0m, in \u001b[0;36mRetry.increment\u001b[1;34m(self, method, url, response, error, _pool, _stacktrace)\u001b[0m\n\u001b[0;32m    549\u001b[0m \u001b[38;5;28;01mif\u001b[39;00m read \u001b[38;5;129;01mis\u001b[39;00m \u001b[38;5;28;01mFalse\u001b[39;00m \u001b[38;5;129;01mor\u001b[39;00m \u001b[38;5;129;01mnot\u001b[39;00m \u001b[38;5;28mself\u001b[39m\u001b[38;5;241m.\u001b[39m_is_method_retryable(method):\n\u001b[1;32m--> 550\u001b[0m     \u001b[38;5;28;01mraise\u001b[39;00m \u001b[43msix\u001b[49m\u001b[38;5;241;43m.\u001b[39;49m\u001b[43mreraise\u001b[49m\u001b[43m(\u001b[49m\u001b[38;5;28;43mtype\u001b[39;49m\u001b[43m(\u001b[49m\u001b[43merror\u001b[49m\u001b[43m)\u001b[49m\u001b[43m,\u001b[49m\u001b[43m \u001b[49m\u001b[43merror\u001b[49m\u001b[43m,\u001b[49m\u001b[43m \u001b[49m\u001b[43m_stacktrace\u001b[49m\u001b[43m)\u001b[49m\n\u001b[0;32m    551\u001b[0m \u001b[38;5;28;01melif\u001b[39;00m read \u001b[38;5;129;01mis\u001b[39;00m \u001b[38;5;129;01mnot\u001b[39;00m \u001b[38;5;28;01mNone\u001b[39;00m:\n",
      "File \u001b[1;32m~\\anaconda3\\lib\\site-packages\\urllib3\\packages\\six.py:769\u001b[0m, in \u001b[0;36mreraise\u001b[1;34m(tp, value, tb)\u001b[0m\n\u001b[0;32m    768\u001b[0m \u001b[38;5;28;01mif\u001b[39;00m value\u001b[38;5;241m.\u001b[39m__traceback__ \u001b[38;5;129;01mis\u001b[39;00m \u001b[38;5;129;01mnot\u001b[39;00m tb:\n\u001b[1;32m--> 769\u001b[0m     \u001b[38;5;28;01mraise\u001b[39;00m value\u001b[38;5;241m.\u001b[39mwith_traceback(tb)\n\u001b[0;32m    770\u001b[0m \u001b[38;5;28;01mraise\u001b[39;00m value\n",
      "File \u001b[1;32m~\\anaconda3\\lib\\site-packages\\urllib3\\connectionpool.py:703\u001b[0m, in \u001b[0;36mHTTPConnectionPool.urlopen\u001b[1;34m(self, method, url, body, headers, retries, redirect, assert_same_host, timeout, pool_timeout, release_conn, chunked, body_pos, **response_kw)\u001b[0m\n\u001b[0;32m    702\u001b[0m \u001b[38;5;66;03m# Make the request on the httplib connection object.\u001b[39;00m\n\u001b[1;32m--> 703\u001b[0m httplib_response \u001b[38;5;241m=\u001b[39m \u001b[38;5;28;43mself\u001b[39;49m\u001b[38;5;241;43m.\u001b[39;49m\u001b[43m_make_request\u001b[49m\u001b[43m(\u001b[49m\n\u001b[0;32m    704\u001b[0m \u001b[43m    \u001b[49m\u001b[43mconn\u001b[49m\u001b[43m,\u001b[49m\n\u001b[0;32m    705\u001b[0m \u001b[43m    \u001b[49m\u001b[43mmethod\u001b[49m\u001b[43m,\u001b[49m\n\u001b[0;32m    706\u001b[0m \u001b[43m    \u001b[49m\u001b[43murl\u001b[49m\u001b[43m,\u001b[49m\n\u001b[0;32m    707\u001b[0m \u001b[43m    \u001b[49m\u001b[43mtimeout\u001b[49m\u001b[38;5;241;43m=\u001b[39;49m\u001b[43mtimeout_obj\u001b[49m\u001b[43m,\u001b[49m\n\u001b[0;32m    708\u001b[0m \u001b[43m    \u001b[49m\u001b[43mbody\u001b[49m\u001b[38;5;241;43m=\u001b[39;49m\u001b[43mbody\u001b[49m\u001b[43m,\u001b[49m\n\u001b[0;32m    709\u001b[0m \u001b[43m    \u001b[49m\u001b[43mheaders\u001b[49m\u001b[38;5;241;43m=\u001b[39;49m\u001b[43mheaders\u001b[49m\u001b[43m,\u001b[49m\n\u001b[0;32m    710\u001b[0m \u001b[43m    \u001b[49m\u001b[43mchunked\u001b[49m\u001b[38;5;241;43m=\u001b[39;49m\u001b[43mchunked\u001b[49m\u001b[43m,\u001b[49m\n\u001b[0;32m    711\u001b[0m \u001b[43m\u001b[49m\u001b[43m)\u001b[49m\n\u001b[0;32m    713\u001b[0m \u001b[38;5;66;03m# If we're going to release the connection in ``finally:``, then\u001b[39;00m\n\u001b[0;32m    714\u001b[0m \u001b[38;5;66;03m# the response doesn't need to know about the connection. Otherwise\u001b[39;00m\n\u001b[0;32m    715\u001b[0m \u001b[38;5;66;03m# it will also try to release it and we'll have a double-release\u001b[39;00m\n\u001b[0;32m    716\u001b[0m \u001b[38;5;66;03m# mess.\u001b[39;00m\n",
      "File \u001b[1;32m~\\anaconda3\\lib\\site-packages\\urllib3\\connectionpool.py:449\u001b[0m, in \u001b[0;36mHTTPConnectionPool._make_request\u001b[1;34m(self, conn, method, url, timeout, chunked, **httplib_request_kw)\u001b[0m\n\u001b[0;32m    445\u001b[0m         \u001b[38;5;28;01mexcept\u001b[39;00m \u001b[38;5;167;01mBaseException\u001b[39;00m \u001b[38;5;28;01mas\u001b[39;00m e:\n\u001b[0;32m    446\u001b[0m             \u001b[38;5;66;03m# Remove the TypeError from the exception chain in\u001b[39;00m\n\u001b[0;32m    447\u001b[0m             \u001b[38;5;66;03m# Python 3 (including for exceptions like SystemExit).\u001b[39;00m\n\u001b[0;32m    448\u001b[0m             \u001b[38;5;66;03m# Otherwise it looks like a bug in the code.\u001b[39;00m\n\u001b[1;32m--> 449\u001b[0m             \u001b[43msix\u001b[49m\u001b[38;5;241;43m.\u001b[39;49m\u001b[43mraise_from\u001b[49m\u001b[43m(\u001b[49m\u001b[43me\u001b[49m\u001b[43m,\u001b[49m\u001b[43m \u001b[49m\u001b[38;5;28;43;01mNone\u001b[39;49;00m\u001b[43m)\u001b[49m\n\u001b[0;32m    450\u001b[0m \u001b[38;5;28;01mexcept\u001b[39;00m (SocketTimeout, BaseSSLError, SocketError) \u001b[38;5;28;01mas\u001b[39;00m e:\n",
      "File \u001b[1;32m<string>:3\u001b[0m, in \u001b[0;36mraise_from\u001b[1;34m(value, from_value)\u001b[0m\n",
      "File \u001b[1;32m~\\anaconda3\\lib\\site-packages\\urllib3\\connectionpool.py:444\u001b[0m, in \u001b[0;36mHTTPConnectionPool._make_request\u001b[1;34m(self, conn, method, url, timeout, chunked, **httplib_request_kw)\u001b[0m\n\u001b[0;32m    443\u001b[0m \u001b[38;5;28;01mtry\u001b[39;00m:\n\u001b[1;32m--> 444\u001b[0m     httplib_response \u001b[38;5;241m=\u001b[39m \u001b[43mconn\u001b[49m\u001b[38;5;241;43m.\u001b[39;49m\u001b[43mgetresponse\u001b[49m\u001b[43m(\u001b[49m\u001b[43m)\u001b[49m\n\u001b[0;32m    445\u001b[0m \u001b[38;5;28;01mexcept\u001b[39;00m \u001b[38;5;167;01mBaseException\u001b[39;00m \u001b[38;5;28;01mas\u001b[39;00m e:\n\u001b[0;32m    446\u001b[0m     \u001b[38;5;66;03m# Remove the TypeError from the exception chain in\u001b[39;00m\n\u001b[0;32m    447\u001b[0m     \u001b[38;5;66;03m# Python 3 (including for exceptions like SystemExit).\u001b[39;00m\n\u001b[0;32m    448\u001b[0m     \u001b[38;5;66;03m# Otherwise it looks like a bug in the code.\u001b[39;00m\n",
      "File \u001b[1;32m~\\anaconda3\\lib\\http\\client.py:1377\u001b[0m, in \u001b[0;36mHTTPConnection.getresponse\u001b[1;34m(self)\u001b[0m\n\u001b[0;32m   1376\u001b[0m \u001b[38;5;28;01mtry\u001b[39;00m:\n\u001b[1;32m-> 1377\u001b[0m     \u001b[43mresponse\u001b[49m\u001b[38;5;241;43m.\u001b[39;49m\u001b[43mbegin\u001b[49m\u001b[43m(\u001b[49m\u001b[43m)\u001b[49m\n\u001b[0;32m   1378\u001b[0m \u001b[38;5;28;01mexcept\u001b[39;00m \u001b[38;5;167;01mConnectionError\u001b[39;00m:\n",
      "File \u001b[1;32m~\\anaconda3\\lib\\http\\client.py:320\u001b[0m, in \u001b[0;36mHTTPResponse.begin\u001b[1;34m(self)\u001b[0m\n\u001b[0;32m    319\u001b[0m \u001b[38;5;28;01mwhile\u001b[39;00m \u001b[38;5;28;01mTrue\u001b[39;00m:\n\u001b[1;32m--> 320\u001b[0m     version, status, reason \u001b[38;5;241m=\u001b[39m \u001b[38;5;28;43mself\u001b[39;49m\u001b[38;5;241;43m.\u001b[39;49m\u001b[43m_read_status\u001b[49m\u001b[43m(\u001b[49m\u001b[43m)\u001b[49m\n\u001b[0;32m    321\u001b[0m     \u001b[38;5;28;01mif\u001b[39;00m status \u001b[38;5;241m!=\u001b[39m CONTINUE:\n",
      "File \u001b[1;32m~\\anaconda3\\lib\\http\\client.py:281\u001b[0m, in \u001b[0;36mHTTPResponse._read_status\u001b[1;34m(self)\u001b[0m\n\u001b[0;32m    280\u001b[0m \u001b[38;5;28;01mdef\u001b[39;00m \u001b[38;5;21m_read_status\u001b[39m(\u001b[38;5;28mself\u001b[39m):\n\u001b[1;32m--> 281\u001b[0m     line \u001b[38;5;241m=\u001b[39m \u001b[38;5;28mstr\u001b[39m(\u001b[38;5;28;43mself\u001b[39;49m\u001b[38;5;241;43m.\u001b[39;49m\u001b[43mfp\u001b[49m\u001b[38;5;241;43m.\u001b[39;49m\u001b[43mreadline\u001b[49m\u001b[43m(\u001b[49m\u001b[43m_MAXLINE\u001b[49m\u001b[43m \u001b[49m\u001b[38;5;241;43m+\u001b[39;49m\u001b[43m \u001b[49m\u001b[38;5;241;43m1\u001b[39;49m\u001b[43m)\u001b[49m, \u001b[38;5;124m\"\u001b[39m\u001b[38;5;124miso-8859-1\u001b[39m\u001b[38;5;124m\"\u001b[39m)\n\u001b[0;32m    282\u001b[0m     \u001b[38;5;28;01mif\u001b[39;00m \u001b[38;5;28mlen\u001b[39m(line) \u001b[38;5;241m>\u001b[39m _MAXLINE:\n",
      "File \u001b[1;32m~\\anaconda3\\lib\\socket.py:704\u001b[0m, in \u001b[0;36mSocketIO.readinto\u001b[1;34m(self, b)\u001b[0m\n\u001b[0;32m    703\u001b[0m \u001b[38;5;28;01mtry\u001b[39;00m:\n\u001b[1;32m--> 704\u001b[0m     \u001b[38;5;28;01mreturn\u001b[39;00m \u001b[38;5;28;43mself\u001b[39;49m\u001b[38;5;241;43m.\u001b[39;49m\u001b[43m_sock\u001b[49m\u001b[38;5;241;43m.\u001b[39;49m\u001b[43mrecv_into\u001b[49m\u001b[43m(\u001b[49m\u001b[43mb\u001b[49m\u001b[43m)\u001b[49m\n\u001b[0;32m    705\u001b[0m \u001b[38;5;28;01mexcept\u001b[39;00m timeout:\n",
      "File \u001b[1;32m~\\anaconda3\\lib\\ssl.py:1241\u001b[0m, in \u001b[0;36mSSLSocket.recv_into\u001b[1;34m(self, buffer, nbytes, flags)\u001b[0m\n\u001b[0;32m   1238\u001b[0m         \u001b[38;5;28;01mraise\u001b[39;00m \u001b[38;5;167;01mValueError\u001b[39;00m(\n\u001b[0;32m   1239\u001b[0m           \u001b[38;5;124m\"\u001b[39m\u001b[38;5;124mnon-zero flags not allowed in calls to recv_into() on \u001b[39m\u001b[38;5;132;01m%s\u001b[39;00m\u001b[38;5;124m\"\u001b[39m \u001b[38;5;241m%\u001b[39m\n\u001b[0;32m   1240\u001b[0m           \u001b[38;5;28mself\u001b[39m\u001b[38;5;241m.\u001b[39m\u001b[38;5;18m__class__\u001b[39m)\n\u001b[1;32m-> 1241\u001b[0m     \u001b[38;5;28;01mreturn\u001b[39;00m \u001b[38;5;28;43mself\u001b[39;49m\u001b[38;5;241;43m.\u001b[39;49m\u001b[43mread\u001b[49m\u001b[43m(\u001b[49m\u001b[43mnbytes\u001b[49m\u001b[43m,\u001b[49m\u001b[43m \u001b[49m\u001b[43mbuffer\u001b[49m\u001b[43m)\u001b[49m\n\u001b[0;32m   1242\u001b[0m \u001b[38;5;28;01melse\u001b[39;00m:\n",
      "File \u001b[1;32m~\\anaconda3\\lib\\ssl.py:1099\u001b[0m, in \u001b[0;36mSSLSocket.read\u001b[1;34m(self, len, buffer)\u001b[0m\n\u001b[0;32m   1098\u001b[0m \u001b[38;5;28;01mif\u001b[39;00m buffer \u001b[38;5;129;01mis\u001b[39;00m \u001b[38;5;129;01mnot\u001b[39;00m \u001b[38;5;28;01mNone\u001b[39;00m:\n\u001b[1;32m-> 1099\u001b[0m     \u001b[38;5;28;01mreturn\u001b[39;00m \u001b[38;5;28;43mself\u001b[39;49m\u001b[38;5;241;43m.\u001b[39;49m\u001b[43m_sslobj\u001b[49m\u001b[38;5;241;43m.\u001b[39;49m\u001b[43mread\u001b[49m\u001b[43m(\u001b[49m\u001b[38;5;28;43mlen\u001b[39;49m\u001b[43m,\u001b[49m\u001b[43m \u001b[49m\u001b[43mbuffer\u001b[49m\u001b[43m)\u001b[49m\n\u001b[0;32m   1100\u001b[0m \u001b[38;5;28;01melse\u001b[39;00m:\n",
      "\u001b[1;31mProtocolError\u001b[0m: ('Connection aborted.', ConnectionResetError(10054, 'An existing connection was forcibly closed by the remote host', None, 10054, None))",
      "\nDuring handling of the above exception, another exception occurred:\n",
      "\u001b[1;31mConnectionError\u001b[0m                           Traceback (most recent call last)",
      "Input \u001b[1;32mIn [9]\u001b[0m, in \u001b[0;36m<cell line: 1>\u001b[1;34m()\u001b[0m\n\u001b[1;32m----> 1\u001b[0m \u001b[43mapi\u001b[49m\u001b[38;5;241;43m.\u001b[39;49m\u001b[43munsubscribe_market_data\u001b[49m\u001b[43m(\u001b[49m\u001b[38;5;124;43m\"\u001b[39;49m\u001b[38;5;124;43mEUR/USD\u001b[39;49m\u001b[38;5;124;43m\"\u001b[39;49m\u001b[43m)\u001b[49m\n",
      "File \u001b[1;32m~\\anaconda3\\lib\\site-packages\\fxcmpy\\fxcmpy.py:850\u001b[0m, in \u001b[0;36mfxcmpy.unsubscribe_market_data\u001b[1;34m(self, symbol)\u001b[0m\n\u001b[0;32m    847\u001b[0m \u001b[38;5;28mself\u001b[39m\u001b[38;5;241m.\u001b[39mlogger\u001b[38;5;241m.\u001b[39minfo(\u001b[38;5;124m'\u001b[39m\u001b[38;5;124mTry to unsubscribe for \u001b[39m\u001b[38;5;132;01m%s\u001b[39;00m\u001b[38;5;124m.\u001b[39m\u001b[38;5;124m'\u001b[39m \u001b[38;5;241m%\u001b[39m symbol)\n\u001b[0;32m    849\u001b[0m params \u001b[38;5;241m=\u001b[39m {\u001b[38;5;124m'\u001b[39m\u001b[38;5;124mpairs\u001b[39m\u001b[38;5;124m'\u001b[39m: symbol}\n\u001b[1;32m--> 850\u001b[0m \u001b[38;5;28;43mself\u001b[39;49m\u001b[38;5;241;43m.\u001b[39;49m\u001b[43m__handle_request__\u001b[49m\u001b[43m(\u001b[49m\u001b[43mmethod\u001b[49m\u001b[38;5;241;43m=\u001b[39;49m\u001b[38;5;124;43m'\u001b[39;49m\u001b[38;5;124;43munsubscribe\u001b[39;49m\u001b[38;5;124;43m'\u001b[39;49m\u001b[43m,\u001b[49m\u001b[43m \u001b[49m\u001b[43mparams\u001b[49m\u001b[38;5;241;43m=\u001b[39;49m\u001b[43mparams\u001b[49m\u001b[43m,\u001b[49m\n\u001b[0;32m    851\u001b[0m \u001b[43m                               \u001b[49m\u001b[43mprotocol\u001b[49m\u001b[38;5;241;43m=\u001b[39;49m\u001b[38;5;124;43m'\u001b[39;49m\u001b[38;5;124;43mpost\u001b[39;49m\u001b[38;5;124;43m'\u001b[39;49m\u001b[43m)\u001b[49m\n\u001b[0;32m    853\u001b[0m \u001b[38;5;28;01mif\u001b[39;00m symbol \u001b[38;5;129;01min\u001b[39;00m \u001b[38;5;28mself\u001b[39m\u001b[38;5;241m.\u001b[39mprices:\n\u001b[0;32m    854\u001b[0m     \u001b[38;5;28;01mdel\u001b[39;00m \u001b[38;5;28mself\u001b[39m\u001b[38;5;241m.\u001b[39mprices[symbol]\n",
      "File \u001b[1;32m~\\anaconda3\\lib\\site-packages\\fxcmpy\\fxcmpy.py:2487\u001b[0m, in \u001b[0;36mfxcmpy.__handle_request__\u001b[1;34m(self, method, params, protocol)\u001b[0m\n\u001b[0;32m   2483\u001b[0m \u001b[38;5;28mself\u001b[39m\u001b[38;5;241m.\u001b[39mlogger\u001b[38;5;241m.\u001b[39minfo(\u001b[38;5;124m'\u001b[39m\u001b[38;5;124mSending request to \u001b[39m\u001b[38;5;132;01m%s\u001b[39;00m\u001b[38;5;124m/\u001b[39m\u001b[38;5;132;01m%s\u001b[39;00m\u001b[38;5;124m, parameter: \u001b[39m\u001b[38;5;132;01m%s\u001b[39;00m\u001b[38;5;124m.\u001b[39m\u001b[38;5;124m'\u001b[39m\n\u001b[0;32m   2484\u001b[0m                  \u001b[38;5;241m%\u001b[39m (\u001b[38;5;28mself\u001b[39m\u001b[38;5;241m.\u001b[39mtrading_url, method, params))\n\u001b[0;32m   2486\u001b[0m \u001b[38;5;28;01mif\u001b[39;00m protocol \u001b[38;5;241m==\u001b[39m \u001b[38;5;124m'\u001b[39m\u001b[38;5;124mpost\u001b[39m\u001b[38;5;124m'\u001b[39m:\n\u001b[1;32m-> 2487\u001b[0m     req \u001b[38;5;241m=\u001b[39m \u001b[43mrequests\u001b[49m\u001b[38;5;241;43m.\u001b[39;49m\u001b[43mpost\u001b[49m\u001b[43m(\u001b[49m\u001b[38;5;124;43m'\u001b[39;49m\u001b[38;5;132;43;01m%s\u001b[39;49;00m\u001b[38;5;124;43m:443/\u001b[39;49m\u001b[38;5;132;43;01m%s\u001b[39;49;00m\u001b[38;5;124;43m'\u001b[39;49m\u001b[43m \u001b[49m\u001b[38;5;241;43m%\u001b[39;49m\u001b[43m \u001b[49m\u001b[43m(\u001b[49m\u001b[38;5;28;43mself\u001b[39;49m\u001b[38;5;241;43m.\u001b[39;49m\u001b[43mtrading_url\u001b[49m\u001b[43m,\u001b[49m\u001b[43m \u001b[49m\u001b[43mmethod\u001b[49m\u001b[43m)\u001b[49m\u001b[43m,\u001b[49m\n\u001b[0;32m   2488\u001b[0m \u001b[43m                        \u001b[49m\u001b[43mheaders\u001b[49m\u001b[38;5;241;43m=\u001b[39;49m\u001b[38;5;28;43mself\u001b[39;49m\u001b[38;5;241;43m.\u001b[39;49m\u001b[43mrequest_headers\u001b[49m\u001b[43m,\u001b[49m\u001b[43m \u001b[49m\u001b[43mdata\u001b[49m\u001b[38;5;241;43m=\u001b[39;49m\u001b[43mparams\u001b[49m\u001b[43m,\u001b[49m\n\u001b[0;32m   2489\u001b[0m \u001b[43m                        \u001b[49m\u001b[43mproxies\u001b[49m\u001b[38;5;241;43m=\u001b[39;49m\u001b[38;5;28;43mself\u001b[39;49m\u001b[38;5;241;43m.\u001b[39;49m\u001b[43mproxies\u001b[49m\u001b[43m)\u001b[49m\n\u001b[0;32m   2490\u001b[0m     \u001b[38;5;28mself\u001b[39m\u001b[38;5;241m.\u001b[39mlogger\u001b[38;5;241m.\u001b[39minfo(\u001b[38;5;124m'\u001b[39m\u001b[38;5;124mSending POST Request:\u001b[39m\u001b[38;5;124m'\u001b[39m)\n\u001b[0;32m   2491\u001b[0m     \u001b[38;5;28mself\u001b[39m\u001b[38;5;241m.\u001b[39mlogger\u001b[38;5;241m.\u001b[39minfo(\u001b[38;5;124m'\u001b[39m\u001b[38;5;124mURL: \u001b[39m\u001b[38;5;132;01m%s\u001b[39;00m\u001b[38;5;124m'\u001b[39m \u001b[38;5;241m%\u001b[39m req\u001b[38;5;241m.\u001b[39murl)\n",
      "File \u001b[1;32m~\\anaconda3\\lib\\site-packages\\requests\\api.py:117\u001b[0m, in \u001b[0;36mpost\u001b[1;34m(url, data, json, **kwargs)\u001b[0m\n\u001b[0;32m    105\u001b[0m \u001b[38;5;28;01mdef\u001b[39;00m \u001b[38;5;21mpost\u001b[39m(url, data\u001b[38;5;241m=\u001b[39m\u001b[38;5;28;01mNone\u001b[39;00m, json\u001b[38;5;241m=\u001b[39m\u001b[38;5;28;01mNone\u001b[39;00m, \u001b[38;5;241m*\u001b[39m\u001b[38;5;241m*\u001b[39mkwargs):\n\u001b[0;32m    106\u001b[0m     \u001b[38;5;124mr\u001b[39m\u001b[38;5;124;03m\"\"\"Sends a POST request.\u001b[39;00m\n\u001b[0;32m    107\u001b[0m \n\u001b[0;32m    108\u001b[0m \u001b[38;5;124;03m    :param url: URL for the new :class:`Request` object.\u001b[39;00m\n\u001b[1;32m   (...)\u001b[0m\n\u001b[0;32m    114\u001b[0m \u001b[38;5;124;03m    :rtype: requests.Response\u001b[39;00m\n\u001b[0;32m    115\u001b[0m \u001b[38;5;124;03m    \"\"\"\u001b[39;00m\n\u001b[1;32m--> 117\u001b[0m     \u001b[38;5;28;01mreturn\u001b[39;00m request(\u001b[38;5;124m'\u001b[39m\u001b[38;5;124mpost\u001b[39m\u001b[38;5;124m'\u001b[39m, url, data\u001b[38;5;241m=\u001b[39mdata, json\u001b[38;5;241m=\u001b[39mjson, \u001b[38;5;241m*\u001b[39m\u001b[38;5;241m*\u001b[39mkwargs)\n",
      "File \u001b[1;32m~\\anaconda3\\lib\\site-packages\\requests\\api.py:61\u001b[0m, in \u001b[0;36mrequest\u001b[1;34m(method, url, **kwargs)\u001b[0m\n\u001b[0;32m     57\u001b[0m \u001b[38;5;66;03m# By using the 'with' statement we are sure the session is closed, thus we\u001b[39;00m\n\u001b[0;32m     58\u001b[0m \u001b[38;5;66;03m# avoid leaving sockets open which can trigger a ResourceWarning in some\u001b[39;00m\n\u001b[0;32m     59\u001b[0m \u001b[38;5;66;03m# cases, and look like a memory leak in others.\u001b[39;00m\n\u001b[0;32m     60\u001b[0m \u001b[38;5;28;01mwith\u001b[39;00m sessions\u001b[38;5;241m.\u001b[39mSession() \u001b[38;5;28;01mas\u001b[39;00m session:\n\u001b[1;32m---> 61\u001b[0m     \u001b[38;5;28;01mreturn\u001b[39;00m session\u001b[38;5;241m.\u001b[39mrequest(method\u001b[38;5;241m=\u001b[39mmethod, url\u001b[38;5;241m=\u001b[39murl, \u001b[38;5;241m*\u001b[39m\u001b[38;5;241m*\u001b[39mkwargs)\n",
      "File \u001b[1;32m~\\anaconda3\\lib\\site-packages\\requests\\sessions.py:529\u001b[0m, in \u001b[0;36mSession.request\u001b[1;34m(self, method, url, params, data, headers, cookies, files, auth, timeout, allow_redirects, proxies, hooks, stream, verify, cert, json)\u001b[0m\n\u001b[0;32m    524\u001b[0m send_kwargs \u001b[38;5;241m=\u001b[39m {\n\u001b[0;32m    525\u001b[0m     \u001b[38;5;124m'\u001b[39m\u001b[38;5;124mtimeout\u001b[39m\u001b[38;5;124m'\u001b[39m: timeout,\n\u001b[0;32m    526\u001b[0m     \u001b[38;5;124m'\u001b[39m\u001b[38;5;124mallow_redirects\u001b[39m\u001b[38;5;124m'\u001b[39m: allow_redirects,\n\u001b[0;32m    527\u001b[0m }\n\u001b[0;32m    528\u001b[0m send_kwargs\u001b[38;5;241m.\u001b[39mupdate(settings)\n\u001b[1;32m--> 529\u001b[0m resp \u001b[38;5;241m=\u001b[39m \u001b[38;5;28mself\u001b[39m\u001b[38;5;241m.\u001b[39msend(prep, \u001b[38;5;241m*\u001b[39m\u001b[38;5;241m*\u001b[39msend_kwargs)\n\u001b[0;32m    531\u001b[0m \u001b[38;5;28;01mreturn\u001b[39;00m resp\n",
      "File \u001b[1;32m~\\anaconda3\\lib\\site-packages\\requests\\sessions.py:645\u001b[0m, in \u001b[0;36mSession.send\u001b[1;34m(self, request, **kwargs)\u001b[0m\n\u001b[0;32m    642\u001b[0m start \u001b[38;5;241m=\u001b[39m preferred_clock()\n\u001b[0;32m    644\u001b[0m \u001b[38;5;66;03m# Send the request\u001b[39;00m\n\u001b[1;32m--> 645\u001b[0m r \u001b[38;5;241m=\u001b[39m adapter\u001b[38;5;241m.\u001b[39msend(request, \u001b[38;5;241m*\u001b[39m\u001b[38;5;241m*\u001b[39mkwargs)\n\u001b[0;32m    647\u001b[0m \u001b[38;5;66;03m# Total elapsed time of the request (approximately)\u001b[39;00m\n\u001b[0;32m    648\u001b[0m elapsed \u001b[38;5;241m=\u001b[39m preferred_clock() \u001b[38;5;241m-\u001b[39m start\n",
      "File \u001b[1;32m~\\anaconda3\\lib\\site-packages\\requests\\adapters.py:501\u001b[0m, in \u001b[0;36mHTTPAdapter.send\u001b[1;34m(self, request, stream, timeout, verify, cert, proxies)\u001b[0m\n\u001b[0;32m    498\u001b[0m             \u001b[38;5;28;01mraise\u001b[39;00m\n\u001b[0;32m    500\u001b[0m \u001b[38;5;28;01mexcept\u001b[39;00m (ProtocolError, socket\u001b[38;5;241m.\u001b[39merror) \u001b[38;5;28;01mas\u001b[39;00m err:\n\u001b[1;32m--> 501\u001b[0m     \u001b[38;5;28;01mraise\u001b[39;00m \u001b[38;5;167;01mConnectionError\u001b[39;00m(err, request\u001b[38;5;241m=\u001b[39mrequest)\n\u001b[0;32m    503\u001b[0m \u001b[38;5;28;01mexcept\u001b[39;00m MaxRetryError \u001b[38;5;28;01mas\u001b[39;00m e:\n\u001b[0;32m    504\u001b[0m     \u001b[38;5;28;01mif\u001b[39;00m \u001b[38;5;28misinstance\u001b[39m(e\u001b[38;5;241m.\u001b[39mreason, ConnectTimeoutError):\n\u001b[0;32m    505\u001b[0m         \u001b[38;5;66;03m# TODO: Remove this in 3.0.0: see #2811\u001b[39;00m\n",
      "\u001b[1;31mConnectionError\u001b[0m: ('Connection aborted.', ConnectionResetError(10054, 'An existing connection was forcibly closed by the remote host', None, 10054, None))"
     ]
    },
    {
     "name": "stdout",
     "output_type": "stream",
     "text": [
      " 19 | EUR/USD | 2022-08-12 12:59:14.990000, 1.02686, 1.0269899999999998\n",
      " 20 | EUR/USD | 2022-08-12 12:59:15.637000, 1.02684, 1.0269599999999999\n",
      " 21 | EUR/USD | 2022-08-12 12:59:16.004000, 1.02685, 1.02697\n",
      " 22 | EUR/USD | 2022-08-12 12:59:17.285000, 1.02687, 1.027\n"
     ]
    }
   ],
   "source": [
    "api.unsubscribe_market_data(\"EUR/USD\")"
   ]
  },
  {
   "cell_type": "code",
   "execution_count": 10,
   "metadata": {},
   "outputs": [
    {
     "data": {
      "text/html": [
       "<div>\n",
       "<style scoped>\n",
       "    .dataframe tbody tr th:only-of-type {\n",
       "        vertical-align: middle;\n",
       "    }\n",
       "\n",
       "    .dataframe tbody tr th {\n",
       "        vertical-align: top;\n",
       "    }\n",
       "\n",
       "    .dataframe thead th {\n",
       "        text-align: right;\n",
       "    }\n",
       "</style>\n",
       "<table border=\"1\" class=\"dataframe\">\n",
       "  <thead>\n",
       "    <tr style=\"text-align: right;\">\n",
       "      <th></th>\n",
       "      <th>Bid</th>\n",
       "      <th>Ask</th>\n",
       "    </tr>\n",
       "  </thead>\n",
       "  <tbody>\n",
       "    <tr>\n",
       "      <th>2022-08-12 12:58:57.828</th>\n",
       "      <td>1.02685</td>\n",
       "      <td>1.02697</td>\n",
       "    </tr>\n",
       "    <tr>\n",
       "      <th>2022-08-12 12:58:57.828</th>\n",
       "      <td>1.02685</td>\n",
       "      <td>1.02697</td>\n",
       "    </tr>\n",
       "    <tr>\n",
       "      <th>2022-08-12 12:58:59.349</th>\n",
       "      <td>1.02684</td>\n",
       "      <td>1.02697</td>\n",
       "    </tr>\n",
       "    <tr>\n",
       "      <th>2022-08-12 12:58:59.614</th>\n",
       "      <td>1.02684</td>\n",
       "      <td>1.02697</td>\n",
       "    </tr>\n",
       "    <tr>\n",
       "      <th>2022-08-12 12:59:00.313</th>\n",
       "      <td>1.02684</td>\n",
       "      <td>1.02697</td>\n",
       "    </tr>\n",
       "    <tr>\n",
       "      <th>2022-08-12 12:59:01.428</th>\n",
       "      <td>1.02685</td>\n",
       "      <td>1.02697</td>\n",
       "    </tr>\n",
       "    <tr>\n",
       "      <th>2022-08-12 12:59:02.898</th>\n",
       "      <td>1.02686</td>\n",
       "      <td>1.02698</td>\n",
       "    </tr>\n",
       "    <tr>\n",
       "      <th>2022-08-12 12:59:03.292</th>\n",
       "      <td>1.02685</td>\n",
       "      <td>1.02698</td>\n",
       "    </tr>\n",
       "    <tr>\n",
       "      <th>2022-08-12 12:59:04.774</th>\n",
       "      <td>1.02687</td>\n",
       "      <td>1.02699</td>\n",
       "    </tr>\n",
       "    <tr>\n",
       "      <th>2022-08-12 12:59:05.373</th>\n",
       "      <td>1.02687</td>\n",
       "      <td>1.02700</td>\n",
       "    </tr>\n",
       "    <tr>\n",
       "      <th>2022-08-12 12:59:06.153</th>\n",
       "      <td>1.02688</td>\n",
       "      <td>1.02701</td>\n",
       "    </tr>\n",
       "    <tr>\n",
       "      <th>2022-08-12 12:59:06.846</th>\n",
       "      <td>1.02689</td>\n",
       "      <td>1.02702</td>\n",
       "    </tr>\n",
       "    <tr>\n",
       "      <th>2022-08-12 12:59:07.624</th>\n",
       "      <td>1.02687</td>\n",
       "      <td>1.02699</td>\n",
       "    </tr>\n",
       "    <tr>\n",
       "      <th>2022-08-12 12:59:08.384</th>\n",
       "      <td>1.02686</td>\n",
       "      <td>1.02699</td>\n",
       "    </tr>\n",
       "    <tr>\n",
       "      <th>2022-08-12 12:59:10.441</th>\n",
       "      <td>1.02687</td>\n",
       "      <td>1.02699</td>\n",
       "    </tr>\n",
       "    <tr>\n",
       "      <th>2022-08-12 12:59:11.012</th>\n",
       "      <td>1.02687</td>\n",
       "      <td>1.02700</td>\n",
       "    </tr>\n",
       "    <tr>\n",
       "      <th>2022-08-12 12:59:12.112</th>\n",
       "      <td>1.02688</td>\n",
       "      <td>1.02701</td>\n",
       "    </tr>\n",
       "    <tr>\n",
       "      <th>2022-08-12 12:59:12.715</th>\n",
       "      <td>1.02688</td>\n",
       "      <td>1.02700</td>\n",
       "    </tr>\n",
       "    <tr>\n",
       "      <th>2022-08-12 12:59:14.990</th>\n",
       "      <td>1.02686</td>\n",
       "      <td>1.02699</td>\n",
       "    </tr>\n",
       "    <tr>\n",
       "      <th>2022-08-12 12:59:15.637</th>\n",
       "      <td>1.02684</td>\n",
       "      <td>1.02696</td>\n",
       "    </tr>\n",
       "    <tr>\n",
       "      <th>2022-08-12 12:59:16.004</th>\n",
       "      <td>1.02685</td>\n",
       "      <td>1.02697</td>\n",
       "    </tr>\n",
       "    <tr>\n",
       "      <th>2022-08-12 12:59:17.285</th>\n",
       "      <td>1.02687</td>\n",
       "      <td>1.02700</td>\n",
       "    </tr>\n",
       "  </tbody>\n",
       "</table>\n",
       "</div>"
      ],
      "text/plain": [
       "                             Bid      Ask\n",
       "2022-08-12 12:58:57.828  1.02685  1.02697\n",
       "2022-08-12 12:58:57.828  1.02685  1.02697\n",
       "2022-08-12 12:58:59.349  1.02684  1.02697\n",
       "2022-08-12 12:58:59.614  1.02684  1.02697\n",
       "2022-08-12 12:59:00.313  1.02684  1.02697\n",
       "2022-08-12 12:59:01.428  1.02685  1.02697\n",
       "2022-08-12 12:59:02.898  1.02686  1.02698\n",
       "2022-08-12 12:59:03.292  1.02685  1.02698\n",
       "2022-08-12 12:59:04.774  1.02687  1.02699\n",
       "2022-08-12 12:59:05.373  1.02687  1.02700\n",
       "2022-08-12 12:59:06.153  1.02688  1.02701\n",
       "2022-08-12 12:59:06.846  1.02689  1.02702\n",
       "2022-08-12 12:59:07.624  1.02687  1.02699\n",
       "2022-08-12 12:59:08.384  1.02686  1.02699\n",
       "2022-08-12 12:59:10.441  1.02687  1.02699\n",
       "2022-08-12 12:59:11.012  1.02687  1.02700\n",
       "2022-08-12 12:59:12.112  1.02688  1.02701\n",
       "2022-08-12 12:59:12.715  1.02688  1.02700\n",
       "2022-08-12 12:59:14.990  1.02686  1.02699\n",
       "2022-08-12 12:59:15.637  1.02684  1.02696\n",
       "2022-08-12 12:59:16.004  1.02685  1.02697\n",
       "2022-08-12 12:59:17.285  1.02687  1.02700"
      ]
     },
     "execution_count": 10,
     "metadata": {},
     "output_type": "execute_result"
    },
    {
     "name": "stdout",
     "output_type": "stream",
     "text": [
      " 23 | EUR/USD | 2022-08-12 12:59:20.300000, 1.02689, 1.02701\n",
      " 24 | EUR/USD | 2022-08-12 12:59:22.902000, 1.02695, 1.02707\n"
     ]
    }
   ],
   "source": [
    "tick_data"
   ]
  },
  {
   "cell_type": "code",
   "execution_count": 11,
   "metadata": {},
   "outputs": [
    {
     "name": "stdout",
     "output_type": "stream",
     "text": [
      "<class 'pandas.core.frame.DataFrame'>\n",
      "DatetimeIndex: 24 entries, 2022-08-12 12:58:57.828000 to 2022-08-12 12:59:22.902000\n",
      "Data columns (total 2 columns):\n",
      " #   Column  Non-Null Count  Dtype  \n",
      "---  ------  --------------  -----  \n",
      " 0   Bid     24 non-null     float64\n",
      " 1   Ask     24 non-null     float64\n",
      "dtypes: float64(2)\n",
      "memory usage: 576.0 bytes\n",
      " 25 | EUR/USD | 2022-08-12 12:59:23.949000, 1.02692, 1.0270499999999998\n",
      " 26 | EUR/USD | 2022-08-12 12:59:24.602000, 1.02694, 1.0270599999999999\n",
      " 27 | EUR/USD | 2022-08-12 12:59:25.423000, 1.02692, 1.02704\n",
      " 28 | EUR/USD | 2022-08-12 12:59:25.760000, 1.02692, 1.0270499999999998\n",
      " 29 | EUR/USD | 2022-08-12 12:59:26.679000, 1.02698, 1.0271\n",
      " 30 | EUR/USD | 2022-08-12 12:59:27.301000, 1.02697, 1.0271\n",
      " 31 | EUR/USD | 2022-08-12 12:59:27.979000, 1.02698, 1.0271\n",
      " 32 | EUR/USD | 2022-08-12 12:59:29.106000, 1.02699, 1.0271199999999998\n",
      " 33 | EUR/USD | 2022-08-12 12:59:29.610000, 1.02699, 1.02711\n",
      " 34 | EUR/USD | 2022-08-12 12:59:30.376000, 1.0270000000000001, 1.0271199999999998\n"
     ]
    }
   ],
   "source": [
    "tick_data.info()"
   ]
  },
  {
   "cell_type": "code",
   "execution_count": 12,
   "metadata": {},
   "outputs": [
    {
     "name": "stdout",
     "output_type": "stream",
     "text": [
      " 35 | EUR/USD | 2022-08-12 12:59:30.823000, 1.02699, 1.0271199999999998\n"
     ]
    }
   ],
   "source": [
    "api.close()"
   ]
  },
  {
   "cell_type": "code",
   "execution_count": null,
   "metadata": {},
   "outputs": [],
   "source": []
  },
  {
   "cell_type": "markdown",
   "metadata": {},
   "source": [
    "## Storing and resampling real-time tick data (Part 1)"
   ]
  },
  {
   "cell_type": "code",
   "execution_count": 13,
   "metadata": {},
   "outputs": [],
   "source": [
    "import pandas as pd\n",
    "import fxcmpy"
   ]
  },
  {
   "cell_type": "code",
   "execution_count": 14,
   "metadata": {},
   "outputs": [],
   "source": [
    "api = fxcmpy.fxcmpy(config_file = \"fxcm.cfg\")"
   ]
  },
  {
   "cell_type": "code",
   "execution_count": 15,
   "metadata": {},
   "outputs": [],
   "source": [
    "tick_data = None\n",
    "resamp = None\n",
    "bar_length = \"10s\""
   ]
  },
  {
   "cell_type": "code",
   "execution_count": 16,
   "metadata": {},
   "outputs": [],
   "source": [
    "def get_tick_data(data, dataframe):\n",
    "    \n",
    "    global tick_data, resamp # global variables\n",
    "    \n",
    "    print('%3d | %s | %s, %s, %s'\n",
    "          % (len(dataframe), data['Symbol'],\n",
    "             pd.to_datetime(int(data['Updated']), unit='ms'),\n",
    "             data['Rates'][0], data['Rates'][1]))\n",
    "    \n",
    "    tick_data = dataframe.iloc[:, :2]\n",
    "    resamp = tick_data.resample(bar_length, label = \"right\").last().ffill().iloc[:-1]\n",
    "    resamp[\"Mid\"] = (resamp.Ask + resamp.Bid)/2"
   ]
  },
  {
   "cell_type": "code",
   "execution_count": 17,
   "metadata": {},
   "outputs": [
    {
     "name": "stdout",
     "output_type": "stream",
     "text": [
      "  2 | EUR/USD | 2022-08-12 13:44:52.020000, 1.0271000000000001, 1.02724\n",
      "  3 | EUR/USD | 2022-08-12 13:44:53.236000, 1.02711, 1.02724\n",
      "  4 | EUR/USD | 2022-08-12 13:44:54.205000, 1.0271000000000001, 1.02724\n",
      "  5 | EUR/USD | 2022-08-12 13:44:55.393000, 1.02711, 1.02725\n",
      "  6 | EUR/USD | 2022-08-12 13:44:56.218000, 1.02711, 1.02725\n",
      "  7 | EUR/USD | 2022-08-12 13:44:56.992000, 1.02712, 1.02724\n",
      "  8 | EUR/USD | 2022-08-12 13:44:58.122000, 1.02709, 1.0272199999999998\n",
      "  9 | EUR/USD | 2022-08-12 13:44:58.703000, 1.0270700000000001, 1.0272\n",
      " 10 | EUR/USD | 2022-08-12 13:44:59.651000, 1.02709, 1.0272199999999998\n",
      " 11 | EUR/USD | 2022-08-12 13:45:00.529000, 1.0271000000000001, 1.02724\n",
      " 12 | EUR/USD | 2022-08-12 13:45:01.739000, 1.0271000000000001, 1.02725\n",
      " 13 | EUR/USD | 2022-08-12 13:45:02.515000, 1.0271000000000001, 1.02724\n",
      " 14 | EUR/USD | 2022-08-12 13:45:03.532000, 1.02708, 1.0272199999999998\n",
      " 15 | EUR/USD | 2022-08-12 13:45:04.392000, 1.0271000000000001, 1.02725\n",
      " 16 | EUR/USD | 2022-08-12 13:45:05.617000, 1.02708, 1.02721\n",
      " 17 | EUR/USD | 2022-08-12 13:45:06.219000, 1.02705, 1.0272\n",
      " 18 | EUR/USD | 2022-08-12 13:45:06.728000, 1.02706, 1.0272\n",
      " 19 | EUR/USD | 2022-08-12 13:45:07.886000, 1.02708, 1.0272199999999998\n",
      " 20 | EUR/USD | 2022-08-12 13:45:08.513000, 1.02708, 1.0272199999999998\n",
      " 21 | EUR/USD | 2022-08-12 13:45:09.334000, 1.0271000000000001, 1.02724\n",
      " 22 | EUR/USD | 2022-08-12 13:45:09.681000, 1.02709, 1.0272299999999999\n",
      " 23 | EUR/USD | 2022-08-12 13:45:10.940000, 1.02708, 1.02721\n",
      " 24 | EUR/USD | 2022-08-12 13:45:11.598000, 1.02709, 1.02721\n",
      " 25 | EUR/USD | 2022-08-12 13:45:12.435000, 1.02705, 1.0271899999999998\n",
      " 26 | EUR/USD | 2022-08-12 13:45:13.292000, 1.02703, 1.0271499999999998\n",
      " 27 | EUR/USD | 2022-08-12 13:45:14.223000, 1.02702, 1.0271499999999998\n",
      " 28 | EUR/USD | 2022-08-12 13:45:14.938000, 1.02701, 1.02714\n",
      " 29 | EUR/USD | 2022-08-12 13:45:15.142000, 1.0270000000000001, 1.02714\n",
      " 30 | EUR/USD | 2022-08-12 13:45:16.703000, 1.0270000000000001, 1.0271499999999998\n",
      " 31 | EUR/USD | 2022-08-12 13:45:17.807000, 1.02702, 1.0271499999999998\n",
      " 32 | EUR/USD | 2022-08-12 13:45:18.607000, 1.02701, 1.02714\n",
      " 33 | EUR/USD | 2022-08-12 13:45:19.273000, 1.02698, 1.0271199999999998\n",
      " 34 | EUR/USD | 2022-08-12 13:45:19.881000, 1.02697, 1.0270899999999998\n",
      " 35 | EUR/USD | 2022-08-12 13:45:20.465000, 1.02696, 1.02708\n",
      " 36 | EUR/USD | 2022-08-12 13:45:21.229000, 1.02696, 1.02708\n",
      " 37 | EUR/USD | 2022-08-12 13:45:22.536000, 1.02698, 1.02711\n",
      " 38 | EUR/USD | 2022-08-12 13:45:23.204000, 1.02696, 1.0270899999999998\n",
      " 39 | EUR/USD | 2022-08-12 13:45:24.103000, 1.02697, 1.0270899999999998\n",
      " 40 | EUR/USD | 2022-08-12 13:45:24.493000, 1.02697, 1.0271\n",
      " 41 | EUR/USD | 2022-08-12 13:45:25.710000, 1.02697, 1.0270899999999998\n",
      " 42 | EUR/USD | 2022-08-12 13:45:26.341000, 1.02703, 1.0271499999999998\n",
      " 43 | EUR/USD | 2022-08-12 13:45:26.751000, 1.02702, 1.0271499999999998\n",
      " 44 | EUR/USD | 2022-08-12 13:45:27.519000, 1.02703, 1.0271499999999998\n",
      " 45 | EUR/USD | 2022-08-12 13:45:30.055000, 1.02703, 1.0271599999999999\n",
      " 46 | EUR/USD | 2022-08-12 13:45:30.671000, 1.02702, 1.0271499999999998\n",
      " 47 | EUR/USD | 2022-08-12 13:45:31.048000, 1.0270000000000001, 1.0271299999999999\n",
      " 48 | EUR/USD | 2022-08-12 13:45:31.806000, 1.0270000000000001, 1.02714\n",
      " 49 | EUR/USD | 2022-08-12 13:45:32.677000, 1.02701, 1.02714\n",
      " 50 | EUR/USD | 2022-08-12 13:45:33.702000, 1.02699, 1.0271299999999999\n",
      " 51 | EUR/USD | 2022-08-12 13:45:34.093000, 1.0270000000000001, 1.0271299999999999\n",
      " 52 | EUR/USD | 2022-08-12 13:45:34.715000, 1.0270000000000001, 1.0271299999999999\n",
      " 53 | EUR/USD | 2022-08-12 13:45:35.803000, 1.02701, 1.0271299999999999\n"
     ]
    }
   ],
   "source": [
    "api.subscribe_market_data(\"EUR/USD\", (get_tick_data, ))"
   ]
  },
  {
   "cell_type": "code",
   "execution_count": 18,
   "metadata": {},
   "outputs": [
    {
     "name": "stdout",
     "output_type": "stream",
     "text": [
      " 54 | EUR/USD | 2022-08-12 13:45:36.703000, 1.02701, 1.02714\n",
      " 55 | EUR/USD | 2022-08-12 13:45:37.657000, 1.0270000000000001, 1.02714\n",
      " 56 | EUR/USD | 2022-08-12 13:45:37.865000, 1.02701, 1.02714\n",
      " 57 | EUR/USD | 2022-08-12 13:45:38.790000, 1.02701, 1.02714\n",
      " 58 | EUR/USD | 2022-08-12 13:45:39.743000, 1.02703, 1.0271599999999999\n",
      " 59 | EUR/USD | 2022-08-12 13:45:40.438000, 1.02703, 1.02717\n",
      " 60 | EUR/USD | 2022-08-12 13:45:41.335000, 1.02705, 1.02717\n",
      " 61 | EUR/USD | 2022-08-12 13:45:42.219000, 1.02705, 1.02718\n",
      " 62 | EUR/USD | 2022-08-12 13:45:42.986000, 1.02703, 1.02717\n",
      " 63 | EUR/USD | 2022-08-12 13:45:44.091000, 1.02703, 1.02717\n",
      " 64 | EUR/USD | 2022-08-12 13:45:44.814000, 1.02703, 1.02717\n",
      " 65 | EUR/USD | 2022-08-12 13:45:45.635000, 1.02704, 1.02717\n",
      " 66 | EUR/USD | 2022-08-12 13:45:47.382000, 1.02706, 1.02718\n",
      " 67 | EUR/USD | 2022-08-12 13:45:48.413000, 1.02706, 1.0271899999999998\n",
      " 68 | EUR/USD | 2022-08-12 13:45:49.069000, 1.02705, 1.0271899999999998\n",
      " 69 | EUR/USD | 2022-08-12 13:45:49.818000, 1.02705, 1.0271899999999998\n"
     ]
    }
   ],
   "source": [
    "api.unsubscribe_market_data(\"EUR/USD\")"
   ]
  },
  {
   "cell_type": "code",
   "execution_count": 19,
   "metadata": {},
   "outputs": [
    {
     "data": {
      "text/html": [
       "<div>\n",
       "<style scoped>\n",
       "    .dataframe tbody tr th:only-of-type {\n",
       "        vertical-align: middle;\n",
       "    }\n",
       "\n",
       "    .dataframe tbody tr th {\n",
       "        vertical-align: top;\n",
       "    }\n",
       "\n",
       "    .dataframe thead th {\n",
       "        text-align: right;\n",
       "    }\n",
       "</style>\n",
       "<table border=\"1\" class=\"dataframe\">\n",
       "  <thead>\n",
       "    <tr style=\"text-align: right;\">\n",
       "      <th></th>\n",
       "      <th>Bid</th>\n",
       "      <th>Ask</th>\n",
       "    </tr>\n",
       "  </thead>\n",
       "  <tbody>\n",
       "    <tr>\n",
       "      <th>2022-08-12 13:44:51.501</th>\n",
       "      <td>1.02709</td>\n",
       "      <td>1.02722</td>\n",
       "    </tr>\n",
       "    <tr>\n",
       "      <th>2022-08-12 13:44:52.020</th>\n",
       "      <td>1.02710</td>\n",
       "      <td>1.02724</td>\n",
       "    </tr>\n",
       "    <tr>\n",
       "      <th>2022-08-12 13:44:53.236</th>\n",
       "      <td>1.02711</td>\n",
       "      <td>1.02724</td>\n",
       "    </tr>\n",
       "    <tr>\n",
       "      <th>2022-08-12 13:44:54.205</th>\n",
       "      <td>1.02710</td>\n",
       "      <td>1.02724</td>\n",
       "    </tr>\n",
       "    <tr>\n",
       "      <th>2022-08-12 13:44:55.393</th>\n",
       "      <td>1.02711</td>\n",
       "      <td>1.02725</td>\n",
       "    </tr>\n",
       "    <tr>\n",
       "      <th>...</th>\n",
       "      <td>...</td>\n",
       "      <td>...</td>\n",
       "    </tr>\n",
       "    <tr>\n",
       "      <th>2022-08-12 13:45:45.635</th>\n",
       "      <td>1.02704</td>\n",
       "      <td>1.02717</td>\n",
       "    </tr>\n",
       "    <tr>\n",
       "      <th>2022-08-12 13:45:47.382</th>\n",
       "      <td>1.02706</td>\n",
       "      <td>1.02718</td>\n",
       "    </tr>\n",
       "    <tr>\n",
       "      <th>2022-08-12 13:45:48.413</th>\n",
       "      <td>1.02706</td>\n",
       "      <td>1.02719</td>\n",
       "    </tr>\n",
       "    <tr>\n",
       "      <th>2022-08-12 13:45:49.069</th>\n",
       "      <td>1.02705</td>\n",
       "      <td>1.02719</td>\n",
       "    </tr>\n",
       "    <tr>\n",
       "      <th>2022-08-12 13:45:49.818</th>\n",
       "      <td>1.02705</td>\n",
       "      <td>1.02719</td>\n",
       "    </tr>\n",
       "  </tbody>\n",
       "</table>\n",
       "<p>69 rows × 2 columns</p>\n",
       "</div>"
      ],
      "text/plain": [
       "                             Bid      Ask\n",
       "2022-08-12 13:44:51.501  1.02709  1.02722\n",
       "2022-08-12 13:44:52.020  1.02710  1.02724\n",
       "2022-08-12 13:44:53.236  1.02711  1.02724\n",
       "2022-08-12 13:44:54.205  1.02710  1.02724\n",
       "2022-08-12 13:44:55.393  1.02711  1.02725\n",
       "...                          ...      ...\n",
       "2022-08-12 13:45:45.635  1.02704  1.02717\n",
       "2022-08-12 13:45:47.382  1.02706  1.02718\n",
       "2022-08-12 13:45:48.413  1.02706  1.02719\n",
       "2022-08-12 13:45:49.069  1.02705  1.02719\n",
       "2022-08-12 13:45:49.818  1.02705  1.02719\n",
       "\n",
       "[69 rows x 2 columns]"
      ]
     },
     "execution_count": 19,
     "metadata": {},
     "output_type": "execute_result"
    }
   ],
   "source": [
    "tick_data"
   ]
  },
  {
   "cell_type": "code",
   "execution_count": 20,
   "metadata": {},
   "outputs": [
    {
     "data": {
      "text/html": [
       "<div>\n",
       "<style scoped>\n",
       "    .dataframe tbody tr th:only-of-type {\n",
       "        vertical-align: middle;\n",
       "    }\n",
       "\n",
       "    .dataframe tbody tr th {\n",
       "        vertical-align: top;\n",
       "    }\n",
       "\n",
       "    .dataframe thead th {\n",
       "        text-align: right;\n",
       "    }\n",
       "</style>\n",
       "<table border=\"1\" class=\"dataframe\">\n",
       "  <thead>\n",
       "    <tr style=\"text-align: right;\">\n",
       "      <th></th>\n",
       "      <th>Bid</th>\n",
       "      <th>Ask</th>\n",
       "      <th>Mid</th>\n",
       "    </tr>\n",
       "  </thead>\n",
       "  <tbody>\n",
       "    <tr>\n",
       "      <th>2022-08-12 13:45:00</th>\n",
       "      <td>1.02709</td>\n",
       "      <td>1.02722</td>\n",
       "      <td>1.027155</td>\n",
       "    </tr>\n",
       "    <tr>\n",
       "      <th>2022-08-12 13:45:10</th>\n",
       "      <td>1.02709</td>\n",
       "      <td>1.02723</td>\n",
       "      <td>1.027160</td>\n",
       "    </tr>\n",
       "    <tr>\n",
       "      <th>2022-08-12 13:45:20</th>\n",
       "      <td>1.02697</td>\n",
       "      <td>1.02709</td>\n",
       "      <td>1.027030</td>\n",
       "    </tr>\n",
       "    <tr>\n",
       "      <th>2022-08-12 13:45:30</th>\n",
       "      <td>1.02703</td>\n",
       "      <td>1.02715</td>\n",
       "      <td>1.027090</td>\n",
       "    </tr>\n",
       "    <tr>\n",
       "      <th>2022-08-12 13:45:40</th>\n",
       "      <td>1.02703</td>\n",
       "      <td>1.02716</td>\n",
       "      <td>1.027095</td>\n",
       "    </tr>\n",
       "  </tbody>\n",
       "</table>\n",
       "</div>"
      ],
      "text/plain": [
       "                         Bid      Ask       Mid\n",
       "2022-08-12 13:45:00  1.02709  1.02722  1.027155\n",
       "2022-08-12 13:45:10  1.02709  1.02723  1.027160\n",
       "2022-08-12 13:45:20  1.02697  1.02709  1.027030\n",
       "2022-08-12 13:45:30  1.02703  1.02715  1.027090\n",
       "2022-08-12 13:45:40  1.02703  1.02716  1.027095"
      ]
     },
     "execution_count": 20,
     "metadata": {},
     "output_type": "execute_result"
    }
   ],
   "source": [
    "resamp"
   ]
  },
  {
   "cell_type": "code",
   "execution_count": 21,
   "metadata": {},
   "outputs": [],
   "source": [
    "api.close()"
   ]
  },
  {
   "cell_type": "code",
   "execution_count": null,
   "metadata": {},
   "outputs": [],
   "source": []
  },
  {
   "cell_type": "markdown",
   "metadata": {},
   "source": [
    "## A Contrader Class"
   ]
  },
  {
   "cell_type": "code",
   "execution_count": 1,
   "metadata": {},
   "outputs": [],
   "source": [
    "import pandas as pd\n",
    "import fxcmpy"
   ]
  },
  {
   "cell_type": "code",
   "execution_count": 2,
   "metadata": {},
   "outputs": [],
   "source": [
    "api = fxcmpy.fxcmpy(config_file = \"fxcm.cfg\")"
   ]
  },
  {
   "cell_type": "code",
   "execution_count": 3,
   "metadata": {},
   "outputs": [],
   "source": [
    "class ConTrader():\n",
    "    def __init__(self, instrument, bar_length):\n",
    "        self.instrument = instrument\n",
    "        self.bar_length = bar_length\n",
    "        self.tick_data = None\n",
    "        self.data = None\n",
    "        self.ticks = 0 # running Tick number\n",
    "    \n",
    "    def get_tick_data(self, data, dataframe):\n",
    "        \n",
    "        self.ticks += 1\n",
    "        print(self.ticks, end = \" \") # Print running Tick number\n",
    "        \n",
    "        # collect and store tick data (mid-price only)\n",
    "        self.tick_data = dataframe.iloc[:, :2].copy()\n",
    "        self.tick_data[self.instrument] = (self.tick_data.Ask + self.tick_data.Bid)/2\n",
    "        self.tick_data = self.tick_data[self.instrument].to_frame()\n",
    "        \n",
    "        self.resample_and_join()\n",
    "            \n",
    "    def resample_and_join(self):\n",
    "        self.data = self.tick_data.resample(self.bar_length, label = \"right\").last().ffill().iloc[:-1]"
   ]
  },
  {
   "cell_type": "code",
   "execution_count": 4,
   "metadata": {},
   "outputs": [
    {
     "name": "stdout",
     "output_type": "stream",
     "text": [
      "0 1 2 3 4 5 6 7 8 9 "
     ]
    }
   ],
   "source": [
    "for i in range(10):\n",
    "    print(i, end = \" \")"
   ]
  },
  {
   "cell_type": "code",
   "execution_count": 5,
   "metadata": {},
   "outputs": [],
   "source": [
    "trader = ConTrader(\"EUR/USD\", \"10s\")"
   ]
  },
  {
   "cell_type": "code",
   "execution_count": 6,
   "metadata": {},
   "outputs": [
    {
     "data": {
      "text/plain": [
       "<__main__.ConTrader at 0x2ed91a358b0>"
      ]
     },
     "execution_count": 6,
     "metadata": {},
     "output_type": "execute_result"
    }
   ],
   "source": [
    "trader"
   ]
  },
  {
   "cell_type": "code",
   "execution_count": 7,
   "metadata": {},
   "outputs": [
    {
     "name": "stdout",
     "output_type": "stream",
     "text": [
      "1 2 3 4 5 6 7 8 9 10 11 12 13 14 15 16 17 18 19 20 21 22 23 24 25 26 27 28 29 30 31 32 "
     ]
    }
   ],
   "source": [
    "api.subscribe_market_data(\"EUR/USD\", (trader.get_tick_data, ))"
   ]
  },
  {
   "cell_type": "code",
   "execution_count": 8,
   "metadata": {},
   "outputs": [
    {
     "name": "stdout",
     "output_type": "stream",
     "text": [
      "33 34 35 36 37 38 39 40 41 42 43 44 45 46 47 48 49 50 51 52 53 54 55 56 57 58 59 60 61 62 63 64 65 66 67 68 69 70 71 72 73 74 "
     ]
    },
    {
     "name": "stderr",
     "output_type": "stream",
     "text": [
      "packet queue is empty, aborting\n"
     ]
    },
    {
     "name": "stdout",
     "output_type": "stream",
     "text": [
      "75 76 77 78 79 80 81 82 83 84 85 86 87 88 89 90 91 92 93 94 95 96 97 98 99 100 "
     ]
    }
   ],
   "source": [
    "api.unsubscribe_market_data(\"EUR/USD\")"
   ]
  },
  {
   "cell_type": "code",
   "execution_count": 9,
   "metadata": {},
   "outputs": [
    {
     "data": {
      "text/html": [
       "<div>\n",
       "<style scoped>\n",
       "    .dataframe tbody tr th:only-of-type {\n",
       "        vertical-align: middle;\n",
       "    }\n",
       "\n",
       "    .dataframe tbody tr th {\n",
       "        vertical-align: top;\n",
       "    }\n",
       "\n",
       "    .dataframe thead th {\n",
       "        text-align: right;\n",
       "    }\n",
       "</style>\n",
       "<table border=\"1\" class=\"dataframe\">\n",
       "  <thead>\n",
       "    <tr style=\"text-align: right;\">\n",
       "      <th></th>\n",
       "      <th>EUR/USD</th>\n",
       "    </tr>\n",
       "  </thead>\n",
       "  <tbody>\n",
       "    <tr>\n",
       "      <th>2022-08-22 16:33:20</th>\n",
       "      <td>0.994300</td>\n",
       "    </tr>\n",
       "    <tr>\n",
       "      <th>2022-08-22 16:33:30</th>\n",
       "      <td>0.994365</td>\n",
       "    </tr>\n",
       "    <tr>\n",
       "      <th>2022-08-22 16:33:40</th>\n",
       "      <td>0.994460</td>\n",
       "    </tr>\n",
       "    <tr>\n",
       "      <th>2022-08-22 16:33:50</th>\n",
       "      <td>0.994500</td>\n",
       "    </tr>\n",
       "    <tr>\n",
       "      <th>2022-08-22 16:34:00</th>\n",
       "      <td>0.994575</td>\n",
       "    </tr>\n",
       "    <tr>\n",
       "      <th>2022-08-22 16:34:10</th>\n",
       "      <td>0.994575</td>\n",
       "    </tr>\n",
       "    <tr>\n",
       "      <th>2022-08-22 16:34:20</th>\n",
       "      <td>0.994545</td>\n",
       "    </tr>\n",
       "    <tr>\n",
       "      <th>2022-08-22 16:34:30</th>\n",
       "      <td>0.994500</td>\n",
       "    </tr>\n",
       "    <tr>\n",
       "      <th>2022-08-22 16:34:40</th>\n",
       "      <td>0.994520</td>\n",
       "    </tr>\n",
       "  </tbody>\n",
       "</table>\n",
       "</div>"
      ],
      "text/plain": [
       "                      EUR/USD\n",
       "2022-08-22 16:33:20  0.994300\n",
       "2022-08-22 16:33:30  0.994365\n",
       "2022-08-22 16:33:40  0.994460\n",
       "2022-08-22 16:33:50  0.994500\n",
       "2022-08-22 16:34:00  0.994575\n",
       "2022-08-22 16:34:10  0.994575\n",
       "2022-08-22 16:34:20  0.994545\n",
       "2022-08-22 16:34:30  0.994500\n",
       "2022-08-22 16:34:40  0.994520"
      ]
     },
     "execution_count": 9,
     "metadata": {},
     "output_type": "execute_result"
    }
   ],
   "source": [
    "trader.data"
   ]
  },
  {
   "cell_type": "code",
   "execution_count": 10,
   "metadata": {},
   "outputs": [
    {
     "data": {
      "text/html": [
       "<div>\n",
       "<style scoped>\n",
       "    .dataframe tbody tr th:only-of-type {\n",
       "        vertical-align: middle;\n",
       "    }\n",
       "\n",
       "    .dataframe tbody tr th {\n",
       "        vertical-align: top;\n",
       "    }\n",
       "\n",
       "    .dataframe thead th {\n",
       "        text-align: right;\n",
       "    }\n",
       "</style>\n",
       "<table border=\"1\" class=\"dataframe\">\n",
       "  <thead>\n",
       "    <tr style=\"text-align: right;\">\n",
       "      <th></th>\n",
       "      <th>EUR/USD</th>\n",
       "    </tr>\n",
       "  </thead>\n",
       "  <tbody>\n",
       "    <tr>\n",
       "      <th>2022-08-22 16:33:10.901</th>\n",
       "      <td>0.994345</td>\n",
       "    </tr>\n",
       "    <tr>\n",
       "      <th>2022-08-22 16:33:12.580</th>\n",
       "      <td>0.994305</td>\n",
       "    </tr>\n",
       "    <tr>\n",
       "      <th>2022-08-22 16:33:13.411</th>\n",
       "      <td>0.994310</td>\n",
       "    </tr>\n",
       "    <tr>\n",
       "      <th>2022-08-22 16:33:14.055</th>\n",
       "      <td>0.994305</td>\n",
       "    </tr>\n",
       "    <tr>\n",
       "      <th>2022-08-22 16:33:14.698</th>\n",
       "      <td>0.994290</td>\n",
       "    </tr>\n",
       "    <tr>\n",
       "      <th>...</th>\n",
       "      <td>...</td>\n",
       "    </tr>\n",
       "    <tr>\n",
       "      <th>2022-08-22 16:34:37.468</th>\n",
       "      <td>0.994525</td>\n",
       "    </tr>\n",
       "    <tr>\n",
       "      <th>2022-08-22 16:34:38.099</th>\n",
       "      <td>0.994560</td>\n",
       "    </tr>\n",
       "    <tr>\n",
       "      <th>2022-08-22 16:34:39.025</th>\n",
       "      <td>0.994520</td>\n",
       "    </tr>\n",
       "    <tr>\n",
       "      <th>2022-08-22 16:34:42.368</th>\n",
       "      <td>0.994515</td>\n",
       "    </tr>\n",
       "    <tr>\n",
       "      <th>2022-08-22 16:34:42.731</th>\n",
       "      <td>0.994520</td>\n",
       "    </tr>\n",
       "  </tbody>\n",
       "</table>\n",
       "<p>101 rows × 1 columns</p>\n",
       "</div>"
      ],
      "text/plain": [
       "                          EUR/USD\n",
       "2022-08-22 16:33:10.901  0.994345\n",
       "2022-08-22 16:33:12.580  0.994305\n",
       "2022-08-22 16:33:13.411  0.994310\n",
       "2022-08-22 16:33:14.055  0.994305\n",
       "2022-08-22 16:33:14.698  0.994290\n",
       "...                           ...\n",
       "2022-08-22 16:34:37.468  0.994525\n",
       "2022-08-22 16:34:38.099  0.994560\n",
       "2022-08-22 16:34:39.025  0.994520\n",
       "2022-08-22 16:34:42.368  0.994515\n",
       "2022-08-22 16:34:42.731  0.994520\n",
       "\n",
       "[101 rows x 1 columns]"
      ]
     },
     "execution_count": 10,
     "metadata": {},
     "output_type": "execute_result"
    }
   ],
   "source": [
    "trader.tick_data"
   ]
  },
  {
   "cell_type": "code",
   "execution_count": 11,
   "metadata": {},
   "outputs": [],
   "source": [
    "api.close()"
   ]
  },
  {
   "cell_type": "code",
   "execution_count": null,
   "metadata": {},
   "outputs": [],
   "source": []
  },
  {
   "cell_type": "markdown",
   "metadata": {},
   "source": [
    "## Storing and resampling real-time tick data (Part 2)"
   ]
  },
  {
   "cell_type": "markdown",
   "metadata": {},
   "source": [
    "__When should we resample?__<br>\n",
    "Whenever there are more than 5s (__bar_length__) between the __most recent tick__ and __last full bar__. "
   ]
  },
  {
   "cell_type": "code",
   "execution_count": 1,
   "metadata": {},
   "outputs": [],
   "source": [
    "import pandas as pd\n",
    "import fxcmpy\n",
    "from datetime import datetime"
   ]
  },
  {
   "cell_type": "code",
   "execution_count": 2,
   "metadata": {},
   "outputs": [],
   "source": [
    "api = fxcmpy.fxcmpy(config_file = \"fxcm.cfg\")"
   ]
  },
  {
   "cell_type": "code",
   "execution_count": 3,
   "metadata": {},
   "outputs": [],
   "source": [
    "class ConTrader():\n",
    "    def __init__(self, instrument, bar_length):\n",
    "        self.instrument = instrument\n",
    "        self.bar_length = pd.to_timedelta(bar_length) # Pandas Timedelta Object\n",
    "        self.tick_data = None\n",
    "        self.data = None\n",
    "        self.ticks = 0\n",
    "        self.last_bar = pd.to_datetime(datetime.utcnow()) # Time at instantiation\n",
    "    \n",
    "    def get_tick_data(self, data, dataframe):\n",
    "        \n",
    "        self.ticks += 1\n",
    "        print(self.ticks, end = \" \")\n",
    "        \n",
    "        recent_tick = pd.to_datetime(data[\"Updated\"], unit = \"ms\") # Pandas Timestamp Object\n",
    "        \n",
    "        # if a time longer than the bar_lenght has elapsed between last full bar and the most recent tick\n",
    "        if recent_tick - self.last_bar > self.bar_length:\n",
    "            self.tick_data = dataframe.iloc[:, :2].copy()\n",
    "            self.tick_data[self.instrument] = (self.tick_data.Ask + self.tick_data.Bid)/2\n",
    "            self.tick_data = self.tick_data[self.instrument].to_frame()\n",
    "            self.resample_and_join()\n",
    "            \n",
    "    def resample_and_join(self):\n",
    "        self.data = self.tick_data.resample(self.bar_length, label = \"right\").last().ffill().iloc[:-1]\n",
    "        self.last_bar = self.data.index[-1]  # update time of last full bar"
   ]
  },
  {
   "cell_type": "code",
   "execution_count": 4,
   "metadata": {},
   "outputs": [
    {
     "data": {
      "text/plain": [
       "datetime.datetime(2022, 8, 22, 16, 42, 39, 883605)"
      ]
     },
     "execution_count": 4,
     "metadata": {},
     "output_type": "execute_result"
    }
   ],
   "source": [
    "datetime.utcnow()"
   ]
  },
  {
   "cell_type": "code",
   "execution_count": 5,
   "metadata": {},
   "outputs": [
    {
     "data": {
      "text/plain": [
       "Timestamp('2022-08-22 16:42:40.561978')"
      ]
     },
     "execution_count": 5,
     "metadata": {},
     "output_type": "execute_result"
    }
   ],
   "source": [
    "pd.to_datetime(datetime.utcnow())"
   ]
  },
  {
   "cell_type": "code",
   "execution_count": 6,
   "metadata": {},
   "outputs": [
    {
     "data": {
      "text/plain": [
       "Timedelta('0 days 00:00:10')"
      ]
     },
     "execution_count": 6,
     "metadata": {},
     "output_type": "execute_result"
    }
   ],
   "source": [
    "pd.to_timedelta(\"10s\")"
   ]
  },
  {
   "cell_type": "code",
   "execution_count": 7,
   "metadata": {},
   "outputs": [
    {
     "name": "stdout",
     "output_type": "stream",
     "text": [
      "1 2 3 4 5 6 7 8 9 10 11 12 13 14 15 16 17 18 19 20 21 22 23 24 25 26 27 "
     ]
    }
   ],
   "source": [
    "trader = ConTrader(\"EUR/USD\", \"10s\")\n",
    "api.subscribe_market_data(\"EUR/USD\", (trader.get_tick_data, ))"
   ]
  },
  {
   "cell_type": "code",
   "execution_count": 8,
   "metadata": {},
   "outputs": [
    {
     "name": "stdout",
     "output_type": "stream",
     "text": [
      "28 29 30 "
     ]
    }
   ],
   "source": [
    "api.unsubscribe_market_data(\"EUR/USD\")"
   ]
  },
  {
   "cell_type": "code",
   "execution_count": 9,
   "metadata": {},
   "outputs": [
    {
     "data": {
      "text/html": [
       "<div>\n",
       "<style scoped>\n",
       "    .dataframe tbody tr th:only-of-type {\n",
       "        vertical-align: middle;\n",
       "    }\n",
       "\n",
       "    .dataframe tbody tr th {\n",
       "        vertical-align: top;\n",
       "    }\n",
       "\n",
       "    .dataframe thead th {\n",
       "        text-align: right;\n",
       "    }\n",
       "</style>\n",
       "<table border=\"1\" class=\"dataframe\">\n",
       "  <thead>\n",
       "    <tr style=\"text-align: right;\">\n",
       "      <th></th>\n",
       "      <th>EUR/USD</th>\n",
       "    </tr>\n",
       "  </thead>\n",
       "  <tbody>\n",
       "    <tr>\n",
       "      <th>2022-08-22 16:42:50</th>\n",
       "      <td>0.994365</td>\n",
       "    </tr>\n",
       "    <tr>\n",
       "      <th>2022-08-22 16:43:00</th>\n",
       "      <td>0.994410</td>\n",
       "    </tr>\n",
       "    <tr>\n",
       "      <th>2022-08-22 16:43:10</th>\n",
       "      <td>0.994375</td>\n",
       "    </tr>\n",
       "  </tbody>\n",
       "</table>\n",
       "</div>"
      ],
      "text/plain": [
       "                      EUR/USD\n",
       "2022-08-22 16:42:50  0.994365\n",
       "2022-08-22 16:43:00  0.994410\n",
       "2022-08-22 16:43:10  0.994375"
      ]
     },
     "execution_count": 9,
     "metadata": {},
     "output_type": "execute_result"
    }
   ],
   "source": [
    "trader.data"
   ]
  },
  {
   "cell_type": "code",
   "execution_count": 10,
   "metadata": {},
   "outputs": [
    {
     "data": {
      "text/html": [
       "<div>\n",
       "<style scoped>\n",
       "    .dataframe tbody tr th:only-of-type {\n",
       "        vertical-align: middle;\n",
       "    }\n",
       "\n",
       "    .dataframe tbody tr th {\n",
       "        vertical-align: top;\n",
       "    }\n",
       "\n",
       "    .dataframe thead th {\n",
       "        text-align: right;\n",
       "    }\n",
       "</style>\n",
       "<table border=\"1\" class=\"dataframe\">\n",
       "  <thead>\n",
       "    <tr style=\"text-align: right;\">\n",
       "      <th></th>\n",
       "      <th>EUR/USD</th>\n",
       "    </tr>\n",
       "  </thead>\n",
       "  <tbody>\n",
       "    <tr>\n",
       "      <th>2022-08-22 16:42:49.189</th>\n",
       "      <td>0.994365</td>\n",
       "    </tr>\n",
       "    <tr>\n",
       "      <th>2022-08-22 16:42:50.355</th>\n",
       "      <td>0.994400</td>\n",
       "    </tr>\n",
       "    <tr>\n",
       "      <th>2022-08-22 16:42:51.167</th>\n",
       "      <td>0.994385</td>\n",
       "    </tr>\n",
       "    <tr>\n",
       "      <th>2022-08-22 16:42:51.553</th>\n",
       "      <td>0.994395</td>\n",
       "    </tr>\n",
       "    <tr>\n",
       "      <th>2022-08-22 16:42:53.483</th>\n",
       "      <td>0.994375</td>\n",
       "    </tr>\n",
       "    <tr>\n",
       "      <th>2022-08-22 16:42:54.539</th>\n",
       "      <td>0.994375</td>\n",
       "    </tr>\n",
       "    <tr>\n",
       "      <th>2022-08-22 16:42:55.183</th>\n",
       "      <td>0.994375</td>\n",
       "    </tr>\n",
       "    <tr>\n",
       "      <th>2022-08-22 16:42:55.920</th>\n",
       "      <td>0.994400</td>\n",
       "    </tr>\n",
       "    <tr>\n",
       "      <th>2022-08-22 16:42:56.666</th>\n",
       "      <td>0.994405</td>\n",
       "    </tr>\n",
       "    <tr>\n",
       "      <th>2022-08-22 16:42:58.658</th>\n",
       "      <td>0.994400</td>\n",
       "    </tr>\n",
       "    <tr>\n",
       "      <th>2022-08-22 16:42:59.305</th>\n",
       "      <td>0.994430</td>\n",
       "    </tr>\n",
       "    <tr>\n",
       "      <th>2022-08-22 16:42:59.816</th>\n",
       "      <td>0.994410</td>\n",
       "    </tr>\n",
       "    <tr>\n",
       "      <th>2022-08-22 16:43:00.669</th>\n",
       "      <td>0.994405</td>\n",
       "    </tr>\n",
       "    <tr>\n",
       "      <th>2022-08-22 16:43:01.499</th>\n",
       "      <td>0.994400</td>\n",
       "    </tr>\n",
       "    <tr>\n",
       "      <th>2022-08-22 16:43:02.172</th>\n",
       "      <td>0.994400</td>\n",
       "    </tr>\n",
       "    <tr>\n",
       "      <th>2022-08-22 16:43:03.288</th>\n",
       "      <td>0.994390</td>\n",
       "    </tr>\n",
       "    <tr>\n",
       "      <th>2022-08-22 16:43:04.558</th>\n",
       "      <td>0.994390</td>\n",
       "    </tr>\n",
       "    <tr>\n",
       "      <th>2022-08-22 16:43:05.090</th>\n",
       "      <td>0.994395</td>\n",
       "    </tr>\n",
       "    <tr>\n",
       "      <th>2022-08-22 16:43:06.020</th>\n",
       "      <td>0.994390</td>\n",
       "    </tr>\n",
       "    <tr>\n",
       "      <th>2022-08-22 16:43:06.623</th>\n",
       "      <td>0.994395</td>\n",
       "    </tr>\n",
       "    <tr>\n",
       "      <th>2022-08-22 16:43:07.802</th>\n",
       "      <td>0.994390</td>\n",
       "    </tr>\n",
       "    <tr>\n",
       "      <th>2022-08-22 16:43:08.748</th>\n",
       "      <td>0.994375</td>\n",
       "    </tr>\n",
       "    <tr>\n",
       "      <th>2022-08-22 16:43:09.564</th>\n",
       "      <td>0.994375</td>\n",
       "    </tr>\n",
       "    <tr>\n",
       "      <th>2022-08-22 16:43:10.161</th>\n",
       "      <td>0.994375</td>\n",
       "    </tr>\n",
       "  </tbody>\n",
       "</table>\n",
       "</div>"
      ],
      "text/plain": [
       "                          EUR/USD\n",
       "2022-08-22 16:42:49.189  0.994365\n",
       "2022-08-22 16:42:50.355  0.994400\n",
       "2022-08-22 16:42:51.167  0.994385\n",
       "2022-08-22 16:42:51.553  0.994395\n",
       "2022-08-22 16:42:53.483  0.994375\n",
       "2022-08-22 16:42:54.539  0.994375\n",
       "2022-08-22 16:42:55.183  0.994375\n",
       "2022-08-22 16:42:55.920  0.994400\n",
       "2022-08-22 16:42:56.666  0.994405\n",
       "2022-08-22 16:42:58.658  0.994400\n",
       "2022-08-22 16:42:59.305  0.994430\n",
       "2022-08-22 16:42:59.816  0.994410\n",
       "2022-08-22 16:43:00.669  0.994405\n",
       "2022-08-22 16:43:01.499  0.994400\n",
       "2022-08-22 16:43:02.172  0.994400\n",
       "2022-08-22 16:43:03.288  0.994390\n",
       "2022-08-22 16:43:04.558  0.994390\n",
       "2022-08-22 16:43:05.090  0.994395\n",
       "2022-08-22 16:43:06.020  0.994390\n",
       "2022-08-22 16:43:06.623  0.994395\n",
       "2022-08-22 16:43:07.802  0.994390\n",
       "2022-08-22 16:43:08.748  0.994375\n",
       "2022-08-22 16:43:09.564  0.994375\n",
       "2022-08-22 16:43:10.161  0.994375"
      ]
     },
     "execution_count": 10,
     "metadata": {},
     "output_type": "execute_result"
    }
   ],
   "source": [
    "trader.tick_data"
   ]
  },
  {
   "cell_type": "code",
   "execution_count": 11,
   "metadata": {},
   "outputs": [],
   "source": [
    "api.close()"
   ]
  },
  {
   "cell_type": "code",
   "execution_count": null,
   "metadata": {},
   "outputs": [],
   "source": []
  },
  {
   "cell_type": "markdown",
   "metadata": {},
   "source": [
    "## Storing and resampling real-time tick data (Part 3)"
   ]
  },
  {
   "cell_type": "code",
   "execution_count": 1,
   "metadata": {},
   "outputs": [],
   "source": [
    "import pandas as pd\n",
    "import fxcmpy\n",
    "from datetime import datetime"
   ]
  },
  {
   "cell_type": "code",
   "execution_count": 2,
   "metadata": {},
   "outputs": [],
   "source": [
    "api = fxcmpy.fxcmpy(config_file = \"fxcm.cfg\")"
   ]
  },
  {
   "cell_type": "markdown",
   "metadata": {},
   "source": [
    "Goal: Only use/store the latests ticks since the (second) last full bar."
   ]
  },
  {
   "cell_type": "code",
   "execution_count": 3,
   "metadata": {},
   "outputs": [],
   "source": [
    "class ConTrader():\n",
    "    def __init__(self, instrument, bar_length):\n",
    "        self.instrument = instrument\n",
    "        self.bar_length = pd.to_timedelta(bar_length) \n",
    "        self.tick_data = None\n",
    "        self.data = pd.DataFrame() # NEW\n",
    "        self.ticks = 0\n",
    "        self.last_bar = pd.to_datetime(datetime.utcnow()) \n",
    "    \n",
    "    def get_tick_data(self, data, dataframe):\n",
    "        \n",
    "        self.ticks += 1\n",
    "        print(self.ticks, end = \" \")\n",
    "        \n",
    "        recent_tick = pd.to_datetime(data[\"Updated\"], unit = \"ms\")\n",
    "        \n",
    "        # if a time longer than the bar_lenght has elapsed between last full bar and the most recent tick\n",
    "        if recent_tick - self.last_bar > self.bar_length:\n",
    "            #self.tick_data = dataframe.iloc[:, :2].copy()\n",
    "            # NEW: get most recent ticks since last full bar\n",
    "            self.tick_data = dataframe.loc[self.last_bar:, [\"Bid\", \"Ask\"]]\n",
    "            self.tick_data[self.instrument] = (self.tick_data.Ask + self.tick_data.Bid)/2\n",
    "            self.tick_data = self.tick_data[self.instrument].to_frame()\n",
    "            self.resample_and_join()\n",
    "            \n",
    "    def resample_and_join(self):\n",
    "        #self.data = self.tick_data.resample(self.bar_length, label = \"right\").last().ffill().iloc[:-1]\n",
    "        # NEW: append the most recent ticks (resampled) to self.data\n",
    "        self.data = self.data.append(self.tick_data.resample(self.bar_length, \n",
    "                                                             label=\"right\").last().ffill().iloc[:-1])\n",
    "        self.last_bar = self.data.index[-1]  "
   ]
  },
  {
   "cell_type": "code",
   "execution_count": 4,
   "metadata": {},
   "outputs": [
    {
     "name": "stdout",
     "output_type": "stream",
     "text": [
      "1 2 3 "
     ]
    },
    {
     "name": "stderr",
     "output_type": "stream",
     "text": [
      "C:\\Users\\Ashwin Dev\\AppData\\Local\\Temp\\ipykernel_20460\\1452965747.py:29: FutureWarning: The frame.append method is deprecated and will be removed from pandas in a future version. Use pandas.concat instead.\n",
      "  self.data = self.data.append(self.tick_data.resample(self.bar_length,\n"
     ]
    },
    {
     "name": "stdout",
     "output_type": "stream",
     "text": [
      "4 5 6 7 8 9 10 11 "
     ]
    },
    {
     "name": "stderr",
     "output_type": "stream",
     "text": [
      "C:\\Users\\Ashwin Dev\\AppData\\Local\\Temp\\ipykernel_20460\\1452965747.py:29: FutureWarning: The frame.append method is deprecated and will be removed from pandas in a future version. Use pandas.concat instead.\n",
      "  self.data = self.data.append(self.tick_data.resample(self.bar_length,\n"
     ]
    },
    {
     "name": "stdout",
     "output_type": "stream",
     "text": [
      "12 13 14 15 16 17 18 19 20 "
     ]
    },
    {
     "name": "stderr",
     "output_type": "stream",
     "text": [
      "C:\\Users\\Ashwin Dev\\AppData\\Local\\Temp\\ipykernel_20460\\1452965747.py:29: FutureWarning: The frame.append method is deprecated and will be removed from pandas in a future version. Use pandas.concat instead.\n",
      "  self.data = self.data.append(self.tick_data.resample(self.bar_length,\n"
     ]
    },
    {
     "name": "stdout",
     "output_type": "stream",
     "text": [
      "21 22 23 24 25 26 "
     ]
    }
   ],
   "source": [
    "trader = ConTrader(\"EUR/USD\", \"10s\")\n",
    "api.subscribe_market_data(\"EUR/USD\", (trader.get_tick_data, ))"
   ]
  },
  {
   "cell_type": "code",
   "execution_count": 5,
   "metadata": {},
   "outputs": [
    {
     "name": "stdout",
     "output_type": "stream",
     "text": [
      "27 28 29 30 31 "
     ]
    },
    {
     "name": "stderr",
     "output_type": "stream",
     "text": [
      "C:\\Users\\Ashwin Dev\\AppData\\Local\\Temp\\ipykernel_20460\\1452965747.py:29: FutureWarning: The frame.append method is deprecated and will be removed from pandas in a future version. Use pandas.concat instead.\n",
      "  self.data = self.data.append(self.tick_data.resample(self.bar_length,\n"
     ]
    },
    {
     "name": "stdout",
     "output_type": "stream",
     "text": [
      "32 33 34 "
     ]
    }
   ],
   "source": [
    "api.unsubscribe_market_data(\"EUR/USD\")"
   ]
  },
  {
   "cell_type": "code",
   "execution_count": 6,
   "metadata": {},
   "outputs": [
    {
     "data": {
      "text/html": [
       "<div>\n",
       "<style scoped>\n",
       "    .dataframe tbody tr th:only-of-type {\n",
       "        vertical-align: middle;\n",
       "    }\n",
       "\n",
       "    .dataframe tbody tr th {\n",
       "        vertical-align: top;\n",
       "    }\n",
       "\n",
       "    .dataframe thead th {\n",
       "        text-align: right;\n",
       "    }\n",
       "</style>\n",
       "<table border=\"1\" class=\"dataframe\">\n",
       "  <thead>\n",
       "    <tr style=\"text-align: right;\">\n",
       "      <th></th>\n",
       "      <th>EUR/USD</th>\n",
       "    </tr>\n",
       "  </thead>\n",
       "  <tbody>\n",
       "    <tr>\n",
       "      <th>2022-08-22 16:52:50</th>\n",
       "      <td>0.993705</td>\n",
       "    </tr>\n",
       "    <tr>\n",
       "      <th>2022-08-22 16:53:00</th>\n",
       "      <td>0.993695</td>\n",
       "    </tr>\n",
       "    <tr>\n",
       "      <th>2022-08-22 16:53:10</th>\n",
       "      <td>0.993795</td>\n",
       "    </tr>\n",
       "    <tr>\n",
       "      <th>2022-08-22 16:53:20</th>\n",
       "      <td>0.993740</td>\n",
       "    </tr>\n",
       "  </tbody>\n",
       "</table>\n",
       "</div>"
      ],
      "text/plain": [
       "                      EUR/USD\n",
       "2022-08-22 16:52:50  0.993705\n",
       "2022-08-22 16:53:00  0.993695\n",
       "2022-08-22 16:53:10  0.993795\n",
       "2022-08-22 16:53:20  0.993740"
      ]
     },
     "execution_count": 6,
     "metadata": {},
     "output_type": "execute_result"
    }
   ],
   "source": [
    "trader.data"
   ]
  },
  {
   "cell_type": "code",
   "execution_count": 7,
   "metadata": {},
   "outputs": [
    {
     "data": {
      "text/html": [
       "<div>\n",
       "<style scoped>\n",
       "    .dataframe tbody tr th:only-of-type {\n",
       "        vertical-align: middle;\n",
       "    }\n",
       "\n",
       "    .dataframe tbody tr th {\n",
       "        vertical-align: top;\n",
       "    }\n",
       "\n",
       "    .dataframe thead th {\n",
       "        text-align: right;\n",
       "    }\n",
       "</style>\n",
       "<table border=\"1\" class=\"dataframe\">\n",
       "  <thead>\n",
       "    <tr style=\"text-align: right;\">\n",
       "      <th></th>\n",
       "      <th>EUR/USD</th>\n",
       "    </tr>\n",
       "  </thead>\n",
       "  <tbody>\n",
       "    <tr>\n",
       "      <th>2022-08-22 16:53:10.971</th>\n",
       "      <td>0.993830</td>\n",
       "    </tr>\n",
       "    <tr>\n",
       "      <th>2022-08-22 16:53:11.591</th>\n",
       "      <td>0.993825</td>\n",
       "    </tr>\n",
       "    <tr>\n",
       "      <th>2022-08-22 16:53:12.616</th>\n",
       "      <td>0.993810</td>\n",
       "    </tr>\n",
       "    <tr>\n",
       "      <th>2022-08-22 16:53:13.122</th>\n",
       "      <td>0.993810</td>\n",
       "    </tr>\n",
       "    <tr>\n",
       "      <th>2022-08-22 16:53:14.024</th>\n",
       "      <td>0.993805</td>\n",
       "    </tr>\n",
       "    <tr>\n",
       "      <th>2022-08-22 16:53:14.614</th>\n",
       "      <td>0.993770</td>\n",
       "    </tr>\n",
       "    <tr>\n",
       "      <th>2022-08-22 16:53:16.008</th>\n",
       "      <td>0.993770</td>\n",
       "    </tr>\n",
       "    <tr>\n",
       "      <th>2022-08-22 16:53:16.636</th>\n",
       "      <td>0.993750</td>\n",
       "    </tr>\n",
       "    <tr>\n",
       "      <th>2022-08-22 16:53:17.299</th>\n",
       "      <td>0.993750</td>\n",
       "    </tr>\n",
       "    <tr>\n",
       "      <th>2022-08-22 16:53:17.915</th>\n",
       "      <td>0.993755</td>\n",
       "    </tr>\n",
       "    <tr>\n",
       "      <th>2022-08-22 16:53:19.350</th>\n",
       "      <td>0.993735</td>\n",
       "    </tr>\n",
       "    <tr>\n",
       "      <th>2022-08-22 16:53:19.830</th>\n",
       "      <td>0.993740</td>\n",
       "    </tr>\n",
       "    <tr>\n",
       "      <th>2022-08-22 16:53:21.110</th>\n",
       "      <td>0.993730</td>\n",
       "    </tr>\n",
       "  </tbody>\n",
       "</table>\n",
       "</div>"
      ],
      "text/plain": [
       "                          EUR/USD\n",
       "2022-08-22 16:53:10.971  0.993830\n",
       "2022-08-22 16:53:11.591  0.993825\n",
       "2022-08-22 16:53:12.616  0.993810\n",
       "2022-08-22 16:53:13.122  0.993810\n",
       "2022-08-22 16:53:14.024  0.993805\n",
       "2022-08-22 16:53:14.614  0.993770\n",
       "2022-08-22 16:53:16.008  0.993770\n",
       "2022-08-22 16:53:16.636  0.993750\n",
       "2022-08-22 16:53:17.299  0.993750\n",
       "2022-08-22 16:53:17.915  0.993755\n",
       "2022-08-22 16:53:19.350  0.993735\n",
       "2022-08-22 16:53:19.830  0.993740\n",
       "2022-08-22 16:53:21.110  0.993730"
      ]
     },
     "execution_count": 7,
     "metadata": {},
     "output_type": "execute_result"
    }
   ],
   "source": [
    "trader.tick_data"
   ]
  },
  {
   "cell_type": "code",
   "execution_count": 8,
   "metadata": {},
   "outputs": [],
   "source": [
    "api.close()"
   ]
  },
  {
   "cell_type": "code",
   "execution_count": null,
   "metadata": {},
   "outputs": [],
   "source": []
  },
  {
   "cell_type": "markdown",
   "metadata": {},
   "source": [
    "## Working with historical data and real-time tick data (Part 1)"
   ]
  },
  {
   "cell_type": "code",
   "execution_count": 1,
   "metadata": {},
   "outputs": [],
   "source": [
    "import pandas as pd\n",
    "import fxcmpy"
   ]
  },
  {
   "cell_type": "code",
   "execution_count": 2,
   "metadata": {},
   "outputs": [],
   "source": [
    "api = fxcmpy.fxcmpy(config_file= \"fxcm.cfg\")"
   ]
  },
  {
   "cell_type": "code",
   "execution_count": 3,
   "metadata": {},
   "outputs": [],
   "source": [
    "instrument = \"EUR/USD\""
   ]
  },
  {
   "cell_type": "code",
   "execution_count": 7,
   "metadata": {},
   "outputs": [
    {
     "data": {
      "text/html": [
       "<div>\n",
       "<style scoped>\n",
       "    .dataframe tbody tr th:only-of-type {\n",
       "        vertical-align: middle;\n",
       "    }\n",
       "\n",
       "    .dataframe tbody tr th {\n",
       "        vertical-align: top;\n",
       "    }\n",
       "\n",
       "    .dataframe thead th {\n",
       "        text-align: right;\n",
       "    }\n",
       "</style>\n",
       "<table border=\"1\" class=\"dataframe\">\n",
       "  <thead>\n",
       "    <tr style=\"text-align: right;\">\n",
       "      <th></th>\n",
       "      <th>bidclose</th>\n",
       "      <th>askclose</th>\n",
       "    </tr>\n",
       "    <tr>\n",
       "      <th>date</th>\n",
       "      <th></th>\n",
       "      <th></th>\n",
       "    </tr>\n",
       "  </thead>\n",
       "  <tbody>\n",
       "    <tr>\n",
       "      <th>2022-08-11 16:51:00</th>\n",
       "      <td>1.03312</td>\n",
       "      <td>1.03324</td>\n",
       "    </tr>\n",
       "    <tr>\n",
       "      <th>2022-08-11 16:52:00</th>\n",
       "      <td>1.03310</td>\n",
       "      <td>1.03323</td>\n",
       "    </tr>\n",
       "    <tr>\n",
       "      <th>2022-08-11 16:53:00</th>\n",
       "      <td>1.03286</td>\n",
       "      <td>1.03299</td>\n",
       "    </tr>\n",
       "    <tr>\n",
       "      <th>2022-08-11 16:54:00</th>\n",
       "      <td>1.03301</td>\n",
       "      <td>1.03313</td>\n",
       "    </tr>\n",
       "    <tr>\n",
       "      <th>2022-08-11 16:55:00</th>\n",
       "      <td>1.03291</td>\n",
       "      <td>1.03303</td>\n",
       "    </tr>\n",
       "    <tr>\n",
       "      <th>...</th>\n",
       "      <td>...</td>\n",
       "      <td>...</td>\n",
       "    </tr>\n",
       "    <tr>\n",
       "      <th>2022-08-22 16:54:00</th>\n",
       "      <td>0.99362</td>\n",
       "      <td>0.99374</td>\n",
       "    </tr>\n",
       "    <tr>\n",
       "      <th>2022-08-22 16:55:00</th>\n",
       "      <td>0.99344</td>\n",
       "      <td>0.99358</td>\n",
       "    </tr>\n",
       "    <tr>\n",
       "      <th>2022-08-22 16:56:00</th>\n",
       "      <td>0.99346</td>\n",
       "      <td>0.99359</td>\n",
       "    </tr>\n",
       "    <tr>\n",
       "      <th>2022-08-22 16:57:00</th>\n",
       "      <td>0.99312</td>\n",
       "      <td>0.99325</td>\n",
       "    </tr>\n",
       "    <tr>\n",
       "      <th>2022-08-22 16:58:00</th>\n",
       "      <td>0.99312</td>\n",
       "      <td>0.99325</td>\n",
       "    </tr>\n",
       "  </tbody>\n",
       "</table>\n",
       "<p>10000 rows × 2 columns</p>\n",
       "</div>"
      ],
      "text/plain": [
       "                     bidclose  askclose\n",
       "date                                   \n",
       "2022-08-11 16:51:00   1.03312   1.03324\n",
       "2022-08-11 16:52:00   1.03310   1.03323\n",
       "2022-08-11 16:53:00   1.03286   1.03299\n",
       "2022-08-11 16:54:00   1.03301   1.03313\n",
       "2022-08-11 16:55:00   1.03291   1.03303\n",
       "...                       ...       ...\n",
       "2022-08-22 16:54:00   0.99362   0.99374\n",
       "2022-08-22 16:55:00   0.99344   0.99358\n",
       "2022-08-22 16:56:00   0.99346   0.99359\n",
       "2022-08-22 16:57:00   0.99312   0.99325\n",
       "2022-08-22 16:58:00   0.99312   0.99325\n",
       "\n",
       "[10000 rows x 2 columns]"
      ]
     },
     "execution_count": 7,
     "metadata": {},
     "output_type": "execute_result"
    }
   ],
   "source": [
    "df = api.get_candles(instrument, number = 10000, period = \"m1\", columns = [\"bidclose\", \"askclose\"])\n",
    "df"
   ]
  },
  {
   "cell_type": "code",
   "execution_count": 8,
   "metadata": {},
   "outputs": [],
   "source": [
    "df[instrument] = (df.bidclose + df.askclose) / 2"
   ]
  },
  {
   "cell_type": "code",
   "execution_count": 9,
   "metadata": {},
   "outputs": [
    {
     "data": {
      "text/html": [
       "<div>\n",
       "<style scoped>\n",
       "    .dataframe tbody tr th:only-of-type {\n",
       "        vertical-align: middle;\n",
       "    }\n",
       "\n",
       "    .dataframe tbody tr th {\n",
       "        vertical-align: top;\n",
       "    }\n",
       "\n",
       "    .dataframe thead th {\n",
       "        text-align: right;\n",
       "    }\n",
       "</style>\n",
       "<table border=\"1\" class=\"dataframe\">\n",
       "  <thead>\n",
       "    <tr style=\"text-align: right;\">\n",
       "      <th></th>\n",
       "      <th>bidclose</th>\n",
       "      <th>askclose</th>\n",
       "      <th>EUR/USD</th>\n",
       "    </tr>\n",
       "    <tr>\n",
       "      <th>date</th>\n",
       "      <th></th>\n",
       "      <th></th>\n",
       "      <th></th>\n",
       "    </tr>\n",
       "  </thead>\n",
       "  <tbody>\n",
       "    <tr>\n",
       "      <th>2022-08-11 16:51:00</th>\n",
       "      <td>1.03312</td>\n",
       "      <td>1.03324</td>\n",
       "      <td>1.033180</td>\n",
       "    </tr>\n",
       "    <tr>\n",
       "      <th>2022-08-11 16:52:00</th>\n",
       "      <td>1.03310</td>\n",
       "      <td>1.03323</td>\n",
       "      <td>1.033165</td>\n",
       "    </tr>\n",
       "    <tr>\n",
       "      <th>2022-08-11 16:53:00</th>\n",
       "      <td>1.03286</td>\n",
       "      <td>1.03299</td>\n",
       "      <td>1.032925</td>\n",
       "    </tr>\n",
       "    <tr>\n",
       "      <th>2022-08-11 16:54:00</th>\n",
       "      <td>1.03301</td>\n",
       "      <td>1.03313</td>\n",
       "      <td>1.033070</td>\n",
       "    </tr>\n",
       "    <tr>\n",
       "      <th>2022-08-11 16:55:00</th>\n",
       "      <td>1.03291</td>\n",
       "      <td>1.03303</td>\n",
       "      <td>1.032970</td>\n",
       "    </tr>\n",
       "    <tr>\n",
       "      <th>...</th>\n",
       "      <td>...</td>\n",
       "      <td>...</td>\n",
       "      <td>...</td>\n",
       "    </tr>\n",
       "    <tr>\n",
       "      <th>2022-08-22 16:54:00</th>\n",
       "      <td>0.99362</td>\n",
       "      <td>0.99374</td>\n",
       "      <td>0.993680</td>\n",
       "    </tr>\n",
       "    <tr>\n",
       "      <th>2022-08-22 16:55:00</th>\n",
       "      <td>0.99344</td>\n",
       "      <td>0.99358</td>\n",
       "      <td>0.993510</td>\n",
       "    </tr>\n",
       "    <tr>\n",
       "      <th>2022-08-22 16:56:00</th>\n",
       "      <td>0.99346</td>\n",
       "      <td>0.99359</td>\n",
       "      <td>0.993525</td>\n",
       "    </tr>\n",
       "    <tr>\n",
       "      <th>2022-08-22 16:57:00</th>\n",
       "      <td>0.99312</td>\n",
       "      <td>0.99325</td>\n",
       "      <td>0.993185</td>\n",
       "    </tr>\n",
       "    <tr>\n",
       "      <th>2022-08-22 16:58:00</th>\n",
       "      <td>0.99312</td>\n",
       "      <td>0.99325</td>\n",
       "      <td>0.993185</td>\n",
       "    </tr>\n",
       "  </tbody>\n",
       "</table>\n",
       "<p>10000 rows × 3 columns</p>\n",
       "</div>"
      ],
      "text/plain": [
       "                     bidclose  askclose   EUR/USD\n",
       "date                                             \n",
       "2022-08-11 16:51:00   1.03312   1.03324  1.033180\n",
       "2022-08-11 16:52:00   1.03310   1.03323  1.033165\n",
       "2022-08-11 16:53:00   1.03286   1.03299  1.032925\n",
       "2022-08-11 16:54:00   1.03301   1.03313  1.033070\n",
       "2022-08-11 16:55:00   1.03291   1.03303  1.032970\n",
       "...                       ...       ...       ...\n",
       "2022-08-22 16:54:00   0.99362   0.99374  0.993680\n",
       "2022-08-22 16:55:00   0.99344   0.99358  0.993510\n",
       "2022-08-22 16:56:00   0.99346   0.99359  0.993525\n",
       "2022-08-22 16:57:00   0.99312   0.99325  0.993185\n",
       "2022-08-22 16:58:00   0.99312   0.99325  0.993185\n",
       "\n",
       "[10000 rows x 3 columns]"
      ]
     },
     "execution_count": 9,
     "metadata": {},
     "output_type": "execute_result"
    }
   ],
   "source": [
    "df"
   ]
  },
  {
   "cell_type": "code",
   "execution_count": 10,
   "metadata": {},
   "outputs": [],
   "source": [
    "df = df[instrument].to_frame()"
   ]
  },
  {
   "cell_type": "code",
   "execution_count": 11,
   "metadata": {},
   "outputs": [
    {
     "data": {
      "text/html": [
       "<div>\n",
       "<style scoped>\n",
       "    .dataframe tbody tr th:only-of-type {\n",
       "        vertical-align: middle;\n",
       "    }\n",
       "\n",
       "    .dataframe tbody tr th {\n",
       "        vertical-align: top;\n",
       "    }\n",
       "\n",
       "    .dataframe thead th {\n",
       "        text-align: right;\n",
       "    }\n",
       "</style>\n",
       "<table border=\"1\" class=\"dataframe\">\n",
       "  <thead>\n",
       "    <tr style=\"text-align: right;\">\n",
       "      <th></th>\n",
       "      <th>EUR/USD</th>\n",
       "    </tr>\n",
       "    <tr>\n",
       "      <th>date</th>\n",
       "      <th></th>\n",
       "    </tr>\n",
       "  </thead>\n",
       "  <tbody>\n",
       "    <tr>\n",
       "      <th>2022-08-11 17:00:00</th>\n",
       "      <td>1.033010</td>\n",
       "    </tr>\n",
       "    <tr>\n",
       "      <th>2022-08-11 17:20:00</th>\n",
       "      <td>1.032685</td>\n",
       "    </tr>\n",
       "    <tr>\n",
       "      <th>2022-08-11 17:40:00</th>\n",
       "      <td>1.032250</td>\n",
       "    </tr>\n",
       "    <tr>\n",
       "      <th>2022-08-11 18:00:00</th>\n",
       "      <td>1.032210</td>\n",
       "    </tr>\n",
       "    <tr>\n",
       "      <th>2022-08-11 18:20:00</th>\n",
       "      <td>1.031810</td>\n",
       "    </tr>\n",
       "    <tr>\n",
       "      <th>...</th>\n",
       "      <td>...</td>\n",
       "    </tr>\n",
       "    <tr>\n",
       "      <th>2022-08-22 15:20:00</th>\n",
       "      <td>0.995280</td>\n",
       "    </tr>\n",
       "    <tr>\n",
       "      <th>2022-08-22 15:40:00</th>\n",
       "      <td>0.993455</td>\n",
       "    </tr>\n",
       "    <tr>\n",
       "      <th>2022-08-22 16:00:00</th>\n",
       "      <td>0.993455</td>\n",
       "    </tr>\n",
       "    <tr>\n",
       "      <th>2022-08-22 16:20:00</th>\n",
       "      <td>0.993765</td>\n",
       "    </tr>\n",
       "    <tr>\n",
       "      <th>2022-08-22 16:40:00</th>\n",
       "      <td>0.994845</td>\n",
       "    </tr>\n",
       "  </tbody>\n",
       "</table>\n",
       "<p>506 rows × 1 columns</p>\n",
       "</div>"
      ],
      "text/plain": [
       "                      EUR/USD\n",
       "date                         \n",
       "2022-08-11 17:00:00  1.033010\n",
       "2022-08-11 17:20:00  1.032685\n",
       "2022-08-11 17:40:00  1.032250\n",
       "2022-08-11 18:00:00  1.032210\n",
       "2022-08-11 18:20:00  1.031810\n",
       "...                       ...\n",
       "2022-08-22 15:20:00  0.995280\n",
       "2022-08-22 15:40:00  0.993455\n",
       "2022-08-22 16:00:00  0.993455\n",
       "2022-08-22 16:20:00  0.993765\n",
       "2022-08-22 16:40:00  0.994845\n",
       "\n",
       "[506 rows x 1 columns]"
      ]
     },
     "execution_count": 11,
     "metadata": {},
     "output_type": "execute_result"
    }
   ],
   "source": [
    "df = df.resample(\"20min\", label = \"right\").last().dropna().iloc[:-1]\n",
    "df"
   ]
  },
  {
   "cell_type": "code",
   "execution_count": 12,
   "metadata": {},
   "outputs": [
    {
     "name": "stdout",
     "output_type": "stream",
     "text": [
      "<class 'pandas.core.frame.DataFrame'>\n",
      "DatetimeIndex: 506 entries, 2022-08-11 17:00:00 to 2022-08-22 16:40:00\n",
      "Data columns (total 1 columns):\n",
      " #   Column   Non-Null Count  Dtype  \n",
      "---  ------   --------------  -----  \n",
      " 0   EUR/USD  506 non-null    float64\n",
      "dtypes: float64(1)\n",
      "memory usage: 7.9 KB\n"
     ]
    }
   ],
   "source": [
    "df.info()"
   ]
  },
  {
   "cell_type": "code",
   "execution_count": 13,
   "metadata": {},
   "outputs": [],
   "source": [
    "api.close()"
   ]
  },
  {
   "cell_type": "code",
   "execution_count": null,
   "metadata": {},
   "outputs": [],
   "source": []
  },
  {
   "cell_type": "markdown",
   "metadata": {},
   "source": [
    "## Working with historical data and real-time tick data (Part 2)"
   ]
  },
  {
   "cell_type": "code",
   "execution_count": 14,
   "metadata": {},
   "outputs": [],
   "source": [
    "import pandas as pd\n",
    "import fxcmpy\n",
    "from datetime import datetime"
   ]
  },
  {
   "cell_type": "code",
   "execution_count": 15,
   "metadata": {},
   "outputs": [],
   "source": [
    "api = fxcmpy.fxcmpy(config_file= \"fxcm.cfg\")"
   ]
  },
  {
   "cell_type": "code",
   "execution_count": 16,
   "metadata": {},
   "outputs": [],
   "source": [
    "class ConTrader():\n",
    "    def __init__(self, instrument, bar_length):\n",
    "        self.instrument = instrument\n",
    "        self.bar_length = pd.to_timedelta(bar_length) \n",
    "        self.tick_data = None\n",
    "        self.data = None # first defined in get_most_recent()\n",
    "        self.ticks = 0\n",
    "        self.last_bar = None # first defined in get_most_recent()\n",
    "    \n",
    "    def get_most_recent(self, period = \"m1\", number = 10000): # NEW\n",
    "        df = api.get_candles(self.instrument, number = number, period = period, columns = [\"bidclose\", \"askclose\"])\n",
    "        df[self.instrument] = (df.bidclose + df.askclose) / 2\n",
    "        df = df[self.instrument].to_frame()\n",
    "        df = df.resample(self.bar_length, label = \"right\").last().dropna().iloc[:-1]\n",
    "        self.data = df.copy() # first defined\n",
    "        self.last_bar = self.data.index[-1] # first defined\n",
    "    \n",
    "    def get_tick_data(self, data, dataframe):\n",
    "        \n",
    "        self.ticks += 1\n",
    "        print(self.ticks, end = \" \")\n",
    "        \n",
    "        recent_tick = pd.to_datetime(data[\"Updated\"], unit = \"ms\")\n",
    "        \n",
    "        # if a time longer than the bar_lenght has elapsed between last full bar and the most recent tick\n",
    "        if recent_tick - self.last_bar > self.bar_length:\n",
    "            self.tick_data = dataframe.loc[self.last_bar:, [\"Bid\", \"Ask\"]]\n",
    "            self.tick_data[self.instrument] = (self.tick_data.Ask + self.tick_data.Bid)/2\n",
    "            self.tick_data = self.tick_data[self.instrument].to_frame()\n",
    "            self.resample_and_join()\n",
    "            \n",
    "    def resample_and_join(self):\n",
    "        self.data = self.data.concat(self.tick_data.resample(self.bar_length, \n",
    "                                                             label=\"right\").last().ffill().iloc[:-1])\n",
    "        self.last_bar = self.data.index[-1]  "
   ]
  },
  {
   "cell_type": "code",
   "execution_count": 17,
   "metadata": {},
   "outputs": [],
   "source": [
    "trader = ConTrader(\"EUR/USD\", \"1min\")"
   ]
  },
  {
   "cell_type": "code",
   "execution_count": 18,
   "metadata": {},
   "outputs": [
    {
     "name": "stdout",
     "output_type": "stream",
     "text": [
      "2022-08-22 17:00:49.495265\n"
     ]
    },
    {
     "name": "stderr",
     "output_type": "stream",
     "text": [
      "Exception in thread Thread-2049:\n",
      "Traceback (most recent call last):\n",
      "  File \"C:\\Users\\Ashwin Dev\\anaconda3\\lib\\threading.py\", line 973, in _bootstrap_inner\n",
      "    self.run()\n",
      "  File \"C:\\Users\\Ashwin Dev\\anaconda3\\lib\\threading.py\", line 910, in run\n",
      "    self._target(*self._args, **self._kwargs)\n",
      "  File \"C:\\Users\\Ashwin Dev\\anaconda3\\lib\\site-packages\\socketio\\client.py\", line 615, in _handle_eio_message\n",
      "    self._handle_event(pkt.namespace, pkt.id, pkt.data)\n",
      "  File \"C:\\Users\\Ashwin Dev\\anaconda3\\lib\\site-packages\\socketio\\client.py\", line 501, in _handle_event\n",
      "    r = self._trigger_event(data[0], namespace, *data[1:])\n",
      "  File \"C:\\Users\\Ashwin Dev\\anaconda3\\lib\\site-packages\\socketio\\client.py\", line 547, in _trigger_event\n",
      "    return self.handlers[namespace][event](*args)\n",
      "  File \"C:\\Users\\Ashwin Dev\\anaconda3\\lib\\site-packages\\fxcmpy\\fxcmpy.py\", line 2575, in __on_price_update__\n",
      "    callbacks[func](data, self.prices[symbol])\n",
      "  File \"C:\\Users\\Ashwin Dev\\AppData\\Local\\Temp\\ipykernel_23296\\4041063007.py\", line 30, in get_tick_data\n",
      "  File \"C:\\Users\\Ashwin Dev\\AppData\\Local\\Temp\\ipykernel_23296\\4041063007.py\", line 33, in resample_and_join\n",
      "  File \"C:\\Users\\Ashwin Dev\\anaconda3\\lib\\site-packages\\pandas\\core\\generic.py\", line 5575, in __getattr__\n",
      "    return object.__getattribute__(self, name)\n",
      "AttributeError: 'DataFrame' object has no attribute 'concat'\n"
     ]
    },
    {
     "name": "stdout",
     "output_type": "stream",
     "text": [
      "1 "
     ]
    },
    {
     "name": "stderr",
     "output_type": "stream",
     "text": [
      "Exception in thread Thread-2056:\n",
      "Traceback (most recent call last):\n",
      "  File \"C:\\Users\\Ashwin Dev\\anaconda3\\lib\\threading.py\", line 973, in _bootstrap_inner\n",
      "    self.run()\n",
      "  File \"C:\\Users\\Ashwin Dev\\anaconda3\\lib\\threading.py\", line 910, in run\n",
      "    self._target(*self._args, **self._kwargs)\n",
      "  File \"C:\\Users\\Ashwin Dev\\anaconda3\\lib\\site-packages\\socketio\\client.py\", line 615, in _handle_eio_message\n",
      "    self._handle_event(pkt.namespace, pkt.id, pkt.data)\n",
      "  File \"C:\\Users\\Ashwin Dev\\anaconda3\\lib\\site-packages\\socketio\\client.py\", line 501, in _handle_event\n",
      "    r = self._trigger_event(data[0], namespace, *data[1:])\n",
      "  File \"C:\\Users\\Ashwin Dev\\anaconda3\\lib\\site-packages\\socketio\\client.py\", line 547, in _trigger_event\n",
      "    return self.handlers[namespace][event](*args)\n",
      "  File \"C:\\Users\\Ashwin Dev\\anaconda3\\lib\\site-packages\\fxcmpy\\fxcmpy.py\", line 2575, in __on_price_update__\n",
      "    callbacks[func](data, self.prices[symbol])\n",
      "  File \"C:\\Users\\Ashwin Dev\\AppData\\Local\\Temp\\ipykernel_23296\\4041063007.py\", line 30, in get_tick_data\n",
      "  File \"C:\\Users\\Ashwin Dev\\AppData\\Local\\Temp\\ipykernel_23296\\4041063007.py\", line 33, in resample_and_join\n",
      "  File \"C:\\Users\\Ashwin Dev\\anaconda3\\lib\\site-packages\\pandas\\core\\generic.py\", line 5575, in __getattr__\n",
      "    return object.__getattribute__(self, name)\n",
      "AttributeError: 'DataFrame' object has no attribute 'concat'\n"
     ]
    },
    {
     "name": "stdout",
     "output_type": "stream",
     "text": [
      "2 "
     ]
    },
    {
     "name": "stderr",
     "output_type": "stream",
     "text": [
      "Exception in thread Thread-2058:\n",
      "Traceback (most recent call last):\n",
      "  File \"C:\\Users\\Ashwin Dev\\anaconda3\\lib\\threading.py\", line 973, in _bootstrap_inner\n",
      "    self.run()\n",
      "  File \"C:\\Users\\Ashwin Dev\\anaconda3\\lib\\threading.py\", line 910, in run\n",
      "    self._target(*self._args, **self._kwargs)\n",
      "  File \"C:\\Users\\Ashwin Dev\\anaconda3\\lib\\site-packages\\socketio\\client.py\", line 615, in _handle_eio_message\n",
      "    self._handle_event(pkt.namespace, pkt.id, pkt.data)\n",
      "  File \"C:\\Users\\Ashwin Dev\\anaconda3\\lib\\site-packages\\socketio\\client.py\", line 501, in _handle_event\n",
      "    r = self._trigger_event(data[0], namespace, *data[1:])\n",
      "  File \"C:\\Users\\Ashwin Dev\\anaconda3\\lib\\site-packages\\socketio\\client.py\", line 547, in _trigger_event\n",
      "    return self.handlers[namespace][event](*args)\n",
      "  File \"C:\\Users\\Ashwin Dev\\anaconda3\\lib\\site-packages\\fxcmpy\\fxcmpy.py\", line 2575, in __on_price_update__\n",
      "    callbacks[func](data, self.prices[symbol])\n",
      "  File \"C:\\Users\\Ashwin Dev\\AppData\\Local\\Temp\\ipykernel_23296\\4041063007.py\", line 30, in get_tick_data\n",
      "  File \"C:\\Users\\Ashwin Dev\\AppData\\Local\\Temp\\ipykernel_23296\\4041063007.py\", line 33, in resample_and_join\n",
      "Exception in thread Thread-2071:\n",
      "Traceback (most recent call last):\n",
      "  File \"C:\\Users\\Ashwin Dev\\anaconda3\\lib\\threading.py\", line 973, in _bootstrap_inner\n",
      "  File \"C:\\Users\\Ashwin Dev\\anaconda3\\lib\\site-packages\\pandas\\core\\generic.py\", line 5575, in __getattr__\n",
      "    self.run()\n",
      "  File \"C:\\Users\\Ashwin Dev\\anaconda3\\lib\\threading.py\", line 910, in run\n",
      "    return object.__getattribute__(self, name)\n",
      "AttributeError: 'DataFrame' object has no attribute 'concat'\n",
      "    self._target(*self._args, **self._kwargs)\n",
      "  File \"C:\\Users\\Ashwin Dev\\anaconda3\\lib\\site-packages\\socketio\\client.py\", line 615, in _handle_eio_message\n",
      "    self._handle_event(pkt.namespace, pkt.id, pkt.data)\n",
      "  File \"C:\\Users\\Ashwin Dev\\anaconda3\\lib\\site-packages\\socketio\\client.py\", line 501, in _handle_event\n",
      "    r = self._trigger_event(data[0], namespace, *data[1:])\n",
      "  File \"C:\\Users\\Ashwin Dev\\anaconda3\\lib\\site-packages\\socketio\\client.py\", line 547, in _trigger_event\n",
      "    return self.handlers[namespace][event](*args)\n",
      "  File \"C:\\Users\\Ashwin Dev\\anaconda3\\lib\\site-packages\\fxcmpy\\fxcmpy.py\", line 2575, in __on_price_update__\n",
      "    callbacks[func](data, self.prices[symbol])\n",
      "  File \"C:\\Users\\Ashwin Dev\\AppData\\Local\\Temp\\ipykernel_23296\\4041063007.py\", line 30, in get_tick_data\n",
      "  File \"C:\\Users\\Ashwin Dev\\AppData\\Local\\Temp\\ipykernel_23296\\4041063007.py\", line 33, in resample_and_join\n",
      "Exception in thread Thread-2091:\n",
      "Traceback (most recent call last):\n",
      "  File \"C:\\Users\\Ashwin Dev\\anaconda3\\lib\\site-packages\\pandas\\core\\generic.py\", line 5575, in __getattr__\n",
      "    return object.__getattribute__(self, name)\n",
      "AttributeError: 'DataFrame' object has no attribute 'concat'\n",
      "  File \"C:\\Users\\Ashwin Dev\\anaconda3\\lib\\threading.py\", line 973, in _bootstrap_inner\n",
      "    self.run()\n",
      "  File \"C:\\Users\\Ashwin Dev\\anaconda3\\lib\\threading.py\", line 910, in run\n",
      "    self._target(*self._args, **self._kwargs)\n",
      "  File \"C:\\Users\\Ashwin Dev\\anaconda3\\lib\\site-packages\\socketio\\client.py\", line 615, in _handle_eio_message\n",
      "    self._handle_event(pkt.namespace, pkt.id, pkt.data)\n",
      "  File \"C:\\Users\\Ashwin Dev\\anaconda3\\lib\\site-packages\\socketio\\client.py\", line 501, in _handle_event\n",
      "    r = self._trigger_event(data[0], namespace, *data[1:])\n",
      "  File \"C:\\Users\\Ashwin Dev\\anaconda3\\lib\\site-packages\\socketio\\client.py\", line 547, in _trigger_event\n",
      "    return self.handlers[namespace][event](*args)\n",
      "  File \"C:\\Users\\Ashwin Dev\\anaconda3\\lib\\site-packages\\fxcmpy\\fxcmpy.py\", line 2575, in __on_price_update__\n",
      "    callbacks[func](data, self.prices[symbol])\n",
      "  File \"C:\\Users\\Ashwin Dev\\AppData\\Local\\Temp\\ipykernel_23296\\4041063007.py\", line 30, in get_tick_data\n",
      "  File \"C:\\Users\\Ashwin Dev\\AppData\\Local\\Temp\\ipykernel_23296\\4041063007.py\", line 33, in resample_and_join\n",
      "  File \"C:\\Users\\Ashwin Dev\\anaconda3\\lib\\site-packages\\pandas\\core\\generic.py\", line 5575, in __getattr__\n",
      "    return object.__getattribute__(self, name)\n",
      "AttributeError: 'DataFrame' object has no attribute 'concat'\n"
     ]
    },
    {
     "name": "stdout",
     "output_type": "stream",
     "text": [
      "3 4 5 "
     ]
    },
    {
     "name": "stderr",
     "output_type": "stream",
     "text": [
      "Exception in thread Thread-2101:\n",
      "Traceback (most recent call last):\n",
      "  File \"C:\\Users\\Ashwin Dev\\anaconda3\\lib\\threading.py\", line 973, in _bootstrap_inner\n",
      "    self.run()\n",
      "  File \"C:\\Users\\Ashwin Dev\\anaconda3\\lib\\threading.py\", line 910, in run\n",
      "    self._target(*self._args, **self._kwargs)\n",
      "  File \"C:\\Users\\Ashwin Dev\\anaconda3\\lib\\site-packages\\socketio\\client.py\", line 615, in _handle_eio_message\n",
      "    self._handle_event(pkt.namespace, pkt.id, pkt.data)\n",
      "  File \"C:\\Users\\Ashwin Dev\\anaconda3\\lib\\site-packages\\socketio\\client.py\", line 501, in _handle_event\n",
      "    r = self._trigger_event(data[0], namespace, *data[1:])\n",
      "  File \"C:\\Users\\Ashwin Dev\\anaconda3\\lib\\site-packages\\socketio\\client.py\", line 547, in _trigger_event\n",
      "    return self.handlers[namespace][event](*args)\n",
      "  File \"C:\\Users\\Ashwin Dev\\anaconda3\\lib\\site-packages\\fxcmpy\\fxcmpy.py\", line 2575, in __on_price_update__\n",
      "    callbacks[func](data, self.prices[symbol])\n",
      "  File \"C:\\Users\\Ashwin Dev\\AppData\\Local\\Temp\\ipykernel_23296\\4041063007.py\", line 30, in get_tick_data\n",
      "  File \"C:\\Users\\Ashwin Dev\\AppData\\Local\\Temp\\ipykernel_23296\\4041063007.py\", line 33, in resample_and_join\n",
      "  File \"C:\\Users\\Ashwin Dev\\anaconda3\\lib\\site-packages\\pandas\\core\\generic.py\", line 5575, in __getattr__\n",
      "    return object.__getattribute__(self, name)\n",
      "AttributeError: 'DataFrame' object has no attribute 'concat'\n",
      "Exception in thread Thread-2119:\n",
      "Traceback (most recent call last):\n",
      "  File \"C:\\Users\\Ashwin Dev\\anaconda3\\lib\\threading.py\", line 973, in _bootstrap_inner\n",
      "    self.run()\n",
      "  File \"C:\\Users\\Ashwin Dev\\anaconda3\\lib\\threading.py\", line 910, in run\n",
      "    self._target(*self._args, **self._kwargs)\n",
      "  File \"C:\\Users\\Ashwin Dev\\anaconda3\\lib\\site-packages\\socketio\\client.py\", line 615, in _handle_eio_message\n",
      "    self._handle_event(pkt.namespace, pkt.id, pkt.data)\n",
      "  File \"C:\\Users\\Ashwin Dev\\anaconda3\\lib\\site-packages\\socketio\\client.py\", line 501, in _handle_event\n",
      "    r = self._trigger_event(data[0], namespace, *data[1:])\n",
      "  File \"C:\\Users\\Ashwin Dev\\anaconda3\\lib\\site-packages\\socketio\\client.py\", line 547, in _trigger_event\n",
      "    return self.handlers[namespace][event](*args)\n",
      "  File \"C:\\Users\\Ashwin Dev\\anaconda3\\lib\\site-packages\\fxcmpy\\fxcmpy.py\", line 2575, in __on_price_update__\n",
      "    callbacks[func](data, self.prices[symbol])\n",
      "  File \"C:\\Users\\Ashwin Dev\\AppData\\Local\\Temp\\ipykernel_23296\\4041063007.py\", line 30, in get_tick_data\n",
      "  File \"C:\\Users\\Ashwin Dev\\AppData\\Local\\Temp\\ipykernel_23296\\4041063007.py\", line 33, in resample_and_join\n",
      "  File \"C:\\Users\\Ashwin Dev\\anaconda3\\lib\\site-packages\\pandas\\core\\generic.py\", line 5575, in __getattr__\n",
      "    return object.__getattribute__(self, name)\n",
      "AttributeError: 'DataFrame' object has no attribute 'concat'\n"
     ]
    },
    {
     "name": "stdout",
     "output_type": "stream",
     "text": [
      "6 7 "
     ]
    },
    {
     "name": "stderr",
     "output_type": "stream",
     "text": [
      "Exception in thread Thread-2151:\n",
      "Traceback (most recent call last):\n",
      "  File \"C:\\Users\\Ashwin Dev\\anaconda3\\lib\\threading.py\", line 973, in _bootstrap_inner\n",
      "    self.run()\n",
      "  File \"C:\\Users\\Ashwin Dev\\anaconda3\\lib\\threading.py\", line 910, in run\n",
      "    self._target(*self._args, **self._kwargs)\n",
      "  File \"C:\\Users\\Ashwin Dev\\anaconda3\\lib\\site-packages\\socketio\\client.py\", line 615, in _handle_eio_message\n",
      "    self._handle_event(pkt.namespace, pkt.id, pkt.data)\n",
      "  File \"C:\\Users\\Ashwin Dev\\anaconda3\\lib\\site-packages\\socketio\\client.py\", line 501, in _handle_event\n",
      "    r = self._trigger_event(data[0], namespace, *data[1:])\n",
      "  File \"C:\\Users\\Ashwin Dev\\anaconda3\\lib\\site-packages\\socketio\\client.py\", line 547, in _trigger_event\n",
      "    return self.handlers[namespace][event](*args)\n",
      "  File \"C:\\Users\\Ashwin Dev\\anaconda3\\lib\\site-packages\\fxcmpy\\fxcmpy.py\", line 2575, in __on_price_update__\n",
      "    callbacks[func](data, self.prices[symbol])\n",
      "  File \"C:\\Users\\Ashwin Dev\\AppData\\Local\\Temp\\ipykernel_23296\\4041063007.py\", line 30, in get_tick_data\n",
      "Exception in thread Thread-2161:\n",
      "Traceback (most recent call last):\n",
      "  File \"C:\\Users\\Ashwin Dev\\anaconda3\\lib\\threading.py\", line 973, in _bootstrap_inner\n",
      "    self.run()\n",
      "  File \"C:\\Users\\Ashwin Dev\\anaconda3\\lib\\threading.py\", line 910, in run\n",
      "  File \"C:\\Users\\Ashwin Dev\\AppData\\Local\\Temp\\ipykernel_23296\\4041063007.py\", line 33, in resample_and_join\n",
      "  File \"C:\\Users\\Ashwin Dev\\anaconda3\\lib\\site-packages\\pandas\\core\\generic.py\", line 5575, in __getattr__\n",
      "    self._target(*self._args, **self._kwargs)\n",
      "  File \"C:\\Users\\Ashwin Dev\\anaconda3\\lib\\site-packages\\socketio\\client.py\", line 615, in _handle_eio_message\n",
      "    self._handle_event(pkt.namespace, pkt.id, pkt.data)\n",
      "  File \"C:\\Users\\Ashwin Dev\\anaconda3\\lib\\site-packages\\socketio\\client.py\", line 501, in _handle_event\n",
      "    return object.__getattribute__(self, name)\n",
      "AttributeError: 'DataFrame' object has no attribute 'concat'\n",
      "    r = self._trigger_event(data[0], namespace, *data[1:])\n",
      "  File \"C:\\Users\\Ashwin Dev\\anaconda3\\lib\\site-packages\\socketio\\client.py\", line 547, in _trigger_event\n",
      "    return self.handlers[namespace][event](*args)\n",
      "  File \"C:\\Users\\Ashwin Dev\\anaconda3\\lib\\site-packages\\fxcmpy\\fxcmpy.py\", line 2575, in __on_price_update__\n",
      "    callbacks[func](data, self.prices[symbol])\n",
      "  File \"C:\\Users\\Ashwin Dev\\AppData\\Local\\Temp\\ipykernel_23296\\4041063007.py\", line 30, in get_tick_data\n",
      "  File \"C:\\Users\\Ashwin Dev\\AppData\\Local\\Temp\\ipykernel_23296\\4041063007.py\", line 33, in resample_and_join\n",
      "  File \"C:\\Users\\Ashwin Dev\\anaconda3\\lib\\site-packages\\pandas\\core\\generic.py\", line 5575, in __getattr__\n",
      "    return object.__getattribute__(self, name)\n",
      "AttributeError: 'DataFrame' object has no attribute 'concat'\n"
     ]
    },
    {
     "name": "stdout",
     "output_type": "stream",
     "text": [
      "8 9 "
     ]
    },
    {
     "name": "stderr",
     "output_type": "stream",
     "text": [
      "Exception in thread Thread-2173:\n",
      "Traceback (most recent call last):\n",
      "  File \"C:\\Users\\Ashwin Dev\\anaconda3\\lib\\threading.py\", line 973, in _bootstrap_inner\n",
      "    self.run()\n",
      "  File \"C:\\Users\\Ashwin Dev\\anaconda3\\lib\\threading.py\", line 910, in run\n",
      "    self._target(*self._args, **self._kwargs)\n",
      "  File \"C:\\Users\\Ashwin Dev\\anaconda3\\lib\\site-packages\\socketio\\client.py\", line 615, in _handle_eio_message\n",
      "    self._handle_event(pkt.namespace, pkt.id, pkt.data)\n",
      "  File \"C:\\Users\\Ashwin Dev\\anaconda3\\lib\\site-packages\\socketio\\client.py\", line 501, in _handle_event\n",
      "    r = self._trigger_event(data[0], namespace, *data[1:])\n",
      "  File \"C:\\Users\\Ashwin Dev\\anaconda3\\lib\\site-packages\\socketio\\client.py\", line 547, in _trigger_event\n",
      "    return self.handlers[namespace][event](*args)\n",
      "  File \"C:\\Users\\Ashwin Dev\\anaconda3\\lib\\site-packages\\fxcmpy\\fxcmpy.py\", line 2575, in __on_price_update__\n",
      "    callbacks[func](data, self.prices[symbol])\n",
      "  File \"C:\\Users\\Ashwin Dev\\AppData\\Local\\Temp\\ipykernel_23296\\4041063007.py\", line 30, in get_tick_data\n",
      "  File \"C:\\Users\\Ashwin Dev\\AppData\\Local\\Temp\\ipykernel_23296\\4041063007.py\", line 33, in resample_and_join\n",
      "  File \"C:\\Users\\Ashwin Dev\\anaconda3\\lib\\site-packages\\pandas\\core\\generic.py\", line 5575, in __getattr__\n",
      "    return object.__getattribute__(self, name)\n",
      "AttributeError: 'DataFrame' object has no attribute 'concat'\n"
     ]
    },
    {
     "name": "stdout",
     "output_type": "stream",
     "text": [
      "10 "
     ]
    },
    {
     "name": "stderr",
     "output_type": "stream",
     "text": [
      "Exception in thread Thread-2182:\n",
      "Traceback (most recent call last):\n",
      "  File \"C:\\Users\\Ashwin Dev\\anaconda3\\lib\\threading.py\", line 973, in _bootstrap_inner\n",
      "    self.run()\n",
      "  File \"C:\\Users\\Ashwin Dev\\anaconda3\\lib\\threading.py\", line 910, in run\n",
      "    self._target(*self._args, **self._kwargs)\n",
      "  File \"C:\\Users\\Ashwin Dev\\anaconda3\\lib\\site-packages\\socketio\\client.py\", line 615, in _handle_eio_message\n",
      "    self._handle_event(pkt.namespace, pkt.id, pkt.data)\n",
      "  File \"C:\\Users\\Ashwin Dev\\anaconda3\\lib\\site-packages\\socketio\\client.py\", line 501, in _handle_event\n",
      "    r = self._trigger_event(data[0], namespace, *data[1:])\n",
      "  File \"C:\\Users\\Ashwin Dev\\anaconda3\\lib\\site-packages\\socketio\\client.py\", line 547, in _trigger_event\n",
      "    return self.handlers[namespace][event](*args)\n",
      "  File \"C:\\Users\\Ashwin Dev\\anaconda3\\lib\\site-packages\\fxcmpy\\fxcmpy.py\", line 2575, in __on_price_update__\n",
      "    callbacks[func](data, self.prices[symbol])\n",
      "  File \"C:\\Users\\Ashwin Dev\\AppData\\Local\\Temp\\ipykernel_23296\\4041063007.py\", line 30, in get_tick_data\n",
      "  File \"C:\\Users\\Ashwin Dev\\AppData\\Local\\Temp\\ipykernel_23296\\4041063007.py\", line 33, in resample_and_join\n",
      "  File \"C:\\Users\\Ashwin Dev\\anaconda3\\lib\\site-packages\\pandas\\core\\generic.py\", line 5575, in __getattr__\n",
      "    return object.__getattribute__(self, name)\n",
      "AttributeError: 'DataFrame' object has no attribute 'concat'\n",
      "Exception in thread Thread-2212:\n",
      "Traceback (most recent call last):\n",
      "  File \"C:\\Users\\Ashwin Dev\\anaconda3\\lib\\threading.py\", line 973, in _bootstrap_inner\n",
      "    self.run()\n",
      "  File \"C:\\Users\\Ashwin Dev\\anaconda3\\lib\\threading.py\", line 910, in run\n",
      "    self._target(*self._args, **self._kwargs)\n",
      "  File \"C:\\Users\\Ashwin Dev\\anaconda3\\lib\\site-packages\\socketio\\client.py\", line 615, in _handle_eio_message\n",
      "    self._handle_event(pkt.namespace, pkt.id, pkt.data)\n",
      "  File \"C:\\Users\\Ashwin Dev\\anaconda3\\lib\\site-packages\\socketio\\client.py\", line 501, in _handle_event\n",
      "    r = self._trigger_event(data[0], namespace, *data[1:])\n",
      "  File \"C:\\Users\\Ashwin Dev\\anaconda3\\lib\\site-packages\\socketio\\client.py\", line 547, in _trigger_event\n",
      "    return self.handlers[namespace][event](*args)\n",
      "  File \"C:\\Users\\Ashwin Dev\\anaconda3\\lib\\site-packages\\fxcmpy\\fxcmpy.py\", line 2575, in __on_price_update__\n",
      "    callbacks[func](data, self.prices[symbol])\n",
      "  File \"C:\\Users\\Ashwin Dev\\AppData\\Local\\Temp\\ipykernel_23296\\4041063007.py\", line 30, in get_tick_data\n",
      "  File \"C:\\Users\\Ashwin Dev\\AppData\\Local\\Temp\\ipykernel_23296\\4041063007.py\", line 33, in resample_and_join\n",
      "  File \"C:\\Users\\Ashwin Dev\\anaconda3\\lib\\site-packages\\pandas\\core\\generic.py\", line 5575, in __getattr__\n",
      "    return object.__getattribute__(self, name)\n",
      "AttributeError: 'DataFrame' object has no attribute 'concat'\n"
     ]
    },
    {
     "name": "stdout",
     "output_type": "stream",
     "text": [
      "11 12 "
     ]
    },
    {
     "name": "stderr",
     "output_type": "stream",
     "text": [
      "Exception in thread Thread-2223:\n",
      "Traceback (most recent call last):\n",
      "  File \"C:\\Users\\Ashwin Dev\\anaconda3\\lib\\threading.py\", line 973, in _bootstrap_inner\n",
      "    self.run()\n",
      "  File \"C:\\Users\\Ashwin Dev\\anaconda3\\lib\\threading.py\", line 910, in run\n",
      "    self._target(*self._args, **self._kwargs)\n",
      "  File \"C:\\Users\\Ashwin Dev\\anaconda3\\lib\\site-packages\\socketio\\client.py\", line 615, in _handle_eio_message\n",
      "    self._handle_event(pkt.namespace, pkt.id, pkt.data)\n",
      "  File \"C:\\Users\\Ashwin Dev\\anaconda3\\lib\\site-packages\\socketio\\client.py\", line 501, in _handle_event\n",
      "    r = self._trigger_event(data[0], namespace, *data[1:])\n",
      "  File \"C:\\Users\\Ashwin Dev\\anaconda3\\lib\\site-packages\\socketio\\client.py\", line 547, in _trigger_event\n",
      "    return self.handlers[namespace][event](*args)\n",
      "  File \"C:\\Users\\Ashwin Dev\\anaconda3\\lib\\site-packages\\fxcmpy\\fxcmpy.py\", line 2575, in __on_price_update__\n",
      "Exception in thread Thread-2230:\n",
      "Traceback (most recent call last):\n",
      "  File \"C:\\Users\\Ashwin Dev\\anaconda3\\lib\\threading.py\", line 973, in _bootstrap_inner\n",
      "    callbacks[func](data, self.prices[symbol])\n",
      "      File \"C:\\Users\\Ashwin Dev\\AppData\\Local\\Temp\\ipykernel_23296\\4041063007.py\", line 30, in get_tick_data\n",
      "self.run()\n",
      "  File \"C:\\Users\\Ashwin Dev\\anaconda3\\lib\\threading.py\", line 910, in run\n",
      "    self._target(*self._args, **self._kwargs)\n",
      "  File \"C:\\Users\\Ashwin Dev\\anaconda3\\lib\\site-packages\\socketio\\client.py\", line 615, in _handle_eio_message\n",
      "    self._handle_event(pkt.namespace, pkt.id, pkt.data)\n",
      "  File \"C:\\Users\\Ashwin Dev\\anaconda3\\lib\\site-packages\\socketio\\client.py\", line 501, in _handle_event\n",
      "    r = self._trigger_event(data[0], namespace, *data[1:])\n",
      "  File \"C:\\Users\\Ashwin Dev\\anaconda3\\lib\\site-packages\\socketio\\client.py\", line 547, in _trigger_event\n",
      "  File \"C:\\Users\\Ashwin Dev\\AppData\\Local\\Temp\\ipykernel_23296\\4041063007.py\", line 33, in resample_and_join\n",
      "    return self.handlers[namespace][event](*args)\n",
      "  File \"C:\\Users\\Ashwin Dev\\anaconda3\\lib\\site-packages\\fxcmpy\\fxcmpy.py\", line 2575, in __on_price_update__\n",
      "  File \"C:\\Users\\Ashwin Dev\\anaconda3\\lib\\site-packages\\pandas\\core\\generic.py\", line 5575, in __getattr__\n",
      "Exception in thread     Thread-2242:\n",
      "Traceback (most recent call last):\n",
      "  File \"C:\\Users\\Ashwin Dev\\anaconda3\\lib\\threading.py\", line 973, in _bootstrap_inner\n",
      "callbacks[func](data, self.prices[symbol])\n",
      "  File \"C:\\Users\\Ashwin Dev\\AppData\\Local\\Temp\\ipykernel_23296\\4041063007.py\", line 30, in get_tick_data\n",
      "    self.run()  File \"C:\\Users\\Ashwin Dev\\AppData\\Local\\Temp\\ipykernel_23296\\4041063007.py\", line 33, in resample_and_join\n",
      "\n",
      "  File \"C:\\Users\\Ashwin Dev\\anaconda3\\lib\\threading.py\", line 910, in run\n",
      "    self._target(*self._args, **self._kwargs)\n",
      "  File \"C:\\Users\\Ashwin Dev\\anaconda3\\lib\\site-packages\\socketio\\client.py\", line 615, in _handle_eio_message\n",
      "    return object.__getattribute__(self, name)\n",
      "AttributeError: 'DataFrame' object has no attribute 'concat'\n",
      "      File \"C:\\Users\\Ashwin Dev\\anaconda3\\lib\\site-packages\\pandas\\core\\generic.py\", line 5575, in __getattr__\n",
      "self._handle_event(pkt.namespace, pkt.id, pkt.data)\n",
      "  File \"C:\\Users\\Ashwin Dev\\anaconda3\\lib\\site-packages\\socketio\\client.py\", line 501, in _handle_event\n",
      "    return object.__getattribute__(self, name)\n",
      "AttributeError: 'DataFrame' object has no attribute 'concat'\n",
      "    r = self._trigger_event(data[0], namespace, *data[1:])\n",
      "  File \"C:\\Users\\Ashwin Dev\\anaconda3\\lib\\site-packages\\socketio\\client.py\", line 547, in _trigger_event\n",
      "    return self.handlers[namespace][event](*args)\n",
      "  File \"C:\\Users\\Ashwin Dev\\anaconda3\\lib\\site-packages\\fxcmpy\\fxcmpy.py\", line 2575, in __on_price_update__\n",
      "Exception in thread Thread-2254:\n",
      "Traceback (most recent call last):\n",
      "  File \"C:\\Users\\Ashwin Dev\\anaconda3\\lib\\threading.py\", line 973, in _bootstrap_inner\n",
      "        self.run()\n",
      "  File \"C:\\Users\\Ashwin Dev\\anaconda3\\lib\\threading.py\", line 910, in run\n",
      "callbacks[func](data, self.prices[symbol])\n",
      "  File \"C:\\Users\\Ashwin Dev\\AppData\\Local\\Temp\\ipykernel_23296\\4041063007.py\", line 30, in get_tick_data\n",
      "    self._target(*self._args, **self._kwargs)\n",
      "  File \"C:\\Users\\Ashwin Dev\\anaconda3\\lib\\site-packages\\socketio\\client.py\", line 615, in _handle_eio_message\n",
      "  File \"C:\\Users\\Ashwin Dev\\AppData\\Local\\Temp\\ipykernel_23296\\4041063007.py\", line 33, in resample_and_join\n",
      "    self._handle_event(pkt.namespace, pkt.id, pkt.data)\n",
      "  File \"C:\\Users\\Ashwin Dev\\anaconda3\\lib\\site-packages\\socketio\\client.py\", line 501, in _handle_event\n",
      "    r = self._trigger_event(data[0], namespace, *data[1:])\n",
      "  File \"C:\\Users\\Ashwin Dev\\anaconda3\\lib\\site-packages\\socketio\\client.py\", line 547, in _trigger_event\n",
      "  File \"C:\\Users\\Ashwin Dev\\anaconda3\\lib\\site-packages\\pandas\\core\\generic.py\", line 5575, in __getattr__\n",
      "    return self.handlers[namespace][event](*args)\n",
      "  File \"C:\\Users\\Ashwin Dev\\anaconda3\\lib\\site-packages\\fxcmpy\\fxcmpy.py\", line 2575, in __on_price_update__\n",
      "    return object.__getattribute__(self, name)\n",
      "AttributeError: 'DataFrame' object has no attribute 'concat'\n",
      "    callbacks[func](data, self.prices[symbol])\n",
      "  File \"C:\\Users\\Ashwin Dev\\AppData\\Local\\Temp\\ipykernel_23296\\4041063007.py\", line 30, in get_tick_data\n",
      "  File \"C:\\Users\\Ashwin Dev\\AppData\\Local\\Temp\\ipykernel_23296\\4041063007.py\", line 33, in resample_and_join\n",
      "  File \"C:\\Users\\Ashwin Dev\\anaconda3\\lib\\site-packages\\pandas\\core\\generic.py\", line 5575, in __getattr__\n",
      "    return object.__getattribute__(self, name)\n",
      "AttributeError: 'DataFrame' object has no attribute 'concat'\n"
     ]
    },
    {
     "name": "stdout",
     "output_type": "stream",
     "text": [
      "13 14 15 16 "
     ]
    },
    {
     "name": "stderr",
     "output_type": "stream",
     "text": [
      "Exception in thread Thread-2275:\n",
      "Traceback (most recent call last):\n",
      "  File \"C:\\Users\\Ashwin Dev\\anaconda3\\lib\\threading.py\", line 973, in _bootstrap_inner\n",
      "    self.run()\n",
      "  File \"C:\\Users\\Ashwin Dev\\anaconda3\\lib\\threading.py\", line 910, in run\n",
      "    self._target(*self._args, **self._kwargs)\n",
      "  File \"C:\\Users\\Ashwin Dev\\anaconda3\\lib\\site-packages\\socketio\\client.py\", line 615, in _handle_eio_message\n",
      "    self._handle_event(pkt.namespace, pkt.id, pkt.data)\n",
      "  File \"C:\\Users\\Ashwin Dev\\anaconda3\\lib\\site-packages\\socketio\\client.py\", line 501, in _handle_event\n",
      "    r = self._trigger_event(data[0], namespace, *data[1:])\n",
      "  File \"C:\\Users\\Ashwin Dev\\anaconda3\\lib\\site-packages\\socketio\\client.py\", line 547, in _trigger_event\n",
      "    return self.handlers[namespace][event](*args)\n",
      "  File \"C:\\Users\\Ashwin Dev\\anaconda3\\lib\\site-packages\\fxcmpy\\fxcmpy.py\", line 2575, in __on_price_update__\n",
      "    callbacks[func](data, self.prices[symbol])\n",
      "  File \"C:\\Users\\Ashwin Dev\\AppData\\Local\\Temp\\ipykernel_23296\\4041063007.py\", line 30, in get_tick_data\n",
      "  File \"C:\\Users\\Ashwin Dev\\AppData\\Local\\Temp\\ipykernel_23296\\4041063007.py\", line 33, in resample_and_join\n",
      "  File \"C:\\Users\\Ashwin Dev\\anaconda3\\lib\\site-packages\\pandas\\core\\generic.py\", line 5575, in __getattr__\n",
      "    return object.__getattribute__(self, name)\n",
      "AttributeError: 'DataFrame' object has no attribute 'concat'\n"
     ]
    },
    {
     "name": "stdout",
     "output_type": "stream",
     "text": [
      "17 "
     ]
    },
    {
     "name": "stderr",
     "output_type": "stream",
     "text": [
      "Exception in thread Thread-2298:\n",
      "Traceback (most recent call last):\n",
      "  File \"C:\\Users\\Ashwin Dev\\anaconda3\\lib\\threading.py\", line 973, in _bootstrap_inner\n",
      "    self.run()\n",
      "  File \"C:\\Users\\Ashwin Dev\\anaconda3\\lib\\threading.py\", line 910, in run\n",
      "    self._target(*self._args, **self._kwargs)\n",
      "  File \"C:\\Users\\Ashwin Dev\\anaconda3\\lib\\site-packages\\socketio\\client.py\", line 615, in _handle_eio_message\n",
      "    self._handle_event(pkt.namespace, pkt.id, pkt.data)\n",
      "  File \"C:\\Users\\Ashwin Dev\\anaconda3\\lib\\site-packages\\socketio\\client.py\", line 501, in _handle_event\n",
      "    r = self._trigger_event(data[0], namespace, *data[1:])\n",
      "  File \"C:\\Users\\Ashwin Dev\\anaconda3\\lib\\site-packages\\socketio\\client.py\", line 547, in _trigger_event\n",
      "    return self.handlers[namespace][event](*args)\n",
      "  File \"C:\\Users\\Ashwin Dev\\anaconda3\\lib\\site-packages\\fxcmpy\\fxcmpy.py\", line 2575, in __on_price_update__\n",
      "    callbacks[func](data, self.prices[symbol])\n",
      "  File \"C:\\Users\\Ashwin Dev\\AppData\\Local\\Temp\\ipykernel_23296\\4041063007.py\", line 30, in get_tick_data\n",
      "  File \"C:\\Users\\Ashwin Dev\\AppData\\Local\\Temp\\ipykernel_23296\\4041063007.py\", line 33, in resample_and_join\n",
      "  File \"C:\\Users\\Ashwin Dev\\anaconda3\\lib\\site-packages\\pandas\\core\\generic.py\", line 5575, in __getattr__\n",
      "    return object.__getattribute__(self, name)\n",
      "AttributeError: 'DataFrame' object has no attribute 'concat'\n"
     ]
    },
    {
     "name": "stdout",
     "output_type": "stream",
     "text": [
      "18 "
     ]
    },
    {
     "name": "stderr",
     "output_type": "stream",
     "text": [
      "Exception in thread Thread-2307:\n",
      "Traceback (most recent call last):\n",
      "  File \"C:\\Users\\Ashwin Dev\\anaconda3\\lib\\threading.py\", line 973, in _bootstrap_inner\n",
      "    self.run()\n",
      "  File \"C:\\Users\\Ashwin Dev\\anaconda3\\lib\\threading.py\", line 910, in run\n",
      "    self._target(*self._args, **self._kwargs)\n",
      "  File \"C:\\Users\\Ashwin Dev\\anaconda3\\lib\\site-packages\\socketio\\client.py\", line 615, in _handle_eio_message\n",
      "    self._handle_event(pkt.namespace, pkt.id, pkt.data)\n",
      "  File \"C:\\Users\\Ashwin Dev\\anaconda3\\lib\\site-packages\\socketio\\client.py\", line 501, in _handle_event\n",
      "    r = self._trigger_event(data[0], namespace, *data[1:])\n",
      "  File \"C:\\Users\\Ashwin Dev\\anaconda3\\lib\\site-packages\\socketio\\client.py\", line 547, in _trigger_event\n",
      "    return self.handlers[namespace][event](*args)\n",
      "  File \"C:\\Users\\Ashwin Dev\\anaconda3\\lib\\site-packages\\fxcmpy\\fxcmpy.py\", line 2575, in __on_price_update__\n",
      "    callbacks[func](data, self.prices[symbol])\n",
      "  File \"C:\\Users\\Ashwin Dev\\AppData\\Local\\Temp\\ipykernel_23296\\4041063007.py\", line 30, in get_tick_data\n",
      "  File \"C:\\Users\\Ashwin Dev\\AppData\\Local\\Temp\\ipykernel_23296\\4041063007.py\", line 33, in resample_and_join\n",
      "  File \"C:\\Users\\Ashwin Dev\\anaconda3\\lib\\site-packages\\pandas\\core\\generic.py\", line 5575, in __getattr__\n",
      "    return object.__getattribute__(self, name)\n",
      "AttributeError: 'DataFrame' object has no attribute 'concat'\n"
     ]
    },
    {
     "name": "stdout",
     "output_type": "stream",
     "text": [
      "19 "
     ]
    },
    {
     "name": "stderr",
     "output_type": "stream",
     "text": [
      "Exception in thread Thread-2314:\n",
      "Traceback (most recent call last):\n",
      "  File \"C:\\Users\\Ashwin Dev\\anaconda3\\lib\\threading.py\", line 973, in _bootstrap_inner\n",
      "    self.run()\n",
      "  File \"C:\\Users\\Ashwin Dev\\anaconda3\\lib\\threading.py\", line 910, in run\n",
      "    self._target(*self._args, **self._kwargs)\n",
      "  File \"C:\\Users\\Ashwin Dev\\anaconda3\\lib\\site-packages\\socketio\\client.py\", line 615, in _handle_eio_message\n",
      "    self._handle_event(pkt.namespace, pkt.id, pkt.data)\n",
      "  File \"C:\\Users\\Ashwin Dev\\anaconda3\\lib\\site-packages\\socketio\\client.py\", line 501, in _handle_event\n",
      "    r = self._trigger_event(data[0], namespace, *data[1:])\n",
      "  File \"C:\\Users\\Ashwin Dev\\anaconda3\\lib\\site-packages\\socketio\\client.py\", line 547, in _trigger_event\n",
      "    return self.handlers[namespace][event](*args)\n",
      "  File \"C:\\Users\\Ashwin Dev\\anaconda3\\lib\\site-packages\\fxcmpy\\fxcmpy.py\", line 2575, in __on_price_update__\n",
      "    callbacks[func](data, self.prices[symbol])\n",
      "  File \"C:\\Users\\Ashwin Dev\\AppData\\Local\\Temp\\ipykernel_23296\\4041063007.py\", line 30, in get_tick_data\n",
      "  File \"C:\\Users\\Ashwin Dev\\AppData\\Local\\Temp\\ipykernel_23296\\4041063007.py\", line 33, in resample_and_join\n",
      "  File \"C:\\Users\\Ashwin Dev\\anaconda3\\lib\\site-packages\\pandas\\core\\generic.py\", line 5575, in __getattr__\n",
      "    return object.__getattribute__(self, name)\n",
      "AttributeError: 'DataFrame' object has no attribute 'concat'\n"
     ]
    },
    {
     "name": "stdout",
     "output_type": "stream",
     "text": [
      "20 "
     ]
    },
    {
     "name": "stderr",
     "output_type": "stream",
     "text": [
      "Exception in thread Thread-2323:\n",
      "Traceback (most recent call last):\n",
      "  File \"C:\\Users\\Ashwin Dev\\anaconda3\\lib\\threading.py\", line 973, in _bootstrap_inner\n",
      "    self.run()\n",
      "  File \"C:\\Users\\Ashwin Dev\\anaconda3\\lib\\threading.py\", line 910, in run\n",
      "    self._target(*self._args, **self._kwargs)\n",
      "  File \"C:\\Users\\Ashwin Dev\\anaconda3\\lib\\site-packages\\socketio\\client.py\", line 615, in _handle_eio_message\n",
      "    self._handle_event(pkt.namespace, pkt.id, pkt.data)\n",
      "  File \"C:\\Users\\Ashwin Dev\\anaconda3\\lib\\site-packages\\socketio\\client.py\", line 501, in _handle_event\n",
      "    r = self._trigger_event(data[0], namespace, *data[1:])\n",
      "  File \"C:\\Users\\Ashwin Dev\\anaconda3\\lib\\site-packages\\socketio\\client.py\", line 547, in _trigger_event\n",
      "    return self.handlers[namespace][event](*args)\n",
      "  File \"C:\\Users\\Ashwin Dev\\anaconda3\\lib\\site-packages\\fxcmpy\\fxcmpy.py\", line 2575, in __on_price_update__\n",
      "    callbacks[func](data, self.prices[symbol])\n",
      "  File \"C:\\Users\\Ashwin Dev\\AppData\\Local\\Temp\\ipykernel_23296\\4041063007.py\", line 30, in get_tick_data\n",
      "  File \"C:\\Users\\Ashwin Dev\\AppData\\Local\\Temp\\ipykernel_23296\\4041063007.py\", line 33, in resample_and_join\n",
      "  File \"C:\\Users\\Ashwin Dev\\anaconda3\\lib\\site-packages\\pandas\\core\\generic.py\", line 5575, in __getattr__\n",
      "    return object.__getattribute__(self, name)\n",
      "AttributeError: 'DataFrame' object has no attribute 'concat'\n"
     ]
    },
    {
     "name": "stdout",
     "output_type": "stream",
     "text": [
      "21 "
     ]
    },
    {
     "name": "stderr",
     "output_type": "stream",
     "text": [
      "Exception in thread Thread-2335:\n",
      "Traceback (most recent call last):\n",
      "  File \"C:\\Users\\Ashwin Dev\\anaconda3\\lib\\threading.py\", line 973, in _bootstrap_inner\n",
      "    self.run()\n",
      "  File \"C:\\Users\\Ashwin Dev\\anaconda3\\lib\\threading.py\", line 910, in run\n",
      "    self._target(*self._args, **self._kwargs)\n",
      "  File \"C:\\Users\\Ashwin Dev\\anaconda3\\lib\\site-packages\\socketio\\client.py\", line 615, in _handle_eio_message\n",
      "    self._handle_event(pkt.namespace, pkt.id, pkt.data)\n",
      "  File \"C:\\Users\\Ashwin Dev\\anaconda3\\lib\\site-packages\\socketio\\client.py\", line 501, in _handle_event\n",
      "    r = self._trigger_event(data[0], namespace, *data[1:])\n",
      "  File \"C:\\Users\\Ashwin Dev\\anaconda3\\lib\\site-packages\\socketio\\client.py\", line 547, in _trigger_event\n",
      "    return self.handlers[namespace][event](*args)\n",
      "  File \"C:\\Users\\Ashwin Dev\\anaconda3\\lib\\site-packages\\fxcmpy\\fxcmpy.py\", line 2575, in __on_price_update__\n",
      "    callbacks[func](data, self.prices[symbol])\n",
      "  File \"C:\\Users\\Ashwin Dev\\AppData\\Local\\Temp\\ipykernel_23296\\4041063007.py\", line 30, in get_tick_data\n",
      "  File \"C:\\Users\\Ashwin Dev\\AppData\\Local\\Temp\\ipykernel_23296\\4041063007.py\", line 33, in resample_and_join\n",
      "  File \"C:\\Users\\Ashwin Dev\\anaconda3\\lib\\site-packages\\pandas\\core\\generic.py\", line 5575, in __getattr__\n",
      "    return object.__getattribute__(self, name)\n",
      "AttributeError: 'DataFrame' object has no attribute 'concat'\n"
     ]
    },
    {
     "name": "stdout",
     "output_type": "stream",
     "text": [
      "22 "
     ]
    },
    {
     "name": "stderr",
     "output_type": "stream",
     "text": [
      "Exception in thread Thread-2351:\n",
      "Traceback (most recent call last):\n",
      "  File \"C:\\Users\\Ashwin Dev\\anaconda3\\lib\\threading.py\", line 973, in _bootstrap_inner\n",
      "    self.run()\n",
      "  File \"C:\\Users\\Ashwin Dev\\anaconda3\\lib\\threading.py\", line 910, in run\n",
      "    self._target(*self._args, **self._kwargs)\n",
      "  File \"C:\\Users\\Ashwin Dev\\anaconda3\\lib\\site-packages\\socketio\\client.py\", line 615, in _handle_eio_message\n",
      "Exception in thread Thread-2356:\n",
      "Traceback (most recent call last):\n",
      "  File \"C:\\Users\\Ashwin Dev\\anaconda3\\lib\\threading.py\", line 973, in _bootstrap_inner\n",
      "    self._handle_event(pkt.namespace, pkt.id, pkt.data)\n",
      "  File \"C:\\Users\\Ashwin Dev\\anaconda3\\lib\\site-packages\\socketio\\client.py\", line 501, in _handle_event\n",
      "        r = self._trigger_event(data[0], namespace, *data[1:])self.run()\n",
      "  File \"C:\\Users\\Ashwin Dev\\anaconda3\\lib\\threading.py\", line 910, in run\n",
      "\n",
      "  File \"C:\\Users\\Ashwin Dev\\anaconda3\\lib\\site-packages\\socketio\\client.py\", line 547, in _trigger_event\n",
      "    return self.handlers[namespace][event](*args)    \n",
      "  File \"C:\\Users\\Ashwin Dev\\anaconda3\\lib\\site-packages\\fxcmpy\\fxcmpy.py\", line 2575, in __on_price_update__\n",
      "self._target(*self._args, **self._kwargs)\n",
      "  File \"C:\\Users\\Ashwin Dev\\anaconda3\\lib\\site-packages\\socketio\\client.py\", line 615, in _handle_eio_message\n",
      "    self._handle_event(pkt.namespace, pkt.id, pkt.data)\n",
      "  File \"C:\\Users\\Ashwin Dev\\anaconda3\\lib\\site-packages\\socketio\\client.py\", line 501, in _handle_event\n",
      "    r = self._trigger_event(data[0], namespace, *data[1:])    \n",
      "callbacks[func](data, self.prices[symbol])\n",
      "  File \"C:\\Users\\Ashwin Dev\\AppData\\Local\\Temp\\ipykernel_23296\\4041063007.py\", line 30, in get_tick_data\n",
      "  File \"C:\\Users\\Ashwin Dev\\anaconda3\\lib\\site-packages\\socketio\\client.py\", line 547, in _trigger_event\n",
      "    return self.handlers[namespace][event](*args)\n",
      "  File \"C:\\Users\\Ashwin Dev\\anaconda3\\lib\\site-packages\\fxcmpy\\fxcmpy.py\", line 2575, in __on_price_update__\n",
      "  File \"C:\\Users\\Ashwin Dev\\AppData\\Local\\Temp\\ipykernel_23296\\4041063007.py\", line 33, in resample_and_join\n",
      "    callbacks[func](data, self.prices[symbol])\n",
      "  File \"C:\\Users\\Ashwin Dev\\AppData\\Local\\Temp\\ipykernel_23296\\4041063007.py\", line 30, in get_tick_data\n",
      "  File \"C:\\Users\\Ashwin Dev\\anaconda3\\lib\\site-packages\\pandas\\core\\generic.py\", line 5575, in __getattr__\n",
      "  File \"C:\\Users\\Ashwin Dev\\AppData\\Local\\Temp\\ipykernel_23296\\4041063007.py\", line 33, in resample_and_join\n",
      "  File \"C:\\Users\\Ashwin Dev\\anaconda3\\lib\\site-packages\\pandas\\core\\generic.py\", line 5575, in __getattr__\n",
      "    return object.__getattribute__(self, name)\n",
      "AttributeError: 'DataFrame' object has no attribute 'concat'\n",
      "    return object.__getattribute__(self, name)\n",
      "AttributeError: 'DataFrame' object has no attribute 'concat'\n"
     ]
    },
    {
     "name": "stdout",
     "output_type": "stream",
     "text": [
      "23 24 "
     ]
    },
    {
     "name": "stderr",
     "output_type": "stream",
     "text": [
      "Exception in thread Thread-2364:\n",
      "Traceback (most recent call last):\n",
      "  File \"C:\\Users\\Ashwin Dev\\anaconda3\\lib\\threading.py\", line 973, in _bootstrap_inner\n",
      "    self.run()\n",
      "  File \"C:\\Users\\Ashwin Dev\\anaconda3\\lib\\threading.py\", line 910, in run\n",
      "    self._target(*self._args, **self._kwargs)\n",
      "  File \"C:\\Users\\Ashwin Dev\\anaconda3\\lib\\site-packages\\socketio\\client.py\", line 615, in _handle_eio_message\n",
      "    self._handle_event(pkt.namespace, pkt.id, pkt.data)\n",
      "  File \"C:\\Users\\Ashwin Dev\\anaconda3\\lib\\site-packages\\socketio\\client.py\", line 501, in _handle_event\n",
      "    r = self._trigger_event(data[0], namespace, *data[1:])\n",
      "  File \"C:\\Users\\Ashwin Dev\\anaconda3\\lib\\site-packages\\socketio\\client.py\", line 547, in _trigger_event\n",
      "    return self.handlers[namespace][event](*args)\n",
      "  File \"C:\\Users\\Ashwin Dev\\anaconda3\\lib\\site-packages\\fxcmpy\\fxcmpy.py\", line 2575, in __on_price_update__\n",
      "    callbacks[func](data, self.prices[symbol])\n",
      "  File \"C:\\Users\\Ashwin Dev\\AppData\\Local\\Temp\\ipykernel_23296\\4041063007.py\", line 30, in get_tick_data\n",
      "  File \"C:\\Users\\Ashwin Dev\\AppData\\Local\\Temp\\ipykernel_23296\\4041063007.py\", line 33, in resample_and_join\n",
      "  File \"C:\\Users\\Ashwin Dev\\anaconda3\\lib\\site-packages\\pandas\\core\\generic.py\", line 5575, in __getattr__\n",
      "    return object.__getattribute__(self, name)\n",
      "AttributeError: 'DataFrame' object has no attribute 'concat'\n"
     ]
    },
    {
     "name": "stdout",
     "output_type": "stream",
     "text": [
      "25 "
     ]
    },
    {
     "name": "stderr",
     "output_type": "stream",
     "text": [
      "Exception in thread Thread-2373:\n",
      "Traceback (most recent call last):\n",
      "  File \"C:\\Users\\Ashwin Dev\\anaconda3\\lib\\threading.py\", line 973, in _bootstrap_inner\n",
      "    self.run()\n",
      "  File \"C:\\Users\\Ashwin Dev\\anaconda3\\lib\\threading.py\", line 910, in run\n",
      "    self._target(*self._args, **self._kwargs)\n",
      "  File \"C:\\Users\\Ashwin Dev\\anaconda3\\lib\\site-packages\\socketio\\client.py\", line 615, in _handle_eio_message\n",
      "    self._handle_event(pkt.namespace, pkt.id, pkt.data)\n",
      "  File \"C:\\Users\\Ashwin Dev\\anaconda3\\lib\\site-packages\\socketio\\client.py\", line 501, in _handle_event\n",
      "    r = self._trigger_event(data[0], namespace, *data[1:])\n",
      "  File \"C:\\Users\\Ashwin Dev\\anaconda3\\lib\\site-packages\\socketio\\client.py\", line 547, in _trigger_event\n",
      "    return self.handlers[namespace][event](*args)\n",
      "  File \"C:\\Users\\Ashwin Dev\\anaconda3\\lib\\site-packages\\fxcmpy\\fxcmpy.py\", line 2575, in __on_price_update__\n",
      "    callbacks[func](data, self.prices[symbol])\n",
      "  File \"C:\\Users\\Ashwin Dev\\AppData\\Local\\Temp\\ipykernel_23296\\4041063007.py\", line 30, in get_tick_data\n",
      "  File \"C:\\Users\\Ashwin Dev\\AppData\\Local\\Temp\\ipykernel_23296\\4041063007.py\", line 33, in resample_and_join\n",
      "  File \"C:\\Users\\Ashwin Dev\\anaconda3\\lib\\site-packages\\pandas\\core\\generic.py\", line 5575, in __getattr__\n",
      "    return object.__getattribute__(self, name)\n",
      "AttributeError: 'DataFrame' object has no attribute 'concat'\n"
     ]
    },
    {
     "name": "stdout",
     "output_type": "stream",
     "text": [
      "26 "
     ]
    },
    {
     "name": "stderr",
     "output_type": "stream",
     "text": [
      "Exception in thread Thread-2411:\n",
      "Traceback (most recent call last):\n",
      "  File \"C:\\Users\\Ashwin Dev\\anaconda3\\lib\\threading.py\", line 973, in _bootstrap_inner\n",
      "    self.run()\n",
      "  File \"C:\\Users\\Ashwin Dev\\anaconda3\\lib\\threading.py\", line 910, in run\n",
      "    self._target(*self._args, **self._kwargs)\n",
      "  File \"C:\\Users\\Ashwin Dev\\anaconda3\\lib\\site-packages\\socketio\\client.py\", line 615, in _handle_eio_message\n",
      "    self._handle_event(pkt.namespace, pkt.id, pkt.data)\n",
      "  File \"C:\\Users\\Ashwin Dev\\anaconda3\\lib\\site-packages\\socketio\\client.py\", line 501, in _handle_event\n",
      "    r = self._trigger_event(data[0], namespace, *data[1:])\n",
      "  File \"C:\\Users\\Ashwin Dev\\anaconda3\\lib\\site-packages\\socketio\\client.py\", line 547, in _trigger_event\n",
      "    return self.handlers[namespace][event](*args)\n",
      "  File \"C:\\Users\\Ashwin Dev\\anaconda3\\lib\\site-packages\\fxcmpy\\fxcmpy.py\", line 2575, in __on_price_update__\n",
      "    callbacks[func](data, self.prices[symbol])\n",
      "  File \"C:\\Users\\Ashwin Dev\\AppData\\Local\\Temp\\ipykernel_23296\\4041063007.py\", line 30, in get_tick_data\n",
      "  File \"C:\\Users\\Ashwin Dev\\AppData\\Local\\Temp\\ipykernel_23296\\4041063007.py\", line 33, in resample_and_join\n",
      "  File \"C:\\Users\\Ashwin Dev\\anaconda3\\lib\\site-packages\\pandas\\core\\generic.py\", line 5575, in __getattr__\n",
      "    return object.__getattribute__(self, name)\n",
      "AttributeError: 'DataFrame' object has no attribute 'concat'\n"
     ]
    },
    {
     "name": "stdout",
     "output_type": "stream",
     "text": [
      "27 "
     ]
    },
    {
     "name": "stderr",
     "output_type": "stream",
     "text": [
      "Exception in thread Thread-2421:\n",
      "Traceback (most recent call last):\n",
      "  File \"C:\\Users\\Ashwin Dev\\anaconda3\\lib\\threading.py\", line 973, in _bootstrap_inner\n",
      "    self.run()\n",
      "  File \"C:\\Users\\Ashwin Dev\\anaconda3\\lib\\threading.py\", line 910, in run\n",
      "    self._target(*self._args, **self._kwargs)\n",
      "  File \"C:\\Users\\Ashwin Dev\\anaconda3\\lib\\site-packages\\socketio\\client.py\", line 615, in _handle_eio_message\n",
      "    self._handle_event(pkt.namespace, pkt.id, pkt.data)\n",
      "  File \"C:\\Users\\Ashwin Dev\\anaconda3\\lib\\site-packages\\socketio\\client.py\", line 501, in _handle_event\n",
      "    r = self._trigger_event(data[0], namespace, *data[1:])\n",
      "  File \"C:\\Users\\Ashwin Dev\\anaconda3\\lib\\site-packages\\socketio\\client.py\", line 547, in _trigger_event\n",
      "    return self.handlers[namespace][event](*args)\n",
      "  File \"C:\\Users\\Ashwin Dev\\anaconda3\\lib\\site-packages\\fxcmpy\\fxcmpy.py\", line 2575, in __on_price_update__\n",
      "    callbacks[func](data, self.prices[symbol])\n",
      "  File \"C:\\Users\\Ashwin Dev\\AppData\\Local\\Temp\\ipykernel_23296\\4041063007.py\", line 30, in get_tick_data\n",
      "  File \"C:\\Users\\Ashwin Dev\\AppData\\Local\\Temp\\ipykernel_23296\\4041063007.py\", line 33, in resample_and_join\n",
      "  File \"C:\\Users\\Ashwin Dev\\anaconda3\\lib\\site-packages\\pandas\\core\\generic.py\", line 5575, in __getattr__\n",
      "    return object.__getattribute__(self, name)\n",
      "AttributeError: 'DataFrame' object has no attribute 'concat'\n"
     ]
    },
    {
     "name": "stdout",
     "output_type": "stream",
     "text": [
      "28 "
     ]
    },
    {
     "name": "stderr",
     "output_type": "stream",
     "text": [
      "Exception in thread Thread-2432:\n",
      "Traceback (most recent call last):\n",
      "  File \"C:\\Users\\Ashwin Dev\\anaconda3\\lib\\threading.py\", line 973, in _bootstrap_inner\n",
      "    self.run()\n",
      "  File \"C:\\Users\\Ashwin Dev\\anaconda3\\lib\\threading.py\", line 910, in run\n",
      "    self._target(*self._args, **self._kwargs)\n",
      "  File \"C:\\Users\\Ashwin Dev\\anaconda3\\lib\\site-packages\\socketio\\client.py\", line 615, in _handle_eio_message\n",
      "    self._handle_event(pkt.namespace, pkt.id, pkt.data)\n",
      "  File \"C:\\Users\\Ashwin Dev\\anaconda3\\lib\\site-packages\\socketio\\client.py\", line 501, in _handle_event\n",
      "    r = self._trigger_event(data[0], namespace, *data[1:])\n",
      "  File \"C:\\Users\\Ashwin Dev\\anaconda3\\lib\\site-packages\\socketio\\client.py\", line 547, in _trigger_event\n",
      "    return self.handlers[namespace][event](*args)\n",
      "  File \"C:\\Users\\Ashwin Dev\\anaconda3\\lib\\site-packages\\fxcmpy\\fxcmpy.py\", line 2575, in __on_price_update__\n",
      "    callbacks[func](data, self.prices[symbol])\n",
      "  File \"C:\\Users\\Ashwin Dev\\AppData\\Local\\Temp\\ipykernel_23296\\4041063007.py\", line 30, in get_tick_data\n",
      "  File \"C:\\Users\\Ashwin Dev\\AppData\\Local\\Temp\\ipykernel_23296\\4041063007.py\", line 33, in resample_and_join\n",
      "  File \"C:\\Users\\Ashwin Dev\\anaconda3\\lib\\site-packages\\pandas\\core\\generic.py\", line 5575, in __getattr__\n",
      "    return object.__getattribute__(self, name)\n",
      "AttributeError: 'DataFrame' object has no attribute 'concat'\n"
     ]
    },
    {
     "name": "stdout",
     "output_type": "stream",
     "text": [
      "29 "
     ]
    },
    {
     "name": "stderr",
     "output_type": "stream",
     "text": [
      "Exception in thread Thread-2444:\n",
      "Traceback (most recent call last):\n",
      "  File \"C:\\Users\\Ashwin Dev\\anaconda3\\lib\\threading.py\", line 973, in _bootstrap_inner\n",
      "    self.run()\n",
      "  File \"C:\\Users\\Ashwin Dev\\anaconda3\\lib\\threading.py\", line 910, in run\n",
      "    self._target(*self._args, **self._kwargs)\n",
      "  File \"C:\\Users\\Ashwin Dev\\anaconda3\\lib\\site-packages\\socketio\\client.py\", line 615, in _handle_eio_message\n",
      "    self._handle_event(pkt.namespace, pkt.id, pkt.data)\n",
      "  File \"C:\\Users\\Ashwin Dev\\anaconda3\\lib\\site-packages\\socketio\\client.py\", line 501, in _handle_event\n",
      "    r = self._trigger_event(data[0], namespace, *data[1:])\n",
      "  File \"C:\\Users\\Ashwin Dev\\anaconda3\\lib\\site-packages\\socketio\\client.py\", line 547, in _trigger_event\n",
      "    return self.handlers[namespace][event](*args)\n",
      "  File \"C:\\Users\\Ashwin Dev\\anaconda3\\lib\\site-packages\\fxcmpy\\fxcmpy.py\", line 2575, in __on_price_update__\n",
      "    callbacks[func](data, self.prices[symbol])\n",
      "  File \"C:\\Users\\Ashwin Dev\\AppData\\Local\\Temp\\ipykernel_23296\\4041063007.py\", line 30, in get_tick_data\n",
      "  File \"C:\\Users\\Ashwin Dev\\AppData\\Local\\Temp\\ipykernel_23296\\4041063007.py\", line 33, in resample_and_join\n",
      "  File \"C:\\Users\\Ashwin Dev\\anaconda3\\lib\\site-packages\\pandas\\core\\generic.py\", line 5575, in __getattr__\n",
      "    return object.__getattribute__(self, name)\n",
      "AttributeError: 'DataFrame' object has no attribute 'concat'\n"
     ]
    },
    {
     "name": "stdout",
     "output_type": "stream",
     "text": [
      "30 "
     ]
    }
   ],
   "source": [
    "print(datetime.utcnow())\n",
    "trader.get_most_recent(period = \"m1\", number = 10000)\n",
    "api.subscribe_market_data(\"EUR/USD\", (trader.get_tick_data, ))"
   ]
  },
  {
   "cell_type": "code",
   "execution_count": 19,
   "metadata": {},
   "outputs": [
    {
     "name": "stderr",
     "output_type": "stream",
     "text": [
      "Exception in thread Thread-2448:\n",
      "Traceback (most recent call last):\n",
      "  File \"C:\\Users\\Ashwin Dev\\anaconda3\\lib\\threading.py\", line 973, in _bootstrap_inner\n",
      "    self.run()\n",
      "  File \"C:\\Users\\Ashwin Dev\\anaconda3\\lib\\threading.py\", line 910, in run\n",
      "    self._target(*self._args, **self._kwargs)\n",
      "  File \"C:\\Users\\Ashwin Dev\\anaconda3\\lib\\site-packages\\socketio\\client.py\", line 615, in _handle_eio_message\n",
      "    self._handle_event(pkt.namespace, pkt.id, pkt.data)\n",
      "  File \"C:\\Users\\Ashwin Dev\\anaconda3\\lib\\site-packages\\socketio\\client.py\", line 501, in _handle_event\n",
      "    r = self._trigger_event(data[0], namespace, *data[1:])\n",
      "  File \"C:\\Users\\Ashwin Dev\\anaconda3\\lib\\site-packages\\socketio\\client.py\", line 547, in _trigger_event\n",
      "    return self.handlers[namespace][event](*args)\n",
      "  File \"C:\\Users\\Ashwin Dev\\anaconda3\\lib\\site-packages\\fxcmpy\\fxcmpy.py\", line 2575, in __on_price_update__\n",
      "    callbacks[func](data, self.prices[symbol])\n",
      "  File \"C:\\Users\\Ashwin Dev\\AppData\\Local\\Temp\\ipykernel_23296\\4041063007.py\", line 30, in get_tick_data\n",
      "  File \"C:\\Users\\Ashwin Dev\\AppData\\Local\\Temp\\ipykernel_23296\\4041063007.py\", line 33, in resample_and_join\n",
      "  File \"C:\\Users\\Ashwin Dev\\anaconda3\\lib\\site-packages\\pandas\\core\\generic.py\", line 5575, in __getattr__\n",
      "    return object.__getattribute__(self, name)\n",
      "AttributeError: 'DataFrame' object has no attribute 'concat'\n"
     ]
    },
    {
     "name": "stdout",
     "output_type": "stream",
     "text": [
      "31 "
     ]
    },
    {
     "name": "stderr",
     "output_type": "stream",
     "text": [
      "Exception in thread Thread-2462:\n",
      "Traceback (most recent call last):\n",
      "  File \"C:\\Users\\Ashwin Dev\\anaconda3\\lib\\threading.py\", line 973, in _bootstrap_inner\n",
      "    self.run()\n",
      "  File \"C:\\Users\\Ashwin Dev\\anaconda3\\lib\\threading.py\", line 910, in run\n",
      "    self._target(*self._args, **self._kwargs)\n",
      "  File \"C:\\Users\\Ashwin Dev\\anaconda3\\lib\\site-packages\\socketio\\client.py\", line 615, in _handle_eio_message\n",
      "    self._handle_event(pkt.namespace, pkt.id, pkt.data)\n",
      "  File \"C:\\Users\\Ashwin Dev\\anaconda3\\lib\\site-packages\\socketio\\client.py\", line 501, in _handle_event\n",
      "    r = self._trigger_event(data[0], namespace, *data[1:])\n",
      "  File \"C:\\Users\\Ashwin Dev\\anaconda3\\lib\\site-packages\\socketio\\client.py\", line 547, in _trigger_event\n",
      "    return self.handlers[namespace][event](*args)\n",
      "  File \"C:\\Users\\Ashwin Dev\\anaconda3\\lib\\site-packages\\fxcmpy\\fxcmpy.py\", line 2575, in __on_price_update__\n",
      "    callbacks[func](data, self.prices[symbol])\n",
      "Exception in thread Thread-2473:\n",
      "Traceback (most recent call last):\n",
      "  File \"C:\\Users\\Ashwin Dev\\anaconda3\\lib\\threading.py\", line 973, in _bootstrap_inner\n",
      "  File \"C:\\Users\\Ashwin Dev\\AppData\\Local\\Temp\\ipykernel_23296\\4041063007.py\", line 30, in get_tick_data\n",
      "    self.run()\n",
      "  File \"C:\\Users\\Ashwin Dev\\anaconda3\\lib\\threading.py\", line 910, in run\n",
      "    self._target(*self._args, **self._kwargs)\n",
      "  File \"C:\\Users\\Ashwin Dev\\anaconda3\\lib\\site-packages\\socketio\\client.py\", line 615, in _handle_eio_message\n",
      "  File \"C:\\Users\\Ashwin Dev\\AppData\\Local\\Temp\\ipykernel_23296\\4041063007.py\", line 33, in resample_and_join\n",
      "    self._handle_event(pkt.namespace, pkt.id, pkt.data)\n",
      "  File \"C:\\Users\\Ashwin Dev\\anaconda3\\lib\\site-packages\\socketio\\client.py\", line 501, in _handle_event\n",
      "    r = self._trigger_event(data[0], namespace, *data[1:])\n",
      "  File \"C:\\Users\\Ashwin Dev\\anaconda3\\lib\\site-packages\\socketio\\client.py\", line 547, in _trigger_event\n",
      "  File \"C:\\Users\\Ashwin Dev\\anaconda3\\lib\\site-packages\\pandas\\core\\generic.py\", line 5575, in __getattr__\n",
      "    return self.handlers[namespace][event](*args)\n",
      "  File \"C:\\Users\\Ashwin Dev\\anaconda3\\lib\\site-packages\\fxcmpy\\fxcmpy.py\", line 2575, in __on_price_update__\n",
      "    callbacks[func](data, self.prices[symbol])\n",
      "  File \"C:\\Users\\Ashwin Dev\\AppData\\Local\\Temp\\ipykernel_23296\\4041063007.py\", line 30, in get_tick_data\n",
      "    return object.__getattribute__(self, name)\n",
      "AttributeError: 'DataFrame' object has no attribute 'concat'\n",
      "  File \"C:\\Users\\Ashwin Dev\\AppData\\Local\\Temp\\ipykernel_23296\\4041063007.py\", line 33, in resample_and_join\n",
      "  File \"C:\\Users\\Ashwin Dev\\anaconda3\\lib\\site-packages\\pandas\\core\\generic.py\", line 5575, in __getattr__\n",
      "    return object.__getattribute__(self, name)\n",
      "AttributeError: 'DataFrame' object has no attribute 'concat'\n"
     ]
    },
    {
     "name": "stdout",
     "output_type": "stream",
     "text": [
      "32 33 "
     ]
    }
   ],
   "source": [
    "api.unsubscribe_market_data(\"EUR/USD\")"
   ]
  },
  {
   "cell_type": "code",
   "execution_count": 20,
   "metadata": {},
   "outputs": [
    {
     "data": {
      "text/html": [
       "<div>\n",
       "<style scoped>\n",
       "    .dataframe tbody tr th:only-of-type {\n",
       "        vertical-align: middle;\n",
       "    }\n",
       "\n",
       "    .dataframe tbody tr th {\n",
       "        vertical-align: top;\n",
       "    }\n",
       "\n",
       "    .dataframe thead th {\n",
       "        text-align: right;\n",
       "    }\n",
       "</style>\n",
       "<table border=\"1\" class=\"dataframe\">\n",
       "  <thead>\n",
       "    <tr style=\"text-align: right;\">\n",
       "      <th></th>\n",
       "      <th>EUR/USD</th>\n",
       "    </tr>\n",
       "    <tr>\n",
       "      <th>date</th>\n",
       "      <th></th>\n",
       "    </tr>\n",
       "  </thead>\n",
       "  <tbody>\n",
       "    <tr>\n",
       "      <th>2022-08-22 16:51:00</th>\n",
       "      <td>0.993850</td>\n",
       "    </tr>\n",
       "    <tr>\n",
       "      <th>2022-08-22 16:52:00</th>\n",
       "      <td>0.993705</td>\n",
       "    </tr>\n",
       "    <tr>\n",
       "      <th>2022-08-22 16:53:00</th>\n",
       "      <td>0.993695</td>\n",
       "    </tr>\n",
       "    <tr>\n",
       "      <th>2022-08-22 16:54:00</th>\n",
       "      <td>0.993820</td>\n",
       "    </tr>\n",
       "    <tr>\n",
       "      <th>2022-08-22 16:55:00</th>\n",
       "      <td>0.993680</td>\n",
       "    </tr>\n",
       "    <tr>\n",
       "      <th>2022-08-22 16:56:00</th>\n",
       "      <td>0.993510</td>\n",
       "    </tr>\n",
       "    <tr>\n",
       "      <th>2022-08-22 16:57:00</th>\n",
       "      <td>0.993525</td>\n",
       "    </tr>\n",
       "    <tr>\n",
       "      <th>2022-08-22 16:58:00</th>\n",
       "      <td>0.993185</td>\n",
       "    </tr>\n",
       "    <tr>\n",
       "      <th>2022-08-22 16:59:00</th>\n",
       "      <td>0.993175</td>\n",
       "    </tr>\n",
       "    <tr>\n",
       "      <th>2022-08-22 17:00:00</th>\n",
       "      <td>0.993195</td>\n",
       "    </tr>\n",
       "  </tbody>\n",
       "</table>\n",
       "</div>"
      ],
      "text/plain": [
       "                      EUR/USD\n",
       "date                         \n",
       "2022-08-22 16:51:00  0.993850\n",
       "2022-08-22 16:52:00  0.993705\n",
       "2022-08-22 16:53:00  0.993695\n",
       "2022-08-22 16:54:00  0.993820\n",
       "2022-08-22 16:55:00  0.993680\n",
       "2022-08-22 16:56:00  0.993510\n",
       "2022-08-22 16:57:00  0.993525\n",
       "2022-08-22 16:58:00  0.993185\n",
       "2022-08-22 16:59:00  0.993175\n",
       "2022-08-22 17:00:00  0.993195"
      ]
     },
     "execution_count": 20,
     "metadata": {},
     "output_type": "execute_result"
    }
   ],
   "source": [
    "trader.data.tail(10)"
   ]
  },
  {
   "cell_type": "code",
   "execution_count": null,
   "metadata": {},
   "outputs": [],
   "source": [
    "api.close()"
   ]
  },
  {
   "cell_type": "code",
   "execution_count": null,
   "metadata": {},
   "outputs": [],
   "source": []
  },
  {
   "cell_type": "markdown",
   "metadata": {},
   "source": [
    "## Working with historical data and real-time tick data (Part 3)"
   ]
  },
  {
   "cell_type": "code",
   "execution_count": 1,
   "metadata": {},
   "outputs": [],
   "source": [
    "import pandas as pd\n",
    "import fxcmpy\n",
    "from datetime import datetime\n",
    "import time"
   ]
  },
  {
   "cell_type": "code",
   "execution_count": 2,
   "metadata": {},
   "outputs": [],
   "source": [
    "api = fxcmpy.fxcmpy(config_file= \"fxcm.cfg\")"
   ]
  },
  {
   "cell_type": "code",
   "execution_count": 3,
   "metadata": {},
   "outputs": [],
   "source": [
    "class ConTrader():\n",
    "    def __init__(self, instrument, bar_length):\n",
    "        self.instrument = instrument\n",
    "        self.bar_length = pd.to_timedelta(bar_length) \n",
    "        self.tick_data = None\n",
    "        self.data = None \n",
    "        self.ticks = 0\n",
    "        self.last_bar = None  \n",
    "        \n",
    "        self.count = 0 # for demonstration purposes only\n",
    "    \n",
    "    def get_most_recent(self, period = \"m1\", number = 10000):\n",
    "        while True: # repeat until we get all historical bars\n",
    "            self.count += 1 # for demonstration purposes only\n",
    "            time.sleep(5)\n",
    "            df = api.get_candles(self.instrument, number = number, period = period, columns = [\"bidclose\", \"askclose\"])\n",
    "            df[self.instrument] = (df.bidclose + df.askclose) / 2\n",
    "            df = df[self.instrument].to_frame()\n",
    "            df = df.resample(self.bar_length, label = \"right\").last().dropna().iloc[:-1]\n",
    "            self.data = df.copy()\n",
    "            self.last_bar = self.data.index[-1]\n",
    "            # accept, if less than [bar_lenght] has elapsed since the last full historical bar and now\n",
    "            if pd.to_datetime(datetime.utcnow()) - self.last_bar < self.bar_length:\n",
    "                break\n",
    "    \n",
    "    def get_tick_data(self, data, dataframe):\n",
    "        \n",
    "        self.ticks += 1\n",
    "        print(self.ticks, end = \" \")\n",
    "        \n",
    "        recent_tick = pd.to_datetime(data[\"Updated\"], unit = \"ms\")\n",
    "        \n",
    "        # if a time longer than the bar_lenght has elapsed between last full bar and the most recent tick\n",
    "        if recent_tick - self.last_bar > self.bar_length:\n",
    "            self.tick_data = dataframe.loc[self.last_bar:, [\"Bid\", \"Ask\"]]\n",
    "            self.tick_data[self.instrument] = (self.tick_data.Ask + self.tick_data.Bid)/2\n",
    "            self.tick_data = self.tick_data[self.instrument].to_frame()\n",
    "            self.resample_and_join()\n",
    "            \n",
    "    def resample_and_join(self):\n",
    "        self.data = self.data.append(self.tick_data.resample(self.bar_length, \n",
    "                                                             label=\"right\").last().ffill().iloc[:-1])\n",
    "        self.last_bar = self.data.index[-1]  "
   ]
  },
  {
   "cell_type": "code",
   "execution_count": 4,
   "metadata": {},
   "outputs": [],
   "source": [
    "trader = ConTrader(\"EUR/USD\", \"1min\")"
   ]
  },
  {
   "cell_type": "code",
   "execution_count": 5,
   "metadata": {},
   "outputs": [
    {
     "name": "stdout",
     "output_type": "stream",
     "text": [
      "2022-08-22 17:10:58.255923\n",
      "1 2 3 4 5 6 7 8 9 10 11 12 13 14 15 16 17 18 "
     ]
    },
    {
     "name": "stderr",
     "output_type": "stream",
     "text": [
      "Exception in thread Thread-3051:\n",
      "Traceback (most recent call last):\n",
      "  File \"pandas\\_libs\\index.pyx\", line 545, in pandas._libs.index.DatetimeEngine.get_loc\n",
      "  File \"pandas\\_libs\\hashtable_class_helper.pxi\", line 2131, in pandas._libs.hashtable.Int64HashTable.get_item\n",
      "  File \"pandas\\_libs\\hashtable_class_helper.pxi\", line 2140, in pandas._libs.hashtable.Int64HashTable.get_item\n",
      "KeyError: 1661188260000000000\n",
      "\n",
      "During handling of the above exception, another exception occurred:\n",
      "\n",
      "Traceback (most recent call last):\n",
      "  File \"C:\\Users\\Ashwin Dev\\anaconda3\\lib\\site-packages\\pandas\\core\\indexes\\base.py\", line 3621, in get_loc\n",
      "    return self._engine.get_loc(casted_key)\n",
      "  File \"pandas\\_libs\\index.pyx\", line 513, in pandas._libs.index.DatetimeEngine.get_loc\n",
      "  File \"pandas\\_libs\\index.pyx\", line 547, in pandas._libs.index.DatetimeEngine.get_loc\n",
      "KeyError: Timestamp('2022-08-22 17:11:00')\n",
      "\n",
      "The above exception was the direct cause of the following exception:\n",
      "\n",
      "Traceback (most recent call last):\n",
      "  File \"C:\\Users\\Ashwin Dev\\anaconda3\\lib\\site-packages\\pandas\\core\\indexes\\datetimes.py\", line 679, in get_loc\n",
      "    return Index.get_loc(self, key, method, tolerance)\n",
      "  File \"C:\\Users\\Ashwin Dev\\anaconda3\\lib\\site-packages\\pandas\\core\\indexes\\base.py\", line 3623, in get_loc\n",
      "    raise KeyError(key) from err\n",
      "KeyError: Timestamp('2022-08-22 17:11:00')\n",
      "\n",
      "The above exception was the direct cause of the following exception:\n",
      "\n",
      "Traceback (most recent call last):\n",
      "  File \"C:\\Users\\Ashwin Dev\\anaconda3\\lib\\threading.py\", line 973, in _bootstrap_inner\n",
      "    self.run()\n",
      "  File \"C:\\Users\\Ashwin Dev\\anaconda3\\lib\\threading.py\", line 910, in run\n",
      "    self._target(*self._args, **self._kwargs)\n",
      "  File \"C:\\Users\\Ashwin Dev\\anaconda3\\lib\\site-packages\\socketio\\client.py\", line 615, in _handle_eio_message\n",
      "    self._handle_event(pkt.namespace, pkt.id, pkt.data)\n",
      "  File \"C:\\Users\\Ashwin Dev\\anaconda3\\lib\\site-packages\\socketio\\client.py\", line 501, in _handle_event\n",
      "    r = self._trigger_event(data[0], namespace, *data[1:])\n",
      "  File \"C:\\Users\\Ashwin Dev\\anaconda3\\lib\\site-packages\\socketio\\client.py\", line 547, in _trigger_event\n",
      "    return self.handlers[namespace][event](*args)\n",
      "  File \"C:\\Users\\Ashwin Dev\\anaconda3\\lib\\site-packages\\fxcmpy\\fxcmpy.py\", line 2575, in __on_price_update__\n",
      "    callbacks[func](data, self.prices[symbol])\n",
      "  File \"C:\\Users\\Ashwin Dev\\AppData\\Local\\Temp\\ipykernel_1184\\3388473720.py\", line 35, in get_tick_data\n",
      "  File \"C:\\Users\\Ashwin Dev\\anaconda3\\lib\\site-packages\\pandas\\core\\indexing.py\", line 961, in __getitem__\n",
      "    return self._getitem_tuple(key)\n",
      "  File \"C:\\Users\\Ashwin Dev\\anaconda3\\lib\\site-packages\\pandas\\core\\indexing.py\", line 1149, in _getitem_tuple\n",
      "    return self._getitem_tuple_same_dim(tup)\n",
      "  File \"C:\\Users\\Ashwin Dev\\anaconda3\\lib\\site-packages\\pandas\\core\\indexing.py\", line 827, in _getitem_tuple_same_dim\n",
      "    retval = getattr(retval, self.name)._getitem_axis(key, axis=i)\n",
      "  File \"C:\\Users\\Ashwin Dev\\anaconda3\\lib\\site-packages\\pandas\\core\\indexing.py\", line 1180, in _getitem_axis\n",
      "    return self._get_slice_axis(key, axis=axis)\n",
      "  File \"C:\\Users\\Ashwin Dev\\anaconda3\\lib\\site-packages\\pandas\\core\\indexing.py\", line 1214, in _get_slice_axis\n",
      "    indexer = labels.slice_indexer(slice_obj.start, slice_obj.stop, slice_obj.step)\n",
      "  File \"C:\\Users\\Ashwin Dev\\anaconda3\\lib\\site-packages\\pandas\\core\\indexes\\datetimes.py\", line 743, in slice_indexer\n",
      "    return Index.slice_indexer(self, start, end, step, kind=kind)\n",
      "  File \"C:\\Users\\Ashwin Dev\\anaconda3\\lib\\site-packages\\pandas\\core\\indexes\\base.py\", line 6274, in slice_indexer\n",
      "    start_slice, end_slice = self.slice_locs(start, end, step=step)\n",
      "  File \"C:\\Users\\Ashwin Dev\\anaconda3\\lib\\site-packages\\pandas\\core\\indexes\\base.py\", line 6484, in slice_locs\n",
      "    start_slice = self.get_slice_bound(start, \"left\")\n",
      "  File \"C:\\Users\\Ashwin Dev\\anaconda3\\lib\\site-packages\\pandas\\core\\indexes\\datetimes.py\", line 778, in get_slice_bound\n",
      "    return super().get_slice_bound(label, side=side, kind=kind)\n",
      "  File \"C:\\Users\\Ashwin Dev\\anaconda3\\lib\\site-packages\\pandas\\core\\indexes\\base.py\", line 6403, in get_slice_bound\n",
      "    raise err\n",
      "  File \"C:\\Users\\Ashwin Dev\\anaconda3\\lib\\site-packages\\pandas\\core\\indexes\\base.py\", line 6397, in get_slice_bound\n",
      "    slc = self.get_loc(label)\n",
      "  File \"C:\\Users\\Ashwin Dev\\anaconda3\\lib\\site-packages\\pandas\\core\\indexes\\datetimes.py\", line 681, in get_loc\n",
      "    raise KeyError(orig_key) from err\n",
      "KeyError: Timestamp('2022-08-22 17:11:00')\n"
     ]
    },
    {
     "name": "stdout",
     "output_type": "stream",
     "text": [
      "19 "
     ]
    },
    {
     "name": "stderr",
     "output_type": "stream",
     "text": [
      "Exception in thread Thread-3061:\n",
      "Traceback (most recent call last):\n",
      "  File \"pandas\\_libs\\index.pyx\", line 545, in pandas._libs.index.DatetimeEngine.get_loc\n",
      "  File \"pandas\\_libs\\hashtable_class_helper.pxi\", line 2131, in pandas._libs.hashtable.Int64HashTable.get_item\n",
      "  File \"pandas\\_libs\\hashtable_class_helper.pxi\", line 2140, in pandas._libs.hashtable.Int64HashTable.get_item\n",
      "KeyError: 1661188260000000000\n",
      "\n",
      "During handling of the above exception, another exception occurred:\n",
      "\n",
      "Traceback (most recent call last):\n",
      "  File \"C:\\Users\\Ashwin Dev\\anaconda3\\lib\\site-packages\\pandas\\core\\indexes\\base.py\", line 3621, in get_loc\n",
      "    return self._engine.get_loc(casted_key)\n",
      "  File \"pandas\\_libs\\index.pyx\", line 513, in pandas._libs.index.DatetimeEngine.get_loc\n",
      "  File \"pandas\\_libs\\index.pyx\", line 547, in pandas._libs.index.DatetimeEngine.get_loc\n",
      "KeyError: Timestamp('2022-08-22 17:11:00')\n",
      "\n",
      "The above exception was the direct cause of the following exception:\n",
      "\n",
      "Traceback (most recent call last):\n",
      "  File \"C:\\Users\\Ashwin Dev\\anaconda3\\lib\\site-packages\\pandas\\core\\indexes\\datetimes.py\", line 679, in get_loc\n",
      "    return Index.get_loc(self, key, method, tolerance)\n",
      "  File \"C:\\Users\\Ashwin Dev\\anaconda3\\lib\\site-packages\\pandas\\core\\indexes\\base.py\", line 3623, in get_loc\n",
      "    raise KeyError(key) from err\n",
      "KeyError: Timestamp('2022-08-22 17:11:00')\n",
      "\n",
      "The above exception was the direct cause of the following exception:\n",
      "\n",
      "Traceback (most recent call last):\n",
      "  File \"C:\\Users\\Ashwin Dev\\anaconda3\\lib\\threading.py\", line 973, in _bootstrap_inner\n",
      "    self.run()\n",
      "  File \"C:\\Users\\Ashwin Dev\\anaconda3\\lib\\threading.py\", line 910, in run\n",
      "    self._target(*self._args, **self._kwargs)\n",
      "  File \"C:\\Users\\Ashwin Dev\\anaconda3\\lib\\site-packages\\socketio\\client.py\", line 615, in _handle_eio_message\n",
      "    self._handle_event(pkt.namespace, pkt.id, pkt.data)\n",
      "  File \"C:\\Users\\Ashwin Dev\\anaconda3\\lib\\site-packages\\socketio\\client.py\", line 501, in _handle_event\n",
      "    r = self._trigger_event(data[0], namespace, *data[1:])\n",
      "  File \"C:\\Users\\Ashwin Dev\\anaconda3\\lib\\site-packages\\socketio\\client.py\", line 547, in _trigger_event\n",
      "    return self.handlers[namespace][event](*args)\n",
      "  File \"C:\\Users\\Ashwin Dev\\anaconda3\\lib\\site-packages\\fxcmpy\\fxcmpy.py\", line 2575, in __on_price_update__\n",
      "    callbacks[func](data, self.prices[symbol])\n",
      "  File \"C:\\Users\\Ashwin Dev\\AppData\\Local\\Temp\\ipykernel_1184\\3388473720.py\", line 35, in get_tick_data\n",
      "  File \"C:\\Users\\Ashwin Dev\\anaconda3\\lib\\site-packages\\pandas\\core\\indexing.py\", line 961, in __getitem__\n",
      "    return self._getitem_tuple(key)\n",
      "  File \"C:\\Users\\Ashwin Dev\\anaconda3\\lib\\site-packages\\pandas\\core\\indexing.py\", line 1149, in _getitem_tuple\n",
      "    return self._getitem_tuple_same_dim(tup)\n",
      "  File \"C:\\Users\\Ashwin Dev\\anaconda3\\lib\\site-packages\\pandas\\core\\indexing.py\", line 827, in _getitem_tuple_same_dim\n",
      "    retval = getattr(retval, self.name)._getitem_axis(key, axis=i)\n",
      "  File \"C:\\Users\\Ashwin Dev\\anaconda3\\lib\\site-packages\\pandas\\core\\indexing.py\", line 1180, in _getitem_axis\n",
      "    return self._get_slice_axis(key, axis=axis)\n",
      "  File \"C:\\Users\\Ashwin Dev\\anaconda3\\lib\\site-packages\\pandas\\core\\indexing.py\", line 1214, in _get_slice_axis\n",
      "    indexer = labels.slice_indexer(slice_obj.start, slice_obj.stop, slice_obj.step)\n",
      "  File \"C:\\Users\\Ashwin Dev\\anaconda3\\lib\\site-packages\\pandas\\core\\indexes\\datetimes.py\", line 743, in slice_indexer\n",
      "    return Index.slice_indexer(self, start, end, step, kind=kind)\n",
      "  File \"C:\\Users\\Ashwin Dev\\anaconda3\\lib\\site-packages\\pandas\\core\\indexes\\base.py\", line 6274, in slice_indexer\n",
      "    start_slice, end_slice = self.slice_locs(start, end, step=step)\n",
      "  File \"C:\\Users\\Ashwin Dev\\anaconda3\\lib\\site-packages\\pandas\\core\\indexes\\base.py\", line 6484, in slice_locs\n",
      "    start_slice = self.get_slice_bound(start, \"left\")\n",
      "  File \"C:\\Users\\Ashwin Dev\\anaconda3\\lib\\site-packages\\pandas\\core\\indexes\\datetimes.py\", line 778, in get_slice_bound\n",
      "    return super().get_slice_bound(label, side=side, kind=kind)\n",
      "  File \"C:\\Users\\Ashwin Dev\\anaconda3\\lib\\site-packages\\pandas\\core\\indexes\\base.py\", line 6403, in get_slice_bound\n",
      "    raise err\n",
      "  File \"C:\\Users\\Ashwin Dev\\anaconda3\\lib\\site-packages\\pandas\\core\\indexes\\base.py\", line 6397, in get_slice_bound\n",
      "    slc = self.get_loc(label)\n",
      "  File \"C:\\Users\\Ashwin Dev\\anaconda3\\lib\\site-packages\\pandas\\core\\indexes\\datetimes.py\", line 681, in get_loc\n",
      "    raise KeyError(orig_key) from err\n",
      "KeyError: Timestamp('2022-08-22 17:11:00')\n"
     ]
    },
    {
     "name": "stdout",
     "output_type": "stream",
     "text": [
      "20 "
     ]
    },
    {
     "name": "stderr",
     "output_type": "stream",
     "text": [
      "Exception in thread Thread-3074:\n",
      "Traceback (most recent call last):\n",
      "  File \"pandas\\_libs\\index.pyx\", line 545, in pandas._libs.index.DatetimeEngine.get_loc\n",
      "  File \"pandas\\_libs\\hashtable_class_helper.pxi\", line 2131, in pandas._libs.hashtable.Int64HashTable.get_item\n",
      "  File \"pandas\\_libs\\hashtable_class_helper.pxi\", line 2140, in pandas._libs.hashtable.Int64HashTable.get_item\n",
      "KeyError: 1661188260000000000\n",
      "\n",
      "During handling of the above exception, another exception occurred:\n",
      "\n",
      "Traceback (most recent call last):\n",
      "  File \"C:\\Users\\Ashwin Dev\\anaconda3\\lib\\site-packages\\pandas\\core\\indexes\\base.py\", line 3621, in get_loc\n",
      "    return self._engine.get_loc(casted_key)\n",
      "  File \"pandas\\_libs\\index.pyx\", line 513, in pandas._libs.index.DatetimeEngine.get_loc\n",
      "  File \"pandas\\_libs\\index.pyx\", line 547, in pandas._libs.index.DatetimeEngine.get_loc\n",
      "KeyError: Timestamp('2022-08-22 17:11:00')\n",
      "\n",
      "The above exception was the direct cause of the following exception:\n",
      "\n",
      "Traceback (most recent call last):\n",
      "  File \"C:\\Users\\Ashwin Dev\\anaconda3\\lib\\site-packages\\pandas\\core\\indexes\\datetimes.py\", line 679, in get_loc\n",
      "    return Index.get_loc(self, key, method, tolerance)\n",
      "  File \"C:\\Users\\Ashwin Dev\\anaconda3\\lib\\site-packages\\pandas\\core\\indexes\\base.py\", line 3623, in get_loc\n",
      "    raise KeyError(key) from err\n",
      "KeyError: Timestamp('2022-08-22 17:11:00')\n",
      "\n",
      "The above exception was the direct cause of the following exception:\n",
      "\n",
      "Traceback (most recent call last):\n",
      "  File \"C:\\Users\\Ashwin Dev\\anaconda3\\lib\\threading.py\", line 973, in _bootstrap_inner\n",
      "    self.run()\n",
      "  File \"C:\\Users\\Ashwin Dev\\anaconda3\\lib\\threading.py\", line 910, in run\n",
      "    self._target(*self._args, **self._kwargs)\n",
      "  File \"C:\\Users\\Ashwin Dev\\anaconda3\\lib\\site-packages\\socketio\\client.py\", line 615, in _handle_eio_message\n",
      "    self._handle_event(pkt.namespace, pkt.id, pkt.data)\n",
      "  File \"C:\\Users\\Ashwin Dev\\anaconda3\\lib\\site-packages\\socketio\\client.py\", line 501, in _handle_event\n",
      "    r = self._trigger_event(data[0], namespace, *data[1:])\n",
      "  File \"C:\\Users\\Ashwin Dev\\anaconda3\\lib\\site-packages\\socketio\\client.py\", line 547, in _trigger_event\n",
      "    return self.handlers[namespace][event](*args)\n",
      "  File \"C:\\Users\\Ashwin Dev\\anaconda3\\lib\\site-packages\\fxcmpy\\fxcmpy.py\", line 2575, in __on_price_update__\n",
      "    callbacks[func](data, self.prices[symbol])\n",
      "  File \"C:\\Users\\Ashwin Dev\\AppData\\Local\\Temp\\ipykernel_1184\\3388473720.py\", line 35, in get_tick_data\n",
      "  File \"C:\\Users\\Ashwin Dev\\anaconda3\\lib\\site-packages\\pandas\\core\\indexing.py\", line 961, in __getitem__\n",
      "    return self._getitem_tuple(key)\n",
      "  File \"C:\\Users\\Ashwin Dev\\anaconda3\\lib\\site-packages\\pandas\\core\\indexing.py\", line 1149, in _getitem_tuple\n",
      "    return self._getitem_tuple_same_dim(tup)\n",
      "  File \"C:\\Users\\Ashwin Dev\\anaconda3\\lib\\site-packages\\pandas\\core\\indexing.py\", line 827, in _getitem_tuple_same_dim\n",
      "    retval = getattr(retval, self.name)._getitem_axis(key, axis=i)\n",
      "  File \"C:\\Users\\Ashwin Dev\\anaconda3\\lib\\site-packages\\pandas\\core\\indexing.py\", line 1180, in _getitem_axis\n",
      "    return self._get_slice_axis(key, axis=axis)\n",
      "  File \"C:\\Users\\Ashwin Dev\\anaconda3\\lib\\site-packages\\pandas\\core\\indexing.py\", line 1214, in _get_slice_axis\n",
      "    indexer = labels.slice_indexer(slice_obj.start, slice_obj.stop, slice_obj.step)\n",
      "  File \"C:\\Users\\Ashwin Dev\\anaconda3\\lib\\site-packages\\pandas\\core\\indexes\\datetimes.py\", line 743, in slice_indexer\n",
      "    return Index.slice_indexer(self, start, end, step, kind=kind)\n",
      "  File \"C:\\Users\\Ashwin Dev\\anaconda3\\lib\\site-packages\\pandas\\core\\indexes\\base.py\", line 6274, in slice_indexer\n",
      "    start_slice, end_slice = self.slice_locs(start, end, step=step)\n",
      "  File \"C:\\Users\\Ashwin Dev\\anaconda3\\lib\\site-packages\\pandas\\core\\indexes\\base.py\", line 6484, in slice_locs\n",
      "    start_slice = self.get_slice_bound(start, \"left\")\n",
      "  File \"C:\\Users\\Ashwin Dev\\anaconda3\\lib\\site-packages\\pandas\\core\\indexes\\datetimes.py\", line 778, in get_slice_bound\n",
      "    return super().get_slice_bound(label, side=side, kind=kind)\n",
      "  File \"C:\\Users\\Ashwin Dev\\anaconda3\\lib\\site-packages\\pandas\\core\\indexes\\base.py\", line 6403, in get_slice_bound\n",
      "    raise err\n",
      "  File \"C:\\Users\\Ashwin Dev\\anaconda3\\lib\\site-packages\\pandas\\core\\indexes\\base.py\", line 6397, in get_slice_bound\n",
      "    slc = self.get_loc(label)\n",
      "  File \"C:\\Users\\Ashwin Dev\\anaconda3\\lib\\site-packages\\pandas\\core\\indexes\\datetimes.py\", line 681, in get_loc\n",
      "    raise KeyError(orig_key) from err\n",
      "KeyError: Timestamp('2022-08-22 17:11:00')\n"
     ]
    },
    {
     "name": "stdout",
     "output_type": "stream",
     "text": [
      "21 "
     ]
    },
    {
     "name": "stderr",
     "output_type": "stream",
     "text": [
      "Exception in thread Thread-3084:\n",
      "Traceback (most recent call last):\n",
      "  File \"pandas\\_libs\\index.pyx\", line 545, in pandas._libs.index.DatetimeEngine.get_loc\n",
      "  File \"pandas\\_libs\\hashtable_class_helper.pxi\", line 2131, in pandas._libs.hashtable.Int64HashTable.get_item\n",
      "  File \"pandas\\_libs\\hashtable_class_helper.pxi\", line 2140, in pandas._libs.hashtable.Int64HashTable.get_item\n",
      "KeyError: 1661188260000000000\n",
      "\n",
      "During handling of the above exception, another exception occurred:\n",
      "\n",
      "Traceback (most recent call last):\n",
      "  File \"C:\\Users\\Ashwin Dev\\anaconda3\\lib\\site-packages\\pandas\\core\\indexes\\base.py\", line 3621, in get_loc\n",
      "    return self._engine.get_loc(casted_key)\n",
      "  File \"pandas\\_libs\\index.pyx\", line 513, in pandas._libs.index.DatetimeEngine.get_loc\n",
      "  File \"pandas\\_libs\\index.pyx\", line 547, in pandas._libs.index.DatetimeEngine.get_loc\n",
      "KeyError: Timestamp('2022-08-22 17:11:00')\n",
      "\n",
      "The above exception was the direct cause of the following exception:\n",
      "\n",
      "Traceback (most recent call last):\n",
      "  File \"C:\\Users\\Ashwin Dev\\anaconda3\\lib\\site-packages\\pandas\\core\\indexes\\datetimes.py\", line 679, in get_loc\n",
      "    return Index.get_loc(self, key, method, tolerance)\n",
      "  File \"C:\\Users\\Ashwin Dev\\anaconda3\\lib\\site-packages\\pandas\\core\\indexes\\base.py\", line 3623, in get_loc\n",
      "    raise KeyError(key) from err\n",
      "KeyError: Timestamp('2022-08-22 17:11:00')\n",
      "\n",
      "The above exception was the direct cause of the following exception:\n",
      "\n",
      "Traceback (most recent call last):\n",
      "  File \"C:\\Users\\Ashwin Dev\\anaconda3\\lib\\threading.py\", line 973, in _bootstrap_inner\n",
      "    self.run()\n",
      "  File \"C:\\Users\\Ashwin Dev\\anaconda3\\lib\\threading.py\", line 910, in run\n",
      "    self._target(*self._args, **self._kwargs)\n",
      "  File \"C:\\Users\\Ashwin Dev\\anaconda3\\lib\\site-packages\\socketio\\client.py\", line 615, in _handle_eio_message\n",
      "    self._handle_event(pkt.namespace, pkt.id, pkt.data)\n",
      "  File \"C:\\Users\\Ashwin Dev\\anaconda3\\lib\\site-packages\\socketio\\client.py\", line 501, in _handle_event\n",
      "    r = self._trigger_event(data[0], namespace, *data[1:])\n",
      "  File \"C:\\Users\\Ashwin Dev\\anaconda3\\lib\\site-packages\\socketio\\client.py\", line 547, in _trigger_event\n",
      "    return self.handlers[namespace][event](*args)\n",
      "  File \"C:\\Users\\Ashwin Dev\\anaconda3\\lib\\site-packages\\fxcmpy\\fxcmpy.py\", line 2575, in __on_price_update__\n",
      "    callbacks[func](data, self.prices[symbol])\n",
      "  File \"C:\\Users\\Ashwin Dev\\AppData\\Local\\Temp\\ipykernel_1184\\3388473720.py\", line 35, in get_tick_data\n",
      "  File \"C:\\Users\\Ashwin Dev\\anaconda3\\lib\\site-packages\\pandas\\core\\indexing.py\", line 961, in __getitem__\n",
      "    return self._getitem_tuple(key)\n",
      "  File \"C:\\Users\\Ashwin Dev\\anaconda3\\lib\\site-packages\\pandas\\core\\indexing.py\", line 1149, in _getitem_tuple\n",
      "    return self._getitem_tuple_same_dim(tup)\n",
      "  File \"C:\\Users\\Ashwin Dev\\anaconda3\\lib\\site-packages\\pandas\\core\\indexing.py\", line 827, in _getitem_tuple_same_dim\n",
      "    retval = getattr(retval, self.name)._getitem_axis(key, axis=i)\n",
      "  File \"C:\\Users\\Ashwin Dev\\anaconda3\\lib\\site-packages\\pandas\\core\\indexing.py\", line 1180, in _getitem_axis\n",
      "    return self._get_slice_axis(key, axis=axis)\n",
      "  File \"C:\\Users\\Ashwin Dev\\anaconda3\\lib\\site-packages\\pandas\\core\\indexing.py\", line 1214, in _get_slice_axis\n",
      "    indexer = labels.slice_indexer(slice_obj.start, slice_obj.stop, slice_obj.step)\n",
      "  File \"C:\\Users\\Ashwin Dev\\anaconda3\\lib\\site-packages\\pandas\\core\\indexes\\datetimes.py\", line 743, in slice_indexer\n",
      "    return Index.slice_indexer(self, start, end, step, kind=kind)\n",
      "  File \"C:\\Users\\Ashwin Dev\\anaconda3\\lib\\site-packages\\pandas\\core\\indexes\\base.py\", line 6274, in slice_indexer\n",
      "    start_slice, end_slice = self.slice_locs(start, end, step=step)\n",
      "  File \"C:\\Users\\Ashwin Dev\\anaconda3\\lib\\site-packages\\pandas\\core\\indexes\\base.py\", line 6484, in slice_locs\n",
      "    start_slice = self.get_slice_bound(start, \"left\")\n",
      "  File \"C:\\Users\\Ashwin Dev\\anaconda3\\lib\\site-packages\\pandas\\core\\indexes\\datetimes.py\", line 778, in get_slice_bound\n",
      "    return super().get_slice_bound(label, side=side, kind=kind)\n",
      "  File \"C:\\Users\\Ashwin Dev\\anaconda3\\lib\\site-packages\\pandas\\core\\indexes\\base.py\", line 6403, in get_slice_bound\n",
      "    raise err\n",
      "  File \"C:\\Users\\Ashwin Dev\\anaconda3\\lib\\site-packages\\pandas\\core\\indexes\\base.py\", line 6397, in get_slice_bound\n",
      "    slc = self.get_loc(label)\n",
      "  File \"C:\\Users\\Ashwin Dev\\anaconda3\\lib\\site-packages\\pandas\\core\\indexes\\datetimes.py\", line 681, in get_loc\n",
      "    raise KeyError(orig_key) from err\n",
      "KeyError: Timestamp('2022-08-22 17:11:00')\n"
     ]
    },
    {
     "name": "stdout",
     "output_type": "stream",
     "text": [
      "22 "
     ]
    },
    {
     "name": "stderr",
     "output_type": "stream",
     "text": [
      "Exception in thread Thread-3095:\n",
      "Traceback (most recent call last):\n",
      "  File \"pandas\\_libs\\index.pyx\", line 545, in pandas._libs.index.DatetimeEngine.get_loc\n",
      "  File \"pandas\\_libs\\hashtable_class_helper.pxi\", line 2131, in pandas._libs.hashtable.Int64HashTable.get_item\n",
      "  File \"pandas\\_libs\\hashtable_class_helper.pxi\", line 2140, in pandas._libs.hashtable.Int64HashTable.get_item\n",
      "KeyError: 1661188260000000000\n",
      "\n",
      "During handling of the above exception, another exception occurred:\n",
      "\n",
      "Traceback (most recent call last):\n",
      "  File \"C:\\Users\\Ashwin Dev\\anaconda3\\lib\\site-packages\\pandas\\core\\indexes\\base.py\", line 3621, in get_loc\n",
      "    return self._engine.get_loc(casted_key)\n",
      "  File \"pandas\\_libs\\index.pyx\", line 513, in pandas._libs.index.DatetimeEngine.get_loc\n",
      "  File \"pandas\\_libs\\index.pyx\", line 547, in pandas._libs.index.DatetimeEngine.get_loc\n",
      "KeyError: Timestamp('2022-08-22 17:11:00')\n",
      "\n",
      "The above exception was the direct cause of the following exception:\n",
      "\n",
      "Traceback (most recent call last):\n",
      "  File \"C:\\Users\\Ashwin Dev\\anaconda3\\lib\\site-packages\\pandas\\core\\indexes\\datetimes.py\", line 679, in get_loc\n",
      "    return Index.get_loc(self, key, method, tolerance)\n",
      "  File \"C:\\Users\\Ashwin Dev\\anaconda3\\lib\\site-packages\\pandas\\core\\indexes\\base.py\", line 3623, in get_loc\n",
      "    raise KeyError(key) from err\n",
      "KeyError: Timestamp('2022-08-22 17:11:00')\n",
      "\n",
      "The above exception was the direct cause of the following exception:\n",
      "\n",
      "Traceback (most recent call last):\n",
      "  File \"C:\\Users\\Ashwin Dev\\anaconda3\\lib\\threading.py\", line 973, in _bootstrap_inner\n",
      "    self.run()\n",
      "  File \"C:\\Users\\Ashwin Dev\\anaconda3\\lib\\threading.py\", line 910, in run\n",
      "    self._target(*self._args, **self._kwargs)\n",
      "  File \"C:\\Users\\Ashwin Dev\\anaconda3\\lib\\site-packages\\socketio\\client.py\", line 615, in _handle_eio_message\n",
      "    self._handle_event(pkt.namespace, pkt.id, pkt.data)\n",
      "  File \"C:\\Users\\Ashwin Dev\\anaconda3\\lib\\site-packages\\socketio\\client.py\", line 501, in _handle_event\n",
      "    r = self._trigger_event(data[0], namespace, *data[1:])\n",
      "  File \"C:\\Users\\Ashwin Dev\\anaconda3\\lib\\site-packages\\socketio\\client.py\", line 547, in _trigger_event\n",
      "    return self.handlers[namespace][event](*args)\n",
      "  File \"C:\\Users\\Ashwin Dev\\anaconda3\\lib\\site-packages\\fxcmpy\\fxcmpy.py\", line 2575, in __on_price_update__\n",
      "    callbacks[func](data, self.prices[symbol])\n",
      "  File \"C:\\Users\\Ashwin Dev\\AppData\\Local\\Temp\\ipykernel_1184\\3388473720.py\", line 35, in get_tick_data\n",
      "  File \"C:\\Users\\Ashwin Dev\\anaconda3\\lib\\site-packages\\pandas\\core\\indexing.py\", line 961, in __getitem__\n",
      "    return self._getitem_tuple(key)\n",
      "  File \"C:\\Users\\Ashwin Dev\\anaconda3\\lib\\site-packages\\pandas\\core\\indexing.py\", line 1149, in _getitem_tuple\n",
      "    return self._getitem_tuple_same_dim(tup)\n",
      "  File \"C:\\Users\\Ashwin Dev\\anaconda3\\lib\\site-packages\\pandas\\core\\indexing.py\", line 827, in _getitem_tuple_same_dim\n",
      "    retval = getattr(retval, self.name)._getitem_axis(key, axis=i)\n",
      "  File \"C:\\Users\\Ashwin Dev\\anaconda3\\lib\\site-packages\\pandas\\core\\indexing.py\", line 1180, in _getitem_axis\n",
      "    return self._get_slice_axis(key, axis=axis)\n",
      "  File \"C:\\Users\\Ashwin Dev\\anaconda3\\lib\\site-packages\\pandas\\core\\indexing.py\", line 1214, in _get_slice_axis\n",
      "    indexer = labels.slice_indexer(slice_obj.start, slice_obj.stop, slice_obj.step)\n",
      "  File \"C:\\Users\\Ashwin Dev\\anaconda3\\lib\\site-packages\\pandas\\core\\indexes\\datetimes.py\", line 743, in slice_indexer\n",
      "    return Index.slice_indexer(self, start, end, step, kind=kind)\n",
      "  File \"C:\\Users\\Ashwin Dev\\anaconda3\\lib\\site-packages\\pandas\\core\\indexes\\base.py\", line 6274, in slice_indexer\n",
      "    start_slice, end_slice = self.slice_locs(start, end, step=step)\n",
      "  File \"C:\\Users\\Ashwin Dev\\anaconda3\\lib\\site-packages\\pandas\\core\\indexes\\base.py\", line 6484, in slice_locs\n",
      "    start_slice = self.get_slice_bound(start, \"left\")\n",
      "  File \"C:\\Users\\Ashwin Dev\\anaconda3\\lib\\site-packages\\pandas\\core\\indexes\\datetimes.py\", line 778, in get_slice_bound\n",
      "    return super().get_slice_bound(label, side=side, kind=kind)\n",
      "  File \"C:\\Users\\Ashwin Dev\\anaconda3\\lib\\site-packages\\pandas\\core\\indexes\\base.py\", line 6403, in get_slice_bound\n",
      "    raise err\n",
      "  File \"C:\\Users\\Ashwin Dev\\anaconda3\\lib\\site-packages\\pandas\\core\\indexes\\base.py\", line 6397, in get_slice_bound\n",
      "    slc = self.get_loc(label)\n",
      "  File \"C:\\Users\\Ashwin Dev\\anaconda3\\lib\\site-packages\\pandas\\core\\indexes\\datetimes.py\", line 681, in get_loc\n",
      "    raise KeyError(orig_key) from err\n",
      "KeyError: Timestamp('2022-08-22 17:11:00')\n"
     ]
    },
    {
     "name": "stdout",
     "output_type": "stream",
     "text": [
      "23 "
     ]
    },
    {
     "name": "stderr",
     "output_type": "stream",
     "text": [
      "Exception in thread Thread-3111:\n",
      "Traceback (most recent call last):\n",
      "  File \"pandas\\_libs\\index.pyx\", line 545, in pandas._libs.index.DatetimeEngine.get_loc\n",
      "  File \"pandas\\_libs\\hashtable_class_helper.pxi\", line 2131, in pandas._libs.hashtable.Int64HashTable.get_item\n",
      "  File \"pandas\\_libs\\hashtable_class_helper.pxi\", line 2140, in pandas._libs.hashtable.Int64HashTable.get_item\n",
      "KeyError: 1661188260000000000\n",
      "\n",
      "During handling of the above exception, another exception occurred:\n",
      "\n",
      "Traceback (most recent call last):\n",
      "  File \"C:\\Users\\Ashwin Dev\\anaconda3\\lib\\site-packages\\pandas\\core\\indexes\\base.py\", line 3621, in get_loc\n",
      "    return self._engine.get_loc(casted_key)\n",
      "  File \"pandas\\_libs\\index.pyx\", line 513, in pandas._libs.index.DatetimeEngine.get_loc\n",
      "  File \"pandas\\_libs\\index.pyx\", line 547, in pandas._libs.index.DatetimeEngine.get_loc\n",
      "KeyError: Timestamp('2022-08-22 17:11:00')\n",
      "\n",
      "The above exception was the direct cause of the following exception:\n",
      "\n",
      "Traceback (most recent call last):\n",
      "  File \"C:\\Users\\Ashwin Dev\\anaconda3\\lib\\site-packages\\pandas\\core\\indexes\\datetimes.py\", line 679, in get_loc\n",
      "    return Index.get_loc(self, key, method, tolerance)\n",
      "  File \"C:\\Users\\Ashwin Dev\\anaconda3\\lib\\site-packages\\pandas\\core\\indexes\\base.py\", line 3623, in get_loc\n",
      "    raise KeyError(key) from err\n",
      "KeyError: Timestamp('2022-08-22 17:11:00')\n",
      "\n",
      "The above exception was the direct cause of the following exception:\n",
      "\n",
      "Traceback (most recent call last):\n",
      "  File \"C:\\Users\\Ashwin Dev\\anaconda3\\lib\\threading.py\", line 973, in _bootstrap_inner\n",
      "    self.run()\n",
      "  File \"C:\\Users\\Ashwin Dev\\anaconda3\\lib\\threading.py\", line 910, in run\n",
      "    self._target(*self._args, **self._kwargs)\n",
      "  File \"C:\\Users\\Ashwin Dev\\anaconda3\\lib\\site-packages\\socketio\\client.py\", line 615, in _handle_eio_message\n",
      "    self._handle_event(pkt.namespace, pkt.id, pkt.data)\n",
      "  File \"C:\\Users\\Ashwin Dev\\anaconda3\\lib\\site-packages\\socketio\\client.py\", line 501, in _handle_event\n",
      "    r = self._trigger_event(data[0], namespace, *data[1:])\n",
      "  File \"C:\\Users\\Ashwin Dev\\anaconda3\\lib\\site-packages\\socketio\\client.py\", line 547, in _trigger_event\n",
      "    return self.handlers[namespace][event](*args)\n",
      "  File \"C:\\Users\\Ashwin Dev\\anaconda3\\lib\\site-packages\\fxcmpy\\fxcmpy.py\", line 2575, in __on_price_update__\n",
      "    callbacks[func](data, self.prices[symbol])\n",
      "  File \"C:\\Users\\Ashwin Dev\\AppData\\Local\\Temp\\ipykernel_1184\\3388473720.py\", line 35, in get_tick_data\n",
      "  File \"C:\\Users\\Ashwin Dev\\anaconda3\\lib\\site-packages\\pandas\\core\\indexing.py\", line 961, in __getitem__\n",
      "    return self._getitem_tuple(key)\n",
      "  File \"C:\\Users\\Ashwin Dev\\anaconda3\\lib\\site-packages\\pandas\\core\\indexing.py\", line 1149, in _getitem_tuple\n",
      "    return self._getitem_tuple_same_dim(tup)\n",
      "  File \"C:\\Users\\Ashwin Dev\\anaconda3\\lib\\site-packages\\pandas\\core\\indexing.py\", line 827, in _getitem_tuple_same_dim\n",
      "    retval = getattr(retval, self.name)._getitem_axis(key, axis=i)\n",
      "  File \"C:\\Users\\Ashwin Dev\\anaconda3\\lib\\site-packages\\pandas\\core\\indexing.py\", line 1180, in _getitem_axis\n",
      "    return self._get_slice_axis(key, axis=axis)\n",
      "  File \"C:\\Users\\Ashwin Dev\\anaconda3\\lib\\site-packages\\pandas\\core\\indexing.py\", line 1214, in _get_slice_axis\n",
      "    indexer = labels.slice_indexer(slice_obj.start, slice_obj.stop, slice_obj.step)\n",
      "  File \"C:\\Users\\Ashwin Dev\\anaconda3\\lib\\site-packages\\pandas\\core\\indexes\\datetimes.py\", line 743, in slice_indexer\n",
      "    return Index.slice_indexer(self, start, end, step, kind=kind)\n",
      "  File \"C:\\Users\\Ashwin Dev\\anaconda3\\lib\\site-packages\\pandas\\core\\indexes\\base.py\", line 6274, in slice_indexer\n",
      "    start_slice, end_slice = self.slice_locs(start, end, step=step)\n",
      "  File \"C:\\Users\\Ashwin Dev\\anaconda3\\lib\\site-packages\\pandas\\core\\indexes\\base.py\", line 6484, in slice_locs\n",
      "    start_slice = self.get_slice_bound(start, \"left\")\n",
      "  File \"C:\\Users\\Ashwin Dev\\anaconda3\\lib\\site-packages\\pandas\\core\\indexes\\datetimes.py\", line 778, in get_slice_bound\n",
      "    return super().get_slice_bound(label, side=side, kind=kind)\n",
      "  File \"C:\\Users\\Ashwin Dev\\anaconda3\\lib\\site-packages\\pandas\\core\\indexes\\base.py\", line 6403, in get_slice_bound\n",
      "    raise err\n",
      "  File \"C:\\Users\\Ashwin Dev\\anaconda3\\lib\\site-packages\\pandas\\core\\indexes\\base.py\", line 6397, in get_slice_bound\n",
      "    slc = self.get_loc(label)\n",
      "  File \"C:\\Users\\Ashwin Dev\\anaconda3\\lib\\site-packages\\pandas\\core\\indexes\\datetimes.py\", line 681, in get_loc\n",
      "    raise KeyError(orig_key) from err\n",
      "KeyError: Timestamp('2022-08-22 17:11:00')\n"
     ]
    },
    {
     "name": "stdout",
     "output_type": "stream",
     "text": [
      "24 "
     ]
    },
    {
     "name": "stderr",
     "output_type": "stream",
     "text": [
      "Exception in thread Thread-3127:\n",
      "Traceback (most recent call last):\n",
      "  File \"pandas\\_libs\\index.pyx\", line 545, in pandas._libs.index.DatetimeEngine.get_loc\n",
      "  File \"pandas\\_libs\\hashtable_class_helper.pxi\", line 2131, in pandas._libs.hashtable.Int64HashTable.get_item\n",
      "  File \"pandas\\_libs\\hashtable_class_helper.pxi\", line 2140, in pandas._libs.hashtable.Int64HashTable.get_item\n",
      "KeyError: 1661188260000000000\n",
      "\n",
      "During handling of the above exception, another exception occurred:\n",
      "\n",
      "Traceback (most recent call last):\n",
      "  File \"C:\\Users\\Ashwin Dev\\anaconda3\\lib\\site-packages\\pandas\\core\\indexes\\base.py\", line 3621, in get_loc\n",
      "    return self._engine.get_loc(casted_key)\n",
      "  File \"pandas\\_libs\\index.pyx\", line 513, in pandas._libs.index.DatetimeEngine.get_loc\n",
      "  File \"pandas\\_libs\\index.pyx\", line 547, in pandas._libs.index.DatetimeEngine.get_loc\n",
      "KeyError: Timestamp('2022-08-22 17:11:00')\n",
      "\n",
      "The above exception was the direct cause of the following exception:\n",
      "\n",
      "Traceback (most recent call last):\n",
      "  File \"C:\\Users\\Ashwin Dev\\anaconda3\\lib\\site-packages\\pandas\\core\\indexes\\datetimes.py\", line 679, in get_loc\n",
      "    return Index.get_loc(self, key, method, tolerance)\n",
      "  File \"C:\\Users\\Ashwin Dev\\anaconda3\\lib\\site-packages\\pandas\\core\\indexes\\base.py\", line 3623, in get_loc\n",
      "    raise KeyError(key) from err\n",
      "KeyError: Timestamp('2022-08-22 17:11:00')\n",
      "\n",
      "The above exception was the direct cause of the following exception:\n",
      "\n",
      "Traceback (most recent call last):\n",
      "  File \"C:\\Users\\Ashwin Dev\\anaconda3\\lib\\threading.py\", line 973, in _bootstrap_inner\n",
      "    self.run()\n",
      "  File \"C:\\Users\\Ashwin Dev\\anaconda3\\lib\\threading.py\", line 910, in run\n",
      "    self._target(*self._args, **self._kwargs)\n",
      "  File \"C:\\Users\\Ashwin Dev\\anaconda3\\lib\\site-packages\\socketio\\client.py\", line 615, in _handle_eio_message\n",
      "    self._handle_event(pkt.namespace, pkt.id, pkt.data)\n",
      "  File \"C:\\Users\\Ashwin Dev\\anaconda3\\lib\\site-packages\\socketio\\client.py\", line 501, in _handle_event\n",
      "    r = self._trigger_event(data[0], namespace, *data[1:])\n",
      "  File \"C:\\Users\\Ashwin Dev\\anaconda3\\lib\\site-packages\\socketio\\client.py\", line 547, in _trigger_event\n",
      "    return self.handlers[namespace][event](*args)\n",
      "  File \"C:\\Users\\Ashwin Dev\\anaconda3\\lib\\site-packages\\fxcmpy\\fxcmpy.py\", line 2575, in __on_price_update__\n",
      "    callbacks[func](data, self.prices[symbol])\n",
      "  File \"C:\\Users\\Ashwin Dev\\AppData\\Local\\Temp\\ipykernel_1184\\3388473720.py\", line 35, in get_tick_data\n",
      "  File \"C:\\Users\\Ashwin Dev\\anaconda3\\lib\\site-packages\\pandas\\core\\indexing.py\", line 961, in __getitem__\n",
      "    return self._getitem_tuple(key)\n",
      "  File \"C:\\Users\\Ashwin Dev\\anaconda3\\lib\\site-packages\\pandas\\core\\indexing.py\", line 1149, in _getitem_tuple\n",
      "    return self._getitem_tuple_same_dim(tup)\n",
      "  File \"C:\\Users\\Ashwin Dev\\anaconda3\\lib\\site-packages\\pandas\\core\\indexing.py\", line 827, in _getitem_tuple_same_dim\n",
      "    retval = getattr(retval, self.name)._getitem_axis(key, axis=i)\n",
      "  File \"C:\\Users\\Ashwin Dev\\anaconda3\\lib\\site-packages\\pandas\\core\\indexing.py\", line 1180, in _getitem_axis\n",
      "    return self._get_slice_axis(key, axis=axis)\n",
      "  File \"C:\\Users\\Ashwin Dev\\anaconda3\\lib\\site-packages\\pandas\\core\\indexing.py\", line 1214, in _get_slice_axis\n",
      "    indexer = labels.slice_indexer(slice_obj.start, slice_obj.stop, slice_obj.step)\n",
      "  File \"C:\\Users\\Ashwin Dev\\anaconda3\\lib\\site-packages\\pandas\\core\\indexes\\datetimes.py\", line 743, in slice_indexer\n",
      "    return Index.slice_indexer(self, start, end, step, kind=kind)\n",
      "  File \"C:\\Users\\Ashwin Dev\\anaconda3\\lib\\site-packages\\pandas\\core\\indexes\\base.py\", line 6274, in slice_indexer\n",
      "    start_slice, end_slice = self.slice_locs(start, end, step=step)\n",
      "  File \"C:\\Users\\Ashwin Dev\\anaconda3\\lib\\site-packages\\pandas\\core\\indexes\\base.py\", line 6484, in slice_locs\n",
      "    start_slice = self.get_slice_bound(start, \"left\")\n",
      "  File \"C:\\Users\\Ashwin Dev\\anaconda3\\lib\\site-packages\\pandas\\core\\indexes\\datetimes.py\", line 778, in get_slice_bound\n",
      "    return super().get_slice_bound(label, side=side, kind=kind)\n",
      "  File \"C:\\Users\\Ashwin Dev\\anaconda3\\lib\\site-packages\\pandas\\core\\indexes\\base.py\", line 6403, in get_slice_bound\n",
      "    raise err\n",
      "  File \"C:\\Users\\Ashwin Dev\\anaconda3\\lib\\site-packages\\pandas\\core\\indexes\\base.py\", line 6397, in get_slice_bound\n",
      "    slc = self.get_loc(label)\n",
      "  File \"C:\\Users\\Ashwin Dev\\anaconda3\\lib\\site-packages\\pandas\\core\\indexes\\datetimes.py\", line 681, in get_loc\n",
      "    raise KeyError(orig_key) from err\n",
      "KeyError: Timestamp('2022-08-22 17:11:00')\n"
     ]
    },
    {
     "name": "stdout",
     "output_type": "stream",
     "text": [
      "25 "
     ]
    },
    {
     "name": "stderr",
     "output_type": "stream",
     "text": [
      "Exception in thread Thread-3134:\n",
      "Traceback (most recent call last):\n",
      "  File \"pandas\\_libs\\index.pyx\", line 545, in pandas._libs.index.DatetimeEngine.get_loc\n",
      "  File \"pandas\\_libs\\hashtable_class_helper.pxi\", line 2131, in pandas._libs.hashtable.Int64HashTable.get_item\n",
      "  File \"pandas\\_libs\\hashtable_class_helper.pxi\", line 2140, in pandas._libs.hashtable.Int64HashTable.get_item\n",
      "KeyError: 1661188260000000000\n",
      "\n",
      "During handling of the above exception, another exception occurred:\n",
      "\n",
      "Traceback (most recent call last):\n",
      "  File \"C:\\Users\\Ashwin Dev\\anaconda3\\lib\\site-packages\\pandas\\core\\indexes\\base.py\", line 3621, in get_loc\n",
      "    return self._engine.get_loc(casted_key)\n",
      "  File \"pandas\\_libs\\index.pyx\", line 513, in pandas._libs.index.DatetimeEngine.get_loc\n",
      "  File \"pandas\\_libs\\index.pyx\", line 547, in pandas._libs.index.DatetimeEngine.get_loc\n",
      "KeyError: Timestamp('2022-08-22 17:11:00')\n",
      "\n",
      "The above exception was the direct cause of the following exception:\n",
      "\n",
      "Traceback (most recent call last):\n",
      "  File \"C:\\Users\\Ashwin Dev\\anaconda3\\lib\\site-packages\\pandas\\core\\indexes\\datetimes.py\", line 679, in get_loc\n",
      "    return Index.get_loc(self, key, method, tolerance)\n",
      "  File \"C:\\Users\\Ashwin Dev\\anaconda3\\lib\\site-packages\\pandas\\core\\indexes\\base.py\", line 3623, in get_loc\n",
      "    raise KeyError(key) from err\n",
      "KeyError: Timestamp('2022-08-22 17:11:00')\n",
      "\n",
      "The above exception was the direct cause of the following exception:\n",
      "\n",
      "Traceback (most recent call last):\n",
      "  File \"C:\\Users\\Ashwin Dev\\anaconda3\\lib\\threading.py\", line 973, in _bootstrap_inner\n",
      "    self.run()\n",
      "  File \"C:\\Users\\Ashwin Dev\\anaconda3\\lib\\threading.py\", line 910, in run\n",
      "    self._target(*self._args, **self._kwargs)\n",
      "  File \"C:\\Users\\Ashwin Dev\\anaconda3\\lib\\site-packages\\socketio\\client.py\", line 615, in _handle_eio_message\n",
      "    self._handle_event(pkt.namespace, pkt.id, pkt.data)\n",
      "  File \"C:\\Users\\Ashwin Dev\\anaconda3\\lib\\site-packages\\socketio\\client.py\", line 501, in _handle_event\n",
      "    r = self._trigger_event(data[0], namespace, *data[1:])\n",
      "  File \"C:\\Users\\Ashwin Dev\\anaconda3\\lib\\site-packages\\socketio\\client.py\", line 547, in _trigger_event\n",
      "    return self.handlers[namespace][event](*args)\n",
      "  File \"C:\\Users\\Ashwin Dev\\anaconda3\\lib\\site-packages\\fxcmpy\\fxcmpy.py\", line 2575, in __on_price_update__\n",
      "    callbacks[func](data, self.prices[symbol])\n",
      "  File \"C:\\Users\\Ashwin Dev\\AppData\\Local\\Temp\\ipykernel_1184\\3388473720.py\", line 35, in get_tick_data\n",
      "  File \"C:\\Users\\Ashwin Dev\\anaconda3\\lib\\site-packages\\pandas\\core\\indexing.py\", line 961, in __getitem__\n",
      "    return self._getitem_tuple(key)\n",
      "  File \"C:\\Users\\Ashwin Dev\\anaconda3\\lib\\site-packages\\pandas\\core\\indexing.py\", line 1149, in _getitem_tuple\n",
      "    return self._getitem_tuple_same_dim(tup)\n",
      "  File \"C:\\Users\\Ashwin Dev\\anaconda3\\lib\\site-packages\\pandas\\core\\indexing.py\", line 827, in _getitem_tuple_same_dim\n",
      "    retval = getattr(retval, self.name)._getitem_axis(key, axis=i)\n",
      "  File \"C:\\Users\\Ashwin Dev\\anaconda3\\lib\\site-packages\\pandas\\core\\indexing.py\", line 1180, in _getitem_axis\n",
      "    return self._get_slice_axis(key, axis=axis)\n",
      "  File \"C:\\Users\\Ashwin Dev\\anaconda3\\lib\\site-packages\\pandas\\core\\indexing.py\", line 1214, in _get_slice_axis\n",
      "    indexer = labels.slice_indexer(slice_obj.start, slice_obj.stop, slice_obj.step)\n",
      "  File \"C:\\Users\\Ashwin Dev\\anaconda3\\lib\\site-packages\\pandas\\core\\indexes\\datetimes.py\", line 743, in slice_indexer\n",
      "    return Index.slice_indexer(self, start, end, step, kind=kind)\n",
      "  File \"C:\\Users\\Ashwin Dev\\anaconda3\\lib\\site-packages\\pandas\\core\\indexes\\base.py\", line 6274, in slice_indexer\n",
      "    start_slice, end_slice = self.slice_locs(start, end, step=step)\n",
      "  File \"C:\\Users\\Ashwin Dev\\anaconda3\\lib\\site-packages\\pandas\\core\\indexes\\base.py\", line 6484, in slice_locs\n",
      "    start_slice = self.get_slice_bound(start, \"left\")\n",
      "  File \"C:\\Users\\Ashwin Dev\\anaconda3\\lib\\site-packages\\pandas\\core\\indexes\\datetimes.py\", line 778, in get_slice_bound\n",
      "    return super().get_slice_bound(label, side=side, kind=kind)\n",
      "  File \"C:\\Users\\Ashwin Dev\\anaconda3\\lib\\site-packages\\pandas\\core\\indexes\\base.py\", line 6403, in get_slice_bound\n",
      "    raise err\n",
      "  File \"C:\\Users\\Ashwin Dev\\anaconda3\\lib\\site-packages\\pandas\\core\\indexes\\base.py\", line 6397, in get_slice_bound\n",
      "    slc = self.get_loc(label)\n",
      "  File \"C:\\Users\\Ashwin Dev\\anaconda3\\lib\\site-packages\\pandas\\core\\indexes\\datetimes.py\", line 681, in get_loc\n",
      "    raise KeyError(orig_key) from err\n",
      "KeyError: Timestamp('2022-08-22 17:11:00')\n"
     ]
    },
    {
     "name": "stdout",
     "output_type": "stream",
     "text": [
      "26 "
     ]
    },
    {
     "name": "stderr",
     "output_type": "stream",
     "text": [
      "Exception in thread Thread-3143:\n",
      "Traceback (most recent call last):\n",
      "  File \"pandas\\_libs\\index.pyx\", line 545, in pandas._libs.index.DatetimeEngine.get_loc\n",
      "  File \"pandas\\_libs\\hashtable_class_helper.pxi\", line 2131, in pandas._libs.hashtable.Int64HashTable.get_item\n",
      "  File \"pandas\\_libs\\hashtable_class_helper.pxi\", line 2140, in pandas._libs.hashtable.Int64HashTable.get_item\n",
      "KeyError: 1661188260000000000\n",
      "\n",
      "During handling of the above exception, another exception occurred:\n",
      "\n",
      "Traceback (most recent call last):\n",
      "  File \"C:\\Users\\Ashwin Dev\\anaconda3\\lib\\site-packages\\pandas\\core\\indexes\\base.py\", line 3621, in get_loc\n",
      "    return self._engine.get_loc(casted_key)\n",
      "  File \"pandas\\_libs\\index.pyx\", line 513, in pandas._libs.index.DatetimeEngine.get_loc\n",
      "  File \"pandas\\_libs\\index.pyx\", line 547, in pandas._libs.index.DatetimeEngine.get_loc\n",
      "KeyError: Timestamp('2022-08-22 17:11:00')\n",
      "\n",
      "The above exception was the direct cause of the following exception:\n",
      "\n",
      "Traceback (most recent call last):\n",
      "  File \"C:\\Users\\Ashwin Dev\\anaconda3\\lib\\site-packages\\pandas\\core\\indexes\\datetimes.py\", line 679, in get_loc\n",
      "    return Index.get_loc(self, key, method, tolerance)\n",
      "  File \"C:\\Users\\Ashwin Dev\\anaconda3\\lib\\site-packages\\pandas\\core\\indexes\\base.py\", line 3623, in get_loc\n",
      "    raise KeyError(key) from err\n",
      "KeyError: Timestamp('2022-08-22 17:11:00')\n",
      "\n",
      "The above exception was the direct cause of the following exception:\n",
      "\n",
      "Traceback (most recent call last):\n",
      "  File \"C:\\Users\\Ashwin Dev\\anaconda3\\lib\\threading.py\", line 973, in _bootstrap_inner\n",
      "    self.run()\n",
      "  File \"C:\\Users\\Ashwin Dev\\anaconda3\\lib\\threading.py\", line 910, in run\n",
      "    self._target(*self._args, **self._kwargs)\n",
      "  File \"C:\\Users\\Ashwin Dev\\anaconda3\\lib\\site-packages\\socketio\\client.py\", line 615, in _handle_eio_message\n",
      "    self._handle_event(pkt.namespace, pkt.id, pkt.data)\n",
      "  File \"C:\\Users\\Ashwin Dev\\anaconda3\\lib\\site-packages\\socketio\\client.py\", line 501, in _handle_event\n",
      "    r = self._trigger_event(data[0], namespace, *data[1:])\n",
      "  File \"C:\\Users\\Ashwin Dev\\anaconda3\\lib\\site-packages\\socketio\\client.py\", line 547, in _trigger_event\n",
      "    return self.handlers[namespace][event](*args)\n",
      "  File \"C:\\Users\\Ashwin Dev\\anaconda3\\lib\\site-packages\\fxcmpy\\fxcmpy.py\", line 2575, in __on_price_update__\n",
      "    callbacks[func](data, self.prices[symbol])\n",
      "  File \"C:\\Users\\Ashwin Dev\\AppData\\Local\\Temp\\ipykernel_1184\\3388473720.py\", line 35, in get_tick_data\n",
      "  File \"C:\\Users\\Ashwin Dev\\anaconda3\\lib\\site-packages\\pandas\\core\\indexing.py\", line 961, in __getitem__\n",
      "    return self._getitem_tuple(key)\n",
      "  File \"C:\\Users\\Ashwin Dev\\anaconda3\\lib\\site-packages\\pandas\\core\\indexing.py\", line 1149, in _getitem_tuple\n",
      "    return self._getitem_tuple_same_dim(tup)\n",
      "  File \"C:\\Users\\Ashwin Dev\\anaconda3\\lib\\site-packages\\pandas\\core\\indexing.py\", line 827, in _getitem_tuple_same_dim\n",
      "    retval = getattr(retval, self.name)._getitem_axis(key, axis=i)\n",
      "  File \"C:\\Users\\Ashwin Dev\\anaconda3\\lib\\site-packages\\pandas\\core\\indexing.py\", line 1180, in _getitem_axis\n",
      "    return self._get_slice_axis(key, axis=axis)\n",
      "  File \"C:\\Users\\Ashwin Dev\\anaconda3\\lib\\site-packages\\pandas\\core\\indexing.py\", line 1214, in _get_slice_axis\n",
      "    indexer = labels.slice_indexer(slice_obj.start, slice_obj.stop, slice_obj.step)\n",
      "  File \"C:\\Users\\Ashwin Dev\\anaconda3\\lib\\site-packages\\pandas\\core\\indexes\\datetimes.py\", line 743, in slice_indexer\n",
      "    return Index.slice_indexer(self, start, end, step, kind=kind)\n",
      "  File \"C:\\Users\\Ashwin Dev\\anaconda3\\lib\\site-packages\\pandas\\core\\indexes\\base.py\", line 6274, in slice_indexer\n",
      "    start_slice, end_slice = self.slice_locs(start, end, step=step)\n",
      "  File \"C:\\Users\\Ashwin Dev\\anaconda3\\lib\\site-packages\\pandas\\core\\indexes\\base.py\", line 6484, in slice_locs\n",
      "    start_slice = self.get_slice_bound(start, \"left\")\n",
      "  File \"C:\\Users\\Ashwin Dev\\anaconda3\\lib\\site-packages\\pandas\\core\\indexes\\datetimes.py\", line 778, in get_slice_bound\n",
      "    return super().get_slice_bound(label, side=side, kind=kind)\n",
      "  File \"C:\\Users\\Ashwin Dev\\anaconda3\\lib\\site-packages\\pandas\\core\\indexes\\base.py\", line 6403, in get_slice_bound\n",
      "    raise err\n",
      "  File \"C:\\Users\\Ashwin Dev\\anaconda3\\lib\\site-packages\\pandas\\core\\indexes\\base.py\", line 6397, in get_slice_bound\n",
      "    slc = self.get_loc(label)\n",
      "  File \"C:\\Users\\Ashwin Dev\\anaconda3\\lib\\site-packages\\pandas\\core\\indexes\\datetimes.py\", line 681, in get_loc\n",
      "    raise KeyError(orig_key) from err\n",
      "KeyError: Timestamp('2022-08-22 17:11:00')\n"
     ]
    },
    {
     "name": "stdout",
     "output_type": "stream",
     "text": [
      "27 "
     ]
    },
    {
     "name": "stderr",
     "output_type": "stream",
     "text": [
      "Exception in thread Thread-3166:\n",
      "Traceback (most recent call last):\n",
      "  File \"pandas\\_libs\\index.pyx\", line 545, in pandas._libs.index.DatetimeEngine.get_loc\n",
      "  File \"pandas\\_libs\\hashtable_class_helper.pxi\", line 2131, in pandas._libs.hashtable.Int64HashTable.get_item\n",
      "  File \"pandas\\_libs\\hashtable_class_helper.pxi\", line 2140, in pandas._libs.hashtable.Int64HashTable.get_item\n",
      "KeyError: 1661188260000000000\n",
      "\n",
      "During handling of the above exception, another exception occurred:\n",
      "\n",
      "Traceback (most recent call last):\n",
      "  File \"C:\\Users\\Ashwin Dev\\anaconda3\\lib\\site-packages\\pandas\\core\\indexes\\base.py\", line 3621, in get_loc\n",
      "    return self._engine.get_loc(casted_key)\n",
      "  File \"pandas\\_libs\\index.pyx\", line 513, in pandas._libs.index.DatetimeEngine.get_loc\n",
      "  File \"pandas\\_libs\\index.pyx\", line 547, in pandas._libs.index.DatetimeEngine.get_loc\n",
      "KeyError: Timestamp('2022-08-22 17:11:00')\n",
      "\n",
      "The above exception was the direct cause of the following exception:\n",
      "\n",
      "Traceback (most recent call last):\n",
      "  File \"C:\\Users\\Ashwin Dev\\anaconda3\\lib\\site-packages\\pandas\\core\\indexes\\datetimes.py\", line 679, in get_loc\n",
      "    return Index.get_loc(self, key, method, tolerance)\n",
      "  File \"C:\\Users\\Ashwin Dev\\anaconda3\\lib\\site-packages\\pandas\\core\\indexes\\base.py\", line 3623, in get_loc\n",
      "    raise KeyError(key) from err\n",
      "KeyError: Timestamp('2022-08-22 17:11:00')\n",
      "\n",
      "The above exception was the direct cause of the following exception:\n",
      "\n",
      "Traceback (most recent call last):\n",
      "  File \"C:\\Users\\Ashwin Dev\\anaconda3\\lib\\threading.py\", line 973, in _bootstrap_inner\n",
      "    self.run()\n",
      "  File \"C:\\Users\\Ashwin Dev\\anaconda3\\lib\\threading.py\", line 910, in run\n",
      "    self._target(*self._args, **self._kwargs)\n",
      "  File \"C:\\Users\\Ashwin Dev\\anaconda3\\lib\\site-packages\\socketio\\client.py\", line 615, in _handle_eio_message\n",
      "    self._handle_event(pkt.namespace, pkt.id, pkt.data)\n",
      "  File \"C:\\Users\\Ashwin Dev\\anaconda3\\lib\\site-packages\\socketio\\client.py\", line 501, in _handle_event\n",
      "    r = self._trigger_event(data[0], namespace, *data[1:])\n",
      "  File \"C:\\Users\\Ashwin Dev\\anaconda3\\lib\\site-packages\\socketio\\client.py\", line 547, in _trigger_event\n",
      "    return self.handlers[namespace][event](*args)\n",
      "  File \"C:\\Users\\Ashwin Dev\\anaconda3\\lib\\site-packages\\fxcmpy\\fxcmpy.py\", line 2575, in __on_price_update__\n",
      "    callbacks[func](data, self.prices[symbol])\n",
      "  File \"C:\\Users\\Ashwin Dev\\AppData\\Local\\Temp\\ipykernel_1184\\3388473720.py\", line 35, in get_tick_data\n",
      "  File \"C:\\Users\\Ashwin Dev\\anaconda3\\lib\\site-packages\\pandas\\core\\indexing.py\", line 961, in __getitem__\n",
      "    return self._getitem_tuple(key)\n",
      "  File \"C:\\Users\\Ashwin Dev\\anaconda3\\lib\\site-packages\\pandas\\core\\indexing.py\", line 1149, in _getitem_tuple\n",
      "    return self._getitem_tuple_same_dim(tup)\n",
      "  File \"C:\\Users\\Ashwin Dev\\anaconda3\\lib\\site-packages\\pandas\\core\\indexing.py\", line 827, in _getitem_tuple_same_dim\n",
      "    retval = getattr(retval, self.name)._getitem_axis(key, axis=i)\n",
      "  File \"C:\\Users\\Ashwin Dev\\anaconda3\\lib\\site-packages\\pandas\\core\\indexing.py\", line 1180, in _getitem_axis\n",
      "    return self._get_slice_axis(key, axis=axis)\n",
      "  File \"C:\\Users\\Ashwin Dev\\anaconda3\\lib\\site-packages\\pandas\\core\\indexing.py\", line 1214, in _get_slice_axis\n",
      "    indexer = labels.slice_indexer(slice_obj.start, slice_obj.stop, slice_obj.step)\n",
      "  File \"C:\\Users\\Ashwin Dev\\anaconda3\\lib\\site-packages\\pandas\\core\\indexes\\datetimes.py\", line 743, in slice_indexer\n",
      "    return Index.slice_indexer(self, start, end, step, kind=kind)\n",
      "  File \"C:\\Users\\Ashwin Dev\\anaconda3\\lib\\site-packages\\pandas\\core\\indexes\\base.py\", line 6274, in slice_indexer\n",
      "    start_slice, end_slice = self.slice_locs(start, end, step=step)\n",
      "  File \"C:\\Users\\Ashwin Dev\\anaconda3\\lib\\site-packages\\pandas\\core\\indexes\\base.py\", line 6484, in slice_locs\n",
      "    start_slice = self.get_slice_bound(start, \"left\")\n",
      "  File \"C:\\Users\\Ashwin Dev\\anaconda3\\lib\\site-packages\\pandas\\core\\indexes\\datetimes.py\", line 778, in get_slice_bound\n",
      "    return super().get_slice_bound(label, side=side, kind=kind)\n",
      "  File \"C:\\Users\\Ashwin Dev\\anaconda3\\lib\\site-packages\\pandas\\core\\indexes\\base.py\", line 6403, in get_slice_bound\n",
      "    raise err\n",
      "  File \"C:\\Users\\Ashwin Dev\\anaconda3\\lib\\site-packages\\pandas\\core\\indexes\\base.py\", line 6397, in get_slice_bound\n",
      "    slc = self.get_loc(label)\n",
      "  File \"C:\\Users\\Ashwin Dev\\anaconda3\\lib\\site-packages\\pandas\\core\\indexes\\datetimes.py\", line 681, in get_loc\n",
      "    raise KeyError(orig_key) from err\n",
      "KeyError: Timestamp('2022-08-22 17:11:00')\n"
     ]
    },
    {
     "name": "stdout",
     "output_type": "stream",
     "text": [
      "28 "
     ]
    },
    {
     "name": "stderr",
     "output_type": "stream",
     "text": [
      "Exception in thread Thread-3185:\n",
      "Traceback (most recent call last):\n",
      "  File \"pandas\\_libs\\index.pyx\", line 545, in pandas._libs.index.DatetimeEngine.get_loc\n",
      "  File \"pandas\\_libs\\hashtable_class_helper.pxi\", line 2131, in pandas._libs.hashtable.Int64HashTable.get_item\n",
      "  File \"pandas\\_libs\\hashtable_class_helper.pxi\", line 2140, in pandas._libs.hashtable.Int64HashTable.get_item\n",
      "KeyError: 1661188260000000000\n",
      "\n",
      "During handling of the above exception, another exception occurred:\n",
      "\n",
      "Traceback (most recent call last):\n",
      "  File \"C:\\Users\\Ashwin Dev\\anaconda3\\lib\\site-packages\\pandas\\core\\indexes\\base.py\", line 3621, in get_loc\n",
      "    return self._engine.get_loc(casted_key)\n",
      "  File \"pandas\\_libs\\index.pyx\", line 513, in pandas._libs.index.DatetimeEngine.get_loc\n",
      "  File \"pandas\\_libs\\index.pyx\", line 547, in pandas._libs.index.DatetimeEngine.get_loc\n",
      "KeyError: Timestamp('2022-08-22 17:11:00')\n",
      "\n",
      "The above exception was the direct cause of the following exception:\n",
      "\n",
      "Traceback (most recent call last):\n",
      "  File \"C:\\Users\\Ashwin Dev\\anaconda3\\lib\\site-packages\\pandas\\core\\indexes\\datetimes.py\", line 679, in get_loc\n",
      "    return Index.get_loc(self, key, method, tolerance)\n",
      "  File \"C:\\Users\\Ashwin Dev\\anaconda3\\lib\\site-packages\\pandas\\core\\indexes\\base.py\", line 3623, in get_loc\n",
      "    raise KeyError(key) from err\n",
      "KeyError: Timestamp('2022-08-22 17:11:00')\n",
      "\n",
      "The above exception was the direct cause of the following exception:\n",
      "\n",
      "Traceback (most recent call last):\n",
      "  File \"C:\\Users\\Ashwin Dev\\anaconda3\\lib\\threading.py\", line 973, in _bootstrap_inner\n",
      "    self.run()\n",
      "  File \"C:\\Users\\Ashwin Dev\\anaconda3\\lib\\threading.py\", line 910, in run\n",
      "    self._target(*self._args, **self._kwargs)\n",
      "  File \"C:\\Users\\Ashwin Dev\\anaconda3\\lib\\site-packages\\socketio\\client.py\", line 615, in _handle_eio_message\n",
      "    self._handle_event(pkt.namespace, pkt.id, pkt.data)\n",
      "  File \"C:\\Users\\Ashwin Dev\\anaconda3\\lib\\site-packages\\socketio\\client.py\", line 501, in _handle_event\n",
      "    r = self._trigger_event(data[0], namespace, *data[1:])\n",
      "  File \"C:\\Users\\Ashwin Dev\\anaconda3\\lib\\site-packages\\socketio\\client.py\", line 547, in _trigger_event\n",
      "    return self.handlers[namespace][event](*args)\n",
      "  File \"C:\\Users\\Ashwin Dev\\anaconda3\\lib\\site-packages\\fxcmpy\\fxcmpy.py\", line 2575, in __on_price_update__\n",
      "    callbacks[func](data, self.prices[symbol])\n",
      "  File \"C:\\Users\\Ashwin Dev\\AppData\\Local\\Temp\\ipykernel_1184\\3388473720.py\", line 35, in get_tick_data\n",
      "  File \"C:\\Users\\Ashwin Dev\\anaconda3\\lib\\site-packages\\pandas\\core\\indexing.py\", line 961, in __getitem__\n",
      "    return self._getitem_tuple(key)\n",
      "  File \"C:\\Users\\Ashwin Dev\\anaconda3\\lib\\site-packages\\pandas\\core\\indexing.py\", line 1149, in _getitem_tuple\n",
      "    return self._getitem_tuple_same_dim(tup)\n",
      "  File \"C:\\Users\\Ashwin Dev\\anaconda3\\lib\\site-packages\\pandas\\core\\indexing.py\", line 827, in _getitem_tuple_same_dim\n",
      "    retval = getattr(retval, self.name)._getitem_axis(key, axis=i)\n",
      "  File \"C:\\Users\\Ashwin Dev\\anaconda3\\lib\\site-packages\\pandas\\core\\indexing.py\", line 1180, in _getitem_axis\n",
      "    return self._get_slice_axis(key, axis=axis)\n",
      "  File \"C:\\Users\\Ashwin Dev\\anaconda3\\lib\\site-packages\\pandas\\core\\indexing.py\", line 1214, in _get_slice_axis\n",
      "    indexer = labels.slice_indexer(slice_obj.start, slice_obj.stop, slice_obj.step)\n",
      "  File \"C:\\Users\\Ashwin Dev\\anaconda3\\lib\\site-packages\\pandas\\core\\indexes\\datetimes.py\", line 743, in slice_indexer\n",
      "    return Index.slice_indexer(self, start, end, step, kind=kind)\n",
      "  File \"C:\\Users\\Ashwin Dev\\anaconda3\\lib\\site-packages\\pandas\\core\\indexes\\base.py\", line 6274, in slice_indexer\n",
      "    start_slice, end_slice = self.slice_locs(start, end, step=step)\n",
      "  File \"C:\\Users\\Ashwin Dev\\anaconda3\\lib\\site-packages\\pandas\\core\\indexes\\base.py\", line 6484, in slice_locs\n",
      "    start_slice = self.get_slice_bound(start, \"left\")\n",
      "  File \"C:\\Users\\Ashwin Dev\\anaconda3\\lib\\site-packages\\pandas\\core\\indexes\\datetimes.py\", line 778, in get_slice_bound\n",
      "    return super().get_slice_bound(label, side=side, kind=kind)\n",
      "  File \"C:\\Users\\Ashwin Dev\\anaconda3\\lib\\site-packages\\pandas\\core\\indexes\\base.py\", line 6403, in get_slice_bound\n",
      "    raise err\n",
      "  File \"C:\\Users\\Ashwin Dev\\anaconda3\\lib\\site-packages\\pandas\\core\\indexes\\base.py\", line 6397, in get_slice_bound\n",
      "    slc = self.get_loc(label)\n",
      "  File \"C:\\Users\\Ashwin Dev\\anaconda3\\lib\\site-packages\\pandas\\core\\indexes\\datetimes.py\", line 681, in get_loc\n",
      "    raise KeyError(orig_key) from err\n",
      "KeyError: Timestamp('2022-08-22 17:11:00')\n"
     ]
    },
    {
     "name": "stdout",
     "output_type": "stream",
     "text": [
      "29 "
     ]
    },
    {
     "name": "stderr",
     "output_type": "stream",
     "text": [
      "Exception in thread Thread-3204:\n",
      "Traceback (most recent call last):\n",
      "  File \"pandas\\_libs\\index.pyx\", line 545, in pandas._libs.index.DatetimeEngine.get_loc\n",
      "  File \"pandas\\_libs\\hashtable_class_helper.pxi\", line 2131, in pandas._libs.hashtable.Int64HashTable.get_item\n",
      "  File \"pandas\\_libs\\hashtable_class_helper.pxi\", line 2140, in pandas._libs.hashtable.Int64HashTable.get_item\n",
      "KeyError: 1661188260000000000\n",
      "\n",
      "During handling of the above exception, another exception occurred:\n",
      "\n",
      "Traceback (most recent call last):\n",
      "  File \"C:\\Users\\Ashwin Dev\\anaconda3\\lib\\site-packages\\pandas\\core\\indexes\\base.py\", line 3621, in get_loc\n",
      "    return self._engine.get_loc(casted_key)\n",
      "  File \"pandas\\_libs\\index.pyx\", line 513, in pandas._libs.index.DatetimeEngine.get_loc\n",
      "  File \"pandas\\_libs\\index.pyx\", line 547, in pandas._libs.index.DatetimeEngine.get_loc\n",
      "KeyError: Timestamp('2022-08-22 17:11:00')\n",
      "\n",
      "The above exception was the direct cause of the following exception:\n",
      "\n",
      "Traceback (most recent call last):\n",
      "  File \"C:\\Users\\Ashwin Dev\\anaconda3\\lib\\site-packages\\pandas\\core\\indexes\\datetimes.py\", line 679, in get_loc\n",
      "    return Index.get_loc(self, key, method, tolerance)\n",
      "  File \"C:\\Users\\Ashwin Dev\\anaconda3\\lib\\site-packages\\pandas\\core\\indexes\\base.py\", line 3623, in get_loc\n",
      "    raise KeyError(key) from err\n",
      "KeyError: Timestamp('2022-08-22 17:11:00')\n",
      "\n",
      "The above exception was the direct cause of the following exception:\n",
      "\n",
      "Traceback (most recent call last):\n",
      "  File \"C:\\Users\\Ashwin Dev\\anaconda3\\lib\\threading.py\", line 973, in _bootstrap_inner\n",
      "    self.run()\n",
      "  File \"C:\\Users\\Ashwin Dev\\anaconda3\\lib\\threading.py\", line 910, in run\n",
      "    self._target(*self._args, **self._kwargs)\n",
      "  File \"C:\\Users\\Ashwin Dev\\anaconda3\\lib\\site-packages\\socketio\\client.py\", line 615, in _handle_eio_message\n",
      "    self._handle_event(pkt.namespace, pkt.id, pkt.data)\n",
      "  File \"C:\\Users\\Ashwin Dev\\anaconda3\\lib\\site-packages\\socketio\\client.py\", line 501, in _handle_event\n",
      "    r = self._trigger_event(data[0], namespace, *data[1:])\n",
      "  File \"C:\\Users\\Ashwin Dev\\anaconda3\\lib\\site-packages\\socketio\\client.py\", line 547, in _trigger_event\n",
      "    return self.handlers[namespace][event](*args)\n",
      "  File \"C:\\Users\\Ashwin Dev\\anaconda3\\lib\\site-packages\\fxcmpy\\fxcmpy.py\", line 2575, in __on_price_update__\n",
      "    callbacks[func](data, self.prices[symbol])\n",
      "  File \"C:\\Users\\Ashwin Dev\\AppData\\Local\\Temp\\ipykernel_1184\\3388473720.py\", line 35, in get_tick_data\n",
      "  File \"C:\\Users\\Ashwin Dev\\anaconda3\\lib\\site-packages\\pandas\\core\\indexing.py\", line 961, in __getitem__\n",
      "    return self._getitem_tuple(key)\n",
      "  File \"C:\\Users\\Ashwin Dev\\anaconda3\\lib\\site-packages\\pandas\\core\\indexing.py\", line 1149, in _getitem_tuple\n",
      "    return self._getitem_tuple_same_dim(tup)\n",
      "  File \"C:\\Users\\Ashwin Dev\\anaconda3\\lib\\site-packages\\pandas\\core\\indexing.py\", line 827, in _getitem_tuple_same_dim\n",
      "    retval = getattr(retval, self.name)._getitem_axis(key, axis=i)\n",
      "  File \"C:\\Users\\Ashwin Dev\\anaconda3\\lib\\site-packages\\pandas\\core\\indexing.py\", line 1180, in _getitem_axis\n",
      "    return self._get_slice_axis(key, axis=axis)\n",
      "  File \"C:\\Users\\Ashwin Dev\\anaconda3\\lib\\site-packages\\pandas\\core\\indexing.py\", line 1214, in _get_slice_axis\n",
      "    indexer = labels.slice_indexer(slice_obj.start, slice_obj.stop, slice_obj.step)\n",
      "  File \"C:\\Users\\Ashwin Dev\\anaconda3\\lib\\site-packages\\pandas\\core\\indexes\\datetimes.py\", line 743, in slice_indexer\n",
      "    return Index.slice_indexer(self, start, end, step, kind=kind)\n",
      "  File \"C:\\Users\\Ashwin Dev\\anaconda3\\lib\\site-packages\\pandas\\core\\indexes\\base.py\", line 6274, in slice_indexer\n",
      "    start_slice, end_slice = self.slice_locs(start, end, step=step)\n",
      "  File \"C:\\Users\\Ashwin Dev\\anaconda3\\lib\\site-packages\\pandas\\core\\indexes\\base.py\", line 6484, in slice_locs\n",
      "    start_slice = self.get_slice_bound(start, \"left\")\n",
      "  File \"C:\\Users\\Ashwin Dev\\anaconda3\\lib\\site-packages\\pandas\\core\\indexes\\datetimes.py\", line 778, in get_slice_bound\n",
      "    return super().get_slice_bound(label, side=side, kind=kind)\n",
      "  File \"C:\\Users\\Ashwin Dev\\anaconda3\\lib\\site-packages\\pandas\\core\\indexes\\base.py\", line 6403, in get_slice_bound\n",
      "    raise err\n",
      "  File \"C:\\Users\\Ashwin Dev\\anaconda3\\lib\\site-packages\\pandas\\core\\indexes\\base.py\", line 6397, in get_slice_bound\n",
      "    slc = self.get_loc(label)\n",
      "  File \"C:\\Users\\Ashwin Dev\\anaconda3\\lib\\site-packages\\pandas\\core\\indexes\\datetimes.py\", line 681, in get_loc\n",
      "    raise KeyError(orig_key) from err\n",
      "KeyError: Timestamp('2022-08-22 17:11:00')\n"
     ]
    },
    {
     "name": "stdout",
     "output_type": "stream",
     "text": [
      "30 "
     ]
    },
    {
     "name": "stderr",
     "output_type": "stream",
     "text": [
      "Exception in thread Thread-3218:\n",
      "Traceback (most recent call last):\n",
      "  File \"pandas\\_libs\\index.pyx\", line 545, in pandas._libs.index.DatetimeEngine.get_loc\n",
      "  File \"pandas\\_libs\\hashtable_class_helper.pxi\", line 2131, in pandas._libs.hashtable.Int64HashTable.get_item\n",
      "  File \"pandas\\_libs\\hashtable_class_helper.pxi\", line 2140, in pandas._libs.hashtable.Int64HashTable.get_item\n",
      "KeyError: 1661188260000000000\n",
      "\n",
      "During handling of the above exception, another exception occurred:\n",
      "\n",
      "Traceback (most recent call last):\n",
      "  File \"C:\\Users\\Ashwin Dev\\anaconda3\\lib\\site-packages\\pandas\\core\\indexes\\base.py\", line 3621, in get_loc\n",
      "    return self._engine.get_loc(casted_key)\n",
      "  File \"pandas\\_libs\\index.pyx\", line 513, in pandas._libs.index.DatetimeEngine.get_loc\n",
      "  File \"pandas\\_libs\\index.pyx\", line 547, in pandas._libs.index.DatetimeEngine.get_loc\n",
      "KeyError: Timestamp('2022-08-22 17:11:00')\n",
      "\n",
      "The above exception was the direct cause of the following exception:\n",
      "\n",
      "Traceback (most recent call last):\n",
      "  File \"C:\\Users\\Ashwin Dev\\anaconda3\\lib\\site-packages\\pandas\\core\\indexes\\datetimes.py\", line 679, in get_loc\n",
      "    return Index.get_loc(self, key, method, tolerance)\n",
      "  File \"C:\\Users\\Ashwin Dev\\anaconda3\\lib\\site-packages\\pandas\\core\\indexes\\base.py\", line 3623, in get_loc\n",
      "    raise KeyError(key) from err\n",
      "KeyError: Timestamp('2022-08-22 17:11:00')\n",
      "\n",
      "The above exception was the direct cause of the following exception:\n",
      "\n",
      "Traceback (most recent call last):\n",
      "  File \"C:\\Users\\Ashwin Dev\\anaconda3\\lib\\threading.py\", line 973, in _bootstrap_inner\n",
      "    self.run()\n",
      "  File \"C:\\Users\\Ashwin Dev\\anaconda3\\lib\\threading.py\", line 910, in run\n",
      "    self._target(*self._args, **self._kwargs)\n",
      "  File \"C:\\Users\\Ashwin Dev\\anaconda3\\lib\\site-packages\\socketio\\client.py\", line 615, in _handle_eio_message\n",
      "    self._handle_event(pkt.namespace, pkt.id, pkt.data)\n",
      "  File \"C:\\Users\\Ashwin Dev\\anaconda3\\lib\\site-packages\\socketio\\client.py\", line 501, in _handle_event\n",
      "    r = self._trigger_event(data[0], namespace, *data[1:])\n",
      "  File \"C:\\Users\\Ashwin Dev\\anaconda3\\lib\\site-packages\\socketio\\client.py\", line 547, in _trigger_event\n",
      "    return self.handlers[namespace][event](*args)\n",
      "  File \"C:\\Users\\Ashwin Dev\\anaconda3\\lib\\site-packages\\fxcmpy\\fxcmpy.py\", line 2575, in __on_price_update__\n",
      "    callbacks[func](data, self.prices[symbol])\n",
      "  File \"C:\\Users\\Ashwin Dev\\AppData\\Local\\Temp\\ipykernel_1184\\3388473720.py\", line 35, in get_tick_data\n",
      "  File \"C:\\Users\\Ashwin Dev\\anaconda3\\lib\\site-packages\\pandas\\core\\indexing.py\", line 961, in __getitem__\n",
      "    return self._getitem_tuple(key)\n",
      "  File \"C:\\Users\\Ashwin Dev\\anaconda3\\lib\\site-packages\\pandas\\core\\indexing.py\", line 1149, in _getitem_tuple\n",
      "    return self._getitem_tuple_same_dim(tup)\n",
      "  File \"C:\\Users\\Ashwin Dev\\anaconda3\\lib\\site-packages\\pandas\\core\\indexing.py\", line 827, in _getitem_tuple_same_dim\n",
      "    retval = getattr(retval, self.name)._getitem_axis(key, axis=i)\n",
      "  File \"C:\\Users\\Ashwin Dev\\anaconda3\\lib\\site-packages\\pandas\\core\\indexing.py\", line 1180, in _getitem_axis\n",
      "    return self._get_slice_axis(key, axis=axis)\n",
      "  File \"C:\\Users\\Ashwin Dev\\anaconda3\\lib\\site-packages\\pandas\\core\\indexing.py\", line 1214, in _get_slice_axis\n",
      "    indexer = labels.slice_indexer(slice_obj.start, slice_obj.stop, slice_obj.step)\n",
      "  File \"C:\\Users\\Ashwin Dev\\anaconda3\\lib\\site-packages\\pandas\\core\\indexes\\datetimes.py\", line 743, in slice_indexer\n",
      "    return Index.slice_indexer(self, start, end, step, kind=kind)\n",
      "  File \"C:\\Users\\Ashwin Dev\\anaconda3\\lib\\site-packages\\pandas\\core\\indexes\\base.py\", line 6274, in slice_indexer\n",
      "    start_slice, end_slice = self.slice_locs(start, end, step=step)\n",
      "  File \"C:\\Users\\Ashwin Dev\\anaconda3\\lib\\site-packages\\pandas\\core\\indexes\\base.py\", line 6484, in slice_locs\n",
      "    start_slice = self.get_slice_bound(start, \"left\")\n",
      "  File \"C:\\Users\\Ashwin Dev\\anaconda3\\lib\\site-packages\\pandas\\core\\indexes\\datetimes.py\", line 778, in get_slice_bound\n",
      "    return super().get_slice_bound(label, side=side, kind=kind)\n",
      "  File \"C:\\Users\\Ashwin Dev\\anaconda3\\lib\\site-packages\\pandas\\core\\indexes\\base.py\", line 6403, in get_slice_bound\n",
      "    raise err\n",
      "  File \"C:\\Users\\Ashwin Dev\\anaconda3\\lib\\site-packages\\pandas\\core\\indexes\\base.py\", line 6397, in get_slice_bound\n",
      "    slc = self.get_loc(label)\n",
      "  File \"C:\\Users\\Ashwin Dev\\anaconda3\\lib\\site-packages\\pandas\\core\\indexes\\datetimes.py\", line 681, in get_loc\n",
      "    raise KeyError(orig_key) from err\n",
      "KeyError: Timestamp('2022-08-22 17:11:00')\n"
     ]
    },
    {
     "name": "stdout",
     "output_type": "stream",
     "text": [
      "31 "
     ]
    },
    {
     "name": "stderr",
     "output_type": "stream",
     "text": [
      "Exception in thread Thread-3226:\n",
      "Traceback (most recent call last):\n",
      "  File \"pandas\\_libs\\index.pyx\", line 545, in pandas._libs.index.DatetimeEngine.get_loc\n",
      "  File \"pandas\\_libs\\hashtable_class_helper.pxi\", line 2131, in pandas._libs.hashtable.Int64HashTable.get_item\n",
      "  File \"pandas\\_libs\\hashtable_class_helper.pxi\", line 2140, in pandas._libs.hashtable.Int64HashTable.get_item\n",
      "KeyError: 1661188260000000000\n",
      "\n",
      "During handling of the above exception, another exception occurred:\n",
      "\n",
      "Traceback (most recent call last):\n",
      "  File \"C:\\Users\\Ashwin Dev\\anaconda3\\lib\\site-packages\\pandas\\core\\indexes\\base.py\", line 3621, in get_loc\n",
      "    return self._engine.get_loc(casted_key)\n",
      "  File \"pandas\\_libs\\index.pyx\", line 513, in pandas._libs.index.DatetimeEngine.get_loc\n",
      "  File \"pandas\\_libs\\index.pyx\", line 547, in pandas._libs.index.DatetimeEngine.get_loc\n",
      "KeyError: Timestamp('2022-08-22 17:11:00')\n",
      "\n",
      "The above exception was the direct cause of the following exception:\n",
      "\n",
      "Traceback (most recent call last):\n",
      "  File \"C:\\Users\\Ashwin Dev\\anaconda3\\lib\\site-packages\\pandas\\core\\indexes\\datetimes.py\", line 679, in get_loc\n",
      "    return Index.get_loc(self, key, method, tolerance)\n",
      "  File \"C:\\Users\\Ashwin Dev\\anaconda3\\lib\\site-packages\\pandas\\core\\indexes\\base.py\", line 3623, in get_loc\n",
      "    raise KeyError(key) from err\n",
      "KeyError: Timestamp('2022-08-22 17:11:00')\n",
      "\n",
      "The above exception was the direct cause of the following exception:\n",
      "\n",
      "Traceback (most recent call last):\n",
      "  File \"C:\\Users\\Ashwin Dev\\anaconda3\\lib\\threading.py\", line 973, in _bootstrap_inner\n",
      "    self.run()\n",
      "  File \"C:\\Users\\Ashwin Dev\\anaconda3\\lib\\threading.py\", line 910, in run\n",
      "    self._target(*self._args, **self._kwargs)\n",
      "  File \"C:\\Users\\Ashwin Dev\\anaconda3\\lib\\site-packages\\socketio\\client.py\", line 615, in _handle_eio_message\n",
      "    self._handle_event(pkt.namespace, pkt.id, pkt.data)\n",
      "  File \"C:\\Users\\Ashwin Dev\\anaconda3\\lib\\site-packages\\socketio\\client.py\", line 501, in _handle_event\n",
      "    r = self._trigger_event(data[0], namespace, *data[1:])\n",
      "  File \"C:\\Users\\Ashwin Dev\\anaconda3\\lib\\site-packages\\socketio\\client.py\", line 547, in _trigger_event\n",
      "    return self.handlers[namespace][event](*args)\n",
      "  File \"C:\\Users\\Ashwin Dev\\anaconda3\\lib\\site-packages\\fxcmpy\\fxcmpy.py\", line 2575, in __on_price_update__\n",
      "    callbacks[func](data, self.prices[symbol])\n",
      "  File \"C:\\Users\\Ashwin Dev\\AppData\\Local\\Temp\\ipykernel_1184\\3388473720.py\", line 35, in get_tick_data\n",
      "  File \"C:\\Users\\Ashwin Dev\\anaconda3\\lib\\site-packages\\pandas\\core\\indexing.py\", line 961, in __getitem__\n",
      "    return self._getitem_tuple(key)\n",
      "  File \"C:\\Users\\Ashwin Dev\\anaconda3\\lib\\site-packages\\pandas\\core\\indexing.py\", line 1149, in _getitem_tuple\n",
      "    return self._getitem_tuple_same_dim(tup)\n",
      "  File \"C:\\Users\\Ashwin Dev\\anaconda3\\lib\\site-packages\\pandas\\core\\indexing.py\", line 827, in _getitem_tuple_same_dim\n",
      "    retval = getattr(retval, self.name)._getitem_axis(key, axis=i)\n",
      "  File \"C:\\Users\\Ashwin Dev\\anaconda3\\lib\\site-packages\\pandas\\core\\indexing.py\", line 1180, in _getitem_axis\n",
      "    return self._get_slice_axis(key, axis=axis)\n",
      "  File \"C:\\Users\\Ashwin Dev\\anaconda3\\lib\\site-packages\\pandas\\core\\indexing.py\", line 1214, in _get_slice_axis\n",
      "    indexer = labels.slice_indexer(slice_obj.start, slice_obj.stop, slice_obj.step)\n",
      "  File \"C:\\Users\\Ashwin Dev\\anaconda3\\lib\\site-packages\\pandas\\core\\indexes\\datetimes.py\", line 743, in slice_indexer\n",
      "    return Index.slice_indexer(self, start, end, step, kind=kind)\n",
      "  File \"C:\\Users\\Ashwin Dev\\anaconda3\\lib\\site-packages\\pandas\\core\\indexes\\base.py\", line 6274, in slice_indexer\n",
      "    start_slice, end_slice = self.slice_locs(start, end, step=step)\n",
      "  File \"C:\\Users\\Ashwin Dev\\anaconda3\\lib\\site-packages\\pandas\\core\\indexes\\base.py\", line 6484, in slice_locs\n",
      "    start_slice = self.get_slice_bound(start, \"left\")\n",
      "  File \"C:\\Users\\Ashwin Dev\\anaconda3\\lib\\site-packages\\pandas\\core\\indexes\\datetimes.py\", line 778, in get_slice_bound\n",
      "    return super().get_slice_bound(label, side=side, kind=kind)\n",
      "  File \"C:\\Users\\Ashwin Dev\\anaconda3\\lib\\site-packages\\pandas\\core\\indexes\\base.py\", line 6403, in get_slice_bound\n",
      "    raise err\n",
      "  File \"C:\\Users\\Ashwin Dev\\anaconda3\\lib\\site-packages\\pandas\\core\\indexes\\base.py\", line 6397, in get_slice_bound\n",
      "    slc = self.get_loc(label)\n",
      "  File \"C:\\Users\\Ashwin Dev\\anaconda3\\lib\\site-packages\\pandas\\core\\indexes\\datetimes.py\", line 681, in get_loc\n",
      "    raise KeyError(orig_key) from err\n",
      "KeyError: Timestamp('2022-08-22 17:11:00')\n"
     ]
    },
    {
     "name": "stdout",
     "output_type": "stream",
     "text": [
      "32 "
     ]
    },
    {
     "name": "stderr",
     "output_type": "stream",
     "text": [
      "Exception in thread Thread-3268:\n",
      "Traceback (most recent call last):\n",
      "  File \"pandas\\_libs\\index.pyx\", line 545, in pandas._libs.index.DatetimeEngine.get_loc\n",
      "  File \"pandas\\_libs\\hashtable_class_helper.pxi\", line 2131, in pandas._libs.hashtable.Int64HashTable.get_item\n",
      "  File \"pandas\\_libs\\hashtable_class_helper.pxi\", line 2140, in pandas._libs.hashtable.Int64HashTable.get_item\n",
      "KeyError: 1661188260000000000\n",
      "\n",
      "During handling of the above exception, another exception occurred:\n",
      "\n",
      "Traceback (most recent call last):\n",
      "  File \"C:\\Users\\Ashwin Dev\\anaconda3\\lib\\site-packages\\pandas\\core\\indexes\\base.py\", line 3621, in get_loc\n",
      "    return self._engine.get_loc(casted_key)\n",
      "  File \"pandas\\_libs\\index.pyx\", line 513, in pandas._libs.index.DatetimeEngine.get_loc\n",
      "  File \"pandas\\_libs\\index.pyx\", line 547, in pandas._libs.index.DatetimeEngine.get_loc\n",
      "KeyError: Timestamp('2022-08-22 17:11:00')\n",
      "\n",
      "The above exception was the direct cause of the following exception:\n",
      "\n",
      "Traceback (most recent call last):\n",
      "  File \"C:\\Users\\Ashwin Dev\\anaconda3\\lib\\site-packages\\pandas\\core\\indexes\\datetimes.py\", line 679, in get_loc\n",
      "    return Index.get_loc(self, key, method, tolerance)\n",
      "  File \"C:\\Users\\Ashwin Dev\\anaconda3\\lib\\site-packages\\pandas\\core\\indexes\\base.py\", line 3623, in get_loc\n",
      "    raise KeyError(key) from err\n",
      "KeyError: Timestamp('2022-08-22 17:11:00')\n",
      "\n",
      "The above exception was the direct cause of the following exception:\n",
      "\n",
      "Traceback (most recent call last):\n",
      "  File \"C:\\Users\\Ashwin Dev\\anaconda3\\lib\\threading.py\", line 973, in _bootstrap_inner\n",
      "    self.run()\n",
      "  File \"C:\\Users\\Ashwin Dev\\anaconda3\\lib\\threading.py\", line 910, in run\n",
      "    self._target(*self._args, **self._kwargs)\n",
      "  File \"C:\\Users\\Ashwin Dev\\anaconda3\\lib\\site-packages\\socketio\\client.py\", line 615, in _handle_eio_message\n",
      "    self._handle_event(pkt.namespace, pkt.id, pkt.data)\n",
      "  File \"C:\\Users\\Ashwin Dev\\anaconda3\\lib\\site-packages\\socketio\\client.py\", line 501, in _handle_event\n",
      "    r = self._trigger_event(data[0], namespace, *data[1:])\n",
      "  File \"C:\\Users\\Ashwin Dev\\anaconda3\\lib\\site-packages\\socketio\\client.py\", line 547, in _trigger_event\n",
      "    return self.handlers[namespace][event](*args)\n",
      "  File \"C:\\Users\\Ashwin Dev\\anaconda3\\lib\\site-packages\\fxcmpy\\fxcmpy.py\", line 2575, in __on_price_update__\n",
      "    callbacks[func](data, self.prices[symbol])\n",
      "  File \"C:\\Users\\Ashwin Dev\\AppData\\Local\\Temp\\ipykernel_1184\\3388473720.py\", line 35, in get_tick_data\n",
      "  File \"C:\\Users\\Ashwin Dev\\anaconda3\\lib\\site-packages\\pandas\\core\\indexing.py\", line 961, in __getitem__\n",
      "    return self._getitem_tuple(key)\n",
      "  File \"C:\\Users\\Ashwin Dev\\anaconda3\\lib\\site-packages\\pandas\\core\\indexing.py\", line 1149, in _getitem_tuple\n",
      "    return self._getitem_tuple_same_dim(tup)\n",
      "  File \"C:\\Users\\Ashwin Dev\\anaconda3\\lib\\site-packages\\pandas\\core\\indexing.py\", line 827, in _getitem_tuple_same_dim\n",
      "    retval = getattr(retval, self.name)._getitem_axis(key, axis=i)\n",
      "  File \"C:\\Users\\Ashwin Dev\\anaconda3\\lib\\site-packages\\pandas\\core\\indexing.py\", line 1180, in _getitem_axis\n",
      "    return self._get_slice_axis(key, axis=axis)\n",
      "  File \"C:\\Users\\Ashwin Dev\\anaconda3\\lib\\site-packages\\pandas\\core\\indexing.py\", line 1214, in _get_slice_axis\n",
      "    indexer = labels.slice_indexer(slice_obj.start, slice_obj.stop, slice_obj.step)\n",
      "  File \"C:\\Users\\Ashwin Dev\\anaconda3\\lib\\site-packages\\pandas\\core\\indexes\\datetimes.py\", line 743, in slice_indexer\n",
      "    return Index.slice_indexer(self, start, end, step, kind=kind)\n",
      "  File \"C:\\Users\\Ashwin Dev\\anaconda3\\lib\\site-packages\\pandas\\core\\indexes\\base.py\", line 6274, in slice_indexer\n",
      "    start_slice, end_slice = self.slice_locs(start, end, step=step)\n",
      "  File \"C:\\Users\\Ashwin Dev\\anaconda3\\lib\\site-packages\\pandas\\core\\indexes\\base.py\", line 6484, in slice_locs\n",
      "    start_slice = self.get_slice_bound(start, \"left\")\n",
      "  File \"C:\\Users\\Ashwin Dev\\anaconda3\\lib\\site-packages\\pandas\\core\\indexes\\datetimes.py\", line 778, in get_slice_bound\n",
      "    return super().get_slice_bound(label, side=side, kind=kind)\n",
      "  File \"C:\\Users\\Ashwin Dev\\anaconda3\\lib\\site-packages\\pandas\\core\\indexes\\base.py\", line 6403, in get_slice_bound\n",
      "    raise err\n",
      "  File \"C:\\Users\\Ashwin Dev\\anaconda3\\lib\\site-packages\\pandas\\core\\indexes\\base.py\", line 6397, in get_slice_bound\n",
      "    slc = self.get_loc(label)\n",
      "  File \"C:\\Users\\Ashwin Dev\\anaconda3\\lib\\site-packages\\pandas\\core\\indexes\\datetimes.py\", line 681, in get_loc\n",
      "    raise KeyError(orig_key) from err\n",
      "KeyError: Timestamp('2022-08-22 17:11:00')\n"
     ]
    },
    {
     "name": "stdout",
     "output_type": "stream",
     "text": [
      "33 "
     ]
    },
    {
     "name": "stderr",
     "output_type": "stream",
     "text": [
      "Exception in thread Thread-3280:\n",
      "Traceback (most recent call last):\n",
      "  File \"pandas\\_libs\\index.pyx\", line 545, in pandas._libs.index.DatetimeEngine.get_loc\n",
      "  File \"pandas\\_libs\\hashtable_class_helper.pxi\", line 2131, in pandas._libs.hashtable.Int64HashTable.get_item\n",
      "  File \"pandas\\_libs\\hashtable_class_helper.pxi\", line 2140, in pandas._libs.hashtable.Int64HashTable.get_item\n",
      "KeyError: 1661188260000000000\n",
      "\n",
      "During handling of the above exception, another exception occurred:\n",
      "\n",
      "Traceback (most recent call last):\n",
      "  File \"C:\\Users\\Ashwin Dev\\anaconda3\\lib\\site-packages\\pandas\\core\\indexes\\base.py\", line 3621, in get_loc\n",
      "    return self._engine.get_loc(casted_key)\n",
      "  File \"pandas\\_libs\\index.pyx\", line 513, in pandas._libs.index.DatetimeEngine.get_loc\n",
      "  File \"pandas\\_libs\\index.pyx\", line 547, in pandas._libs.index.DatetimeEngine.get_loc\n",
      "KeyError: Timestamp('2022-08-22 17:11:00')\n",
      "\n",
      "The above exception was the direct cause of the following exception:\n",
      "\n",
      "Traceback (most recent call last):\n",
      "  File \"C:\\Users\\Ashwin Dev\\anaconda3\\lib\\site-packages\\pandas\\core\\indexes\\datetimes.py\", line 679, in get_loc\n",
      "    return Index.get_loc(self, key, method, tolerance)\n",
      "  File \"C:\\Users\\Ashwin Dev\\anaconda3\\lib\\site-packages\\pandas\\core\\indexes\\base.py\", line 3623, in get_loc\n",
      "    raise KeyError(key) from err\n",
      "KeyError: Timestamp('2022-08-22 17:11:00')\n",
      "\n",
      "The above exception was the direct cause of the following exception:\n",
      "\n",
      "Traceback (most recent call last):\n",
      "  File \"C:\\Users\\Ashwin Dev\\anaconda3\\lib\\threading.py\", line 973, in _bootstrap_inner\n",
      "    self.run()\n",
      "  File \"C:\\Users\\Ashwin Dev\\anaconda3\\lib\\threading.py\", line 910, in run\n",
      "    self._target(*self._args, **self._kwargs)\n",
      "  File \"C:\\Users\\Ashwin Dev\\anaconda3\\lib\\site-packages\\socketio\\client.py\", line 615, in _handle_eio_message\n",
      "    self._handle_event(pkt.namespace, pkt.id, pkt.data)\n",
      "  File \"C:\\Users\\Ashwin Dev\\anaconda3\\lib\\site-packages\\socketio\\client.py\", line 501, in _handle_event\n",
      "    r = self._trigger_event(data[0], namespace, *data[1:])\n",
      "  File \"C:\\Users\\Ashwin Dev\\anaconda3\\lib\\site-packages\\socketio\\client.py\", line 547, in _trigger_event\n",
      "    return self.handlers[namespace][event](*args)\n",
      "  File \"C:\\Users\\Ashwin Dev\\anaconda3\\lib\\site-packages\\fxcmpy\\fxcmpy.py\", line 2575, in __on_price_update__\n",
      "    callbacks[func](data, self.prices[symbol])\n",
      "  File \"C:\\Users\\Ashwin Dev\\AppData\\Local\\Temp\\ipykernel_1184\\3388473720.py\", line 35, in get_tick_data\n",
      "  File \"C:\\Users\\Ashwin Dev\\anaconda3\\lib\\site-packages\\pandas\\core\\indexing.py\", line 961, in __getitem__\n",
      "    return self._getitem_tuple(key)\n",
      "  File \"C:\\Users\\Ashwin Dev\\anaconda3\\lib\\site-packages\\pandas\\core\\indexing.py\", line 1149, in _getitem_tuple\n",
      "    return self._getitem_tuple_same_dim(tup)\n",
      "  File \"C:\\Users\\Ashwin Dev\\anaconda3\\lib\\site-packages\\pandas\\core\\indexing.py\", line 827, in _getitem_tuple_same_dim\n",
      "    retval = getattr(retval, self.name)._getitem_axis(key, axis=i)\n",
      "  File \"C:\\Users\\Ashwin Dev\\anaconda3\\lib\\site-packages\\pandas\\core\\indexing.py\", line 1180, in _getitem_axis\n",
      "    return self._get_slice_axis(key, axis=axis)\n",
      "  File \"C:\\Users\\Ashwin Dev\\anaconda3\\lib\\site-packages\\pandas\\core\\indexing.py\", line 1214, in _get_slice_axis\n",
      "    indexer = labels.slice_indexer(slice_obj.start, slice_obj.stop, slice_obj.step)\n",
      "  File \"C:\\Users\\Ashwin Dev\\anaconda3\\lib\\site-packages\\pandas\\core\\indexes\\datetimes.py\", line 743, in slice_indexer\n",
      "    return Index.slice_indexer(self, start, end, step, kind=kind)\n",
      "  File \"C:\\Users\\Ashwin Dev\\anaconda3\\lib\\site-packages\\pandas\\core\\indexes\\base.py\", line 6274, in slice_indexer\n",
      "    start_slice, end_slice = self.slice_locs(start, end, step=step)\n",
      "  File \"C:\\Users\\Ashwin Dev\\anaconda3\\lib\\site-packages\\pandas\\core\\indexes\\base.py\", line 6484, in slice_locs\n",
      "    start_slice = self.get_slice_bound(start, \"left\")\n",
      "  File \"C:\\Users\\Ashwin Dev\\anaconda3\\lib\\site-packages\\pandas\\core\\indexes\\datetimes.py\", line 778, in get_slice_bound\n",
      "    return super().get_slice_bound(label, side=side, kind=kind)\n",
      "  File \"C:\\Users\\Ashwin Dev\\anaconda3\\lib\\site-packages\\pandas\\core\\indexes\\base.py\", line 6403, in get_slice_bound\n",
      "    raise err\n",
      "  File \"C:\\Users\\Ashwin Dev\\anaconda3\\lib\\site-packages\\pandas\\core\\indexes\\base.py\", line 6397, in get_slice_bound\n",
      "    slc = self.get_loc(label)\n",
      "  File \"C:\\Users\\Ashwin Dev\\anaconda3\\lib\\site-packages\\pandas\\core\\indexes\\datetimes.py\", line 681, in get_loc\n",
      "    raise KeyError(orig_key) from err\n",
      "KeyError: Timestamp('2022-08-22 17:11:00')\n"
     ]
    },
    {
     "name": "stdout",
     "output_type": "stream",
     "text": [
      "34 "
     ]
    },
    {
     "name": "stderr",
     "output_type": "stream",
     "text": [
      "Exception in thread Thread-3304:\n",
      "Traceback (most recent call last):\n",
      "  File \"pandas\\_libs\\index.pyx\", line 545, in pandas._libs.index.DatetimeEngine.get_loc\n",
      "  File \"pandas\\_libs\\hashtable_class_helper.pxi\", line 2131, in pandas._libs.hashtable.Int64HashTable.get_item\n",
      "  File \"pandas\\_libs\\hashtable_class_helper.pxi\", line 2140, in pandas._libs.hashtable.Int64HashTable.get_item\n",
      "KeyError: 1661188260000000000\n",
      "\n",
      "During handling of the above exception, another exception occurred:\n",
      "\n",
      "Traceback (most recent call last):\n",
      "  File \"C:\\Users\\Ashwin Dev\\anaconda3\\lib\\site-packages\\pandas\\core\\indexes\\base.py\", line 3621, in get_loc\n",
      "    return self._engine.get_loc(casted_key)\n",
      "  File \"pandas\\_libs\\index.pyx\", line 513, in pandas._libs.index.DatetimeEngine.get_loc\n",
      "  File \"pandas\\_libs\\index.pyx\", line 547, in pandas._libs.index.DatetimeEngine.get_loc\n",
      "KeyError: Timestamp('2022-08-22 17:11:00')\n",
      "\n",
      "The above exception was the direct cause of the following exception:\n",
      "\n",
      "Traceback (most recent call last):\n",
      "  File \"C:\\Users\\Ashwin Dev\\anaconda3\\lib\\site-packages\\pandas\\core\\indexes\\datetimes.py\", line 679, in get_loc\n",
      "    return Index.get_loc(self, key, method, tolerance)\n",
      "  File \"C:\\Users\\Ashwin Dev\\anaconda3\\lib\\site-packages\\pandas\\core\\indexes\\base.py\", line 3623, in get_loc\n",
      "    raise KeyError(key) from err\n",
      "KeyError: Timestamp('2022-08-22 17:11:00')\n",
      "\n",
      "The above exception was the direct cause of the following exception:\n",
      "\n",
      "Traceback (most recent call last):\n",
      "  File \"C:\\Users\\Ashwin Dev\\anaconda3\\lib\\threading.py\", line 973, in _bootstrap_inner\n",
      "    self.run()\n",
      "  File \"C:\\Users\\Ashwin Dev\\anaconda3\\lib\\threading.py\", line 910, in run\n",
      "    self._target(*self._args, **self._kwargs)\n",
      "  File \"C:\\Users\\Ashwin Dev\\anaconda3\\lib\\site-packages\\socketio\\client.py\", line 615, in _handle_eio_message\n",
      "    self._handle_event(pkt.namespace, pkt.id, pkt.data)\n",
      "  File \"C:\\Users\\Ashwin Dev\\anaconda3\\lib\\site-packages\\socketio\\client.py\", line 501, in _handle_event\n",
      "    r = self._trigger_event(data[0], namespace, *data[1:])\n",
      "  File \"C:\\Users\\Ashwin Dev\\anaconda3\\lib\\site-packages\\socketio\\client.py\", line 547, in _trigger_event\n",
      "    return self.handlers[namespace][event](*args)\n",
      "  File \"C:\\Users\\Ashwin Dev\\anaconda3\\lib\\site-packages\\fxcmpy\\fxcmpy.py\", line 2575, in __on_price_update__\n",
      "    callbacks[func](data, self.prices[symbol])\n",
      "  File \"C:\\Users\\Ashwin Dev\\AppData\\Local\\Temp\\ipykernel_1184\\3388473720.py\", line 35, in get_tick_data\n",
      "  File \"C:\\Users\\Ashwin Dev\\anaconda3\\lib\\site-packages\\pandas\\core\\indexing.py\", line 961, in __getitem__\n",
      "    return self._getitem_tuple(key)\n",
      "  File \"C:\\Users\\Ashwin Dev\\anaconda3\\lib\\site-packages\\pandas\\core\\indexing.py\", line 1149, in _getitem_tuple\n",
      "    return self._getitem_tuple_same_dim(tup)\n",
      "  File \"C:\\Users\\Ashwin Dev\\anaconda3\\lib\\site-packages\\pandas\\core\\indexing.py\", line 827, in _getitem_tuple_same_dim\n",
      "    retval = getattr(retval, self.name)._getitem_axis(key, axis=i)\n",
      "  File \"C:\\Users\\Ashwin Dev\\anaconda3\\lib\\site-packages\\pandas\\core\\indexing.py\", line 1180, in _getitem_axis\n",
      "    return self._get_slice_axis(key, axis=axis)\n",
      "  File \"C:\\Users\\Ashwin Dev\\anaconda3\\lib\\site-packages\\pandas\\core\\indexing.py\", line 1214, in _get_slice_axis\n",
      "    indexer = labels.slice_indexer(slice_obj.start, slice_obj.stop, slice_obj.step)\n",
      "  File \"C:\\Users\\Ashwin Dev\\anaconda3\\lib\\site-packages\\pandas\\core\\indexes\\datetimes.py\", line 743, in slice_indexer\n",
      "    return Index.slice_indexer(self, start, end, step, kind=kind)\n",
      "  File \"C:\\Users\\Ashwin Dev\\anaconda3\\lib\\site-packages\\pandas\\core\\indexes\\base.py\", line 6274, in slice_indexer\n",
      "    start_slice, end_slice = self.slice_locs(start, end, step=step)\n",
      "  File \"C:\\Users\\Ashwin Dev\\anaconda3\\lib\\site-packages\\pandas\\core\\indexes\\base.py\", line 6484, in slice_locs\n",
      "    start_slice = self.get_slice_bound(start, \"left\")\n",
      "  File \"C:\\Users\\Ashwin Dev\\anaconda3\\lib\\site-packages\\pandas\\core\\indexes\\datetimes.py\", line 778, in get_slice_bound\n",
      "    return super().get_slice_bound(label, side=side, kind=kind)\n",
      "  File \"C:\\Users\\Ashwin Dev\\anaconda3\\lib\\site-packages\\pandas\\core\\indexes\\base.py\", line 6403, in get_slice_bound\n",
      "    raise err\n",
      "  File \"C:\\Users\\Ashwin Dev\\anaconda3\\lib\\site-packages\\pandas\\core\\indexes\\base.py\", line 6397, in get_slice_bound\n",
      "    slc = self.get_loc(label)\n",
      "  File \"C:\\Users\\Ashwin Dev\\anaconda3\\lib\\site-packages\\pandas\\core\\indexes\\datetimes.py\", line 681, in get_loc\n",
      "    raise KeyError(orig_key) from err\n",
      "KeyError: Timestamp('2022-08-22 17:11:00')\n"
     ]
    },
    {
     "name": "stdout",
     "output_type": "stream",
     "text": [
      "35 "
     ]
    },
    {
     "name": "stderr",
     "output_type": "stream",
     "text": [
      "Exception in thread Thread-3335:\n",
      "Traceback (most recent call last):\n",
      "  File \"pandas\\_libs\\index.pyx\", line 545, in pandas._libs.index.DatetimeEngine.get_loc\n",
      "  File \"pandas\\_libs\\hashtable_class_helper.pxi\", line 2131, in pandas._libs.hashtable.Int64HashTable.get_item\n",
      "  File \"pandas\\_libs\\hashtable_class_helper.pxi\", line 2140, in pandas._libs.hashtable.Int64HashTable.get_item\n",
      "KeyError: 1661188260000000000\n",
      "\n",
      "During handling of the above exception, another exception occurred:\n",
      "\n",
      "Traceback (most recent call last):\n",
      "  File \"C:\\Users\\Ashwin Dev\\anaconda3\\lib\\site-packages\\pandas\\core\\indexes\\base.py\", line 3621, in get_loc\n",
      "    return self._engine.get_loc(casted_key)\n",
      "  File \"pandas\\_libs\\index.pyx\", line 513, in pandas._libs.index.DatetimeEngine.get_loc\n",
      "  File \"pandas\\_libs\\index.pyx\", line 547, in pandas._libs.index.DatetimeEngine.get_loc\n",
      "KeyError: Timestamp('2022-08-22 17:11:00')\n",
      "\n",
      "The above exception was the direct cause of the following exception:\n",
      "\n",
      "Traceback (most recent call last):\n",
      "  File \"C:\\Users\\Ashwin Dev\\anaconda3\\lib\\site-packages\\pandas\\core\\indexes\\datetimes.py\", line 679, in get_loc\n",
      "    return Index.get_loc(self, key, method, tolerance)\n",
      "  File \"C:\\Users\\Ashwin Dev\\anaconda3\\lib\\site-packages\\pandas\\core\\indexes\\base.py\", line 3623, in get_loc\n",
      "    raise KeyError(key) from err\n",
      "KeyError: Timestamp('2022-08-22 17:11:00')\n",
      "\n",
      "The above exception was the direct cause of the following exception:\n",
      "\n",
      "Traceback (most recent call last):\n",
      "  File \"C:\\Users\\Ashwin Dev\\anaconda3\\lib\\threading.py\", line 973, in _bootstrap_inner\n",
      "    self.run()\n",
      "  File \"C:\\Users\\Ashwin Dev\\anaconda3\\lib\\threading.py\", line 910, in run\n",
      "    self._target(*self._args, **self._kwargs)\n",
      "  File \"C:\\Users\\Ashwin Dev\\anaconda3\\lib\\site-packages\\socketio\\client.py\", line 615, in _handle_eio_message\n",
      "    self._handle_event(pkt.namespace, pkt.id, pkt.data)\n",
      "  File \"C:\\Users\\Ashwin Dev\\anaconda3\\lib\\site-packages\\socketio\\client.py\", line 501, in _handle_event\n",
      "    r = self._trigger_event(data[0], namespace, *data[1:])\n",
      "  File \"C:\\Users\\Ashwin Dev\\anaconda3\\lib\\site-packages\\socketio\\client.py\", line 547, in _trigger_event\n",
      "    return self.handlers[namespace][event](*args)\n",
      "  File \"C:\\Users\\Ashwin Dev\\anaconda3\\lib\\site-packages\\fxcmpy\\fxcmpy.py\", line 2575, in __on_price_update__\n",
      "    callbacks[func](data, self.prices[symbol])\n",
      "  File \"C:\\Users\\Ashwin Dev\\AppData\\Local\\Temp\\ipykernel_1184\\3388473720.py\", line 35, in get_tick_data\n",
      "  File \"C:\\Users\\Ashwin Dev\\anaconda3\\lib\\site-packages\\pandas\\core\\indexing.py\", line 961, in __getitem__\n",
      "    return self._getitem_tuple(key)\n",
      "  File \"C:\\Users\\Ashwin Dev\\anaconda3\\lib\\site-packages\\pandas\\core\\indexing.py\", line 1149, in _getitem_tuple\n",
      "    return self._getitem_tuple_same_dim(tup)\n",
      "  File \"C:\\Users\\Ashwin Dev\\anaconda3\\lib\\site-packages\\pandas\\core\\indexing.py\", line 827, in _getitem_tuple_same_dim\n",
      "    retval = getattr(retval, self.name)._getitem_axis(key, axis=i)\n",
      "  File \"C:\\Users\\Ashwin Dev\\anaconda3\\lib\\site-packages\\pandas\\core\\indexing.py\", line 1180, in _getitem_axis\n",
      "    return self._get_slice_axis(key, axis=axis)\n",
      "  File \"C:\\Users\\Ashwin Dev\\anaconda3\\lib\\site-packages\\pandas\\core\\indexing.py\", line 1214, in _get_slice_axis\n",
      "    indexer = labels.slice_indexer(slice_obj.start, slice_obj.stop, slice_obj.step)\n",
      "  File \"C:\\Users\\Ashwin Dev\\anaconda3\\lib\\site-packages\\pandas\\core\\indexes\\datetimes.py\", line 743, in slice_indexer\n",
      "    return Index.slice_indexer(self, start, end, step, kind=kind)\n",
      "  File \"C:\\Users\\Ashwin Dev\\anaconda3\\lib\\site-packages\\pandas\\core\\indexes\\base.py\", line 6274, in slice_indexer\n",
      "    start_slice, end_slice = self.slice_locs(start, end, step=step)\n",
      "  File \"C:\\Users\\Ashwin Dev\\anaconda3\\lib\\site-packages\\pandas\\core\\indexes\\base.py\", line 6484, in slice_locs\n",
      "    start_slice = self.get_slice_bound(start, \"left\")\n",
      "  File \"C:\\Users\\Ashwin Dev\\anaconda3\\lib\\site-packages\\pandas\\core\\indexes\\datetimes.py\", line 778, in get_slice_bound\n",
      "    return super().get_slice_bound(label, side=side, kind=kind)\n",
      "  File \"C:\\Users\\Ashwin Dev\\anaconda3\\lib\\site-packages\\pandas\\core\\indexes\\base.py\", line 6403, in get_slice_bound\n",
      "    raise err\n",
      "  File \"C:\\Users\\Ashwin Dev\\anaconda3\\lib\\site-packages\\pandas\\core\\indexes\\base.py\", line 6397, in get_slice_bound\n",
      "    slc = self.get_loc(label)\n",
      "  File \"C:\\Users\\Ashwin Dev\\anaconda3\\lib\\site-packages\\pandas\\core\\indexes\\datetimes.py\", line 681, in get_loc\n",
      "    raise KeyError(orig_key) from err\n",
      "KeyError: Timestamp('2022-08-22 17:11:00')\n"
     ]
    },
    {
     "name": "stdout",
     "output_type": "stream",
     "text": [
      "36 "
     ]
    },
    {
     "name": "stderr",
     "output_type": "stream",
     "text": [
      "Exception in thread Thread-3346:\n",
      "Traceback (most recent call last):\n",
      "  File \"pandas\\_libs\\index.pyx\", line 545, in pandas._libs.index.DatetimeEngine.get_loc\n",
      "  File \"pandas\\_libs\\hashtable_class_helper.pxi\", line 2131, in pandas._libs.hashtable.Int64HashTable.get_item\n",
      "  File \"pandas\\_libs\\hashtable_class_helper.pxi\", line 2140, in pandas._libs.hashtable.Int64HashTable.get_item\n",
      "KeyError: 1661188260000000000\n",
      "\n",
      "During handling of the above exception, another exception occurred:\n",
      "\n",
      "Traceback (most recent call last):\n",
      "  File \"C:\\Users\\Ashwin Dev\\anaconda3\\lib\\site-packages\\pandas\\core\\indexes\\base.py\", line 3621, in get_loc\n",
      "    return self._engine.get_loc(casted_key)\n",
      "  File \"pandas\\_libs\\index.pyx\", line 513, in pandas._libs.index.DatetimeEngine.get_loc\n",
      "  File \"pandas\\_libs\\index.pyx\", line 547, in pandas._libs.index.DatetimeEngine.get_loc\n",
      "KeyError: Timestamp('2022-08-22 17:11:00')\n",
      "\n",
      "The above exception was the direct cause of the following exception:\n",
      "\n",
      "Traceback (most recent call last):\n",
      "  File \"C:\\Users\\Ashwin Dev\\anaconda3\\lib\\site-packages\\pandas\\core\\indexes\\datetimes.py\", line 679, in get_loc\n",
      "    return Index.get_loc(self, key, method, tolerance)\n",
      "  File \"C:\\Users\\Ashwin Dev\\anaconda3\\lib\\site-packages\\pandas\\core\\indexes\\base.py\", line 3623, in get_loc\n",
      "    raise KeyError(key) from err\n",
      "KeyError: Timestamp('2022-08-22 17:11:00')\n",
      "\n",
      "The above exception was the direct cause of the following exception:\n",
      "\n",
      "Traceback (most recent call last):\n",
      "  File \"C:\\Users\\Ashwin Dev\\anaconda3\\lib\\threading.py\", line 973, in _bootstrap_inner\n",
      "    self.run()\n",
      "  File \"C:\\Users\\Ashwin Dev\\anaconda3\\lib\\threading.py\", line 910, in run\n",
      "    self._target(*self._args, **self._kwargs)\n",
      "  File \"C:\\Users\\Ashwin Dev\\anaconda3\\lib\\site-packages\\socketio\\client.py\", line 615, in _handle_eio_message\n",
      "    self._handle_event(pkt.namespace, pkt.id, pkt.data)\n",
      "  File \"C:\\Users\\Ashwin Dev\\anaconda3\\lib\\site-packages\\socketio\\client.py\", line 501, in _handle_event\n",
      "    r = self._trigger_event(data[0], namespace, *data[1:])\n",
      "  File \"C:\\Users\\Ashwin Dev\\anaconda3\\lib\\site-packages\\socketio\\client.py\", line 547, in _trigger_event\n",
      "    return self.handlers[namespace][event](*args)\n",
      "  File \"C:\\Users\\Ashwin Dev\\anaconda3\\lib\\site-packages\\fxcmpy\\fxcmpy.py\", line 2575, in __on_price_update__\n",
      "    callbacks[func](data, self.prices[symbol])\n",
      "  File \"C:\\Users\\Ashwin Dev\\AppData\\Local\\Temp\\ipykernel_1184\\3388473720.py\", line 35, in get_tick_data\n",
      "  File \"C:\\Users\\Ashwin Dev\\anaconda3\\lib\\site-packages\\pandas\\core\\indexing.py\", line 961, in __getitem__\n",
      "    return self._getitem_tuple(key)\n",
      "  File \"C:\\Users\\Ashwin Dev\\anaconda3\\lib\\site-packages\\pandas\\core\\indexing.py\", line 1149, in _getitem_tuple\n",
      "    return self._getitem_tuple_same_dim(tup)\n",
      "  File \"C:\\Users\\Ashwin Dev\\anaconda3\\lib\\site-packages\\pandas\\core\\indexing.py\", line 827, in _getitem_tuple_same_dim\n",
      "    retval = getattr(retval, self.name)._getitem_axis(key, axis=i)\n",
      "  File \"C:\\Users\\Ashwin Dev\\anaconda3\\lib\\site-packages\\pandas\\core\\indexing.py\", line 1180, in _getitem_axis\n",
      "    return self._get_slice_axis(key, axis=axis)\n",
      "  File \"C:\\Users\\Ashwin Dev\\anaconda3\\lib\\site-packages\\pandas\\core\\indexing.py\", line 1214, in _get_slice_axis\n",
      "    indexer = labels.slice_indexer(slice_obj.start, slice_obj.stop, slice_obj.step)\n",
      "  File \"C:\\Users\\Ashwin Dev\\anaconda3\\lib\\site-packages\\pandas\\core\\indexes\\datetimes.py\", line 743, in slice_indexer\n",
      "    return Index.slice_indexer(self, start, end, step, kind=kind)\n",
      "  File \"C:\\Users\\Ashwin Dev\\anaconda3\\lib\\site-packages\\pandas\\core\\indexes\\base.py\", line 6274, in slice_indexer\n",
      "    start_slice, end_slice = self.slice_locs(start, end, step=step)\n",
      "  File \"C:\\Users\\Ashwin Dev\\anaconda3\\lib\\site-packages\\pandas\\core\\indexes\\base.py\", line 6484, in slice_locs\n",
      "    start_slice = self.get_slice_bound(start, \"left\")\n",
      "  File \"C:\\Users\\Ashwin Dev\\anaconda3\\lib\\site-packages\\pandas\\core\\indexes\\datetimes.py\", line 778, in get_slice_bound\n",
      "    return super().get_slice_bound(label, side=side, kind=kind)\n",
      "  File \"C:\\Users\\Ashwin Dev\\anaconda3\\lib\\site-packages\\pandas\\core\\indexes\\base.py\", line 6403, in get_slice_bound\n",
      "    raise err\n",
      "  File \"C:\\Users\\Ashwin Dev\\anaconda3\\lib\\site-packages\\pandas\\core\\indexes\\base.py\", line 6397, in get_slice_bound\n",
      "    slc = self.get_loc(label)\n",
      "  File \"C:\\Users\\Ashwin Dev\\anaconda3\\lib\\site-packages\\pandas\\core\\indexes\\datetimes.py\", line 681, in get_loc\n",
      "    raise KeyError(orig_key) from err\n",
      "KeyError: Timestamp('2022-08-22 17:11:00')\n"
     ]
    },
    {
     "name": "stdout",
     "output_type": "stream",
     "text": [
      "37 "
     ]
    },
    {
     "name": "stderr",
     "output_type": "stream",
     "text": [
      "Exception in thread Thread-3353:\n",
      "Traceback (most recent call last):\n",
      "  File \"pandas\\_libs\\index.pyx\", line 545, in pandas._libs.index.DatetimeEngine.get_loc\n",
      "  File \"pandas\\_libs\\hashtable_class_helper.pxi\", line 2131, in pandas._libs.hashtable.Int64HashTable.get_item\n",
      "  File \"pandas\\_libs\\hashtable_class_helper.pxi\", line 2140, in pandas._libs.hashtable.Int64HashTable.get_item\n",
      "KeyError: 1661188260000000000\n",
      "\n",
      "During handling of the above exception, another exception occurred:\n",
      "\n",
      "Traceback (most recent call last):\n",
      "  File \"C:\\Users\\Ashwin Dev\\anaconda3\\lib\\site-packages\\pandas\\core\\indexes\\base.py\", line 3621, in get_loc\n",
      "    return self._engine.get_loc(casted_key)\n",
      "  File \"pandas\\_libs\\index.pyx\", line 513, in pandas._libs.index.DatetimeEngine.get_loc\n",
      "  File \"pandas\\_libs\\index.pyx\", line 547, in pandas._libs.index.DatetimeEngine.get_loc\n",
      "KeyError: Timestamp('2022-08-22 17:11:00')\n",
      "\n",
      "The above exception was the direct cause of the following exception:\n",
      "\n",
      "Traceback (most recent call last):\n",
      "  File \"C:\\Users\\Ashwin Dev\\anaconda3\\lib\\site-packages\\pandas\\core\\indexes\\datetimes.py\", line 679, in get_loc\n",
      "    return Index.get_loc(self, key, method, tolerance)\n",
      "  File \"C:\\Users\\Ashwin Dev\\anaconda3\\lib\\site-packages\\pandas\\core\\indexes\\base.py\", line 3623, in get_loc\n",
      "    raise KeyError(key) from err\n",
      "KeyError: Timestamp('2022-08-22 17:11:00')\n",
      "\n",
      "The above exception was the direct cause of the following exception:\n",
      "\n",
      "Traceback (most recent call last):\n",
      "  File \"C:\\Users\\Ashwin Dev\\anaconda3\\lib\\threading.py\", line 973, in _bootstrap_inner\n",
      "    self.run()\n",
      "  File \"C:\\Users\\Ashwin Dev\\anaconda3\\lib\\threading.py\", line 910, in run\n",
      "    self._target(*self._args, **self._kwargs)\n",
      "  File \"C:\\Users\\Ashwin Dev\\anaconda3\\lib\\site-packages\\socketio\\client.py\", line 615, in _handle_eio_message\n",
      "    self._handle_event(pkt.namespace, pkt.id, pkt.data)\n",
      "  File \"C:\\Users\\Ashwin Dev\\anaconda3\\lib\\site-packages\\socketio\\client.py\", line 501, in _handle_event\n",
      "    r = self._trigger_event(data[0], namespace, *data[1:])\n",
      "  File \"C:\\Users\\Ashwin Dev\\anaconda3\\lib\\site-packages\\socketio\\client.py\", line 547, in _trigger_event\n",
      "    return self.handlers[namespace][event](*args)\n",
      "  File \"C:\\Users\\Ashwin Dev\\anaconda3\\lib\\site-packages\\fxcmpy\\fxcmpy.py\", line 2575, in __on_price_update__\n",
      "    callbacks[func](data, self.prices[symbol])\n",
      "  File \"C:\\Users\\Ashwin Dev\\AppData\\Local\\Temp\\ipykernel_1184\\3388473720.py\", line 35, in get_tick_data\n",
      "  File \"C:\\Users\\Ashwin Dev\\anaconda3\\lib\\site-packages\\pandas\\core\\indexing.py\", line 961, in __getitem__\n",
      "    return self._getitem_tuple(key)\n",
      "  File \"C:\\Users\\Ashwin Dev\\anaconda3\\lib\\site-packages\\pandas\\core\\indexing.py\", line 1149, in _getitem_tuple\n",
      "    return self._getitem_tuple_same_dim(tup)\n",
      "  File \"C:\\Users\\Ashwin Dev\\anaconda3\\lib\\site-packages\\pandas\\core\\indexing.py\", line 827, in _getitem_tuple_same_dim\n",
      "    retval = getattr(retval, self.name)._getitem_axis(key, axis=i)\n",
      "  File \"C:\\Users\\Ashwin Dev\\anaconda3\\lib\\site-packages\\pandas\\core\\indexing.py\", line 1180, in _getitem_axis\n",
      "    return self._get_slice_axis(key, axis=axis)\n",
      "  File \"C:\\Users\\Ashwin Dev\\anaconda3\\lib\\site-packages\\pandas\\core\\indexing.py\", line 1214, in _get_slice_axis\n",
      "    indexer = labels.slice_indexer(slice_obj.start, slice_obj.stop, slice_obj.step)\n",
      "  File \"C:\\Users\\Ashwin Dev\\anaconda3\\lib\\site-packages\\pandas\\core\\indexes\\datetimes.py\", line 743, in slice_indexer\n",
      "    return Index.slice_indexer(self, start, end, step, kind=kind)\n",
      "  File \"C:\\Users\\Ashwin Dev\\anaconda3\\lib\\site-packages\\pandas\\core\\indexes\\base.py\", line 6274, in slice_indexer\n",
      "    start_slice, end_slice = self.slice_locs(start, end, step=step)\n",
      "  File \"C:\\Users\\Ashwin Dev\\anaconda3\\lib\\site-packages\\pandas\\core\\indexes\\base.py\", line 6484, in slice_locs\n",
      "    start_slice = self.get_slice_bound(start, \"left\")\n",
      "  File \"C:\\Users\\Ashwin Dev\\anaconda3\\lib\\site-packages\\pandas\\core\\indexes\\datetimes.py\", line 778, in get_slice_bound\n",
      "    return super().get_slice_bound(label, side=side, kind=kind)\n",
      "  File \"C:\\Users\\Ashwin Dev\\anaconda3\\lib\\site-packages\\pandas\\core\\indexes\\base.py\", line 6403, in get_slice_bound\n",
      "    raise err\n",
      "  File \"C:\\Users\\Ashwin Dev\\anaconda3\\lib\\site-packages\\pandas\\core\\indexes\\base.py\", line 6397, in get_slice_bound\n",
      "    slc = self.get_loc(label)\n",
      "  File \"C:\\Users\\Ashwin Dev\\anaconda3\\lib\\site-packages\\pandas\\core\\indexes\\datetimes.py\", line 681, in get_loc\n",
      "    raise KeyError(orig_key) from err\n",
      "KeyError: Timestamp('2022-08-22 17:11:00')\n"
     ]
    },
    {
     "name": "stdout",
     "output_type": "stream",
     "text": [
      "38 "
     ]
    },
    {
     "name": "stderr",
     "output_type": "stream",
     "text": [
      "Exception in thread Thread-3366:\n",
      "Traceback (most recent call last):\n",
      "  File \"pandas\\_libs\\index.pyx\", line 545, in pandas._libs.index.DatetimeEngine.get_loc\n",
      "  File \"pandas\\_libs\\hashtable_class_helper.pxi\", line 2131, in pandas._libs.hashtable.Int64HashTable.get_item\n",
      "  File \"pandas\\_libs\\hashtable_class_helper.pxi\", line 2140, in pandas._libs.hashtable.Int64HashTable.get_item\n",
      "KeyError: 1661188260000000000\n",
      "\n",
      "During handling of the above exception, another exception occurred:\n",
      "\n",
      "Traceback (most recent call last):\n",
      "  File \"C:\\Users\\Ashwin Dev\\anaconda3\\lib\\site-packages\\pandas\\core\\indexes\\base.py\", line 3621, in get_loc\n",
      "    return self._engine.get_loc(casted_key)\n",
      "  File \"pandas\\_libs\\index.pyx\", line 513, in pandas._libs.index.DatetimeEngine.get_loc\n",
      "  File \"pandas\\_libs\\index.pyx\", line 547, in pandas._libs.index.DatetimeEngine.get_loc\n",
      "KeyError: Timestamp('2022-08-22 17:11:00')\n",
      "\n",
      "The above exception was the direct cause of the following exception:\n",
      "\n",
      "Traceback (most recent call last):\n",
      "  File \"C:\\Users\\Ashwin Dev\\anaconda3\\lib\\site-packages\\pandas\\core\\indexes\\datetimes.py\", line 679, in get_loc\n",
      "    return Index.get_loc(self, key, method, tolerance)\n",
      "  File \"C:\\Users\\Ashwin Dev\\anaconda3\\lib\\site-packages\\pandas\\core\\indexes\\base.py\", line 3623, in get_loc\n",
      "    raise KeyError(key) from err\n",
      "KeyError: Timestamp('2022-08-22 17:11:00')\n",
      "\n",
      "The above exception was the direct cause of the following exception:\n",
      "\n",
      "Traceback (most recent call last):\n",
      "  File \"C:\\Users\\Ashwin Dev\\anaconda3\\lib\\threading.py\", line 973, in _bootstrap_inner\n",
      "    self.run()\n",
      "  File \"C:\\Users\\Ashwin Dev\\anaconda3\\lib\\threading.py\", line 910, in run\n",
      "    self._target(*self._args, **self._kwargs)\n",
      "  File \"C:\\Users\\Ashwin Dev\\anaconda3\\lib\\site-packages\\socketio\\client.py\", line 615, in _handle_eio_message\n",
      "    self._handle_event(pkt.namespace, pkt.id, pkt.data)\n",
      "  File \"C:\\Users\\Ashwin Dev\\anaconda3\\lib\\site-packages\\socketio\\client.py\", line 501, in _handle_event\n",
      "    r = self._trigger_event(data[0], namespace, *data[1:])\n",
      "  File \"C:\\Users\\Ashwin Dev\\anaconda3\\lib\\site-packages\\socketio\\client.py\", line 547, in _trigger_event\n",
      "    return self.handlers[namespace][event](*args)\n",
      "  File \"C:\\Users\\Ashwin Dev\\anaconda3\\lib\\site-packages\\fxcmpy\\fxcmpy.py\", line 2575, in __on_price_update__\n",
      "    callbacks[func](data, self.prices[symbol])\n",
      "  File \"C:\\Users\\Ashwin Dev\\AppData\\Local\\Temp\\ipykernel_1184\\3388473720.py\", line 35, in get_tick_data\n",
      "  File \"C:\\Users\\Ashwin Dev\\anaconda3\\lib\\site-packages\\pandas\\core\\indexing.py\", line 961, in __getitem__\n",
      "    return self._getitem_tuple(key)\n",
      "  File \"C:\\Users\\Ashwin Dev\\anaconda3\\lib\\site-packages\\pandas\\core\\indexing.py\", line 1149, in _getitem_tuple\n",
      "    return self._getitem_tuple_same_dim(tup)\n",
      "  File \"C:\\Users\\Ashwin Dev\\anaconda3\\lib\\site-packages\\pandas\\core\\indexing.py\", line 827, in _getitem_tuple_same_dim\n",
      "    retval = getattr(retval, self.name)._getitem_axis(key, axis=i)\n",
      "  File \"C:\\Users\\Ashwin Dev\\anaconda3\\lib\\site-packages\\pandas\\core\\indexing.py\", line 1180, in _getitem_axis\n",
      "    return self._get_slice_axis(key, axis=axis)\n",
      "  File \"C:\\Users\\Ashwin Dev\\anaconda3\\lib\\site-packages\\pandas\\core\\indexing.py\", line 1214, in _get_slice_axis\n",
      "    indexer = labels.slice_indexer(slice_obj.start, slice_obj.stop, slice_obj.step)\n",
      "  File \"C:\\Users\\Ashwin Dev\\anaconda3\\lib\\site-packages\\pandas\\core\\indexes\\datetimes.py\", line 743, in slice_indexer\n",
      "    return Index.slice_indexer(self, start, end, step, kind=kind)\n",
      "  File \"C:\\Users\\Ashwin Dev\\anaconda3\\lib\\site-packages\\pandas\\core\\indexes\\base.py\", line 6274, in slice_indexer\n",
      "    start_slice, end_slice = self.slice_locs(start, end, step=step)\n",
      "  File \"C:\\Users\\Ashwin Dev\\anaconda3\\lib\\site-packages\\pandas\\core\\indexes\\base.py\", line 6484, in slice_locs\n",
      "    start_slice = self.get_slice_bound(start, \"left\")\n",
      "  File \"C:\\Users\\Ashwin Dev\\anaconda3\\lib\\site-packages\\pandas\\core\\indexes\\datetimes.py\", line 778, in get_slice_bound\n",
      "    return super().get_slice_bound(label, side=side, kind=kind)\n",
      "  File \"C:\\Users\\Ashwin Dev\\anaconda3\\lib\\site-packages\\pandas\\core\\indexes\\base.py\", line 6403, in get_slice_bound\n",
      "    raise err\n",
      "  File \"C:\\Users\\Ashwin Dev\\anaconda3\\lib\\site-packages\\pandas\\core\\indexes\\base.py\", line 6397, in get_slice_bound\n",
      "    slc = self.get_loc(label)\n",
      "  File \"C:\\Users\\Ashwin Dev\\anaconda3\\lib\\site-packages\\pandas\\core\\indexes\\datetimes.py\", line 681, in get_loc\n",
      "    raise KeyError(orig_key) from err\n",
      "KeyError: Timestamp('2022-08-22 17:11:00')\n"
     ]
    },
    {
     "name": "stdout",
     "output_type": "stream",
     "text": [
      "39 "
     ]
    },
    {
     "name": "stderr",
     "output_type": "stream",
     "text": [
      "Exception in thread Thread-3378:\n",
      "Traceback (most recent call last):\n",
      "  File \"pandas\\_libs\\index.pyx\", line 545, in pandas._libs.index.DatetimeEngine.get_loc\n",
      "  File \"pandas\\_libs\\hashtable_class_helper.pxi\", line 2131, in pandas._libs.hashtable.Int64HashTable.get_item\n",
      "  File \"pandas\\_libs\\hashtable_class_helper.pxi\", line 2140, in pandas._libs.hashtable.Int64HashTable.get_item\n",
      "KeyError: 1661188260000000000\n",
      "\n",
      "During handling of the above exception, another exception occurred:\n",
      "\n",
      "Traceback (most recent call last):\n",
      "  File \"C:\\Users\\Ashwin Dev\\anaconda3\\lib\\site-packages\\pandas\\core\\indexes\\base.py\", line 3621, in get_loc\n",
      "    return self._engine.get_loc(casted_key)\n",
      "  File \"pandas\\_libs\\index.pyx\", line 513, in pandas._libs.index.DatetimeEngine.get_loc\n",
      "  File \"pandas\\_libs\\index.pyx\", line 547, in pandas._libs.index.DatetimeEngine.get_loc\n",
      "KeyError: Timestamp('2022-08-22 17:11:00')\n",
      "\n",
      "The above exception was the direct cause of the following exception:\n",
      "\n",
      "Traceback (most recent call last):\n",
      "  File \"C:\\Users\\Ashwin Dev\\anaconda3\\lib\\site-packages\\pandas\\core\\indexes\\datetimes.py\", line 679, in get_loc\n",
      "    return Index.get_loc(self, key, method, tolerance)\n",
      "  File \"C:\\Users\\Ashwin Dev\\anaconda3\\lib\\site-packages\\pandas\\core\\indexes\\base.py\", line 3623, in get_loc\n",
      "    raise KeyError(key) from err\n",
      "KeyError: Timestamp('2022-08-22 17:11:00')\n",
      "\n",
      "The above exception was the direct cause of the following exception:\n",
      "\n",
      "Traceback (most recent call last):\n",
      "  File \"C:\\Users\\Ashwin Dev\\anaconda3\\lib\\threading.py\", line 973, in _bootstrap_inner\n",
      "    self.run()\n",
      "  File \"C:\\Users\\Ashwin Dev\\anaconda3\\lib\\threading.py\", line 910, in run\n",
      "    self._target(*self._args, **self._kwargs)\n",
      "  File \"C:\\Users\\Ashwin Dev\\anaconda3\\lib\\site-packages\\socketio\\client.py\", line 615, in _handle_eio_message\n",
      "    self._handle_event(pkt.namespace, pkt.id, pkt.data)\n",
      "  File \"C:\\Users\\Ashwin Dev\\anaconda3\\lib\\site-packages\\socketio\\client.py\", line 501, in _handle_event\n",
      "    r = self._trigger_event(data[0], namespace, *data[1:])\n",
      "  File \"C:\\Users\\Ashwin Dev\\anaconda3\\lib\\site-packages\\socketio\\client.py\", line 547, in _trigger_event\n",
      "    return self.handlers[namespace][event](*args)\n",
      "  File \"C:\\Users\\Ashwin Dev\\anaconda3\\lib\\site-packages\\fxcmpy\\fxcmpy.py\", line 2575, in __on_price_update__\n",
      "    callbacks[func](data, self.prices[symbol])\n",
      "  File \"C:\\Users\\Ashwin Dev\\AppData\\Local\\Temp\\ipykernel_1184\\3388473720.py\", line 35, in get_tick_data\n",
      "  File \"C:\\Users\\Ashwin Dev\\anaconda3\\lib\\site-packages\\pandas\\core\\indexing.py\", line 961, in __getitem__\n",
      "    return self._getitem_tuple(key)\n",
      "  File \"C:\\Users\\Ashwin Dev\\anaconda3\\lib\\site-packages\\pandas\\core\\indexing.py\", line 1149, in _getitem_tuple\n",
      "    return self._getitem_tuple_same_dim(tup)\n",
      "  File \"C:\\Users\\Ashwin Dev\\anaconda3\\lib\\site-packages\\pandas\\core\\indexing.py\", line 827, in _getitem_tuple_same_dim\n",
      "    retval = getattr(retval, self.name)._getitem_axis(key, axis=i)\n",
      "  File \"C:\\Users\\Ashwin Dev\\anaconda3\\lib\\site-packages\\pandas\\core\\indexing.py\", line 1180, in _getitem_axis\n",
      "    return self._get_slice_axis(key, axis=axis)\n",
      "  File \"C:\\Users\\Ashwin Dev\\anaconda3\\lib\\site-packages\\pandas\\core\\indexing.py\", line 1214, in _get_slice_axis\n",
      "    indexer = labels.slice_indexer(slice_obj.start, slice_obj.stop, slice_obj.step)\n",
      "  File \"C:\\Users\\Ashwin Dev\\anaconda3\\lib\\site-packages\\pandas\\core\\indexes\\datetimes.py\", line 743, in slice_indexer\n",
      "    return Index.slice_indexer(self, start, end, step, kind=kind)\n",
      "  File \"C:\\Users\\Ashwin Dev\\anaconda3\\lib\\site-packages\\pandas\\core\\indexes\\base.py\", line 6274, in slice_indexer\n",
      "    start_slice, end_slice = self.slice_locs(start, end, step=step)\n",
      "  File \"C:\\Users\\Ashwin Dev\\anaconda3\\lib\\site-packages\\pandas\\core\\indexes\\base.py\", line 6484, in slice_locs\n",
      "    start_slice = self.get_slice_bound(start, \"left\")\n",
      "  File \"C:\\Users\\Ashwin Dev\\anaconda3\\lib\\site-packages\\pandas\\core\\indexes\\datetimes.py\", line 778, in get_slice_bound\n",
      "    return super().get_slice_bound(label, side=side, kind=kind)\n",
      "  File \"C:\\Users\\Ashwin Dev\\anaconda3\\lib\\site-packages\\pandas\\core\\indexes\\base.py\", line 6403, in get_slice_bound\n",
      "    raise err\n",
      "  File \"C:\\Users\\Ashwin Dev\\anaconda3\\lib\\site-packages\\pandas\\core\\indexes\\base.py\", line 6397, in get_slice_bound\n",
      "    slc = self.get_loc(label)\n",
      "  File \"C:\\Users\\Ashwin Dev\\anaconda3\\lib\\site-packages\\pandas\\core\\indexes\\datetimes.py\", line 681, in get_loc\n",
      "    raise KeyError(orig_key) from err\n",
      "KeyError: Timestamp('2022-08-22 17:11:00')\n"
     ]
    },
    {
     "name": "stdout",
     "output_type": "stream",
     "text": [
      "40 "
     ]
    },
    {
     "name": "stderr",
     "output_type": "stream",
     "text": [
      "Exception in thread Thread-3385:\n",
      "Traceback (most recent call last):\n",
      "  File \"pandas\\_libs\\index.pyx\", line 545, in pandas._libs.index.DatetimeEngine.get_loc\n",
      "  File \"pandas\\_libs\\hashtable_class_helper.pxi\", line 2131, in pandas._libs.hashtable.Int64HashTable.get_item\n",
      "  File \"pandas\\_libs\\hashtable_class_helper.pxi\", line 2140, in pandas._libs.hashtable.Int64HashTable.get_item\n",
      "KeyError: 1661188260000000000\n",
      "\n",
      "During handling of the above exception, another exception occurred:\n",
      "\n",
      "Traceback (most recent call last):\n",
      "  File \"C:\\Users\\Ashwin Dev\\anaconda3\\lib\\site-packages\\pandas\\core\\indexes\\base.py\", line 3621, in get_loc\n",
      "    return self._engine.get_loc(casted_key)\n",
      "  File \"pandas\\_libs\\index.pyx\", line 513, in pandas._libs.index.DatetimeEngine.get_loc\n",
      "  File \"pandas\\_libs\\index.pyx\", line 547, in pandas._libs.index.DatetimeEngine.get_loc\n",
      "KeyError: Timestamp('2022-08-22 17:11:00')\n",
      "\n",
      "The above exception was the direct cause of the following exception:\n",
      "\n",
      "Traceback (most recent call last):\n",
      "  File \"C:\\Users\\Ashwin Dev\\anaconda3\\lib\\site-packages\\pandas\\core\\indexes\\datetimes.py\", line 679, in get_loc\n",
      "    return Index.get_loc(self, key, method, tolerance)\n",
      "  File \"C:\\Users\\Ashwin Dev\\anaconda3\\lib\\site-packages\\pandas\\core\\indexes\\base.py\", line 3623, in get_loc\n",
      "    raise KeyError(key) from err\n",
      "KeyError: Timestamp('2022-08-22 17:11:00')\n",
      "\n",
      "The above exception was the direct cause of the following exception:\n",
      "\n",
      "Traceback (most recent call last):\n",
      "  File \"C:\\Users\\Ashwin Dev\\anaconda3\\lib\\threading.py\", line 973, in _bootstrap_inner\n",
      "    self.run()\n",
      "  File \"C:\\Users\\Ashwin Dev\\anaconda3\\lib\\threading.py\", line 910, in run\n",
      "    self._target(*self._args, **self._kwargs)\n",
      "  File \"C:\\Users\\Ashwin Dev\\anaconda3\\lib\\site-packages\\socketio\\client.py\", line 615, in _handle_eio_message\n",
      "    self._handle_event(pkt.namespace, pkt.id, pkt.data)\n",
      "  File \"C:\\Users\\Ashwin Dev\\anaconda3\\lib\\site-packages\\socketio\\client.py\", line 501, in _handle_event\n",
      "    r = self._trigger_event(data[0], namespace, *data[1:])\n",
      "  File \"C:\\Users\\Ashwin Dev\\anaconda3\\lib\\site-packages\\socketio\\client.py\", line 547, in _trigger_event\n",
      "    return self.handlers[namespace][event](*args)\n",
      "  File \"C:\\Users\\Ashwin Dev\\anaconda3\\lib\\site-packages\\fxcmpy\\fxcmpy.py\", line 2575, in __on_price_update__\n",
      "    callbacks[func](data, self.prices[symbol])\n",
      "  File \"C:\\Users\\Ashwin Dev\\AppData\\Local\\Temp\\ipykernel_1184\\3388473720.py\", line 35, in get_tick_data\n",
      "  File \"C:\\Users\\Ashwin Dev\\anaconda3\\lib\\site-packages\\pandas\\core\\indexing.py\", line 961, in __getitem__\n",
      "    return self._getitem_tuple(key)\n",
      "  File \"C:\\Users\\Ashwin Dev\\anaconda3\\lib\\site-packages\\pandas\\core\\indexing.py\", line 1149, in _getitem_tuple\n",
      "    return self._getitem_tuple_same_dim(tup)\n",
      "  File \"C:\\Users\\Ashwin Dev\\anaconda3\\lib\\site-packages\\pandas\\core\\indexing.py\", line 827, in _getitem_tuple_same_dim\n",
      "    retval = getattr(retval, self.name)._getitem_axis(key, axis=i)\n",
      "  File \"C:\\Users\\Ashwin Dev\\anaconda3\\lib\\site-packages\\pandas\\core\\indexing.py\", line 1180, in _getitem_axis\n",
      "    return self._get_slice_axis(key, axis=axis)\n",
      "  File \"C:\\Users\\Ashwin Dev\\anaconda3\\lib\\site-packages\\pandas\\core\\indexing.py\", line 1214, in _get_slice_axis\n",
      "    indexer = labels.slice_indexer(slice_obj.start, slice_obj.stop, slice_obj.step)\n",
      "  File \"C:\\Users\\Ashwin Dev\\anaconda3\\lib\\site-packages\\pandas\\core\\indexes\\datetimes.py\", line 743, in slice_indexer\n",
      "    return Index.slice_indexer(self, start, end, step, kind=kind)\n",
      "  File \"C:\\Users\\Ashwin Dev\\anaconda3\\lib\\site-packages\\pandas\\core\\indexes\\base.py\", line 6274, in slice_indexer\n",
      "    start_slice, end_slice = self.slice_locs(start, end, step=step)\n",
      "  File \"C:\\Users\\Ashwin Dev\\anaconda3\\lib\\site-packages\\pandas\\core\\indexes\\base.py\", line 6484, in slice_locs\n",
      "    start_slice = self.get_slice_bound(start, \"left\")\n",
      "  File \"C:\\Users\\Ashwin Dev\\anaconda3\\lib\\site-packages\\pandas\\core\\indexes\\datetimes.py\", line 778, in get_slice_bound\n",
      "    return super().get_slice_bound(label, side=side, kind=kind)\n",
      "  File \"C:\\Users\\Ashwin Dev\\anaconda3\\lib\\site-packages\\pandas\\core\\indexes\\base.py\", line 6403, in get_slice_bound\n",
      "    raise err\n",
      "  File \"C:\\Users\\Ashwin Dev\\anaconda3\\lib\\site-packages\\pandas\\core\\indexes\\base.py\", line 6397, in get_slice_bound\n",
      "    slc = self.get_loc(label)\n",
      "  File \"C:\\Users\\Ashwin Dev\\anaconda3\\lib\\site-packages\\pandas\\core\\indexes\\datetimes.py\", line 681, in get_loc\n",
      "    raise KeyError(orig_key) from err\n",
      "KeyError: Timestamp('2022-08-22 17:11:00')\n"
     ]
    },
    {
     "name": "stdout",
     "output_type": "stream",
     "text": [
      "41 "
     ]
    },
    {
     "name": "stderr",
     "output_type": "stream",
     "text": [
      "Exception in thread Thread-3394:\n",
      "Traceback (most recent call last):\n",
      "  File \"pandas\\_libs\\index.pyx\", line 545, in pandas._libs.index.DatetimeEngine.get_loc\n",
      "  File \"pandas\\_libs\\hashtable_class_helper.pxi\", line 2131, in pandas._libs.hashtable.Int64HashTable.get_item\n",
      "  File \"pandas\\_libs\\hashtable_class_helper.pxi\", line 2140, in pandas._libs.hashtable.Int64HashTable.get_item\n",
      "KeyError: 1661188260000000000\n",
      "\n",
      "During handling of the above exception, another exception occurred:\n",
      "\n",
      "Traceback (most recent call last):\n",
      "  File \"C:\\Users\\Ashwin Dev\\anaconda3\\lib\\site-packages\\pandas\\core\\indexes\\base.py\", line 3621, in get_loc\n",
      "    return self._engine.get_loc(casted_key)\n",
      "  File \"pandas\\_libs\\index.pyx\", line 513, in pandas._libs.index.DatetimeEngine.get_loc\n",
      "  File \"pandas\\_libs\\index.pyx\", line 547, in pandas._libs.index.DatetimeEngine.get_loc\n",
      "KeyError: Timestamp('2022-08-22 17:11:00')\n",
      "\n",
      "The above exception was the direct cause of the following exception:\n",
      "\n",
      "Traceback (most recent call last):\n",
      "  File \"C:\\Users\\Ashwin Dev\\anaconda3\\lib\\site-packages\\pandas\\core\\indexes\\datetimes.py\", line 679, in get_loc\n",
      "    return Index.get_loc(self, key, method, tolerance)\n",
      "  File \"C:\\Users\\Ashwin Dev\\anaconda3\\lib\\site-packages\\pandas\\core\\indexes\\base.py\", line 3623, in get_loc\n",
      "    raise KeyError(key) from err\n",
      "KeyError: Timestamp('2022-08-22 17:11:00')\n",
      "\n",
      "The above exception was the direct cause of the following exception:\n",
      "\n",
      "Traceback (most recent call last):\n",
      "  File \"C:\\Users\\Ashwin Dev\\anaconda3\\lib\\threading.py\", line 973, in _bootstrap_inner\n",
      "    self.run()\n",
      "  File \"C:\\Users\\Ashwin Dev\\anaconda3\\lib\\threading.py\", line 910, in run\n",
      "    self._target(*self._args, **self._kwargs)\n",
      "  File \"C:\\Users\\Ashwin Dev\\anaconda3\\lib\\site-packages\\socketio\\client.py\", line 615, in _handle_eio_message\n",
      "    self._handle_event(pkt.namespace, pkt.id, pkt.data)\n",
      "  File \"C:\\Users\\Ashwin Dev\\anaconda3\\lib\\site-packages\\socketio\\client.py\", line 501, in _handle_event\n",
      "    r = self._trigger_event(data[0], namespace, *data[1:])\n",
      "  File \"C:\\Users\\Ashwin Dev\\anaconda3\\lib\\site-packages\\socketio\\client.py\", line 547, in _trigger_event\n",
      "    return self.handlers[namespace][event](*args)\n",
      "  File \"C:\\Users\\Ashwin Dev\\anaconda3\\lib\\site-packages\\fxcmpy\\fxcmpy.py\", line 2575, in __on_price_update__\n",
      "    callbacks[func](data, self.prices[symbol])\n",
      "  File \"C:\\Users\\Ashwin Dev\\AppData\\Local\\Temp\\ipykernel_1184\\3388473720.py\", line 35, in get_tick_data\n",
      "  File \"C:\\Users\\Ashwin Dev\\anaconda3\\lib\\site-packages\\pandas\\core\\indexing.py\", line 961, in __getitem__\n",
      "    return self._getitem_tuple(key)\n",
      "  File \"C:\\Users\\Ashwin Dev\\anaconda3\\lib\\site-packages\\pandas\\core\\indexing.py\", line 1149, in _getitem_tuple\n",
      "    return self._getitem_tuple_same_dim(tup)\n",
      "  File \"C:\\Users\\Ashwin Dev\\anaconda3\\lib\\site-packages\\pandas\\core\\indexing.py\", line 827, in _getitem_tuple_same_dim\n",
      "    retval = getattr(retval, self.name)._getitem_axis(key, axis=i)\n",
      "  File \"C:\\Users\\Ashwin Dev\\anaconda3\\lib\\site-packages\\pandas\\core\\indexing.py\", line 1180, in _getitem_axis\n",
      "    return self._get_slice_axis(key, axis=axis)\n",
      "  File \"C:\\Users\\Ashwin Dev\\anaconda3\\lib\\site-packages\\pandas\\core\\indexing.py\", line 1214, in _get_slice_axis\n",
      "    indexer = labels.slice_indexer(slice_obj.start, slice_obj.stop, slice_obj.step)\n",
      "  File \"C:\\Users\\Ashwin Dev\\anaconda3\\lib\\site-packages\\pandas\\core\\indexes\\datetimes.py\", line 743, in slice_indexer\n",
      "    return Index.slice_indexer(self, start, end, step, kind=kind)\n",
      "  File \"C:\\Users\\Ashwin Dev\\anaconda3\\lib\\site-packages\\pandas\\core\\indexes\\base.py\", line 6274, in slice_indexer\n",
      "    start_slice, end_slice = self.slice_locs(start, end, step=step)\n",
      "  File \"C:\\Users\\Ashwin Dev\\anaconda3\\lib\\site-packages\\pandas\\core\\indexes\\base.py\", line 6484, in slice_locs\n",
      "    start_slice = self.get_slice_bound(start, \"left\")\n",
      "  File \"C:\\Users\\Ashwin Dev\\anaconda3\\lib\\site-packages\\pandas\\core\\indexes\\datetimes.py\", line 778, in get_slice_bound\n",
      "    return super().get_slice_bound(label, side=side, kind=kind)\n",
      "  File \"C:\\Users\\Ashwin Dev\\anaconda3\\lib\\site-packages\\pandas\\core\\indexes\\base.py\", line 6403, in get_slice_bound\n",
      "    raise err\n",
      "  File \"C:\\Users\\Ashwin Dev\\anaconda3\\lib\\site-packages\\pandas\\core\\indexes\\base.py\", line 6397, in get_slice_bound\n",
      "    slc = self.get_loc(label)\n",
      "  File \"C:\\Users\\Ashwin Dev\\anaconda3\\lib\\site-packages\\pandas\\core\\indexes\\datetimes.py\", line 681, in get_loc\n",
      "    raise KeyError(orig_key) from err\n",
      "KeyError: Timestamp('2022-08-22 17:11:00')\n"
     ]
    },
    {
     "name": "stdout",
     "output_type": "stream",
     "text": [
      "42 "
     ]
    },
    {
     "name": "stderr",
     "output_type": "stream",
     "text": [
      "Exception in thread Thread-3399:\n",
      "Traceback (most recent call last):\n",
      "  File \"pandas\\_libs\\index.pyx\", line 545, in pandas._libs.index.DatetimeEngine.get_loc\n",
      "  File \"pandas\\_libs\\hashtable_class_helper.pxi\", line 2131, in pandas._libs.hashtable.Int64HashTable.get_item\n",
      "  File \"pandas\\_libs\\hashtable_class_helper.pxi\", line 2140, in pandas._libs.hashtable.Int64HashTable.get_item\n",
      "KeyError: 1661188260000000000\n",
      "\n",
      "During handling of the above exception, another exception occurred:\n",
      "\n",
      "Traceback (most recent call last):\n",
      "  File \"C:\\Users\\Ashwin Dev\\anaconda3\\lib\\site-packages\\pandas\\core\\indexes\\base.py\", line 3621, in get_loc\n",
      "    return self._engine.get_loc(casted_key)\n",
      "  File \"pandas\\_libs\\index.pyx\", line 513, in pandas._libs.index.DatetimeEngine.get_loc\n",
      "  File \"pandas\\_libs\\index.pyx\", line 547, in pandas._libs.index.DatetimeEngine.get_loc\n",
      "KeyError: Timestamp('2022-08-22 17:11:00')\n",
      "\n",
      "The above exception was the direct cause of the following exception:\n",
      "\n",
      "Traceback (most recent call last):\n",
      "  File \"C:\\Users\\Ashwin Dev\\anaconda3\\lib\\site-packages\\pandas\\core\\indexes\\datetimes.py\", line 679, in get_loc\n",
      "    return Index.get_loc(self, key, method, tolerance)\n",
      "  File \"C:\\Users\\Ashwin Dev\\anaconda3\\lib\\site-packages\\pandas\\core\\indexes\\base.py\", line 3623, in get_loc\n",
      "    raise KeyError(key) from err\n",
      "KeyError: Timestamp('2022-08-22 17:11:00')\n",
      "\n",
      "The above exception was the direct cause of the following exception:\n",
      "\n",
      "Traceback (most recent call last):\n",
      "  File \"C:\\Users\\Ashwin Dev\\anaconda3\\lib\\threading.py\", line 973, in _bootstrap_inner\n",
      "    self.run()\n",
      "  File \"C:\\Users\\Ashwin Dev\\anaconda3\\lib\\threading.py\", line 910, in run\n",
      "    self._target(*self._args, **self._kwargs)\n",
      "  File \"C:\\Users\\Ashwin Dev\\anaconda3\\lib\\site-packages\\socketio\\client.py\", line 615, in _handle_eio_message\n",
      "    self._handle_event(pkt.namespace, pkt.id, pkt.data)\n",
      "  File \"C:\\Users\\Ashwin Dev\\anaconda3\\lib\\site-packages\\socketio\\client.py\", line 501, in _handle_event\n",
      "    r = self._trigger_event(data[0], namespace, *data[1:])\n",
      "  File \"C:\\Users\\Ashwin Dev\\anaconda3\\lib\\site-packages\\socketio\\client.py\", line 547, in _trigger_event\n",
      "    return self.handlers[namespace][event](*args)\n",
      "  File \"C:\\Users\\Ashwin Dev\\anaconda3\\lib\\site-packages\\fxcmpy\\fxcmpy.py\", line 2575, in __on_price_update__\n",
      "    callbacks[func](data, self.prices[symbol])\n",
      "  File \"C:\\Users\\Ashwin Dev\\AppData\\Local\\Temp\\ipykernel_1184\\3388473720.py\", line 35, in get_tick_data\n",
      "  File \"C:\\Users\\Ashwin Dev\\anaconda3\\lib\\site-packages\\pandas\\core\\indexing.py\", line 961, in __getitem__\n",
      "    return self._getitem_tuple(key)\n",
      "  File \"C:\\Users\\Ashwin Dev\\anaconda3\\lib\\site-packages\\pandas\\core\\indexing.py\", line 1149, in _getitem_tuple\n",
      "    return self._getitem_tuple_same_dim(tup)\n",
      "  File \"C:\\Users\\Ashwin Dev\\anaconda3\\lib\\site-packages\\pandas\\core\\indexing.py\", line 827, in _getitem_tuple_same_dim\n",
      "    retval = getattr(retval, self.name)._getitem_axis(key, axis=i)\n",
      "  File \"C:\\Users\\Ashwin Dev\\anaconda3\\lib\\site-packages\\pandas\\core\\indexing.py\", line 1180, in _getitem_axis\n",
      "    return self._get_slice_axis(key, axis=axis)\n",
      "  File \"C:\\Users\\Ashwin Dev\\anaconda3\\lib\\site-packages\\pandas\\core\\indexing.py\", line 1214, in _get_slice_axis\n",
      "    indexer = labels.slice_indexer(slice_obj.start, slice_obj.stop, slice_obj.step)\n",
      "  File \"C:\\Users\\Ashwin Dev\\anaconda3\\lib\\site-packages\\pandas\\core\\indexes\\datetimes.py\", line 743, in slice_indexer\n",
      "    return Index.slice_indexer(self, start, end, step, kind=kind)\n",
      "  File \"C:\\Users\\Ashwin Dev\\anaconda3\\lib\\site-packages\\pandas\\core\\indexes\\base.py\", line 6274, in slice_indexer\n",
      "    start_slice, end_slice = self.slice_locs(start, end, step=step)\n",
      "  File \"C:\\Users\\Ashwin Dev\\anaconda3\\lib\\site-packages\\pandas\\core\\indexes\\base.py\", line 6484, in slice_locs\n",
      "    start_slice = self.get_slice_bound(start, \"left\")\n",
      "  File \"C:\\Users\\Ashwin Dev\\anaconda3\\lib\\site-packages\\pandas\\core\\indexes\\datetimes.py\", line 778, in get_slice_bound\n",
      "    return super().get_slice_bound(label, side=side, kind=kind)\n",
      "  File \"C:\\Users\\Ashwin Dev\\anaconda3\\lib\\site-packages\\pandas\\core\\indexes\\base.py\", line 6403, in get_slice_bound\n",
      "    raise err\n",
      "  File \"C:\\Users\\Ashwin Dev\\anaconda3\\lib\\site-packages\\pandas\\core\\indexes\\base.py\", line 6397, in get_slice_bound\n",
      "    slc = self.get_loc(label)\n",
      "  File \"C:\\Users\\Ashwin Dev\\anaconda3\\lib\\site-packages\\pandas\\core\\indexes\\datetimes.py\", line 681, in get_loc\n",
      "    raise KeyError(orig_key) from err\n",
      "KeyError: Timestamp('2022-08-22 17:11:00')\n"
     ]
    },
    {
     "name": "stdout",
     "output_type": "stream",
     "text": [
      "43 "
     ]
    },
    {
     "name": "stderr",
     "output_type": "stream",
     "text": [
      "Exception in thread Thread-3411:\n",
      "Traceback (most recent call last):\n",
      "  File \"pandas\\_libs\\index.pyx\", line 545, in pandas._libs.index.DatetimeEngine.get_loc\n",
      "  File \"pandas\\_libs\\hashtable_class_helper.pxi\", line 2131, in pandas._libs.hashtable.Int64HashTable.get_item\n",
      "  File \"pandas\\_libs\\hashtable_class_helper.pxi\", line 2140, in pandas._libs.hashtable.Int64HashTable.get_item\n",
      "KeyError: 1661188260000000000\n",
      "\n",
      "During handling of the above exception, another exception occurred:\n",
      "\n",
      "Traceback (most recent call last):\n",
      "  File \"C:\\Users\\Ashwin Dev\\anaconda3\\lib\\site-packages\\pandas\\core\\indexes\\base.py\", line 3621, in get_loc\n",
      "    return self._engine.get_loc(casted_key)\n",
      "  File \"pandas\\_libs\\index.pyx\", line 513, in pandas._libs.index.DatetimeEngine.get_loc\n",
      "  File \"pandas\\_libs\\index.pyx\", line 547, in pandas._libs.index.DatetimeEngine.get_loc\n",
      "KeyError: Timestamp('2022-08-22 17:11:00')\n",
      "\n",
      "The above exception was the direct cause of the following exception:\n",
      "\n",
      "Traceback (most recent call last):\n",
      "  File \"C:\\Users\\Ashwin Dev\\anaconda3\\lib\\site-packages\\pandas\\core\\indexes\\datetimes.py\", line 679, in get_loc\n",
      "    return Index.get_loc(self, key, method, tolerance)\n",
      "  File \"C:\\Users\\Ashwin Dev\\anaconda3\\lib\\site-packages\\pandas\\core\\indexes\\base.py\", line 3623, in get_loc\n",
      "    raise KeyError(key) from err\n",
      "KeyError: Timestamp('2022-08-22 17:11:00')\n",
      "\n",
      "The above exception was the direct cause of the following exception:\n",
      "\n",
      "Traceback (most recent call last):\n",
      "  File \"C:\\Users\\Ashwin Dev\\anaconda3\\lib\\threading.py\", line 973, in _bootstrap_inner\n",
      "    self.run()\n",
      "  File \"C:\\Users\\Ashwin Dev\\anaconda3\\lib\\threading.py\", line 910, in run\n",
      "    self._target(*self._args, **self._kwargs)\n",
      "  File \"C:\\Users\\Ashwin Dev\\anaconda3\\lib\\site-packages\\socketio\\client.py\", line 615, in _handle_eio_message\n",
      "    self._handle_event(pkt.namespace, pkt.id, pkt.data)\n",
      "  File \"C:\\Users\\Ashwin Dev\\anaconda3\\lib\\site-packages\\socketio\\client.py\", line 501, in _handle_event\n",
      "    r = self._trigger_event(data[0], namespace, *data[1:])\n",
      "  File \"C:\\Users\\Ashwin Dev\\anaconda3\\lib\\site-packages\\socketio\\client.py\", line 547, in _trigger_event\n",
      "    return self.handlers[namespace][event](*args)\n",
      "  File \"C:\\Users\\Ashwin Dev\\anaconda3\\lib\\site-packages\\fxcmpy\\fxcmpy.py\", line 2575, in __on_price_update__\n",
      "    callbacks[func](data, self.prices[symbol])\n",
      "  File \"C:\\Users\\Ashwin Dev\\AppData\\Local\\Temp\\ipykernel_1184\\3388473720.py\", line 35, in get_tick_data\n",
      "  File \"C:\\Users\\Ashwin Dev\\anaconda3\\lib\\site-packages\\pandas\\core\\indexing.py\", line 961, in __getitem__\n",
      "    return self._getitem_tuple(key)\n",
      "  File \"C:\\Users\\Ashwin Dev\\anaconda3\\lib\\site-packages\\pandas\\core\\indexing.py\", line 1149, in _getitem_tuple\n",
      "    return self._getitem_tuple_same_dim(tup)\n",
      "  File \"C:\\Users\\Ashwin Dev\\anaconda3\\lib\\site-packages\\pandas\\core\\indexing.py\", line 827, in _getitem_tuple_same_dim\n",
      "    retval = getattr(retval, self.name)._getitem_axis(key, axis=i)\n",
      "  File \"C:\\Users\\Ashwin Dev\\anaconda3\\lib\\site-packages\\pandas\\core\\indexing.py\", line 1180, in _getitem_axis\n",
      "    return self._get_slice_axis(key, axis=axis)\n",
      "  File \"C:\\Users\\Ashwin Dev\\anaconda3\\lib\\site-packages\\pandas\\core\\indexing.py\", line 1214, in _get_slice_axis\n",
      "    indexer = labels.slice_indexer(slice_obj.start, slice_obj.stop, slice_obj.step)\n",
      "  File \"C:\\Users\\Ashwin Dev\\anaconda3\\lib\\site-packages\\pandas\\core\\indexes\\datetimes.py\", line 743, in slice_indexer\n",
      "    return Index.slice_indexer(self, start, end, step, kind=kind)\n",
      "  File \"C:\\Users\\Ashwin Dev\\anaconda3\\lib\\site-packages\\pandas\\core\\indexes\\base.py\", line 6274, in slice_indexer\n",
      "    start_slice, end_slice = self.slice_locs(start, end, step=step)\n",
      "  File \"C:\\Users\\Ashwin Dev\\anaconda3\\lib\\site-packages\\pandas\\core\\indexes\\base.py\", line 6484, in slice_locs\n",
      "    start_slice = self.get_slice_bound(start, \"left\")\n",
      "  File \"C:\\Users\\Ashwin Dev\\anaconda3\\lib\\site-packages\\pandas\\core\\indexes\\datetimes.py\", line 778, in get_slice_bound\n",
      "    return super().get_slice_bound(label, side=side, kind=kind)\n",
      "  File \"C:\\Users\\Ashwin Dev\\anaconda3\\lib\\site-packages\\pandas\\core\\indexes\\base.py\", line 6403, in get_slice_bound\n",
      "    raise err\n",
      "  File \"C:\\Users\\Ashwin Dev\\anaconda3\\lib\\site-packages\\pandas\\core\\indexes\\base.py\", line 6397, in get_slice_bound\n",
      "    slc = self.get_loc(label)\n",
      "  File \"C:\\Users\\Ashwin Dev\\anaconda3\\lib\\site-packages\\pandas\\core\\indexes\\datetimes.py\", line 681, in get_loc\n",
      "    raise KeyError(orig_key) from err\n",
      "KeyError: Timestamp('2022-08-22 17:11:00')\n"
     ]
    },
    {
     "name": "stdout",
     "output_type": "stream",
     "text": [
      "44 "
     ]
    },
    {
     "name": "stderr",
     "output_type": "stream",
     "text": [
      "Exception in thread Thread-3421:\n",
      "Traceback (most recent call last):\n",
      "  File \"pandas\\_libs\\index.pyx\", line 545, in pandas._libs.index.DatetimeEngine.get_loc\n",
      "  File \"pandas\\_libs\\hashtable_class_helper.pxi\", line 2131, in pandas._libs.hashtable.Int64HashTable.get_item\n",
      "  File \"pandas\\_libs\\hashtable_class_helper.pxi\", line 2140, in pandas._libs.hashtable.Int64HashTable.get_item\n",
      "KeyError: 1661188260000000000\n",
      "\n",
      "During handling of the above exception, another exception occurred:\n",
      "\n",
      "Traceback (most recent call last):\n",
      "  File \"C:\\Users\\Ashwin Dev\\anaconda3\\lib\\site-packages\\pandas\\core\\indexes\\base.py\", line 3621, in get_loc\n",
      "    return self._engine.get_loc(casted_key)\n",
      "  File \"pandas\\_libs\\index.pyx\", line 513, in pandas._libs.index.DatetimeEngine.get_loc\n",
      "  File \"pandas\\_libs\\index.pyx\", line 547, in pandas._libs.index.DatetimeEngine.get_loc\n",
      "KeyError: Timestamp('2022-08-22 17:11:00')\n",
      "\n",
      "The above exception was the direct cause of the following exception:\n",
      "\n",
      "Traceback (most recent call last):\n",
      "  File \"C:\\Users\\Ashwin Dev\\anaconda3\\lib\\site-packages\\pandas\\core\\indexes\\datetimes.py\", line 679, in get_loc\n",
      "    return Index.get_loc(self, key, method, tolerance)\n",
      "  File \"C:\\Users\\Ashwin Dev\\anaconda3\\lib\\site-packages\\pandas\\core\\indexes\\base.py\", line 3623, in get_loc\n",
      "    raise KeyError(key) from err\n",
      "KeyError: Timestamp('2022-08-22 17:11:00')\n",
      "\n",
      "The above exception was the direct cause of the following exception:\n",
      "\n",
      "Traceback (most recent call last):\n",
      "  File \"C:\\Users\\Ashwin Dev\\anaconda3\\lib\\threading.py\", line 973, in _bootstrap_inner\n",
      "    self.run()\n",
      "  File \"C:\\Users\\Ashwin Dev\\anaconda3\\lib\\threading.py\", line 910, in run\n",
      "    self._target(*self._args, **self._kwargs)\n",
      "  File \"C:\\Users\\Ashwin Dev\\anaconda3\\lib\\site-packages\\socketio\\client.py\", line 615, in _handle_eio_message\n",
      "    self._handle_event(pkt.namespace, pkt.id, pkt.data)\n",
      "  File \"C:\\Users\\Ashwin Dev\\anaconda3\\lib\\site-packages\\socketio\\client.py\", line 501, in _handle_event\n",
      "    r = self._trigger_event(data[0], namespace, *data[1:])\n",
      "  File \"C:\\Users\\Ashwin Dev\\anaconda3\\lib\\site-packages\\socketio\\client.py\", line 547, in _trigger_event\n",
      "    return self.handlers[namespace][event](*args)\n",
      "  File \"C:\\Users\\Ashwin Dev\\anaconda3\\lib\\site-packages\\fxcmpy\\fxcmpy.py\", line 2575, in __on_price_update__\n",
      "    callbacks[func](data, self.prices[symbol])\n",
      "  File \"C:\\Users\\Ashwin Dev\\AppData\\Local\\Temp\\ipykernel_1184\\3388473720.py\", line 35, in get_tick_data\n",
      "  File \"C:\\Users\\Ashwin Dev\\anaconda3\\lib\\site-packages\\pandas\\core\\indexing.py\", line 961, in __getitem__\n",
      "    return self._getitem_tuple(key)\n",
      "  File \"C:\\Users\\Ashwin Dev\\anaconda3\\lib\\site-packages\\pandas\\core\\indexing.py\", line 1149, in _getitem_tuple\n",
      "    return self._getitem_tuple_same_dim(tup)\n",
      "  File \"C:\\Users\\Ashwin Dev\\anaconda3\\lib\\site-packages\\pandas\\core\\indexing.py\", line 827, in _getitem_tuple_same_dim\n",
      "    retval = getattr(retval, self.name)._getitem_axis(key, axis=i)\n",
      "  File \"C:\\Users\\Ashwin Dev\\anaconda3\\lib\\site-packages\\pandas\\core\\indexing.py\", line 1180, in _getitem_axis\n",
      "    return self._get_slice_axis(key, axis=axis)\n",
      "  File \"C:\\Users\\Ashwin Dev\\anaconda3\\lib\\site-packages\\pandas\\core\\indexing.py\", line 1214, in _get_slice_axis\n",
      "    indexer = labels.slice_indexer(slice_obj.start, slice_obj.stop, slice_obj.step)\n",
      "  File \"C:\\Users\\Ashwin Dev\\anaconda3\\lib\\site-packages\\pandas\\core\\indexes\\datetimes.py\", line 743, in slice_indexer\n",
      "    return Index.slice_indexer(self, start, end, step, kind=kind)\n",
      "  File \"C:\\Users\\Ashwin Dev\\anaconda3\\lib\\site-packages\\pandas\\core\\indexes\\base.py\", line 6274, in slice_indexer\n",
      "    start_slice, end_slice = self.slice_locs(start, end, step=step)\n",
      "  File \"C:\\Users\\Ashwin Dev\\anaconda3\\lib\\site-packages\\pandas\\core\\indexes\\base.py\", line 6484, in slice_locs\n",
      "    start_slice = self.get_slice_bound(start, \"left\")\n",
      "  File \"C:\\Users\\Ashwin Dev\\anaconda3\\lib\\site-packages\\pandas\\core\\indexes\\datetimes.py\", line 778, in get_slice_bound\n",
      "    return super().get_slice_bound(label, side=side, kind=kind)\n",
      "  File \"C:\\Users\\Ashwin Dev\\anaconda3\\lib\\site-packages\\pandas\\core\\indexes\\base.py\", line 6403, in get_slice_bound\n",
      "    raise err\n",
      "  File \"C:\\Users\\Ashwin Dev\\anaconda3\\lib\\site-packages\\pandas\\core\\indexes\\base.py\", line 6397, in get_slice_bound\n",
      "    slc = self.get_loc(label)\n",
      "  File \"C:\\Users\\Ashwin Dev\\anaconda3\\lib\\site-packages\\pandas\\core\\indexes\\datetimes.py\", line 681, in get_loc\n",
      "    raise KeyError(orig_key) from err\n",
      "KeyError: Timestamp('2022-08-22 17:11:00')\n"
     ]
    },
    {
     "name": "stdout",
     "output_type": "stream",
     "text": [
      "45 "
     ]
    },
    {
     "name": "stderr",
     "output_type": "stream",
     "text": [
      "Exception in thread Thread-3430:\n",
      "Traceback (most recent call last):\n",
      "  File \"pandas\\_libs\\index.pyx\", line 545, in pandas._libs.index.DatetimeEngine.get_loc\n",
      "  File \"pandas\\_libs\\hashtable_class_helper.pxi\", line 2131, in pandas._libs.hashtable.Int64HashTable.get_item\n",
      "  File \"pandas\\_libs\\hashtable_class_helper.pxi\", line 2140, in pandas._libs.hashtable.Int64HashTable.get_item\n",
      "KeyError: 1661188260000000000\n",
      "\n",
      "During handling of the above exception, another exception occurred:\n",
      "\n",
      "Traceback (most recent call last):\n",
      "  File \"C:\\Users\\Ashwin Dev\\anaconda3\\lib\\site-packages\\pandas\\core\\indexes\\base.py\", line 3621, in get_loc\n",
      "    return self._engine.get_loc(casted_key)\n",
      "  File \"pandas\\_libs\\index.pyx\", line 513, in pandas._libs.index.DatetimeEngine.get_loc\n",
      "  File \"pandas\\_libs\\index.pyx\", line 547, in pandas._libs.index.DatetimeEngine.get_loc\n",
      "KeyError: Timestamp('2022-08-22 17:11:00')\n",
      "\n",
      "The above exception was the direct cause of the following exception:\n",
      "\n",
      "Traceback (most recent call last):\n",
      "  File \"C:\\Users\\Ashwin Dev\\anaconda3\\lib\\site-packages\\pandas\\core\\indexes\\datetimes.py\", line 679, in get_loc\n",
      "    return Index.get_loc(self, key, method, tolerance)\n",
      "  File \"C:\\Users\\Ashwin Dev\\anaconda3\\lib\\site-packages\\pandas\\core\\indexes\\base.py\", line 3623, in get_loc\n",
      "    raise KeyError(key) from err\n",
      "KeyError: Timestamp('2022-08-22 17:11:00')\n",
      "\n",
      "The above exception was the direct cause of the following exception:\n",
      "\n",
      "Traceback (most recent call last):\n",
      "  File \"C:\\Users\\Ashwin Dev\\anaconda3\\lib\\threading.py\", line 973, in _bootstrap_inner\n",
      "    self.run()\n",
      "  File \"C:\\Users\\Ashwin Dev\\anaconda3\\lib\\threading.py\", line 910, in run\n",
      "    self._target(*self._args, **self._kwargs)\n",
      "  File \"C:\\Users\\Ashwin Dev\\anaconda3\\lib\\site-packages\\socketio\\client.py\", line 615, in _handle_eio_message\n",
      "    self._handle_event(pkt.namespace, pkt.id, pkt.data)\n",
      "  File \"C:\\Users\\Ashwin Dev\\anaconda3\\lib\\site-packages\\socketio\\client.py\", line 501, in _handle_event\n",
      "    r = self._trigger_event(data[0], namespace, *data[1:])\n",
      "  File \"C:\\Users\\Ashwin Dev\\anaconda3\\lib\\site-packages\\socketio\\client.py\", line 547, in _trigger_event\n",
      "    return self.handlers[namespace][event](*args)\n",
      "  File \"C:\\Users\\Ashwin Dev\\anaconda3\\lib\\site-packages\\fxcmpy\\fxcmpy.py\", line 2575, in __on_price_update__\n",
      "    callbacks[func](data, self.prices[symbol])\n",
      "  File \"C:\\Users\\Ashwin Dev\\AppData\\Local\\Temp\\ipykernel_1184\\3388473720.py\", line 35, in get_tick_data\n",
      "  File \"C:\\Users\\Ashwin Dev\\anaconda3\\lib\\site-packages\\pandas\\core\\indexing.py\", line 961, in __getitem__\n",
      "    return self._getitem_tuple(key)\n",
      "  File \"C:\\Users\\Ashwin Dev\\anaconda3\\lib\\site-packages\\pandas\\core\\indexing.py\", line 1149, in _getitem_tuple\n",
      "    return self._getitem_tuple_same_dim(tup)\n",
      "  File \"C:\\Users\\Ashwin Dev\\anaconda3\\lib\\site-packages\\pandas\\core\\indexing.py\", line 827, in _getitem_tuple_same_dim\n",
      "    retval = getattr(retval, self.name)._getitem_axis(key, axis=i)\n",
      "  File \"C:\\Users\\Ashwin Dev\\anaconda3\\lib\\site-packages\\pandas\\core\\indexing.py\", line 1180, in _getitem_axis\n",
      "    return self._get_slice_axis(key, axis=axis)\n",
      "  File \"C:\\Users\\Ashwin Dev\\anaconda3\\lib\\site-packages\\pandas\\core\\indexing.py\", line 1214, in _get_slice_axis\n",
      "    indexer = labels.slice_indexer(slice_obj.start, slice_obj.stop, slice_obj.step)\n",
      "  File \"C:\\Users\\Ashwin Dev\\anaconda3\\lib\\site-packages\\pandas\\core\\indexes\\datetimes.py\", line 743, in slice_indexer\n",
      "    return Index.slice_indexer(self, start, end, step, kind=kind)\n",
      "  File \"C:\\Users\\Ashwin Dev\\anaconda3\\lib\\site-packages\\pandas\\core\\indexes\\base.py\", line 6274, in slice_indexer\n",
      "    start_slice, end_slice = self.slice_locs(start, end, step=step)\n",
      "  File \"C:\\Users\\Ashwin Dev\\anaconda3\\lib\\site-packages\\pandas\\core\\indexes\\base.py\", line 6484, in slice_locs\n",
      "    start_slice = self.get_slice_bound(start, \"left\")\n",
      "  File \"C:\\Users\\Ashwin Dev\\anaconda3\\lib\\site-packages\\pandas\\core\\indexes\\datetimes.py\", line 778, in get_slice_bound\n",
      "    return super().get_slice_bound(label, side=side, kind=kind)\n",
      "  File \"C:\\Users\\Ashwin Dev\\anaconda3\\lib\\site-packages\\pandas\\core\\indexes\\base.py\", line 6403, in get_slice_bound\n",
      "    raise err\n",
      "  File \"C:\\Users\\Ashwin Dev\\anaconda3\\lib\\site-packages\\pandas\\core\\indexes\\base.py\", line 6397, in get_slice_bound\n",
      "    slc = self.get_loc(label)\n",
      "  File \"C:\\Users\\Ashwin Dev\\anaconda3\\lib\\site-packages\\pandas\\core\\indexes\\datetimes.py\", line 681, in get_loc\n",
      "    raise KeyError(orig_key) from err\n",
      "KeyError: Timestamp('2022-08-22 17:11:00')\n"
     ]
    },
    {
     "name": "stdout",
     "output_type": "stream",
     "text": [
      "46 "
     ]
    },
    {
     "name": "stderr",
     "output_type": "stream",
     "text": [
      "Exception in thread Thread-3439:\n",
      "Traceback (most recent call last):\n",
      "  File \"pandas\\_libs\\index.pyx\", line 545, in pandas._libs.index.DatetimeEngine.get_loc\n",
      "  File \"pandas\\_libs\\hashtable_class_helper.pxi\", line 2131, in pandas._libs.hashtable.Int64HashTable.get_item\n",
      "  File \"pandas\\_libs\\hashtable_class_helper.pxi\", line 2140, in pandas._libs.hashtable.Int64HashTable.get_item\n",
      "KeyError: 1661188260000000000\n",
      "\n",
      "During handling of the above exception, another exception occurred:\n",
      "\n",
      "Traceback (most recent call last):\n",
      "  File \"C:\\Users\\Ashwin Dev\\anaconda3\\lib\\site-packages\\pandas\\core\\indexes\\base.py\", line 3621, in get_loc\n",
      "    return self._engine.get_loc(casted_key)\n",
      "  File \"pandas\\_libs\\index.pyx\", line 513, in pandas._libs.index.DatetimeEngine.get_loc\n",
      "  File \"pandas\\_libs\\index.pyx\", line 547, in pandas._libs.index.DatetimeEngine.get_loc\n",
      "KeyError: Timestamp('2022-08-22 17:11:00')\n",
      "\n",
      "The above exception was the direct cause of the following exception:\n",
      "\n",
      "Traceback (most recent call last):\n",
      "  File \"C:\\Users\\Ashwin Dev\\anaconda3\\lib\\site-packages\\pandas\\core\\indexes\\datetimes.py\", line 679, in get_loc\n",
      "    return Index.get_loc(self, key, method, tolerance)\n",
      "  File \"C:\\Users\\Ashwin Dev\\anaconda3\\lib\\site-packages\\pandas\\core\\indexes\\base.py\", line 3623, in get_loc\n",
      "    raise KeyError(key) from err\n",
      "KeyError: Timestamp('2022-08-22 17:11:00')\n",
      "\n",
      "The above exception was the direct cause of the following exception:\n",
      "\n",
      "Traceback (most recent call last):\n",
      "  File \"C:\\Users\\Ashwin Dev\\anaconda3\\lib\\threading.py\", line 973, in _bootstrap_inner\n",
      "    self.run()\n",
      "  File \"C:\\Users\\Ashwin Dev\\anaconda3\\lib\\threading.py\", line 910, in run\n",
      "    self._target(*self._args, **self._kwargs)\n",
      "  File \"C:\\Users\\Ashwin Dev\\anaconda3\\lib\\site-packages\\socketio\\client.py\", line 615, in _handle_eio_message\n",
      "    self._handle_event(pkt.namespace, pkt.id, pkt.data)\n",
      "  File \"C:\\Users\\Ashwin Dev\\anaconda3\\lib\\site-packages\\socketio\\client.py\", line 501, in _handle_event\n",
      "    r = self._trigger_event(data[0], namespace, *data[1:])\n",
      "  File \"C:\\Users\\Ashwin Dev\\anaconda3\\lib\\site-packages\\socketio\\client.py\", line 547, in _trigger_event\n",
      "    return self.handlers[namespace][event](*args)\n",
      "  File \"C:\\Users\\Ashwin Dev\\anaconda3\\lib\\site-packages\\fxcmpy\\fxcmpy.py\", line 2575, in __on_price_update__\n",
      "    callbacks[func](data, self.prices[symbol])\n",
      "  File \"C:\\Users\\Ashwin Dev\\AppData\\Local\\Temp\\ipykernel_1184\\3388473720.py\", line 35, in get_tick_data\n",
      "  File \"C:\\Users\\Ashwin Dev\\anaconda3\\lib\\site-packages\\pandas\\core\\indexing.py\", line 961, in __getitem__\n",
      "    return self._getitem_tuple(key)\n",
      "  File \"C:\\Users\\Ashwin Dev\\anaconda3\\lib\\site-packages\\pandas\\core\\indexing.py\", line 1149, in _getitem_tuple\n",
      "    return self._getitem_tuple_same_dim(tup)\n",
      "  File \"C:\\Users\\Ashwin Dev\\anaconda3\\lib\\site-packages\\pandas\\core\\indexing.py\", line 827, in _getitem_tuple_same_dim\n",
      "    retval = getattr(retval, self.name)._getitem_axis(key, axis=i)\n",
      "  File \"C:\\Users\\Ashwin Dev\\anaconda3\\lib\\site-packages\\pandas\\core\\indexing.py\", line 1180, in _getitem_axis\n",
      "    return self._get_slice_axis(key, axis=axis)\n",
      "  File \"C:\\Users\\Ashwin Dev\\anaconda3\\lib\\site-packages\\pandas\\core\\indexing.py\", line 1214, in _get_slice_axis\n",
      "    indexer = labels.slice_indexer(slice_obj.start, slice_obj.stop, slice_obj.step)\n",
      "  File \"C:\\Users\\Ashwin Dev\\anaconda3\\lib\\site-packages\\pandas\\core\\indexes\\datetimes.py\", line 743, in slice_indexer\n",
      "    return Index.slice_indexer(self, start, end, step, kind=kind)\n",
      "  File \"C:\\Users\\Ashwin Dev\\anaconda3\\lib\\site-packages\\pandas\\core\\indexes\\base.py\", line 6274, in slice_indexer\n",
      "    start_slice, end_slice = self.slice_locs(start, end, step=step)\n",
      "  File \"C:\\Users\\Ashwin Dev\\anaconda3\\lib\\site-packages\\pandas\\core\\indexes\\base.py\", line 6484, in slice_locs\n",
      "    start_slice = self.get_slice_bound(start, \"left\")\n",
      "  File \"C:\\Users\\Ashwin Dev\\anaconda3\\lib\\site-packages\\pandas\\core\\indexes\\datetimes.py\", line 778, in get_slice_bound\n",
      "    return super().get_slice_bound(label, side=side, kind=kind)\n",
      "  File \"C:\\Users\\Ashwin Dev\\anaconda3\\lib\\site-packages\\pandas\\core\\indexes\\base.py\", line 6403, in get_slice_bound\n",
      "    raise err\n",
      "  File \"C:\\Users\\Ashwin Dev\\anaconda3\\lib\\site-packages\\pandas\\core\\indexes\\base.py\", line 6397, in get_slice_bound\n",
      "    slc = self.get_loc(label)\n",
      "  File \"C:\\Users\\Ashwin Dev\\anaconda3\\lib\\site-packages\\pandas\\core\\indexes\\datetimes.py\", line 681, in get_loc\n",
      "    raise KeyError(orig_key) from err\n",
      "KeyError: Timestamp('2022-08-22 17:11:00')\n"
     ]
    },
    {
     "name": "stdout",
     "output_type": "stream",
     "text": [
      "47 "
     ]
    },
    {
     "name": "stderr",
     "output_type": "stream",
     "text": [
      "Exception in thread Thread-3453:\n",
      "Traceback (most recent call last):\n",
      "  File \"pandas\\_libs\\index.pyx\", line 545, in pandas._libs.index.DatetimeEngine.get_loc\n",
      "  File \"pandas\\_libs\\hashtable_class_helper.pxi\", line 2131, in pandas._libs.hashtable.Int64HashTable.get_item\n",
      "  File \"pandas\\_libs\\hashtable_class_helper.pxi\", line 2140, in pandas._libs.hashtable.Int64HashTable.get_item\n",
      "KeyError: 1661188260000000000\n",
      "\n",
      "During handling of the above exception, another exception occurred:\n",
      "\n",
      "Traceback (most recent call last):\n",
      "  File \"C:\\Users\\Ashwin Dev\\anaconda3\\lib\\site-packages\\pandas\\core\\indexes\\base.py\", line 3621, in get_loc\n",
      "    return self._engine.get_loc(casted_key)\n",
      "  File \"pandas\\_libs\\index.pyx\", line 513, in pandas._libs.index.DatetimeEngine.get_loc\n",
      "  File \"pandas\\_libs\\index.pyx\", line 547, in pandas._libs.index.DatetimeEngine.get_loc\n",
      "KeyError: Timestamp('2022-08-22 17:11:00')\n",
      "\n",
      "The above exception was the direct cause of the following exception:\n",
      "\n",
      "Traceback (most recent call last):\n",
      "  File \"C:\\Users\\Ashwin Dev\\anaconda3\\lib\\site-packages\\pandas\\core\\indexes\\datetimes.py\", line 679, in get_loc\n",
      "    return Index.get_loc(self, key, method, tolerance)\n",
      "  File \"C:\\Users\\Ashwin Dev\\anaconda3\\lib\\site-packages\\pandas\\core\\indexes\\base.py\", line 3623, in get_loc\n",
      "    raise KeyError(key) from err\n",
      "KeyError: Timestamp('2022-08-22 17:11:00')\n",
      "\n",
      "The above exception was the direct cause of the following exception:\n",
      "\n",
      "Traceback (most recent call last):\n",
      "  File \"C:\\Users\\Ashwin Dev\\anaconda3\\lib\\threading.py\", line 973, in _bootstrap_inner\n",
      "    self.run()\n",
      "  File \"C:\\Users\\Ashwin Dev\\anaconda3\\lib\\threading.py\", line 910, in run\n",
      "    self._target(*self._args, **self._kwargs)\n",
      "  File \"C:\\Users\\Ashwin Dev\\anaconda3\\lib\\site-packages\\socketio\\client.py\", line 615, in _handle_eio_message\n",
      "    self._handle_event(pkt.namespace, pkt.id, pkt.data)\n",
      "  File \"C:\\Users\\Ashwin Dev\\anaconda3\\lib\\site-packages\\socketio\\client.py\", line 501, in _handle_event\n",
      "    r = self._trigger_event(data[0], namespace, *data[1:])\n",
      "  File \"C:\\Users\\Ashwin Dev\\anaconda3\\lib\\site-packages\\socketio\\client.py\", line 547, in _trigger_event\n",
      "    return self.handlers[namespace][event](*args)\n",
      "  File \"C:\\Users\\Ashwin Dev\\anaconda3\\lib\\site-packages\\fxcmpy\\fxcmpy.py\", line 2575, in __on_price_update__\n",
      "    callbacks[func](data, self.prices[symbol])\n",
      "  File \"C:\\Users\\Ashwin Dev\\AppData\\Local\\Temp\\ipykernel_1184\\3388473720.py\", line 35, in get_tick_data\n",
      "  File \"C:\\Users\\Ashwin Dev\\anaconda3\\lib\\site-packages\\pandas\\core\\indexing.py\", line 961, in __getitem__\n",
      "    return self._getitem_tuple(key)\n",
      "  File \"C:\\Users\\Ashwin Dev\\anaconda3\\lib\\site-packages\\pandas\\core\\indexing.py\", line 1149, in _getitem_tuple\n",
      "    return self._getitem_tuple_same_dim(tup)\n",
      "  File \"C:\\Users\\Ashwin Dev\\anaconda3\\lib\\site-packages\\pandas\\core\\indexing.py\", line 827, in _getitem_tuple_same_dim\n",
      "    retval = getattr(retval, self.name)._getitem_axis(key, axis=i)\n",
      "  File \"C:\\Users\\Ashwin Dev\\anaconda3\\lib\\site-packages\\pandas\\core\\indexing.py\", line 1180, in _getitem_axis\n",
      "    return self._get_slice_axis(key, axis=axis)\n",
      "  File \"C:\\Users\\Ashwin Dev\\anaconda3\\lib\\site-packages\\pandas\\core\\indexing.py\", line 1214, in _get_slice_axis\n",
      "    indexer = labels.slice_indexer(slice_obj.start, slice_obj.stop, slice_obj.step)\n",
      "  File \"C:\\Users\\Ashwin Dev\\anaconda3\\lib\\site-packages\\pandas\\core\\indexes\\datetimes.py\", line 743, in slice_indexer\n",
      "    return Index.slice_indexer(self, start, end, step, kind=kind)\n",
      "  File \"C:\\Users\\Ashwin Dev\\anaconda3\\lib\\site-packages\\pandas\\core\\indexes\\base.py\", line 6274, in slice_indexer\n",
      "    start_slice, end_slice = self.slice_locs(start, end, step=step)\n",
      "  File \"C:\\Users\\Ashwin Dev\\anaconda3\\lib\\site-packages\\pandas\\core\\indexes\\base.py\", line 6484, in slice_locs\n",
      "    start_slice = self.get_slice_bound(start, \"left\")\n",
      "  File \"C:\\Users\\Ashwin Dev\\anaconda3\\lib\\site-packages\\pandas\\core\\indexes\\datetimes.py\", line 778, in get_slice_bound\n",
      "    return super().get_slice_bound(label, side=side, kind=kind)\n",
      "  File \"C:\\Users\\Ashwin Dev\\anaconda3\\lib\\site-packages\\pandas\\core\\indexes\\base.py\", line 6403, in get_slice_bound\n",
      "    raise err\n",
      "  File \"C:\\Users\\Ashwin Dev\\anaconda3\\lib\\site-packages\\pandas\\core\\indexes\\base.py\", line 6397, in get_slice_bound\n",
      "    slc = self.get_loc(label)\n",
      "  File \"C:\\Users\\Ashwin Dev\\anaconda3\\lib\\site-packages\\pandas\\core\\indexes\\datetimes.py\", line 681, in get_loc\n",
      "    raise KeyError(orig_key) from err\n",
      "KeyError: Timestamp('2022-08-22 17:11:00')\n"
     ]
    },
    {
     "name": "stdout",
     "output_type": "stream",
     "text": [
      "48 "
     ]
    },
    {
     "name": "stderr",
     "output_type": "stream",
     "text": [
      "Exception in thread Thread-3471:\n",
      "Traceback (most recent call last):\n",
      "  File \"pandas\\_libs\\index.pyx\", line 545, in pandas._libs.index.DatetimeEngine.get_loc\n",
      "  File \"pandas\\_libs\\hashtable_class_helper.pxi\", line 2131, in pandas._libs.hashtable.Int64HashTable.get_item\n",
      "  File \"pandas\\_libs\\hashtable_class_helper.pxi\", line 2140, in pandas._libs.hashtable.Int64HashTable.get_item\n",
      "Exception in thread Thread-3478:\n",
      "Traceback (most recent call last):\n",
      "  File \"pandas\\_libs\\index.pyx\", line 545, in pandas._libs.index.DatetimeEngine.get_loc\n",
      "KeyError: 1661188260000000000\n",
      "\n",
      "During handling of the above exception, another exception occurred:\n",
      "\n",
      "Traceback (most recent call last):\n",
      "  File \"C:\\Users\\Ashwin Dev\\anaconda3\\lib\\site-packages\\pandas\\core\\indexes\\base.py\", line 3621, in get_loc\n",
      "  File \"pandas\\_libs\\hashtable_class_helper.pxi\", line 2131, in pandas._libs.hashtable.Int64HashTable.get_item\n",
      "    return self._engine.get_loc(casted_key)\n",
      "  File \"pandas\\_libs\\index.pyx\", line 513, in pandas._libs.index.DatetimeEngine.get_loc\n",
      "  File \"pandas\\_libs\\hashtable_class_helper.pxi\", line 2140, in pandas._libs.hashtable.Int64HashTable.get_item\n",
      "KeyError  File \"pandas\\_libs\\index.pyx\", line 547, in pandas._libs.index.DatetimeEngine.get_loc\n",
      ": 1661188260000000000\n",
      "\n",
      "During handling of the above exception, another exception occurred:\n",
      "\n",
      "Traceback (most recent call last):\n",
      "  File \"C:\\Users\\Ashwin Dev\\anaconda3\\lib\\site-packages\\pandas\\core\\indexes\\base.py\", line 3621, in get_loc\n",
      "Exception in thread Thread-3490:\n",
      "Traceback (most recent call last):\n",
      "  File \"pandas\\_libs\\index.pyx\", line 545, in pandas._libs.index.DatetimeEngine.get_loc\n",
      "    return self._engine.get_loc(casted_key)\n",
      "  File \"pandas\\_libs\\index.pyx\", line 513, in pandas._libs.index.DatetimeEngine.get_loc\n",
      "KeyError: Timestamp('2022-08-22 17:11:00')\n",
      "\n",
      "The above exception was the direct cause of the following exception:\n",
      "\n",
      "Traceback (most recent call last):\n",
      "  File \"C:\\Users\\Ashwin Dev\\anaconda3\\lib\\site-packages\\pandas\\core\\indexes\\datetimes.py\", line 679, in get_loc\n",
      "  File \"pandas\\_libs\\hashtable_class_helper.pxi\", line 2131, in pandas._libs.hashtable.Int64HashTable.get_item\n",
      "    return Index.get_loc(self, key, method, tolerance)\n",
      "  File \"C:\\Users\\Ashwin Dev\\anaconda3\\lib\\site-packages\\pandas\\core\\indexes\\base.py\", line 3623, in get_loc\n",
      "  File \"pandas\\_libs\\index.pyx\", line 547, in pandas._libs.index.DatetimeEngine.get_loc\n",
      "  File \"pandas\\_libs\\hashtable_class_helper.pxi\", line 2140, in pandas._libs.hashtable.Int64HashTable.get_item\n",
      "KeyError: Timestamp('2022-08-22 17:11:00')\n",
      "\n",
      "The above exception was the direct cause of the following exception:\n",
      "\n",
      "Traceback (most recent call last):\n",
      "  File \"C:\\Users\\Ashwin Dev\\anaconda3\\lib\\site-packages\\pandas\\core\\indexes\\datetimes.py\", line 679, in get_loc\n",
      "        return Index.get_loc(self, key, method, tolerance)\n",
      "  File \"C:\\Users\\Ashwin Dev\\anaconda3\\lib\\site-packages\\pandas\\core\\indexes\\base.py\", line 3623, in get_loc\n",
      "raise KeyError(key) from err\n",
      "KeyError: Timestamp('2022-08-22 17:11:00')\n",
      "KeyError\n",
      "The above exception was the direct cause of the following exception:\n",
      "\n",
      "Traceback (most recent call last):\n",
      "  File \"C:\\Users\\Ashwin Dev\\anaconda3\\lib\\threading.py\", line 973, in _bootstrap_inner\n",
      ": 1661188260000000000\n",
      "\n",
      "During handling of the above exception, another exception occurred:\n",
      "\n",
      "Traceback (most recent call last):\n",
      "  File \"C:\\Users\\Ashwin Dev\\anaconda3\\lib\\site-packages\\pandas\\core\\indexes\\base.py\", line 3621, in get_loc\n",
      "    self.run()\n",
      "  File \"C:\\Users\\Ashwin Dev\\anaconda3\\lib\\threading.py\", line 910, in run\n",
      "    raise KeyError(key) from err    \n",
      "KeyError: Timestamp('2022-08-22 17:11:00')\n",
      "\n",
      "The above exception was the direct cause of the following exception:\n",
      "\n",
      "Traceback (most recent call last):\n",
      "  File \"C:\\Users\\Ashwin Dev\\anaconda3\\lib\\threading.py\", line 973, in _bootstrap_inner\n",
      "    return self._engine.get_loc(casted_key)\n",
      "  File \"pandas\\_libs\\index.pyx\", line 513, in pandas._libs.index.DatetimeEngine.get_loc\n",
      "self._target(*self._args, **self._kwargs)\n",
      "  File \"C:\\Users\\Ashwin Dev\\anaconda3\\lib\\site-packages\\socketio\\client.py\", line 615, in _handle_eio_message\n",
      "    self.run()\n",
      "  File \"C:\\Users\\Ashwin Dev\\anaconda3\\lib\\threading.py\", line 910, in run\n",
      "        self._target(*self._args, **self._kwargs)\n",
      "  File \"C:\\Users\\Ashwin Dev\\anaconda3\\lib\\site-packages\\socketio\\client.py\", line 615, in _handle_eio_message\n",
      "self._handle_event(pkt.namespace, pkt.id, pkt.data)\n",
      "  File \"C:\\Users\\Ashwin Dev\\anaconda3\\lib\\site-packages\\socketio\\client.py\", line 501, in _handle_event\n",
      "      File \"pandas\\_libs\\index.pyx\", line 547, in pandas._libs.index.DatetimeEngine.get_loc\n",
      "self._handle_event(pkt.namespace, pkt.id, pkt.data)\n",
      "  File \"C:\\Users\\Ashwin Dev\\anaconda3\\lib\\site-packages\\socketio\\client.py\", line 501, in _handle_event\n",
      "    r = self._trigger_event(data[0], namespace, *data[1:])\n",
      "  File \"C:\\Users\\Ashwin Dev\\anaconda3\\lib\\site-packages\\socketio\\client.py\", line 547, in _trigger_event\n",
      "    r = self._trigger_event(data[0], namespace, *data[1:])\n",
      "  File \"C:\\Users\\Ashwin Dev\\anaconda3\\lib\\site-packages\\socketio\\client.py\", line 547, in _trigger_event\n",
      "    return self.handlers[namespace][event](*args)\n",
      "  File \"C:\\Users\\Ashwin Dev\\anaconda3\\lib\\site-packages\\fxcmpy\\fxcmpy.py\", line 2575, in __on_price_update__\n",
      "    return self.handlers[namespace][event](*args)\n",
      "KeyError: Timestamp('2022-08-22 17:11:00')\n",
      "\n",
      "The above exception was the direct cause of the following exception:\n",
      "\n",
      "Traceback (most recent call last):\n",
      "  File \"C:\\Users\\Ashwin Dev\\anaconda3\\lib\\site-packages\\pandas\\core\\indexes\\datetimes.py\", line 679, in get_loc\n",
      "  File \"C:\\Users\\Ashwin Dev\\anaconda3\\lib\\site-packages\\fxcmpy\\fxcmpy.py\", line 2575, in __on_price_update__\n",
      "    return Index.get_loc(self, key, method, tolerance)\n",
      "  File \"C:\\Users\\Ashwin Dev\\anaconda3\\lib\\site-packages\\pandas\\core\\indexes\\base.py\", line 3623, in get_loc\n",
      "    callbacks[func](data, self.prices[symbol])\n",
      "  File \"C:\\Users\\Ashwin Dev\\AppData\\Local\\Temp\\ipykernel_1184\\3388473720.py\", line 35, in get_tick_data\n",
      "    callbacks[func](data, self.prices[symbol])\n",
      "  File \"C:\\Users\\Ashwin Dev\\AppData\\Local\\Temp\\ipykernel_1184\\3388473720.py\", line 35, in get_tick_data\n",
      "  File \"C:\\Users\\Ashwin Dev\\anaconda3\\lib\\site-packages\\pandas\\core\\indexing.py\", line 961, in __getitem__\n",
      "  File \"C:\\Users\\Ashwin Dev\\anaconda3\\lib\\site-packages\\pandas\\core\\indexing.py\", line 961, in __getitem__\n",
      "    raise KeyError(key) from err\n",
      "KeyError: Timestamp('2022-08-22 17:11:00')\n",
      "\n",
      "The above exception was the direct cause of the following exception:\n",
      "\n",
      "Traceback (most recent call last):\n",
      "  File \"C:\\Users\\Ashwin Dev\\anaconda3\\lib\\threading.py\", line 973, in _bootstrap_inner\n",
      "    return self._getitem_tuple(key)\n",
      "  File \"C:\\Users\\Ashwin Dev\\anaconda3\\lib\\site-packages\\pandas\\core\\indexing.py\", line 1149, in _getitem_tuple\n",
      "    return self._getitem_tuple(key)\n",
      "  File \"C:\\Users\\Ashwin Dev\\anaconda3\\lib\\site-packages\\pandas\\core\\indexing.py\", line 1149, in _getitem_tuple\n",
      "        return self._getitem_tuple_same_dim(tup)\n",
      "  File \"C:\\Users\\Ashwin Dev\\anaconda3\\lib\\site-packages\\pandas\\core\\indexing.py\", line 827, in _getitem_tuple_same_dim\n",
      "self.run()\n",
      "  File \"C:\\Users\\Ashwin Dev\\anaconda3\\lib\\threading.py\", line 910, in run\n",
      "    return self._getitem_tuple_same_dim(tup)\n",
      "  File \"C:\\Users\\Ashwin Dev\\anaconda3\\lib\\site-packages\\pandas\\core\\indexing.py\", line 827, in _getitem_tuple_same_dim\n",
      "    retval = getattr(retval, self.name)._getitem_axis(key, axis=i)\n",
      "  File \"C:\\Users\\Ashwin Dev\\anaconda3\\lib\\site-packages\\pandas\\core\\indexing.py\", line 1180, in _getitem_axis\n",
      "        retval = getattr(retval, self.name)._getitem_axis(key, axis=i)\n",
      "  File \"C:\\Users\\Ashwin Dev\\anaconda3\\lib\\site-packages\\pandas\\core\\indexing.py\", line 1180, in _getitem_axis\n",
      "self._target(*self._args, **self._kwargs)\n",
      "  File \"C:\\Users\\Ashwin Dev\\anaconda3\\lib\\site-packages\\socketio\\client.py\", line 615, in _handle_eio_message\n",
      "    return self._get_slice_axis(key, axis=axis)\n",
      "  File \"C:\\Users\\Ashwin Dev\\anaconda3\\lib\\site-packages\\pandas\\core\\indexing.py\", line 1214, in _get_slice_axis\n",
      "        return self._get_slice_axis(key, axis=axis)\n",
      "  File \"C:\\Users\\Ashwin Dev\\anaconda3\\lib\\site-packages\\pandas\\core\\indexing.py\", line 1214, in _get_slice_axis\n",
      "self._handle_event(pkt.namespace, pkt.id, pkt.data)\n",
      "  File \"C:\\Users\\Ashwin Dev\\anaconda3\\lib\\site-packages\\socketio\\client.py\", line 501, in _handle_event\n",
      "    indexer = labels.slice_indexer(slice_obj.start, slice_obj.stop, slice_obj.step)\n",
      "  File \"C:\\Users\\Ashwin Dev\\anaconda3\\lib\\site-packages\\pandas\\core\\indexes\\datetimes.py\", line 743, in slice_indexer\n",
      "    indexer = labels.slice_indexer(slice_obj.start, slice_obj.stop, slice_obj.step)\n",
      "  File \"C:\\Users\\Ashwin Dev\\anaconda3\\lib\\site-packages\\pandas\\core\\indexes\\datetimes.py\", line 743, in slice_indexer\n",
      "        return Index.slice_indexer(self, start, end, step, kind=kind)\n",
      "  File \"C:\\Users\\Ashwin Dev\\anaconda3\\lib\\site-packages\\pandas\\core\\indexes\\base.py\", line 6274, in slice_indexer\n",
      "r = self._trigger_event(data[0], namespace, *data[1:])\n",
      "  File \"C:\\Users\\Ashwin Dev\\anaconda3\\lib\\site-packages\\socketio\\client.py\", line 547, in _trigger_event\n",
      "    return Index.slice_indexer(self, start, end, step, kind=kind)\n",
      "  File \"C:\\Users\\Ashwin Dev\\anaconda3\\lib\\site-packages\\pandas\\core\\indexes\\base.py\", line 6274, in slice_indexer\n",
      "    return self.handlers[namespace][event](*args)\n",
      "  File \"C:\\Users\\Ashwin Dev\\anaconda3\\lib\\site-packages\\fxcmpy\\fxcmpy.py\", line 2575, in __on_price_update__\n",
      "    callbacks[func](data, self.prices[symbol])\n",
      "  File \"C:\\Users\\Ashwin Dev\\AppData\\Local\\Temp\\ipykernel_1184\\3388473720.py\", line 35, in get_tick_data\n",
      "        start_slice, end_slice = self.slice_locs(start, end, step=step)\n",
      "  File \"C:\\Users\\Ashwin Dev\\anaconda3\\lib\\site-packages\\pandas\\core\\indexes\\base.py\", line 6484, in slice_locs\n",
      "start_slice, end_slice = self.slice_locs(start, end, step=step)\n",
      "  File \"C:\\Users\\Ashwin Dev\\anaconda3\\lib\\site-packages\\pandas\\core\\indexes\\base.py\", line 6484, in slice_locs\n",
      "  File \"C:\\Users\\Ashwin Dev\\anaconda3\\lib\\site-packages\\pandas\\core\\indexing.py\", line 961, in __getitem__\n",
      "    start_slice = self.get_slice_bound(start, \"left\")\n",
      "  File \"C:\\Users\\Ashwin Dev\\anaconda3\\lib\\site-packages\\pandas\\core\\indexes\\datetimes.py\", line 778, in get_slice_bound\n",
      "    return self._getitem_tuple(key)\n",
      "  File \"C:\\Users\\Ashwin Dev\\anaconda3\\lib\\site-packages\\pandas\\core\\indexing.py\", line 1149, in _getitem_tuple\n",
      "    return super().get_slice_bound(label, side=side, kind=kind)\n",
      "  File \"C:\\Users\\Ashwin Dev\\anaconda3\\lib\\site-packages\\pandas\\core\\indexes\\base.py\", line 6403, in get_slice_bound\n",
      "    return self._getitem_tuple_same_dim(tup)\n",
      "  File \"C:\\Users\\Ashwin Dev\\anaconda3\\lib\\site-packages\\pandas\\core\\indexing.py\", line 827, in _getitem_tuple_same_dim\n",
      "    raise err\n",
      "  File \"C:\\Users\\Ashwin Dev\\anaconda3\\lib\\site-packages\\pandas\\core\\indexes\\base.py\", line 6397, in get_slice_bound\n",
      "        start_slice = self.get_slice_bound(start, \"left\")\n",
      "  File \"C:\\Users\\Ashwin Dev\\anaconda3\\lib\\site-packages\\pandas\\core\\indexes\\datetimes.py\", line 778, in get_slice_bound\n",
      "retval = getattr(retval, self.name)._getitem_axis(key, axis=i)\n",
      "  File \"C:\\Users\\Ashwin Dev\\anaconda3\\lib\\site-packages\\pandas\\core\\indexing.py\", line 1180, in _getitem_axis\n",
      "    slc = self.get_loc(label)\n",
      "  File \"C:\\Users\\Ashwin Dev\\anaconda3\\lib\\site-packages\\pandas\\core\\indexes\\datetimes.py\", line 681, in get_loc\n",
      "    return self._get_slice_axis(key, axis=axis)\n",
      "  File \"C:\\Users\\Ashwin Dev\\anaconda3\\lib\\site-packages\\pandas\\core\\indexing.py\", line 1214, in _get_slice_axis\n",
      "    return super().get_slice_bound(label, side=side, kind=kind)\n",
      "  File \"C:\\Users\\Ashwin Dev\\anaconda3\\lib\\site-packages\\pandas\\core\\indexes\\base.py\", line 6403, in get_slice_bound\n",
      "    raise KeyError(orig_key) from err\n",
      "KeyError: Timestamp('2022-08-22 17:11:00')\n"
     ]
    },
    {
     "name": "stderr",
     "output_type": "stream",
     "text": [
      "    indexer = labels.slice_indexer(slice_obj.start, slice_obj.stop, slice_obj.step)\n",
      "  File \"C:\\Users\\Ashwin Dev\\anaconda3\\lib\\site-packages\\pandas\\core\\indexes\\datetimes.py\", line 743, in slice_indexer\n",
      "    return Index.slice_indexer(self, start, end, step, kind=kind)\n",
      "  File \"C:\\Users\\Ashwin Dev\\anaconda3\\lib\\site-packages\\pandas\\core\\indexes\\base.py\", line 6274, in slice_indexer\n",
      "    raise err\n",
      "  File \"C:\\Users\\Ashwin Dev\\anaconda3\\lib\\site-packages\\pandas\\core\\indexes\\base.py\", line 6397, in get_slice_bound\n",
      "    start_slice, end_slice = self.slice_locs(start, end, step=step)\n",
      "  File \"C:\\Users\\Ashwin Dev\\anaconda3\\lib\\site-packages\\pandas\\core\\indexes\\base.py\", line 6484, in slice_locs\n",
      "    slc = self.get_loc(label)\n",
      "  File \"C:\\Users\\Ashwin Dev\\anaconda3\\lib\\site-packages\\pandas\\core\\indexes\\datetimes.py\", line 681, in get_loc\n",
      "    raise KeyError(orig_key) from err\n",
      "KeyError: Timestamp('2022-08-22 17:11:00')\n",
      "    start_slice = self.get_slice_bound(start, \"left\")\n",
      "  File \"C:\\Users\\Ashwin Dev\\anaconda3\\lib\\site-packages\\pandas\\core\\indexes\\datetimes.py\", line 778, in get_slice_bound\n",
      "    return super().get_slice_bound(label, side=side, kind=kind)\n",
      "  File \"C:\\Users\\Ashwin Dev\\anaconda3\\lib\\site-packages\\pandas\\core\\indexes\\base.py\", line 6403, in get_slice_bound\n",
      "    raise err\n",
      "  File \"C:\\Users\\Ashwin Dev\\anaconda3\\lib\\site-packages\\pandas\\core\\indexes\\base.py\", line 6397, in get_slice_bound\n",
      "    slc = self.get_loc(label)\n",
      "  File \"C:\\Users\\Ashwin Dev\\anaconda3\\lib\\site-packages\\pandas\\core\\indexes\\datetimes.py\", line 681, in get_loc\n",
      "    raise KeyError(orig_key) from err\n",
      "KeyError: Timestamp('2022-08-22 17:11:00')\n"
     ]
    },
    {
     "name": "stdout",
     "output_type": "stream",
     "text": [
      "49 50 51 "
     ]
    },
    {
     "name": "stderr",
     "output_type": "stream",
     "text": [
      "Exception in thread Thread-3504:\n",
      "Traceback (most recent call last):\n",
      "  File \"pandas\\_libs\\index.pyx\", line 545, in pandas._libs.index.DatetimeEngine.get_loc\n",
      "  File \"pandas\\_libs\\hashtable_class_helper.pxi\", line 2131, in pandas._libs.hashtable.Int64HashTable.get_item\n",
      "  File \"pandas\\_libs\\hashtable_class_helper.pxi\", line 2140, in pandas._libs.hashtable.Int64HashTable.get_item\n",
      "KeyError: 1661188260000000000\n",
      "\n",
      "During handling of the above exception, another exception occurred:\n",
      "\n",
      "Traceback (most recent call last):\n",
      "  File \"C:\\Users\\Ashwin Dev\\anaconda3\\lib\\site-packages\\pandas\\core\\indexes\\base.py\", line 3621, in get_loc\n",
      "    return self._engine.get_loc(casted_key)\n",
      "  File \"pandas\\_libs\\index.pyx\", line 513, in pandas._libs.index.DatetimeEngine.get_loc\n",
      "  File \"pandas\\_libs\\index.pyx\", line 547, in pandas._libs.index.DatetimeEngine.get_loc\n",
      "KeyError: Timestamp('2022-08-22 17:11:00')\n",
      "\n",
      "The above exception was the direct cause of the following exception:\n",
      "\n",
      "Traceback (most recent call last):\n",
      "  File \"C:\\Users\\Ashwin Dev\\anaconda3\\lib\\site-packages\\pandas\\core\\indexes\\datetimes.py\", line 679, in get_loc\n",
      "    return Index.get_loc(self, key, method, tolerance)\n",
      "  File \"C:\\Users\\Ashwin Dev\\anaconda3\\lib\\site-packages\\pandas\\core\\indexes\\base.py\", line 3623, in get_loc\n",
      "    raise KeyError(key) from err\n",
      "KeyError: Timestamp('2022-08-22 17:11:00')\n",
      "\n",
      "The above exception was the direct cause of the following exception:\n",
      "\n",
      "Traceback (most recent call last):\n",
      "  File \"C:\\Users\\Ashwin Dev\\anaconda3\\lib\\threading.py\", line 973, in _bootstrap_inner\n",
      "    self.run()\n",
      "  File \"C:\\Users\\Ashwin Dev\\anaconda3\\lib\\threading.py\", line 910, in run\n",
      "    self._target(*self._args, **self._kwargs)\n",
      "  File \"C:\\Users\\Ashwin Dev\\anaconda3\\lib\\site-packages\\socketio\\client.py\", line 615, in _handle_eio_message\n",
      "    self._handle_event(pkt.namespace, pkt.id, pkt.data)\n",
      "  File \"C:\\Users\\Ashwin Dev\\anaconda3\\lib\\site-packages\\socketio\\client.py\", line 501, in _handle_event\n",
      "    r = self._trigger_event(data[0], namespace, *data[1:])\n",
      "  File \"C:\\Users\\Ashwin Dev\\anaconda3\\lib\\site-packages\\socketio\\client.py\", line 547, in _trigger_event\n",
      "    return self.handlers[namespace][event](*args)\n",
      "  File \"C:\\Users\\Ashwin Dev\\anaconda3\\lib\\site-packages\\fxcmpy\\fxcmpy.py\", line 2575, in __on_price_update__\n",
      "    callbacks[func](data, self.prices[symbol])\n",
      "  File \"C:\\Users\\Ashwin Dev\\AppData\\Local\\Temp\\ipykernel_1184\\3388473720.py\", line 35, in get_tick_data\n",
      "  File \"C:\\Users\\Ashwin Dev\\anaconda3\\lib\\site-packages\\pandas\\core\\indexing.py\", line 961, in __getitem__\n",
      "    return self._getitem_tuple(key)\n",
      "  File \"C:\\Users\\Ashwin Dev\\anaconda3\\lib\\site-packages\\pandas\\core\\indexing.py\", line 1149, in _getitem_tuple\n",
      "    return self._getitem_tuple_same_dim(tup)\n",
      "  File \"C:\\Users\\Ashwin Dev\\anaconda3\\lib\\site-packages\\pandas\\core\\indexing.py\", line 827, in _getitem_tuple_same_dim\n",
      "    retval = getattr(retval, self.name)._getitem_axis(key, axis=i)\n",
      "  File \"C:\\Users\\Ashwin Dev\\anaconda3\\lib\\site-packages\\pandas\\core\\indexing.py\", line 1180, in _getitem_axis\n",
      "    return self._get_slice_axis(key, axis=axis)\n",
      "  File \"C:\\Users\\Ashwin Dev\\anaconda3\\lib\\site-packages\\pandas\\core\\indexing.py\", line 1214, in _get_slice_axis\n",
      "    indexer = labels.slice_indexer(slice_obj.start, slice_obj.stop, slice_obj.step)\n",
      "  File \"C:\\Users\\Ashwin Dev\\anaconda3\\lib\\site-packages\\pandas\\core\\indexes\\datetimes.py\", line 743, in slice_indexer\n",
      "    return Index.slice_indexer(self, start, end, step, kind=kind)\n",
      "  File \"C:\\Users\\Ashwin Dev\\anaconda3\\lib\\site-packages\\pandas\\core\\indexes\\base.py\", line 6274, in slice_indexer\n",
      "    start_slice, end_slice = self.slice_locs(start, end, step=step)\n",
      "  File \"C:\\Users\\Ashwin Dev\\anaconda3\\lib\\site-packages\\pandas\\core\\indexes\\base.py\", line 6484, in slice_locs\n",
      "    start_slice = self.get_slice_bound(start, \"left\")\n",
      "  File \"C:\\Users\\Ashwin Dev\\anaconda3\\lib\\site-packages\\pandas\\core\\indexes\\datetimes.py\", line 778, in get_slice_bound\n",
      "    return super().get_slice_bound(label, side=side, kind=kind)\n",
      "  File \"C:\\Users\\Ashwin Dev\\anaconda3\\lib\\site-packages\\pandas\\core\\indexes\\base.py\", line 6403, in get_slice_bound\n",
      "    raise err\n",
      "  File \"C:\\Users\\Ashwin Dev\\anaconda3\\lib\\site-packages\\pandas\\core\\indexes\\base.py\", line 6397, in get_slice_bound\n",
      "    slc = self.get_loc(label)\n",
      "  File \"C:\\Users\\Ashwin Dev\\anaconda3\\lib\\site-packages\\pandas\\core\\indexes\\datetimes.py\", line 681, in get_loc\n",
      "    raise KeyError(orig_key) from err\n",
      "KeyError: Timestamp('2022-08-22 17:11:00')\n"
     ]
    },
    {
     "name": "stdout",
     "output_type": "stream",
     "text": [
      "52 "
     ]
    },
    {
     "name": "stderr",
     "output_type": "stream",
     "text": [
      "Exception in thread Thread-3515:\n",
      "Traceback (most recent call last):\n",
      "  File \"pandas\\_libs\\index.pyx\", line 545, in pandas._libs.index.DatetimeEngine.get_loc\n",
      "  File \"pandas\\_libs\\hashtable_class_helper.pxi\", line 2131, in pandas._libs.hashtable.Int64HashTable.get_item\n",
      "  File \"pandas\\_libs\\hashtable_class_helper.pxi\", line 2140, in pandas._libs.hashtable.Int64HashTable.get_item\n",
      "KeyError: 1661188260000000000\n",
      "\n",
      "During handling of the above exception, another exception occurred:\n",
      "\n",
      "Traceback (most recent call last):\n",
      "  File \"C:\\Users\\Ashwin Dev\\anaconda3\\lib\\site-packages\\pandas\\core\\indexes\\base.py\", line 3621, in get_loc\n",
      "    return self._engine.get_loc(casted_key)\n",
      "  File \"pandas\\_libs\\index.pyx\", line 513, in pandas._libs.index.DatetimeEngine.get_loc\n",
      "  File \"pandas\\_libs\\index.pyx\", line 547, in pandas._libs.index.DatetimeEngine.get_loc\n",
      "KeyError: Timestamp('2022-08-22 17:11:00')\n",
      "\n",
      "The above exception was the direct cause of the following exception:\n",
      "\n",
      "Traceback (most recent call last):\n",
      "  File \"C:\\Users\\Ashwin Dev\\anaconda3\\lib\\site-packages\\pandas\\core\\indexes\\datetimes.py\", line 679, in get_loc\n",
      "    return Index.get_loc(self, key, method, tolerance)\n",
      "  File \"C:\\Users\\Ashwin Dev\\anaconda3\\lib\\site-packages\\pandas\\core\\indexes\\base.py\", line 3623, in get_loc\n",
      "    raise KeyError(key) from err\n",
      "KeyError: Timestamp('2022-08-22 17:11:00')\n",
      "\n",
      "The above exception was the direct cause of the following exception:\n",
      "\n",
      "Traceback (most recent call last):\n",
      "  File \"C:\\Users\\Ashwin Dev\\anaconda3\\lib\\threading.py\", line 973, in _bootstrap_inner\n",
      "    self.run()\n",
      "  File \"C:\\Users\\Ashwin Dev\\anaconda3\\lib\\threading.py\", line 910, in run\n",
      "    self._target(*self._args, **self._kwargs)\n",
      "  File \"C:\\Users\\Ashwin Dev\\anaconda3\\lib\\site-packages\\socketio\\client.py\", line 615, in _handle_eio_message\n",
      "    self._handle_event(pkt.namespace, pkt.id, pkt.data)\n",
      "  File \"C:\\Users\\Ashwin Dev\\anaconda3\\lib\\site-packages\\socketio\\client.py\", line 501, in _handle_event\n",
      "    r = self._trigger_event(data[0], namespace, *data[1:])\n",
      "  File \"C:\\Users\\Ashwin Dev\\anaconda3\\lib\\site-packages\\socketio\\client.py\", line 547, in _trigger_event\n",
      "    return self.handlers[namespace][event](*args)\n",
      "  File \"C:\\Users\\Ashwin Dev\\anaconda3\\lib\\site-packages\\fxcmpy\\fxcmpy.py\", line 2575, in __on_price_update__\n",
      "    callbacks[func](data, self.prices[symbol])\n",
      "  File \"C:\\Users\\Ashwin Dev\\AppData\\Local\\Temp\\ipykernel_1184\\3388473720.py\", line 35, in get_tick_data\n",
      "  File \"C:\\Users\\Ashwin Dev\\anaconda3\\lib\\site-packages\\pandas\\core\\indexing.py\", line 961, in __getitem__\n",
      "    return self._getitem_tuple(key)\n",
      "  File \"C:\\Users\\Ashwin Dev\\anaconda3\\lib\\site-packages\\pandas\\core\\indexing.py\", line 1149, in _getitem_tuple\n",
      "    return self._getitem_tuple_same_dim(tup)\n",
      "  File \"C:\\Users\\Ashwin Dev\\anaconda3\\lib\\site-packages\\pandas\\core\\indexing.py\", line 827, in _getitem_tuple_same_dim\n",
      "    retval = getattr(retval, self.name)._getitem_axis(key, axis=i)\n",
      "  File \"C:\\Users\\Ashwin Dev\\anaconda3\\lib\\site-packages\\pandas\\core\\indexing.py\", line 1180, in _getitem_axis\n",
      "    return self._get_slice_axis(key, axis=axis)\n",
      "  File \"C:\\Users\\Ashwin Dev\\anaconda3\\lib\\site-packages\\pandas\\core\\indexing.py\", line 1214, in _get_slice_axis\n",
      "    indexer = labels.slice_indexer(slice_obj.start, slice_obj.stop, slice_obj.step)\n",
      "  File \"C:\\Users\\Ashwin Dev\\anaconda3\\lib\\site-packages\\pandas\\core\\indexes\\datetimes.py\", line 743, in slice_indexer\n",
      "    return Index.slice_indexer(self, start, end, step, kind=kind)\n",
      "  File \"C:\\Users\\Ashwin Dev\\anaconda3\\lib\\site-packages\\pandas\\core\\indexes\\base.py\", line 6274, in slice_indexer\n",
      "    start_slice, end_slice = self.slice_locs(start, end, step=step)\n",
      "  File \"C:\\Users\\Ashwin Dev\\anaconda3\\lib\\site-packages\\pandas\\core\\indexes\\base.py\", line 6484, in slice_locs\n",
      "    start_slice = self.get_slice_bound(start, \"left\")\n",
      "  File \"C:\\Users\\Ashwin Dev\\anaconda3\\lib\\site-packages\\pandas\\core\\indexes\\datetimes.py\", line 778, in get_slice_bound\n",
      "    return super().get_slice_bound(label, side=side, kind=kind)\n",
      "  File \"C:\\Users\\Ashwin Dev\\anaconda3\\lib\\site-packages\\pandas\\core\\indexes\\base.py\", line 6403, in get_slice_bound\n",
      "    raise err\n",
      "  File \"C:\\Users\\Ashwin Dev\\anaconda3\\lib\\site-packages\\pandas\\core\\indexes\\base.py\", line 6397, in get_slice_bound\n",
      "    slc = self.get_loc(label)\n",
      "  File \"C:\\Users\\Ashwin Dev\\anaconda3\\lib\\site-packages\\pandas\\core\\indexes\\datetimes.py\", line 681, in get_loc\n",
      "    raise KeyError(orig_key) from err\n",
      "KeyError: Timestamp('2022-08-22 17:11:00')\n"
     ]
    },
    {
     "name": "stdout",
     "output_type": "stream",
     "text": [
      "53 "
     ]
    },
    {
     "name": "stderr",
     "output_type": "stream",
     "text": [
      "Exception in thread Thread-3523:\n",
      "Traceback (most recent call last):\n",
      "  File \"pandas\\_libs\\index.pyx\", line 545, in pandas._libs.index.DatetimeEngine.get_loc\n",
      "  File \"pandas\\_libs\\hashtable_class_helper.pxi\", line 2131, in pandas._libs.hashtable.Int64HashTable.get_item\n",
      "  File \"pandas\\_libs\\hashtable_class_helper.pxi\", line 2140, in pandas._libs.hashtable.Int64HashTable.get_item\n",
      "KeyError: 1661188260000000000\n",
      "\n",
      "During handling of the above exception, another exception occurred:\n",
      "\n",
      "Traceback (most recent call last):\n",
      "  File \"C:\\Users\\Ashwin Dev\\anaconda3\\lib\\site-packages\\pandas\\core\\indexes\\base.py\", line 3621, in get_loc\n",
      "    return self._engine.get_loc(casted_key)\n",
      "  File \"pandas\\_libs\\index.pyx\", line 513, in pandas._libs.index.DatetimeEngine.get_loc\n",
      "  File \"pandas\\_libs\\index.pyx\", line 547, in pandas._libs.index.DatetimeEngine.get_loc\n",
      "KeyError: Timestamp('2022-08-22 17:11:00')\n",
      "\n",
      "The above exception was the direct cause of the following exception:\n",
      "\n",
      "Traceback (most recent call last):\n",
      "  File \"C:\\Users\\Ashwin Dev\\anaconda3\\lib\\site-packages\\pandas\\core\\indexes\\datetimes.py\", line 679, in get_loc\n",
      "    return Index.get_loc(self, key, method, tolerance)\n",
      "  File \"C:\\Users\\Ashwin Dev\\anaconda3\\lib\\site-packages\\pandas\\core\\indexes\\base.py\", line 3623, in get_loc\n",
      "    raise KeyError(key) from err\n",
      "KeyError: Timestamp('2022-08-22 17:11:00')\n",
      "\n",
      "The above exception was the direct cause of the following exception:\n",
      "\n",
      "Traceback (most recent call last):\n",
      "  File \"C:\\Users\\Ashwin Dev\\anaconda3\\lib\\threading.py\", line 973, in _bootstrap_inner\n",
      "    self.run()\n",
      "  File \"C:\\Users\\Ashwin Dev\\anaconda3\\lib\\threading.py\", line 910, in run\n",
      "    self._target(*self._args, **self._kwargs)\n",
      "  File \"C:\\Users\\Ashwin Dev\\anaconda3\\lib\\site-packages\\socketio\\client.py\", line 615, in _handle_eio_message\n",
      "    self._handle_event(pkt.namespace, pkt.id, pkt.data)\n",
      "  File \"C:\\Users\\Ashwin Dev\\anaconda3\\lib\\site-packages\\socketio\\client.py\", line 501, in _handle_event\n",
      "    r = self._trigger_event(data[0], namespace, *data[1:])\n",
      "  File \"C:\\Users\\Ashwin Dev\\anaconda3\\lib\\site-packages\\socketio\\client.py\", line 547, in _trigger_event\n",
      "    return self.handlers[namespace][event](*args)\n",
      "  File \"C:\\Users\\Ashwin Dev\\anaconda3\\lib\\site-packages\\fxcmpy\\fxcmpy.py\", line 2575, in __on_price_update__\n",
      "    callbacks[func](data, self.prices[symbol])\n",
      "  File \"C:\\Users\\Ashwin Dev\\AppData\\Local\\Temp\\ipykernel_1184\\3388473720.py\", line 35, in get_tick_data\n",
      "  File \"C:\\Users\\Ashwin Dev\\anaconda3\\lib\\site-packages\\pandas\\core\\indexing.py\", line 961, in __getitem__\n",
      "    return self._getitem_tuple(key)\n",
      "  File \"C:\\Users\\Ashwin Dev\\anaconda3\\lib\\site-packages\\pandas\\core\\indexing.py\", line 1149, in _getitem_tuple\n",
      "    return self._getitem_tuple_same_dim(tup)\n",
      "  File \"C:\\Users\\Ashwin Dev\\anaconda3\\lib\\site-packages\\pandas\\core\\indexing.py\", line 827, in _getitem_tuple_same_dim\n",
      "    retval = getattr(retval, self.name)._getitem_axis(key, axis=i)\n",
      "  File \"C:\\Users\\Ashwin Dev\\anaconda3\\lib\\site-packages\\pandas\\core\\indexing.py\", line 1180, in _getitem_axis\n",
      "    return self._get_slice_axis(key, axis=axis)\n",
      "  File \"C:\\Users\\Ashwin Dev\\anaconda3\\lib\\site-packages\\pandas\\core\\indexing.py\", line 1214, in _get_slice_axis\n",
      "    indexer = labels.slice_indexer(slice_obj.start, slice_obj.stop, slice_obj.step)\n",
      "  File \"C:\\Users\\Ashwin Dev\\anaconda3\\lib\\site-packages\\pandas\\core\\indexes\\datetimes.py\", line 743, in slice_indexer\n",
      "    return Index.slice_indexer(self, start, end, step, kind=kind)\n",
      "  File \"C:\\Users\\Ashwin Dev\\anaconda3\\lib\\site-packages\\pandas\\core\\indexes\\base.py\", line 6274, in slice_indexer\n",
      "    start_slice, end_slice = self.slice_locs(start, end, step=step)\n",
      "  File \"C:\\Users\\Ashwin Dev\\anaconda3\\lib\\site-packages\\pandas\\core\\indexes\\base.py\", line 6484, in slice_locs\n",
      "    start_slice = self.get_slice_bound(start, \"left\")\n",
      "  File \"C:\\Users\\Ashwin Dev\\anaconda3\\lib\\site-packages\\pandas\\core\\indexes\\datetimes.py\", line 778, in get_slice_bound\n",
      "    return super().get_slice_bound(label, side=side, kind=kind)\n",
      "  File \"C:\\Users\\Ashwin Dev\\anaconda3\\lib\\site-packages\\pandas\\core\\indexes\\base.py\", line 6403, in get_slice_bound\n",
      "    raise err\n",
      "  File \"C:\\Users\\Ashwin Dev\\anaconda3\\lib\\site-packages\\pandas\\core\\indexes\\base.py\", line 6397, in get_slice_bound\n",
      "    slc = self.get_loc(label)\n",
      "  File \"C:\\Users\\Ashwin Dev\\anaconda3\\lib\\site-packages\\pandas\\core\\indexes\\datetimes.py\", line 681, in get_loc\n",
      "    raise KeyError(orig_key) from err\n",
      "KeyError: Timestamp('2022-08-22 17:11:00')\n"
     ]
    },
    {
     "name": "stdout",
     "output_type": "stream",
     "text": [
      "54 "
     ]
    },
    {
     "name": "stderr",
     "output_type": "stream",
     "text": [
      "Exception in thread Thread-3531:\n",
      "Traceback (most recent call last):\n",
      "  File \"pandas\\_libs\\index.pyx\", line 545, in pandas._libs.index.DatetimeEngine.get_loc\n",
      "  File \"pandas\\_libs\\hashtable_class_helper.pxi\", line 2131, in pandas._libs.hashtable.Int64HashTable.get_item\n",
      "  File \"pandas\\_libs\\hashtable_class_helper.pxi\", line 2140, in pandas._libs.hashtable.Int64HashTable.get_item\n",
      "KeyError: 1661188260000000000\n",
      "\n",
      "During handling of the above exception, another exception occurred:\n",
      "\n",
      "Traceback (most recent call last):\n",
      "  File \"C:\\Users\\Ashwin Dev\\anaconda3\\lib\\site-packages\\pandas\\core\\indexes\\base.py\", line 3621, in get_loc\n",
      "    return self._engine.get_loc(casted_key)\n",
      "  File \"pandas\\_libs\\index.pyx\", line 513, in pandas._libs.index.DatetimeEngine.get_loc\n",
      "  File \"pandas\\_libs\\index.pyx\", line 547, in pandas._libs.index.DatetimeEngine.get_loc\n",
      "KeyError: Timestamp('2022-08-22 17:11:00')\n",
      "\n",
      "The above exception was the direct cause of the following exception:\n",
      "\n",
      "Traceback (most recent call last):\n",
      "  File \"C:\\Users\\Ashwin Dev\\anaconda3\\lib\\site-packages\\pandas\\core\\indexes\\datetimes.py\", line 679, in get_loc\n",
      "    return Index.get_loc(self, key, method, tolerance)\n",
      "  File \"C:\\Users\\Ashwin Dev\\anaconda3\\lib\\site-packages\\pandas\\core\\indexes\\base.py\", line 3623, in get_loc\n",
      "    raise KeyError(key) from err\n",
      "KeyError: Timestamp('2022-08-22 17:11:00')\n",
      "\n",
      "The above exception was the direct cause of the following exception:\n",
      "\n",
      "Traceback (most recent call last):\n",
      "  File \"C:\\Users\\Ashwin Dev\\anaconda3\\lib\\threading.py\", line 973, in _bootstrap_inner\n",
      "    self.run()\n",
      "  File \"C:\\Users\\Ashwin Dev\\anaconda3\\lib\\threading.py\", line 910, in run\n",
      "    self._target(*self._args, **self._kwargs)\n",
      "  File \"C:\\Users\\Ashwin Dev\\anaconda3\\lib\\site-packages\\socketio\\client.py\", line 615, in _handle_eio_message\n",
      "    self._handle_event(pkt.namespace, pkt.id, pkt.data)\n",
      "  File \"C:\\Users\\Ashwin Dev\\anaconda3\\lib\\site-packages\\socketio\\client.py\", line 501, in _handle_event\n",
      "    r = self._trigger_event(data[0], namespace, *data[1:])\n",
      "  File \"C:\\Users\\Ashwin Dev\\anaconda3\\lib\\site-packages\\socketio\\client.py\", line 547, in _trigger_event\n",
      "    return self.handlers[namespace][event](*args)\n",
      "  File \"C:\\Users\\Ashwin Dev\\anaconda3\\lib\\site-packages\\fxcmpy\\fxcmpy.py\", line 2575, in __on_price_update__\n",
      "    callbacks[func](data, self.prices[symbol])\n",
      "  File \"C:\\Users\\Ashwin Dev\\AppData\\Local\\Temp\\ipykernel_1184\\3388473720.py\", line 35, in get_tick_data\n",
      "  File \"C:\\Users\\Ashwin Dev\\anaconda3\\lib\\site-packages\\pandas\\core\\indexing.py\", line 961, in __getitem__\n",
      "    return self._getitem_tuple(key)\n",
      "  File \"C:\\Users\\Ashwin Dev\\anaconda3\\lib\\site-packages\\pandas\\core\\indexing.py\", line 1149, in _getitem_tuple\n",
      "    return self._getitem_tuple_same_dim(tup)\n",
      "  File \"C:\\Users\\Ashwin Dev\\anaconda3\\lib\\site-packages\\pandas\\core\\indexing.py\", line 827, in _getitem_tuple_same_dim\n",
      "    retval = getattr(retval, self.name)._getitem_axis(key, axis=i)\n",
      "  File \"C:\\Users\\Ashwin Dev\\anaconda3\\lib\\site-packages\\pandas\\core\\indexing.py\", line 1180, in _getitem_axis\n",
      "    return self._get_slice_axis(key, axis=axis)\n",
      "  File \"C:\\Users\\Ashwin Dev\\anaconda3\\lib\\site-packages\\pandas\\core\\indexing.py\", line 1214, in _get_slice_axis\n",
      "    indexer = labels.slice_indexer(slice_obj.start, slice_obj.stop, slice_obj.step)\n",
      "  File \"C:\\Users\\Ashwin Dev\\anaconda3\\lib\\site-packages\\pandas\\core\\indexes\\datetimes.py\", line 743, in slice_indexer\n",
      "    return Index.slice_indexer(self, start, end, step, kind=kind)\n",
      "  File \"C:\\Users\\Ashwin Dev\\anaconda3\\lib\\site-packages\\pandas\\core\\indexes\\base.py\", line 6274, in slice_indexer\n",
      "    start_slice, end_slice = self.slice_locs(start, end, step=step)\n",
      "  File \"C:\\Users\\Ashwin Dev\\anaconda3\\lib\\site-packages\\pandas\\core\\indexes\\base.py\", line 6484, in slice_locs\n",
      "    start_slice = self.get_slice_bound(start, \"left\")\n",
      "  File \"C:\\Users\\Ashwin Dev\\anaconda3\\lib\\site-packages\\pandas\\core\\indexes\\datetimes.py\", line 778, in get_slice_bound\n",
      "    return super().get_slice_bound(label, side=side, kind=kind)\n",
      "  File \"C:\\Users\\Ashwin Dev\\anaconda3\\lib\\site-packages\\pandas\\core\\indexes\\base.py\", line 6403, in get_slice_bound\n",
      "    raise err\n",
      "  File \"C:\\Users\\Ashwin Dev\\anaconda3\\lib\\site-packages\\pandas\\core\\indexes\\base.py\", line 6397, in get_slice_bound\n",
      "    slc = self.get_loc(label)\n",
      "  File \"C:\\Users\\Ashwin Dev\\anaconda3\\lib\\site-packages\\pandas\\core\\indexes\\datetimes.py\", line 681, in get_loc\n",
      "    raise KeyError(orig_key) from err\n",
      "KeyError: Timestamp('2022-08-22 17:11:00')\n"
     ]
    },
    {
     "name": "stdout",
     "output_type": "stream",
     "text": [
      "55 "
     ]
    },
    {
     "name": "stderr",
     "output_type": "stream",
     "text": [
      "Exception in thread Thread-3539:\n",
      "Traceback (most recent call last):\n",
      "  File \"pandas\\_libs\\index.pyx\", line 545, in pandas._libs.index.DatetimeEngine.get_loc\n",
      "  File \"pandas\\_libs\\hashtable_class_helper.pxi\", line 2131, in pandas._libs.hashtable.Int64HashTable.get_item\n",
      "  File \"pandas\\_libs\\hashtable_class_helper.pxi\", line 2140, in pandas._libs.hashtable.Int64HashTable.get_item\n",
      "KeyError: 1661188260000000000\n",
      "\n",
      "During handling of the above exception, another exception occurred:\n",
      "\n",
      "Traceback (most recent call last):\n",
      "  File \"C:\\Users\\Ashwin Dev\\anaconda3\\lib\\site-packages\\pandas\\core\\indexes\\base.py\", line 3621, in get_loc\n",
      "    return self._engine.get_loc(casted_key)\n",
      "  File \"pandas\\_libs\\index.pyx\", line 513, in pandas._libs.index.DatetimeEngine.get_loc\n",
      "  File \"pandas\\_libs\\index.pyx\", line 547, in pandas._libs.index.DatetimeEngine.get_loc\n",
      "KeyError: Timestamp('2022-08-22 17:11:00')\n",
      "\n",
      "The above exception was the direct cause of the following exception:\n",
      "\n",
      "Traceback (most recent call last):\n",
      "  File \"C:\\Users\\Ashwin Dev\\anaconda3\\lib\\site-packages\\pandas\\core\\indexes\\datetimes.py\", line 679, in get_loc\n",
      "    return Index.get_loc(self, key, method, tolerance)\n",
      "  File \"C:\\Users\\Ashwin Dev\\anaconda3\\lib\\site-packages\\pandas\\core\\indexes\\base.py\", line 3623, in get_loc\n",
      "    raise KeyError(key) from err\n",
      "KeyError: Timestamp('2022-08-22 17:11:00')\n",
      "\n",
      "The above exception was the direct cause of the following exception:\n",
      "\n",
      "Traceback (most recent call last):\n",
      "  File \"C:\\Users\\Ashwin Dev\\anaconda3\\lib\\threading.py\", line 973, in _bootstrap_inner\n",
      "    self.run()\n",
      "  File \"C:\\Users\\Ashwin Dev\\anaconda3\\lib\\threading.py\", line 910, in run\n",
      "    self._target(*self._args, **self._kwargs)\n",
      "  File \"C:\\Users\\Ashwin Dev\\anaconda3\\lib\\site-packages\\socketio\\client.py\", line 615, in _handle_eio_message\n",
      "    self._handle_event(pkt.namespace, pkt.id, pkt.data)\n",
      "  File \"C:\\Users\\Ashwin Dev\\anaconda3\\lib\\site-packages\\socketio\\client.py\", line 501, in _handle_event\n",
      "    r = self._trigger_event(data[0], namespace, *data[1:])\n",
      "  File \"C:\\Users\\Ashwin Dev\\anaconda3\\lib\\site-packages\\socketio\\client.py\", line 547, in _trigger_event\n",
      "    return self.handlers[namespace][event](*args)\n",
      "  File \"C:\\Users\\Ashwin Dev\\anaconda3\\lib\\site-packages\\fxcmpy\\fxcmpy.py\", line 2575, in __on_price_update__\n",
      "    callbacks[func](data, self.prices[symbol])\n",
      "  File \"C:\\Users\\Ashwin Dev\\AppData\\Local\\Temp\\ipykernel_1184\\3388473720.py\", line 35, in get_tick_data\n",
      "  File \"C:\\Users\\Ashwin Dev\\anaconda3\\lib\\site-packages\\pandas\\core\\indexing.py\", line 961, in __getitem__\n",
      "    return self._getitem_tuple(key)\n",
      "  File \"C:\\Users\\Ashwin Dev\\anaconda3\\lib\\site-packages\\pandas\\core\\indexing.py\", line 1149, in _getitem_tuple\n",
      "    return self._getitem_tuple_same_dim(tup)\n",
      "  File \"C:\\Users\\Ashwin Dev\\anaconda3\\lib\\site-packages\\pandas\\core\\indexing.py\", line 827, in _getitem_tuple_same_dim\n",
      "    retval = getattr(retval, self.name)._getitem_axis(key, axis=i)\n",
      "  File \"C:\\Users\\Ashwin Dev\\anaconda3\\lib\\site-packages\\pandas\\core\\indexing.py\", line 1180, in _getitem_axis\n",
      "    return self._get_slice_axis(key, axis=axis)\n",
      "  File \"C:\\Users\\Ashwin Dev\\anaconda3\\lib\\site-packages\\pandas\\core\\indexing.py\", line 1214, in _get_slice_axis\n",
      "    indexer = labels.slice_indexer(slice_obj.start, slice_obj.stop, slice_obj.step)\n",
      "  File \"C:\\Users\\Ashwin Dev\\anaconda3\\lib\\site-packages\\pandas\\core\\indexes\\datetimes.py\", line 743, in slice_indexer\n",
      "    return Index.slice_indexer(self, start, end, step, kind=kind)\n",
      "  File \"C:\\Users\\Ashwin Dev\\anaconda3\\lib\\site-packages\\pandas\\core\\indexes\\base.py\", line 6274, in slice_indexer\n",
      "    start_slice, end_slice = self.slice_locs(start, end, step=step)\n",
      "  File \"C:\\Users\\Ashwin Dev\\anaconda3\\lib\\site-packages\\pandas\\core\\indexes\\base.py\", line 6484, in slice_locs\n",
      "    start_slice = self.get_slice_bound(start, \"left\")\n",
      "  File \"C:\\Users\\Ashwin Dev\\anaconda3\\lib\\site-packages\\pandas\\core\\indexes\\datetimes.py\", line 778, in get_slice_bound\n",
      "    return super().get_slice_bound(label, side=side, kind=kind)\n",
      "  File \"C:\\Users\\Ashwin Dev\\anaconda3\\lib\\site-packages\\pandas\\core\\indexes\\base.py\", line 6403, in get_slice_bound\n",
      "    raise err\n",
      "  File \"C:\\Users\\Ashwin Dev\\anaconda3\\lib\\site-packages\\pandas\\core\\indexes\\base.py\", line 6397, in get_slice_bound\n",
      "    slc = self.get_loc(label)\n",
      "  File \"C:\\Users\\Ashwin Dev\\anaconda3\\lib\\site-packages\\pandas\\core\\indexes\\datetimes.py\", line 681, in get_loc\n",
      "    raise KeyError(orig_key) from err\n",
      "KeyError: Timestamp('2022-08-22 17:11:00')\n"
     ]
    },
    {
     "name": "stdout",
     "output_type": "stream",
     "text": [
      "56 "
     ]
    },
    {
     "name": "stderr",
     "output_type": "stream",
     "text": [
      "Exception in thread Thread-3550:\n",
      "Traceback (most recent call last):\n",
      "  File \"pandas\\_libs\\index.pyx\", line 545, in pandas._libs.index.DatetimeEngine.get_loc\n",
      "  File \"pandas\\_libs\\hashtable_class_helper.pxi\", line 2131, in pandas._libs.hashtable.Int64HashTable.get_item\n",
      "  File \"pandas\\_libs\\hashtable_class_helper.pxi\", line 2140, in pandas._libs.hashtable.Int64HashTable.get_item\n",
      "KeyError: 1661188260000000000\n",
      "\n",
      "During handling of the above exception, another exception occurred:\n",
      "\n",
      "Traceback (most recent call last):\n",
      "  File \"C:\\Users\\Ashwin Dev\\anaconda3\\lib\\site-packages\\pandas\\core\\indexes\\base.py\", line 3621, in get_loc\n",
      "    return self._engine.get_loc(casted_key)\n",
      "  File \"pandas\\_libs\\index.pyx\", line 513, in pandas._libs.index.DatetimeEngine.get_loc\n",
      "  File \"pandas\\_libs\\index.pyx\", line 547, in pandas._libs.index.DatetimeEngine.get_loc\n",
      "KeyError: Timestamp('2022-08-22 17:11:00')\n",
      "\n",
      "The above exception was the direct cause of the following exception:\n",
      "\n",
      "Traceback (most recent call last):\n",
      "  File \"C:\\Users\\Ashwin Dev\\anaconda3\\lib\\site-packages\\pandas\\core\\indexes\\datetimes.py\", line 679, in get_loc\n",
      "    return Index.get_loc(self, key, method, tolerance)\n",
      "  File \"C:\\Users\\Ashwin Dev\\anaconda3\\lib\\site-packages\\pandas\\core\\indexes\\base.py\", line 3623, in get_loc\n",
      "    raise KeyError(key) from err\n",
      "KeyError: Timestamp('2022-08-22 17:11:00')\n",
      "\n",
      "The above exception was the direct cause of the following exception:\n",
      "\n",
      "Traceback (most recent call last):\n",
      "  File \"C:\\Users\\Ashwin Dev\\anaconda3\\lib\\threading.py\", line 973, in _bootstrap_inner\n",
      "    self.run()\n",
      "  File \"C:\\Users\\Ashwin Dev\\anaconda3\\lib\\threading.py\", line 910, in run\n",
      "    self._target(*self._args, **self._kwargs)\n",
      "  File \"C:\\Users\\Ashwin Dev\\anaconda3\\lib\\site-packages\\socketio\\client.py\", line 615, in _handle_eio_message\n",
      "    self._handle_event(pkt.namespace, pkt.id, pkt.data)\n",
      "  File \"C:\\Users\\Ashwin Dev\\anaconda3\\lib\\site-packages\\socketio\\client.py\", line 501, in _handle_event\n",
      "    r = self._trigger_event(data[0], namespace, *data[1:])\n",
      "  File \"C:\\Users\\Ashwin Dev\\anaconda3\\lib\\site-packages\\socketio\\client.py\", line 547, in _trigger_event\n",
      "    return self.handlers[namespace][event](*args)\n",
      "  File \"C:\\Users\\Ashwin Dev\\anaconda3\\lib\\site-packages\\fxcmpy\\fxcmpy.py\", line 2575, in __on_price_update__\n",
      "    callbacks[func](data, self.prices[symbol])\n",
      "  File \"C:\\Users\\Ashwin Dev\\AppData\\Local\\Temp\\ipykernel_1184\\3388473720.py\", line 35, in get_tick_data\n",
      "  File \"C:\\Users\\Ashwin Dev\\anaconda3\\lib\\site-packages\\pandas\\core\\indexing.py\", line 961, in __getitem__\n",
      "    return self._getitem_tuple(key)\n",
      "  File \"C:\\Users\\Ashwin Dev\\anaconda3\\lib\\site-packages\\pandas\\core\\indexing.py\", line 1149, in _getitem_tuple\n",
      "    return self._getitem_tuple_same_dim(tup)\n",
      "  File \"C:\\Users\\Ashwin Dev\\anaconda3\\lib\\site-packages\\pandas\\core\\indexing.py\", line 827, in _getitem_tuple_same_dim\n",
      "    retval = getattr(retval, self.name)._getitem_axis(key, axis=i)\n",
      "  File \"C:\\Users\\Ashwin Dev\\anaconda3\\lib\\site-packages\\pandas\\core\\indexing.py\", line 1180, in _getitem_axis\n",
      "    return self._get_slice_axis(key, axis=axis)\n",
      "  File \"C:\\Users\\Ashwin Dev\\anaconda3\\lib\\site-packages\\pandas\\core\\indexing.py\", line 1214, in _get_slice_axis\n",
      "    indexer = labels.slice_indexer(slice_obj.start, slice_obj.stop, slice_obj.step)\n",
      "  File \"C:\\Users\\Ashwin Dev\\anaconda3\\lib\\site-packages\\pandas\\core\\indexes\\datetimes.py\", line 743, in slice_indexer\n",
      "    return Index.slice_indexer(self, start, end, step, kind=kind)\n",
      "  File \"C:\\Users\\Ashwin Dev\\anaconda3\\lib\\site-packages\\pandas\\core\\indexes\\base.py\", line 6274, in slice_indexer\n",
      "    start_slice, end_slice = self.slice_locs(start, end, step=step)\n",
      "  File \"C:\\Users\\Ashwin Dev\\anaconda3\\lib\\site-packages\\pandas\\core\\indexes\\base.py\", line 6484, in slice_locs\n",
      "    start_slice = self.get_slice_bound(start, \"left\")\n",
      "  File \"C:\\Users\\Ashwin Dev\\anaconda3\\lib\\site-packages\\pandas\\core\\indexes\\datetimes.py\", line 778, in get_slice_bound\n",
      "    return super().get_slice_bound(label, side=side, kind=kind)\n",
      "  File \"C:\\Users\\Ashwin Dev\\anaconda3\\lib\\site-packages\\pandas\\core\\indexes\\base.py\", line 6403, in get_slice_bound\n",
      "    raise err\n",
      "  File \"C:\\Users\\Ashwin Dev\\anaconda3\\lib\\site-packages\\pandas\\core\\indexes\\base.py\", line 6397, in get_slice_bound\n",
      "    slc = self.get_loc(label)\n",
      "  File \"C:\\Users\\Ashwin Dev\\anaconda3\\lib\\site-packages\\pandas\\core\\indexes\\datetimes.py\", line 681, in get_loc\n",
      "    raise KeyError(orig_key) from err\n",
      "KeyError: Timestamp('2022-08-22 17:11:00')\n"
     ]
    },
    {
     "name": "stdout",
     "output_type": "stream",
     "text": [
      "57 58 "
     ]
    },
    {
     "name": "stderr",
     "output_type": "stream",
     "text": [
      "Exception in thread Thread-3559:\n",
      "Traceback (most recent call last):\n",
      "  File \"pandas\\_libs\\index.pyx\", line 545, in pandas._libs.index.DatetimeEngine.get_loc\n",
      "  File \"pandas\\_libs\\hashtable_class_helper.pxi\", line 2131, in pandas._libs.hashtable.Int64HashTable.get_item\n",
      "  File \"pandas\\_libs\\hashtable_class_helper.pxi\", line 2140, in pandas._libs.hashtable.Int64HashTable.get_item\n",
      "KeyError: 1661188260000000000\n",
      "\n",
      "During handling of the above exception, another exception occurred:\n",
      "\n",
      "Traceback (most recent call last):\n",
      "  File \"C:\\Users\\Ashwin Dev\\anaconda3\\lib\\site-packages\\pandas\\core\\indexes\\base.py\", line 3621, in get_loc\n",
      "    return self._engine.get_loc(casted_key)\n",
      "  File \"pandas\\_libs\\index.pyx\", line 513, in pandas._libs.index.DatetimeEngine.get_loc\n",
      "  File \"pandas\\_libs\\index.pyx\", line 547, in pandas._libs.index.DatetimeEngine.get_loc\n",
      "KeyError: Timestamp('2022-08-22 17:11:00')\n",
      "\n",
      "The above exception was the direct cause of the following exception:\n",
      "\n",
      "Traceback (most recent call last):\n",
      "  File \"C:\\Users\\Ashwin Dev\\anaconda3\\lib\\site-packages\\pandas\\core\\indexes\\datetimes.py\", line 679, in get_loc\n",
      "    return Index.get_loc(self, key, method, tolerance)\n",
      "  File \"C:\\Users\\Ashwin Dev\\anaconda3\\lib\\site-packages\\pandas\\core\\indexes\\base.py\", line 3623, in get_loc\n",
      "    raise KeyError(key) from err\n",
      "KeyError: Timestamp('2022-08-22 17:11:00')\n",
      "\n",
      "The above exception was the direct cause of the following exception:\n",
      "\n",
      "Traceback (most recent call last):\n",
      "  File \"C:\\Users\\Ashwin Dev\\anaconda3\\lib\\threading.py\", line 973, in _bootstrap_inner\n",
      "    self.run()\n",
      "  File \"C:\\Users\\Ashwin Dev\\anaconda3\\lib\\threading.py\", line 910, in run\n",
      "    self._target(*self._args, **self._kwargs)\n",
      "  File \"C:\\Users\\Ashwin Dev\\anaconda3\\lib\\site-packages\\socketio\\client.py\", line 615, in _handle_eio_message\n",
      "    self._handle_event(pkt.namespace, pkt.id, pkt.data)\n",
      "  File \"C:\\Users\\Ashwin Dev\\anaconda3\\lib\\site-packages\\socketio\\client.py\", line 501, in _handle_event\n",
      "    r = self._trigger_event(data[0], namespace, *data[1:])\n",
      "  File \"C:\\Users\\Ashwin Dev\\anaconda3\\lib\\site-packages\\socketio\\client.py\", line 547, in _trigger_event\n",
      "    return self.handlers[namespace][event](*args)\n",
      "  File \"C:\\Users\\Ashwin Dev\\anaconda3\\lib\\site-packages\\fxcmpy\\fxcmpy.py\", line 2575, in __on_price_update__\n",
      "    callbacks[func](data, self.prices[symbol])\n",
      "  File \"C:\\Users\\Ashwin Dev\\AppData\\Local\\Temp\\ipykernel_1184\\3388473720.py\", line 35, in get_tick_data\n",
      "  File \"C:\\Users\\Ashwin Dev\\anaconda3\\lib\\site-packages\\pandas\\core\\indexing.py\", line 961, in __getitem__\n",
      "    return self._getitem_tuple(key)\n",
      "  File \"C:\\Users\\Ashwin Dev\\anaconda3\\lib\\site-packages\\pandas\\core\\indexing.py\", line 1149, in _getitem_tuple\n",
      "    return self._getitem_tuple_same_dim(tup)\n",
      "  File \"C:\\Users\\Ashwin Dev\\anaconda3\\lib\\site-packages\\pandas\\core\\indexing.py\", line 827, in _getitem_tuple_same_dim\n",
      "    retval = getattr(retval, self.name)._getitem_axis(key, axis=i)\n",
      "  File \"C:\\Users\\Ashwin Dev\\anaconda3\\lib\\site-packages\\pandas\\core\\indexing.py\", line 1180, in _getitem_axis\n",
      "    return self._get_slice_axis(key, axis=axis)\n",
      "  File \"C:\\Users\\Ashwin Dev\\anaconda3\\lib\\site-packages\\pandas\\core\\indexing.py\", line 1214, in _get_slice_axis\n",
      "    indexer = labels.slice_indexer(slice_obj.start, slice_obj.stop, slice_obj.step)\n",
      "  File \"C:\\Users\\Ashwin Dev\\anaconda3\\lib\\site-packages\\pandas\\core\\indexes\\datetimes.py\", line 743, in slice_indexer\n",
      "    return Index.slice_indexer(self, start, end, step, kind=kind)\n",
      "  File \"C:\\Users\\Ashwin Dev\\anaconda3\\lib\\site-packages\\pandas\\core\\indexes\\base.py\", line 6274, in slice_indexer\n",
      "    start_slice, end_slice = self.slice_locs(start, end, step=step)\n",
      "  File \"C:\\Users\\Ashwin Dev\\anaconda3\\lib\\site-packages\\pandas\\core\\indexes\\base.py\", line 6484, in slice_locs\n",
      "    start_slice = self.get_slice_bound(start, \"left\")\n",
      "  File \"C:\\Users\\Ashwin Dev\\anaconda3\\lib\\site-packages\\pandas\\core\\indexes\\datetimes.py\", line 778, in get_slice_bound\n",
      "    return super().get_slice_bound(label, side=side, kind=kind)\n",
      "  File \"C:\\Users\\Ashwin Dev\\anaconda3\\lib\\site-packages\\pandas\\core\\indexes\\base.py\", line 6403, in get_slice_bound\n",
      "    raise err\n",
      "  File \"C:\\Users\\Ashwin Dev\\anaconda3\\lib\\site-packages\\pandas\\core\\indexes\\base.py\", line 6397, in get_slice_bound\n",
      "    slc = self.get_loc(label)\n",
      "  File \"C:\\Users\\Ashwin Dev\\anaconda3\\lib\\site-packages\\pandas\\core\\indexes\\datetimes.py\", line 681, in get_loc\n",
      "    raise KeyError(orig_key) from err\n",
      "KeyError: Timestamp('2022-08-22 17:11:00')\n",
      "Exception in thread Thread-3584:\n",
      "Traceback (most recent call last):\n",
      "  File \"pandas\\_libs\\index.pyx\", line 545, in pandas._libs.index.DatetimeEngine.get_loc\n",
      "  File \"pandas\\_libs\\hashtable_class_helper.pxi\", line 2131, in pandas._libs.hashtable.Int64HashTable.get_item\n",
      "  File \"pandas\\_libs\\hashtable_class_helper.pxi\", line 2140, in pandas._libs.hashtable.Int64HashTable.get_item\n",
      "KeyError: 1661188260000000000\n",
      "\n",
      "During handling of the above exception, another exception occurred:\n",
      "\n",
      "Traceback (most recent call last):\n",
      "  File \"C:\\Users\\Ashwin Dev\\anaconda3\\lib\\site-packages\\pandas\\core\\indexes\\base.py\", line 3621, in get_loc\n",
      "    return self._engine.get_loc(casted_key)\n",
      "  File \"pandas\\_libs\\index.pyx\", line 513, in pandas._libs.index.DatetimeEngine.get_loc\n",
      "  File \"pandas\\_libs\\index.pyx\", line 547, in pandas._libs.index.DatetimeEngine.get_loc\n",
      "KeyError: Timestamp('2022-08-22 17:11:00')\n",
      "\n",
      "The above exception was the direct cause of the following exception:\n",
      "\n",
      "Traceback (most recent call last):\n",
      "  File \"C:\\Users\\Ashwin Dev\\anaconda3\\lib\\site-packages\\pandas\\core\\indexes\\datetimes.py\", line 679, in get_loc\n",
      "    return Index.get_loc(self, key, method, tolerance)\n",
      "  File \"C:\\Users\\Ashwin Dev\\anaconda3\\lib\\site-packages\\pandas\\core\\indexes\\base.py\", line 3623, in get_loc\n",
      "    raise KeyError(key) from err\n",
      "KeyError: Timestamp('2022-08-22 17:11:00')\n",
      "\n",
      "The above exception was the direct cause of the following exception:\n",
      "\n",
      "Traceback (most recent call last):\n",
      "  File \"C:\\Users\\Ashwin Dev\\anaconda3\\lib\\threading.py\", line 973, in _bootstrap_inner\n",
      "    self.run()\n",
      "  File \"C:\\Users\\Ashwin Dev\\anaconda3\\lib\\threading.py\", line 910, in run\n",
      "    self._target(*self._args, **self._kwargs)\n",
      "  File \"C:\\Users\\Ashwin Dev\\anaconda3\\lib\\site-packages\\socketio\\client.py\", line 615, in _handle_eio_message\n",
      "    self._handle_event(pkt.namespace, pkt.id, pkt.data)\n",
      "  File \"C:\\Users\\Ashwin Dev\\anaconda3\\lib\\site-packages\\socketio\\client.py\", line 501, in _handle_event\n",
      "    r = self._trigger_event(data[0], namespace, *data[1:])\n",
      "  File \"C:\\Users\\Ashwin Dev\\anaconda3\\lib\\site-packages\\socketio\\client.py\", line 547, in _trigger_event\n",
      "    return self.handlers[namespace][event](*args)\n",
      "  File \"C:\\Users\\Ashwin Dev\\anaconda3\\lib\\site-packages\\fxcmpy\\fxcmpy.py\", line 2575, in __on_price_update__\n",
      "    callbacks[func](data, self.prices[symbol])\n",
      "  File \"C:\\Users\\Ashwin Dev\\AppData\\Local\\Temp\\ipykernel_1184\\3388473720.py\", line 35, in get_tick_data\n",
      "  File \"C:\\Users\\Ashwin Dev\\anaconda3\\lib\\site-packages\\pandas\\core\\indexing.py\", line 961, in __getitem__\n",
      "    return self._getitem_tuple(key)\n",
      "  File \"C:\\Users\\Ashwin Dev\\anaconda3\\lib\\site-packages\\pandas\\core\\indexing.py\", line 1149, in _getitem_tuple\n",
      "    return self._getitem_tuple_same_dim(tup)\n",
      "  File \"C:\\Users\\Ashwin Dev\\anaconda3\\lib\\site-packages\\pandas\\core\\indexing.py\", line 827, in _getitem_tuple_same_dim\n",
      "    retval = getattr(retval, self.name)._getitem_axis(key, axis=i)\n",
      "  File \"C:\\Users\\Ashwin Dev\\anaconda3\\lib\\site-packages\\pandas\\core\\indexing.py\", line 1180, in _getitem_axis\n",
      "    return self._get_slice_axis(key, axis=axis)\n",
      "  File \"C:\\Users\\Ashwin Dev\\anaconda3\\lib\\site-packages\\pandas\\core\\indexing.py\", line 1214, in _get_slice_axis\n",
      "    indexer = labels.slice_indexer(slice_obj.start, slice_obj.stop, slice_obj.step)\n",
      "  File \"C:\\Users\\Ashwin Dev\\anaconda3\\lib\\site-packages\\pandas\\core\\indexes\\datetimes.py\", line 743, in slice_indexer\n",
      "    return Index.slice_indexer(self, start, end, step, kind=kind)\n",
      "  File \"C:\\Users\\Ashwin Dev\\anaconda3\\lib\\site-packages\\pandas\\core\\indexes\\base.py\", line 6274, in slice_indexer\n",
      "    start_slice, end_slice = self.slice_locs(start, end, step=step)\n",
      "  File \"C:\\Users\\Ashwin Dev\\anaconda3\\lib\\site-packages\\pandas\\core\\indexes\\base.py\", line 6484, in slice_locs\n",
      "    start_slice = self.get_slice_bound(start, \"left\")\n",
      "  File \"C:\\Users\\Ashwin Dev\\anaconda3\\lib\\site-packages\\pandas\\core\\indexes\\datetimes.py\", line 778, in get_slice_bound\n",
      "    return super().get_slice_bound(label, side=side, kind=kind)\n",
      "  File \"C:\\Users\\Ashwin Dev\\anaconda3\\lib\\site-packages\\pandas\\core\\indexes\\base.py\", line 6403, in get_slice_bound\n",
      "    raise err\n",
      "  File \"C:\\Users\\Ashwin Dev\\anaconda3\\lib\\site-packages\\pandas\\core\\indexes\\base.py\", line 6397, in get_slice_bound\n",
      "    slc = self.get_loc(label)\n",
      "  File \"C:\\Users\\Ashwin Dev\\anaconda3\\lib\\site-packages\\pandas\\core\\indexes\\datetimes.py\", line 681, in get_loc\n",
      "    raise KeyError(orig_key) from err\n",
      "KeyError: Timestamp('2022-08-22 17:11:00')\n"
     ]
    },
    {
     "name": "stdout",
     "output_type": "stream",
     "text": [
      "59 "
     ]
    },
    {
     "name": "stderr",
     "output_type": "stream",
     "text": [
      "Exception in thread Thread-3595:\n",
      "Traceback (most recent call last):\n",
      "  File \"pandas\\_libs\\index.pyx\", line 545, in pandas._libs.index.DatetimeEngine.get_loc\n",
      "  File \"pandas\\_libs\\hashtable_class_helper.pxi\", line 2131, in pandas._libs.hashtable.Int64HashTable.get_item\n",
      "  File \"pandas\\_libs\\hashtable_class_helper.pxi\", line 2140, in pandas._libs.hashtable.Int64HashTable.get_item\n",
      "KeyError: 1661188260000000000\n",
      "\n",
      "During handling of the above exception, another exception occurred:\n",
      "\n",
      "Traceback (most recent call last):\n",
      "  File \"C:\\Users\\Ashwin Dev\\anaconda3\\lib\\site-packages\\pandas\\core\\indexes\\base.py\", line 3621, in get_loc\n",
      "    return self._engine.get_loc(casted_key)\n",
      "  File \"pandas\\_libs\\index.pyx\", line 513, in pandas._libs.index.DatetimeEngine.get_loc\n",
      "  File \"pandas\\_libs\\index.pyx\", line 547, in pandas._libs.index.DatetimeEngine.get_loc\n",
      "KeyError: Timestamp('2022-08-22 17:11:00')\n",
      "\n",
      "The above exception was the direct cause of the following exception:\n",
      "\n",
      "Traceback (most recent call last):\n",
      "  File \"C:\\Users\\Ashwin Dev\\anaconda3\\lib\\site-packages\\pandas\\core\\indexes\\datetimes.py\", line 679, in get_loc\n",
      "    return Index.get_loc(self, key, method, tolerance)\n",
      "  File \"C:\\Users\\Ashwin Dev\\anaconda3\\lib\\site-packages\\pandas\\core\\indexes\\base.py\", line 3623, in get_loc\n",
      "    raise KeyError(key) from err\n",
      "KeyError: Timestamp('2022-08-22 17:11:00')\n",
      "\n",
      "The above exception was the direct cause of the following exception:\n",
      "\n",
      "Traceback (most recent call last):\n",
      "  File \"C:\\Users\\Ashwin Dev\\anaconda3\\lib\\threading.py\", line 973, in _bootstrap_inner\n",
      "    self.run()\n",
      "  File \"C:\\Users\\Ashwin Dev\\anaconda3\\lib\\threading.py\", line 910, in run\n",
      "    self._target(*self._args, **self._kwargs)\n",
      "  File \"C:\\Users\\Ashwin Dev\\anaconda3\\lib\\site-packages\\socketio\\client.py\", line 615, in _handle_eio_message\n",
      "    self._handle_event(pkt.namespace, pkt.id, pkt.data)\n",
      "  File \"C:\\Users\\Ashwin Dev\\anaconda3\\lib\\site-packages\\socketio\\client.py\", line 501, in _handle_event\n",
      "    r = self._trigger_event(data[0], namespace, *data[1:])\n",
      "  File \"C:\\Users\\Ashwin Dev\\anaconda3\\lib\\site-packages\\socketio\\client.py\", line 547, in _trigger_event\n",
      "    return self.handlers[namespace][event](*args)\n",
      "  File \"C:\\Users\\Ashwin Dev\\anaconda3\\lib\\site-packages\\fxcmpy\\fxcmpy.py\", line 2575, in __on_price_update__\n",
      "    callbacks[func](data, self.prices[symbol])\n",
      "  File \"C:\\Users\\Ashwin Dev\\AppData\\Local\\Temp\\ipykernel_1184\\3388473720.py\", line 35, in get_tick_data\n",
      "  File \"C:\\Users\\Ashwin Dev\\anaconda3\\lib\\site-packages\\pandas\\core\\indexing.py\", line 961, in __getitem__\n",
      "    return self._getitem_tuple(key)\n",
      "  File \"C:\\Users\\Ashwin Dev\\anaconda3\\lib\\site-packages\\pandas\\core\\indexing.py\", line 1149, in _getitem_tuple\n",
      "    return self._getitem_tuple_same_dim(tup)\n",
      "  File \"C:\\Users\\Ashwin Dev\\anaconda3\\lib\\site-packages\\pandas\\core\\indexing.py\", line 827, in _getitem_tuple_same_dim\n",
      "    retval = getattr(retval, self.name)._getitem_axis(key, axis=i)\n",
      "  File \"C:\\Users\\Ashwin Dev\\anaconda3\\lib\\site-packages\\pandas\\core\\indexing.py\", line 1180, in _getitem_axis\n",
      "    return self._get_slice_axis(key, axis=axis)\n",
      "  File \"C:\\Users\\Ashwin Dev\\anaconda3\\lib\\site-packages\\pandas\\core\\indexing.py\", line 1214, in _get_slice_axis\n",
      "    indexer = labels.slice_indexer(slice_obj.start, slice_obj.stop, slice_obj.step)\n",
      "  File \"C:\\Users\\Ashwin Dev\\anaconda3\\lib\\site-packages\\pandas\\core\\indexes\\datetimes.py\", line 743, in slice_indexer\n",
      "    return Index.slice_indexer(self, start, end, step, kind=kind)\n",
      "  File \"C:\\Users\\Ashwin Dev\\anaconda3\\lib\\site-packages\\pandas\\core\\indexes\\base.py\", line 6274, in slice_indexer\n",
      "    start_slice, end_slice = self.slice_locs(start, end, step=step)\n",
      "  File \"C:\\Users\\Ashwin Dev\\anaconda3\\lib\\site-packages\\pandas\\core\\indexes\\base.py\", line 6484, in slice_locs\n",
      "    start_slice = self.get_slice_bound(start, \"left\")\n",
      "  File \"C:\\Users\\Ashwin Dev\\anaconda3\\lib\\site-packages\\pandas\\core\\indexes\\datetimes.py\", line 778, in get_slice_bound\n",
      "    return super().get_slice_bound(label, side=side, kind=kind)\n",
      "  File \"C:\\Users\\Ashwin Dev\\anaconda3\\lib\\site-packages\\pandas\\core\\indexes\\base.py\", line 6403, in get_slice_bound\n",
      "    raise err\n",
      "  File \"C:\\Users\\Ashwin Dev\\anaconda3\\lib\\site-packages\\pandas\\core\\indexes\\base.py\", line 6397, in get_slice_bound\n",
      "    slc = self.get_loc(label)\n",
      "  File \"C:\\Users\\Ashwin Dev\\anaconda3\\lib\\site-packages\\pandas\\core\\indexes\\datetimes.py\", line 681, in get_loc\n",
      "    raise KeyError(orig_key) from err\n",
      "KeyError: Timestamp('2022-08-22 17:11:00')\n"
     ]
    },
    {
     "name": "stdout",
     "output_type": "stream",
     "text": [
      "60 "
     ]
    },
    {
     "name": "stderr",
     "output_type": "stream",
     "text": [
      "Exception in thread Thread-3609:\n",
      "Traceback (most recent call last):\n",
      "  File \"pandas\\_libs\\index.pyx\", line 545, in pandas._libs.index.DatetimeEngine.get_loc\n",
      "  File \"pandas\\_libs\\hashtable_class_helper.pxi\", line 2131, in pandas._libs.hashtable.Int64HashTable.get_item\n",
      "  File \"pandas\\_libs\\hashtable_class_helper.pxi\", line 2140, in pandas._libs.hashtable.Int64HashTable.get_item\n",
      "KeyError: 1661188260000000000\n",
      "\n",
      "During handling of the above exception, another exception occurred:\n",
      "\n",
      "Traceback (most recent call last):\n",
      "  File \"C:\\Users\\Ashwin Dev\\anaconda3\\lib\\site-packages\\pandas\\core\\indexes\\base.py\", line 3621, in get_loc\n",
      "    return self._engine.get_loc(casted_key)\n",
      "  File \"pandas\\_libs\\index.pyx\", line 513, in pandas._libs.index.DatetimeEngine.get_loc\n",
      "  File \"pandas\\_libs\\index.pyx\", line 547, in pandas._libs.index.DatetimeEngine.get_loc\n",
      "KeyError: Timestamp('2022-08-22 17:11:00')\n",
      "\n",
      "The above exception was the direct cause of the following exception:\n",
      "\n",
      "Traceback (most recent call last):\n",
      "  File \"C:\\Users\\Ashwin Dev\\anaconda3\\lib\\site-packages\\pandas\\core\\indexes\\datetimes.py\", line 679, in get_loc\n",
      "    return Index.get_loc(self, key, method, tolerance)\n",
      "  File \"C:\\Users\\Ashwin Dev\\anaconda3\\lib\\site-packages\\pandas\\core\\indexes\\base.py\", line 3623, in get_loc\n",
      "    raise KeyError(key) from err\n",
      "KeyError: Timestamp('2022-08-22 17:11:00')\n",
      "\n",
      "The above exception was the direct cause of the following exception:\n",
      "\n",
      "Traceback (most recent call last):\n",
      "  File \"C:\\Users\\Ashwin Dev\\anaconda3\\lib\\threading.py\", line 973, in _bootstrap_inner\n",
      "    self.run()\n",
      "  File \"C:\\Users\\Ashwin Dev\\anaconda3\\lib\\threading.py\", line 910, in run\n",
      "    self._target(*self._args, **self._kwargs)\n",
      "  File \"C:\\Users\\Ashwin Dev\\anaconda3\\lib\\site-packages\\socketio\\client.py\", line 615, in _handle_eio_message\n",
      "    self._handle_event(pkt.namespace, pkt.id, pkt.data)\n",
      "  File \"C:\\Users\\Ashwin Dev\\anaconda3\\lib\\site-packages\\socketio\\client.py\", line 501, in _handle_event\n",
      "    r = self._trigger_event(data[0], namespace, *data[1:])\n",
      "  File \"C:\\Users\\Ashwin Dev\\anaconda3\\lib\\site-packages\\socketio\\client.py\", line 547, in _trigger_event\n",
      "    return self.handlers[namespace][event](*args)\n",
      "  File \"C:\\Users\\Ashwin Dev\\anaconda3\\lib\\site-packages\\fxcmpy\\fxcmpy.py\", line 2575, in __on_price_update__\n",
      "    callbacks[func](data, self.prices[symbol])\n",
      "  File \"C:\\Users\\Ashwin Dev\\AppData\\Local\\Temp\\ipykernel_1184\\3388473720.py\", line 35, in get_tick_data\n",
      "  File \"C:\\Users\\Ashwin Dev\\anaconda3\\lib\\site-packages\\pandas\\core\\indexing.py\", line 961, in __getitem__\n",
      "    return self._getitem_tuple(key)\n",
      "  File \"C:\\Users\\Ashwin Dev\\anaconda3\\lib\\site-packages\\pandas\\core\\indexing.py\", line 1149, in _getitem_tuple\n",
      "    return self._getitem_tuple_same_dim(tup)\n",
      "  File \"C:\\Users\\Ashwin Dev\\anaconda3\\lib\\site-packages\\pandas\\core\\indexing.py\", line 827, in _getitem_tuple_same_dim\n",
      "    retval = getattr(retval, self.name)._getitem_axis(key, axis=i)\n",
      "  File \"C:\\Users\\Ashwin Dev\\anaconda3\\lib\\site-packages\\pandas\\core\\indexing.py\", line 1180, in _getitem_axis\n",
      "    return self._get_slice_axis(key, axis=axis)\n",
      "  File \"C:\\Users\\Ashwin Dev\\anaconda3\\lib\\site-packages\\pandas\\core\\indexing.py\", line 1214, in _get_slice_axis\n",
      "    indexer = labels.slice_indexer(slice_obj.start, slice_obj.stop, slice_obj.step)\n",
      "  File \"C:\\Users\\Ashwin Dev\\anaconda3\\lib\\site-packages\\pandas\\core\\indexes\\datetimes.py\", line 743, in slice_indexer\n",
      "    return Index.slice_indexer(self, start, end, step, kind=kind)\n",
      "  File \"C:\\Users\\Ashwin Dev\\anaconda3\\lib\\site-packages\\pandas\\core\\indexes\\base.py\", line 6274, in slice_indexer\n",
      "    start_slice, end_slice = self.slice_locs(start, end, step=step)\n",
      "  File \"C:\\Users\\Ashwin Dev\\anaconda3\\lib\\site-packages\\pandas\\core\\indexes\\base.py\", line 6484, in slice_locs\n",
      "    start_slice = self.get_slice_bound(start, \"left\")\n",
      "  File \"C:\\Users\\Ashwin Dev\\anaconda3\\lib\\site-packages\\pandas\\core\\indexes\\datetimes.py\", line 778, in get_slice_bound\n",
      "    return super().get_slice_bound(label, side=side, kind=kind)\n",
      "  File \"C:\\Users\\Ashwin Dev\\anaconda3\\lib\\site-packages\\pandas\\core\\indexes\\base.py\", line 6403, in get_slice_bound\n",
      "    raise err\n",
      "  File \"C:\\Users\\Ashwin Dev\\anaconda3\\lib\\site-packages\\pandas\\core\\indexes\\base.py\", line 6397, in get_slice_bound\n",
      "    slc = self.get_loc(label)\n",
      "  File \"C:\\Users\\Ashwin Dev\\anaconda3\\lib\\site-packages\\pandas\\core\\indexes\\datetimes.py\", line 681, in get_loc\n",
      "    raise KeyError(orig_key) from err\n",
      "KeyError: Timestamp('2022-08-22 17:11:00')\n"
     ]
    },
    {
     "name": "stdout",
     "output_type": "stream",
     "text": [
      "61 "
     ]
    },
    {
     "name": "stderr",
     "output_type": "stream",
     "text": [
      "Exception in thread Thread-3616:\n",
      "Traceback (most recent call last):\n",
      "  File \"pandas\\_libs\\index.pyx\", line 545, in pandas._libs.index.DatetimeEngine.get_loc\n",
      "  File \"pandas\\_libs\\hashtable_class_helper.pxi\", line 2131, in pandas._libs.hashtable.Int64HashTable.get_item\n",
      "  File \"pandas\\_libs\\hashtable_class_helper.pxi\", line 2140, in pandas._libs.hashtable.Int64HashTable.get_item\n",
      "KeyError: 1661188260000000000\n",
      "\n",
      "During handling of the above exception, another exception occurred:\n",
      "\n",
      "Traceback (most recent call last):\n",
      "  File \"C:\\Users\\Ashwin Dev\\anaconda3\\lib\\site-packages\\pandas\\core\\indexes\\base.py\", line 3621, in get_loc\n",
      "    return self._engine.get_loc(casted_key)\n",
      "  File \"pandas\\_libs\\index.pyx\", line 513, in pandas._libs.index.DatetimeEngine.get_loc\n",
      "  File \"pandas\\_libs\\index.pyx\", line 547, in pandas._libs.index.DatetimeEngine.get_loc\n",
      "KeyError: Timestamp('2022-08-22 17:11:00')\n",
      "\n",
      "The above exception was the direct cause of the following exception:\n",
      "\n",
      "Traceback (most recent call last):\n",
      "  File \"C:\\Users\\Ashwin Dev\\anaconda3\\lib\\site-packages\\pandas\\core\\indexes\\datetimes.py\", line 679, in get_loc\n",
      "    return Index.get_loc(self, key, method, tolerance)\n",
      "  File \"C:\\Users\\Ashwin Dev\\anaconda3\\lib\\site-packages\\pandas\\core\\indexes\\base.py\", line 3623, in get_loc\n",
      "    raise KeyError(key) from err\n",
      "KeyError: Timestamp('2022-08-22 17:11:00')\n",
      "\n",
      "The above exception was the direct cause of the following exception:\n",
      "\n",
      "Traceback (most recent call last):\n",
      "  File \"C:\\Users\\Ashwin Dev\\anaconda3\\lib\\threading.py\", line 973, in _bootstrap_inner\n",
      "    self.run()\n",
      "  File \"C:\\Users\\Ashwin Dev\\anaconda3\\lib\\threading.py\", line 910, in run\n",
      "    self._target(*self._args, **self._kwargs)\n",
      "  File \"C:\\Users\\Ashwin Dev\\anaconda3\\lib\\site-packages\\socketio\\client.py\", line 615, in _handle_eio_message\n",
      "    self._handle_event(pkt.namespace, pkt.id, pkt.data)\n",
      "  File \"C:\\Users\\Ashwin Dev\\anaconda3\\lib\\site-packages\\socketio\\client.py\", line 501, in _handle_event\n",
      "    r = self._trigger_event(data[0], namespace, *data[1:])\n",
      "  File \"C:\\Users\\Ashwin Dev\\anaconda3\\lib\\site-packages\\socketio\\client.py\", line 547, in _trigger_event\n",
      "    return self.handlers[namespace][event](*args)\n",
      "  File \"C:\\Users\\Ashwin Dev\\anaconda3\\lib\\site-packages\\fxcmpy\\fxcmpy.py\", line 2575, in __on_price_update__\n",
      "    callbacks[func](data, self.prices[symbol])\n",
      "  File \"C:\\Users\\Ashwin Dev\\AppData\\Local\\Temp\\ipykernel_1184\\3388473720.py\", line 35, in get_tick_data\n",
      "  File \"C:\\Users\\Ashwin Dev\\anaconda3\\lib\\site-packages\\pandas\\core\\indexing.py\", line 961, in __getitem__\n",
      "    return self._getitem_tuple(key)\n",
      "  File \"C:\\Users\\Ashwin Dev\\anaconda3\\lib\\site-packages\\pandas\\core\\indexing.py\", line 1149, in _getitem_tuple\n",
      "    return self._getitem_tuple_same_dim(tup)\n",
      "  File \"C:\\Users\\Ashwin Dev\\anaconda3\\lib\\site-packages\\pandas\\core\\indexing.py\", line 827, in _getitem_tuple_same_dim\n",
      "    retval = getattr(retval, self.name)._getitem_axis(key, axis=i)\n",
      "  File \"C:\\Users\\Ashwin Dev\\anaconda3\\lib\\site-packages\\pandas\\core\\indexing.py\", line 1180, in _getitem_axis\n",
      "    return self._get_slice_axis(key, axis=axis)\n",
      "  File \"C:\\Users\\Ashwin Dev\\anaconda3\\lib\\site-packages\\pandas\\core\\indexing.py\", line 1214, in _get_slice_axis\n",
      "    indexer = labels.slice_indexer(slice_obj.start, slice_obj.stop, slice_obj.step)\n",
      "  File \"C:\\Users\\Ashwin Dev\\anaconda3\\lib\\site-packages\\pandas\\core\\indexes\\datetimes.py\", line 743, in slice_indexer\n",
      "    return Index.slice_indexer(self, start, end, step, kind=kind)\n",
      "  File \"C:\\Users\\Ashwin Dev\\anaconda3\\lib\\site-packages\\pandas\\core\\indexes\\base.py\", line 6274, in slice_indexer\n",
      "    start_slice, end_slice = self.slice_locs(start, end, step=step)\n",
      "  File \"C:\\Users\\Ashwin Dev\\anaconda3\\lib\\site-packages\\pandas\\core\\indexes\\base.py\", line 6484, in slice_locs\n",
      "    start_slice = self.get_slice_bound(start, \"left\")\n",
      "  File \"C:\\Users\\Ashwin Dev\\anaconda3\\lib\\site-packages\\pandas\\core\\indexes\\datetimes.py\", line 778, in get_slice_bound\n",
      "    return super().get_slice_bound(label, side=side, kind=kind)\n",
      "  File \"C:\\Users\\Ashwin Dev\\anaconda3\\lib\\site-packages\\pandas\\core\\indexes\\base.py\", line 6403, in get_slice_bound\n",
      "    raise err\n",
      "  File \"C:\\Users\\Ashwin Dev\\anaconda3\\lib\\site-packages\\pandas\\core\\indexes\\base.py\", line 6397, in get_slice_bound\n",
      "    slc = self.get_loc(label)\n",
      "  File \"C:\\Users\\Ashwin Dev\\anaconda3\\lib\\site-packages\\pandas\\core\\indexes\\datetimes.py\", line 681, in get_loc\n",
      "    raise KeyError(orig_key) from err\n",
      "KeyError: Timestamp('2022-08-22 17:11:00')\n"
     ]
    },
    {
     "name": "stdout",
     "output_type": "stream",
     "text": [
      "62 "
     ]
    },
    {
     "name": "stderr",
     "output_type": "stream",
     "text": [
      "Exception in thread Thread-3655:\n",
      "Traceback (most recent call last):\n",
      "  File \"pandas\\_libs\\index.pyx\", line 545, in pandas._libs.index.DatetimeEngine.get_loc\n",
      "  File \"pandas\\_libs\\hashtable_class_helper.pxi\", line 2131, in pandas._libs.hashtable.Int64HashTable.get_item\n",
      "  File \"pandas\\_libs\\hashtable_class_helper.pxi\", line 2140, in pandas._libs.hashtable.Int64HashTable.get_item\n",
      "Exception in thread Thread-3666:\n",
      "Traceback (most recent call last):\n",
      "  File \"pandas\\_libs\\index.pyx\", line 545, in pandas._libs.index.DatetimeEngine.get_loc\n",
      "KeyError: 1661188260000000000\n",
      "\n",
      "During handling of the above exception, another exception occurred:\n",
      "\n",
      "Traceback (most recent call last):\n",
      "  File \"C:\\Users\\Ashwin Dev\\anaconda3\\lib\\site-packages\\pandas\\core\\indexes\\base.py\", line 3621, in get_loc\n",
      "    return self._engine.get_loc(casted_key)\n",
      "  File \"pandas\\_libs\\index.pyx\", line 513, in pandas._libs.index.DatetimeEngine.get_loc\n",
      "  File \"pandas\\_libs\\hashtable_class_helper.pxi\", line 2131, in pandas._libs.hashtable.Int64HashTable.get_item\n",
      "  File \"pandas\\_libs\\index.pyx\", line 547, in pandas._libs.index.DatetimeEngine.get_loc\n",
      "KeyError: Timestamp('2022-08-22 17:11:00')\n",
      "\n",
      "The above exception was the direct cause of the following exception:\n",
      "\n",
      "Traceback (most recent call last):\n",
      "  File \"C:\\Users\\Ashwin Dev\\anaconda3\\lib\\site-packages\\pandas\\core\\indexes\\datetimes.py\", line 679, in get_loc\n",
      "  File \"pandas\\_libs\\hashtable_class_helper.pxi\", line 2140, in pandas._libs.hashtable.Int64HashTable.get_item\n",
      "    return Index.get_loc(self, key, method, tolerance)\n",
      "  File \"C:\\Users\\Ashwin Dev\\anaconda3\\lib\\site-packages\\pandas\\core\\indexes\\base.py\", line 3623, in get_loc\n",
      "    raise KeyError(key) from err\n",
      "KeyError: Timestamp('2022-08-22 17:11:00')\n",
      "\n",
      "The above exception was the direct cause of the following exception:\n",
      "\n",
      "Traceback (most recent call last):\n",
      "  File \"C:\\Users\\Ashwin Dev\\anaconda3\\lib\\threading.py\", line 973, in _bootstrap_inner\n",
      "KeyError: 1661188260000000000\n",
      "\n",
      "During handling of the above exception, another exception occurred:\n",
      "\n",
      "Traceback (most recent call last):\n",
      "  File \"C:\\Users\\Ashwin Dev\\anaconda3\\lib\\site-packages\\pandas\\core\\indexes\\base.py\", line 3621, in get_loc\n",
      "    self.run()\n",
      "  File \"C:\\Users\\Ashwin Dev\\anaconda3\\lib\\threading.py\", line 910, in run\n",
      "    return self._engine.get_loc(casted_key)\n",
      "  File \"pandas\\_libs\\index.pyx\", line 513, in pandas._libs.index.DatetimeEngine.get_loc\n",
      "    self._target(*self._args, **self._kwargs)\n",
      "  File \"C:\\Users\\Ashwin Dev\\anaconda3\\lib\\site-packages\\socketio\\client.py\", line 615, in _handle_eio_message\n",
      "    self._handle_event(pkt.namespace, pkt.id, pkt.data)\n",
      "  File \"C:\\Users\\Ashwin Dev\\anaconda3\\lib\\site-packages\\socketio\\client.py\", line 501, in _handle_event\n",
      "  File \"pandas\\_libs\\index.pyx\", line 547, in pandas._libs.index.DatetimeEngine.get_loc\n",
      "    r = self._trigger_event(data[0], namespace, *data[1:])\n",
      "  File \"C:\\Users\\Ashwin Dev\\anaconda3\\lib\\site-packages\\socketio\\client.py\", line 547, in _trigger_event\n",
      "    return self.handlers[namespace][event](*args)\n",
      "  File \"C:\\Users\\Ashwin Dev\\anaconda3\\lib\\site-packages\\fxcmpy\\fxcmpy.py\", line 2575, in __on_price_update__\n",
      "KeyError: Timestamp('2022-08-22 17:11:00')\n",
      "\n",
      "The above exception was the direct cause of the following exception:\n",
      "\n",
      "Traceback (most recent call last):\n",
      "  File \"C:\\Users\\Ashwin Dev\\anaconda3\\lib\\site-packages\\pandas\\core\\indexes\\datetimes.py\", line 679, in get_loc\n",
      "    return Index.get_loc(self, key, method, tolerance)\n",
      "  File \"C:\\Users\\Ashwin Dev\\anaconda3\\lib\\site-packages\\pandas\\core\\indexes\\base.py\", line 3623, in get_loc\n",
      "    raise KeyError(key) from err\n",
      "KeyError: Timestamp('2022-08-22 17:11:00')\n",
      "\n",
      "The above exception was the direct cause of the following exception:\n",
      "\n",
      "Traceback (most recent call last):\n",
      "  File \"C:\\Users\\Ashwin Dev\\anaconda3\\lib\\threading.py\", line 973, in _bootstrap_inner\n",
      "    callbacks[func](data, self.prices[symbol])\n",
      "  File \"C:\\Users\\Ashwin Dev\\AppData\\Local\\Temp\\ipykernel_1184\\3388473720.py\", line 35, in get_tick_data\n",
      "    self.run()\n",
      "  File \"C:\\Users\\Ashwin Dev\\anaconda3\\lib\\threading.py\", line 910, in run\n",
      "  File \"C:\\Users\\Ashwin Dev\\anaconda3\\lib\\site-packages\\pandas\\core\\indexing.py\", line 961, in __getitem__\n",
      "    self._target(*self._args, **self._kwargs)\n",
      "  File \"C:\\Users\\Ashwin Dev\\anaconda3\\lib\\site-packages\\socketio\\client.py\", line 615, in _handle_eio_message\n",
      "    return self._getitem_tuple(key)\n",
      "  File \"C:\\Users\\Ashwin Dev\\anaconda3\\lib\\site-packages\\pandas\\core\\indexing.py\", line 1149, in _getitem_tuple\n",
      "    self._handle_event(pkt.namespace, pkt.id, pkt.data)\n",
      "  File \"C:\\Users\\Ashwin Dev\\anaconda3\\lib\\site-packages\\socketio\\client.py\", line 501, in _handle_event\n",
      "    return self._getitem_tuple_same_dim(tup)\n",
      "  File \"C:\\Users\\Ashwin Dev\\anaconda3\\lib\\site-packages\\pandas\\core\\indexing.py\", line 827, in _getitem_tuple_same_dim\n",
      "        retval = getattr(retval, self.name)._getitem_axis(key, axis=i)\n",
      "  File \"C:\\Users\\Ashwin Dev\\anaconda3\\lib\\site-packages\\pandas\\core\\indexing.py\", line 1180, in _getitem_axis\n",
      "r = self._trigger_event(data[0], namespace, *data[1:])\n",
      "  File \"C:\\Users\\Ashwin Dev\\anaconda3\\lib\\site-packages\\socketio\\client.py\", line 547, in _trigger_event\n",
      "    return self.handlers[namespace][event](*args)\n",
      "  File \"C:\\Users\\Ashwin Dev\\anaconda3\\lib\\site-packages\\fxcmpy\\fxcmpy.py\", line 2575, in __on_price_update__\n",
      "    return self._get_slice_axis(key, axis=axis)\n",
      "  File \"C:\\Users\\Ashwin Dev\\anaconda3\\lib\\site-packages\\pandas\\core\\indexing.py\", line 1214, in _get_slice_axis\n",
      "    callbacks[func](data, self.prices[symbol])\n",
      "  File \"C:\\Users\\Ashwin Dev\\AppData\\Local\\Temp\\ipykernel_1184\\3388473720.py\", line 35, in get_tick_data\n",
      "    indexer = labels.slice_indexer(slice_obj.start, slice_obj.stop, slice_obj.step)\n",
      "  File \"C:\\Users\\Ashwin Dev\\anaconda3\\lib\\site-packages\\pandas\\core\\indexes\\datetimes.py\", line 743, in slice_indexer\n",
      "  File \"C:\\Users\\Ashwin Dev\\anaconda3\\lib\\site-packages\\pandas\\core\\indexing.py\", line 961, in __getitem__\n",
      "    return Index.slice_indexer(self, start, end, step, kind=kind)\n",
      "  File \"C:\\Users\\Ashwin Dev\\anaconda3\\lib\\site-packages\\pandas\\core\\indexes\\base.py\", line 6274, in slice_indexer\n",
      "    return self._getitem_tuple(key)\n",
      "  File \"C:\\Users\\Ashwin Dev\\anaconda3\\lib\\site-packages\\pandas\\core\\indexing.py\", line 1149, in _getitem_tuple\n",
      "    return self._getitem_tuple_same_dim(tup)\n",
      "  File \"C:\\Users\\Ashwin Dev\\anaconda3\\lib\\site-packages\\pandas\\core\\indexing.py\", line 827, in _getitem_tuple_same_dim\n",
      "        retval = getattr(retval, self.name)._getitem_axis(key, axis=i)\n",
      "  File \"C:\\Users\\Ashwin Dev\\anaconda3\\lib\\site-packages\\pandas\\core\\indexing.py\", line 1180, in _getitem_axis\n",
      "start_slice, end_slice = self.slice_locs(start, end, step=step)\n",
      "  File \"C:\\Users\\Ashwin Dev\\anaconda3\\lib\\site-packages\\pandas\\core\\indexes\\base.py\", line 6484, in slice_locs\n",
      "    return self._get_slice_axis(key, axis=axis)\n",
      "  File \"C:\\Users\\Ashwin Dev\\anaconda3\\lib\\site-packages\\pandas\\core\\indexing.py\", line 1214, in _get_slice_axis\n",
      "    start_slice = self.get_slice_bound(start, \"left\")\n",
      "  File \"C:\\Users\\Ashwin Dev\\anaconda3\\lib\\site-packages\\pandas\\core\\indexes\\datetimes.py\", line 778, in get_slice_bound\n",
      "    indexer = labels.slice_indexer(slice_obj.start, slice_obj.stop, slice_obj.step)\n",
      "  File \"C:\\Users\\Ashwin Dev\\anaconda3\\lib\\site-packages\\pandas\\core\\indexes\\datetimes.py\", line 743, in slice_indexer\n",
      "    return super().get_slice_bound(label, side=side, kind=kind)\n",
      "  File \"C:\\Users\\Ashwin Dev\\anaconda3\\lib\\site-packages\\pandas\\core\\indexes\\base.py\", line 6403, in get_slice_bound\n",
      "    return Index.slice_indexer(self, start, end, step, kind=kind)\n",
      "  File \"C:\\Users\\Ashwin Dev\\anaconda3\\lib\\site-packages\\pandas\\core\\indexes\\base.py\", line 6274, in slice_indexer\n",
      "    raise err\n",
      "  File \"C:\\Users\\Ashwin Dev\\anaconda3\\lib\\site-packages\\pandas\\core\\indexes\\base.py\", line 6397, in get_slice_bound\n",
      "    start_slice, end_slice = self.slice_locs(start, end, step=step)\n",
      "  File \"C:\\Users\\Ashwin Dev\\anaconda3\\lib\\site-packages\\pandas\\core\\indexes\\base.py\", line 6484, in slice_locs\n",
      "    slc = self.get_loc(label)\n",
      "  File \"C:\\Users\\Ashwin Dev\\anaconda3\\lib\\site-packages\\pandas\\core\\indexes\\datetimes.py\", line 681, in get_loc\n",
      "    start_slice = self.get_slice_bound(start, \"left\")\n",
      "  File \"C:\\Users\\Ashwin Dev\\anaconda3\\lib\\site-packages\\pandas\\core\\indexes\\datetimes.py\", line 778, in get_slice_bound\n",
      "    raise KeyError(orig_key) from err\n",
      "KeyError: Timestamp('2022-08-22 17:11:00')\n"
     ]
    },
    {
     "name": "stderr",
     "output_type": "stream",
     "text": [
      "    return super().get_slice_bound(label, side=side, kind=kind)\n",
      "  File \"C:\\Users\\Ashwin Dev\\anaconda3\\lib\\site-packages\\pandas\\core\\indexes\\base.py\", line 6403, in get_slice_bound\n",
      "    raise err\n",
      "  File \"C:\\Users\\Ashwin Dev\\anaconda3\\lib\\site-packages\\pandas\\core\\indexes\\base.py\", line 6397, in get_slice_bound\n",
      "    slc = self.get_loc(label)\n",
      "  File \"C:\\Users\\Ashwin Dev\\anaconda3\\lib\\site-packages\\pandas\\core\\indexes\\datetimes.py\", line 681, in get_loc\n",
      "    raise KeyError(orig_key) from err\n",
      "KeyError: Timestamp('2022-08-22 17:11:00')\n"
     ]
    },
    {
     "name": "stdout",
     "output_type": "stream",
     "text": [
      "63 64 "
     ]
    },
    {
     "name": "stderr",
     "output_type": "stream",
     "text": [
      "Exception in thread Thread-3683:\n",
      "Traceback (most recent call last):\n",
      "  File \"pandas\\_libs\\index.pyx\", line 545, in pandas._libs.index.DatetimeEngine.get_loc\n",
      "  File \"pandas\\_libs\\hashtable_class_helper.pxi\", line 2131, in pandas._libs.hashtable.Int64HashTable.get_item\n",
      "  File \"pandas\\_libs\\hashtable_class_helper.pxi\", line 2140, in pandas._libs.hashtable.Int64HashTable.get_item\n",
      "KeyError: 1661188260000000000\n",
      "\n",
      "During handling of the above exception, another exception occurred:\n",
      "\n",
      "Traceback (most recent call last):\n",
      "  File \"C:\\Users\\Ashwin Dev\\anaconda3\\lib\\site-packages\\pandas\\core\\indexes\\base.py\", line 3621, in get_loc\n",
      "    return self._engine.get_loc(casted_key)\n",
      "  File \"pandas\\_libs\\index.pyx\", line 513, in pandas._libs.index.DatetimeEngine.get_loc\n",
      "  File \"pandas\\_libs\\index.pyx\", line 547, in pandas._libs.index.DatetimeEngine.get_loc\n",
      "KeyError: Timestamp('2022-08-22 17:11:00')\n",
      "\n",
      "The above exception was the direct cause of the following exception:\n",
      "\n",
      "Traceback (most recent call last):\n",
      "  File \"C:\\Users\\Ashwin Dev\\anaconda3\\lib\\site-packages\\pandas\\core\\indexes\\datetimes.py\", line 679, in get_loc\n",
      "    return Index.get_loc(self, key, method, tolerance)\n",
      "  File \"C:\\Users\\Ashwin Dev\\anaconda3\\lib\\site-packages\\pandas\\core\\indexes\\base.py\", line 3623, in get_loc\n",
      "    raise KeyError(key) from err\n",
      "KeyError: Timestamp('2022-08-22 17:11:00')\n",
      "\n",
      "The above exception was the direct cause of the following exception:\n",
      "\n",
      "Traceback (most recent call last):\n",
      "  File \"C:\\Users\\Ashwin Dev\\anaconda3\\lib\\threading.py\", line 973, in _bootstrap_inner\n",
      "    self.run()\n",
      "  File \"C:\\Users\\Ashwin Dev\\anaconda3\\lib\\threading.py\", line 910, in run\n",
      "    self._target(*self._args, **self._kwargs)\n",
      "  File \"C:\\Users\\Ashwin Dev\\anaconda3\\lib\\site-packages\\socketio\\client.py\", line 615, in _handle_eio_message\n",
      "    self._handle_event(pkt.namespace, pkt.id, pkt.data)\n",
      "  File \"C:\\Users\\Ashwin Dev\\anaconda3\\lib\\site-packages\\socketio\\client.py\", line 501, in _handle_event\n",
      "    r = self._trigger_event(data[0], namespace, *data[1:])\n",
      "  File \"C:\\Users\\Ashwin Dev\\anaconda3\\lib\\site-packages\\socketio\\client.py\", line 547, in _trigger_event\n",
      "    return self.handlers[namespace][event](*args)\n",
      "  File \"C:\\Users\\Ashwin Dev\\anaconda3\\lib\\site-packages\\fxcmpy\\fxcmpy.py\", line 2575, in __on_price_update__\n",
      "    callbacks[func](data, self.prices[symbol])\n",
      "  File \"C:\\Users\\Ashwin Dev\\AppData\\Local\\Temp\\ipykernel_1184\\3388473720.py\", line 35, in get_tick_data\n",
      "  File \"C:\\Users\\Ashwin Dev\\anaconda3\\lib\\site-packages\\pandas\\core\\indexing.py\", line 961, in __getitem__\n",
      "    return self._getitem_tuple(key)\n",
      "  File \"C:\\Users\\Ashwin Dev\\anaconda3\\lib\\site-packages\\pandas\\core\\indexing.py\", line 1149, in _getitem_tuple\n",
      "    return self._getitem_tuple_same_dim(tup)\n",
      "  File \"C:\\Users\\Ashwin Dev\\anaconda3\\lib\\site-packages\\pandas\\core\\indexing.py\", line 827, in _getitem_tuple_same_dim\n",
      "    retval = getattr(retval, self.name)._getitem_axis(key, axis=i)\n",
      "  File \"C:\\Users\\Ashwin Dev\\anaconda3\\lib\\site-packages\\pandas\\core\\indexing.py\", line 1180, in _getitem_axis\n",
      "    return self._get_slice_axis(key, axis=axis)\n",
      "  File \"C:\\Users\\Ashwin Dev\\anaconda3\\lib\\site-packages\\pandas\\core\\indexing.py\", line 1214, in _get_slice_axis\n",
      "    indexer = labels.slice_indexer(slice_obj.start, slice_obj.stop, slice_obj.step)\n",
      "  File \"C:\\Users\\Ashwin Dev\\anaconda3\\lib\\site-packages\\pandas\\core\\indexes\\datetimes.py\", line 743, in slice_indexer\n",
      "    return Index.slice_indexer(self, start, end, step, kind=kind)\n",
      "  File \"C:\\Users\\Ashwin Dev\\anaconda3\\lib\\site-packages\\pandas\\core\\indexes\\base.py\", line 6274, in slice_indexer\n",
      "    start_slice, end_slice = self.slice_locs(start, end, step=step)\n",
      "  File \"C:\\Users\\Ashwin Dev\\anaconda3\\lib\\site-packages\\pandas\\core\\indexes\\base.py\", line 6484, in slice_locs\n",
      "    start_slice = self.get_slice_bound(start, \"left\")\n",
      "  File \"C:\\Users\\Ashwin Dev\\anaconda3\\lib\\site-packages\\pandas\\core\\indexes\\datetimes.py\", line 778, in get_slice_bound\n",
      "    return super().get_slice_bound(label, side=side, kind=kind)\n",
      "  File \"C:\\Users\\Ashwin Dev\\anaconda3\\lib\\site-packages\\pandas\\core\\indexes\\base.py\", line 6403, in get_slice_bound\n",
      "    raise err\n",
      "  File \"C:\\Users\\Ashwin Dev\\anaconda3\\lib\\site-packages\\pandas\\core\\indexes\\base.py\", line 6397, in get_slice_bound\n",
      "    slc = self.get_loc(label)\n",
      "  File \"C:\\Users\\Ashwin Dev\\anaconda3\\lib\\site-packages\\pandas\\core\\indexes\\datetimes.py\", line 681, in get_loc\n",
      "    raise KeyError(orig_key) from err\n",
      "KeyError: Timestamp('2022-08-22 17:11:00')\n"
     ]
    },
    {
     "name": "stdout",
     "output_type": "stream",
     "text": [
      "65 "
     ]
    },
    {
     "name": "stderr",
     "output_type": "stream",
     "text": [
      "Exception in thread Thread-3693:\n",
      "Traceback (most recent call last):\n",
      "  File \"pandas\\_libs\\index.pyx\", line 545, in pandas._libs.index.DatetimeEngine.get_loc\n",
      "  File \"pandas\\_libs\\hashtable_class_helper.pxi\", line 2131, in pandas._libs.hashtable.Int64HashTable.get_item\n",
      "  File \"pandas\\_libs\\hashtable_class_helper.pxi\", line 2140, in pandas._libs.hashtable.Int64HashTable.get_item\n",
      "KeyError: 1661188260000000000\n",
      "\n",
      "During handling of the above exception, another exception occurred:\n",
      "\n",
      "Exception in thread Traceback (most recent call last):\n",
      "  File \"C:\\Users\\Ashwin Dev\\anaconda3\\lib\\site-packages\\pandas\\core\\indexes\\base.py\", line 3621, in get_loc\n",
      "Thread-3704:\n",
      "Traceback (most recent call last):\n",
      "  File \"pandas\\_libs\\index.pyx\", line 545, in pandas._libs.index.DatetimeEngine.get_loc\n",
      "    return self._engine.get_loc(casted_key)\n",
      "  File \"pandas\\_libs\\index.pyx\", line 513, in pandas._libs.index.DatetimeEngine.get_loc\n",
      "  File \"pandas\\_libs\\hashtable_class_helper.pxi\", line 2131, in pandas._libs.hashtable.Int64HashTable.get_item\n",
      "  File \"pandas\\_libs\\index.pyx\", line 547, in pandas._libs.index.DatetimeEngine.get_loc\n",
      "  File \"pandas\\_libs\\hashtable_class_helper.pxi\", line 2140, in pandas._libs.hashtable.Int64HashTable.get_item\n",
      "KeyError: Timestamp('2022-08-22 17:11:00')\n",
      "\n",
      "The above exception was the direct cause of the following exception:\n",
      "\n",
      "Traceback (most recent call last):\n",
      "  File \"C:\\Users\\Ashwin Dev\\anaconda3\\lib\\site-packages\\pandas\\core\\indexes\\datetimes.py\", line 679, in get_loc\n",
      "KeyError: 1661188260000000000\n",
      "\n",
      "During handling of the above exception, another exception occurred:\n",
      "\n",
      "Traceback (most recent call last):\n",
      "  File \"C:\\Users\\Ashwin Dev\\anaconda3\\lib\\site-packages\\pandas\\core\\indexes\\base.py\", line 3621, in get_loc\n",
      "        return Index.get_loc(self, key, method, tolerance)\n",
      "  File \"C:\\Users\\Ashwin Dev\\anaconda3\\lib\\site-packages\\pandas\\core\\indexes\\base.py\", line 3623, in get_loc\n",
      "return self._engine.get_loc(casted_key)\n",
      "  File \"pandas\\_libs\\index.pyx\", line 513, in pandas._libs.index.DatetimeEngine.get_loc\n",
      "  File \"pandas\\_libs\\index.pyx\", line 547, in pandas._libs.index.DatetimeEngine.get_loc\n",
      "    raise KeyError(key) from err\n",
      "KeyError: Timestamp('2022-08-22 17:11:00')\n",
      "\n",
      "The above exception was the direct cause of the following exception:\n",
      "\n",
      "Traceback (most recent call last):\n",
      "  File \"C:\\Users\\Ashwin Dev\\anaconda3\\lib\\threading.py\", line 973, in _bootstrap_inner\n",
      "KeyError: Timestamp('2022-08-22 17:11:00')\n",
      "\n",
      "The above exception was the direct cause of the following exception:\n",
      "\n",
      "Traceback (most recent call last):\n",
      "  File \"C:\\Users\\Ashwin Dev\\anaconda3\\lib\\site-packages\\pandas\\core\\indexes\\datetimes.py\", line 679, in get_loc\n",
      "    self.run()\n",
      "  File \"C:\\Users\\Ashwin Dev\\anaconda3\\lib\\threading.py\", line 910, in run\n",
      "    return Index.get_loc(self, key, method, tolerance)\n",
      "  File \"C:\\Users\\Ashwin Dev\\anaconda3\\lib\\site-packages\\pandas\\core\\indexes\\base.py\", line 3623, in get_loc\n",
      "    self._target(*self._args, **self._kwargs)\n",
      "  File \"C:\\Users\\Ashwin Dev\\anaconda3\\lib\\site-packages\\socketio\\client.py\", line 615, in _handle_eio_message\n",
      "    self._handle_event(pkt.namespace, pkt.id, pkt.data)\n",
      "  File \"C:\\Users\\Ashwin Dev\\anaconda3\\lib\\site-packages\\socketio\\client.py\", line 501, in _handle_event\n",
      "    raise KeyError(key) from err\n",
      "KeyError: Timestamp('2022-08-22 17:11:00')\n",
      "\n",
      "The above exception was the direct cause of the following exception:\n",
      "\n",
      "Traceback (most recent call last):\n",
      "  File \"C:\\Users\\Ashwin Dev\\anaconda3\\lib\\threading.py\", line 973, in _bootstrap_inner\n",
      "    r = self._trigger_event(data[0], namespace, *data[1:])\n",
      "  File \"C:\\Users\\Ashwin Dev\\anaconda3\\lib\\site-packages\\socketio\\client.py\", line 547, in _trigger_event\n",
      "    return self.handlers[namespace][event](*args)    \n",
      "  File \"C:\\Users\\Ashwin Dev\\anaconda3\\lib\\site-packages\\fxcmpy\\fxcmpy.py\", line 2575, in __on_price_update__\n",
      "self.run()\n",
      "  File \"C:\\Users\\Ashwin Dev\\anaconda3\\lib\\threading.py\", line 910, in run\n",
      "    self._target(*self._args, **self._kwargs)\n",
      "  File \"C:\\Users\\Ashwin Dev\\anaconda3\\lib\\site-packages\\socketio\\client.py\", line 615, in _handle_eio_message\n",
      "    self._handle_event(pkt.namespace, pkt.id, pkt.data)\n",
      "  File \"C:\\Users\\Ashwin Dev\\anaconda3\\lib\\site-packages\\socketio\\client.py\", line 501, in _handle_event\n",
      "    callbacks[func](data, self.prices[symbol])\n",
      "  File \"C:\\Users\\Ashwin Dev\\AppData\\Local\\Temp\\ipykernel_1184\\3388473720.py\", line 35, in get_tick_data\n",
      "    r = self._trigger_event(data[0], namespace, *data[1:])\n",
      "  File \"C:\\Users\\Ashwin Dev\\anaconda3\\lib\\site-packages\\socketio\\client.py\", line 547, in _trigger_event\n",
      "    return self.handlers[namespace][event](*args)\n",
      "  File \"C:\\Users\\Ashwin Dev\\anaconda3\\lib\\site-packages\\fxcmpy\\fxcmpy.py\", line 2575, in __on_price_update__\n",
      "    callbacks[func](data, self.prices[symbol])\n",
      "  File \"C:\\Users\\Ashwin Dev\\AppData\\Local\\Temp\\ipykernel_1184\\3388473720.py\", line 35, in get_tick_data\n",
      "  File \"C:\\Users\\Ashwin Dev\\anaconda3\\lib\\site-packages\\pandas\\core\\indexing.py\", line 961, in __getitem__\n",
      "    return self._getitem_tuple(key)\n",
      "  File \"C:\\Users\\Ashwin Dev\\anaconda3\\lib\\site-packages\\pandas\\core\\indexing.py\", line 1149, in _getitem_tuple\n",
      "  File \"C:\\Users\\Ashwin Dev\\anaconda3\\lib\\site-packages\\pandas\\core\\indexing.py\", line 961, in __getitem__\n",
      "    return self._getitem_tuple_same_dim(tup)    return self._getitem_tuple(key)\n",
      "  File \"C:\\Users\\Ashwin Dev\\anaconda3\\lib\\site-packages\\pandas\\core\\indexing.py\", line 1149, in _getitem_tuple\n",
      "\n",
      "  File \"C:\\Users\\Ashwin Dev\\anaconda3\\lib\\site-packages\\pandas\\core\\indexing.py\", line 827, in _getitem_tuple_same_dim\n",
      "    retval = getattr(retval, self.name)._getitem_axis(key, axis=i)\n",
      "  File \"C:\\Users\\Ashwin Dev\\anaconda3\\lib\\site-packages\\pandas\\core\\indexing.py\", line 1180, in _getitem_axis\n",
      "    return self._getitem_tuple_same_dim(tup)\n",
      "  File \"C:\\Users\\Ashwin Dev\\anaconda3\\lib\\site-packages\\pandas\\core\\indexing.py\", line 827, in _getitem_tuple_same_dim\n",
      "    return self._get_slice_axis(key, axis=axis)\n",
      "  File \"C:\\Users\\Ashwin Dev\\anaconda3\\lib\\site-packages\\pandas\\core\\indexing.py\", line 1214, in _get_slice_axis\n",
      "    retval = getattr(retval, self.name)._getitem_axis(key, axis=i)    \n",
      "  File \"C:\\Users\\Ashwin Dev\\anaconda3\\lib\\site-packages\\pandas\\core\\indexing.py\", line 1180, in _getitem_axis\n",
      "indexer = labels.slice_indexer(slice_obj.start, slice_obj.stop, slice_obj.step)\n",
      "  File \"C:\\Users\\Ashwin Dev\\anaconda3\\lib\\site-packages\\pandas\\core\\indexes\\datetimes.py\", line 743, in slice_indexer\n",
      "        return Index.slice_indexer(self, start, end, step, kind=kind)\n",
      "  File \"C:\\Users\\Ashwin Dev\\anaconda3\\lib\\site-packages\\pandas\\core\\indexes\\base.py\", line 6274, in slice_indexer\n",
      "return self._get_slice_axis(key, axis=axis)\n",
      "  File \"C:\\Users\\Ashwin Dev\\anaconda3\\lib\\site-packages\\pandas\\core\\indexing.py\", line 1214, in _get_slice_axis\n",
      "    indexer = labels.slice_indexer(slice_obj.start, slice_obj.stop, slice_obj.step)\n",
      "  File \"C:\\Users\\Ashwin Dev\\anaconda3\\lib\\site-packages\\pandas\\core\\indexes\\datetimes.py\", line 743, in slice_indexer\n",
      "    return Index.slice_indexer(self, start, end, step, kind=kind)\n",
      "  File \"C:\\Users\\Ashwin Dev\\anaconda3\\lib\\site-packages\\pandas\\core\\indexes\\base.py\", line 6274, in slice_indexer\n",
      "    start_slice, end_slice = self.slice_locs(start, end, step=step)\n",
      "  File \"C:\\Users\\Ashwin Dev\\anaconda3\\lib\\site-packages\\pandas\\core\\indexes\\base.py\", line 6484, in slice_locs\n",
      "    start_slice, end_slice = self.slice_locs(start, end, step=step)\n",
      "  File \"C:\\Users\\Ashwin Dev\\anaconda3\\lib\\site-packages\\pandas\\core\\indexes\\base.py\", line 6484, in slice_locs\n",
      "    start_slice = self.get_slice_bound(start, \"left\")\n",
      "  File \"C:\\Users\\Ashwin Dev\\anaconda3\\lib\\site-packages\\pandas\\core\\indexes\\datetimes.py\", line 778, in get_slice_bound\n",
      "    return super().get_slice_bound(label, side=side, kind=kind)\n",
      "  File \"C:\\Users\\Ashwin Dev\\anaconda3\\lib\\site-packages\\pandas\\core\\indexes\\base.py\", line 6403, in get_slice_bound\n",
      "    start_slice = self.get_slice_bound(start, \"left\")\n",
      "  File \"C:\\Users\\Ashwin Dev\\anaconda3\\lib\\site-packages\\pandas\\core\\indexes\\datetimes.py\", line 778, in get_slice_bound\n",
      "        return super().get_slice_bound(label, side=side, kind=kind)\n",
      "  File \"C:\\Users\\Ashwin Dev\\anaconda3\\lib\\site-packages\\pandas\\core\\indexes\\base.py\", line 6403, in get_slice_bound\n",
      "raise err\n",
      "  File \"C:\\Users\\Ashwin Dev\\anaconda3\\lib\\site-packages\\pandas\\core\\indexes\\base.py\", line 6397, in get_slice_bound\n",
      "    slc = self.get_loc(label)\n",
      "  File \"C:\\Users\\Ashwin Dev\\anaconda3\\lib\\site-packages\\pandas\\core\\indexes\\datetimes.py\", line 681, in get_loc\n",
      "    raise err\n",
      "  File \"C:\\Users\\Ashwin Dev\\anaconda3\\lib\\site-packages\\pandas\\core\\indexes\\base.py\", line 6397, in get_slice_bound\n",
      "    raise KeyError(orig_key) from err\n",
      "KeyError: Timestamp('2022-08-22 17:11:00')\n"
     ]
    },
    {
     "name": "stderr",
     "output_type": "stream",
     "text": [
      "    slc = self.get_loc(label)\n",
      "  File \"C:\\Users\\Ashwin Dev\\anaconda3\\lib\\site-packages\\pandas\\core\\indexes\\datetimes.py\", line 681, in get_loc\n",
      "    raise KeyError(orig_key) from err\n",
      "KeyError: Timestamp('2022-08-22 17:11:00')\n"
     ]
    },
    {
     "name": "stdout",
     "output_type": "stream",
     "text": [
      "66 67 "
     ]
    },
    {
     "name": "stderr",
     "output_type": "stream",
     "text": [
      "Exception in thread Thread-3711:\n",
      "Traceback (most recent call last):\n",
      "  File \"pandas\\_libs\\index.pyx\", line 545, in pandas._libs.index.DatetimeEngine.get_loc\n",
      "  File \"pandas\\_libs\\hashtable_class_helper.pxi\", line 2131, in pandas._libs.hashtable.Int64HashTable.get_item\n",
      "  File \"pandas\\_libs\\hashtable_class_helper.pxi\", line 2140, in pandas._libs.hashtable.Int64HashTable.get_item\n",
      "KeyError: 1661188260000000000\n",
      "\n",
      "During handling of the above exception, another exception occurred:\n",
      "\n",
      "Traceback (most recent call last):\n",
      "  File \"C:\\Users\\Ashwin Dev\\anaconda3\\lib\\site-packages\\pandas\\core\\indexes\\base.py\", line 3621, in get_loc\n",
      "    return self._engine.get_loc(casted_key)\n",
      "  File \"pandas\\_libs\\index.pyx\", line 513, in pandas._libs.index.DatetimeEngine.get_loc\n",
      "  File \"pandas\\_libs\\index.pyx\", line 547, in pandas._libs.index.DatetimeEngine.get_loc\n",
      "KeyError: Timestamp('2022-08-22 17:11:00')\n",
      "\n",
      "The above exception was the direct cause of the following exception:\n",
      "\n",
      "Traceback (most recent call last):\n",
      "  File \"C:\\Users\\Ashwin Dev\\anaconda3\\lib\\site-packages\\pandas\\core\\indexes\\datetimes.py\", line 679, in get_loc\n",
      "    return Index.get_loc(self, key, method, tolerance)\n",
      "  File \"C:\\Users\\Ashwin Dev\\anaconda3\\lib\\site-packages\\pandas\\core\\indexes\\base.py\", line 3623, in get_loc\n",
      "    raise KeyError(key) from err\n",
      "KeyError: Timestamp('2022-08-22 17:11:00')\n",
      "\n",
      "The above exception was the direct cause of the following exception:\n",
      "\n",
      "Traceback (most recent call last):\n",
      "  File \"C:\\Users\\Ashwin Dev\\anaconda3\\lib\\threading.py\", line 973, in _bootstrap_inner\n",
      "    self.run()\n",
      "  File \"C:\\Users\\Ashwin Dev\\anaconda3\\lib\\threading.py\", line 910, in run\n",
      "    self._target(*self._args, **self._kwargs)\n",
      "  File \"C:\\Users\\Ashwin Dev\\anaconda3\\lib\\site-packages\\socketio\\client.py\", line 615, in _handle_eio_message\n",
      "    self._handle_event(pkt.namespace, pkt.id, pkt.data)\n",
      "  File \"C:\\Users\\Ashwin Dev\\anaconda3\\lib\\site-packages\\socketio\\client.py\", line 501, in _handle_event\n",
      "    r = self._trigger_event(data[0], namespace, *data[1:])\n",
      "  File \"C:\\Users\\Ashwin Dev\\anaconda3\\lib\\site-packages\\socketio\\client.py\", line 547, in _trigger_event\n",
      "    return self.handlers[namespace][event](*args)\n",
      "  File \"C:\\Users\\Ashwin Dev\\anaconda3\\lib\\site-packages\\fxcmpy\\fxcmpy.py\", line 2575, in __on_price_update__\n",
      "    callbacks[func](data, self.prices[symbol])\n",
      "  File \"C:\\Users\\Ashwin Dev\\AppData\\Local\\Temp\\ipykernel_1184\\3388473720.py\", line 35, in get_tick_data\n",
      "  File \"C:\\Users\\Ashwin Dev\\anaconda3\\lib\\site-packages\\pandas\\core\\indexing.py\", line 961, in __getitem__\n",
      "    return self._getitem_tuple(key)\n",
      "  File \"C:\\Users\\Ashwin Dev\\anaconda3\\lib\\site-packages\\pandas\\core\\indexing.py\", line 1149, in _getitem_tuple\n",
      "    return self._getitem_tuple_same_dim(tup)\n",
      "  File \"C:\\Users\\Ashwin Dev\\anaconda3\\lib\\site-packages\\pandas\\core\\indexing.py\", line 827, in _getitem_tuple_same_dim\n",
      "    retval = getattr(retval, self.name)._getitem_axis(key, axis=i)\n",
      "  File \"C:\\Users\\Ashwin Dev\\anaconda3\\lib\\site-packages\\pandas\\core\\indexing.py\", line 1180, in _getitem_axis\n",
      "    return self._get_slice_axis(key, axis=axis)\n",
      "  File \"C:\\Users\\Ashwin Dev\\anaconda3\\lib\\site-packages\\pandas\\core\\indexing.py\", line 1214, in _get_slice_axis\n",
      "    indexer = labels.slice_indexer(slice_obj.start, slice_obj.stop, slice_obj.step)\n",
      "  File \"C:\\Users\\Ashwin Dev\\anaconda3\\lib\\site-packages\\pandas\\core\\indexes\\datetimes.py\", line 743, in slice_indexer\n",
      "    return Index.slice_indexer(self, start, end, step, kind=kind)\n",
      "  File \"C:\\Users\\Ashwin Dev\\anaconda3\\lib\\site-packages\\pandas\\core\\indexes\\base.py\", line 6274, in slice_indexer\n",
      "    start_slice, end_slice = self.slice_locs(start, end, step=step)\n",
      "  File \"C:\\Users\\Ashwin Dev\\anaconda3\\lib\\site-packages\\pandas\\core\\indexes\\base.py\", line 6484, in slice_locs\n",
      "    start_slice = self.get_slice_bound(start, \"left\")\n",
      "  File \"C:\\Users\\Ashwin Dev\\anaconda3\\lib\\site-packages\\pandas\\core\\indexes\\datetimes.py\", line 778, in get_slice_bound\n",
      "    return super().get_slice_bound(label, side=side, kind=kind)\n",
      "  File \"C:\\Users\\Ashwin Dev\\anaconda3\\lib\\site-packages\\pandas\\core\\indexes\\base.py\", line 6403, in get_slice_bound\n",
      "    raise err\n",
      "  File \"C:\\Users\\Ashwin Dev\\anaconda3\\lib\\site-packages\\pandas\\core\\indexes\\base.py\", line 6397, in get_slice_bound\n",
      "    slc = self.get_loc(label)\n",
      "  File \"C:\\Users\\Ashwin Dev\\anaconda3\\lib\\site-packages\\pandas\\core\\indexes\\datetimes.py\", line 681, in get_loc\n",
      "    raise KeyError(orig_key) from err\n",
      "KeyError: Timestamp('2022-08-22 17:11:00')\n"
     ]
    }
   ],
   "source": [
    "print(datetime.utcnow())\n",
    "trader.get_most_recent()\n",
    "api.subscribe_market_data(\"EUR/USD\", (trader.get_tick_data, ))"
   ]
  },
  {
   "cell_type": "code",
   "execution_count": 6,
   "metadata": {},
   "outputs": [
    {
     "name": "stdout",
     "output_type": "stream",
     "text": [
      "68 "
     ]
    },
    {
     "name": "stderr",
     "output_type": "stream",
     "text": [
      "Exception in thread Thread-3724:\n",
      "Traceback (most recent call last):\n",
      "  File \"pandas\\_libs\\index.pyx\", line 545, in pandas._libs.index.DatetimeEngine.get_loc\n",
      "  File \"pandas\\_libs\\hashtable_class_helper.pxi\", line 2131, in pandas._libs.hashtable.Int64HashTable.get_item\n",
      "  File \"pandas\\_libs\\hashtable_class_helper.pxi\", line 2140, in pandas._libs.hashtable.Int64HashTable.get_item\n",
      "KeyError: 1661188260000000000\n",
      "\n",
      "During handling of the above exception, another exception occurred:\n",
      "\n",
      "Traceback (most recent call last):\n",
      "  File \"C:\\Users\\Ashwin Dev\\anaconda3\\lib\\site-packages\\pandas\\core\\indexes\\base.py\", line 3621, in get_loc\n",
      "    return self._engine.get_loc(casted_key)\n",
      "  File \"pandas\\_libs\\index.pyx\", line 513, in pandas._libs.index.DatetimeEngine.get_loc\n",
      "  File \"pandas\\_libs\\index.pyx\", line 547, in pandas._libs.index.DatetimeEngine.get_loc\n",
      "KeyError: Timestamp('2022-08-22 17:11:00')\n",
      "\n",
      "The above exception was the direct cause of the following exception:\n",
      "\n",
      "Traceback (most recent call last):\n",
      "  File \"C:\\Users\\Ashwin Dev\\anaconda3\\lib\\site-packages\\pandas\\core\\indexes\\datetimes.py\", line 679, in get_loc\n",
      "    return Index.get_loc(self, key, method, tolerance)\n",
      "  File \"C:\\Users\\Ashwin Dev\\anaconda3\\lib\\site-packages\\pandas\\core\\indexes\\base.py\", line 3623, in get_loc\n",
      "    raise KeyError(key) from err\n",
      "KeyError: Timestamp('2022-08-22 17:11:00')\n",
      "\n",
      "The above exception was the direct cause of the following exception:\n",
      "\n",
      "Traceback (most recent call last):\n",
      "  File \"C:\\Users\\Ashwin Dev\\anaconda3\\lib\\threading.py\", line 973, in _bootstrap_inner\n",
      "    self.run()\n",
      "  File \"C:\\Users\\Ashwin Dev\\anaconda3\\lib\\threading.py\", line 910, in run\n",
      "    self._target(*self._args, **self._kwargs)\n",
      "  File \"C:\\Users\\Ashwin Dev\\anaconda3\\lib\\site-packages\\socketio\\client.py\", line 615, in _handle_eio_message\n",
      "    self._handle_event(pkt.namespace, pkt.id, pkt.data)\n",
      "  File \"C:\\Users\\Ashwin Dev\\anaconda3\\lib\\site-packages\\socketio\\client.py\", line 501, in _handle_event\n",
      "    r = self._trigger_event(data[0], namespace, *data[1:])\n",
      "  File \"C:\\Users\\Ashwin Dev\\anaconda3\\lib\\site-packages\\socketio\\client.py\", line 547, in _trigger_event\n",
      "    return self.handlers[namespace][event](*args)\n",
      "  File \"C:\\Users\\Ashwin Dev\\anaconda3\\lib\\site-packages\\fxcmpy\\fxcmpy.py\", line 2575, in __on_price_update__\n",
      "    callbacks[func](data, self.prices[symbol])\n",
      "  File \"C:\\Users\\Ashwin Dev\\AppData\\Local\\Temp\\ipykernel_1184\\3388473720.py\", line 35, in get_tick_data\n",
      "  File \"C:\\Users\\Ashwin Dev\\anaconda3\\lib\\site-packages\\pandas\\core\\indexing.py\", line 961, in __getitem__\n",
      "    return self._getitem_tuple(key)\n",
      "  File \"C:\\Users\\Ashwin Dev\\anaconda3\\lib\\site-packages\\pandas\\core\\indexing.py\", line 1149, in _getitem_tuple\n",
      "    return self._getitem_tuple_same_dim(tup)\n",
      "  File \"C:\\Users\\Ashwin Dev\\anaconda3\\lib\\site-packages\\pandas\\core\\indexing.py\", line 827, in _getitem_tuple_same_dim\n",
      "    retval = getattr(retval, self.name)._getitem_axis(key, axis=i)\n",
      "  File \"C:\\Users\\Ashwin Dev\\anaconda3\\lib\\site-packages\\pandas\\core\\indexing.py\", line 1180, in _getitem_axis\n",
      "    return self._get_slice_axis(key, axis=axis)\n",
      "  File \"C:\\Users\\Ashwin Dev\\anaconda3\\lib\\site-packages\\pandas\\core\\indexing.py\", line 1214, in _get_slice_axis\n",
      "    indexer = labels.slice_indexer(slice_obj.start, slice_obj.stop, slice_obj.step)\n",
      "  File \"C:\\Users\\Ashwin Dev\\anaconda3\\lib\\site-packages\\pandas\\core\\indexes\\datetimes.py\", line 743, in slice_indexer\n",
      "    return Index.slice_indexer(self, start, end, step, kind=kind)\n",
      "  File \"C:\\Users\\Ashwin Dev\\anaconda3\\lib\\site-packages\\pandas\\core\\indexes\\base.py\", line 6274, in slice_indexer\n",
      "    start_slice, end_slice = self.slice_locs(start, end, step=step)\n",
      "  File \"C:\\Users\\Ashwin Dev\\anaconda3\\lib\\site-packages\\pandas\\core\\indexes\\base.py\", line 6484, in slice_locs\n",
      "    start_slice = self.get_slice_bound(start, \"left\")\n",
      "  File \"C:\\Users\\Ashwin Dev\\anaconda3\\lib\\site-packages\\pandas\\core\\indexes\\datetimes.py\", line 778, in get_slice_bound\n",
      "    return super().get_slice_bound(label, side=side, kind=kind)\n",
      "  File \"C:\\Users\\Ashwin Dev\\anaconda3\\lib\\site-packages\\pandas\\core\\indexes\\base.py\", line 6403, in get_slice_bound\n",
      "    raise err\n",
      "  File \"C:\\Users\\Ashwin Dev\\anaconda3\\lib\\site-packages\\pandas\\core\\indexes\\base.py\", line 6397, in get_slice_bound\n",
      "    slc = self.get_loc(label)\n",
      "  File \"C:\\Users\\Ashwin Dev\\anaconda3\\lib\\site-packages\\pandas\\core\\indexes\\datetimes.py\", line 681, in get_loc\n",
      "    raise KeyError(orig_key) from err\n",
      "KeyError: Timestamp('2022-08-22 17:11:00')\n"
     ]
    },
    {
     "name": "stdout",
     "output_type": "stream",
     "text": [
      "69 "
     ]
    },
    {
     "name": "stderr",
     "output_type": "stream",
     "text": [
      "Exception in thread Thread-3731:\n",
      "Traceback (most recent call last):\n",
      "  File \"pandas\\_libs\\index.pyx\", line 545, in pandas._libs.index.DatetimeEngine.get_loc\n",
      "  File \"pandas\\_libs\\hashtable_class_helper.pxi\", line 2131, in pandas._libs.hashtable.Int64HashTable.get_item\n",
      "  File \"pandas\\_libs\\hashtable_class_helper.pxi\", line 2140, in pandas._libs.hashtable.Int64HashTable.get_item\n",
      "KeyError: 1661188260000000000\n",
      "\n",
      "During handling of the above exception, another exception occurred:\n",
      "\n",
      "Traceback (most recent call last):\n",
      "  File \"C:\\Users\\Ashwin Dev\\anaconda3\\lib\\site-packages\\pandas\\core\\indexes\\base.py\", line 3621, in get_loc\n",
      "    return self._engine.get_loc(casted_key)\n",
      "  File \"pandas\\_libs\\index.pyx\", line 513, in pandas._libs.index.DatetimeEngine.get_loc\n",
      "  File \"pandas\\_libs\\index.pyx\", line 547, in pandas._libs.index.DatetimeEngine.get_loc\n",
      "KeyError: Timestamp('2022-08-22 17:11:00')\n",
      "\n",
      "The above exception was the direct cause of the following exception:\n",
      "\n",
      "Traceback (most recent call last):\n",
      "  File \"C:\\Users\\Ashwin Dev\\anaconda3\\lib\\site-packages\\pandas\\core\\indexes\\datetimes.py\", line 679, in get_loc\n",
      "    return Index.get_loc(self, key, method, tolerance)\n",
      "  File \"C:\\Users\\Ashwin Dev\\anaconda3\\lib\\site-packages\\pandas\\core\\indexes\\base.py\", line 3623, in get_loc\n",
      "    raise KeyError(key) from err\n",
      "KeyError: Timestamp('2022-08-22 17:11:00')\n",
      "\n",
      "The above exception was the direct cause of the following exception:\n",
      "\n",
      "Traceback (most recent call last):\n",
      "  File \"C:\\Users\\Ashwin Dev\\anaconda3\\lib\\threading.py\", line 973, in _bootstrap_inner\n",
      "    self.run()\n",
      "  File \"C:\\Users\\Ashwin Dev\\anaconda3\\lib\\threading.py\", line 910, in run\n",
      "    self._target(*self._args, **self._kwargs)\n",
      "  File \"C:\\Users\\Ashwin Dev\\anaconda3\\lib\\site-packages\\socketio\\client.py\", line 615, in _handle_eio_message\n",
      "    self._handle_event(pkt.namespace, pkt.id, pkt.data)\n",
      "  File \"C:\\Users\\Ashwin Dev\\anaconda3\\lib\\site-packages\\socketio\\client.py\", line 501, in _handle_event\n",
      "    r = self._trigger_event(data[0], namespace, *data[1:])\n",
      "  File \"C:\\Users\\Ashwin Dev\\anaconda3\\lib\\site-packages\\socketio\\client.py\", line 547, in _trigger_event\n",
      "    return self.handlers[namespace][event](*args)\n",
      "  File \"C:\\Users\\Ashwin Dev\\anaconda3\\lib\\site-packages\\fxcmpy\\fxcmpy.py\", line 2575, in __on_price_update__\n",
      "    callbacks[func](data, self.prices[symbol])\n",
      "  File \"C:\\Users\\Ashwin Dev\\AppData\\Local\\Temp\\ipykernel_1184\\3388473720.py\", line 35, in get_tick_data\n",
      "  File \"C:\\Users\\Ashwin Dev\\anaconda3\\lib\\site-packages\\pandas\\core\\indexing.py\", line 961, in __getitem__\n",
      "    return self._getitem_tuple(key)\n",
      "  File \"C:\\Users\\Ashwin Dev\\anaconda3\\lib\\site-packages\\pandas\\core\\indexing.py\", line 1149, in _getitem_tuple\n",
      "    return self._getitem_tuple_same_dim(tup)\n",
      "  File \"C:\\Users\\Ashwin Dev\\anaconda3\\lib\\site-packages\\pandas\\core\\indexing.py\", line 827, in _getitem_tuple_same_dim\n",
      "    retval = getattr(retval, self.name)._getitem_axis(key, axis=i)\n",
      "  File \"C:\\Users\\Ashwin Dev\\anaconda3\\lib\\site-packages\\pandas\\core\\indexing.py\", line 1180, in _getitem_axis\n",
      "    return self._get_slice_axis(key, axis=axis)\n",
      "  File \"C:\\Users\\Ashwin Dev\\anaconda3\\lib\\site-packages\\pandas\\core\\indexing.py\", line 1214, in _get_slice_axis\n",
      "    indexer = labels.slice_indexer(slice_obj.start, slice_obj.stop, slice_obj.step)\n",
      "  File \"C:\\Users\\Ashwin Dev\\anaconda3\\lib\\site-packages\\pandas\\core\\indexes\\datetimes.py\", line 743, in slice_indexer\n",
      "    return Index.slice_indexer(self, start, end, step, kind=kind)\n",
      "  File \"C:\\Users\\Ashwin Dev\\anaconda3\\lib\\site-packages\\pandas\\core\\indexes\\base.py\", line 6274, in slice_indexer\n",
      "    start_slice, end_slice = self.slice_locs(start, end, step=step)\n",
      "  File \"C:\\Users\\Ashwin Dev\\anaconda3\\lib\\site-packages\\pandas\\core\\indexes\\base.py\", line 6484, in slice_locs\n",
      "    start_slice = self.get_slice_bound(start, \"left\")\n",
      "  File \"C:\\Users\\Ashwin Dev\\anaconda3\\lib\\site-packages\\pandas\\core\\indexes\\datetimes.py\", line 778, in get_slice_bound\n",
      "    return super().get_slice_bound(label, side=side, kind=kind)\n",
      "  File \"C:\\Users\\Ashwin Dev\\anaconda3\\lib\\site-packages\\pandas\\core\\indexes\\base.py\", line 6403, in get_slice_bound\n",
      "    raise err\n",
      "  File \"C:\\Users\\Ashwin Dev\\anaconda3\\lib\\site-packages\\pandas\\core\\indexes\\base.py\", line 6397, in get_slice_bound\n",
      "    slc = self.get_loc(label)\n",
      "  File \"C:\\Users\\Ashwin Dev\\anaconda3\\lib\\site-packages\\pandas\\core\\indexes\\datetimes.py\", line 681, in get_loc\n",
      "    raise KeyError(orig_key) from err\n",
      "KeyError: Timestamp('2022-08-22 17:11:00')\n"
     ]
    },
    {
     "name": "stdout",
     "output_type": "stream",
     "text": [
      "70 "
     ]
    }
   ],
   "source": [
    "api.unsubscribe_market_data(\"EUR/USD\")"
   ]
  },
  {
   "cell_type": "code",
   "execution_count": 7,
   "metadata": {},
   "outputs": [
    {
     "data": {
      "text/html": [
       "<div>\n",
       "<style scoped>\n",
       "    .dataframe tbody tr th:only-of-type {\n",
       "        vertical-align: middle;\n",
       "    }\n",
       "\n",
       "    .dataframe tbody tr th {\n",
       "        vertical-align: top;\n",
       "    }\n",
       "\n",
       "    .dataframe thead th {\n",
       "        text-align: right;\n",
       "    }\n",
       "</style>\n",
       "<table border=\"1\" class=\"dataframe\">\n",
       "  <thead>\n",
       "    <tr style=\"text-align: right;\">\n",
       "      <th></th>\n",
       "      <th>EUR/USD</th>\n",
       "    </tr>\n",
       "    <tr>\n",
       "      <th>date</th>\n",
       "      <th></th>\n",
       "    </tr>\n",
       "  </thead>\n",
       "  <tbody>\n",
       "    <tr>\n",
       "      <th>2022-08-22 17:02:00</th>\n",
       "      <td>0.993485</td>\n",
       "    </tr>\n",
       "    <tr>\n",
       "      <th>2022-08-22 17:03:00</th>\n",
       "      <td>0.993430</td>\n",
       "    </tr>\n",
       "    <tr>\n",
       "      <th>2022-08-22 17:04:00</th>\n",
       "      <td>0.993415</td>\n",
       "    </tr>\n",
       "    <tr>\n",
       "      <th>2022-08-22 17:05:00</th>\n",
       "      <td>0.993300</td>\n",
       "    </tr>\n",
       "    <tr>\n",
       "      <th>2022-08-22 17:06:00</th>\n",
       "      <td>0.993265</td>\n",
       "    </tr>\n",
       "    <tr>\n",
       "      <th>2022-08-22 17:07:00</th>\n",
       "      <td>0.993285</td>\n",
       "    </tr>\n",
       "    <tr>\n",
       "      <th>2022-08-22 17:08:00</th>\n",
       "      <td>0.993235</td>\n",
       "    </tr>\n",
       "    <tr>\n",
       "      <th>2022-08-22 17:09:00</th>\n",
       "      <td>0.993045</td>\n",
       "    </tr>\n",
       "    <tr>\n",
       "      <th>2022-08-22 17:10:00</th>\n",
       "      <td>0.992990</td>\n",
       "    </tr>\n",
       "    <tr>\n",
       "      <th>2022-08-22 17:11:00</th>\n",
       "      <td>0.992995</td>\n",
       "    </tr>\n",
       "  </tbody>\n",
       "</table>\n",
       "</div>"
      ],
      "text/plain": [
       "                      EUR/USD\n",
       "date                         \n",
       "2022-08-22 17:02:00  0.993485\n",
       "2022-08-22 17:03:00  0.993430\n",
       "2022-08-22 17:04:00  0.993415\n",
       "2022-08-22 17:05:00  0.993300\n",
       "2022-08-22 17:06:00  0.993265\n",
       "2022-08-22 17:07:00  0.993285\n",
       "2022-08-22 17:08:00  0.993235\n",
       "2022-08-22 17:09:00  0.993045\n",
       "2022-08-22 17:10:00  0.992990\n",
       "2022-08-22 17:11:00  0.992995"
      ]
     },
     "execution_count": 7,
     "metadata": {},
     "output_type": "execute_result"
    }
   ],
   "source": [
    "trader.data.tail(10)"
   ]
  },
  {
   "cell_type": "code",
   "execution_count": 8,
   "metadata": {},
   "outputs": [],
   "source": [
    "trader.tick_data"
   ]
  },
  {
   "cell_type": "code",
   "execution_count": 9,
   "metadata": {},
   "outputs": [
    {
     "data": {
      "text/plain": [
       "4"
      ]
     },
     "execution_count": 9,
     "metadata": {},
     "output_type": "execute_result"
    }
   ],
   "source": [
    "trader.count"
   ]
  },
  {
   "cell_type": "code",
   "execution_count": 11,
   "metadata": {},
   "outputs": [],
   "source": [
    "api.close()"
   ]
  },
  {
   "cell_type": "code",
   "execution_count": null,
   "metadata": {},
   "outputs": [],
   "source": []
  },
  {
   "cell_type": "markdown",
   "metadata": {},
   "source": [
    "## Defining a Simple Contrarian Trading Strategy"
   ]
  },
  {
   "cell_type": "code",
   "execution_count": 1,
   "metadata": {},
   "outputs": [],
   "source": [
    "import pandas as pd\n",
    "import numpy as np\n",
    "import fxcmpy\n",
    "from datetime import datetime\n",
    "import time"
   ]
  },
  {
   "cell_type": "code",
   "execution_count": 2,
   "metadata": {},
   "outputs": [],
   "source": [
    "api = fxcmpy.fxcmpy(config_file= \"fxcm.cfg\")"
   ]
  },
  {
   "cell_type": "code",
   "execution_count": 3,
   "metadata": {},
   "outputs": [],
   "source": [
    "class ConTrader():\n",
    "    def __init__(self, instrument, bar_length, window):\n",
    "        self.instrument = instrument\n",
    "        self.bar_length = pd.to_timedelta(bar_length) \n",
    "        self.tick_data = None\n",
    "        self.raw_data = None # NEW\n",
    "        self.data = None \n",
    "        self.ticks = 0\n",
    "        self.last_bar = None  \n",
    "        \n",
    "        #*****************add strategy-specific attributes here******************\n",
    "        self.window = window\n",
    "        #************************************************************************        \n",
    "    \n",
    "    def get_most_recent(self, period = \"m1\", number = 10000):\n",
    "        while True:  \n",
    "            time.sleep(5)\n",
    "            df = api.get_candles(self.instrument, number = number, period = period, columns = [\"bidclose\", \"askclose\"])\n",
    "            df[self.instrument] = (df.bidclose + df.askclose) / 2\n",
    "            df = df[self.instrument].to_frame()\n",
    "            df = df.resample(self.bar_length, label = \"right\").last().dropna().iloc[:-1]\n",
    "            self.raw_data = df.copy() # raw!\n",
    "            self.last_bar = self.raw_data.index[-1] # raw!\n",
    "            if pd.to_datetime(datetime.utcnow()) - self.last_bar < self.bar_length:\n",
    "                break\n",
    "    \n",
    "    def get_tick_data(self, data, dataframe):\n",
    "        \n",
    "        self.ticks += 1\n",
    "        print(self.ticks, end = \" \")\n",
    "        \n",
    "        recent_tick = pd.to_datetime(data[\"Updated\"], unit = \"ms\")\n",
    "        \n",
    "        # if a time longer than the bar_lenght has elapsed between last full bar and the most recent tick\n",
    "        if recent_tick - self.last_bar > self.bar_length:\n",
    "            self.tick_data = dataframe.loc[self.last_bar:, [\"Bid\", \"Ask\"]]\n",
    "            self.tick_data[self.instrument] = (self.tick_data.Ask + self.tick_data.Bid)/2\n",
    "            self.tick_data = self.tick_data[self.instrument].to_frame()\n",
    "            self.resample_and_join()\n",
    "            self.define_strategy() # Prepare Data / Strategy Features\n",
    "            \n",
    "    def resample_and_join(self):\n",
    "        self.raw_data = self.raw_data.append(self.tick_data.resample(self.bar_length, \n",
    "                                                             label=\"right\").last().ffill().iloc[:-1]) # raw!\n",
    "        self.last_bar = self.raw_data.index[-1] # raw!  \n",
    "        \n",
    "    def define_strategy(self): # \"strategy-specific\"\n",
    "        df = self.raw_data.copy() # self.raw_data new!\n",
    "        \n",
    "        #******************** define your strategy here ************************\n",
    "        df[\"returns\"] = np.log(df[self.instrument] / df[self.instrument].shift())\n",
    "        df[\"position\"] = -np.sign(df.returns.rolling(self.window).mean())\n",
    "        #***********************************************************************\n",
    "        \n",
    "        self.data = df.copy()  # first defined here\n",
    "        "
   ]
  },
  {
   "cell_type": "code",
   "execution_count": 4,
   "metadata": {},
   "outputs": [],
   "source": [
    "trader = ConTrader(\"EUR/USD\", \"1min\", window = 1)"
   ]
  },
  {
   "cell_type": "code",
   "execution_count": 5,
   "metadata": {},
   "outputs": [
    {
     "ename": "KeyboardInterrupt",
     "evalue": "",
     "output_type": "error",
     "traceback": [
      "\u001b[1;31m---------------------------------------------------------------------------\u001b[0m",
      "\u001b[1;31mKeyboardInterrupt\u001b[0m                         Traceback (most recent call last)",
      "Input \u001b[1;32mIn [5]\u001b[0m, in \u001b[0;36m<cell line: 1>\u001b[1;34m()\u001b[0m\n\u001b[1;32m----> 1\u001b[0m \u001b[43mtrader\u001b[49m\u001b[38;5;241;43m.\u001b[39;49m\u001b[43mget_most_recent\u001b[49m\u001b[43m(\u001b[49m\u001b[43m)\u001b[49m\n\u001b[0;32m      2\u001b[0m api\u001b[38;5;241m.\u001b[39msubscribe_market_data(\u001b[38;5;124m\"\u001b[39m\u001b[38;5;124mEUR/USD\u001b[39m\u001b[38;5;124m\"\u001b[39m, (trader\u001b[38;5;241m.\u001b[39mget_tick_data, ))\n",
      "Input \u001b[1;32mIn [3]\u001b[0m, in \u001b[0;36mConTrader.get_most_recent\u001b[1;34m(self, period, number)\u001b[0m\n\u001b[0;32m     16\u001b[0m \u001b[38;5;28;01mwhile\u001b[39;00m \u001b[38;5;28;01mTrue\u001b[39;00m:  \n\u001b[0;32m     17\u001b[0m     time\u001b[38;5;241m.\u001b[39msleep(\u001b[38;5;241m5\u001b[39m)\n\u001b[1;32m---> 18\u001b[0m     df \u001b[38;5;241m=\u001b[39m \u001b[43mapi\u001b[49m\u001b[38;5;241;43m.\u001b[39;49m\u001b[43mget_candles\u001b[49m\u001b[43m(\u001b[49m\u001b[38;5;28;43mself\u001b[39;49m\u001b[38;5;241;43m.\u001b[39;49m\u001b[43minstrument\u001b[49m\u001b[43m,\u001b[49m\u001b[43m \u001b[49m\u001b[43mnumber\u001b[49m\u001b[43m \u001b[49m\u001b[38;5;241;43m=\u001b[39;49m\u001b[43m \u001b[49m\u001b[43mnumber\u001b[49m\u001b[43m,\u001b[49m\u001b[43m \u001b[49m\u001b[43mperiod\u001b[49m\u001b[43m \u001b[49m\u001b[38;5;241;43m=\u001b[39;49m\u001b[43m \u001b[49m\u001b[43mperiod\u001b[49m\u001b[43m,\u001b[49m\u001b[43m \u001b[49m\u001b[43mcolumns\u001b[49m\u001b[43m \u001b[49m\u001b[38;5;241;43m=\u001b[39;49m\u001b[43m \u001b[49m\u001b[43m[\u001b[49m\u001b[38;5;124;43m\"\u001b[39;49m\u001b[38;5;124;43mbidclose\u001b[39;49m\u001b[38;5;124;43m\"\u001b[39;49m\u001b[43m,\u001b[49m\u001b[43m \u001b[49m\u001b[38;5;124;43m\"\u001b[39;49m\u001b[38;5;124;43maskclose\u001b[39;49m\u001b[38;5;124;43m\"\u001b[39;49m\u001b[43m]\u001b[49m\u001b[43m)\u001b[49m\n\u001b[0;32m     19\u001b[0m     df[\u001b[38;5;28mself\u001b[39m\u001b[38;5;241m.\u001b[39minstrument] \u001b[38;5;241m=\u001b[39m (df\u001b[38;5;241m.\u001b[39mbidclose \u001b[38;5;241m+\u001b[39m df\u001b[38;5;241m.\u001b[39maskclose) \u001b[38;5;241m/\u001b[39m \u001b[38;5;241m2\u001b[39m\n\u001b[0;32m     20\u001b[0m     df \u001b[38;5;241m=\u001b[39m df[\u001b[38;5;28mself\u001b[39m\u001b[38;5;241m.\u001b[39minstrument]\u001b[38;5;241m.\u001b[39mto_frame()\n",
      "File \u001b[1;32m~\\anaconda3\\lib\\site-packages\\fxcmpy\\fxcmpy.py:2204\u001b[0m, in \u001b[0;36mfxcmpy.get_candles\u001b[1;34m(self, instrument, offer_id, period, number, start, end, with_index, columns, stop)\u001b[0m\n\u001b[0;32m   2201\u001b[0m         \u001b[38;5;28;01mraise\u001b[39;00m \u001b[38;5;167;01mValueError\u001b[39;00m(\u001b[38;5;124m'\u001b[39m\u001b[38;5;124mend must be a datetime object.\u001b[39m\u001b[38;5;124m'\u001b[39m)\n\u001b[0;32m   2202\u001b[0m     params[\u001b[38;5;124m'\u001b[39m\u001b[38;5;124mto\u001b[39m\u001b[38;5;124m'\u001b[39m] \u001b[38;5;241m=\u001b[39m \u001b[38;5;28mmax\u001b[39m(end, \u001b[38;5;241m1\u001b[39m)\n\u001b[1;32m-> 2204\u001b[0m data \u001b[38;5;241m=\u001b[39m \u001b[38;5;28;43mself\u001b[39;49m\u001b[38;5;241;43m.\u001b[39;49m\u001b[43m__handle_request__\u001b[49m\u001b[43m(\u001b[49m\u001b[43mmethod\u001b[49m\u001b[38;5;241;43m=\u001b[39;49m\u001b[38;5;124;43m'\u001b[39;49m\u001b[38;5;124;43mcandles/\u001b[39;49m\u001b[38;5;132;43;01m%s\u001b[39;49;00m\u001b[38;5;124;43m/\u001b[39;49m\u001b[38;5;132;43;01m%s\u001b[39;49;00m\u001b[38;5;124;43m'\u001b[39;49m\n\u001b[0;32m   2205\u001b[0m \u001b[43m                               \u001b[49m\u001b[38;5;241;43m%\u001b[39;49m\u001b[43m \u001b[49m\u001b[43m(\u001b[49m\u001b[43moffer_id\u001b[49m\u001b[43m,\u001b[49m\u001b[43m \u001b[49m\u001b[43mperiod\u001b[49m\u001b[43m)\u001b[49m\u001b[43m,\u001b[49m\u001b[43m \u001b[49m\u001b[43mparams\u001b[49m\u001b[38;5;241;43m=\u001b[39;49m\u001b[43mparams\u001b[49m\u001b[43m)\u001b[49m\n\u001b[0;32m   2207\u001b[0m \u001b[38;5;28;01mif\u001b[39;00m \u001b[38;5;28mlen\u001b[39m(columns) \u001b[38;5;241m==\u001b[39m \u001b[38;5;241m0\u001b[39m:\n\u001b[0;32m   2208\u001b[0m     to_add \u001b[38;5;241m=\u001b[39m \u001b[38;5;28mself\u001b[39m\u001b[38;5;241m.\u001b[39mCANDLES_COLUMNS\n",
      "File \u001b[1;32m~\\anaconda3\\lib\\site-packages\\fxcmpy\\fxcmpy.py:2498\u001b[0m, in \u001b[0;36mfxcmpy.__handle_request__\u001b[1;34m(self, method, params, protocol)\u001b[0m\n\u001b[0;32m   2495\u001b[0m     \u001b[38;5;28mself\u001b[39m\u001b[38;5;241m.\u001b[39mlogger\u001b[38;5;241m.\u001b[39minfo(\u001b[38;5;124m'\u001b[39m\u001b[38;5;124mProxies: \u001b[39m\u001b[38;5;132;01m%s\u001b[39;00m\u001b[38;5;124m'\u001b[39m \u001b[38;5;241m%\u001b[39m \u001b[38;5;28mself\u001b[39m\u001b[38;5;241m.\u001b[39mproxies)\n\u001b[0;32m   2497\u001b[0m \u001b[38;5;28;01melse\u001b[39;00m:\n\u001b[1;32m-> 2498\u001b[0m     req \u001b[38;5;241m=\u001b[39m \u001b[43mrequests\u001b[49m\u001b[38;5;241;43m.\u001b[39;49m\u001b[43mget\u001b[49m\u001b[43m(\u001b[49m\u001b[38;5;124;43m'\u001b[39;49m\u001b[38;5;132;43;01m%s\u001b[39;49;00m\u001b[38;5;124;43m:443/\u001b[39;49m\u001b[38;5;132;43;01m%s\u001b[39;49;00m\u001b[38;5;124;43m'\u001b[39;49m\u001b[43m \u001b[49m\u001b[38;5;241;43m%\u001b[39;49m\u001b[43m \u001b[49m\u001b[43m(\u001b[49m\u001b[38;5;28;43mself\u001b[39;49m\u001b[38;5;241;43m.\u001b[39;49m\u001b[43mtrading_url\u001b[49m\u001b[43m,\u001b[49m\u001b[43m \u001b[49m\u001b[43mmethod\u001b[49m\u001b[43m)\u001b[49m\u001b[43m,\u001b[49m\n\u001b[0;32m   2499\u001b[0m \u001b[43m                       \u001b[49m\u001b[43mheaders\u001b[49m\u001b[38;5;241;43m=\u001b[39;49m\u001b[38;5;28;43mself\u001b[39;49m\u001b[38;5;241;43m.\u001b[39;49m\u001b[43mrequest_headers\u001b[49m\u001b[43m,\u001b[49m\u001b[43m \u001b[49m\u001b[43mparams\u001b[49m\u001b[38;5;241;43m=\u001b[39;49m\u001b[43mparams\u001b[49m\u001b[43m,\u001b[49m\n\u001b[0;32m   2500\u001b[0m \u001b[43m                       \u001b[49m\u001b[43mproxies\u001b[49m\u001b[38;5;241;43m=\u001b[39;49m\u001b[38;5;28;43mself\u001b[39;49m\u001b[38;5;241;43m.\u001b[39;49m\u001b[43mproxies\u001b[49m\u001b[43m)\u001b[49m\n\u001b[0;32m   2501\u001b[0m     \u001b[38;5;28mself\u001b[39m\u001b[38;5;241m.\u001b[39mlogger\u001b[38;5;241m.\u001b[39minfo(\u001b[38;5;124m'\u001b[39m\u001b[38;5;124mSending GET Request:\u001b[39m\u001b[38;5;124m'\u001b[39m)\n\u001b[0;32m   2502\u001b[0m     \u001b[38;5;28mself\u001b[39m\u001b[38;5;241m.\u001b[39mlogger\u001b[38;5;241m.\u001b[39minfo(\u001b[38;5;124m'\u001b[39m\u001b[38;5;124mURL: \u001b[39m\u001b[38;5;132;01m%s\u001b[39;00m\u001b[38;5;124m'\u001b[39m \u001b[38;5;241m%\u001b[39m req\u001b[38;5;241m.\u001b[39murl)\n",
      "File \u001b[1;32m~\\anaconda3\\lib\\site-packages\\requests\\api.py:75\u001b[0m, in \u001b[0;36mget\u001b[1;34m(url, params, **kwargs)\u001b[0m\n\u001b[0;32m     64\u001b[0m \u001b[38;5;28;01mdef\u001b[39;00m \u001b[38;5;21mget\u001b[39m(url, params\u001b[38;5;241m=\u001b[39m\u001b[38;5;28;01mNone\u001b[39;00m, \u001b[38;5;241m*\u001b[39m\u001b[38;5;241m*\u001b[39mkwargs):\n\u001b[0;32m     65\u001b[0m     \u001b[38;5;124mr\u001b[39m\u001b[38;5;124;03m\"\"\"Sends a GET request.\u001b[39;00m\n\u001b[0;32m     66\u001b[0m \n\u001b[0;32m     67\u001b[0m \u001b[38;5;124;03m    :param url: URL for the new :class:`Request` object.\u001b[39;00m\n\u001b[1;32m   (...)\u001b[0m\n\u001b[0;32m     72\u001b[0m \u001b[38;5;124;03m    :rtype: requests.Response\u001b[39;00m\n\u001b[0;32m     73\u001b[0m \u001b[38;5;124;03m    \"\"\"\u001b[39;00m\n\u001b[1;32m---> 75\u001b[0m     \u001b[38;5;28;01mreturn\u001b[39;00m request(\u001b[38;5;124m'\u001b[39m\u001b[38;5;124mget\u001b[39m\u001b[38;5;124m'\u001b[39m, url, params\u001b[38;5;241m=\u001b[39mparams, \u001b[38;5;241m*\u001b[39m\u001b[38;5;241m*\u001b[39mkwargs)\n",
      "File \u001b[1;32m~\\anaconda3\\lib\\site-packages\\requests\\api.py:61\u001b[0m, in \u001b[0;36mrequest\u001b[1;34m(method, url, **kwargs)\u001b[0m\n\u001b[0;32m     57\u001b[0m \u001b[38;5;66;03m# By using the 'with' statement we are sure the session is closed, thus we\u001b[39;00m\n\u001b[0;32m     58\u001b[0m \u001b[38;5;66;03m# avoid leaving sockets open which can trigger a ResourceWarning in some\u001b[39;00m\n\u001b[0;32m     59\u001b[0m \u001b[38;5;66;03m# cases, and look like a memory leak in others.\u001b[39;00m\n\u001b[0;32m     60\u001b[0m \u001b[38;5;28;01mwith\u001b[39;00m sessions\u001b[38;5;241m.\u001b[39mSession() \u001b[38;5;28;01mas\u001b[39;00m session:\n\u001b[1;32m---> 61\u001b[0m     \u001b[38;5;28;01mreturn\u001b[39;00m session\u001b[38;5;241m.\u001b[39mrequest(method\u001b[38;5;241m=\u001b[39mmethod, url\u001b[38;5;241m=\u001b[39murl, \u001b[38;5;241m*\u001b[39m\u001b[38;5;241m*\u001b[39mkwargs)\n",
      "File \u001b[1;32m~\\anaconda3\\lib\\site-packages\\requests\\sessions.py:529\u001b[0m, in \u001b[0;36mSession.request\u001b[1;34m(self, method, url, params, data, headers, cookies, files, auth, timeout, allow_redirects, proxies, hooks, stream, verify, cert, json)\u001b[0m\n\u001b[0;32m    524\u001b[0m send_kwargs \u001b[38;5;241m=\u001b[39m {\n\u001b[0;32m    525\u001b[0m     \u001b[38;5;124m'\u001b[39m\u001b[38;5;124mtimeout\u001b[39m\u001b[38;5;124m'\u001b[39m: timeout,\n\u001b[0;32m    526\u001b[0m     \u001b[38;5;124m'\u001b[39m\u001b[38;5;124mallow_redirects\u001b[39m\u001b[38;5;124m'\u001b[39m: allow_redirects,\n\u001b[0;32m    527\u001b[0m }\n\u001b[0;32m    528\u001b[0m send_kwargs\u001b[38;5;241m.\u001b[39mupdate(settings)\n\u001b[1;32m--> 529\u001b[0m resp \u001b[38;5;241m=\u001b[39m \u001b[38;5;28mself\u001b[39m\u001b[38;5;241m.\u001b[39msend(prep, \u001b[38;5;241m*\u001b[39m\u001b[38;5;241m*\u001b[39msend_kwargs)\n\u001b[0;32m    531\u001b[0m \u001b[38;5;28;01mreturn\u001b[39;00m resp\n",
      "File \u001b[1;32m~\\anaconda3\\lib\\site-packages\\requests\\sessions.py:645\u001b[0m, in \u001b[0;36mSession.send\u001b[1;34m(self, request, **kwargs)\u001b[0m\n\u001b[0;32m    642\u001b[0m start \u001b[38;5;241m=\u001b[39m preferred_clock()\n\u001b[0;32m    644\u001b[0m \u001b[38;5;66;03m# Send the request\u001b[39;00m\n\u001b[1;32m--> 645\u001b[0m r \u001b[38;5;241m=\u001b[39m adapter\u001b[38;5;241m.\u001b[39msend(request, \u001b[38;5;241m*\u001b[39m\u001b[38;5;241m*\u001b[39mkwargs)\n\u001b[0;32m    647\u001b[0m \u001b[38;5;66;03m# Total elapsed time of the request (approximately)\u001b[39;00m\n\u001b[0;32m    648\u001b[0m elapsed \u001b[38;5;241m=\u001b[39m preferred_clock() \u001b[38;5;241m-\u001b[39m start\n",
      "File \u001b[1;32m~\\anaconda3\\lib\\site-packages\\requests\\adapters.py:440\u001b[0m, in \u001b[0;36mHTTPAdapter.send\u001b[1;34m(self, request, stream, timeout, verify, cert, proxies)\u001b[0m\n\u001b[0;32m    438\u001b[0m \u001b[38;5;28;01mtry\u001b[39;00m:\n\u001b[0;32m    439\u001b[0m     \u001b[38;5;28;01mif\u001b[39;00m \u001b[38;5;129;01mnot\u001b[39;00m chunked:\n\u001b[1;32m--> 440\u001b[0m         resp \u001b[38;5;241m=\u001b[39m \u001b[43mconn\u001b[49m\u001b[38;5;241;43m.\u001b[39;49m\u001b[43murlopen\u001b[49m\u001b[43m(\u001b[49m\n\u001b[0;32m    441\u001b[0m \u001b[43m            \u001b[49m\u001b[43mmethod\u001b[49m\u001b[38;5;241;43m=\u001b[39;49m\u001b[43mrequest\u001b[49m\u001b[38;5;241;43m.\u001b[39;49m\u001b[43mmethod\u001b[49m\u001b[43m,\u001b[49m\n\u001b[0;32m    442\u001b[0m \u001b[43m            \u001b[49m\u001b[43murl\u001b[49m\u001b[38;5;241;43m=\u001b[39;49m\u001b[43murl\u001b[49m\u001b[43m,\u001b[49m\n\u001b[0;32m    443\u001b[0m \u001b[43m            \u001b[49m\u001b[43mbody\u001b[49m\u001b[38;5;241;43m=\u001b[39;49m\u001b[43mrequest\u001b[49m\u001b[38;5;241;43m.\u001b[39;49m\u001b[43mbody\u001b[49m\u001b[43m,\u001b[49m\n\u001b[0;32m    444\u001b[0m \u001b[43m            \u001b[49m\u001b[43mheaders\u001b[49m\u001b[38;5;241;43m=\u001b[39;49m\u001b[43mrequest\u001b[49m\u001b[38;5;241;43m.\u001b[39;49m\u001b[43mheaders\u001b[49m\u001b[43m,\u001b[49m\n\u001b[0;32m    445\u001b[0m \u001b[43m            \u001b[49m\u001b[43mredirect\u001b[49m\u001b[38;5;241;43m=\u001b[39;49m\u001b[38;5;28;43;01mFalse\u001b[39;49;00m\u001b[43m,\u001b[49m\n\u001b[0;32m    446\u001b[0m \u001b[43m            \u001b[49m\u001b[43massert_same_host\u001b[49m\u001b[38;5;241;43m=\u001b[39;49m\u001b[38;5;28;43;01mFalse\u001b[39;49;00m\u001b[43m,\u001b[49m\n\u001b[0;32m    447\u001b[0m \u001b[43m            \u001b[49m\u001b[43mpreload_content\u001b[49m\u001b[38;5;241;43m=\u001b[39;49m\u001b[38;5;28;43;01mFalse\u001b[39;49;00m\u001b[43m,\u001b[49m\n\u001b[0;32m    448\u001b[0m \u001b[43m            \u001b[49m\u001b[43mdecode_content\u001b[49m\u001b[38;5;241;43m=\u001b[39;49m\u001b[38;5;28;43;01mFalse\u001b[39;49;00m\u001b[43m,\u001b[49m\n\u001b[0;32m    449\u001b[0m \u001b[43m            \u001b[49m\u001b[43mretries\u001b[49m\u001b[38;5;241;43m=\u001b[39;49m\u001b[38;5;28;43mself\u001b[39;49m\u001b[38;5;241;43m.\u001b[39;49m\u001b[43mmax_retries\u001b[49m\u001b[43m,\u001b[49m\n\u001b[0;32m    450\u001b[0m \u001b[43m            \u001b[49m\u001b[43mtimeout\u001b[49m\u001b[38;5;241;43m=\u001b[39;49m\u001b[43mtimeout\u001b[49m\n\u001b[0;32m    451\u001b[0m \u001b[43m        \u001b[49m\u001b[43m)\u001b[49m\n\u001b[0;32m    453\u001b[0m     \u001b[38;5;66;03m# Send the request.\u001b[39;00m\n\u001b[0;32m    454\u001b[0m     \u001b[38;5;28;01melse\u001b[39;00m:\n\u001b[0;32m    455\u001b[0m         \u001b[38;5;28;01mif\u001b[39;00m \u001b[38;5;28mhasattr\u001b[39m(conn, \u001b[38;5;124m'\u001b[39m\u001b[38;5;124mproxy_pool\u001b[39m\u001b[38;5;124m'\u001b[39m):\n",
      "File \u001b[1;32m~\\anaconda3\\lib\\site-packages\\urllib3\\connectionpool.py:703\u001b[0m, in \u001b[0;36mHTTPConnectionPool.urlopen\u001b[1;34m(self, method, url, body, headers, retries, redirect, assert_same_host, timeout, pool_timeout, release_conn, chunked, body_pos, **response_kw)\u001b[0m\n\u001b[0;32m    700\u001b[0m     \u001b[38;5;28mself\u001b[39m\u001b[38;5;241m.\u001b[39m_prepare_proxy(conn)\n\u001b[0;32m    702\u001b[0m \u001b[38;5;66;03m# Make the request on the httplib connection object.\u001b[39;00m\n\u001b[1;32m--> 703\u001b[0m httplib_response \u001b[38;5;241m=\u001b[39m \u001b[38;5;28;43mself\u001b[39;49m\u001b[38;5;241;43m.\u001b[39;49m\u001b[43m_make_request\u001b[49m\u001b[43m(\u001b[49m\n\u001b[0;32m    704\u001b[0m \u001b[43m    \u001b[49m\u001b[43mconn\u001b[49m\u001b[43m,\u001b[49m\n\u001b[0;32m    705\u001b[0m \u001b[43m    \u001b[49m\u001b[43mmethod\u001b[49m\u001b[43m,\u001b[49m\n\u001b[0;32m    706\u001b[0m \u001b[43m    \u001b[49m\u001b[43murl\u001b[49m\u001b[43m,\u001b[49m\n\u001b[0;32m    707\u001b[0m \u001b[43m    \u001b[49m\u001b[43mtimeout\u001b[49m\u001b[38;5;241;43m=\u001b[39;49m\u001b[43mtimeout_obj\u001b[49m\u001b[43m,\u001b[49m\n\u001b[0;32m    708\u001b[0m \u001b[43m    \u001b[49m\u001b[43mbody\u001b[49m\u001b[38;5;241;43m=\u001b[39;49m\u001b[43mbody\u001b[49m\u001b[43m,\u001b[49m\n\u001b[0;32m    709\u001b[0m \u001b[43m    \u001b[49m\u001b[43mheaders\u001b[49m\u001b[38;5;241;43m=\u001b[39;49m\u001b[43mheaders\u001b[49m\u001b[43m,\u001b[49m\n\u001b[0;32m    710\u001b[0m \u001b[43m    \u001b[49m\u001b[43mchunked\u001b[49m\u001b[38;5;241;43m=\u001b[39;49m\u001b[43mchunked\u001b[49m\u001b[43m,\u001b[49m\n\u001b[0;32m    711\u001b[0m \u001b[43m\u001b[49m\u001b[43m)\u001b[49m\n\u001b[0;32m    713\u001b[0m \u001b[38;5;66;03m# If we're going to release the connection in ``finally:``, then\u001b[39;00m\n\u001b[0;32m    714\u001b[0m \u001b[38;5;66;03m# the response doesn't need to know about the connection. Otherwise\u001b[39;00m\n\u001b[0;32m    715\u001b[0m \u001b[38;5;66;03m# it will also try to release it and we'll have a double-release\u001b[39;00m\n\u001b[0;32m    716\u001b[0m \u001b[38;5;66;03m# mess.\u001b[39;00m\n\u001b[0;32m    717\u001b[0m response_conn \u001b[38;5;241m=\u001b[39m conn \u001b[38;5;28;01mif\u001b[39;00m \u001b[38;5;129;01mnot\u001b[39;00m release_conn \u001b[38;5;28;01melse\u001b[39;00m \u001b[38;5;28;01mNone\u001b[39;00m\n",
      "File \u001b[1;32m~\\anaconda3\\lib\\site-packages\\urllib3\\connectionpool.py:449\u001b[0m, in \u001b[0;36mHTTPConnectionPool._make_request\u001b[1;34m(self, conn, method, url, timeout, chunked, **httplib_request_kw)\u001b[0m\n\u001b[0;32m    444\u001b[0m             httplib_response \u001b[38;5;241m=\u001b[39m conn\u001b[38;5;241m.\u001b[39mgetresponse()\n\u001b[0;32m    445\u001b[0m         \u001b[38;5;28;01mexcept\u001b[39;00m \u001b[38;5;167;01mBaseException\u001b[39;00m \u001b[38;5;28;01mas\u001b[39;00m e:\n\u001b[0;32m    446\u001b[0m             \u001b[38;5;66;03m# Remove the TypeError from the exception chain in\u001b[39;00m\n\u001b[0;32m    447\u001b[0m             \u001b[38;5;66;03m# Python 3 (including for exceptions like SystemExit).\u001b[39;00m\n\u001b[0;32m    448\u001b[0m             \u001b[38;5;66;03m# Otherwise it looks like a bug in the code.\u001b[39;00m\n\u001b[1;32m--> 449\u001b[0m             \u001b[43msix\u001b[49m\u001b[38;5;241;43m.\u001b[39;49m\u001b[43mraise_from\u001b[49m\u001b[43m(\u001b[49m\u001b[43me\u001b[49m\u001b[43m,\u001b[49m\u001b[43m \u001b[49m\u001b[38;5;28;43;01mNone\u001b[39;49;00m\u001b[43m)\u001b[49m\n\u001b[0;32m    450\u001b[0m \u001b[38;5;28;01mexcept\u001b[39;00m (SocketTimeout, BaseSSLError, SocketError) \u001b[38;5;28;01mas\u001b[39;00m e:\n\u001b[0;32m    451\u001b[0m     \u001b[38;5;28mself\u001b[39m\u001b[38;5;241m.\u001b[39m_raise_timeout(err\u001b[38;5;241m=\u001b[39me, url\u001b[38;5;241m=\u001b[39murl, timeout_value\u001b[38;5;241m=\u001b[39mread_timeout)\n",
      "File \u001b[1;32m<string>:3\u001b[0m, in \u001b[0;36mraise_from\u001b[1;34m(value, from_value)\u001b[0m\n",
      "File \u001b[1;32m~\\anaconda3\\lib\\site-packages\\urllib3\\connectionpool.py:444\u001b[0m, in \u001b[0;36mHTTPConnectionPool._make_request\u001b[1;34m(self, conn, method, url, timeout, chunked, **httplib_request_kw)\u001b[0m\n\u001b[0;32m    441\u001b[0m \u001b[38;5;28;01mexcept\u001b[39;00m \u001b[38;5;167;01mTypeError\u001b[39;00m:\n\u001b[0;32m    442\u001b[0m     \u001b[38;5;66;03m# Python 3\u001b[39;00m\n\u001b[0;32m    443\u001b[0m     \u001b[38;5;28;01mtry\u001b[39;00m:\n\u001b[1;32m--> 444\u001b[0m         httplib_response \u001b[38;5;241m=\u001b[39m \u001b[43mconn\u001b[49m\u001b[38;5;241;43m.\u001b[39;49m\u001b[43mgetresponse\u001b[49m\u001b[43m(\u001b[49m\u001b[43m)\u001b[49m\n\u001b[0;32m    445\u001b[0m     \u001b[38;5;28;01mexcept\u001b[39;00m \u001b[38;5;167;01mBaseException\u001b[39;00m \u001b[38;5;28;01mas\u001b[39;00m e:\n\u001b[0;32m    446\u001b[0m         \u001b[38;5;66;03m# Remove the TypeError from the exception chain in\u001b[39;00m\n\u001b[0;32m    447\u001b[0m         \u001b[38;5;66;03m# Python 3 (including for exceptions like SystemExit).\u001b[39;00m\n\u001b[0;32m    448\u001b[0m         \u001b[38;5;66;03m# Otherwise it looks like a bug in the code.\u001b[39;00m\n\u001b[0;32m    449\u001b[0m         six\u001b[38;5;241m.\u001b[39mraise_from(e, \u001b[38;5;28;01mNone\u001b[39;00m)\n",
      "File \u001b[1;32m~\\anaconda3\\lib\\http\\client.py:1377\u001b[0m, in \u001b[0;36mHTTPConnection.getresponse\u001b[1;34m(self)\u001b[0m\n\u001b[0;32m   1375\u001b[0m \u001b[38;5;28;01mtry\u001b[39;00m:\n\u001b[0;32m   1376\u001b[0m     \u001b[38;5;28;01mtry\u001b[39;00m:\n\u001b[1;32m-> 1377\u001b[0m         \u001b[43mresponse\u001b[49m\u001b[38;5;241;43m.\u001b[39;49m\u001b[43mbegin\u001b[49m\u001b[43m(\u001b[49m\u001b[43m)\u001b[49m\n\u001b[0;32m   1378\u001b[0m     \u001b[38;5;28;01mexcept\u001b[39;00m \u001b[38;5;167;01mConnectionError\u001b[39;00m:\n\u001b[0;32m   1379\u001b[0m         \u001b[38;5;28mself\u001b[39m\u001b[38;5;241m.\u001b[39mclose()\n",
      "File \u001b[1;32m~\\anaconda3\\lib\\http\\client.py:320\u001b[0m, in \u001b[0;36mHTTPResponse.begin\u001b[1;34m(self)\u001b[0m\n\u001b[0;32m    318\u001b[0m \u001b[38;5;66;03m# read until we get a non-100 response\u001b[39;00m\n\u001b[0;32m    319\u001b[0m \u001b[38;5;28;01mwhile\u001b[39;00m \u001b[38;5;28;01mTrue\u001b[39;00m:\n\u001b[1;32m--> 320\u001b[0m     version, status, reason \u001b[38;5;241m=\u001b[39m \u001b[38;5;28;43mself\u001b[39;49m\u001b[38;5;241;43m.\u001b[39;49m\u001b[43m_read_status\u001b[49m\u001b[43m(\u001b[49m\u001b[43m)\u001b[49m\n\u001b[0;32m    321\u001b[0m     \u001b[38;5;28;01mif\u001b[39;00m status \u001b[38;5;241m!=\u001b[39m CONTINUE:\n\u001b[0;32m    322\u001b[0m         \u001b[38;5;28;01mbreak\u001b[39;00m\n",
      "File \u001b[1;32m~\\anaconda3\\lib\\http\\client.py:281\u001b[0m, in \u001b[0;36mHTTPResponse._read_status\u001b[1;34m(self)\u001b[0m\n\u001b[0;32m    280\u001b[0m \u001b[38;5;28;01mdef\u001b[39;00m \u001b[38;5;21m_read_status\u001b[39m(\u001b[38;5;28mself\u001b[39m):\n\u001b[1;32m--> 281\u001b[0m     line \u001b[38;5;241m=\u001b[39m \u001b[38;5;28mstr\u001b[39m(\u001b[38;5;28;43mself\u001b[39;49m\u001b[38;5;241;43m.\u001b[39;49m\u001b[43mfp\u001b[49m\u001b[38;5;241;43m.\u001b[39;49m\u001b[43mreadline\u001b[49m\u001b[43m(\u001b[49m\u001b[43m_MAXLINE\u001b[49m\u001b[43m \u001b[49m\u001b[38;5;241;43m+\u001b[39;49m\u001b[43m \u001b[49m\u001b[38;5;241;43m1\u001b[39;49m\u001b[43m)\u001b[49m, \u001b[38;5;124m\"\u001b[39m\u001b[38;5;124miso-8859-1\u001b[39m\u001b[38;5;124m\"\u001b[39m)\n\u001b[0;32m    282\u001b[0m     \u001b[38;5;28;01mif\u001b[39;00m \u001b[38;5;28mlen\u001b[39m(line) \u001b[38;5;241m>\u001b[39m _MAXLINE:\n\u001b[0;32m    283\u001b[0m         \u001b[38;5;28;01mraise\u001b[39;00m LineTooLong(\u001b[38;5;124m\"\u001b[39m\u001b[38;5;124mstatus line\u001b[39m\u001b[38;5;124m\"\u001b[39m)\n",
      "File \u001b[1;32m~\\anaconda3\\lib\\socket.py:704\u001b[0m, in \u001b[0;36mSocketIO.readinto\u001b[1;34m(self, b)\u001b[0m\n\u001b[0;32m    702\u001b[0m \u001b[38;5;28;01mwhile\u001b[39;00m \u001b[38;5;28;01mTrue\u001b[39;00m:\n\u001b[0;32m    703\u001b[0m     \u001b[38;5;28;01mtry\u001b[39;00m:\n\u001b[1;32m--> 704\u001b[0m         \u001b[38;5;28;01mreturn\u001b[39;00m \u001b[38;5;28;43mself\u001b[39;49m\u001b[38;5;241;43m.\u001b[39;49m\u001b[43m_sock\u001b[49m\u001b[38;5;241;43m.\u001b[39;49m\u001b[43mrecv_into\u001b[49m\u001b[43m(\u001b[49m\u001b[43mb\u001b[49m\u001b[43m)\u001b[49m\n\u001b[0;32m    705\u001b[0m     \u001b[38;5;28;01mexcept\u001b[39;00m timeout:\n\u001b[0;32m    706\u001b[0m         \u001b[38;5;28mself\u001b[39m\u001b[38;5;241m.\u001b[39m_timeout_occurred \u001b[38;5;241m=\u001b[39m \u001b[38;5;28;01mTrue\u001b[39;00m\n",
      "File \u001b[1;32m~\\anaconda3\\lib\\ssl.py:1241\u001b[0m, in \u001b[0;36mSSLSocket.recv_into\u001b[1;34m(self, buffer, nbytes, flags)\u001b[0m\n\u001b[0;32m   1237\u001b[0m     \u001b[38;5;28;01mif\u001b[39;00m flags \u001b[38;5;241m!=\u001b[39m \u001b[38;5;241m0\u001b[39m:\n\u001b[0;32m   1238\u001b[0m         \u001b[38;5;28;01mraise\u001b[39;00m \u001b[38;5;167;01mValueError\u001b[39;00m(\n\u001b[0;32m   1239\u001b[0m           \u001b[38;5;124m\"\u001b[39m\u001b[38;5;124mnon-zero flags not allowed in calls to recv_into() on \u001b[39m\u001b[38;5;132;01m%s\u001b[39;00m\u001b[38;5;124m\"\u001b[39m \u001b[38;5;241m%\u001b[39m\n\u001b[0;32m   1240\u001b[0m           \u001b[38;5;28mself\u001b[39m\u001b[38;5;241m.\u001b[39m\u001b[38;5;18m__class__\u001b[39m)\n\u001b[1;32m-> 1241\u001b[0m     \u001b[38;5;28;01mreturn\u001b[39;00m \u001b[38;5;28;43mself\u001b[39;49m\u001b[38;5;241;43m.\u001b[39;49m\u001b[43mread\u001b[49m\u001b[43m(\u001b[49m\u001b[43mnbytes\u001b[49m\u001b[43m,\u001b[49m\u001b[43m \u001b[49m\u001b[43mbuffer\u001b[49m\u001b[43m)\u001b[49m\n\u001b[0;32m   1242\u001b[0m \u001b[38;5;28;01melse\u001b[39;00m:\n\u001b[0;32m   1243\u001b[0m     \u001b[38;5;28;01mreturn\u001b[39;00m \u001b[38;5;28msuper\u001b[39m()\u001b[38;5;241m.\u001b[39mrecv_into(buffer, nbytes, flags)\n",
      "File \u001b[1;32m~\\anaconda3\\lib\\ssl.py:1099\u001b[0m, in \u001b[0;36mSSLSocket.read\u001b[1;34m(self, len, buffer)\u001b[0m\n\u001b[0;32m   1097\u001b[0m \u001b[38;5;28;01mtry\u001b[39;00m:\n\u001b[0;32m   1098\u001b[0m     \u001b[38;5;28;01mif\u001b[39;00m buffer \u001b[38;5;129;01mis\u001b[39;00m \u001b[38;5;129;01mnot\u001b[39;00m \u001b[38;5;28;01mNone\u001b[39;00m:\n\u001b[1;32m-> 1099\u001b[0m         \u001b[38;5;28;01mreturn\u001b[39;00m \u001b[38;5;28;43mself\u001b[39;49m\u001b[38;5;241;43m.\u001b[39;49m\u001b[43m_sslobj\u001b[49m\u001b[38;5;241;43m.\u001b[39;49m\u001b[43mread\u001b[49m\u001b[43m(\u001b[49m\u001b[38;5;28;43mlen\u001b[39;49m\u001b[43m,\u001b[49m\u001b[43m \u001b[49m\u001b[43mbuffer\u001b[49m\u001b[43m)\u001b[49m\n\u001b[0;32m   1100\u001b[0m     \u001b[38;5;28;01melse\u001b[39;00m:\n\u001b[0;32m   1101\u001b[0m         \u001b[38;5;28;01mreturn\u001b[39;00m \u001b[38;5;28mself\u001b[39m\u001b[38;5;241m.\u001b[39m_sslobj\u001b[38;5;241m.\u001b[39mread(\u001b[38;5;28mlen\u001b[39m)\n",
      "\u001b[1;31mKeyboardInterrupt\u001b[0m: "
     ]
    }
   ],
   "source": [
    "trader.get_most_recent()\n",
    "api.subscribe_market_data(\"EUR/USD\", (trader.get_tick_data, ))"
   ]
  },
  {
   "cell_type": "code",
   "execution_count": null,
   "metadata": {},
   "outputs": [],
   "source": [
    "api.unsubscribe_market_data(\"EUR/USD\")"
   ]
  },
  {
   "cell_type": "code",
   "execution_count": null,
   "metadata": {},
   "outputs": [],
   "source": [
    "trader.raw_data.tail(10)"
   ]
  },
  {
   "cell_type": "code",
   "execution_count": null,
   "metadata": {},
   "outputs": [],
   "source": [
    "trader.data.tail(10)"
   ]
  },
  {
   "cell_type": "code",
   "execution_count": null,
   "metadata": {},
   "outputs": [],
   "source": [
    "api.close()"
   ]
  },
  {
   "cell_type": "code",
   "execution_count": null,
   "metadata": {},
   "outputs": [],
   "source": []
  },
  {
   "cell_type": "markdown",
   "metadata": {},
   "source": [
    "## Placing Orders and Executing Trades"
   ]
  },
  {
   "cell_type": "code",
   "execution_count": 1,
   "metadata": {},
   "outputs": [],
   "source": [
    "import pandas as pd\n",
    "import numpy as np\n",
    "import fxcmpy\n",
    "from datetime import datetime\n",
    "import time"
   ]
  },
  {
   "cell_type": "code",
   "execution_count": 2,
   "metadata": {},
   "outputs": [],
   "source": [
    "api = fxcmpy.fxcmpy(config_file= \"fxcm.cfg\")"
   ]
  },
  {
   "cell_type": "markdown",
   "metadata": {},
   "source": [
    "__Assumption: Netting Account and NOT Hedging Account (Practice Account: only Hedging is available)__ <br>\n",
    "(Consequence for Trading Sessions with Practice Account: Double Costs)"
   ]
  },
  {
   "cell_type": "code",
   "execution_count": 3,
   "metadata": {},
   "outputs": [],
   "source": [
    "# Assumption: Netting Account and NOT Hedging Account (Practice Account: only Hedging is available)\n",
    "\n",
    "class ConTrader():\n",
    "    def __init__(self, instrument, bar_length, window, units):\n",
    "        self.instrument = instrument\n",
    "        self.bar_length = pd.to_timedelta(bar_length) \n",
    "        self.tick_data = None\n",
    "        self.raw_data = None\n",
    "        self.data = None \n",
    "        self.ticks = 0\n",
    "        self.last_bar = None  \n",
    "        self.units = units # NEW\n",
    "        self.position = 0 # NEW\n",
    "        \n",
    "        #*****************add strategy-specific attributes here******************\n",
    "        self.window = window\n",
    "        #************************************************************************        \n",
    "    \n",
    "    def get_most_recent(self, period = \"m1\", number = 10000):\n",
    "        while True:  \n",
    "            time.sleep(5)\n",
    "            df = api.get_candles(self.instrument, number = number, period = period, columns = [\"bidclose\", \"askclose\"])\n",
    "            df[self.instrument] = (df.bidclose + df.askclose) / 2\n",
    "            df = df[self.instrument].to_frame()\n",
    "            df = df.resample(self.bar_length, label = \"right\").last().dropna().iloc[:-1]\n",
    "            self.raw_data = df.copy()\n",
    "            self.last_bar = self.raw_data.index[-1]\n",
    "            if pd.to_datetime(datetime.utcnow()) - self.last_bar < self.bar_length:\n",
    "                break\n",
    "    \n",
    "    def get_tick_data(self, data, dataframe):\n",
    "        \n",
    "        self.ticks += 1\n",
    "        print(self.ticks, end = \" \")\n",
    "        \n",
    "        recent_tick = pd.to_datetime(data[\"Updated\"], unit = \"ms\")\n",
    "        \n",
    "        # if a time longer than the bar_lenght has elapsed between last full bar and the most recent tick\n",
    "        if recent_tick - self.last_bar > self.bar_length:\n",
    "            self.tick_data = dataframe.loc[self.last_bar:, [\"Bid\", \"Ask\"]]\n",
    "            self.tick_data[self.instrument] = (self.tick_data.Ask + self.tick_data.Bid)/2\n",
    "            self.tick_data = self.tick_data[self.instrument].to_frame()\n",
    "            self.resample_and_join()\n",
    "            self.define_strategy() \n",
    "            self.execute_trades() # NEW!\n",
    "            \n",
    "    def resample_and_join(self):\n",
    "        self.raw_data = self.raw_data.append(self.tick_data.resample(self.bar_length, \n",
    "                                                             label=\"right\").last().ffill().iloc[:-1])\n",
    "        self.last_bar = self.raw_data.index[-1]  \n",
    "        \n",
    "    def define_strategy(self): # \"strategy-specific\"\n",
    "        df = self.raw_data.copy()\n",
    "        \n",
    "        #******************** define your strategy here ************************\n",
    "        df[\"returns\"] = np.log(df[self.instrument] / df[self.instrument].shift())\n",
    "        df[\"position\"] = -np.sign(df.returns.rolling(self.window).mean())\n",
    "        #***********************************************************************\n",
    "        \n",
    "        self.data = df.copy()\n",
    "    \n",
    "    def execute_trades(self): # NEW!\n",
    "        if self.data[\"position\"].iloc[-1] == 1: # if position is long -> go/stay long\n",
    "            if self.position == 0:\n",
    "                order = api.create_market_buy_order(self.instrument, self.units)\n",
    "                print(\"GOING LONG\")\n",
    "            elif self.position == -1:\n",
    "                order = api.create_market_buy_order(self.instrument, self.units * 2)\n",
    "                print(\"GOING LONG\")\n",
    "            self.position = 1\n",
    "        elif self.data[\"position\"].iloc[-1] == -1: # if position is short -> go/stay short \n",
    "            if self.position == 0:\n",
    "                order = api.create_market_sell_order(self.instrument, self.units)\n",
    "                print(\"GOING SHORT\")\n",
    "            elif self.position == 1:\n",
    "                order = api.create_market_sell_order(self.instrument, self.units * 2)\n",
    "                print(\"GOING SHORT\")\n",
    "            self.position = -1\n",
    "        elif self.data[\"position\"].iloc[-1] == 0: # if position is neutral -> go/stay neutral\n",
    "            if self.position == -1:\n",
    "                order = api.create_market_buy_order(self.instrument, self.units)\n",
    "                print(\"GOING NEUTRAL\")\n",
    "            elif self.position == 1:\n",
    "                order = api.create_market_sell_order(self.instrument, self.units)\n",
    "                print(\"GOING NEUTRAL\")\n",
    "            self.position = 0\n",
    "        "
   ]
  },
  {
   "cell_type": "code",
   "execution_count": 4,
   "metadata": {},
   "outputs": [],
   "source": [
    "trader = ConTrader(\"EUR/USD\", \"1min\", window = 1, units = 100)"
   ]
  },
  {
   "cell_type": "code",
   "execution_count": 5,
   "metadata": {},
   "outputs": [
    {
     "name": "stdout",
     "output_type": "stream",
     "text": [
      "1 "
     ]
    },
    {
     "name": "stderr",
     "output_type": "stream",
     "text": [
      "C:\\Users\\Ashwin Dev\\AppData\\Local\\Temp\\ipykernel_18348\\3784260255.py:48: FutureWarning: The frame.append method is deprecated and will be removed from pandas in a future version. Use pandas.concat instead.\n",
      "  self.raw_data = self.raw_data.append(self.tick_data.resample(self.bar_length,\n"
     ]
    },
    {
     "name": "stdout",
     "output_type": "stream",
     "text": [
      "2 3 4 "
     ]
    },
    {
     "name": "stderr",
     "output_type": "stream",
     "text": [
      "C:\\Users\\Ashwin Dev\\AppData\\Local\\Temp\\ipykernel_18348\\3784260255.py:48: FutureWarning: The frame.append method is deprecated and will be removed from pandas in a future version. Use pandas.concat instead.\n",
      "  self.raw_data = self.raw_data.append(self.tick_data.resample(self.bar_length,\n",
      "C:\\Users\\Ashwin Dev\\AppData\\Local\\Temp\\ipykernel_18348\\3784260255.py:48: FutureWarning: The frame.append method is deprecated and will be removed from pandas in a future version. Use pandas.concat instead.\n",
      "  self.raw_data = self.raw_data.append(self.tick_data.resample(self.bar_length,\n",
      "C:\\Users\\Ashwin Dev\\AppData\\Local\\Temp\\ipykernel_18348\\3784260255.py:48: FutureWarning: The frame.append method is deprecated and will be removed from pandas in a future version. Use pandas.concat instead.\n",
      "  self.raw_data = self.raw_data.append(self.tick_data.resample(self.bar_length,\n"
     ]
    },
    {
     "name": "stdout",
     "output_type": "stream",
     "text": [
      "5 "
     ]
    },
    {
     "name": "stderr",
     "output_type": "stream",
     "text": [
      "C:\\Users\\Ashwin Dev\\AppData\\Local\\Temp\\ipykernel_18348\\3784260255.py:48: FutureWarning: The frame.append method is deprecated and will be removed from pandas in a future version. Use pandas.concat instead.\n",
      "  self.raw_data = self.raw_data.append(self.tick_data.resample(self.bar_length,\n"
     ]
    },
    {
     "name": "stdout",
     "output_type": "stream",
     "text": [
      "6 "
     ]
    },
    {
     "name": "stderr",
     "output_type": "stream",
     "text": [
      "C:\\Users\\Ashwin Dev\\AppData\\Local\\Temp\\ipykernel_18348\\3784260255.py:48: FutureWarning: The frame.append method is deprecated and will be removed from pandas in a future version. Use pandas.concat instead.\n",
      "  self.raw_data = self.raw_data.append(self.tick_data.resample(self.bar_length,\n"
     ]
    },
    {
     "name": "stdout",
     "output_type": "stream",
     "text": [
      "7 "
     ]
    },
    {
     "name": "stderr",
     "output_type": "stream",
     "text": [
      "C:\\Users\\Ashwin Dev\\AppData\\Local\\Temp\\ipykernel_18348\\3784260255.py:48: FutureWarning: The frame.append method is deprecated and will be removed from pandas in a future version. Use pandas.concat instead.\n",
      "  self.raw_data = self.raw_data.append(self.tick_data.resample(self.bar_length,\n"
     ]
    },
    {
     "name": "stdout",
     "output_type": "stream",
     "text": [
      "8 "
     ]
    },
    {
     "name": "stderr",
     "output_type": "stream",
     "text": [
      "C:\\Users\\Ashwin Dev\\AppData\\Local\\Temp\\ipykernel_18348\\3784260255.py:48: FutureWarning: The frame.append method is deprecated and will be removed from pandas in a future version. Use pandas.concat instead.\n",
      "  self.raw_data = self.raw_data.append(self.tick_data.resample(self.bar_length,\n"
     ]
    },
    {
     "name": "stdout",
     "output_type": "stream",
     "text": [
      "9 10 GOING LONG\n"
     ]
    },
    {
     "name": "stderr",
     "output_type": "stream",
     "text": [
      "C:\\Users\\Ashwin Dev\\AppData\\Local\\Temp\\ipykernel_18348\\3784260255.py:48: FutureWarning: The frame.append method is deprecated and will be removed from pandas in a future version. Use pandas.concat instead.\n",
      "  self.raw_data = self.raw_data.append(self.tick_data.resample(self.bar_length,\n",
      "C:\\Users\\Ashwin Dev\\AppData\\Local\\Temp\\ipykernel_18348\\3784260255.py:48: FutureWarning: The frame.append method is deprecated and will be removed from pandas in a future version. Use pandas.concat instead.\n",
      "  self.raw_data = self.raw_data.append(self.tick_data.resample(self.bar_length,\n"
     ]
    },
    {
     "name": "stdout",
     "output_type": "stream",
     "text": [
      "11 "
     ]
    },
    {
     "name": "stderr",
     "output_type": "stream",
     "text": [
      "C:\\Users\\Ashwin Dev\\AppData\\Local\\Temp\\ipykernel_18348\\3784260255.py:48: FutureWarning: The frame.append method is deprecated and will be removed from pandas in a future version. Use pandas.concat instead.\n",
      "  self.raw_data = self.raw_data.append(self.tick_data.resample(self.bar_length,\n"
     ]
    },
    {
     "name": "stdout",
     "output_type": "stream",
     "text": [
      "12 "
     ]
    },
    {
     "name": "stderr",
     "output_type": "stream",
     "text": [
      "C:\\Users\\Ashwin Dev\\AppData\\Local\\Temp\\ipykernel_18348\\3784260255.py:48: FutureWarning: The frame.append method is deprecated and will be removed from pandas in a future version. Use pandas.concat instead.\n",
      "  self.raw_data = self.raw_data.append(self.tick_data.resample(self.bar_length,\n"
     ]
    },
    {
     "name": "stdout",
     "output_type": "stream",
     "text": [
      "13 14 "
     ]
    },
    {
     "name": "stderr",
     "output_type": "stream",
     "text": [
      "C:\\Users\\Ashwin Dev\\AppData\\Local\\Temp\\ipykernel_18348\\3784260255.py:48: FutureWarning: The frame.append method is deprecated and will be removed from pandas in a future version. Use pandas.concat instead.\n",
      "  self.raw_data = self.raw_data.append(self.tick_data.resample(self.bar_length,\n",
      "C:\\Users\\Ashwin Dev\\AppData\\Local\\Temp\\ipykernel_18348\\3784260255.py:48: FutureWarning: The frame.append method is deprecated and will be removed from pandas in a future version. Use pandas.concat instead.\n",
      "  self.raw_data = self.raw_data.append(self.tick_data.resample(self.bar_length,\n"
     ]
    },
    {
     "name": "stdout",
     "output_type": "stream",
     "text": [
      "15 16 "
     ]
    },
    {
     "name": "stderr",
     "output_type": "stream",
     "text": [
      "C:\\Users\\Ashwin Dev\\AppData\\Local\\Temp\\ipykernel_18348\\3784260255.py:48: FutureWarning: The frame.append method is deprecated and will be removed from pandas in a future version. Use pandas.concat instead.\n",
      "  self.raw_data = self.raw_data.append(self.tick_data.resample(self.bar_length,\n",
      "C:\\Users\\Ashwin Dev\\AppData\\Local\\Temp\\ipykernel_18348\\3784260255.py:48: FutureWarning: The frame.append method is deprecated and will be removed from pandas in a future version. Use pandas.concat instead.\n",
      "  self.raw_data = self.raw_data.append(self.tick_data.resample(self.bar_length,\n"
     ]
    },
    {
     "name": "stdout",
     "output_type": "stream",
     "text": [
      "GOING LONG\n",
      "17 18 "
     ]
    },
    {
     "name": "stderr",
     "output_type": "stream",
     "text": [
      "C:\\Users\\Ashwin Dev\\AppData\\Local\\Temp\\ipykernel_18348\\3784260255.py:48: FutureWarning: The frame.append method is deprecated and will be removed from pandas in a future version. Use pandas.concat instead.\n",
      "  self.raw_data = self.raw_data.append(self.tick_data.resample(self.bar_length,\n",
      "C:\\Users\\Ashwin Dev\\AppData\\Local\\Temp\\ipykernel_18348\\3784260255.py:48: FutureWarning: The frame.append method is deprecated and will be removed from pandas in a future version. Use pandas.concat instead.\n",
      "  self.raw_data = self.raw_data.append(self.tick_data.resample(self.bar_length,\n"
     ]
    },
    {
     "name": "stdout",
     "output_type": "stream",
     "text": [
      "19 20 "
     ]
    },
    {
     "name": "stderr",
     "output_type": "stream",
     "text": [
      "C:\\Users\\Ashwin Dev\\AppData\\Local\\Temp\\ipykernel_18348\\3784260255.py:48: FutureWarning: The frame.append method is deprecated and will be removed from pandas in a future version. Use pandas.concat instead.\n",
      "  self.raw_data = self.raw_data.append(self.tick_data.resample(self.bar_length,\n",
      "C:\\Users\\Ashwin Dev\\AppData\\Local\\Temp\\ipykernel_18348\\3784260255.py:48: FutureWarning: The frame.append method is deprecated and will be removed from pandas in a future version. Use pandas.concat instead.\n",
      "  self.raw_data = self.raw_data.append(self.tick_data.resample(self.bar_length,\n"
     ]
    },
    {
     "name": "stdout",
     "output_type": "stream",
     "text": [
      "21 "
     ]
    },
    {
     "name": "stderr",
     "output_type": "stream",
     "text": [
      "C:\\Users\\Ashwin Dev\\AppData\\Local\\Temp\\ipykernel_18348\\3784260255.py:48: FutureWarning: The frame.append method is deprecated and will be removed from pandas in a future version. Use pandas.concat instead.\n",
      "  self.raw_data = self.raw_data.append(self.tick_data.resample(self.bar_length,\n"
     ]
    },
    {
     "name": "stdout",
     "output_type": "stream",
     "text": [
      "22 23 "
     ]
    },
    {
     "name": "stderr",
     "output_type": "stream",
     "text": [
      "C:\\Users\\Ashwin Dev\\AppData\\Local\\Temp\\ipykernel_18348\\3784260255.py:48: FutureWarning: The frame.append method is deprecated and will be removed from pandas in a future version. Use pandas.concat instead.\n",
      "  self.raw_data = self.raw_data.append(self.tick_data.resample(self.bar_length,\n",
      "C:\\Users\\Ashwin Dev\\AppData\\Local\\Temp\\ipykernel_18348\\3784260255.py:48: FutureWarning: The frame.append method is deprecated and will be removed from pandas in a future version. Use pandas.concat instead.\n",
      "  self.raw_data = self.raw_data.append(self.tick_data.resample(self.bar_length,\n"
     ]
    },
    {
     "name": "stdout",
     "output_type": "stream",
     "text": [
      "GOING LONG\n",
      "24 "
     ]
    },
    {
     "name": "stderr",
     "output_type": "stream",
     "text": [
      "C:\\Users\\Ashwin Dev\\AppData\\Local\\Temp\\ipykernel_18348\\3784260255.py:48: FutureWarning: The frame.append method is deprecated and will be removed from pandas in a future version. Use pandas.concat instead.\n",
      "  self.raw_data = self.raw_data.append(self.tick_data.resample(self.bar_length,\n"
     ]
    },
    {
     "name": "stdout",
     "output_type": "stream",
     "text": [
      "25 26 GOING LONG\n"
     ]
    },
    {
     "name": "stderr",
     "output_type": "stream",
     "text": [
      "C:\\Users\\Ashwin Dev\\AppData\\Local\\Temp\\ipykernel_18348\\3784260255.py:48: FutureWarning: The frame.append method is deprecated and will be removed from pandas in a future version. Use pandas.concat instead.\n",
      "  self.raw_data = self.raw_data.append(self.tick_data.resample(self.bar_length,\n",
      "C:\\Users\\Ashwin Dev\\AppData\\Local\\Temp\\ipykernel_18348\\3784260255.py:48: FutureWarning: The frame.append method is deprecated and will be removed from pandas in a future version. Use pandas.concat instead.\n",
      "  self.raw_data = self.raw_data.append(self.tick_data.resample(self.bar_length,\n"
     ]
    },
    {
     "name": "stdout",
     "output_type": "stream",
     "text": [
      "27 28 "
     ]
    },
    {
     "name": "stderr",
     "output_type": "stream",
     "text": [
      "C:\\Users\\Ashwin Dev\\AppData\\Local\\Temp\\ipykernel_18348\\3784260255.py:48: FutureWarning: The frame.append method is deprecated and will be removed from pandas in a future version. Use pandas.concat instead.\n",
      "  self.raw_data = self.raw_data.append(self.tick_data.resample(self.bar_length,\n",
      "C:\\Users\\Ashwin Dev\\AppData\\Local\\Temp\\ipykernel_18348\\3784260255.py:48: FutureWarning: The frame.append method is deprecated and will be removed from pandas in a future version. Use pandas.concat instead.\n",
      "  self.raw_data = self.raw_data.append(self.tick_data.resample(self.bar_length,\n"
     ]
    },
    {
     "name": "stdout",
     "output_type": "stream",
     "text": [
      "29 30 "
     ]
    },
    {
     "name": "stderr",
     "output_type": "stream",
     "text": [
      "C:\\Users\\Ashwin Dev\\AppData\\Local\\Temp\\ipykernel_18348\\3784260255.py:48: FutureWarning: The frame.append method is deprecated and will be removed from pandas in a future version. Use pandas.concat instead.\n",
      "  self.raw_data = self.raw_data.append(self.tick_data.resample(self.bar_length,\n",
      "C:\\Users\\Ashwin Dev\\AppData\\Local\\Temp\\ipykernel_18348\\3784260255.py:48: FutureWarning: The frame.append method is deprecated and will be removed from pandas in a future version. Use pandas.concat instead.\n",
      "  self.raw_data = self.raw_data.append(self.tick_data.resample(self.bar_length,\n"
     ]
    },
    {
     "name": "stdout",
     "output_type": "stream",
     "text": [
      "31 "
     ]
    },
    {
     "name": "stderr",
     "output_type": "stream",
     "text": [
      "C:\\Users\\Ashwin Dev\\AppData\\Local\\Temp\\ipykernel_18348\\3784260255.py:48: FutureWarning: The frame.append method is deprecated and will be removed from pandas in a future version. Use pandas.concat instead.\n",
      "  self.raw_data = self.raw_data.append(self.tick_data.resample(self.bar_length,\n"
     ]
    },
    {
     "name": "stdout",
     "output_type": "stream",
     "text": [
      "32 GOING LONG\n"
     ]
    },
    {
     "name": "stderr",
     "output_type": "stream",
     "text": [
      "C:\\Users\\Ashwin Dev\\AppData\\Local\\Temp\\ipykernel_18348\\3784260255.py:48: FutureWarning: The frame.append method is deprecated and will be removed from pandas in a future version. Use pandas.concat instead.\n",
      "  self.raw_data = self.raw_data.append(self.tick_data.resample(self.bar_length,\n"
     ]
    },
    {
     "name": "stdout",
     "output_type": "stream",
     "text": [
      "33 GOING LONG\n"
     ]
    },
    {
     "name": "stderr",
     "output_type": "stream",
     "text": [
      "C:\\Users\\Ashwin Dev\\AppData\\Local\\Temp\\ipykernel_18348\\3784260255.py:48: FutureWarning: The frame.append method is deprecated and will be removed from pandas in a future version. Use pandas.concat instead.\n",
      "  self.raw_data = self.raw_data.append(self.tick_data.resample(self.bar_length,\n"
     ]
    },
    {
     "name": "stdout",
     "output_type": "stream",
     "text": [
      "34 "
     ]
    },
    {
     "name": "stderr",
     "output_type": "stream",
     "text": [
      "C:\\Users\\Ashwin Dev\\AppData\\Local\\Temp\\ipykernel_18348\\3784260255.py:48: FutureWarning: The frame.append method is deprecated and will be removed from pandas in a future version. Use pandas.concat instead.\n",
      "  self.raw_data = self.raw_data.append(self.tick_data.resample(self.bar_length,\n"
     ]
    },
    {
     "name": "stdout",
     "output_type": "stream",
     "text": [
      "GOING LONG\n",
      "35 GOING LONG\n",
      "GOING LONG\n",
      "GOING LONG\n"
     ]
    },
    {
     "name": "stderr",
     "output_type": "stream",
     "text": [
      "C:\\Users\\Ashwin Dev\\AppData\\Local\\Temp\\ipykernel_18348\\3784260255.py:48: FutureWarning: The frame.append method is deprecated and will be removed from pandas in a future version. Use pandas.concat instead.\n",
      "  self.raw_data = self.raw_data.append(self.tick_data.resample(self.bar_length,\n"
     ]
    },
    {
     "name": "stdout",
     "output_type": "stream",
     "text": [
      "36 "
     ]
    },
    {
     "name": "stderr",
     "output_type": "stream",
     "text": [
      "C:\\Users\\Ashwin Dev\\AppData\\Local\\Temp\\ipykernel_18348\\3784260255.py:48: FutureWarning: The frame.append method is deprecated and will be removed from pandas in a future version. Use pandas.concat instead.\n",
      "  self.raw_data = self.raw_data.append(self.tick_data.resample(self.bar_length,\n"
     ]
    },
    {
     "name": "stdout",
     "output_type": "stream",
     "text": [
      "37 "
     ]
    },
    {
     "name": "stderr",
     "output_type": "stream",
     "text": [
      "C:\\Users\\Ashwin Dev\\AppData\\Local\\Temp\\ipykernel_18348\\3784260255.py:48: FutureWarning: The frame.append method is deprecated and will be removed from pandas in a future version. Use pandas.concat instead.\n",
      "  self.raw_data = self.raw_data.append(self.tick_data.resample(self.bar_length,\n"
     ]
    },
    {
     "name": "stdout",
     "output_type": "stream",
     "text": [
      "38 "
     ]
    },
    {
     "name": "stderr",
     "output_type": "stream",
     "text": [
      "C:\\Users\\Ashwin Dev\\AppData\\Local\\Temp\\ipykernel_18348\\3784260255.py:48: FutureWarning: The frame.append method is deprecated and will be removed from pandas in a future version. Use pandas.concat instead.\n",
      "  self.raw_data = self.raw_data.append(self.tick_data.resample(self.bar_length,\n"
     ]
    },
    {
     "name": "stdout",
     "output_type": "stream",
     "text": [
      "39 "
     ]
    },
    {
     "name": "stderr",
     "output_type": "stream",
     "text": [
      "C:\\Users\\Ashwin Dev\\AppData\\Local\\Temp\\ipykernel_18348\\3784260255.py:48: FutureWarning: The frame.append method is deprecated and will be removed from pandas in a future version. Use pandas.concat instead.\n",
      "  self.raw_data = self.raw_data.append(self.tick_data.resample(self.bar_length,\n"
     ]
    },
    {
     "name": "stdout",
     "output_type": "stream",
     "text": [
      "40 "
     ]
    },
    {
     "name": "stderr",
     "output_type": "stream",
     "text": [
      "C:\\Users\\Ashwin Dev\\AppData\\Local\\Temp\\ipykernel_18348\\3784260255.py:48: FutureWarning: The frame.append method is deprecated and will be removed from pandas in a future version. Use pandas.concat instead.\n",
      "  self.raw_data = self.raw_data.append(self.tick_data.resample(self.bar_length,\n"
     ]
    },
    {
     "name": "stdout",
     "output_type": "stream",
     "text": [
      "41 42"
     ]
    },
    {
     "name": "stderr",
     "output_type": "stream",
     "text": [
      "C:\\Users\\Ashwin Dev\\AppData\\Local\\Temp\\ipykernel_18348\\3784260255.py:48: FutureWarning: The frame.append method is deprecated and will be removed from pandas in a future version. Use pandas.concat instead.\n",
      "  self.raw_data = self.raw_data.append(self.tick_data.resample(self.bar_length,\n"
     ]
    },
    {
     "name": "stdout",
     "output_type": "stream",
     "text": [
      " "
     ]
    },
    {
     "name": "stderr",
     "output_type": "stream",
     "text": [
      "C:\\Users\\Ashwin Dev\\AppData\\Local\\Temp\\ipykernel_18348\\3784260255.py:48: FutureWarning: The frame.append method is deprecated and will be removed from pandas in a future version. Use pandas.concat instead.\n",
      "  self.raw_data = self.raw_data.append(self.tick_data.resample(self.bar_length,\n"
     ]
    },
    {
     "name": "stdout",
     "output_type": "stream",
     "text": [
      "43 "
     ]
    },
    {
     "name": "stderr",
     "output_type": "stream",
     "text": [
      "C:\\Users\\Ashwin Dev\\AppData\\Local\\Temp\\ipykernel_18348\\3784260255.py:48: FutureWarning: The frame.append method is deprecated and will be removed from pandas in a future version. Use pandas.concat instead.\n",
      "  self.raw_data = self.raw_data.append(self.tick_data.resample(self.bar_length,\n"
     ]
    },
    {
     "name": "stdout",
     "output_type": "stream",
     "text": [
      "44 "
     ]
    },
    {
     "name": "stderr",
     "output_type": "stream",
     "text": [
      "C:\\Users\\Ashwin Dev\\AppData\\Local\\Temp\\ipykernel_18348\\3784260255.py:48: FutureWarning: The frame.append method is deprecated and will be removed from pandas in a future version. Use pandas.concat instead.\n",
      "  self.raw_data = self.raw_data.append(self.tick_data.resample(self.bar_length,\n"
     ]
    },
    {
     "name": "stdout",
     "output_type": "stream",
     "text": [
      "45 "
     ]
    },
    {
     "name": "stderr",
     "output_type": "stream",
     "text": [
      "C:\\Users\\Ashwin Dev\\AppData\\Local\\Temp\\ipykernel_18348\\3784260255.py:48: FutureWarning: The frame.append method is deprecated and will be removed from pandas in a future version. Use pandas.concat instead.\n",
      "  self.raw_data = self.raw_data.append(self.tick_data.resample(self.bar_length,\n"
     ]
    },
    {
     "name": "stdout",
     "output_type": "stream",
     "text": [
      "46 "
     ]
    }
   ],
   "source": [
    "trader.get_most_recent()\n",
    "api.subscribe_market_data(\"EUR/USD\", (trader.get_tick_data, ))"
   ]
  },
  {
   "cell_type": "code",
   "execution_count": 6,
   "metadata": {},
   "outputs": [
    {
     "name": "stdout",
     "output_type": "stream",
     "text": [
      "47 "
     ]
    }
   ],
   "source": [
    "api.unsubscribe_market_data(\"EUR/USD\")"
   ]
  },
  {
   "cell_type": "code",
   "execution_count": 7,
   "metadata": {},
   "outputs": [],
   "source": [
    "col = [\"tradeId\", \"amountK\", \"currency\", \"grossPL\", \"isBuy\"]"
   ]
  },
  {
   "cell_type": "code",
   "execution_count": 11,
   "metadata": {},
   "outputs": [
    {
     "data": {
      "text/html": [
       "<div>\n",
       "<style scoped>\n",
       "    .dataframe tbody tr th:only-of-type {\n",
       "        vertical-align: middle;\n",
       "    }\n",
       "\n",
       "    .dataframe tbody tr th {\n",
       "        vertical-align: top;\n",
       "    }\n",
       "\n",
       "    .dataframe thead th {\n",
       "        text-align: right;\n",
       "    }\n",
       "</style>\n",
       "<table border=\"1\" class=\"dataframe\">\n",
       "  <thead>\n",
       "    <tr style=\"text-align: right;\">\n",
       "      <th></th>\n",
       "      <th>tradeId</th>\n",
       "      <th>amountK</th>\n",
       "      <th>currency</th>\n",
       "      <th>grossPL</th>\n",
       "      <th>isBuy</th>\n",
       "    </tr>\n",
       "  </thead>\n",
       "  <tbody>\n",
       "    <tr>\n",
       "      <th>0</th>\n",
       "      <td>73333128</td>\n",
       "      <td>100</td>\n",
       "      <td>EUR/USD</td>\n",
       "      <td>-21</td>\n",
       "      <td>True</td>\n",
       "    </tr>\n",
       "    <tr>\n",
       "      <th>1</th>\n",
       "      <td>73333130</td>\n",
       "      <td>100</td>\n",
       "      <td>EUR/USD</td>\n",
       "      <td>-14</td>\n",
       "      <td>True</td>\n",
       "    </tr>\n",
       "    <tr>\n",
       "      <th>2</th>\n",
       "      <td>73333131</td>\n",
       "      <td>100</td>\n",
       "      <td>EUR/USD</td>\n",
       "      <td>-14</td>\n",
       "      <td>True</td>\n",
       "    </tr>\n",
       "    <tr>\n",
       "      <th>3</th>\n",
       "      <td>73333132</td>\n",
       "      <td>100</td>\n",
       "      <td>EUR/USD</td>\n",
       "      <td>-14</td>\n",
       "      <td>True</td>\n",
       "    </tr>\n",
       "    <tr>\n",
       "      <th>4</th>\n",
       "      <td>73333133</td>\n",
       "      <td>100</td>\n",
       "      <td>EUR/USD</td>\n",
       "      <td>-14</td>\n",
       "      <td>True</td>\n",
       "    </tr>\n",
       "    <tr>\n",
       "      <th>5</th>\n",
       "      <td>73333134</td>\n",
       "      <td>100</td>\n",
       "      <td>EUR/USD</td>\n",
       "      <td>-14</td>\n",
       "      <td>True</td>\n",
       "    </tr>\n",
       "    <tr>\n",
       "      <th>6</th>\n",
       "      <td>73333138</td>\n",
       "      <td>100</td>\n",
       "      <td>EUR/USD</td>\n",
       "      <td>-11</td>\n",
       "      <td>True</td>\n",
       "    </tr>\n",
       "    <tr>\n",
       "      <th>7</th>\n",
       "      <td>73333139</td>\n",
       "      <td>100</td>\n",
       "      <td>EUR/USD</td>\n",
       "      <td>-11</td>\n",
       "      <td>True</td>\n",
       "    </tr>\n",
       "    <tr>\n",
       "      <th>8</th>\n",
       "      <td>73333140</td>\n",
       "      <td>100</td>\n",
       "      <td>EUR/USD</td>\n",
       "      <td>-14</td>\n",
       "      <td>True</td>\n",
       "    </tr>\n",
       "    <tr>\n",
       "      <th>9</th>\n",
       "      <td>73333143</td>\n",
       "      <td>100</td>\n",
       "      <td>EUR/USD</td>\n",
       "      <td>-21</td>\n",
       "      <td>True</td>\n",
       "    </tr>\n",
       "  </tbody>\n",
       "</table>\n",
       "</div>"
      ],
      "text/plain": [
       "    tradeId  amountK currency  grossPL  isBuy\n",
       "0  73333128      100  EUR/USD      -21   True\n",
       "1  73333130      100  EUR/USD      -14   True\n",
       "2  73333131      100  EUR/USD      -14   True\n",
       "3  73333132      100  EUR/USD      -14   True\n",
       "4  73333133      100  EUR/USD      -14   True\n",
       "5  73333134      100  EUR/USD      -14   True\n",
       "6  73333138      100  EUR/USD      -11   True\n",
       "7  73333139      100  EUR/USD      -11   True\n",
       "8  73333140      100  EUR/USD      -14   True\n",
       "9  73333143      100  EUR/USD      -21   True"
      ]
     },
     "execution_count": 11,
     "metadata": {},
     "output_type": "execute_result"
    }
   ],
   "source": [
    "api.get_open_positions()[col]"
   ]
  },
  {
   "cell_type": "code",
   "execution_count": 12,
   "metadata": {},
   "outputs": [],
   "source": [
    "api.close_all_for_symbol(\"EUR/USD\")"
   ]
  },
  {
   "cell_type": "code",
   "execution_count": 13,
   "metadata": {},
   "outputs": [
    {
     "data": {
      "text/html": [
       "<div>\n",
       "<style scoped>\n",
       "    .dataframe tbody tr th:only-of-type {\n",
       "        vertical-align: middle;\n",
       "    }\n",
       "\n",
       "    .dataframe tbody tr th {\n",
       "        vertical-align: top;\n",
       "    }\n",
       "\n",
       "    .dataframe thead th {\n",
       "        text-align: right;\n",
       "    }\n",
       "</style>\n",
       "<table border=\"1\" class=\"dataframe\">\n",
       "  <thead>\n",
       "    <tr style=\"text-align: right;\">\n",
       "      <th></th>\n",
       "      <th>tradeId</th>\n",
       "      <th>amountK</th>\n",
       "      <th>currency</th>\n",
       "      <th>grossPL</th>\n",
       "      <th>isBuy</th>\n",
       "    </tr>\n",
       "  </thead>\n",
       "  <tbody>\n",
       "    <tr>\n",
       "      <th>0</th>\n",
       "      <td>73333128</td>\n",
       "      <td>100</td>\n",
       "      <td>EUR/USD</td>\n",
       "      <td>-29</td>\n",
       "      <td>True</td>\n",
       "    </tr>\n",
       "  </tbody>\n",
       "</table>\n",
       "</div>"
      ],
      "text/plain": [
       "    tradeId  amountK currency  grossPL  isBuy\n",
       "0  73333128      100  EUR/USD      -29   True"
      ]
     },
     "execution_count": 13,
     "metadata": {},
     "output_type": "execute_result"
    }
   ],
   "source": [
    "api.get_closed_positions()[col]"
   ]
  },
  {
   "cell_type": "code",
   "execution_count": 14,
   "metadata": {},
   "outputs": [
    {
     "data": {
      "text/html": [
       "<div>\n",
       "<style scoped>\n",
       "    .dataframe tbody tr th:only-of-type {\n",
       "        vertical-align: middle;\n",
       "    }\n",
       "\n",
       "    .dataframe tbody tr th {\n",
       "        vertical-align: top;\n",
       "    }\n",
       "\n",
       "    .dataframe thead th {\n",
       "        text-align: right;\n",
       "    }\n",
       "</style>\n",
       "<table border=\"1\" class=\"dataframe\">\n",
       "  <thead>\n",
       "    <tr style=\"text-align: right;\">\n",
       "      <th></th>\n",
       "      <th>tradeId</th>\n",
       "      <th>amountK</th>\n",
       "      <th>currency</th>\n",
       "      <th>grossPL</th>\n",
       "      <th>isBuy</th>\n",
       "    </tr>\n",
       "  </thead>\n",
       "  <tbody>\n",
       "    <tr>\n",
       "      <th>0</th>\n",
       "      <td></td>\n",
       "      <td>1000</td>\n",
       "      <td>EUR/USD</td>\n",
       "      <td>-228</td>\n",
       "      <td>False</td>\n",
       "    </tr>\n",
       "  </tbody>\n",
       "</table>\n",
       "</div>"
      ],
      "text/plain": [
       "  tradeId  amountK currency  grossPL  isBuy\n",
       "0             1000  EUR/USD     -228  False"
      ]
     },
     "execution_count": 14,
     "metadata": {},
     "output_type": "execute_result"
    }
   ],
   "source": [
    "api.get_closed_positions_summary()[col]"
   ]
  },
  {
   "cell_type": "code",
   "execution_count": 15,
   "metadata": {},
   "outputs": [
    {
     "data": {
      "text/html": [
       "<div>\n",
       "<style scoped>\n",
       "    .dataframe tbody tr th:only-of-type {\n",
       "        vertical-align: middle;\n",
       "    }\n",
       "\n",
       "    .dataframe tbody tr th {\n",
       "        vertical-align: top;\n",
       "    }\n",
       "\n",
       "    .dataframe thead th {\n",
       "        text-align: right;\n",
       "    }\n",
       "</style>\n",
       "<table border=\"1\" class=\"dataframe\">\n",
       "  <thead>\n",
       "    <tr style=\"text-align: right;\">\n",
       "      <th></th>\n",
       "      <th>EUR/USD</th>\n",
       "      <th>returns</th>\n",
       "      <th>position</th>\n",
       "    </tr>\n",
       "  </thead>\n",
       "  <tbody>\n",
       "    <tr>\n",
       "      <th>2022-08-22 17:11:00</th>\n",
       "      <td>0.992995</td>\n",
       "      <td>0.000005</td>\n",
       "      <td>-1.0</td>\n",
       "    </tr>\n",
       "    <tr>\n",
       "      <th>2022-08-22 17:12:00</th>\n",
       "      <td>0.992935</td>\n",
       "      <td>-0.000060</td>\n",
       "      <td>1.0</td>\n",
       "    </tr>\n",
       "    <tr>\n",
       "      <th>2022-08-22 17:13:00</th>\n",
       "      <td>0.992800</td>\n",
       "      <td>-0.000136</td>\n",
       "      <td>1.0</td>\n",
       "    </tr>\n",
       "    <tr>\n",
       "      <th>2022-08-22 17:14:00</th>\n",
       "      <td>0.993040</td>\n",
       "      <td>0.000242</td>\n",
       "      <td>-1.0</td>\n",
       "    </tr>\n",
       "    <tr>\n",
       "      <th>2022-08-22 17:15:00</th>\n",
       "      <td>0.993110</td>\n",
       "      <td>0.000070</td>\n",
       "      <td>-1.0</td>\n",
       "    </tr>\n",
       "    <tr>\n",
       "      <th>2022-08-22 17:16:00</th>\n",
       "      <td>0.993100</td>\n",
       "      <td>-0.000010</td>\n",
       "      <td>1.0</td>\n",
       "    </tr>\n",
       "    <tr>\n",
       "      <th>2022-08-22 17:17:00</th>\n",
       "      <td>0.993070</td>\n",
       "      <td>-0.000030</td>\n",
       "      <td>1.0</td>\n",
       "    </tr>\n",
       "    <tr>\n",
       "      <th>2022-08-22 17:18:00</th>\n",
       "      <td>0.993035</td>\n",
       "      <td>-0.000035</td>\n",
       "      <td>1.0</td>\n",
       "    </tr>\n",
       "    <tr>\n",
       "      <th>2022-08-22 17:19:00</th>\n",
       "      <td>0.993020</td>\n",
       "      <td>-0.000015</td>\n",
       "      <td>1.0</td>\n",
       "    </tr>\n",
       "    <tr>\n",
       "      <th>2022-08-22 17:21:00</th>\n",
       "      <td>0.992830</td>\n",
       "      <td>-0.000191</td>\n",
       "      <td>1.0</td>\n",
       "    </tr>\n",
       "  </tbody>\n",
       "</table>\n",
       "</div>"
      ],
      "text/plain": [
       "                      EUR/USD   returns  position\n",
       "2022-08-22 17:11:00  0.992995  0.000005      -1.0\n",
       "2022-08-22 17:12:00  0.992935 -0.000060       1.0\n",
       "2022-08-22 17:13:00  0.992800 -0.000136       1.0\n",
       "2022-08-22 17:14:00  0.993040  0.000242      -1.0\n",
       "2022-08-22 17:15:00  0.993110  0.000070      -1.0\n",
       "2022-08-22 17:16:00  0.993100 -0.000010       1.0\n",
       "2022-08-22 17:17:00  0.993070 -0.000030       1.0\n",
       "2022-08-22 17:18:00  0.993035 -0.000035       1.0\n",
       "2022-08-22 17:19:00  0.993020 -0.000015       1.0\n",
       "2022-08-22 17:21:00  0.992830 -0.000191       1.0"
      ]
     },
     "execution_count": 15,
     "metadata": {},
     "output_type": "execute_result"
    }
   ],
   "source": [
    "trader.data.tail(10)"
   ]
  },
  {
   "cell_type": "code",
   "execution_count": null,
   "metadata": {},
   "outputs": [],
   "source": [
    "api.close()"
   ]
  },
  {
   "cell_type": "code",
   "execution_count": null,
   "metadata": {},
   "outputs": [],
   "source": []
  },
  {
   "cell_type": "markdown",
   "metadata": {},
   "source": [
    "## Trade Monitoring and Reporting"
   ]
  },
  {
   "cell_type": "code",
   "execution_count": 16,
   "metadata": {},
   "outputs": [],
   "source": [
    "import pandas as pd\n",
    "import numpy as np\n",
    "import fxcmpy\n",
    "import time\n",
    "from datetime import datetime"
   ]
  },
  {
   "cell_type": "code",
   "execution_count": 3,
   "metadata": {},
   "outputs": [
    {
     "ename": "ServerError",
     "evalue": "Can not connect to FXCM Server.",
     "output_type": "error",
     "traceback": [
      "\u001b[1;31m---------------------------------------------------------------------------\u001b[0m",
      "\u001b[1;31mServerError\u001b[0m                               Traceback (most recent call last)",
      "Input \u001b[1;32mIn [3]\u001b[0m, in \u001b[0;36m<cell line: 1>\u001b[1;34m()\u001b[0m\n\u001b[1;32m----> 1\u001b[0m api \u001b[38;5;241m=\u001b[39m \u001b[43mfxcmpy\u001b[49m\u001b[38;5;241;43m.\u001b[39;49m\u001b[43mfxcmpy\u001b[49m\u001b[43m(\u001b[49m\u001b[43mconfig_file\u001b[49m\u001b[38;5;241;43m=\u001b[39;49m\u001b[43m \u001b[49m\u001b[38;5;124;43m\"\u001b[39;49m\u001b[38;5;124;43mfxcm.cfg\u001b[39;49m\u001b[38;5;124;43m\"\u001b[39;49m\u001b[43m)\u001b[49m\n",
      "File \u001b[1;32m~\\anaconda3\\lib\\site-packages\\fxcmpy\\fxcmpy.py:220\u001b[0m, in \u001b[0;36mfxcmpy.__init__\u001b[1;34m(self, access_token, config_file, log_file, log_level, server, proxy_url, proxy_port, proxy_type)\u001b[0m\n\u001b[0;32m    218\u001b[0m \u001b[38;5;28;01melif\u001b[39;00m \u001b[38;5;28mself\u001b[39m\u001b[38;5;241m.\u001b[39mconnection_status \u001b[38;5;241m==\u001b[39m \u001b[38;5;124m'\u001b[39m\u001b[38;5;124maborted\u001b[39m\u001b[38;5;124m'\u001b[39m:\n\u001b[0;32m    219\u001b[0m     \u001b[38;5;28mself\u001b[39m\u001b[38;5;241m.\u001b[39mclose()\n\u001b[1;32m--> 220\u001b[0m     \u001b[38;5;28;01mraise\u001b[39;00m ServerError(\u001b[38;5;124m'\u001b[39m\u001b[38;5;124mCan not connect to FXCM Server.\u001b[39m\u001b[38;5;124m'\u001b[39m)\n\u001b[0;32m    222\u001b[0m \u001b[38;5;28mself\u001b[39m\u001b[38;5;241m.\u001b[39m__collect_account_ids__()\n\u001b[0;32m    223\u001b[0m \u001b[38;5;28mself\u001b[39m\u001b[38;5;241m.\u001b[39mdefault_account \u001b[38;5;241m=\u001b[39m \u001b[38;5;28mself\u001b[39m\u001b[38;5;241m.\u001b[39maccount_ids[\u001b[38;5;241m0\u001b[39m]\n",
      "\u001b[1;31mServerError\u001b[0m: Can not connect to FXCM Server."
     ]
    }
   ],
   "source": [
    "api = fxcmpy.fxcmpy(config_file= \"fxcm.cfg\")"
   ]
  },
  {
   "cell_type": "code",
   "execution_count": 17,
   "metadata": {},
   "outputs": [],
   "source": [
    "col = [\"tradeId\", \"amountK\", \"currency\", \"grossPL\", \"isBuy\"]"
   ]
  },
  {
   "cell_type": "code",
   "execution_count": 18,
   "metadata": {},
   "outputs": [],
   "source": [
    "class ConTrader():\n",
    "    \n",
    "    def __init__(self, instrument, bar_length, window, units):\n",
    "        self.instrument = instrument\n",
    "        self.bar_length = pd.to_timedelta(bar_length) \n",
    "        self.tick_data = None\n",
    "        self.raw_data = None\n",
    "        self.data = None \n",
    "        self.ticks = 0\n",
    "        self.last_bar = None  \n",
    "        self.units = units\n",
    "        self.position = 0\n",
    "        \n",
    "        #*****************add strategy-specific attributes here******************\n",
    "        self.window = window\n",
    "        #************************************************************************        \n",
    "    \n",
    "    def get_most_recent(self, period = \"m1\", number = 10000):\n",
    "        while True:  \n",
    "            time.sleep(5)\n",
    "            df = api.get_candles(self.instrument, number = number, period = period, columns = [\"bidclose\", \"askclose\"])\n",
    "            df[self.instrument] = (df.bidclose + df.askclose) / 2\n",
    "            df = df[self.instrument].to_frame()\n",
    "            df = df.resample(self.bar_length, label = \"right\").last().dropna().iloc[:-1]\n",
    "            self.raw_data = df.copy()\n",
    "            self.last_bar = self.raw_data.index[-1]\n",
    "            if pd.to_datetime(datetime.utcnow()) - self.last_bar < self.bar_length:\n",
    "                break\n",
    "    \n",
    "    def get_tick_data(self, data, dataframe):\n",
    "        \n",
    "        self.ticks += 1\n",
    "        print(self.ticks, end = \" \")\n",
    "        \n",
    "        recent_tick = pd.to_datetime(data[\"Updated\"], unit = \"ms\")\n",
    "        \n",
    "        # if a time longer than the bar_lenght has elapsed between last full bar and the most recent tick\n",
    "        if recent_tick - self.last_bar > self.bar_length:\n",
    "            self.tick_data = dataframe.loc[self.last_bar:, [\"Bid\", \"Ask\"]]\n",
    "            self.tick_data[self.instrument] = (self.tick_data.Ask + self.tick_data.Bid)/2\n",
    "            self.tick_data = self.tick_data[self.instrument].to_frame()\n",
    "            self.resample_and_join()\n",
    "            self.define_strategy() \n",
    "            self.execute_trades()\n",
    "            \n",
    "    def resample_and_join(self):\n",
    "        self.raw_data = self.raw_data.append(self.tick_data.resample(self.bar_length, \n",
    "                                                             label=\"right\").last().ffill().iloc[:-1])\n",
    "        self.last_bar = self.raw_data.index[-1]  \n",
    "        \n",
    "    def define_strategy(self): # \"strategy-specific\"\n",
    "        df = self.raw_data.copy()\n",
    "        \n",
    "        #******************** define your strategy here ************************\n",
    "        df[\"returns\"] = np.log(df[self.instrument] / df[self.instrument].shift())\n",
    "        df[\"position\"] = -np.sign(df.returns.rolling(self.window).mean())\n",
    "        #***********************************************************************\n",
    "        \n",
    "        self.data = df.copy()\n",
    "    \n",
    "    def execute_trades(self):\n",
    "        if self.data[\"position\"].iloc[-1] == 1:\n",
    "            if self.position == 0:\n",
    "                order = api.create_market_buy_order(self.instrument, self.units)\n",
    "                self.report_trade(order, \"GOING LONG\")  # NEW\n",
    "            elif self.position == -1:\n",
    "                order = api.create_market_buy_order(self.instrument, self.units * 2)\n",
    "                self.report_trade(order, \"GOING LONG\")  # NEW\n",
    "            self.position = 1\n",
    "        elif self.data[\"position\"].iloc[-1] == -1: \n",
    "            if self.position == 0:\n",
    "                order = api.create_market_sell_order(self.instrument, self.units)\n",
    "                self.report_trade(order, \"GOING SHORT\")  # NEW\n",
    "            elif self.position == 1:\n",
    "                order = api.create_market_sell_order(self.instrument, self.units * 2)\n",
    "                self.report_trade(order, \"GOING SHORT\")  # NEW\n",
    "            self.position = -1\n",
    "        elif self.data[\"position\"].iloc[-1] == 0: \n",
    "            if self.position == -1:\n",
    "                order = api.create_market_buy_order(self.instrument, self.units)\n",
    "                self.report_trade(order, \"GOING NEUTRAL\")  # NEW\n",
    "            elif self.position == 1:\n",
    "                order = api.create_market_sell_order(self.instrument, self.units)\n",
    "                self.report_trade(order, \"GOING NEUTRAL\")  # NEW\n",
    "            self.position = 0\n",
    "\n",
    "    def report_trade(self, order, going):  # NEW\n",
    "        time = order.get_time()\n",
    "        units = api.get_open_positions().amountK.iloc[-1]\n",
    "        price = api.get_open_positions().open.iloc[-1]\n",
    "        unreal_pl = api.get_open_positions().grossPL.sum()\n",
    "        print(\"\\n\" + 100* \"-\")\n",
    "        print(\"{} | {}\".format(time, going))\n",
    "        print(\"{} | units = {} | price = {} | Unreal. P&L = {}\".format(time, units, price, unreal_pl))\n",
    "        print(100 * \"-\" + \"\\n\")\n",
    "        "
   ]
  },
  {
   "cell_type": "code",
   "execution_count": 19,
   "metadata": {},
   "outputs": [],
   "source": [
    "trader = ConTrader(\"EUR/USD\", \"1min\", window = 1, units = 100)"
   ]
  },
  {
   "cell_type": "code",
   "execution_count": 20,
   "metadata": {},
   "outputs": [
    {
     "name": "stdout",
     "output_type": "stream",
     "text": [
      "1 2 3 4 5 "
     ]
    },
    {
     "name": "stderr",
     "output_type": "stream",
     "text": [
      "C:\\Users\\Ashwin Dev\\AppData\\Local\\Temp\\ipykernel_18348\\1583225512.py:47: FutureWarning: The frame.append method is deprecated and will be removed from pandas in a future version. Use pandas.concat instead.\n",
      "  self.raw_data = self.raw_data.append(self.tick_data.resample(self.bar_length,\n"
     ]
    },
    {
     "name": "stdout",
     "output_type": "stream",
     "text": [
      "6 7 \n",
      "----------------------------------------------------------------------------------------------------\n",
      "2022-08-22 17:26:02.684000 | GOING SHORT\n",
      "2022-08-22 17:26:02.684000 | units = 100 | price = 0.99287 | Unreal. P&L = -13\n",
      "----------------------------------------------------------------------------------------------------\n",
      "\n",
      "8 9 10 11 12 13 14 15 16 17 18 19 20 21 22 23 24 25 26 27 28 29 30 31 32 33 34 35 36 37 38 39 40 41 42 43 44 45 46 47 48 49 50 51 52 53 "
     ]
    },
    {
     "name": "stderr",
     "output_type": "stream",
     "text": [
      "C:\\Users\\Ashwin Dev\\AppData\\Local\\Temp\\ipykernel_18348\\1583225512.py:47: FutureWarning: The frame.append method is deprecated and will be removed from pandas in a future version. Use pandas.concat instead.\n",
      "  self.raw_data = self.raw_data.append(self.tick_data.resample(self.bar_length,\n"
     ]
    },
    {
     "name": "stdout",
     "output_type": "stream",
     "text": [
      "54 55 56 57 58 59 60 61 62 63 64 65 66 67 68 69 70 71 72 73 74 75 76 77 78 79 "
     ]
    }
   ],
   "source": [
    "trader.get_most_recent()\n",
    "api.subscribe_market_data(trader.instrument, (trader.get_tick_data, ))"
   ]
  },
  {
   "cell_type": "code",
   "execution_count": 21,
   "metadata": {},
   "outputs": [
    {
     "name": "stdout",
     "output_type": "stream",
     "text": [
      "80 81 \n",
      "\n",
      "2022-08-22 17:27:50.905737 | GOING NEUTRAL\n",
      "\n",
      "  tradeId  amountK currency  grossPL  isBuy\n",
      "0             1100  EUR/USD     -264  False\n"
     ]
    }
   ],
   "source": [
    "api.unsubscribe_market_data(trader.instrument)\n",
    "if len(api.get_open_positions()) != 0: # if we have final open position(s) (netting and hedging)\n",
    "    api.close_all_for_symbol(trader.instrument)\n",
    "    print(2*\"\\n\" + \"{} | GOING NEUTRAL\".format(str(datetime.utcnow())) + \"\\n\")\n",
    "    time.sleep(20)\n",
    "    print(api.get_closed_positions_summary()[col])\n",
    "    trader.position = 0"
   ]
  },
  {
   "cell_type": "code",
   "execution_count": 22,
   "metadata": {},
   "outputs": [
    {
     "data": {
      "text/html": [
       "<div>\n",
       "<style scoped>\n",
       "    .dataframe tbody tr th:only-of-type {\n",
       "        vertical-align: middle;\n",
       "    }\n",
       "\n",
       "    .dataframe tbody tr th {\n",
       "        vertical-align: top;\n",
       "    }\n",
       "\n",
       "    .dataframe thead th {\n",
       "        text-align: right;\n",
       "    }\n",
       "</style>\n",
       "<table border=\"1\" class=\"dataframe\">\n",
       "  <thead>\n",
       "    <tr style=\"text-align: right;\">\n",
       "      <th></th>\n",
       "      <th>EUR/USD</th>\n",
       "      <th>returns</th>\n",
       "      <th>position</th>\n",
       "    </tr>\n",
       "  </thead>\n",
       "  <tbody>\n",
       "    <tr>\n",
       "      <th>2022-08-22 17:16:00</th>\n",
       "      <td>0.993100</td>\n",
       "      <td>-0.000010</td>\n",
       "      <td>1.0</td>\n",
       "    </tr>\n",
       "    <tr>\n",
       "      <th>2022-08-22 17:17:00</th>\n",
       "      <td>0.993070</td>\n",
       "      <td>-0.000030</td>\n",
       "      <td>1.0</td>\n",
       "    </tr>\n",
       "    <tr>\n",
       "      <th>2022-08-22 17:18:00</th>\n",
       "      <td>0.993035</td>\n",
       "      <td>-0.000035</td>\n",
       "      <td>1.0</td>\n",
       "    </tr>\n",
       "    <tr>\n",
       "      <th>2022-08-22 17:19:00</th>\n",
       "      <td>0.993020</td>\n",
       "      <td>-0.000015</td>\n",
       "      <td>1.0</td>\n",
       "    </tr>\n",
       "    <tr>\n",
       "      <th>2022-08-22 17:20:00</th>\n",
       "      <td>0.992945</td>\n",
       "      <td>-0.000076</td>\n",
       "      <td>1.0</td>\n",
       "    </tr>\n",
       "    <tr>\n",
       "      <th>2022-08-22 17:21:00</th>\n",
       "      <td>0.992830</td>\n",
       "      <td>-0.000116</td>\n",
       "      <td>1.0</td>\n",
       "    </tr>\n",
       "    <tr>\n",
       "      <th>2022-08-22 17:22:00</th>\n",
       "      <td>0.992795</td>\n",
       "      <td>-0.000035</td>\n",
       "      <td>1.0</td>\n",
       "    </tr>\n",
       "    <tr>\n",
       "      <th>2022-08-22 17:23:00</th>\n",
       "      <td>0.992800</td>\n",
       "      <td>0.000005</td>\n",
       "      <td>-1.0</td>\n",
       "    </tr>\n",
       "    <tr>\n",
       "      <th>2022-08-22 17:24:00</th>\n",
       "      <td>0.992725</td>\n",
       "      <td>-0.000076</td>\n",
       "      <td>1.0</td>\n",
       "    </tr>\n",
       "    <tr>\n",
       "      <th>2022-08-22 17:25:00</th>\n",
       "      <td>0.992680</td>\n",
       "      <td>-0.000045</td>\n",
       "      <td>1.0</td>\n",
       "    </tr>\n",
       "    <tr>\n",
       "      <th>2022-08-22 17:26:00</th>\n",
       "      <td>0.992925</td>\n",
       "      <td>0.000247</td>\n",
       "      <td>-1.0</td>\n",
       "    </tr>\n",
       "    <tr>\n",
       "      <th>2022-08-22 17:27:00</th>\n",
       "      <td>0.993020</td>\n",
       "      <td>0.000096</td>\n",
       "      <td>-1.0</td>\n",
       "    </tr>\n",
       "  </tbody>\n",
       "</table>\n",
       "</div>"
      ],
      "text/plain": [
       "                      EUR/USD   returns  position\n",
       "2022-08-22 17:16:00  0.993100 -0.000010       1.0\n",
       "2022-08-22 17:17:00  0.993070 -0.000030       1.0\n",
       "2022-08-22 17:18:00  0.993035 -0.000035       1.0\n",
       "2022-08-22 17:19:00  0.993020 -0.000015       1.0\n",
       "2022-08-22 17:20:00  0.992945 -0.000076       1.0\n",
       "2022-08-22 17:21:00  0.992830 -0.000116       1.0\n",
       "2022-08-22 17:22:00  0.992795 -0.000035       1.0\n",
       "2022-08-22 17:23:00  0.992800  0.000005      -1.0\n",
       "2022-08-22 17:24:00  0.992725 -0.000076       1.0\n",
       "2022-08-22 17:25:00  0.992680 -0.000045       1.0\n",
       "2022-08-22 17:26:00  0.992925  0.000247      -1.0\n",
       "2022-08-22 17:27:00  0.993020  0.000096      -1.0"
      ]
     },
     "execution_count": 22,
     "metadata": {},
     "output_type": "execute_result"
    }
   ],
   "source": [
    "trader.data.tail(12)"
   ]
  },
  {
   "cell_type": "code",
   "execution_count": 23,
   "metadata": {},
   "outputs": [],
   "source": [
    "api.close()"
   ]
  },
  {
   "cell_type": "code",
   "execution_count": null,
   "metadata": {},
   "outputs": [],
   "source": []
  },
  {
   "cell_type": "markdown",
   "metadata": {},
   "source": [
    "## Trading other Strategies - Coding Challenge"
   ]
  },
  {
   "cell_type": "code",
   "execution_count": 1,
   "metadata": {},
   "outputs": [],
   "source": [
    "import pandas as pd\n",
    "import numpy as np\n",
    "import fxcmpy\n",
    "import time\n",
    "from datetime import datetime\n",
    "import matplotlib.pyplot as plt\n",
    "plt.style.use(\"seaborn\")"
   ]
  },
  {
   "cell_type": "code",
   "execution_count": 2,
   "metadata": {},
   "outputs": [],
   "source": [
    "api = fxcmpy.fxcmpy(config_file= \"fxcm.cfg\")"
   ]
  },
  {
   "cell_type": "code",
   "execution_count": 3,
   "metadata": {},
   "outputs": [],
   "source": [
    "col = [\"tradeId\", \"amountK\", \"currency\", \"grossPL\", \"isBuy\"]"
   ]
  },
  {
   "cell_type": "markdown",
   "metadata": {},
   "source": [
    "__Strategy 1__: SMA 50/200 (minutes) Crossover (200 ticks)"
   ]
  },
  {
   "cell_type": "markdown",
   "metadata": {},
   "source": [
    "## Stop here if you don´t want to see the solution!"
   ]
  },
  {
   "cell_type": "markdown",
   "metadata": {},
   "source": [
    "###############################################################"
   ]
  },
  {
   "cell_type": "code",
   "execution_count": null,
   "metadata": {},
   "outputs": [],
   "source": []
  },
  {
   "cell_type": "code",
   "execution_count": null,
   "metadata": {},
   "outputs": [],
   "source": []
  },
  {
   "cell_type": "code",
   "execution_count": null,
   "metadata": {},
   "outputs": [],
   "source": []
  },
  {
   "cell_type": "code",
   "execution_count": null,
   "metadata": {},
   "outputs": [],
   "source": []
  },
  {
   "cell_type": "code",
   "execution_count": null,
   "metadata": {},
   "outputs": [],
   "source": []
  },
  {
   "cell_type": "code",
   "execution_count": 4,
   "metadata": {},
   "outputs": [],
   "source": [
    "class SMATrader():\n",
    "    \n",
    "    def __init__(self, instrument, bar_length, SMA_S, SMA_L, units):\n",
    "        self.instrument = instrument\n",
    "        self.bar_length = pd.to_timedelta(bar_length) \n",
    "        self.tick_data = None\n",
    "        self.raw_data = None\n",
    "        self.data = None \n",
    "        self.ticks = 0\n",
    "        self.last_bar = None  \n",
    "        self.units = units\n",
    "        self.position = 0\n",
    "        \n",
    "        #*****************add strategy-specific attributes here******************\n",
    "        self.SMA_S = SMA_S\n",
    "        self.SMA_L = SMA_L\n",
    "        #************************************************************************        \n",
    "    \n",
    "    def get_most_recent(self, period = \"m1\", number = 10000):\n",
    "        while True:  \n",
    "            time.sleep(5)\n",
    "            df = api.get_candles(self.instrument, number = number, period = period, columns = [\"bidclose\", \"askclose\"])\n",
    "            df[self.instrument] = (df.bidclose + df.askclose) / 2\n",
    "            df = df[self.instrument].to_frame()\n",
    "            df = df.resample(self.bar_length, label = \"right\").last().dropna().iloc[:-1]\n",
    "            self.raw_data = df.copy()\n",
    "            self.last_bar = self.raw_data.index[-1]\n",
    "            if pd.to_datetime(datetime.utcnow()) - self.last_bar < self.bar_length:\n",
    "                break\n",
    "    \n",
    "    def get_tick_data(self, data, dataframe):\n",
    "        \n",
    "        self.ticks += 1\n",
    "        print(self.ticks, end = \" \")\n",
    "        \n",
    "        recent_tick = pd.to_datetime(data[\"Updated\"], unit = \"ms\")\n",
    "        \n",
    "        # if a time longer than the bar_lenght has elapsed between last full bar and the most recent tick\n",
    "        if recent_tick - self.last_bar > self.bar_length:\n",
    "            self.tick_data = dataframe.loc[self.last_bar:, [\"Bid\", \"Ask\"]]\n",
    "            self.tick_data[self.instrument] = (self.tick_data.Ask + self.tick_data.Bid)/2\n",
    "            self.tick_data = self.tick_data[self.instrument].to_frame()\n",
    "            self.resample_and_join()\n",
    "            self.define_strategy() \n",
    "            self.execute_trades()\n",
    "            \n",
    "    def resample_and_join(self):\n",
    "        self.raw_data = self.raw_data.append(self.tick_data.resample(self.bar_length, \n",
    "                                                             label=\"right\").last().ffill().iloc[:-1])\n",
    "        self.last_bar = self.raw_data.index[-1]  \n",
    "        \n",
    "    def define_strategy(self): # \"strategy-specific\"\n",
    "        df = self.raw_data.copy()\n",
    "        \n",
    "        #******************** define your strategy here ************************\n",
    "        df[\"SMA_S\"] = df[self.instrument].rolling(self.SMA_S).mean()\n",
    "        df[\"SMA_L\"] = df[self.instrument].rolling(self.SMA_L).mean()\n",
    "        df[\"position\"] = np.where(df[\"SMA_S\"] > df[\"SMA_L\"], 1, -1)\n",
    "        #***********************************************************************\n",
    "        \n",
    "        self.data = df.copy()\n",
    "    \n",
    "    def execute_trades(self):\n",
    "        if self.data[\"position\"].iloc[-1] == 1:\n",
    "            if self.position == 0:\n",
    "                order = api.create_market_buy_order(self.instrument, self.units)\n",
    "                self.report_trade(order, \"GOING LONG\") \n",
    "            elif self.position == -1:\n",
    "                order = api.create_market_buy_order(self.instrument, self.units * 2)\n",
    "                self.report_trade(order, \"GOING LONG\") \n",
    "            self.position = 1\n",
    "        elif self.data[\"position\"].iloc[-1] == -1: \n",
    "            if self.position == 0:\n",
    "                order = api.create_market_sell_order(self.instrument, self.units)\n",
    "                self.report_trade(order, \"GOING SHORT\")  \n",
    "            elif self.position == 1:\n",
    "                order = api.create_market_sell_order(self.instrument, self.units * 2)\n",
    "                self.report_trade(order, \"GOING SHORT\")  \n",
    "            self.position = -1\n",
    "        elif self.data[\"position\"].iloc[-1] == 0: \n",
    "            if self.position == -1:\n",
    "                order = api.create_market_buy_order(self.instrument, self.units)\n",
    "                self.report_trade(order, \"GOING NEUTRAL\")  \n",
    "            elif self.position == 1:\n",
    "                order = api.create_market_sell_order(self.instrument, self.units)\n",
    "                self.report_trade(order, \"GOING NEUTRAL\")  \n",
    "            self.position = 0\n",
    "\n",
    "    def report_trade(self, order, going):\n",
    "        time = order.get_time()\n",
    "        units = api.get_open_positions().amountK.iloc[-1]\n",
    "        price = api.get_open_positions().open.iloc[-1]\n",
    "        unreal_pl = api.get_open_positions().grossPL.sum()\n",
    "        print(\"\\n\" + 100* \"-\")\n",
    "        print(\"{} | {}\".format(time, going))\n",
    "        print(\"{} | units = {} | price = {} | Unreal. P&L = {}\".format(time, units, price, unreal_pl))\n",
    "        print(100 * \"-\" + \"\\n\")\n",
    "        "
   ]
  },
  {
   "cell_type": "code",
   "execution_count": 5,
   "metadata": {},
   "outputs": [],
   "source": [
    "trader = SMATrader(\"EUR/USD\", \"1min\", SMA_S = 50, SMA_L = 200, units = 100)"
   ]
  },
  {
   "cell_type": "code",
   "execution_count": 6,
   "metadata": {},
   "outputs": [
    {
     "name": "stdout",
     "output_type": "stream",
     "text": [
      "1 2 3 4 5 6 7 8 9 10 11 12 13 14 15 16 17 18 19 "
     ]
    },
    {
     "name": "stderr",
     "output_type": "stream",
     "text": [
      "C:\\Users\\Ashwin Dev\\AppData\\Local\\Temp\\ipykernel_19988\\2928624386.py:48: FutureWarning: The frame.append method is deprecated and will be removed from pandas in a future version. Use pandas.concat instead.\n",
      "  self.raw_data = self.raw_data.append(self.tick_data.resample(self.bar_length,\n"
     ]
    },
    {
     "name": "stdout",
     "output_type": "stream",
     "text": [
      "20 21 22 23 \n",
      "----------------------------------------------------------------------------------------------------\n",
      "2022-08-22 17:35:03.528000 | GOING SHORT\n",
      "2022-08-22 17:35:03.528000 | units = 100 | price = 0.99298 | Unreal. P&L = -12\n",
      "----------------------------------------------------------------------------------------------------\n",
      "\n",
      "24 25 26 27 28 29 30 31 32 33 34 35 36 37 38 39 40 41 42 43 44 45 46 47 48 49 50 51 52 53 54 55 56 57 58 59 60 61 "
     ]
    },
    {
     "name": "stderr",
     "output_type": "stream",
     "text": [
      "C:\\Users\\Ashwin Dev\\AppData\\Local\\Temp\\ipykernel_19988\\2928624386.py:48: FutureWarning: The frame.append method is deprecated and will be removed from pandas in a future version. Use pandas.concat instead.\n",
      "  self.raw_data = self.raw_data.append(self.tick_data.resample(self.bar_length,\n"
     ]
    },
    {
     "name": "stdout",
     "output_type": "stream",
     "text": [
      "62 63 64 65 66 67 68 69 70 71 72 73 74 75 76 77 78 79 80 81 82 83 84 85 86 87 88 89 90 91 92 93 94 95 96 97 98 99 100 101 102 103 "
     ]
    },
    {
     "name": "stderr",
     "output_type": "stream",
     "text": [
      "C:\\Users\\Ashwin Dev\\AppData\\Local\\Temp\\ipykernel_19988\\2928624386.py:48: FutureWarning: The frame.append method is deprecated and will be removed from pandas in a future version. Use pandas.concat instead.\n",
      "  self.raw_data = self.raw_data.append(self.tick_data.resample(self.bar_length,\n"
     ]
    },
    {
     "name": "stdout",
     "output_type": "stream",
     "text": [
      "104 105 106 107 108 109 110 111 112 113 114 115 116 117 118 119 120 121 122 123 124 125 126 127 128 129 130 131 132 133 134 "
     ]
    },
    {
     "name": "stderr",
     "output_type": "stream",
     "text": [
      "C:\\Users\\Ashwin Dev\\AppData\\Local\\Temp\\ipykernel_19988\\2928624386.py:48: FutureWarning: The frame.append method is deprecated and will be removed from pandas in a future version. Use pandas.concat instead.\n",
      "  self.raw_data = self.raw_data.append(self.tick_data.resample(self.bar_length,\n"
     ]
    },
    {
     "name": "stdout",
     "output_type": "stream",
     "text": [
      "135 136 137 138 139 140 141 142 143 144 145 146 147 148 149 150 151 152 153 154 155 156 157 158 159 160 161 162 163 164 165 166 167 "
     ]
    },
    {
     "name": "stderr",
     "output_type": "stream",
     "text": [
      "C:\\Users\\Ashwin Dev\\AppData\\Local\\Temp\\ipykernel_19988\\2928624386.py:48: FutureWarning: The frame.append method is deprecated and will be removed from pandas in a future version. Use pandas.concat instead.\n",
      "  self.raw_data = self.raw_data.append(self.tick_data.resample(self.bar_length,\n"
     ]
    },
    {
     "name": "stdout",
     "output_type": "stream",
     "text": [
      "168 169 170 171 172 173 174 175 176 177 178 179 180 181 182 183 184 185 186 187 188 189 190 191 192 193 194 195 196 197 198 199 200 201 "
     ]
    },
    {
     "name": "stderr",
     "output_type": "stream",
     "text": [
      "C:\\Users\\Ashwin Dev\\AppData\\Local\\Temp\\ipykernel_19988\\2928624386.py:48: FutureWarning: The frame.append method is deprecated and will be removed from pandas in a future version. Use pandas.concat instead.\n",
      "  self.raw_data = self.raw_data.append(self.tick_data.resample(self.bar_length,\n",
      "C:\\Users\\Ashwin Dev\\AppData\\Local\\Temp\\ipykernel_19988\\2928624386.py:48: FutureWarning: The frame.append method is deprecated and will be removed from pandas in a future version. Use pandas.concat instead.\n",
      "  self.raw_data = self.raw_data.append(self.tick_data.resample(self.bar_length,\n"
     ]
    },
    {
     "name": "stdout",
     "output_type": "stream",
     "text": [
      "202 203 204 205 206 207 208 209 210 211 212 213 214 215 216 217 218 219 220 221 222 223 224 225 226 227 228 229 230 231 232 233 234 235 236 237 238 239 240 241 242 243 244 "
     ]
    },
    {
     "name": "stderr",
     "output_type": "stream",
     "text": [
      "C:\\Users\\Ashwin Dev\\AppData\\Local\\Temp\\ipykernel_19988\\2928624386.py:48: FutureWarning: The frame.append method is deprecated and will be removed from pandas in a future version. Use pandas.concat instead.\n",
      "  self.raw_data = self.raw_data.append(self.tick_data.resample(self.bar_length,\n"
     ]
    },
    {
     "name": "stdout",
     "output_type": "stream",
     "text": [
      "245 246 247 248 249 250 251 252 253 254 255 256 257 258 259 260 261 262 263 264 265 266 267 268 269 270 271 272 273 274 "
     ]
    },
    {
     "name": "stderr",
     "output_type": "stream",
     "text": [
      "C:\\Users\\Ashwin Dev\\AppData\\Local\\Temp\\ipykernel_19988\\2928624386.py:48: FutureWarning: The frame.append method is deprecated and will be removed from pandas in a future version. Use pandas.concat instead.\n",
      "  self.raw_data = self.raw_data.append(self.tick_data.resample(self.bar_length,\n"
     ]
    },
    {
     "name": "stdout",
     "output_type": "stream",
     "text": [
      "275 276 277 278 279 280 281 "
     ]
    }
   ],
   "source": [
    "trader.get_most_recent()\n",
    "api.subscribe_market_data(trader.instrument, (trader.get_tick_data, ))"
   ]
  },
  {
   "cell_type": "code",
   "execution_count": 7,
   "metadata": {},
   "outputs": [
    {
     "name": "stdout",
     "output_type": "stream",
     "text": [
      "282 \n",
      "\n",
      "2022-08-22 17:42:11.574055 | GOING NEUTRAL\n",
      "\n",
      "  tradeId  amountK currency  grossPL  isBuy\n",
      "0             1200  EUR/USD     -316  False\n"
     ]
    }
   ],
   "source": [
    "api.unsubscribe_market_data(trader.instrument)\n",
    "if len(api.get_open_positions()) != 0: # if we have final open position(s) (netting and hedging)\n",
    "    api.close_all_for_symbol(trader.instrument)\n",
    "    print(2*\"\\n\" + \"{} | GOING NEUTRAL\".format(str(datetime.utcnow())) + \"\\n\")\n",
    "    time.sleep(20)\n",
    "    print(api.get_closed_positions_summary()[col])\n",
    "    trader.position = 0"
   ]
  },
  {
   "cell_type": "code",
   "execution_count": 8,
   "metadata": {},
   "outputs": [
    {
     "data": {
      "text/html": [
       "<div>\n",
       "<style scoped>\n",
       "    .dataframe tbody tr th:only-of-type {\n",
       "        vertical-align: middle;\n",
       "    }\n",
       "\n",
       "    .dataframe tbody tr th {\n",
       "        vertical-align: top;\n",
       "    }\n",
       "\n",
       "    .dataframe thead th {\n",
       "        text-align: right;\n",
       "    }\n",
       "</style>\n",
       "<table border=\"1\" class=\"dataframe\">\n",
       "  <thead>\n",
       "    <tr style=\"text-align: right;\">\n",
       "      <th></th>\n",
       "      <th>EUR/USD</th>\n",
       "      <th>SMA_S</th>\n",
       "      <th>SMA_L</th>\n",
       "      <th>position</th>\n",
       "    </tr>\n",
       "  </thead>\n",
       "  <tbody>\n",
       "    <tr>\n",
       "      <th>2022-08-22 17:33:00</th>\n",
       "      <td>0.993020</td>\n",
       "      <td>0.993290</td>\n",
       "      <td>0.994713</td>\n",
       "      <td>-1</td>\n",
       "    </tr>\n",
       "    <tr>\n",
       "      <th>2022-08-22 17:34:00</th>\n",
       "      <td>0.992920</td>\n",
       "      <td>0.993262</td>\n",
       "      <td>0.994691</td>\n",
       "      <td>-1</td>\n",
       "    </tr>\n",
       "    <tr>\n",
       "      <th>2022-08-22 17:35:00</th>\n",
       "      <td>0.993045</td>\n",
       "      <td>0.993238</td>\n",
       "      <td>0.994669</td>\n",
       "      <td>-1</td>\n",
       "    </tr>\n",
       "    <tr>\n",
       "      <th>2022-08-22 17:36:00</th>\n",
       "      <td>0.993015</td>\n",
       "      <td>0.993220</td>\n",
       "      <td>0.994647</td>\n",
       "      <td>-1</td>\n",
       "    </tr>\n",
       "    <tr>\n",
       "      <th>2022-08-22 17:37:00</th>\n",
       "      <td>0.993075</td>\n",
       "      <td>0.993205</td>\n",
       "      <td>0.994626</td>\n",
       "      <td>-1</td>\n",
       "    </tr>\n",
       "    <tr>\n",
       "      <th>2022-08-22 17:38:00</th>\n",
       "      <td>0.993170</td>\n",
       "      <td>0.993191</td>\n",
       "      <td>0.994606</td>\n",
       "      <td>-1</td>\n",
       "    </tr>\n",
       "    <tr>\n",
       "      <th>2022-08-22 17:39:00</th>\n",
       "      <td>0.993325</td>\n",
       "      <td>0.993181</td>\n",
       "      <td>0.994588</td>\n",
       "      <td>-1</td>\n",
       "    </tr>\n",
       "    <tr>\n",
       "      <th>2022-08-22 17:40:00</th>\n",
       "      <td>0.993365</td>\n",
       "      <td>0.993173</td>\n",
       "      <td>0.994570</td>\n",
       "      <td>-1</td>\n",
       "    </tr>\n",
       "    <tr>\n",
       "      <th>2022-08-22 17:41:00</th>\n",
       "      <td>0.993380</td>\n",
       "      <td>0.993164</td>\n",
       "      <td>0.994553</td>\n",
       "      <td>-1</td>\n",
       "    </tr>\n",
       "    <tr>\n",
       "      <th>2022-08-22 17:42:00</th>\n",
       "      <td>0.993380</td>\n",
       "      <td>0.993157</td>\n",
       "      <td>0.994537</td>\n",
       "      <td>-1</td>\n",
       "    </tr>\n",
       "  </tbody>\n",
       "</table>\n",
       "</div>"
      ],
      "text/plain": [
       "                      EUR/USD     SMA_S     SMA_L  position\n",
       "2022-08-22 17:33:00  0.993020  0.993290  0.994713        -1\n",
       "2022-08-22 17:34:00  0.992920  0.993262  0.994691        -1\n",
       "2022-08-22 17:35:00  0.993045  0.993238  0.994669        -1\n",
       "2022-08-22 17:36:00  0.993015  0.993220  0.994647        -1\n",
       "2022-08-22 17:37:00  0.993075  0.993205  0.994626        -1\n",
       "2022-08-22 17:38:00  0.993170  0.993191  0.994606        -1\n",
       "2022-08-22 17:39:00  0.993325  0.993181  0.994588        -1\n",
       "2022-08-22 17:40:00  0.993365  0.993173  0.994570        -1\n",
       "2022-08-22 17:41:00  0.993380  0.993164  0.994553        -1\n",
       "2022-08-22 17:42:00  0.993380  0.993157  0.994537        -1"
      ]
     },
     "execution_count": 8,
     "metadata": {},
     "output_type": "execute_result"
    }
   ],
   "source": [
    "trader.data.tail(10)"
   ]
  },
  {
   "cell_type": "code",
   "execution_count": 9,
   "metadata": {},
   "outputs": [
    {
     "data": {
      "image/png": "[encoded data removed]",
      "text/plain": [
       "<Figure size 864x576 with 2 Axes>"
      ]
     },
     "metadata": {},
     "output_type": "display_data"
    }
   ],
   "source": [
    "trader.data.tail(30).plot(figsize = (12, 8), secondary_y = \"position\")\n",
    "plt.show()"
   ]
  },
  {
   "cell_type": "code",
   "execution_count": null,
   "metadata": {},
   "outputs": [],
   "source": []
  },
  {
   "cell_type": "markdown",
   "metadata": {},
   "source": [
    "__Strategy 2__: Bollinger Bands SMA 20 (minutes) / 1 Standard Deviation (200 ticks) "
   ]
  },
  {
   "cell_type": "markdown",
   "metadata": {},
   "source": [
    "## Stop here if you don´t want to see the solution!"
   ]
  },
  {
   "cell_type": "markdown",
   "metadata": {},
   "source": [
    "###############################################################"
   ]
  },
  {
   "cell_type": "code",
   "execution_count": null,
   "metadata": {},
   "outputs": [],
   "source": []
  },
  {
   "cell_type": "code",
   "execution_count": null,
   "metadata": {},
   "outputs": [],
   "source": []
  },
  {
   "cell_type": "code",
   "execution_count": null,
   "metadata": {},
   "outputs": [],
   "source": []
  },
  {
   "cell_type": "code",
   "execution_count": 10,
   "metadata": {},
   "outputs": [],
   "source": [
    "class BollTrader():\n",
    "    \n",
    "    def __init__(self, instrument, bar_length, SMA, dev, units):\n",
    "        self.instrument = instrument\n",
    "        self.bar_length = pd.to_timedelta(bar_length) \n",
    "        self.tick_data = None\n",
    "        self.raw_data = None\n",
    "        self.data = None \n",
    "        self.ticks = 0\n",
    "        self.last_bar = None  \n",
    "        self.units = units\n",
    "        self.position = 0\n",
    "        \n",
    "        #*****************add strategy-specific attributes here******************\n",
    "        self.SMA = SMA\n",
    "        self.dev = dev\n",
    "        #************************************************************************        \n",
    "    \n",
    "    def get_most_recent(self, period = \"m1\", number = 10000):\n",
    "        while True:  \n",
    "            time.sleep(5)\n",
    "            df = api.get_candles(self.instrument, number = number, period = period, columns = [\"bidclose\", \"askclose\"])\n",
    "            df[self.instrument] = (df.bidclose + df.askclose) / 2\n",
    "            df = df[self.instrument].to_frame()\n",
    "            df = df.resample(self.bar_length, label = \"right\").last().dropna().iloc[:-1]\n",
    "            self.raw_data = df.copy()\n",
    "            self.last_bar = self.raw_data.index[-1]\n",
    "            if pd.to_datetime(datetime.utcnow()) - self.last_bar < self.bar_length:\n",
    "                break\n",
    "    \n",
    "    def get_tick_data(self, data, dataframe):\n",
    "        \n",
    "        self.ticks += 1\n",
    "        print(self.ticks, end = \" \")\n",
    "        \n",
    "        recent_tick = pd.to_datetime(data[\"Updated\"], unit = \"ms\")\n",
    "        \n",
    "        # if a time longer than the bar_lenght has elapsed between last full bar and the most recent tick\n",
    "        if recent_tick - self.last_bar > self.bar_length:\n",
    "            self.tick_data = dataframe.loc[self.last_bar:, [\"Bid\", \"Ask\"]]\n",
    "            self.tick_data[self.instrument] = (self.tick_data.Ask + self.tick_data.Bid)/2\n",
    "            self.tick_data = self.tick_data[self.instrument].to_frame()\n",
    "            self.resample_and_join()\n",
    "            self.define_strategy() \n",
    "            self.execute_trades()\n",
    "            \n",
    "    def resample_and_join(self):\n",
    "        self.raw_data = self.raw_data.append(self.tick_data.resample(self.bar_length, \n",
    "                                                             label=\"right\").last().ffill().iloc[:-1])\n",
    "        self.last_bar = self.raw_data.index[-1]  \n",
    "        \n",
    "    def define_strategy(self): # \"strategy-specific\"\n",
    "        df = self.raw_data.copy()\n",
    "        \n",
    "        #******************** define your strategy here ************************\n",
    "        df[\"SMA\"] = df[self.instrument].rolling(self.SMA).mean()\n",
    "        df[\"Lower\"] = df[\"SMA\"] - df[self.instrument].rolling(self.SMA).std() * self.dev\n",
    "        df[\"Upper\"] = df[\"SMA\"] + df[self.instrument].rolling(self.SMA).std() * self.dev\n",
    "        df[\"distance\"] = df[self.instrument] - df.SMA\n",
    "        df[\"position\"] = np.where(df[self.instrument] < df.Lower, 1, np.nan)\n",
    "        df[\"position\"] = np.where(df[self.instrument] > df.Upper, -1, df[\"position\"])\n",
    "        df[\"position\"] = np.where(df.distance * df.distance.shift(1) < 0, 0, df[\"position\"])\n",
    "        df[\"position\"] = df.position.ffill().fillna(0)\n",
    "        #***********************************************************************\n",
    "        \n",
    "        self.data = df.copy()\n",
    "    \n",
    "    def execute_trades(self):\n",
    "        if self.data[\"position\"].iloc[-1] == 1:\n",
    "            if self.position == 0:\n",
    "                order = api.create_market_buy_order(self.instrument, self.units)\n",
    "                self.report_trade(order, \"GOING LONG\")  \n",
    "            elif self.position == -1:\n",
    "                order = api.create_market_buy_order(self.instrument, self.units * 2)\n",
    "                self.report_trade(order, \"GOING LONG\")  \n",
    "            self.position = 1\n",
    "        elif self.data[\"position\"].iloc[-1] == -1: \n",
    "            if self.position == 0:\n",
    "                order = api.create_market_sell_order(self.instrument, self.units)\n",
    "                self.report_trade(order, \"GOING SHORT\")  \n",
    "            elif self.position == 1:\n",
    "                order = api.create_market_sell_order(self.instrument, self.units * 2)\n",
    "                self.report_trade(order, \"GOING SHORT\")  \n",
    "            self.position = -1\n",
    "        elif self.data[\"position\"].iloc[-1] == 0: \n",
    "            if self.position == -1:\n",
    "                order = api.create_market_buy_order(self.instrument, self.units)\n",
    "                self.report_trade(order, \"GOING NEUTRAL\") \n",
    "            elif self.position == 1:\n",
    "                order = api.create_market_sell_order(self.instrument, self.units)\n",
    "                self.report_trade(order, \"GOING NEUTRAL\")  \n",
    "            self.position = 0\n",
    "\n",
    "    def report_trade(self, order, going):\n",
    "        time = order.get_time()\n",
    "        units = api.get_open_positions().amountK.iloc[-1]\n",
    "        price = api.get_open_positions().open.iloc[-1]\n",
    "        unreal_pl = api.get_open_positions().grossPL.sum()\n",
    "        print(\"\\n\" + 100* \"-\")\n",
    "        print(\"{} | {}\".format(time, going))\n",
    "        print(\"{} | units = {} | price = {} | Unreal. P&L = {}\".format(time, units, price, unreal_pl))\n",
    "        print(100 * \"-\" + \"\\n\")\n",
    "        "
   ]
  },
  {
   "cell_type": "code",
   "execution_count": 11,
   "metadata": {},
   "outputs": [],
   "source": [
    "trader = BollTrader(\"EUR/USD\", \"1min\", SMA = 20, dev = 1, units = 100)"
   ]
  },
  {
   "cell_type": "code",
   "execution_count": 12,
   "metadata": {},
   "outputs": [
    {
     "name": "stdout",
     "output_type": "stream",
     "text": [
      "1 "
     ]
    },
    {
     "name": "stderr",
     "output_type": "stream",
     "text": [
      "C:\\Users\\Ashwin Dev\\AppData\\Local\\Temp\\ipykernel_19988\\3068093456.py:48: FutureWarning: The frame.append method is deprecated and will be removed from pandas in a future version. Use pandas.concat instead.\n",
      "  self.raw_data = self.raw_data.append(self.tick_data.resample(self.bar_length,\n"
     ]
    },
    {
     "name": "stdout",
     "output_type": "stream",
     "text": [
      "2 3 "
     ]
    },
    {
     "name": "stderr",
     "output_type": "stream",
     "text": [
      "C:\\Users\\Ashwin Dev\\AppData\\Local\\Temp\\ipykernel_19988\\3068093456.py:48: FutureWarning: The frame.append method is deprecated and will be removed from pandas in a future version. Use pandas.concat instead.\n",
      "  self.raw_data = self.raw_data.append(self.tick_data.resample(self.bar_length,\n",
      "C:\\Users\\Ashwin Dev\\AppData\\Local\\Temp\\ipykernel_19988\\3068093456.py:48: FutureWarning: The frame.append method is deprecated and will be removed from pandas in a future version. Use pandas.concat instead.\n",
      "  self.raw_data = self.raw_data.append(self.tick_data.resample(self.bar_length,\n"
     ]
    },
    {
     "name": "stdout",
     "output_type": "stream",
     "text": [
      "4 "
     ]
    },
    {
     "name": "stderr",
     "output_type": "stream",
     "text": [
      "C:\\Users\\Ashwin Dev\\AppData\\Local\\Temp\\ipykernel_19988\\3068093456.py:48: FutureWarning: The frame.append method is deprecated and will be removed from pandas in a future version. Use pandas.concat instead.\n",
      "  self.raw_data = self.raw_data.append(self.tick_data.resample(self.bar_length,\n"
     ]
    },
    {
     "name": "stdout",
     "output_type": "stream",
     "text": [
      "5 "
     ]
    },
    {
     "name": "stderr",
     "output_type": "stream",
     "text": [
      "C:\\Users\\Ashwin Dev\\AppData\\Local\\Temp\\ipykernel_19988\\3068093456.py:48: FutureWarning: The frame.append method is deprecated and will be removed from pandas in a future version. Use pandas.concat instead.\n",
      "  self.raw_data = self.raw_data.append(self.tick_data.resample(self.bar_length,\n"
     ]
    },
    {
     "name": "stdout",
     "output_type": "stream",
     "text": [
      "6 "
     ]
    },
    {
     "name": "stderr",
     "output_type": "stream",
     "text": [
      "C:\\Users\\Ashwin Dev\\AppData\\Local\\Temp\\ipykernel_19988\\3068093456.py:48: FutureWarning: The frame.append method is deprecated and will be removed from pandas in a future version. Use pandas.concat instead.\n",
      "  self.raw_data = self.raw_data.append(self.tick_data.resample(self.bar_length,\n"
     ]
    },
    {
     "name": "stdout",
     "output_type": "stream",
     "text": [
      "7 "
     ]
    },
    {
     "name": "stderr",
     "output_type": "stream",
     "text": [
      "C:\\Users\\Ashwin Dev\\AppData\\Local\\Temp\\ipykernel_19988\\3068093456.py:48: FutureWarning: The frame.append method is deprecated and will be removed from pandas in a future version. Use pandas.concat instead.\n",
      "  self.raw_data = self.raw_data.append(self.tick_data.resample(self.bar_length,\n",
      "Exception in thread Thread-8448:\n",
      "Traceback (most recent call last):\n",
      "  File \"C:\\Users\\Ashwin Dev\\anaconda3\\lib\\site-packages\\urllib3\\connectionpool.py\", line 703, in urlopen\n",
      "    httplib_response = self._make_request(\n",
      "  File \"C:\\Users\\Ashwin Dev\\anaconda3\\lib\\site-packages\\urllib3\\connectionpool.py\", line 449, in _make_request\n",
      "    six.raise_from(e, None)\n",
      "  File \"<string>\", line 3, in raise_from\n",
      "  File \"C:\\Users\\Ashwin Dev\\anaconda3\\lib\\site-packages\\urllib3\\connectionpool.py\", line 444, in _make_request\n",
      "    httplib_response = conn.getresponse()\n",
      "  File \"C:\\Users\\Ashwin Dev\\anaconda3\\lib\\http\\client.py\", line 1377, in getresponse\n",
      "    response.begin()\n",
      "  File \"C:\\Users\\Ashwin Dev\\anaconda3\\lib\\http\\client.py\", line 320, in begin\n",
      "    version, status, reason = self._read_status()\n",
      "  File \"C:\\Users\\Ashwin Dev\\anaconda3\\lib\\http\\client.py\", line 281, in _read_status\n",
      "    line = str(self.fp.readline(_MAXLINE + 1), \"iso-8859-1\")\n",
      "  File \"C:\\Users\\Ashwin Dev\\anaconda3\\lib\\socket.py\", line 704, in readinto\n",
      "    return self._sock.recv_into(b)\n",
      "  File \"C:\\Users\\Ashwin Dev\\anaconda3\\lib\\ssl.py\", line 1241, in recv_into\n",
      "    return self.read(nbytes, buffer)\n",
      "  File \"C:\\Users\\Ashwin Dev\\anaconda3\\lib\\ssl.py\", line 1099, in read\n",
      "    return self._sslobj.read(len, buffer)\n",
      "ConnectionResetError: [WinError 10054] An existing connection was forcibly closed by the remote host\n",
      "\n",
      "During handling of the above exception, another exception occurred:\n",
      "\n",
      "Traceback (most recent call last):\n",
      "  File \"C:\\Users\\Ashwin Dev\\anaconda3\\lib\\site-packages\\requests\\adapters.py\", line 440, in send\n",
      "    resp = conn.urlopen(\n",
      "  File \"C:\\Users\\Ashwin Dev\\anaconda3\\lib\\site-packages\\urllib3\\connectionpool.py\", line 785, in urlopen\n",
      "    retries = retries.increment(\n",
      "  File \"C:\\Users\\Ashwin Dev\\anaconda3\\lib\\site-packages\\urllib3\\util\\retry.py\", line 550, in increment\n",
      "    raise six.reraise(type(error), error, _stacktrace)\n",
      "  File \"C:\\Users\\Ashwin Dev\\anaconda3\\lib\\site-packages\\urllib3\\packages\\six.py\", line 769, in reraise\n",
      "    raise value.with_traceback(tb)\n",
      "  File \"C:\\Users\\Ashwin Dev\\anaconda3\\lib\\site-packages\\urllib3\\connectionpool.py\", line 703, in urlopen\n",
      "    httplib_response = self._make_request(\n",
      "  File \"C:\\Users\\Ashwin Dev\\anaconda3\\lib\\site-packages\\urllib3\\connectionpool.py\", line 449, in _make_request\n",
      "    six.raise_from(e, None)\n",
      "  File \"<string>\", line 3, in raise_from\n",
      "  File \"C:\\Users\\Ashwin Dev\\anaconda3\\lib\\site-packages\\urllib3\\connectionpool.py\", line 444, in _make_request\n",
      "    httplib_response = conn.getresponse()\n",
      "  File \"C:\\Users\\Ashwin Dev\\anaconda3\\lib\\http\\client.py\", line 1377, in getresponse\n",
      "    response.begin()\n",
      "  File \"C:\\Users\\Ashwin Dev\\anaconda3\\lib\\http\\client.py\", line 320, in begin\n",
      "    version, status, reason = self._read_status()\n",
      "  File \"C:\\Users\\Ashwin Dev\\anaconda3\\lib\\http\\client.py\", line 281, in _read_status\n",
      "    line = str(self.fp.readline(_MAXLINE + 1), \"iso-8859-1\")\n",
      "  File \"C:\\Users\\Ashwin Dev\\anaconda3\\lib\\socket.py\", line 704, in readinto\n",
      "    return self._sock.recv_into(b)\n",
      "  File \"C:\\Users\\Ashwin Dev\\anaconda3\\lib\\ssl.py\", line 1241, in recv_into\n",
      "    return self.read(nbytes, buffer)\n",
      "  File \"C:\\Users\\Ashwin Dev\\anaconda3\\lib\\ssl.py\", line 1099, in read\n",
      "    return self._sslobj.read(len, buffer)\n",
      "urllib3.exceptions.ProtocolError: ('Connection aborted.', ConnectionResetError(10054, 'An existing connection was forcibly closed by the remote host', None, 10054, None))\n",
      "\n",
      "During handling of the above exception, another exception occurred:\n",
      "\n",
      "Traceback (most recent call last):\n",
      "  File \"C:\\Users\\Ashwin Dev\\anaconda3\\lib\\threading.py\", line 973, in _bootstrap_inner\n",
      "    self.run()\n",
      "  File \"C:\\Users\\Ashwin Dev\\anaconda3\\lib\\threading.py\", line 910, in run\n",
      "    self._target(*self._args, **self._kwargs)\n",
      "  File \"C:\\Users\\Ashwin Dev\\anaconda3\\lib\\site-packages\\socketio\\client.py\", line 615, in _handle_eio_message\n",
      "    self._handle_event(pkt.namespace, pkt.id, pkt.data)\n",
      "  File \"C:\\Users\\Ashwin Dev\\anaconda3\\lib\\site-packages\\socketio\\client.py\", line 501, in _handle_event\n",
      "    r = self._trigger_event(data[0], namespace, *data[1:])\n",
      "  File \"C:\\Users\\Ashwin Dev\\anaconda3\\lib\\site-packages\\socketio\\client.py\", line 547, in _trigger_event\n",
      "    return self.handlers[namespace][event](*args)\n",
      "  File \"C:\\Users\\Ashwin Dev\\anaconda3\\lib\\site-packages\\fxcmpy\\fxcmpy.py\", line 2575, in __on_price_update__\n",
      "    callbacks[func](data, self.prices[symbol])\n",
      "  File \"C:\\Users\\Ashwin Dev\\AppData\\Local\\Temp\\ipykernel_19988\\3068093456.py\", line 45, in get_tick_data\n",
      "  File \"C:\\Users\\Ashwin Dev\\AppData\\Local\\Temp\\ipykernel_19988\\3068093456.py\", line 80, in execute_trades\n",
      "  File \"C:\\Users\\Ashwin Dev\\AppData\\Local\\Temp\\ipykernel_19988\\3068093456.py\", line 96, in report_trade\n",
      "  File \"C:\\Users\\Ashwin Dev\\anaconda3\\lib\\site-packages\\fxcmpy\\fxcmpy.py\", line 374, in get_open_positions\n",
      "    data = self.get_model(('OpenPosition',))\n",
      "  File \"C:\\Users\\Ashwin Dev\\anaconda3\\lib\\site-packages\\fxcmpy\\fxcmpy.py\", line 346, in get_model\n",
      "    data = self.__handle_request__(method='trading/get_model',\n",
      "  File \"C:\\Users\\Ashwin Dev\\anaconda3\\lib\\site-packages\\fxcmpy\\fxcmpy.py\", line 2498, in __handle_request__\n",
      "    req = requests.get('%s:443/%s' % (self.trading_url, method),\n",
      "  File \"C:\\Users\\Ashwin Dev\\anaconda3\\lib\\site-packages\\requests\\api.py\", line 75, in get\n",
      "    return request('get', url, params=params, **kwargs)\n",
      "  File \"C:\\Users\\Ashwin Dev\\anaconda3\\lib\\site-packages\\requests\\api.py\", line 61, in request\n",
      "    return session.request(method=method, url=url, **kwargs)\n",
      "  File \"C:\\Users\\Ashwin Dev\\anaconda3\\lib\\site-packages\\requests\\sessions.py\", line 529, in request\n",
      "    resp = self.send(prep, **send_kwargs)\n",
      "  File \"C:\\Users\\Ashwin Dev\\anaconda3\\lib\\site-packages\\requests\\sessions.py\", line 645, in send\n",
      "    r = adapter.send(request, **kwargs)\n",
      "  File \"C:\\Users\\Ashwin Dev\\anaconda3\\lib\\site-packages\\requests\\adapters.py\", line 501, in send\n",
      "    raise ConnectionError(err, request=request)\n",
      "requests.exceptions.ConnectionError: ('Connection aborted.', ConnectionResetError(10054, 'An existing connection was forcibly closed by the remote host', None, 10054, None))\n"
     ]
    },
    {
     "name": "stdout",
     "output_type": "stream",
     "text": [
      "8 "
     ]
    },
    {
     "name": "stderr",
     "output_type": "stream",
     "text": [
      "C:\\Users\\Ashwin Dev\\AppData\\Local\\Temp\\ipykernel_19988\\3068093456.py:48: FutureWarning: The frame.append method is deprecated and will be removed from pandas in a future version. Use pandas.concat instead.\n",
      "  self.raw_data = self.raw_data.append(self.tick_data.resample(self.bar_length,\n"
     ]
    },
    {
     "name": "stdout",
     "output_type": "stream",
     "text": [
      "9 "
     ]
    },
    {
     "name": "stderr",
     "output_type": "stream",
     "text": [
      "C:\\Users\\Ashwin Dev\\AppData\\Local\\Temp\\ipykernel_19988\\3068093456.py:48: FutureWarning: The frame.append method is deprecated and will be removed from pandas in a future version. Use pandas.concat instead.\n",
      "  self.raw_data = self.raw_data.append(self.tick_data.resample(self.bar_length,\n"
     ]
    },
    {
     "name": "stdout",
     "output_type": "stream",
     "text": [
      "10 "
     ]
    },
    {
     "name": "stderr",
     "output_type": "stream",
     "text": [
      "C:\\Users\\Ashwin Dev\\AppData\\Local\\Temp\\ipykernel_19988\\3068093456.py:48: FutureWarning: The frame.append method is deprecated and will be removed from pandas in a future version. Use pandas.concat instead.\n",
      "  self.raw_data = self.raw_data.append(self.tick_data.resample(self.bar_length,\n"
     ]
    },
    {
     "name": "stdout",
     "output_type": "stream",
     "text": [
      "11 "
     ]
    },
    {
     "name": "stderr",
     "output_type": "stream",
     "text": [
      "C:\\Users\\Ashwin Dev\\AppData\\Local\\Temp\\ipykernel_19988\\3068093456.py:48: FutureWarning: The frame.append method is deprecated and will be removed from pandas in a future version. Use pandas.concat instead.\n",
      "  self.raw_data = self.raw_data.append(self.tick_data.resample(self.bar_length,\n"
     ]
    },
    {
     "name": "stdout",
     "output_type": "stream",
     "text": [
      "12 "
     ]
    },
    {
     "name": "stderr",
     "output_type": "stream",
     "text": [
      "C:\\Users\\Ashwin Dev\\AppData\\Local\\Temp\\ipykernel_19988\\3068093456.py:48: FutureWarning: The frame.append method is deprecated and will be removed from pandas in a future version. Use pandas.concat instead.\n",
      "  self.raw_data = self.raw_data.append(self.tick_data.resample(self.bar_length,\n"
     ]
    },
    {
     "name": "stdout",
     "output_type": "stream",
     "text": [
      "13 "
     ]
    },
    {
     "name": "stderr",
     "output_type": "stream",
     "text": [
      "C:\\Users\\Ashwin Dev\\AppData\\Local\\Temp\\ipykernel_19988\\3068093456.py:48: FutureWarning: The frame.append method is deprecated and will be removed from pandas in a future version. Use pandas.concat instead.\n",
      "  self.raw_data = self.raw_data.append(self.tick_data.resample(self.bar_length,\n"
     ]
    },
    {
     "name": "stdout",
     "output_type": "stream",
     "text": [
      "14 "
     ]
    },
    {
     "name": "stderr",
     "output_type": "stream",
     "text": [
      "C:\\Users\\Ashwin Dev\\AppData\\Local\\Temp\\ipykernel_19988\\3068093456.py:48: FutureWarning: The frame.append method is deprecated and will be removed from pandas in a future version. Use pandas.concat instead.\n",
      "  self.raw_data = self.raw_data.append(self.tick_data.resample(self.bar_length,\n"
     ]
    },
    {
     "name": "stdout",
     "output_type": "stream",
     "text": [
      "\n",
      "----------------------------------------------------------------------------------------------------\n",
      "2022-08-22 17:45:05.533000 | GOING SHORT\n",
      "2022-08-22 17:45:05.533000 | units = 100 | price = 0.9936 | Unreal. P&L = -198\n",
      "----------------------------------------------------------------------------------------------------\n",
      "\n",
      "\n",
      "----------------------------------------------------------------------------------------------------\n",
      "2022-08-22 17:45:05.533000 | GOING SHORT\n",
      "2022-08-22 17:45:05.533000 | units = 100 | price = 0.9936 | Unreal. P&L = -198\n",
      "----------------------------------------------------------------------------------------------------\n",
      "\n",
      "15 "
     ]
    },
    {
     "name": "stderr",
     "output_type": "stream",
     "text": [
      "C:\\Users\\Ashwin Dev\\AppData\\Local\\Temp\\ipykernel_19988\\3068093456.py:48: FutureWarning: The frame.append method is deprecated and will be removed from pandas in a future version. Use pandas.concat instead.\n",
      "  self.raw_data = self.raw_data.append(self.tick_data.resample(self.bar_length,\n"
     ]
    },
    {
     "name": "stdout",
     "output_type": "stream",
     "text": [
      "\n",
      "----------------------------------------------------------------------------------------------------\n",
      "2022-08-22 17:45:10.537000 | GOING SHORT\n",
      "2022-08-22 17:45:10.537000 | units = 100 | price = 0.9936 | Unreal. P&L = -198\n",
      "----------------------------------------------------------------------------------------------------\n",
      "\n",
      "\n",
      "----------------------------------------------------------------------------------------------------\n",
      "2022-08-22 17:45:10.535000 | GOING SHORT\n",
      "2022-08-22 17:45:10.535000 | units = 100 | price = 0.9936 | Unreal. P&L = -198\n",
      "----------------------------------------------------------------------------------------------------\n",
      "\n",
      "\n",
      "----------------------------------------------------------------------------------------------------\n",
      "2022-08-22 17:45:11.798000 | GOING SHORT\n",
      "----------------------------------------------------------------------------------------------------\n",
      "2022-08-22 17:45:10.537000 | GOING SHORT\n",
      "2022-08-22 17:45:10.537000 | units = 100 | price = 0.9936 | Unreal. P&L = -211\n",
      "----------------------------------------------------------------------------------------------------\n",
      "\n",
      "\n",
      "2022-08-22 17:45:11.798000 | units = 100 | price = 0.9936 | Unreal. P&L = -211\n",
      "----------------------------------------------------------------------------------------------------\n",
      "\n",
      "\n",
      "----------------------------------------------------------------------------------------------------\n",
      "2022-08-22 17:45:11.586000 | GOING SHORT\n",
      "2022-08-22 17:45:11.586000 | units = 100 | price = 0.9936 | Unreal. P&L = -211\n",
      "----------------------------------------------------------------------------------------------------\n",
      "\n",
      "\n",
      "----------------------------------------------------------------------------------------------------\n",
      "2022-08-22 17:45:11.799000 | GOING SHORT\n",
      "2022-08-22 17:45:11.799000 | units = 100 | price = 0.9936 | Unreal. P&L = -211\n",
      "----------------------------------------------------------------------------------------------------\n",
      "\n",
      "\n",
      "----------------------------------------------------------------------------------------------------\n",
      "2022-08-22 17:45:06.123000 | GOING SHORT\n",
      "2022-08-22 17:45:06.123000 | units = 100 | price = 0.9936 | Unreal. P&L = -211\n",
      "----------------------------------------------------------------------------------------------------\n",
      "\n",
      "\n",
      "----------------------------------------------------------------------------------------------------\n",
      "2022-08-22 17:45:05.532000 | GOING SHORT\n",
      "2022-08-22 17:45:05.532000 | units = 100 | price = 0.9936 | Unreal. P&L = -211\n",
      "----------------------------------------------------------------------------------------------------\n",
      "\n",
      "\n",
      "----------------------------------------------------------------------------------------------------\n",
      "2022-08-22 17:45:12.339000 | GOING SHORT\n",
      "2022-08-22 17:45:12.339000 | units = 100 | price = 0.99364 | Unreal. P&L = -224\n",
      "----------------------------------------------------------------------------------------------------\n",
      "\n",
      "16 "
     ]
    },
    {
     "name": "stderr",
     "output_type": "stream",
     "text": [
      "C:\\Users\\Ashwin Dev\\AppData\\Local\\Temp\\ipykernel_19988\\3068093456.py:48: FutureWarning: The frame.append method is deprecated and will be removed from pandas in a future version. Use pandas.concat instead.\n",
      "  self.raw_data = self.raw_data.append(self.tick_data.resample(self.bar_length,\n"
     ]
    },
    {
     "name": "stdout",
     "output_type": "stream",
     "text": [
      "17 18 "
     ]
    },
    {
     "name": "stderr",
     "output_type": "stream",
     "text": [
      "C:\\Users\\Ashwin Dev\\AppData\\Local\\Temp\\ipykernel_19988\\3068093456.py:48: FutureWarning: The frame.append method is deprecated and will be removed from pandas in a future version. Use pandas.concat instead.\n",
      "  self.raw_data = self.raw_data.append(self.tick_data.resample(self.bar_length,\n",
      "C:\\Users\\Ashwin Dev\\AppData\\Local\\Temp\\ipykernel_19988\\3068093456.py:48: FutureWarning: The frame.append method is deprecated and will be removed from pandas in a future version. Use pandas.concat instead.\n",
      "  self.raw_data = self.raw_data.append(self.tick_data.resample(self.bar_length,\n"
     ]
    },
    {
     "name": "stdout",
     "output_type": "stream",
     "text": [
      "19 20 "
     ]
    },
    {
     "name": "stderr",
     "output_type": "stream",
     "text": [
      "C:\\Users\\Ashwin Dev\\AppData\\Local\\Temp\\ipykernel_19988\\3068093456.py:48: FutureWarning: The frame.append method is deprecated and will be removed from pandas in a future version. Use pandas.concat instead.\n",
      "  self.raw_data = self.raw_data.append(self.tick_data.resample(self.bar_length,\n",
      "C:\\Users\\Ashwin Dev\\AppData\\Local\\Temp\\ipykernel_19988\\3068093456.py:48: FutureWarning: The frame.append method is deprecated and will be removed from pandas in a future version. Use pandas.concat instead.\n",
      "  self.raw_data = self.raw_data.append(self.tick_data.resample(self.bar_length,\n"
     ]
    },
    {
     "name": "stdout",
     "output_type": "stream",
     "text": [
      "21 "
     ]
    },
    {
     "name": "stderr",
     "output_type": "stream",
     "text": [
      "C:\\Users\\Ashwin Dev\\AppData\\Local\\Temp\\ipykernel_19988\\3068093456.py:48: FutureWarning: The frame.append method is deprecated and will be removed from pandas in a future version. Use pandas.concat instead.\n",
      "  self.raw_data = self.raw_data.append(self.tick_data.resample(self.bar_length,\n"
     ]
    },
    {
     "name": "stdout",
     "output_type": "stream",
     "text": [
      "22 23 24 "
     ]
    },
    {
     "name": "stderr",
     "output_type": "stream",
     "text": [
      "C:\\Users\\Ashwin Dev\\AppData\\Local\\Temp\\ipykernel_19988\\3068093456.py:48: FutureWarning: The frame.append method is deprecated and will be removed from pandas in a future version. Use pandas.concat instead.\n",
      "  self.raw_data = self.raw_data.append(self.tick_data.resample(self.bar_length,\n",
      "C:\\Users\\Ashwin Dev\\AppData\\Local\\Temp\\ipykernel_19988\\3068093456.py:48: FutureWarning: The frame.append method is deprecated and will be removed from pandas in a future version. Use pandas.concat instead.\n",
      "  self.raw_data = self.raw_data.append(self.tick_data.resample(self.bar_length,\n",
      "C:\\Users\\Ashwin Dev\\AppData\\Local\\Temp\\ipykernel_19988\\3068093456.py:48: FutureWarning: The frame.append method is deprecated and will be removed from pandas in a future version. Use pandas.concat instead.\n",
      "  self.raw_data = self.raw_data.append(self.tick_data.resample(self.bar_length,\n"
     ]
    },
    {
     "name": "stdout",
     "output_type": "stream",
     "text": [
      "\n",
      "----------------------------------------------------------------------------------------------------\n",
      "2022-08-22 17:45:14.723000 | GOING SHORT\n",
      "2022-08-22 17:45:14.723000 | units = 100 | price = 0.99364 | Unreal. P&L = -112\n",
      "----------------------------------------------------------------------------------------------------\n",
      "\n",
      "25 26 "
     ]
    },
    {
     "name": "stderr",
     "output_type": "stream",
     "text": [
      "C:\\Users\\Ashwin Dev\\AppData\\Local\\Temp\\ipykernel_19988\\3068093456.py:48: FutureWarning: The frame.append method is deprecated and will be removed from pandas in a future version. Use pandas.concat instead.\n",
      "  self.raw_data = self.raw_data.append(self.tick_data.resample(self.bar_length,\n",
      "C:\\Users\\Ashwin Dev\\AppData\\Local\\Temp\\ipykernel_19988\\3068093456.py:48: FutureWarning: The frame.append method is deprecated and will be removed from pandas in a future version. Use pandas.concat instead.\n",
      "  self.raw_data = self.raw_data.append(self.tick_data.resample(self.bar_length,\n"
     ]
    },
    {
     "name": "stdout",
     "output_type": "stream",
     "text": [
      "\n",
      "----------------------------------------------------------------------------------------------------\n",
      "2022-08-22 17:45:15.658000 | GOING SHORT\n",
      "2022-08-22 17:45:15.658000 | units = 100 | price = 0.99364 | Unreal. P&L = -112\n",
      "----------------------------------------------------------------------------------------------------\n",
      "\n",
      "27 "
     ]
    },
    {
     "name": "stderr",
     "output_type": "stream",
     "text": [
      "C:\\Users\\Ashwin Dev\\AppData\\Local\\Temp\\ipykernel_19988\\3068093456.py:48: FutureWarning: The frame.append method is deprecated and will be removed from pandas in a future version. Use pandas.concat instead.\n",
      "  self.raw_data = self.raw_data.append(self.tick_data.resample(self.bar_length,\n"
     ]
    },
    {
     "name": "stdout",
     "output_type": "stream",
     "text": [
      "28 "
     ]
    },
    {
     "name": "stderr",
     "output_type": "stream",
     "text": [
      "C:\\Users\\Ashwin Dev\\AppData\\Local\\Temp\\ipykernel_19988\\3068093456.py:48: FutureWarning: The frame.append method is deprecated and will be removed from pandas in a future version. Use pandas.concat instead.\n",
      "  self.raw_data = self.raw_data.append(self.tick_data.resample(self.bar_length,\n"
     ]
    },
    {
     "name": "stdout",
     "output_type": "stream",
     "text": [
      "29 30 "
     ]
    },
    {
     "name": "stderr",
     "output_type": "stream",
     "text": [
      "C:\\Users\\Ashwin Dev\\AppData\\Local\\Temp\\ipykernel_19988\\3068093456.py:48: FutureWarning: The frame.append method is deprecated and will be removed from pandas in a future version. Use pandas.concat instead.\n",
      "  self.raw_data = self.raw_data.append(self.tick_data.resample(self.bar_length,\n",
      "C:\\Users\\Ashwin Dev\\AppData\\Local\\Temp\\ipykernel_19988\\3068093456.py:48: FutureWarning: The frame.append method is deprecated and will be removed from pandas in a future version. Use pandas.concat instead.\n",
      "  self.raw_data = self.raw_data.append(self.tick_data.resample(self.bar_length,\n"
     ]
    },
    {
     "name": "stdout",
     "output_type": "stream",
     "text": [
      "31 "
     ]
    },
    {
     "name": "stderr",
     "output_type": "stream",
     "text": [
      "C:\\Users\\Ashwin Dev\\AppData\\Local\\Temp\\ipykernel_19988\\3068093456.py:48: FutureWarning: The frame.append method is deprecated and will be removed from pandas in a future version. Use pandas.concat instead.\n",
      "  self.raw_data = self.raw_data.append(self.tick_data.resample(self.bar_length,\n"
     ]
    },
    {
     "name": "stdout",
     "output_type": "stream",
     "text": [
      "32 "
     ]
    },
    {
     "name": "stderr",
     "output_type": "stream",
     "text": [
      "C:\\Users\\Ashwin Dev\\AppData\\Local\\Temp\\ipykernel_19988\\3068093456.py:48: FutureWarning: The frame.append method is deprecated and will be removed from pandas in a future version. Use pandas.concat instead.\n",
      "  self.raw_data = self.raw_data.append(self.tick_data.resample(self.bar_length,\n"
     ]
    },
    {
     "name": "stdout",
     "output_type": "stream",
     "text": [
      "33 "
     ]
    },
    {
     "name": "stderr",
     "output_type": "stream",
     "text": [
      "C:\\Users\\Ashwin Dev\\AppData\\Local\\Temp\\ipykernel_19988\\3068093456.py:48: FutureWarning: The frame.append method is deprecated and will be removed from pandas in a future version. Use pandas.concat instead.\n",
      "  self.raw_data = self.raw_data.append(self.tick_data.resample(self.bar_length,\n"
     ]
    },
    {
     "name": "stdout",
     "output_type": "stream",
     "text": [
      "34 "
     ]
    },
    {
     "name": "stderr",
     "output_type": "stream",
     "text": [
      "C:\\Users\\Ashwin Dev\\AppData\\Local\\Temp\\ipykernel_19988\\3068093456.py:48: FutureWarning: The frame.append method is deprecated and will be removed from pandas in a future version. Use pandas.concat instead.\n",
      "  self.raw_data = self.raw_data.append(self.tick_data.resample(self.bar_length,\n"
     ]
    },
    {
     "name": "stdout",
     "output_type": "stream",
     "text": [
      "35 "
     ]
    },
    {
     "name": "stderr",
     "output_type": "stream",
     "text": [
      "C:\\Users\\Ashwin Dev\\AppData\\Local\\Temp\\ipykernel_19988\\3068093456.py:48: FutureWarning: The frame.append method is deprecated and will be removed from pandas in a future version. Use pandas.concat instead.\n",
      "  self.raw_data = self.raw_data.append(self.tick_data.resample(self.bar_length,\n"
     ]
    },
    {
     "name": "stdout",
     "output_type": "stream",
     "text": [
      "36 "
     ]
    },
    {
     "name": "stderr",
     "output_type": "stream",
     "text": [
      "C:\\Users\\Ashwin Dev\\AppData\\Local\\Temp\\ipykernel_19988\\3068093456.py:48: FutureWarning: The frame.append method is deprecated and will be removed from pandas in a future version. Use pandas.concat instead.\n",
      "  self.raw_data = self.raw_data.append(self.tick_data.resample(self.bar_length,\n"
     ]
    },
    {
     "name": "stdout",
     "output_type": "stream",
     "text": [
      "37 "
     ]
    },
    {
     "name": "stderr",
     "output_type": "stream",
     "text": [
      "C:\\Users\\Ashwin Dev\\AppData\\Local\\Temp\\ipykernel_19988\\3068093456.py:48: FutureWarning: The frame.append method is deprecated and will be removed from pandas in a future version. Use pandas.concat instead.\n",
      "  self.raw_data = self.raw_data.append(self.tick_data.resample(self.bar_length,\n"
     ]
    },
    {
     "name": "stdout",
     "output_type": "stream",
     "text": [
      "38 "
     ]
    },
    {
     "name": "stderr",
     "output_type": "stream",
     "text": [
      "C:\\Users\\Ashwin Dev\\AppData\\Local\\Temp\\ipykernel_19988\\3068093456.py:48: FutureWarning: The frame.append method is deprecated and will be removed from pandas in a future version. Use pandas.concat instead.\n",
      "  self.raw_data = self.raw_data.append(self.tick_data.resample(self.bar_length,\n"
     ]
    },
    {
     "name": "stdout",
     "output_type": "stream",
     "text": [
      "39 40 "
     ]
    },
    {
     "name": "stderr",
     "output_type": "stream",
     "text": [
      "C:\\Users\\Ashwin Dev\\AppData\\Local\\Temp\\ipykernel_19988\\3068093456.py:48: FutureWarning: The frame.append method is deprecated and will be removed from pandas in a future version. Use pandas.concat instead.\n",
      "  self.raw_data = self.raw_data.append(self.tick_data.resample(self.bar_length,\n",
      "C:\\Users\\Ashwin Dev\\AppData\\Local\\Temp\\ipykernel_19988\\3068093456.py:48: FutureWarning: The frame.append method is deprecated and will be removed from pandas in a future version. Use pandas.concat instead.\n",
      "  self.raw_data = self.raw_data.append(self.tick_data.resample(self.bar_length,\n"
     ]
    },
    {
     "name": "stdout",
     "output_type": "stream",
     "text": [
      "41 42 "
     ]
    },
    {
     "name": "stderr",
     "output_type": "stream",
     "text": [
      "C:\\Users\\Ashwin Dev\\AppData\\Local\\Temp\\ipykernel_19988\\3068093456.py:48: FutureWarning: The frame.append method is deprecated and will be removed from pandas in a future version. Use pandas.concat instead.\n",
      "  self.raw_data = self.raw_data.append(self.tick_data.resample(self.bar_length,\n",
      "C:\\Users\\Ashwin Dev\\AppData\\Local\\Temp\\ipykernel_19988\\3068093456.py:48: FutureWarning: The frame.append method is deprecated and will be removed from pandas in a future version. Use pandas.concat instead.\n",
      "  self.raw_data = self.raw_data.append(self.tick_data.resample(self.bar_length,\n"
     ]
    },
    {
     "name": "stdout",
     "output_type": "stream",
     "text": [
      "43 "
     ]
    },
    {
     "name": "stderr",
     "output_type": "stream",
     "text": [
      "C:\\Users\\Ashwin Dev\\AppData\\Local\\Temp\\ipykernel_19988\\3068093456.py:48: FutureWarning: The frame.append method is deprecated and will be removed from pandas in a future version. Use pandas.concat instead.\n",
      "  self.raw_data = self.raw_data.append(self.tick_data.resample(self.bar_length,\n"
     ]
    },
    {
     "name": "stdout",
     "output_type": "stream",
     "text": [
      "44 "
     ]
    },
    {
     "name": "stderr",
     "output_type": "stream",
     "text": [
      "C:\\Users\\Ashwin Dev\\AppData\\Local\\Temp\\ipykernel_19988\\3068093456.py:48: FutureWarning: The frame.append method is deprecated and will be removed from pandas in a future version. Use pandas.concat instead.\n",
      "  self.raw_data = self.raw_data.append(self.tick_data.resample(self.bar_length,\n"
     ]
    },
    {
     "name": "stdout",
     "output_type": "stream",
     "text": [
      "45 "
     ]
    },
    {
     "name": "stderr",
     "output_type": "stream",
     "text": [
      "C:\\Users\\Ashwin Dev\\AppData\\Local\\Temp\\ipykernel_19988\\3068093456.py:48: FutureWarning: The frame.append method is deprecated and will be removed from pandas in a future version. Use pandas.concat instead.\n",
      "  self.raw_data = self.raw_data.append(self.tick_data.resample(self.bar_length,\n"
     ]
    },
    {
     "name": "stdout",
     "output_type": "stream",
     "text": [
      "46 "
     ]
    },
    {
     "name": "stderr",
     "output_type": "stream",
     "text": [
      "C:\\Users\\Ashwin Dev\\AppData\\Local\\Temp\\ipykernel_19988\\3068093456.py:48: FutureWarning: The frame.append method is deprecated and will be removed from pandas in a future version. Use pandas.concat instead.\n",
      "  self.raw_data = self.raw_data.append(self.tick_data.resample(self.bar_length,\n"
     ]
    },
    {
     "name": "stdout",
     "output_type": "stream",
     "text": [
      "47 "
     ]
    },
    {
     "name": "stderr",
     "output_type": "stream",
     "text": [
      "C:\\Users\\Ashwin Dev\\AppData\\Local\\Temp\\ipykernel_19988\\3068093456.py:48: FutureWarning: The frame.append method is deprecated and will be removed from pandas in a future version. Use pandas.concat instead.\n",
      "  self.raw_data = self.raw_data.append(self.tick_data.resample(self.bar_length,\n"
     ]
    },
    {
     "name": "stdout",
     "output_type": "stream",
     "text": [
      "48 "
     ]
    },
    {
     "name": "stderr",
     "output_type": "stream",
     "text": [
      "C:\\Users\\Ashwin Dev\\AppData\\Local\\Temp\\ipykernel_19988\\3068093456.py:48: FutureWarning: The frame.append method is deprecated and will be removed from pandas in a future version. Use pandas.concat instead.\n",
      "  self.raw_data = self.raw_data.append(self.tick_data.resample(self.bar_length,\n"
     ]
    },
    {
     "name": "stdout",
     "output_type": "stream",
     "text": [
      "49 "
     ]
    },
    {
     "name": "stderr",
     "output_type": "stream",
     "text": [
      "C:\\Users\\Ashwin Dev\\AppData\\Local\\Temp\\ipykernel_19988\\3068093456.py:48: FutureWarning: The frame.append method is deprecated and will be removed from pandas in a future version. Use pandas.concat instead.\n",
      "  self.raw_data = self.raw_data.append(self.tick_data.resample(self.bar_length,\n"
     ]
    },
    {
     "name": "stdout",
     "output_type": "stream",
     "text": [
      "50 51 52 53 "
     ]
    },
    {
     "name": "stderr",
     "output_type": "stream",
     "text": [
      "C:\\Users\\Ashwin Dev\\AppData\\Local\\Temp\\ipykernel_19988\\3068093456.py:48: FutureWarning: The frame.append method is deprecated and will be removed from pandas in a future version. Use pandas.concat instead.\n",
      "  self.raw_data = self.raw_data.append(self.tick_data.resample(self.bar_length,\n",
      "C:\\Users\\Ashwin Dev\\AppData\\Local\\Temp\\ipykernel_19988\\3068093456.py:48: FutureWarning: The frame.append method is deprecated and will be removed from pandas in a future version. Use pandas.concat instead.\n",
      "  self.raw_data = self.raw_data.append(self.tick_data.resample(self.bar_length,\n",
      "C:\\Users\\Ashwin Dev\\AppData\\Local\\Temp\\ipykernel_19988\\3068093456.py:48: FutureWarning: The frame.append method is deprecated and will be removed from pandas in a future version. Use pandas.concat instead.\n",
      "  self.raw_data = self.raw_data.append(self.tick_data.resample(self.bar_length,\n",
      "C:\\Users\\Ashwin Dev\\AppData\\Local\\Temp\\ipykernel_19988\\3068093456.py:48: FutureWarning: The frame.append method is deprecated and will be removed from pandas in a future version. Use pandas.concat instead.\n",
      "  self.raw_data = self.raw_data.append(self.tick_data.resample(self.bar_length,\n"
     ]
    },
    {
     "name": "stdout",
     "output_type": "stream",
     "text": [
      "54 55 56 57 58 59 60 61 62 63 64 65 66 67 68 69 70 71 "
     ]
    }
   ],
   "source": [
    "trader.get_most_recent()\n",
    "api.subscribe_market_data(trader.instrument, (trader.get_tick_data, ))"
   ]
  },
  {
   "cell_type": "code",
   "execution_count": 13,
   "metadata": {},
   "outputs": [
    {
     "name": "stdout",
     "output_type": "stream",
     "text": [
      "72 73 \n",
      "\n",
      "2022-08-22 17:46:24.920809 | GOING NEUTRAL\n",
      "\n",
      "  tradeId  amountK currency  grossPL  isBuy\n",
      "0             2600  EUR/USD     -386  False\n"
     ]
    }
   ],
   "source": [
    "api.unsubscribe_market_data(trader.instrument)\n",
    "if len(api.get_open_positions()) != 0: # if we have final open position(s) (netting and hedging)\n",
    "    api.close_all_for_symbol(trader.instrument)\n",
    "    print(2*\"\\n\" + \"{} | GOING NEUTRAL\".format(str(datetime.utcnow())) + \"\\n\")\n",
    "    time.sleep(20)\n",
    "    print(api.get_closed_positions_summary()[col])\n",
    "    trader.position = 0"
   ]
  },
  {
   "cell_type": "code",
   "execution_count": 14,
   "metadata": {},
   "outputs": [
    {
     "data": {
      "text/html": [
       "<div>\n",
       "<style scoped>\n",
       "    .dataframe tbody tr th:only-of-type {\n",
       "        vertical-align: middle;\n",
       "    }\n",
       "\n",
       "    .dataframe tbody tr th {\n",
       "        vertical-align: top;\n",
       "    }\n",
       "\n",
       "    .dataframe thead th {\n",
       "        text-align: right;\n",
       "    }\n",
       "</style>\n",
       "<table border=\"1\" class=\"dataframe\">\n",
       "  <thead>\n",
       "    <tr style=\"text-align: right;\">\n",
       "      <th></th>\n",
       "      <th>EUR/USD</th>\n",
       "      <th>SMA</th>\n",
       "      <th>Lower</th>\n",
       "      <th>Upper</th>\n",
       "      <th>distance</th>\n",
       "      <th>position</th>\n",
       "    </tr>\n",
       "  </thead>\n",
       "  <tbody>\n",
       "    <tr>\n",
       "      <th>2022-08-11 17:38:00</th>\n",
       "      <td>1.032190</td>\n",
       "      <td>NaN</td>\n",
       "      <td>NaN</td>\n",
       "      <td>NaN</td>\n",
       "      <td>NaN</td>\n",
       "      <td>0.0</td>\n",
       "    </tr>\n",
       "    <tr>\n",
       "      <th>2022-08-11 17:39:00</th>\n",
       "      <td>1.032105</td>\n",
       "      <td>NaN</td>\n",
       "      <td>NaN</td>\n",
       "      <td>NaN</td>\n",
       "      <td>NaN</td>\n",
       "      <td>0.0</td>\n",
       "    </tr>\n",
       "    <tr>\n",
       "      <th>2022-08-11 17:40:00</th>\n",
       "      <td>1.032250</td>\n",
       "      <td>NaN</td>\n",
       "      <td>NaN</td>\n",
       "      <td>NaN</td>\n",
       "      <td>NaN</td>\n",
       "      <td>0.0</td>\n",
       "    </tr>\n",
       "    <tr>\n",
       "      <th>2022-08-11 17:41:00</th>\n",
       "      <td>1.032160</td>\n",
       "      <td>NaN</td>\n",
       "      <td>NaN</td>\n",
       "      <td>NaN</td>\n",
       "      <td>NaN</td>\n",
       "      <td>0.0</td>\n",
       "    </tr>\n",
       "    <tr>\n",
       "      <th>2022-08-11 17:42:00</th>\n",
       "      <td>1.032410</td>\n",
       "      <td>NaN</td>\n",
       "      <td>NaN</td>\n",
       "      <td>NaN</td>\n",
       "      <td>NaN</td>\n",
       "      <td>0.0</td>\n",
       "    </tr>\n",
       "    <tr>\n",
       "      <th>...</th>\n",
       "      <td>...</td>\n",
       "      <td>...</td>\n",
       "      <td>...</td>\n",
       "      <td>...</td>\n",
       "      <td>...</td>\n",
       "      <td>...</td>\n",
       "    </tr>\n",
       "    <tr>\n",
       "      <th>2022-08-22 17:41:00</th>\n",
       "      <td>0.993380</td>\n",
       "      <td>0.993052</td>\n",
       "      <td>0.992846</td>\n",
       "      <td>0.993258</td>\n",
       "      <td>0.000328</td>\n",
       "      <td>-1.0</td>\n",
       "    </tr>\n",
       "    <tr>\n",
       "      <th>2022-08-22 17:42:00</th>\n",
       "      <td>0.993380</td>\n",
       "      <td>0.993081</td>\n",
       "      <td>0.992872</td>\n",
       "      <td>0.993291</td>\n",
       "      <td>0.000298</td>\n",
       "      <td>-1.0</td>\n",
       "    </tr>\n",
       "    <tr>\n",
       "      <th>2022-08-22 17:43:00</th>\n",
       "      <td>0.993625</td>\n",
       "      <td>0.993123</td>\n",
       "      <td>0.992892</td>\n",
       "      <td>0.993354</td>\n",
       "      <td>0.000502</td>\n",
       "      <td>-1.0</td>\n",
       "    </tr>\n",
       "    <tr>\n",
       "      <th>2022-08-22 17:44:00</th>\n",
       "      <td>0.993710</td>\n",
       "      <td>0.993172</td>\n",
       "      <td>0.992926</td>\n",
       "      <td>0.993418</td>\n",
       "      <td>0.000538</td>\n",
       "      <td>-1.0</td>\n",
       "    </tr>\n",
       "    <tr>\n",
       "      <th>2022-08-22 17:46:00</th>\n",
       "      <td>0.993595</td>\n",
       "      <td>0.993218</td>\n",
       "      <td>0.992983</td>\n",
       "      <td>0.993452</td>\n",
       "      <td>0.000377</td>\n",
       "      <td>-1.0</td>\n",
       "    </tr>\n",
       "  </tbody>\n",
       "</table>\n",
       "<p>10000 rows × 6 columns</p>\n",
       "</div>"
      ],
      "text/plain": [
       "                      EUR/USD       SMA     Lower     Upper  distance  \\\n",
       "2022-08-11 17:38:00  1.032190       NaN       NaN       NaN       NaN   \n",
       "2022-08-11 17:39:00  1.032105       NaN       NaN       NaN       NaN   \n",
       "2022-08-11 17:40:00  1.032250       NaN       NaN       NaN       NaN   \n",
       "2022-08-11 17:41:00  1.032160       NaN       NaN       NaN       NaN   \n",
       "2022-08-11 17:42:00  1.032410       NaN       NaN       NaN       NaN   \n",
       "...                       ...       ...       ...       ...       ...   \n",
       "2022-08-22 17:41:00  0.993380  0.993052  0.992846  0.993258  0.000328   \n",
       "2022-08-22 17:42:00  0.993380  0.993081  0.992872  0.993291  0.000298   \n",
       "2022-08-22 17:43:00  0.993625  0.993123  0.992892  0.993354  0.000502   \n",
       "2022-08-22 17:44:00  0.993710  0.993172  0.992926  0.993418  0.000538   \n",
       "2022-08-22 17:46:00  0.993595  0.993218  0.992983  0.993452  0.000377   \n",
       "\n",
       "                     position  \n",
       "2022-08-11 17:38:00       0.0  \n",
       "2022-08-11 17:39:00       0.0  \n",
       "2022-08-11 17:40:00       0.0  \n",
       "2022-08-11 17:41:00       0.0  \n",
       "2022-08-11 17:42:00       0.0  \n",
       "...                       ...  \n",
       "2022-08-22 17:41:00      -1.0  \n",
       "2022-08-22 17:42:00      -1.0  \n",
       "2022-08-22 17:43:00      -1.0  \n",
       "2022-08-22 17:44:00      -1.0  \n",
       "2022-08-22 17:46:00      -1.0  \n",
       "\n",
       "[10000 rows x 6 columns]"
      ]
     },
     "execution_count": 14,
     "metadata": {},
     "output_type": "execute_result"
    }
   ],
   "source": [
    "trader.data"
   ]
  },
  {
   "cell_type": "code",
   "execution_count": 15,
   "metadata": {},
   "outputs": [
    {
     "data": {
      "image/png": "[encoded data removed]",
      "text/plain": [
       "<Figure size 864x576 with 1 Axes>"
      ]
     },
     "metadata": {},
     "output_type": "display_data"
    }
   ],
   "source": [
    "trader.data.tail(20)[[\"EUR/USD\", \"SMA\", \"Lower\", \"Upper\"]].plot(figsize = (12, 8))\n",
    "plt.show()"
   ]
  },
  {
   "cell_type": "code",
   "execution_count": 16,
   "metadata": {},
   "outputs": [],
   "source": [
    "api.close()"
   ]
  },
  {
   "cell_type": "code",
   "execution_count": null,
   "metadata": {},
   "outputs": [],
   "source": []
  },
  {
   "cell_type": "markdown",
   "metadata": {},
   "source": [
    "## Machine Learning Strategies (1) - Model Fitting"
   ]
  },
  {
   "cell_type": "code",
   "execution_count": 1,
   "metadata": {},
   "outputs": [],
   "source": [
    "import pandas as pd\n",
    "import numpy as np\n",
    "from sklearn.linear_model import LogisticRegression"
   ]
  },
  {
   "cell_type": "code",
   "execution_count": 2,
   "metadata": {},
   "outputs": [],
   "source": [
    "data = pd.read_csv(\"five_minute.csv\", parse_dates = [\"time\"], index_col = \"time\")"
   ]
  },
  {
   "cell_type": "code",
   "execution_count": 3,
   "metadata": {},
   "outputs": [
    {
     "data": {
      "text/html": [
       "<div>\n",
       "<style scoped>\n",
       "    .dataframe tbody tr th:only-of-type {\n",
       "        vertical-align: middle;\n",
       "    }\n",
       "\n",
       "    .dataframe tbody tr th {\n",
       "        vertical-align: top;\n",
       "    }\n",
       "\n",
       "    .dataframe thead th {\n",
       "        text-align: right;\n",
       "    }\n",
       "</style>\n",
       "<table border=\"1\" class=\"dataframe\">\n",
       "  <thead>\n",
       "    <tr style=\"text-align: right;\">\n",
       "      <th></th>\n",
       "      <th>price</th>\n",
       "    </tr>\n",
       "    <tr>\n",
       "      <th>time</th>\n",
       "      <th></th>\n",
       "    </tr>\n",
       "  </thead>\n",
       "  <tbody>\n",
       "    <tr>\n",
       "      <th>2019-01-01 22:00:00+00:00</th>\n",
       "      <td>1.146580</td>\n",
       "    </tr>\n",
       "    <tr>\n",
       "      <th>2019-01-01 22:05:00+00:00</th>\n",
       "      <td>1.146350</td>\n",
       "    </tr>\n",
       "    <tr>\n",
       "      <th>2019-01-01 22:10:00+00:00</th>\n",
       "      <td>1.146320</td>\n",
       "    </tr>\n",
       "    <tr>\n",
       "      <th>2019-01-01 22:15:00+00:00</th>\n",
       "      <td>1.146320</td>\n",
       "    </tr>\n",
       "    <tr>\n",
       "      <th>2019-01-01 22:20:00+00:00</th>\n",
       "      <td>1.146530</td>\n",
       "    </tr>\n",
       "    <tr>\n",
       "      <th>...</th>\n",
       "      <td>...</td>\n",
       "    </tr>\n",
       "    <tr>\n",
       "      <th>2019-12-30 23:35:00+00:00</th>\n",
       "      <td>1.120180</td>\n",
       "    </tr>\n",
       "    <tr>\n",
       "      <th>2019-12-30 23:40:00+00:00</th>\n",
       "      <td>1.120210</td>\n",
       "    </tr>\n",
       "    <tr>\n",
       "      <th>2019-12-30 23:45:00+00:00</th>\n",
       "      <td>1.120295</td>\n",
       "    </tr>\n",
       "    <tr>\n",
       "      <th>2019-12-30 23:50:00+00:00</th>\n",
       "      <td>1.120275</td>\n",
       "    </tr>\n",
       "    <tr>\n",
       "      <th>2019-12-30 23:55:00+00:00</th>\n",
       "      <td>1.120130</td>\n",
       "    </tr>\n",
       "  </tbody>\n",
       "</table>\n",
       "<p>73720 rows × 1 columns</p>\n",
       "</div>"
      ],
      "text/plain": [
       "                              price\n",
       "time                               \n",
       "2019-01-01 22:00:00+00:00  1.146580\n",
       "2019-01-01 22:05:00+00:00  1.146350\n",
       "2019-01-01 22:10:00+00:00  1.146320\n",
       "2019-01-01 22:15:00+00:00  1.146320\n",
       "2019-01-01 22:20:00+00:00  1.146530\n",
       "...                             ...\n",
       "2019-12-30 23:35:00+00:00  1.120180\n",
       "2019-12-30 23:40:00+00:00  1.120210\n",
       "2019-12-30 23:45:00+00:00  1.120295\n",
       "2019-12-30 23:50:00+00:00  1.120275\n",
       "2019-12-30 23:55:00+00:00  1.120130\n",
       "\n",
       "[73720 rows x 1 columns]"
      ]
     },
     "execution_count": 3,
     "metadata": {},
     "output_type": "execute_result"
    }
   ],
   "source": [
    "data"
   ]
  },
  {
   "cell_type": "code",
   "execution_count": 4,
   "metadata": {},
   "outputs": [],
   "source": [
    "data[\"returns\"] = np.log(data.div(data.shift(1)))"
   ]
  },
  {
   "cell_type": "code",
   "execution_count": 5,
   "metadata": {},
   "outputs": [],
   "source": [
    "data.dropna(inplace = True)"
   ]
  },
  {
   "cell_type": "code",
   "execution_count": 6,
   "metadata": {},
   "outputs": [],
   "source": [
    "data[\"direction\"] = np.sign(data.returns)"
   ]
  },
  {
   "cell_type": "code",
   "execution_count": 7,
   "metadata": {},
   "outputs": [
    {
     "data": {
      "text/html": [
       "<div>\n",
       "<style scoped>\n",
       "    .dataframe tbody tr th:only-of-type {\n",
       "        vertical-align: middle;\n",
       "    }\n",
       "\n",
       "    .dataframe tbody tr th {\n",
       "        vertical-align: top;\n",
       "    }\n",
       "\n",
       "    .dataframe thead th {\n",
       "        text-align: right;\n",
       "    }\n",
       "</style>\n",
       "<table border=\"1\" class=\"dataframe\">\n",
       "  <thead>\n",
       "    <tr style=\"text-align: right;\">\n",
       "      <th></th>\n",
       "      <th>price</th>\n",
       "      <th>returns</th>\n",
       "      <th>direction</th>\n",
       "    </tr>\n",
       "    <tr>\n",
       "      <th>time</th>\n",
       "      <th></th>\n",
       "      <th></th>\n",
       "      <th></th>\n",
       "    </tr>\n",
       "  </thead>\n",
       "  <tbody>\n",
       "    <tr>\n",
       "      <th>2019-01-01 22:05:00+00:00</th>\n",
       "      <td>1.146350</td>\n",
       "      <td>-0.000201</td>\n",
       "      <td>-1.0</td>\n",
       "    </tr>\n",
       "    <tr>\n",
       "      <th>2019-01-01 22:10:00+00:00</th>\n",
       "      <td>1.146320</td>\n",
       "      <td>-0.000026</td>\n",
       "      <td>-1.0</td>\n",
       "    </tr>\n",
       "    <tr>\n",
       "      <th>2019-01-01 22:15:00+00:00</th>\n",
       "      <td>1.146320</td>\n",
       "      <td>0.000000</td>\n",
       "      <td>0.0</td>\n",
       "    </tr>\n",
       "    <tr>\n",
       "      <th>2019-01-01 22:20:00+00:00</th>\n",
       "      <td>1.146530</td>\n",
       "      <td>0.000183</td>\n",
       "      <td>1.0</td>\n",
       "    </tr>\n",
       "    <tr>\n",
       "      <th>2019-01-01 22:25:00+00:00</th>\n",
       "      <td>1.146475</td>\n",
       "      <td>-0.000048</td>\n",
       "      <td>-1.0</td>\n",
       "    </tr>\n",
       "    <tr>\n",
       "      <th>...</th>\n",
       "      <td>...</td>\n",
       "      <td>...</td>\n",
       "      <td>...</td>\n",
       "    </tr>\n",
       "    <tr>\n",
       "      <th>2019-12-30 23:35:00+00:00</th>\n",
       "      <td>1.120180</td>\n",
       "      <td>-0.000004</td>\n",
       "      <td>-1.0</td>\n",
       "    </tr>\n",
       "    <tr>\n",
       "      <th>2019-12-30 23:40:00+00:00</th>\n",
       "      <td>1.120210</td>\n",
       "      <td>0.000027</td>\n",
       "      <td>1.0</td>\n",
       "    </tr>\n",
       "    <tr>\n",
       "      <th>2019-12-30 23:45:00+00:00</th>\n",
       "      <td>1.120295</td>\n",
       "      <td>0.000076</td>\n",
       "      <td>1.0</td>\n",
       "    </tr>\n",
       "    <tr>\n",
       "      <th>2019-12-30 23:50:00+00:00</th>\n",
       "      <td>1.120275</td>\n",
       "      <td>-0.000018</td>\n",
       "      <td>-1.0</td>\n",
       "    </tr>\n",
       "    <tr>\n",
       "      <th>2019-12-30 23:55:00+00:00</th>\n",
       "      <td>1.120130</td>\n",
       "      <td>-0.000129</td>\n",
       "      <td>-1.0</td>\n",
       "    </tr>\n",
       "  </tbody>\n",
       "</table>\n",
       "<p>73719 rows × 3 columns</p>\n",
       "</div>"
      ],
      "text/plain": [
       "                              price   returns  direction\n",
       "time                                                    \n",
       "2019-01-01 22:05:00+00:00  1.146350 -0.000201       -1.0\n",
       "2019-01-01 22:10:00+00:00  1.146320 -0.000026       -1.0\n",
       "2019-01-01 22:15:00+00:00  1.146320  0.000000        0.0\n",
       "2019-01-01 22:20:00+00:00  1.146530  0.000183        1.0\n",
       "2019-01-01 22:25:00+00:00  1.146475 -0.000048       -1.0\n",
       "...                             ...       ...        ...\n",
       "2019-12-30 23:35:00+00:00  1.120180 -0.000004       -1.0\n",
       "2019-12-30 23:40:00+00:00  1.120210  0.000027        1.0\n",
       "2019-12-30 23:45:00+00:00  1.120295  0.000076        1.0\n",
       "2019-12-30 23:50:00+00:00  1.120275 -0.000018       -1.0\n",
       "2019-12-30 23:55:00+00:00  1.120130 -0.000129       -1.0\n",
       "\n",
       "[73719 rows x 3 columns]"
      ]
     },
     "execution_count": 7,
     "metadata": {},
     "output_type": "execute_result"
    }
   ],
   "source": [
    "data"
   ]
  },
  {
   "cell_type": "code",
   "execution_count": 8,
   "metadata": {},
   "outputs": [],
   "source": [
    "lags = 2"
   ]
  },
  {
   "cell_type": "code",
   "execution_count": 9,
   "metadata": {},
   "outputs": [],
   "source": [
    "cols = []\n",
    "for lag in range(1, lags + 1):\n",
    "    col = \"lag{}\".format(lag)\n",
    "    data[col] = data.returns.shift(lag)\n",
    "    cols.append(col)\n",
    "data.dropna(inplace = True)"
   ]
  },
  {
   "cell_type": "code",
   "execution_count": 10,
   "metadata": {},
   "outputs": [
    {
     "data": {
      "text/html": [
       "<div>\n",
       "<style scoped>\n",
       "    .dataframe tbody tr th:only-of-type {\n",
       "        vertical-align: middle;\n",
       "    }\n",
       "\n",
       "    .dataframe tbody tr th {\n",
       "        vertical-align: top;\n",
       "    }\n",
       "\n",
       "    .dataframe thead th {\n",
       "        text-align: right;\n",
       "    }\n",
       "</style>\n",
       "<table border=\"1\" class=\"dataframe\">\n",
       "  <thead>\n",
       "    <tr style=\"text-align: right;\">\n",
       "      <th></th>\n",
       "      <th>price</th>\n",
       "      <th>returns</th>\n",
       "      <th>direction</th>\n",
       "      <th>lag1</th>\n",
       "      <th>lag2</th>\n",
       "    </tr>\n",
       "    <tr>\n",
       "      <th>time</th>\n",
       "      <th></th>\n",
       "      <th></th>\n",
       "      <th></th>\n",
       "      <th></th>\n",
       "      <th></th>\n",
       "    </tr>\n",
       "  </thead>\n",
       "  <tbody>\n",
       "    <tr>\n",
       "      <th>2019-01-01 22:15:00+00:00</th>\n",
       "      <td>1.146320</td>\n",
       "      <td>0.000000</td>\n",
       "      <td>0.0</td>\n",
       "      <td>-0.000026</td>\n",
       "      <td>-0.000201</td>\n",
       "    </tr>\n",
       "    <tr>\n",
       "      <th>2019-01-01 22:20:00+00:00</th>\n",
       "      <td>1.146530</td>\n",
       "      <td>0.000183</td>\n",
       "      <td>1.0</td>\n",
       "      <td>0.000000</td>\n",
       "      <td>-0.000026</td>\n",
       "    </tr>\n",
       "    <tr>\n",
       "      <th>2019-01-01 22:25:00+00:00</th>\n",
       "      <td>1.146475</td>\n",
       "      <td>-0.000048</td>\n",
       "      <td>-1.0</td>\n",
       "      <td>0.000183</td>\n",
       "      <td>0.000000</td>\n",
       "    </tr>\n",
       "    <tr>\n",
       "      <th>2019-01-01 22:30:00+00:00</th>\n",
       "      <td>1.146455</td>\n",
       "      <td>-0.000017</td>\n",
       "      <td>-1.0</td>\n",
       "      <td>-0.000048</td>\n",
       "      <td>0.000183</td>\n",
       "    </tr>\n",
       "    <tr>\n",
       "      <th>2019-01-01 22:35:00+00:00</th>\n",
       "      <td>1.146455</td>\n",
       "      <td>0.000000</td>\n",
       "      <td>0.0</td>\n",
       "      <td>-0.000017</td>\n",
       "      <td>-0.000048</td>\n",
       "    </tr>\n",
       "    <tr>\n",
       "      <th>...</th>\n",
       "      <td>...</td>\n",
       "      <td>...</td>\n",
       "      <td>...</td>\n",
       "      <td>...</td>\n",
       "      <td>...</td>\n",
       "    </tr>\n",
       "    <tr>\n",
       "      <th>2019-12-30 23:35:00+00:00</th>\n",
       "      <td>1.120180</td>\n",
       "      <td>-0.000004</td>\n",
       "      <td>-1.0</td>\n",
       "      <td>-0.000112</td>\n",
       "      <td>-0.000018</td>\n",
       "    </tr>\n",
       "    <tr>\n",
       "      <th>2019-12-30 23:40:00+00:00</th>\n",
       "      <td>1.120210</td>\n",
       "      <td>0.000027</td>\n",
       "      <td>1.0</td>\n",
       "      <td>-0.000004</td>\n",
       "      <td>-0.000112</td>\n",
       "    </tr>\n",
       "    <tr>\n",
       "      <th>2019-12-30 23:45:00+00:00</th>\n",
       "      <td>1.120295</td>\n",
       "      <td>0.000076</td>\n",
       "      <td>1.0</td>\n",
       "      <td>0.000027</td>\n",
       "      <td>-0.000004</td>\n",
       "    </tr>\n",
       "    <tr>\n",
       "      <th>2019-12-30 23:50:00+00:00</th>\n",
       "      <td>1.120275</td>\n",
       "      <td>-0.000018</td>\n",
       "      <td>-1.0</td>\n",
       "      <td>0.000076</td>\n",
       "      <td>0.000027</td>\n",
       "    </tr>\n",
       "    <tr>\n",
       "      <th>2019-12-30 23:55:00+00:00</th>\n",
       "      <td>1.120130</td>\n",
       "      <td>-0.000129</td>\n",
       "      <td>-1.0</td>\n",
       "      <td>-0.000018</td>\n",
       "      <td>0.000076</td>\n",
       "    </tr>\n",
       "  </tbody>\n",
       "</table>\n",
       "<p>73717 rows × 5 columns</p>\n",
       "</div>"
      ],
      "text/plain": [
       "                              price   returns  direction      lag1      lag2\n",
       "time                                                                        \n",
       "2019-01-01 22:15:00+00:00  1.146320  0.000000        0.0 -0.000026 -0.000201\n",
       "2019-01-01 22:20:00+00:00  1.146530  0.000183        1.0  0.000000 -0.000026\n",
       "2019-01-01 22:25:00+00:00  1.146475 -0.000048       -1.0  0.000183  0.000000\n",
       "2019-01-01 22:30:00+00:00  1.146455 -0.000017       -1.0 -0.000048  0.000183\n",
       "2019-01-01 22:35:00+00:00  1.146455  0.000000        0.0 -0.000017 -0.000048\n",
       "...                             ...       ...        ...       ...       ...\n",
       "2019-12-30 23:35:00+00:00  1.120180 -0.000004       -1.0 -0.000112 -0.000018\n",
       "2019-12-30 23:40:00+00:00  1.120210  0.000027        1.0 -0.000004 -0.000112\n",
       "2019-12-30 23:45:00+00:00  1.120295  0.000076        1.0  0.000027 -0.000004\n",
       "2019-12-30 23:50:00+00:00  1.120275 -0.000018       -1.0  0.000076  0.000027\n",
       "2019-12-30 23:55:00+00:00  1.120130 -0.000129       -1.0 -0.000018  0.000076\n",
       "\n",
       "[73717 rows x 5 columns]"
      ]
     },
     "execution_count": 10,
     "metadata": {},
     "output_type": "execute_result"
    }
   ],
   "source": [
    "data"
   ]
  },
  {
   "cell_type": "code",
   "execution_count": 11,
   "metadata": {},
   "outputs": [],
   "source": [
    "lm = LogisticRegression(C = 1e6, max_iter = 100000, multi_class = \"ovr\")"
   ]
  },
  {
   "cell_type": "code",
   "execution_count": 12,
   "metadata": {},
   "outputs": [
    {
     "data": {
      "text/plain": [
       "LogisticRegression(C=1000000.0, max_iter=100000, multi_class='ovr')"
      ]
     },
     "execution_count": 12,
     "metadata": {},
     "output_type": "execute_result"
    }
   ],
   "source": [
    "lm.fit(data[cols], data.direction)"
   ]
  },
  {
   "cell_type": "code",
   "execution_count": 13,
   "metadata": {},
   "outputs": [
    {
     "data": {
      "text/plain": [
       "LogisticRegression(C=1000000.0, max_iter=100000, multi_class='ovr')"
      ]
     },
     "execution_count": 13,
     "metadata": {},
     "output_type": "execute_result"
    }
   ],
   "source": [
    "lm"
   ]
  },
  {
   "cell_type": "markdown",
   "metadata": {},
   "source": [
    "__In-Sample \"Prediction\"__"
   ]
  },
  {
   "cell_type": "code",
   "execution_count": 14,
   "metadata": {},
   "outputs": [],
   "source": [
    "data[\"pred\"] = lm.predict(data[cols])"
   ]
  },
  {
   "cell_type": "code",
   "execution_count": 15,
   "metadata": {},
   "outputs": [
    {
     "data": {
      "text/html": [
       "<div>\n",
       "<style scoped>\n",
       "    .dataframe tbody tr th:only-of-type {\n",
       "        vertical-align: middle;\n",
       "    }\n",
       "\n",
       "    .dataframe tbody tr th {\n",
       "        vertical-align: top;\n",
       "    }\n",
       "\n",
       "    .dataframe thead th {\n",
       "        text-align: right;\n",
       "    }\n",
       "</style>\n",
       "<table border=\"1\" class=\"dataframe\">\n",
       "  <thead>\n",
       "    <tr style=\"text-align: right;\">\n",
       "      <th></th>\n",
       "      <th>price</th>\n",
       "      <th>returns</th>\n",
       "      <th>direction</th>\n",
       "      <th>lag1</th>\n",
       "      <th>lag2</th>\n",
       "      <th>pred</th>\n",
       "    </tr>\n",
       "    <tr>\n",
       "      <th>time</th>\n",
       "      <th></th>\n",
       "      <th></th>\n",
       "      <th></th>\n",
       "      <th></th>\n",
       "      <th></th>\n",
       "      <th></th>\n",
       "    </tr>\n",
       "  </thead>\n",
       "  <tbody>\n",
       "    <tr>\n",
       "      <th>2019-01-01 22:15:00+00:00</th>\n",
       "      <td>1.146320</td>\n",
       "      <td>0.000000</td>\n",
       "      <td>0.0</td>\n",
       "      <td>-0.000026</td>\n",
       "      <td>-0.000201</td>\n",
       "      <td>1.0</td>\n",
       "    </tr>\n",
       "    <tr>\n",
       "      <th>2019-01-01 22:20:00+00:00</th>\n",
       "      <td>1.146530</td>\n",
       "      <td>0.000183</td>\n",
       "      <td>1.0</td>\n",
       "      <td>0.000000</td>\n",
       "      <td>-0.000026</td>\n",
       "      <td>1.0</td>\n",
       "    </tr>\n",
       "    <tr>\n",
       "      <th>2019-01-01 22:25:00+00:00</th>\n",
       "      <td>1.146475</td>\n",
       "      <td>-0.000048</td>\n",
       "      <td>-1.0</td>\n",
       "      <td>0.000183</td>\n",
       "      <td>0.000000</td>\n",
       "      <td>-1.0</td>\n",
       "    </tr>\n",
       "    <tr>\n",
       "      <th>2019-01-01 22:30:00+00:00</th>\n",
       "      <td>1.146455</td>\n",
       "      <td>-0.000017</td>\n",
       "      <td>-1.0</td>\n",
       "      <td>-0.000048</td>\n",
       "      <td>0.000183</td>\n",
       "      <td>1.0</td>\n",
       "    </tr>\n",
       "    <tr>\n",
       "      <th>2019-01-01 22:35:00+00:00</th>\n",
       "      <td>1.146455</td>\n",
       "      <td>0.000000</td>\n",
       "      <td>0.0</td>\n",
       "      <td>-0.000017</td>\n",
       "      <td>-0.000048</td>\n",
       "      <td>1.0</td>\n",
       "    </tr>\n",
       "    <tr>\n",
       "      <th>...</th>\n",
       "      <td>...</td>\n",
       "      <td>...</td>\n",
       "      <td>...</td>\n",
       "      <td>...</td>\n",
       "      <td>...</td>\n",
       "      <td>...</td>\n",
       "    </tr>\n",
       "    <tr>\n",
       "      <th>2019-12-30 23:35:00+00:00</th>\n",
       "      <td>1.120180</td>\n",
       "      <td>-0.000004</td>\n",
       "      <td>-1.0</td>\n",
       "      <td>-0.000112</td>\n",
       "      <td>-0.000018</td>\n",
       "      <td>1.0</td>\n",
       "    </tr>\n",
       "    <tr>\n",
       "      <th>2019-12-30 23:40:00+00:00</th>\n",
       "      <td>1.120210</td>\n",
       "      <td>0.000027</td>\n",
       "      <td>1.0</td>\n",
       "      <td>-0.000004</td>\n",
       "      <td>-0.000112</td>\n",
       "      <td>1.0</td>\n",
       "    </tr>\n",
       "    <tr>\n",
       "      <th>2019-12-30 23:45:00+00:00</th>\n",
       "      <td>1.120295</td>\n",
       "      <td>0.000076</td>\n",
       "      <td>1.0</td>\n",
       "      <td>0.000027</td>\n",
       "      <td>-0.000004</td>\n",
       "      <td>-1.0</td>\n",
       "    </tr>\n",
       "    <tr>\n",
       "      <th>2019-12-30 23:50:00+00:00</th>\n",
       "      <td>1.120275</td>\n",
       "      <td>-0.000018</td>\n",
       "      <td>-1.0</td>\n",
       "      <td>0.000076</td>\n",
       "      <td>0.000027</td>\n",
       "      <td>-1.0</td>\n",
       "    </tr>\n",
       "    <tr>\n",
       "      <th>2019-12-30 23:55:00+00:00</th>\n",
       "      <td>1.120130</td>\n",
       "      <td>-0.000129</td>\n",
       "      <td>-1.0</td>\n",
       "      <td>-0.000018</td>\n",
       "      <td>0.000076</td>\n",
       "      <td>1.0</td>\n",
       "    </tr>\n",
       "  </tbody>\n",
       "</table>\n",
       "<p>73717 rows × 6 columns</p>\n",
       "</div>"
      ],
      "text/plain": [
       "                              price   returns  direction      lag1      lag2  \\\n",
       "time                                                                           \n",
       "2019-01-01 22:15:00+00:00  1.146320  0.000000        0.0 -0.000026 -0.000201   \n",
       "2019-01-01 22:20:00+00:00  1.146530  0.000183        1.0  0.000000 -0.000026   \n",
       "2019-01-01 22:25:00+00:00  1.146475 -0.000048       -1.0  0.000183  0.000000   \n",
       "2019-01-01 22:30:00+00:00  1.146455 -0.000017       -1.0 -0.000048  0.000183   \n",
       "2019-01-01 22:35:00+00:00  1.146455  0.000000        0.0 -0.000017 -0.000048   \n",
       "...                             ...       ...        ...       ...       ...   \n",
       "2019-12-30 23:35:00+00:00  1.120180 -0.000004       -1.0 -0.000112 -0.000018   \n",
       "2019-12-30 23:40:00+00:00  1.120210  0.000027        1.0 -0.000004 -0.000112   \n",
       "2019-12-30 23:45:00+00:00  1.120295  0.000076        1.0  0.000027 -0.000004   \n",
       "2019-12-30 23:50:00+00:00  1.120275 -0.000018       -1.0  0.000076  0.000027   \n",
       "2019-12-30 23:55:00+00:00  1.120130 -0.000129       -1.0 -0.000018  0.000076   \n",
       "\n",
       "                           pred  \n",
       "time                             \n",
       "2019-01-01 22:15:00+00:00   1.0  \n",
       "2019-01-01 22:20:00+00:00   1.0  \n",
       "2019-01-01 22:25:00+00:00  -1.0  \n",
       "2019-01-01 22:30:00+00:00   1.0  \n",
       "2019-01-01 22:35:00+00:00   1.0  \n",
       "...                         ...  \n",
       "2019-12-30 23:35:00+00:00   1.0  \n",
       "2019-12-30 23:40:00+00:00   1.0  \n",
       "2019-12-30 23:45:00+00:00  -1.0  \n",
       "2019-12-30 23:50:00+00:00  -1.0  \n",
       "2019-12-30 23:55:00+00:00   1.0  \n",
       "\n",
       "[73717 rows x 6 columns]"
      ]
     },
     "execution_count": 15,
     "metadata": {},
     "output_type": "execute_result"
    }
   ],
   "source": [
    "data"
   ]
  },
  {
   "cell_type": "code",
   "execution_count": 16,
   "metadata": {},
   "outputs": [],
   "source": [
    "hits = np.sign(data.direction * data.pred).value_counts()"
   ]
  },
  {
   "cell_type": "code",
   "execution_count": 17,
   "metadata": {},
   "outputs": [
    {
     "data": {
      "text/plain": [
       " 1.0    37469\n",
       "-1.0    34289\n",
       " 0.0     1959\n",
       "dtype: int64"
      ]
     },
     "execution_count": 17,
     "metadata": {},
     "output_type": "execute_result"
    }
   ],
   "source": [
    "hits"
   ]
  },
  {
   "cell_type": "code",
   "execution_count": 18,
   "metadata": {},
   "outputs": [
    {
     "data": {
      "text/plain": [
       "0.5082816717989066"
      ]
     },
     "execution_count": 18,
     "metadata": {},
     "output_type": "execute_result"
    }
   ],
   "source": [
    "hit_ratio = hits[1.0] / sum(hits)\n",
    "hit_ratio"
   ]
  },
  {
   "cell_type": "code",
   "execution_count": 19,
   "metadata": {},
   "outputs": [
    {
     "data": {
      "text/plain": [
       "LogisticRegression(C=1000000.0, max_iter=100000, multi_class='ovr')"
      ]
     },
     "execution_count": 19,
     "metadata": {},
     "output_type": "execute_result"
    }
   ],
   "source": [
    "lm"
   ]
  },
  {
   "cell_type": "markdown",
   "metadata": {},
   "source": [
    "__Saving the model__"
   ]
  },
  {
   "cell_type": "code",
   "execution_count": 20,
   "metadata": {},
   "outputs": [],
   "source": [
    "import pickle"
   ]
  },
  {
   "cell_type": "code",
   "execution_count": 21,
   "metadata": {},
   "outputs": [],
   "source": [
    "pickle.dump(lm, open(\"logreg.pkl\", \"wb\"))"
   ]
  },
  {
   "cell_type": "code",
   "execution_count": null,
   "metadata": {},
   "outputs": [],
   "source": []
  },
  {
   "cell_type": "markdown",
   "metadata": {},
   "source": [
    "## Machine Learning Strategies (2) - Implementation"
   ]
  },
  {
   "cell_type": "code",
   "execution_count": 1,
   "metadata": {},
   "outputs": [],
   "source": [
    "import pandas as pd\n",
    "import numpy as np\n",
    "from sklearn.linear_model import LogisticRegression\n",
    "import fxcmpy\n",
    "import time\n",
    "from datetime import datetime\n",
    "import pickle"
   ]
  },
  {
   "cell_type": "code",
   "execution_count": 2,
   "metadata": {},
   "outputs": [],
   "source": [
    "api = fxcmpy.fxcmpy(config_file= \"fxcm.cfg\")"
   ]
  },
  {
   "cell_type": "code",
   "execution_count": 3,
   "metadata": {},
   "outputs": [],
   "source": [
    "col = [\"tradeId\", \"amountK\", \"currency\", \"grossPL\", \"isBuy\"]"
   ]
  },
  {
   "cell_type": "code",
   "execution_count": 3,
   "metadata": {},
   "outputs": [],
   "source": [
    "class MLTrader():\n",
    "    \n",
    "    def __init__(self, instrument, bar_length, lags, model, units):\n",
    "        self.instrument = instrument\n",
    "        self.bar_length = pd.to_timedelta(bar_length) \n",
    "        self.tick_data = None\n",
    "        self.raw_data = None\n",
    "        self.data = None \n",
    "        self.ticks = 0\n",
    "        self.last_bar = None  \n",
    "        self.units = units\n",
    "        self.position = 0\n",
    "        \n",
    "        #*****************add strategy-specific attributes here******************\n",
    "        self.lags = lags\n",
    "        self.model = model\n",
    "        #************************************************************************        \n",
    "    \n",
    "    def get_most_recent(self, period = \"m1\", number = 10000):\n",
    "        while True:  \n",
    "            time.sleep(5)\n",
    "            df = api.get_candles(self.instrument, number = number, period = period, columns = [\"bidclose\", \"askclose\"])\n",
    "            df[self.instrument] = (df.bidclose + df.askclose) / 2\n",
    "            df = df[self.instrument].to_frame()\n",
    "            df = df.resample(self.bar_length, label = \"right\").last().dropna().iloc[:-1]\n",
    "            self.raw_data = df.copy()\n",
    "            self.last_bar = self.raw_data.index[-1]\n",
    "            if pd.to_datetime(datetime.utcnow()) - self.last_bar < self.bar_length:\n",
    "                break\n",
    "    \n",
    "    def get_tick_data(self, data, dataframe):\n",
    "        \n",
    "        self.ticks += 1\n",
    "        print(self.ticks, end = \" \")\n",
    "        \n",
    "        recent_tick = pd.to_datetime(data[\"Updated\"], unit = \"ms\")\n",
    "        \n",
    "        # if a time longer than the bar_lenght has elapsed between last full bar and the most recent tick\n",
    "        if recent_tick - self.last_bar > self.bar_length:\n",
    "            self.tick_data = dataframe.loc[self.last_bar:, [\"Bid\", \"Ask\"]]\n",
    "            self.tick_data[self.instrument] = (self.tick_data.Ask + self.tick_data.Bid)/2\n",
    "            self.tick_data = self.tick_data[self.instrument].to_frame()\n",
    "            self.resample_and_join()\n",
    "            self.define_strategy() \n",
    "            self.execute_trades()\n",
    "            \n",
    "    def resample_and_join(self):\n",
    "        self.raw_data = self.raw_data.append(self.tick_data.resample(self.bar_length, \n",
    "                                                             label=\"right\").last().ffill().iloc[:-1])\n",
    "        self.last_bar = self.raw_data.index[-1]  \n",
    "        \n",
    "    def define_strategy(self): # \"strategy-specific\"\n",
    "        df = self.raw_data.copy()\n",
    "        \n",
    "        #******************** define your strategy here ************************\n",
    "        df = df.append(self.tick_data.iloc[-1]) # append latest tick (== open price of current bar)\n",
    "        df[\"returns\"] = np.log(df[self.instrument] / df[self.instrument].shift())\n",
    "        cols = []\n",
    "        for lag in range(1, self.lags + 1):\n",
    "            col = \"lag{}\".format(lag)\n",
    "            df[col] = df.returns.shift(lag)\n",
    "            cols.append(col)\n",
    "        df.dropna(inplace = True)\n",
    "        df[\"position\"] = lm.predict(df[cols])\n",
    "        #***********************************************************************\n",
    "        \n",
    "        self.data = df.copy()\n",
    "    \n",
    "    def execute_trades(self):\n",
    "        if self.data[\"position\"].iloc[-1] == 1:\n",
    "            if self.position == 0:\n",
    "                order = api.create_market_buy_order(self.instrument, self.units)\n",
    "                self.report_trade(order, \"GOING LONG\")  \n",
    "            elif self.position == -1:\n",
    "                order = api.create_market_buy_order(self.instrument, self.units * 2)\n",
    "                self.report_trade(order, \"GOING LONG\")  \n",
    "            self.position = 1\n",
    "        elif self.data[\"position\"].iloc[-1] == -1: \n",
    "            if self.position == 0:\n",
    "                order = api.create_market_sell_order(self.instrument, self.units)\n",
    "                self.report_trade(order, \"GOING SHORT\")  \n",
    "            elif self.position == 1:\n",
    "                order = api.create_market_sell_order(self.instrument, self.units * 2)\n",
    "                self.report_trade(order, \"GOING SHORT\")  \n",
    "            self.position = -1\n",
    "        elif self.data[\"position\"].iloc[-1] == 0: \n",
    "            if self.position == -1:\n",
    "                order = api.create_market_buy_order(self.instrument, self.units)\n",
    "                self.report_trade(order, \"GOING NEUTRAL\") \n",
    "            elif self.position == 1:\n",
    "                order = api.create_market_sell_order(self.instrument, self.units)\n",
    "                self.report_trade(order, \"GOING NEUTRAL\")  \n",
    "            self.position = 0\n",
    "\n",
    "    def report_trade(self, order, going):\n",
    "        time = order.get_time()\n",
    "        units = api.get_open_positions().amountK.iloc[-1]\n",
    "        price = api.get_open_positions().open.iloc[-1]\n",
    "        unreal_pl = api.get_open_positions().grossPL.sum()\n",
    "        print(\"\\n\" + 100* \"-\")\n",
    "        print(\"{} | {}\".format(time, going))\n",
    "        print(\"{} | units = {} | price = {} | Unreal. P&L = {}\".format(time, units, price, unreal_pl))\n",
    "        print(100 * \"-\" + \"\\n\")\n",
    "        "
   ]
  },
  {
   "cell_type": "code",
   "execution_count": 4,
   "metadata": {},
   "outputs": [],
   "source": [
    "lm = pickle.load(open(\"logreg.pkl\", \"rb\"))"
   ]
  },
  {
   "cell_type": "code",
   "execution_count": 5,
   "metadata": {},
   "outputs": [
    {
     "data": {
      "text/plain": [
       "LogisticRegression(C=1000000.0, max_iter=100000, multi_class='ovr')"
      ]
     },
     "execution_count": 5,
     "metadata": {},
     "output_type": "execute_result"
    }
   ],
   "source": [
    "lm"
   ]
  },
  {
   "cell_type": "code",
   "execution_count": 6,
   "metadata": {},
   "outputs": [],
   "source": [
    "trader = MLTrader(\"EUR/USD\", \"5min\", lags = 2, model = lm, units = 100)"
   ]
  },
  {
   "cell_type": "code",
   "execution_count": 7,
   "metadata": {},
   "outputs": [
    {
     "data": {
      "text/plain": [
       "LogisticRegression(C=1000000.0, max_iter=100000, multi_class='ovr')"
      ]
     },
     "execution_count": 7,
     "metadata": {},
     "output_type": "execute_result"
    }
   ],
   "source": [
    "trader.model"
   ]
  },
  {
   "cell_type": "code",
   "execution_count": 8,
   "metadata": {
    "scrolled": true
   },
   "outputs": [
    {
     "ename": "ConnectionError",
     "evalue": "('Connection aborted.', ConnectionResetError(10054, 'An existing connection was forcibly closed by the remote host', None, 10054, None))",
     "output_type": "error",
     "traceback": [
      "\u001b[1;31m---------------------------------------------------------------------------\u001b[0m",
      "\u001b[1;31mConnectionResetError\u001b[0m                      Traceback (most recent call last)",
      "File \u001b[1;32m~\\anaconda3\\lib\\site-packages\\urllib3\\connectionpool.py:703\u001b[0m, in \u001b[0;36mHTTPConnectionPool.urlopen\u001b[1;34m(self, method, url, body, headers, retries, redirect, assert_same_host, timeout, pool_timeout, release_conn, chunked, body_pos, **response_kw)\u001b[0m\n\u001b[0;32m    702\u001b[0m \u001b[38;5;66;03m# Make the request on the httplib connection object.\u001b[39;00m\n\u001b[1;32m--> 703\u001b[0m httplib_response \u001b[38;5;241m=\u001b[39m \u001b[38;5;28;43mself\u001b[39;49m\u001b[38;5;241;43m.\u001b[39;49m\u001b[43m_make_request\u001b[49m\u001b[43m(\u001b[49m\n\u001b[0;32m    704\u001b[0m \u001b[43m    \u001b[49m\u001b[43mconn\u001b[49m\u001b[43m,\u001b[49m\n\u001b[0;32m    705\u001b[0m \u001b[43m    \u001b[49m\u001b[43mmethod\u001b[49m\u001b[43m,\u001b[49m\n\u001b[0;32m    706\u001b[0m \u001b[43m    \u001b[49m\u001b[43murl\u001b[49m\u001b[43m,\u001b[49m\n\u001b[0;32m    707\u001b[0m \u001b[43m    \u001b[49m\u001b[43mtimeout\u001b[49m\u001b[38;5;241;43m=\u001b[39;49m\u001b[43mtimeout_obj\u001b[49m\u001b[43m,\u001b[49m\n\u001b[0;32m    708\u001b[0m \u001b[43m    \u001b[49m\u001b[43mbody\u001b[49m\u001b[38;5;241;43m=\u001b[39;49m\u001b[43mbody\u001b[49m\u001b[43m,\u001b[49m\n\u001b[0;32m    709\u001b[0m \u001b[43m    \u001b[49m\u001b[43mheaders\u001b[49m\u001b[38;5;241;43m=\u001b[39;49m\u001b[43mheaders\u001b[49m\u001b[43m,\u001b[49m\n\u001b[0;32m    710\u001b[0m \u001b[43m    \u001b[49m\u001b[43mchunked\u001b[49m\u001b[38;5;241;43m=\u001b[39;49m\u001b[43mchunked\u001b[49m\u001b[43m,\u001b[49m\n\u001b[0;32m    711\u001b[0m \u001b[43m\u001b[49m\u001b[43m)\u001b[49m\n\u001b[0;32m    713\u001b[0m \u001b[38;5;66;03m# If we're going to release the connection in ``finally:``, then\u001b[39;00m\n\u001b[0;32m    714\u001b[0m \u001b[38;5;66;03m# the response doesn't need to know about the connection. Otherwise\u001b[39;00m\n\u001b[0;32m    715\u001b[0m \u001b[38;5;66;03m# it will also try to release it and we'll have a double-release\u001b[39;00m\n\u001b[0;32m    716\u001b[0m \u001b[38;5;66;03m# mess.\u001b[39;00m\n",
      "File \u001b[1;32m~\\anaconda3\\lib\\site-packages\\urllib3\\connectionpool.py:449\u001b[0m, in \u001b[0;36mHTTPConnectionPool._make_request\u001b[1;34m(self, conn, method, url, timeout, chunked, **httplib_request_kw)\u001b[0m\n\u001b[0;32m    445\u001b[0m         \u001b[38;5;28;01mexcept\u001b[39;00m \u001b[38;5;167;01mBaseException\u001b[39;00m \u001b[38;5;28;01mas\u001b[39;00m e:\n\u001b[0;32m    446\u001b[0m             \u001b[38;5;66;03m# Remove the TypeError from the exception chain in\u001b[39;00m\n\u001b[0;32m    447\u001b[0m             \u001b[38;5;66;03m# Python 3 (including for exceptions like SystemExit).\u001b[39;00m\n\u001b[0;32m    448\u001b[0m             \u001b[38;5;66;03m# Otherwise it looks like a bug in the code.\u001b[39;00m\n\u001b[1;32m--> 449\u001b[0m             \u001b[43msix\u001b[49m\u001b[38;5;241;43m.\u001b[39;49m\u001b[43mraise_from\u001b[49m\u001b[43m(\u001b[49m\u001b[43me\u001b[49m\u001b[43m,\u001b[49m\u001b[43m \u001b[49m\u001b[38;5;28;43;01mNone\u001b[39;49;00m\u001b[43m)\u001b[49m\n\u001b[0;32m    450\u001b[0m \u001b[38;5;28;01mexcept\u001b[39;00m (SocketTimeout, BaseSSLError, SocketError) \u001b[38;5;28;01mas\u001b[39;00m e:\n",
      "File \u001b[1;32m<string>:3\u001b[0m, in \u001b[0;36mraise_from\u001b[1;34m(value, from_value)\u001b[0m\n",
      "File \u001b[1;32m~\\anaconda3\\lib\\site-packages\\urllib3\\connectionpool.py:444\u001b[0m, in \u001b[0;36mHTTPConnectionPool._make_request\u001b[1;34m(self, conn, method, url, timeout, chunked, **httplib_request_kw)\u001b[0m\n\u001b[0;32m    443\u001b[0m \u001b[38;5;28;01mtry\u001b[39;00m:\n\u001b[1;32m--> 444\u001b[0m     httplib_response \u001b[38;5;241m=\u001b[39m \u001b[43mconn\u001b[49m\u001b[38;5;241;43m.\u001b[39;49m\u001b[43mgetresponse\u001b[49m\u001b[43m(\u001b[49m\u001b[43m)\u001b[49m\n\u001b[0;32m    445\u001b[0m \u001b[38;5;28;01mexcept\u001b[39;00m \u001b[38;5;167;01mBaseException\u001b[39;00m \u001b[38;5;28;01mas\u001b[39;00m e:\n\u001b[0;32m    446\u001b[0m     \u001b[38;5;66;03m# Remove the TypeError from the exception chain in\u001b[39;00m\n\u001b[0;32m    447\u001b[0m     \u001b[38;5;66;03m# Python 3 (including for exceptions like SystemExit).\u001b[39;00m\n\u001b[0;32m    448\u001b[0m     \u001b[38;5;66;03m# Otherwise it looks like a bug in the code.\u001b[39;00m\n",
      "File \u001b[1;32m~\\anaconda3\\lib\\http\\client.py:1377\u001b[0m, in \u001b[0;36mHTTPConnection.getresponse\u001b[1;34m(self)\u001b[0m\n\u001b[0;32m   1376\u001b[0m \u001b[38;5;28;01mtry\u001b[39;00m:\n\u001b[1;32m-> 1377\u001b[0m     \u001b[43mresponse\u001b[49m\u001b[38;5;241;43m.\u001b[39;49m\u001b[43mbegin\u001b[49m\u001b[43m(\u001b[49m\u001b[43m)\u001b[49m\n\u001b[0;32m   1378\u001b[0m \u001b[38;5;28;01mexcept\u001b[39;00m \u001b[38;5;167;01mConnectionError\u001b[39;00m:\n",
      "File \u001b[1;32m~\\anaconda3\\lib\\http\\client.py:320\u001b[0m, in \u001b[0;36mHTTPResponse.begin\u001b[1;34m(self)\u001b[0m\n\u001b[0;32m    319\u001b[0m \u001b[38;5;28;01mwhile\u001b[39;00m \u001b[38;5;28;01mTrue\u001b[39;00m:\n\u001b[1;32m--> 320\u001b[0m     version, status, reason \u001b[38;5;241m=\u001b[39m \u001b[38;5;28;43mself\u001b[39;49m\u001b[38;5;241;43m.\u001b[39;49m\u001b[43m_read_status\u001b[49m\u001b[43m(\u001b[49m\u001b[43m)\u001b[49m\n\u001b[0;32m    321\u001b[0m     \u001b[38;5;28;01mif\u001b[39;00m status \u001b[38;5;241m!=\u001b[39m CONTINUE:\n",
      "File \u001b[1;32m~\\anaconda3\\lib\\http\\client.py:281\u001b[0m, in \u001b[0;36mHTTPResponse._read_status\u001b[1;34m(self)\u001b[0m\n\u001b[0;32m    280\u001b[0m \u001b[38;5;28;01mdef\u001b[39;00m \u001b[38;5;21m_read_status\u001b[39m(\u001b[38;5;28mself\u001b[39m):\n\u001b[1;32m--> 281\u001b[0m     line \u001b[38;5;241m=\u001b[39m \u001b[38;5;28mstr\u001b[39m(\u001b[38;5;28;43mself\u001b[39;49m\u001b[38;5;241;43m.\u001b[39;49m\u001b[43mfp\u001b[49m\u001b[38;5;241;43m.\u001b[39;49m\u001b[43mreadline\u001b[49m\u001b[43m(\u001b[49m\u001b[43m_MAXLINE\u001b[49m\u001b[43m \u001b[49m\u001b[38;5;241;43m+\u001b[39;49m\u001b[43m \u001b[49m\u001b[38;5;241;43m1\u001b[39;49m\u001b[43m)\u001b[49m, \u001b[38;5;124m\"\u001b[39m\u001b[38;5;124miso-8859-1\u001b[39m\u001b[38;5;124m\"\u001b[39m)\n\u001b[0;32m    282\u001b[0m     \u001b[38;5;28;01mif\u001b[39;00m \u001b[38;5;28mlen\u001b[39m(line) \u001b[38;5;241m>\u001b[39m _MAXLINE:\n",
      "File \u001b[1;32m~\\anaconda3\\lib\\socket.py:704\u001b[0m, in \u001b[0;36mSocketIO.readinto\u001b[1;34m(self, b)\u001b[0m\n\u001b[0;32m    703\u001b[0m \u001b[38;5;28;01mtry\u001b[39;00m:\n\u001b[1;32m--> 704\u001b[0m     \u001b[38;5;28;01mreturn\u001b[39;00m \u001b[38;5;28;43mself\u001b[39;49m\u001b[38;5;241;43m.\u001b[39;49m\u001b[43m_sock\u001b[49m\u001b[38;5;241;43m.\u001b[39;49m\u001b[43mrecv_into\u001b[49m\u001b[43m(\u001b[49m\u001b[43mb\u001b[49m\u001b[43m)\u001b[49m\n\u001b[0;32m    705\u001b[0m \u001b[38;5;28;01mexcept\u001b[39;00m timeout:\n",
      "File \u001b[1;32m~\\anaconda3\\lib\\ssl.py:1241\u001b[0m, in \u001b[0;36mSSLSocket.recv_into\u001b[1;34m(self, buffer, nbytes, flags)\u001b[0m\n\u001b[0;32m   1238\u001b[0m         \u001b[38;5;28;01mraise\u001b[39;00m \u001b[38;5;167;01mValueError\u001b[39;00m(\n\u001b[0;32m   1239\u001b[0m           \u001b[38;5;124m\"\u001b[39m\u001b[38;5;124mnon-zero flags not allowed in calls to recv_into() on \u001b[39m\u001b[38;5;132;01m%s\u001b[39;00m\u001b[38;5;124m\"\u001b[39m \u001b[38;5;241m%\u001b[39m\n\u001b[0;32m   1240\u001b[0m           \u001b[38;5;28mself\u001b[39m\u001b[38;5;241m.\u001b[39m\u001b[38;5;18m__class__\u001b[39m)\n\u001b[1;32m-> 1241\u001b[0m     \u001b[38;5;28;01mreturn\u001b[39;00m \u001b[38;5;28;43mself\u001b[39;49m\u001b[38;5;241;43m.\u001b[39;49m\u001b[43mread\u001b[49m\u001b[43m(\u001b[49m\u001b[43mnbytes\u001b[49m\u001b[43m,\u001b[49m\u001b[43m \u001b[49m\u001b[43mbuffer\u001b[49m\u001b[43m)\u001b[49m\n\u001b[0;32m   1242\u001b[0m \u001b[38;5;28;01melse\u001b[39;00m:\n",
      "File \u001b[1;32m~\\anaconda3\\lib\\ssl.py:1099\u001b[0m, in \u001b[0;36mSSLSocket.read\u001b[1;34m(self, len, buffer)\u001b[0m\n\u001b[0;32m   1098\u001b[0m \u001b[38;5;28;01mif\u001b[39;00m buffer \u001b[38;5;129;01mis\u001b[39;00m \u001b[38;5;129;01mnot\u001b[39;00m \u001b[38;5;28;01mNone\u001b[39;00m:\n\u001b[1;32m-> 1099\u001b[0m     \u001b[38;5;28;01mreturn\u001b[39;00m \u001b[38;5;28;43mself\u001b[39;49m\u001b[38;5;241;43m.\u001b[39;49m\u001b[43m_sslobj\u001b[49m\u001b[38;5;241;43m.\u001b[39;49m\u001b[43mread\u001b[49m\u001b[43m(\u001b[49m\u001b[38;5;28;43mlen\u001b[39;49m\u001b[43m,\u001b[49m\u001b[43m \u001b[49m\u001b[43mbuffer\u001b[49m\u001b[43m)\u001b[49m\n\u001b[0;32m   1100\u001b[0m \u001b[38;5;28;01melse\u001b[39;00m:\n",
      "\u001b[1;31mConnectionResetError\u001b[0m: [WinError 10054] An existing connection was forcibly closed by the remote host",
      "\nDuring handling of the above exception, another exception occurred:\n",
      "\u001b[1;31mProtocolError\u001b[0m                             Traceback (most recent call last)",
      "File \u001b[1;32m~\\anaconda3\\lib\\site-packages\\requests\\adapters.py:440\u001b[0m, in \u001b[0;36mHTTPAdapter.send\u001b[1;34m(self, request, stream, timeout, verify, cert, proxies)\u001b[0m\n\u001b[0;32m    439\u001b[0m \u001b[38;5;28;01mif\u001b[39;00m \u001b[38;5;129;01mnot\u001b[39;00m chunked:\n\u001b[1;32m--> 440\u001b[0m     resp \u001b[38;5;241m=\u001b[39m \u001b[43mconn\u001b[49m\u001b[38;5;241;43m.\u001b[39;49m\u001b[43murlopen\u001b[49m\u001b[43m(\u001b[49m\n\u001b[0;32m    441\u001b[0m \u001b[43m        \u001b[49m\u001b[43mmethod\u001b[49m\u001b[38;5;241;43m=\u001b[39;49m\u001b[43mrequest\u001b[49m\u001b[38;5;241;43m.\u001b[39;49m\u001b[43mmethod\u001b[49m\u001b[43m,\u001b[49m\n\u001b[0;32m    442\u001b[0m \u001b[43m        \u001b[49m\u001b[43murl\u001b[49m\u001b[38;5;241;43m=\u001b[39;49m\u001b[43murl\u001b[49m\u001b[43m,\u001b[49m\n\u001b[0;32m    443\u001b[0m \u001b[43m        \u001b[49m\u001b[43mbody\u001b[49m\u001b[38;5;241;43m=\u001b[39;49m\u001b[43mrequest\u001b[49m\u001b[38;5;241;43m.\u001b[39;49m\u001b[43mbody\u001b[49m\u001b[43m,\u001b[49m\n\u001b[0;32m    444\u001b[0m \u001b[43m        \u001b[49m\u001b[43mheaders\u001b[49m\u001b[38;5;241;43m=\u001b[39;49m\u001b[43mrequest\u001b[49m\u001b[38;5;241;43m.\u001b[39;49m\u001b[43mheaders\u001b[49m\u001b[43m,\u001b[49m\n\u001b[0;32m    445\u001b[0m \u001b[43m        \u001b[49m\u001b[43mredirect\u001b[49m\u001b[38;5;241;43m=\u001b[39;49m\u001b[38;5;28;43;01mFalse\u001b[39;49;00m\u001b[43m,\u001b[49m\n\u001b[0;32m    446\u001b[0m \u001b[43m        \u001b[49m\u001b[43massert_same_host\u001b[49m\u001b[38;5;241;43m=\u001b[39;49m\u001b[38;5;28;43;01mFalse\u001b[39;49;00m\u001b[43m,\u001b[49m\n\u001b[0;32m    447\u001b[0m \u001b[43m        \u001b[49m\u001b[43mpreload_content\u001b[49m\u001b[38;5;241;43m=\u001b[39;49m\u001b[38;5;28;43;01mFalse\u001b[39;49;00m\u001b[43m,\u001b[49m\n\u001b[0;32m    448\u001b[0m \u001b[43m        \u001b[49m\u001b[43mdecode_content\u001b[49m\u001b[38;5;241;43m=\u001b[39;49m\u001b[38;5;28;43;01mFalse\u001b[39;49;00m\u001b[43m,\u001b[49m\n\u001b[0;32m    449\u001b[0m \u001b[43m        \u001b[49m\u001b[43mretries\u001b[49m\u001b[38;5;241;43m=\u001b[39;49m\u001b[38;5;28;43mself\u001b[39;49m\u001b[38;5;241;43m.\u001b[39;49m\u001b[43mmax_retries\u001b[49m\u001b[43m,\u001b[49m\n\u001b[0;32m    450\u001b[0m \u001b[43m        \u001b[49m\u001b[43mtimeout\u001b[49m\u001b[38;5;241;43m=\u001b[39;49m\u001b[43mtimeout\u001b[49m\n\u001b[0;32m    451\u001b[0m \u001b[43m    \u001b[49m\u001b[43m)\u001b[49m\n\u001b[0;32m    453\u001b[0m \u001b[38;5;66;03m# Send the request.\u001b[39;00m\n\u001b[0;32m    454\u001b[0m \u001b[38;5;28;01melse\u001b[39;00m:\n",
      "File \u001b[1;32m~\\anaconda3\\lib\\site-packages\\urllib3\\connectionpool.py:785\u001b[0m, in \u001b[0;36mHTTPConnectionPool.urlopen\u001b[1;34m(self, method, url, body, headers, retries, redirect, assert_same_host, timeout, pool_timeout, release_conn, chunked, body_pos, **response_kw)\u001b[0m\n\u001b[0;32m    783\u001b[0m     e \u001b[38;5;241m=\u001b[39m ProtocolError(\u001b[38;5;124m\"\u001b[39m\u001b[38;5;124mConnection aborted.\u001b[39m\u001b[38;5;124m\"\u001b[39m, e)\n\u001b[1;32m--> 785\u001b[0m retries \u001b[38;5;241m=\u001b[39m \u001b[43mretries\u001b[49m\u001b[38;5;241;43m.\u001b[39;49m\u001b[43mincrement\u001b[49m\u001b[43m(\u001b[49m\n\u001b[0;32m    786\u001b[0m \u001b[43m    \u001b[49m\u001b[43mmethod\u001b[49m\u001b[43m,\u001b[49m\u001b[43m \u001b[49m\u001b[43murl\u001b[49m\u001b[43m,\u001b[49m\u001b[43m \u001b[49m\u001b[43merror\u001b[49m\u001b[38;5;241;43m=\u001b[39;49m\u001b[43me\u001b[49m\u001b[43m,\u001b[49m\u001b[43m \u001b[49m\u001b[43m_pool\u001b[49m\u001b[38;5;241;43m=\u001b[39;49m\u001b[38;5;28;43mself\u001b[39;49m\u001b[43m,\u001b[49m\u001b[43m \u001b[49m\u001b[43m_stacktrace\u001b[49m\u001b[38;5;241;43m=\u001b[39;49m\u001b[43msys\u001b[49m\u001b[38;5;241;43m.\u001b[39;49m\u001b[43mexc_info\u001b[49m\u001b[43m(\u001b[49m\u001b[43m)\u001b[49m\u001b[43m[\u001b[49m\u001b[38;5;241;43m2\u001b[39;49m\u001b[43m]\u001b[49m\n\u001b[0;32m    787\u001b[0m \u001b[43m\u001b[49m\u001b[43m)\u001b[49m\n\u001b[0;32m    788\u001b[0m retries\u001b[38;5;241m.\u001b[39msleep()\n",
      "File \u001b[1;32m~\\anaconda3\\lib\\site-packages\\urllib3\\util\\retry.py:550\u001b[0m, in \u001b[0;36mRetry.increment\u001b[1;34m(self, method, url, response, error, _pool, _stacktrace)\u001b[0m\n\u001b[0;32m    549\u001b[0m \u001b[38;5;28;01mif\u001b[39;00m read \u001b[38;5;129;01mis\u001b[39;00m \u001b[38;5;28;01mFalse\u001b[39;00m \u001b[38;5;129;01mor\u001b[39;00m \u001b[38;5;129;01mnot\u001b[39;00m \u001b[38;5;28mself\u001b[39m\u001b[38;5;241m.\u001b[39m_is_method_retryable(method):\n\u001b[1;32m--> 550\u001b[0m     \u001b[38;5;28;01mraise\u001b[39;00m \u001b[43msix\u001b[49m\u001b[38;5;241;43m.\u001b[39;49m\u001b[43mreraise\u001b[49m\u001b[43m(\u001b[49m\u001b[38;5;28;43mtype\u001b[39;49m\u001b[43m(\u001b[49m\u001b[43merror\u001b[49m\u001b[43m)\u001b[49m\u001b[43m,\u001b[49m\u001b[43m \u001b[49m\u001b[43merror\u001b[49m\u001b[43m,\u001b[49m\u001b[43m \u001b[49m\u001b[43m_stacktrace\u001b[49m\u001b[43m)\u001b[49m\n\u001b[0;32m    551\u001b[0m \u001b[38;5;28;01melif\u001b[39;00m read \u001b[38;5;129;01mis\u001b[39;00m \u001b[38;5;129;01mnot\u001b[39;00m \u001b[38;5;28;01mNone\u001b[39;00m:\n",
      "File \u001b[1;32m~\\anaconda3\\lib\\site-packages\\urllib3\\packages\\six.py:769\u001b[0m, in \u001b[0;36mreraise\u001b[1;34m(tp, value, tb)\u001b[0m\n\u001b[0;32m    768\u001b[0m \u001b[38;5;28;01mif\u001b[39;00m value\u001b[38;5;241m.\u001b[39m__traceback__ \u001b[38;5;129;01mis\u001b[39;00m \u001b[38;5;129;01mnot\u001b[39;00m tb:\n\u001b[1;32m--> 769\u001b[0m     \u001b[38;5;28;01mraise\u001b[39;00m value\u001b[38;5;241m.\u001b[39mwith_traceback(tb)\n\u001b[0;32m    770\u001b[0m \u001b[38;5;28;01mraise\u001b[39;00m value\n",
      "File \u001b[1;32m~\\anaconda3\\lib\\site-packages\\urllib3\\connectionpool.py:703\u001b[0m, in \u001b[0;36mHTTPConnectionPool.urlopen\u001b[1;34m(self, method, url, body, headers, retries, redirect, assert_same_host, timeout, pool_timeout, release_conn, chunked, body_pos, **response_kw)\u001b[0m\n\u001b[0;32m    702\u001b[0m \u001b[38;5;66;03m# Make the request on the httplib connection object.\u001b[39;00m\n\u001b[1;32m--> 703\u001b[0m httplib_response \u001b[38;5;241m=\u001b[39m \u001b[38;5;28;43mself\u001b[39;49m\u001b[38;5;241;43m.\u001b[39;49m\u001b[43m_make_request\u001b[49m\u001b[43m(\u001b[49m\n\u001b[0;32m    704\u001b[0m \u001b[43m    \u001b[49m\u001b[43mconn\u001b[49m\u001b[43m,\u001b[49m\n\u001b[0;32m    705\u001b[0m \u001b[43m    \u001b[49m\u001b[43mmethod\u001b[49m\u001b[43m,\u001b[49m\n\u001b[0;32m    706\u001b[0m \u001b[43m    \u001b[49m\u001b[43murl\u001b[49m\u001b[43m,\u001b[49m\n\u001b[0;32m    707\u001b[0m \u001b[43m    \u001b[49m\u001b[43mtimeout\u001b[49m\u001b[38;5;241;43m=\u001b[39;49m\u001b[43mtimeout_obj\u001b[49m\u001b[43m,\u001b[49m\n\u001b[0;32m    708\u001b[0m \u001b[43m    \u001b[49m\u001b[43mbody\u001b[49m\u001b[38;5;241;43m=\u001b[39;49m\u001b[43mbody\u001b[49m\u001b[43m,\u001b[49m\n\u001b[0;32m    709\u001b[0m \u001b[43m    \u001b[49m\u001b[43mheaders\u001b[49m\u001b[38;5;241;43m=\u001b[39;49m\u001b[43mheaders\u001b[49m\u001b[43m,\u001b[49m\n\u001b[0;32m    710\u001b[0m \u001b[43m    \u001b[49m\u001b[43mchunked\u001b[49m\u001b[38;5;241;43m=\u001b[39;49m\u001b[43mchunked\u001b[49m\u001b[43m,\u001b[49m\n\u001b[0;32m    711\u001b[0m \u001b[43m\u001b[49m\u001b[43m)\u001b[49m\n\u001b[0;32m    713\u001b[0m \u001b[38;5;66;03m# If we're going to release the connection in ``finally:``, then\u001b[39;00m\n\u001b[0;32m    714\u001b[0m \u001b[38;5;66;03m# the response doesn't need to know about the connection. Otherwise\u001b[39;00m\n\u001b[0;32m    715\u001b[0m \u001b[38;5;66;03m# it will also try to release it and we'll have a double-release\u001b[39;00m\n\u001b[0;32m    716\u001b[0m \u001b[38;5;66;03m# mess.\u001b[39;00m\n",
      "File \u001b[1;32m~\\anaconda3\\lib\\site-packages\\urllib3\\connectionpool.py:449\u001b[0m, in \u001b[0;36mHTTPConnectionPool._make_request\u001b[1;34m(self, conn, method, url, timeout, chunked, **httplib_request_kw)\u001b[0m\n\u001b[0;32m    445\u001b[0m         \u001b[38;5;28;01mexcept\u001b[39;00m \u001b[38;5;167;01mBaseException\u001b[39;00m \u001b[38;5;28;01mas\u001b[39;00m e:\n\u001b[0;32m    446\u001b[0m             \u001b[38;5;66;03m# Remove the TypeError from the exception chain in\u001b[39;00m\n\u001b[0;32m    447\u001b[0m             \u001b[38;5;66;03m# Python 3 (including for exceptions like SystemExit).\u001b[39;00m\n\u001b[0;32m    448\u001b[0m             \u001b[38;5;66;03m# Otherwise it looks like a bug in the code.\u001b[39;00m\n\u001b[1;32m--> 449\u001b[0m             \u001b[43msix\u001b[49m\u001b[38;5;241;43m.\u001b[39;49m\u001b[43mraise_from\u001b[49m\u001b[43m(\u001b[49m\u001b[43me\u001b[49m\u001b[43m,\u001b[49m\u001b[43m \u001b[49m\u001b[38;5;28;43;01mNone\u001b[39;49;00m\u001b[43m)\u001b[49m\n\u001b[0;32m    450\u001b[0m \u001b[38;5;28;01mexcept\u001b[39;00m (SocketTimeout, BaseSSLError, SocketError) \u001b[38;5;28;01mas\u001b[39;00m e:\n",
      "File \u001b[1;32m<string>:3\u001b[0m, in \u001b[0;36mraise_from\u001b[1;34m(value, from_value)\u001b[0m\n",
      "File \u001b[1;32m~\\anaconda3\\lib\\site-packages\\urllib3\\connectionpool.py:444\u001b[0m, in \u001b[0;36mHTTPConnectionPool._make_request\u001b[1;34m(self, conn, method, url, timeout, chunked, **httplib_request_kw)\u001b[0m\n\u001b[0;32m    443\u001b[0m \u001b[38;5;28;01mtry\u001b[39;00m:\n\u001b[1;32m--> 444\u001b[0m     httplib_response \u001b[38;5;241m=\u001b[39m \u001b[43mconn\u001b[49m\u001b[38;5;241;43m.\u001b[39;49m\u001b[43mgetresponse\u001b[49m\u001b[43m(\u001b[49m\u001b[43m)\u001b[49m\n\u001b[0;32m    445\u001b[0m \u001b[38;5;28;01mexcept\u001b[39;00m \u001b[38;5;167;01mBaseException\u001b[39;00m \u001b[38;5;28;01mas\u001b[39;00m e:\n\u001b[0;32m    446\u001b[0m     \u001b[38;5;66;03m# Remove the TypeError from the exception chain in\u001b[39;00m\n\u001b[0;32m    447\u001b[0m     \u001b[38;5;66;03m# Python 3 (including for exceptions like SystemExit).\u001b[39;00m\n\u001b[0;32m    448\u001b[0m     \u001b[38;5;66;03m# Otherwise it looks like a bug in the code.\u001b[39;00m\n",
      "File \u001b[1;32m~\\anaconda3\\lib\\http\\client.py:1377\u001b[0m, in \u001b[0;36mHTTPConnection.getresponse\u001b[1;34m(self)\u001b[0m\n\u001b[0;32m   1376\u001b[0m \u001b[38;5;28;01mtry\u001b[39;00m:\n\u001b[1;32m-> 1377\u001b[0m     \u001b[43mresponse\u001b[49m\u001b[38;5;241;43m.\u001b[39;49m\u001b[43mbegin\u001b[49m\u001b[43m(\u001b[49m\u001b[43m)\u001b[49m\n\u001b[0;32m   1378\u001b[0m \u001b[38;5;28;01mexcept\u001b[39;00m \u001b[38;5;167;01mConnectionError\u001b[39;00m:\n",
      "File \u001b[1;32m~\\anaconda3\\lib\\http\\client.py:320\u001b[0m, in \u001b[0;36mHTTPResponse.begin\u001b[1;34m(self)\u001b[0m\n\u001b[0;32m    319\u001b[0m \u001b[38;5;28;01mwhile\u001b[39;00m \u001b[38;5;28;01mTrue\u001b[39;00m:\n\u001b[1;32m--> 320\u001b[0m     version, status, reason \u001b[38;5;241m=\u001b[39m \u001b[38;5;28;43mself\u001b[39;49m\u001b[38;5;241;43m.\u001b[39;49m\u001b[43m_read_status\u001b[49m\u001b[43m(\u001b[49m\u001b[43m)\u001b[49m\n\u001b[0;32m    321\u001b[0m     \u001b[38;5;28;01mif\u001b[39;00m status \u001b[38;5;241m!=\u001b[39m CONTINUE:\n",
      "File \u001b[1;32m~\\anaconda3\\lib\\http\\client.py:281\u001b[0m, in \u001b[0;36mHTTPResponse._read_status\u001b[1;34m(self)\u001b[0m\n\u001b[0;32m    280\u001b[0m \u001b[38;5;28;01mdef\u001b[39;00m \u001b[38;5;21m_read_status\u001b[39m(\u001b[38;5;28mself\u001b[39m):\n\u001b[1;32m--> 281\u001b[0m     line \u001b[38;5;241m=\u001b[39m \u001b[38;5;28mstr\u001b[39m(\u001b[38;5;28;43mself\u001b[39;49m\u001b[38;5;241;43m.\u001b[39;49m\u001b[43mfp\u001b[49m\u001b[38;5;241;43m.\u001b[39;49m\u001b[43mreadline\u001b[49m\u001b[43m(\u001b[49m\u001b[43m_MAXLINE\u001b[49m\u001b[43m \u001b[49m\u001b[38;5;241;43m+\u001b[39;49m\u001b[43m \u001b[49m\u001b[38;5;241;43m1\u001b[39;49m\u001b[43m)\u001b[49m, \u001b[38;5;124m\"\u001b[39m\u001b[38;5;124miso-8859-1\u001b[39m\u001b[38;5;124m\"\u001b[39m)\n\u001b[0;32m    282\u001b[0m     \u001b[38;5;28;01mif\u001b[39;00m \u001b[38;5;28mlen\u001b[39m(line) \u001b[38;5;241m>\u001b[39m _MAXLINE:\n",
      "File \u001b[1;32m~\\anaconda3\\lib\\socket.py:704\u001b[0m, in \u001b[0;36mSocketIO.readinto\u001b[1;34m(self, b)\u001b[0m\n\u001b[0;32m    703\u001b[0m \u001b[38;5;28;01mtry\u001b[39;00m:\n\u001b[1;32m--> 704\u001b[0m     \u001b[38;5;28;01mreturn\u001b[39;00m \u001b[38;5;28;43mself\u001b[39;49m\u001b[38;5;241;43m.\u001b[39;49m\u001b[43m_sock\u001b[49m\u001b[38;5;241;43m.\u001b[39;49m\u001b[43mrecv_into\u001b[49m\u001b[43m(\u001b[49m\u001b[43mb\u001b[49m\u001b[43m)\u001b[49m\n\u001b[0;32m    705\u001b[0m \u001b[38;5;28;01mexcept\u001b[39;00m timeout:\n",
      "File \u001b[1;32m~\\anaconda3\\lib\\ssl.py:1241\u001b[0m, in \u001b[0;36mSSLSocket.recv_into\u001b[1;34m(self, buffer, nbytes, flags)\u001b[0m\n\u001b[0;32m   1238\u001b[0m         \u001b[38;5;28;01mraise\u001b[39;00m \u001b[38;5;167;01mValueError\u001b[39;00m(\n\u001b[0;32m   1239\u001b[0m           \u001b[38;5;124m\"\u001b[39m\u001b[38;5;124mnon-zero flags not allowed in calls to recv_into() on \u001b[39m\u001b[38;5;132;01m%s\u001b[39;00m\u001b[38;5;124m\"\u001b[39m \u001b[38;5;241m%\u001b[39m\n\u001b[0;32m   1240\u001b[0m           \u001b[38;5;28mself\u001b[39m\u001b[38;5;241m.\u001b[39m\u001b[38;5;18m__class__\u001b[39m)\n\u001b[1;32m-> 1241\u001b[0m     \u001b[38;5;28;01mreturn\u001b[39;00m \u001b[38;5;28;43mself\u001b[39;49m\u001b[38;5;241;43m.\u001b[39;49m\u001b[43mread\u001b[49m\u001b[43m(\u001b[49m\u001b[43mnbytes\u001b[49m\u001b[43m,\u001b[49m\u001b[43m \u001b[49m\u001b[43mbuffer\u001b[49m\u001b[43m)\u001b[49m\n\u001b[0;32m   1242\u001b[0m \u001b[38;5;28;01melse\u001b[39;00m:\n",
      "File \u001b[1;32m~\\anaconda3\\lib\\ssl.py:1099\u001b[0m, in \u001b[0;36mSSLSocket.read\u001b[1;34m(self, len, buffer)\u001b[0m\n\u001b[0;32m   1098\u001b[0m \u001b[38;5;28;01mif\u001b[39;00m buffer \u001b[38;5;129;01mis\u001b[39;00m \u001b[38;5;129;01mnot\u001b[39;00m \u001b[38;5;28;01mNone\u001b[39;00m:\n\u001b[1;32m-> 1099\u001b[0m     \u001b[38;5;28;01mreturn\u001b[39;00m \u001b[38;5;28;43mself\u001b[39;49m\u001b[38;5;241;43m.\u001b[39;49m\u001b[43m_sslobj\u001b[49m\u001b[38;5;241;43m.\u001b[39;49m\u001b[43mread\u001b[49m\u001b[43m(\u001b[49m\u001b[38;5;28;43mlen\u001b[39;49m\u001b[43m,\u001b[49m\u001b[43m \u001b[49m\u001b[43mbuffer\u001b[49m\u001b[43m)\u001b[49m\n\u001b[0;32m   1100\u001b[0m \u001b[38;5;28;01melse\u001b[39;00m:\n",
      "\u001b[1;31mProtocolError\u001b[0m: ('Connection aborted.', ConnectionResetError(10054, 'An existing connection was forcibly closed by the remote host', None, 10054, None))",
      "\nDuring handling of the above exception, another exception occurred:\n",
      "\u001b[1;31mConnectionError\u001b[0m                           Traceback (most recent call last)",
      "Input \u001b[1;32mIn [8]\u001b[0m, in \u001b[0;36m<cell line: 2>\u001b[1;34m()\u001b[0m\n\u001b[0;32m      1\u001b[0m trader\u001b[38;5;241m.\u001b[39mget_most_recent()\n\u001b[1;32m----> 2\u001b[0m \u001b[43mapi\u001b[49m\u001b[38;5;241;43m.\u001b[39;49m\u001b[43msubscribe_market_data\u001b[49m\u001b[43m(\u001b[49m\u001b[43mtrader\u001b[49m\u001b[38;5;241;43m.\u001b[39;49m\u001b[43minstrument\u001b[49m\u001b[43m,\u001b[49m\u001b[43m \u001b[49m\u001b[43m(\u001b[49m\u001b[43mtrader\u001b[49m\u001b[38;5;241;43m.\u001b[39;49m\u001b[43mget_tick_data\u001b[49m\u001b[43m,\u001b[49m\u001b[43m \u001b[49m\u001b[43m)\u001b[49m\u001b[43m)\u001b[49m\n",
      "File \u001b[1;32m~\\anaconda3\\lib\\site-packages\\fxcmpy\\fxcmpy.py:748\u001b[0m, in \u001b[0;36mfxcmpy.subscribe_market_data\u001b[1;34m(self, symbol, add_callbacks)\u001b[0m\n\u001b[0;32m    745\u001b[0m         \u001b[38;5;28mself\u001b[39m\u001b[38;5;241m.\u001b[39madd_callbacks[symbol][func\u001b[38;5;241m.\u001b[39m\u001b[38;5;18m__name__\u001b[39m] \u001b[38;5;241m=\u001b[39m func\n\u001b[0;32m    747\u001b[0m params \u001b[38;5;241m=\u001b[39m {\u001b[38;5;124m'\u001b[39m\u001b[38;5;124mpairs\u001b[39m\u001b[38;5;124m'\u001b[39m: symbol}\n\u001b[1;32m--> 748\u001b[0m data \u001b[38;5;241m=\u001b[39m \u001b[38;5;28;43mself\u001b[39;49m\u001b[38;5;241;43m.\u001b[39;49m\u001b[43m__handle_request__\u001b[49m\u001b[43m(\u001b[49m\u001b[43mmethod\u001b[49m\u001b[38;5;241;43m=\u001b[39;49m\u001b[38;5;124;43m'\u001b[39;49m\u001b[38;5;124;43msubscribe\u001b[39;49m\u001b[38;5;124;43m'\u001b[39;49m\u001b[43m,\u001b[49m\u001b[43m \u001b[49m\u001b[43mparams\u001b[49m\u001b[38;5;241;43m=\u001b[39;49m\u001b[43mparams\u001b[49m\u001b[43m,\u001b[49m\n\u001b[0;32m    749\u001b[0m \u001b[43m                               \u001b[49m\u001b[43mprotocol\u001b[49m\u001b[38;5;241;43m=\u001b[39;49m\u001b[38;5;124;43m'\u001b[39;49m\u001b[38;5;124;43mpost\u001b[39;49m\u001b[38;5;124;43m'\u001b[39;49m\u001b[43m)\u001b[49m\n\u001b[0;32m    750\u001b[0m \u001b[38;5;28;01mif\u001b[39;00m symbol \u001b[38;5;129;01mnot\u001b[39;00m \u001b[38;5;129;01min\u001b[39;00m \u001b[38;5;28mself\u001b[39m\u001b[38;5;241m.\u001b[39mprices:\n\u001b[0;32m    751\u001b[0m     data \u001b[38;5;241m=\u001b[39m data[\u001b[38;5;124m'\u001b[39m\u001b[38;5;124mpairs\u001b[39m\u001b[38;5;124m'\u001b[39m][\u001b[38;5;241m0\u001b[39m]\n",
      "File \u001b[1;32m~\\anaconda3\\lib\\site-packages\\fxcmpy\\fxcmpy.py:2487\u001b[0m, in \u001b[0;36mfxcmpy.__handle_request__\u001b[1;34m(self, method, params, protocol)\u001b[0m\n\u001b[0;32m   2483\u001b[0m \u001b[38;5;28mself\u001b[39m\u001b[38;5;241m.\u001b[39mlogger\u001b[38;5;241m.\u001b[39minfo(\u001b[38;5;124m'\u001b[39m\u001b[38;5;124mSending request to \u001b[39m\u001b[38;5;132;01m%s\u001b[39;00m\u001b[38;5;124m/\u001b[39m\u001b[38;5;132;01m%s\u001b[39;00m\u001b[38;5;124m, parameter: \u001b[39m\u001b[38;5;132;01m%s\u001b[39;00m\u001b[38;5;124m.\u001b[39m\u001b[38;5;124m'\u001b[39m\n\u001b[0;32m   2484\u001b[0m                  \u001b[38;5;241m%\u001b[39m (\u001b[38;5;28mself\u001b[39m\u001b[38;5;241m.\u001b[39mtrading_url, method, params))\n\u001b[0;32m   2486\u001b[0m \u001b[38;5;28;01mif\u001b[39;00m protocol \u001b[38;5;241m==\u001b[39m \u001b[38;5;124m'\u001b[39m\u001b[38;5;124mpost\u001b[39m\u001b[38;5;124m'\u001b[39m:\n\u001b[1;32m-> 2487\u001b[0m     req \u001b[38;5;241m=\u001b[39m \u001b[43mrequests\u001b[49m\u001b[38;5;241;43m.\u001b[39;49m\u001b[43mpost\u001b[49m\u001b[43m(\u001b[49m\u001b[38;5;124;43m'\u001b[39;49m\u001b[38;5;132;43;01m%s\u001b[39;49;00m\u001b[38;5;124;43m:443/\u001b[39;49m\u001b[38;5;132;43;01m%s\u001b[39;49;00m\u001b[38;5;124;43m'\u001b[39;49m\u001b[43m \u001b[49m\u001b[38;5;241;43m%\u001b[39;49m\u001b[43m \u001b[49m\u001b[43m(\u001b[49m\u001b[38;5;28;43mself\u001b[39;49m\u001b[38;5;241;43m.\u001b[39;49m\u001b[43mtrading_url\u001b[49m\u001b[43m,\u001b[49m\u001b[43m \u001b[49m\u001b[43mmethod\u001b[49m\u001b[43m)\u001b[49m\u001b[43m,\u001b[49m\n\u001b[0;32m   2488\u001b[0m \u001b[43m                        \u001b[49m\u001b[43mheaders\u001b[49m\u001b[38;5;241;43m=\u001b[39;49m\u001b[38;5;28;43mself\u001b[39;49m\u001b[38;5;241;43m.\u001b[39;49m\u001b[43mrequest_headers\u001b[49m\u001b[43m,\u001b[49m\u001b[43m \u001b[49m\u001b[43mdata\u001b[49m\u001b[38;5;241;43m=\u001b[39;49m\u001b[43mparams\u001b[49m\u001b[43m,\u001b[49m\n\u001b[0;32m   2489\u001b[0m \u001b[43m                        \u001b[49m\u001b[43mproxies\u001b[49m\u001b[38;5;241;43m=\u001b[39;49m\u001b[38;5;28;43mself\u001b[39;49m\u001b[38;5;241;43m.\u001b[39;49m\u001b[43mproxies\u001b[49m\u001b[43m)\u001b[49m\n\u001b[0;32m   2490\u001b[0m     \u001b[38;5;28mself\u001b[39m\u001b[38;5;241m.\u001b[39mlogger\u001b[38;5;241m.\u001b[39minfo(\u001b[38;5;124m'\u001b[39m\u001b[38;5;124mSending POST Request:\u001b[39m\u001b[38;5;124m'\u001b[39m)\n\u001b[0;32m   2491\u001b[0m     \u001b[38;5;28mself\u001b[39m\u001b[38;5;241m.\u001b[39mlogger\u001b[38;5;241m.\u001b[39minfo(\u001b[38;5;124m'\u001b[39m\u001b[38;5;124mURL: \u001b[39m\u001b[38;5;132;01m%s\u001b[39;00m\u001b[38;5;124m'\u001b[39m \u001b[38;5;241m%\u001b[39m req\u001b[38;5;241m.\u001b[39murl)\n",
      "File \u001b[1;32m~\\anaconda3\\lib\\site-packages\\requests\\api.py:117\u001b[0m, in \u001b[0;36mpost\u001b[1;34m(url, data, json, **kwargs)\u001b[0m\n\u001b[0;32m    105\u001b[0m \u001b[38;5;28;01mdef\u001b[39;00m \u001b[38;5;21mpost\u001b[39m(url, data\u001b[38;5;241m=\u001b[39m\u001b[38;5;28;01mNone\u001b[39;00m, json\u001b[38;5;241m=\u001b[39m\u001b[38;5;28;01mNone\u001b[39;00m, \u001b[38;5;241m*\u001b[39m\u001b[38;5;241m*\u001b[39mkwargs):\n\u001b[0;32m    106\u001b[0m     \u001b[38;5;124mr\u001b[39m\u001b[38;5;124;03m\"\"\"Sends a POST request.\u001b[39;00m\n\u001b[0;32m    107\u001b[0m \n\u001b[0;32m    108\u001b[0m \u001b[38;5;124;03m    :param url: URL for the new :class:`Request` object.\u001b[39;00m\n\u001b[1;32m   (...)\u001b[0m\n\u001b[0;32m    114\u001b[0m \u001b[38;5;124;03m    :rtype: requests.Response\u001b[39;00m\n\u001b[0;32m    115\u001b[0m \u001b[38;5;124;03m    \"\"\"\u001b[39;00m\n\u001b[1;32m--> 117\u001b[0m     \u001b[38;5;28;01mreturn\u001b[39;00m request(\u001b[38;5;124m'\u001b[39m\u001b[38;5;124mpost\u001b[39m\u001b[38;5;124m'\u001b[39m, url, data\u001b[38;5;241m=\u001b[39mdata, json\u001b[38;5;241m=\u001b[39mjson, \u001b[38;5;241m*\u001b[39m\u001b[38;5;241m*\u001b[39mkwargs)\n",
      "File \u001b[1;32m~\\anaconda3\\lib\\site-packages\\requests\\api.py:61\u001b[0m, in \u001b[0;36mrequest\u001b[1;34m(method, url, **kwargs)\u001b[0m\n\u001b[0;32m     57\u001b[0m \u001b[38;5;66;03m# By using the 'with' statement we are sure the session is closed, thus we\u001b[39;00m\n\u001b[0;32m     58\u001b[0m \u001b[38;5;66;03m# avoid leaving sockets open which can trigger a ResourceWarning in some\u001b[39;00m\n\u001b[0;32m     59\u001b[0m \u001b[38;5;66;03m# cases, and look like a memory leak in others.\u001b[39;00m\n\u001b[0;32m     60\u001b[0m \u001b[38;5;28;01mwith\u001b[39;00m sessions\u001b[38;5;241m.\u001b[39mSession() \u001b[38;5;28;01mas\u001b[39;00m session:\n\u001b[1;32m---> 61\u001b[0m     \u001b[38;5;28;01mreturn\u001b[39;00m session\u001b[38;5;241m.\u001b[39mrequest(method\u001b[38;5;241m=\u001b[39mmethod, url\u001b[38;5;241m=\u001b[39murl, \u001b[38;5;241m*\u001b[39m\u001b[38;5;241m*\u001b[39mkwargs)\n",
      "File \u001b[1;32m~\\anaconda3\\lib\\site-packages\\requests\\sessions.py:529\u001b[0m, in \u001b[0;36mSession.request\u001b[1;34m(self, method, url, params, data, headers, cookies, files, auth, timeout, allow_redirects, proxies, hooks, stream, verify, cert, json)\u001b[0m\n\u001b[0;32m    524\u001b[0m send_kwargs \u001b[38;5;241m=\u001b[39m {\n\u001b[0;32m    525\u001b[0m     \u001b[38;5;124m'\u001b[39m\u001b[38;5;124mtimeout\u001b[39m\u001b[38;5;124m'\u001b[39m: timeout,\n\u001b[0;32m    526\u001b[0m     \u001b[38;5;124m'\u001b[39m\u001b[38;5;124mallow_redirects\u001b[39m\u001b[38;5;124m'\u001b[39m: allow_redirects,\n\u001b[0;32m    527\u001b[0m }\n\u001b[0;32m    528\u001b[0m send_kwargs\u001b[38;5;241m.\u001b[39mupdate(settings)\n\u001b[1;32m--> 529\u001b[0m resp \u001b[38;5;241m=\u001b[39m \u001b[38;5;28mself\u001b[39m\u001b[38;5;241m.\u001b[39msend(prep, \u001b[38;5;241m*\u001b[39m\u001b[38;5;241m*\u001b[39msend_kwargs)\n\u001b[0;32m    531\u001b[0m \u001b[38;5;28;01mreturn\u001b[39;00m resp\n",
      "File \u001b[1;32m~\\anaconda3\\lib\\site-packages\\requests\\sessions.py:645\u001b[0m, in \u001b[0;36mSession.send\u001b[1;34m(self, request, **kwargs)\u001b[0m\n\u001b[0;32m    642\u001b[0m start \u001b[38;5;241m=\u001b[39m preferred_clock()\n\u001b[0;32m    644\u001b[0m \u001b[38;5;66;03m# Send the request\u001b[39;00m\n\u001b[1;32m--> 645\u001b[0m r \u001b[38;5;241m=\u001b[39m adapter\u001b[38;5;241m.\u001b[39msend(request, \u001b[38;5;241m*\u001b[39m\u001b[38;5;241m*\u001b[39mkwargs)\n\u001b[0;32m    647\u001b[0m \u001b[38;5;66;03m# Total elapsed time of the request (approximately)\u001b[39;00m\n\u001b[0;32m    648\u001b[0m elapsed \u001b[38;5;241m=\u001b[39m preferred_clock() \u001b[38;5;241m-\u001b[39m start\n",
      "File \u001b[1;32m~\\anaconda3\\lib\\site-packages\\requests\\adapters.py:501\u001b[0m, in \u001b[0;36mHTTPAdapter.send\u001b[1;34m(self, request, stream, timeout, verify, cert, proxies)\u001b[0m\n\u001b[0;32m    498\u001b[0m             \u001b[38;5;28;01mraise\u001b[39;00m\n\u001b[0;32m    500\u001b[0m \u001b[38;5;28;01mexcept\u001b[39;00m (ProtocolError, socket\u001b[38;5;241m.\u001b[39merror) \u001b[38;5;28;01mas\u001b[39;00m err:\n\u001b[1;32m--> 501\u001b[0m     \u001b[38;5;28;01mraise\u001b[39;00m \u001b[38;5;167;01mConnectionError\u001b[39;00m(err, request\u001b[38;5;241m=\u001b[39mrequest)\n\u001b[0;32m    503\u001b[0m \u001b[38;5;28;01mexcept\u001b[39;00m MaxRetryError \u001b[38;5;28;01mas\u001b[39;00m e:\n\u001b[0;32m    504\u001b[0m     \u001b[38;5;28;01mif\u001b[39;00m \u001b[38;5;28misinstance\u001b[39m(e\u001b[38;5;241m.\u001b[39mreason, ConnectTimeoutError):\n\u001b[0;32m    505\u001b[0m         \u001b[38;5;66;03m# TODO: Remove this in 3.0.0: see #2811\u001b[39;00m\n",
      "\u001b[1;31mConnectionError\u001b[0m: ('Connection aborted.', ConnectionResetError(10054, 'An existing connection was forcibly closed by the remote host', None, 10054, None))"
     ]
    },
    {
     "name": "stderr",
     "output_type": "stream",
     "text": [
      "packet queue is empty, aborting\n"
     ]
    }
   ],
   "source": [
    "trader.get_most_recent()\n",
    "api.subscribe_market_data(trader.instrument, (trader.get_tick_data, ))"
   ]
  },
  {
   "cell_type": "code",
   "execution_count": null,
   "metadata": {},
   "outputs": [],
   "source": [
    "api.unsubscribe_market_data(trader.instrument)\n",
    "if len(api.get_open_positions()) != 0: # if we have final open position(s) (netting and hedging)\n",
    "    api.close_all_for_symbol(trader.instrument)\n",
    "    print(2*\"\\n\" + \"{} | GOING NEUTRAL\".format(str(datetime.utcnow())) + \"\\n\")\n",
    "    time.sleep(20)\n",
    "    print(api.get_closed_positions_summary()[col])\n",
    "    trader.position = 0"
   ]
  },
  {
   "cell_type": "code",
   "execution_count": null,
   "metadata": {},
   "outputs": [],
   "source": [
    "trader.data.tail(10)"
   ]
  },
  {
   "cell_type": "code",
   "execution_count": null,
   "metadata": {},
   "outputs": [],
   "source": [
    "api.close()"
   ]
  },
  {
   "cell_type": "code",
   "execution_count": null,
   "metadata": {},
   "outputs": [],
   "source": []
  },
  {
   "cell_type": "markdown",
   "metadata": {},
   "source": [
    "##########################################################################################################"
   ]
  },
  {
   "cell_type": "markdown",
   "metadata": {},
   "source": [
    "(you can find the corresponding Video for the following lines of code in __Section 23__: Cloud Deployment (AWS) | Scheduling Trading Sessions | Full Automation)"
   ]
  },
  {
   "cell_type": "markdown",
   "metadata": {},
   "source": [
    "## How to Time/Schedule the End of a Trading Session (Simple Contrarian)"
   ]
  },
  {
   "cell_type": "code",
   "execution_count": null,
   "metadata": {},
   "outputs": [],
   "source": [
    "import pandas as pd\n",
    "import numpy as np\n",
    "import fxcmpy\n",
    "import time\n",
    "from datetime import datetime"
   ]
  },
  {
   "cell_type": "code",
   "execution_count": null,
   "metadata": {},
   "outputs": [],
   "source": [
    "api = fxcmpy.fxcmpy(config_file= \"fxcm.cfg\")"
   ]
  },
  {
   "cell_type": "code",
   "execution_count": null,
   "metadata": {},
   "outputs": [],
   "source": [
    "col = [\"tradeId\", \"amountK\", \"currency\", \"grossPL\", \"isBuy\"]"
   ]
  },
  {
   "cell_type": "code",
   "execution_count": null,
   "metadata": {},
   "outputs": [],
   "source": [
    "datetime.utcnow().time() # current utc time"
   ]
  },
  {
   "cell_type": "code",
   "execution_count": null,
   "metadata": {},
   "outputs": [],
   "source": [
    "pd.to_datetime(\"17:30\").time() # desired end of trading session (in utc time)"
   ]
  },
  {
   "cell_type": "code",
   "execution_count": null,
   "metadata": {},
   "outputs": [],
   "source": [
    "if datetime.utcnow().time() >= pd.to_datetime(\"17:30\").time():\n",
    "    print(\"Stop the Trading Session!\")"
   ]
  },
  {
   "cell_type": "code",
   "execution_count": null,
   "metadata": {},
   "outputs": [],
   "source": [
    "class ConTrader():\n",
    "    \n",
    "    def __init__(self, instrument, bar_length, window, units):\n",
    "        self.instrument = instrument\n",
    "        self.bar_length = pd.to_timedelta(bar_length) \n",
    "        self.tick_data = None\n",
    "        self.raw_data = None\n",
    "        self.data = None \n",
    "        self.ticks = 0\n",
    "        self.last_bar = None  \n",
    "        self.units = units\n",
    "        self.position = 0\n",
    "        \n",
    "        #*****************add strategy-specific attributes here******************\n",
    "        self.window = window\n",
    "        #************************************************************************        \n",
    "    \n",
    "    def get_most_recent(self, period = \"m1\", number = 10000):\n",
    "        while True:  \n",
    "            time.sleep(5)\n",
    "            df = api.get_candles(self.instrument, number = number, period = period, columns = [\"bidclose\", \"askclose\"])\n",
    "            df[self.instrument] = (df.bidclose + df.askclose) / 2\n",
    "            df = df[self.instrument].to_frame()\n",
    "            df = df.resample(self.bar_length, label = \"right\").last().dropna().iloc[:-1]\n",
    "            self.raw_data = df.copy()\n",
    "            self.last_bar = self.raw_data.index[-1]\n",
    "            if pd.to_datetime(datetime.utcnow()) - self.last_bar < self.bar_length:\n",
    "                break\n",
    "    \n",
    "    def get_tick_data(self, data, dataframe):\n",
    "        \n",
    "        self.ticks += 1\n",
    "        print(self.ticks, end = \" \")\n",
    "        \n",
    "        recent_tick = pd.to_datetime(data[\"Updated\"], unit = \"ms\")\n",
    "        \n",
    "        # define stop\n",
    "        if recent_tick.time() >= pd.to_datetime(\"09:27\").time():\n",
    "            api.unsubscribe_market_data(self.instrument)\n",
    "            if len(api.get_open_positions()) != 0:\n",
    "                api.close_all_for_symbol(self.instrument)\n",
    "                print(2*\"\\n\" + \"{} | GOING NEUTRAL\".format(str(datetime.utcnow())) + \"\\n\")\n",
    "                time.sleep(20)\n",
    "                print(api.get_closed_positions_summary()[col])\n",
    "                self.position = 0\n",
    "                api.close()\n",
    "        \n",
    "        if recent_tick - self.last_bar > self.bar_length:\n",
    "            self.tick_data = dataframe.loc[self.last_bar:, [\"Bid\", \"Ask\"]]\n",
    "            self.tick_data[self.instrument] = (self.tick_data.Ask + self.tick_data.Bid)/2\n",
    "            self.tick_data = self.tick_data[self.instrument].to_frame()\n",
    "            self.resample_and_join()\n",
    "            self.define_strategy() \n",
    "            self.execute_trades()\n",
    "            \n",
    "    def resample_and_join(self):\n",
    "        self.raw_data = self.raw_data.append(self.tick_data.resample(self.bar_length, \n",
    "                                                             label=\"right\").last().ffill().iloc[:-1])\n",
    "        self.last_bar = self.raw_data.index[-1]  \n",
    "        \n",
    "    def define_strategy(self): # \"strategy-specific\"\n",
    "        df = self.raw_data.copy()\n",
    "        \n",
    "        #******************** define your strategy here ************************\n",
    "        df[\"returns\"] = np.log(df[self.instrument] / df[self.instrument].shift())\n",
    "        df[\"position\"] = -np.sign(df.returns.rolling(self.window).mean())\n",
    "        #***********************************************************************\n",
    "        \n",
    "        self.data = df.copy()\n",
    "    \n",
    "    def execute_trades(self):\n",
    "        if self.data[\"position\"].iloc[-1] == 1:\n",
    "            if self.position == 0:\n",
    "                order = api.create_market_buy_order(self.instrument, self.units)\n",
    "                self.report_trade(order, \"GOING LONG\")  \n",
    "            elif self.position == -1:\n",
    "                order = api.create_market_buy_order(self.instrument, self.units * 2)\n",
    "                self.report_trade(order, \"GOING LONG\")  \n",
    "            self.position = 1\n",
    "        elif self.data[\"position\"].iloc[-1] == -1: \n",
    "            if self.position == 0:\n",
    "                order = api.create_market_sell_order(self.instrument, self.units)\n",
    "                self.report_trade(order, \"GOING SHORT\")  \n",
    "            elif self.position == 1:\n",
    "                order = api.create_market_sell_order(self.instrument, self.units * 2)\n",
    "                self.report_trade(order, \"GOING SHORT\")  \n",
    "            self.position = -1\n",
    "        elif self.data[\"position\"].iloc[-1] == 0: \n",
    "            if self.position == -1:\n",
    "                order = api.create_market_buy_order(self.instrument, self.units)\n",
    "                self.report_trade(order, \"GOING NEUTRAL\")  \n",
    "            elif self.position == 1:\n",
    "                order = api.create_market_sell_order(self.instrument, self.units)\n",
    "                self.report_trade(order, \"GOING NEUTRAL\")  \n",
    "            self.position = 0\n",
    "\n",
    "    def report_trade(self, order, going):  \n",
    "        time = order.get_time()\n",
    "        units = api.get_open_positions().amountK.iloc[-1]\n",
    "        price = api.get_open_positions().open.iloc[-1]\n",
    "        unreal_pl = api.get_open_positions().grossPL.sum()\n",
    "        print(\"\\n\" + 100* \"-\")\n",
    "        print(\"{} | {}\".format(time, going))\n",
    "        print(\"{} | units = {} | price = {} | Unreal. P&L = {}\".format(time, units, price, unreal_pl))\n",
    "        print(100 * \"-\" + \"\\n\")\n",
    "        "
   ]
  },
  {
   "cell_type": "code",
   "execution_count": null,
   "metadata": {},
   "outputs": [],
   "source": [
    "trader = ConTrader(\"EUR/USD\", bar_length = \"1min\", window = 1, units = 100)"
   ]
  },
  {
   "cell_type": "code",
   "execution_count": null,
   "metadata": {},
   "outputs": [],
   "source": [
    "trader.get_most_recent()\n",
    "api.subscribe_market_data(trader.instrument, (trader.get_tick_data, ))"
   ]
  },
  {
   "cell_type": "code",
   "execution_count": null,
   "metadata": {},
   "outputs": [],
   "source": [
    "api.close()"
   ]
  },
  {
   "cell_type": "code",
   "execution_count": null,
   "metadata": {},
   "outputs": [],
   "source": []
  }
 ],
 "metadata": {
  "kernelspec": {
   "display_name": "Python 3 (ipykernel)",
   "language": "python",
   "name": "python3"
  },
  "language_info": {
   "codemirror_mode": {
    "name": "ipython",
    "version": 3
   },
   "file_extension": ".py",
   "mimetype": "text/x-python",
   "name": "python",
   "nbconvert_exporter": "python",
   "pygments_lexer": "ipython3",
   "version": "3.9.12"
  }
 },
 "nbformat": 4,
 "nbformat_minor": 2
}
